{
 "cells": [
  {
   "cell_type": "code",
   "execution_count": 1,
   "id": "55912dc1-c18e-4635-af5f-91afe1187227",
   "metadata": {
    "tags": []
   },
   "outputs": [
    {
     "name": "stdout",
     "output_type": "stream",
     "text": [
      "Credentials are valid! You may start using JUQCS now.\n"
     ]
    }
   ],
   "source": [
    "# Import Qiskit and qiskit-juqcs\n",
    "\n",
    "import qiskit\n",
    "from juqcs.provider import JuqcsProvider"
   ]
  },
  {
   "cell_type": "code",
   "execution_count": 2,
   "id": "d172c8cc-0375-4ba1-9c16-339c4d0be350",
   "metadata": {
    "tags": []
   },
   "outputs": [
    {
     "data": {
      "text/html": [
       "<h3>Version Information</h3><table><tr><th>Qiskit Software</th><th>Version</th></tr><tr><td><code>qiskit-terra</code></td><td>0.23.1</td></tr><tr><td><code>qiskit-aer</code></td><td>0.11.2</td></tr><tr><td><code>qiskit-ignis</code></td><td>0.7.1</td></tr><tr><td><code>qiskit-ibmq-provider</code></td><td>0.20.0</td></tr><tr><td><code>qiskit</code></td><td>0.41.0</td></tr><tr><td><code>qiskit-nature</code></td><td>0.5.2</td></tr><tr><td><code>qiskit-finance</code></td><td>0.3.4</td></tr><tr><td><code>qiskit-optimization</code></td><td>0.5.0</td></tr><tr><td><code>qiskit-machine-learning</code></td><td>0.5.0</td></tr><tr><th>System information</th></tr><tr><td>Python version</td><td>3.10.4</td></tr><tr><td>Python compiler</td><td>GCC 11.3.0</td></tr><tr><td>Python build</td><td>main, Jun 29 2023 16:19:43</td></tr><tr><td>OS</td><td>Linux</td></tr><tr><td>CPUs</td><td>16</td></tr><tr><td>Memory (Gb)</td><td>31.357826232910156</td></tr><tr><td colspan='2'>Thu Oct 05 16:07:17 2023 CEST</td></tr></table>"
      ],
      "text/plain": [
       "<IPython.core.display.HTML object>"
      ]
     },
     "metadata": {},
     "output_type": "display_data"
    }
   ],
   "source": [
    "import qiskit.tools.jupyter\n",
    "%qiskit_version_table\n"
   ]
  },
  {
   "cell_type": "code",
   "execution_count": 3,
   "id": "bd9cca5a-f1cc-4472-8bc1-08c17bd78a30",
   "metadata": {
    "tags": []
   },
   "outputs": [
    {
     "name": "stdout",
     "output_type": "stream",
     "text": [
      "Name: qiskit-juqcs\n",
      "Version: 0.8.0\n",
      "Summary: Qiskit provider for JUQCS (Juelich Universal Quantum Computer Simulator)\n",
      "Home-page: https://jugit.fz-juelich.de/qip/juniq-platform/qiskit-juqcs\n",
      "Author: Carlos Gonzalez, Cong Luo\n",
      "Author-email: c.gonzalez.calaza@fz-juelich.de, c.luo@fz-juelich.de\n",
      "License: MIT\n",
      "Location: /p/software/hdfcloud/stages/2023/software/Qiskit-juqcs/0.8.0-gpsmkl-2022a/lib/python3.10/site-packages\n",
      "Requires: numpy, python-dateutil, pyunicore, qiskit\n",
      "Required-by: \n"
     ]
    }
   ],
   "source": [
    "! pip show qiskit-juqcs"
   ]
  },
  {
   "cell_type": "code",
   "execution_count": 4,
   "id": "a87bb520-c54b-46fd-bb1e-4d40a32ab98e",
   "metadata": {
    "tags": []
   },
   "outputs": [
    {
     "name": "stdout",
     "output_type": "stream",
     "text": [
      "        ┌───┐                ░ ┌─┐         \n",
      "   q_0: ┤ H ├──■─────────────░─┤M├─────────\n",
      "        └───┘┌─┴─┐           ░ └╥┘┌─┐      \n",
      "   q_1: ─────┤ X ├──■────────░──╫─┤M├──────\n",
      "             └───┘┌─┴─┐      ░  ║ └╥┘┌─┐   \n",
      "   q_2: ──────────┤ X ├──■───░──╫──╫─┤M├───\n",
      "                  └───┘┌─┴─┐ ░  ║  ║ └╥┘┌─┐\n",
      "   q_3: ───────────────┤ X ├─░──╫──╫──╫─┤M├\n",
      "                       └───┘ ░  ║  ║  ║ └╥┘\n",
      "meas: 4/════════════════════════╩══╩══╩══╩═\n",
      "                                0  1  2  3 \n"
     ]
    }
   ],
   "source": [
    "# Create a quantum circuit\n",
    "\n",
    "nqubits = 4\n",
    "circuit = qiskit.QuantumCircuit(nqubits)\n",
    "circuit.h(0)\n",
    "for i in range(1,nqubits): \n",
    "    circuit.cx(i-1,i)\n",
    "circuit.measure_all()\n",
    "print(circuit)"
   ]
  },
  {
   "cell_type": "code",
   "execution_count": 5,
   "id": "e471fb80-1066-4400-b05f-c77640db4ed3",
   "metadata": {
    "tags": []
   },
   "outputs": [],
   "source": [
    "# Instantiate the JUQCS Provider and backend for submitting the quantum circuit\n",
    "provider = JuqcsProvider()\n",
    "\n",
    "#  Select one of the backends by name:\n",
    "# ----------------------------------------------------------------------------------------------------\n",
    "# backend name               | description and specifications\n",
    "# ----------------------------------------------------------------------------------------------------\n",
    "# 'qasm_simulator'           | CPU version of qasm_simulator, support up to 40 qubits with 10000 shots\n",
    "# 'qasm_simulator_gpu'       | GPU version of qasm_simulator, support up to 37 qubits with 10000 shots\n",
    "# 'statevector_simulator'    | CPU version of statevector_simulator, support up to 20 qubits\n",
    "# 'statevector_simulator_gpu'| GPU version of statevector_simulator, support up to 20 qubits\n",
    "# ----------------------------------------------------------------------------------------------------\n",
    "\n",
    "# use qasm_simulator as an example\n",
    "backend = provider.get_backend('qasm_simulator')"
   ]
  },
  {
   "cell_type": "code",
   "execution_count": 6,
   "id": "893ec691-444c-463d-9627-6e7234fff345",
   "metadata": {
    "tags": []
   },
   "outputs": [
    {
     "name": "stdout",
     "output_type": "stream",
     "text": [
      "ALLOCATING...\n"
     ]
    },
    {
     "name": "stdout",
     "output_type": "stream",
     "text": [
      "Please choose one of the following projects to charge the allocation to: ['jqctst02', 'jqctst01']. Get rid of this prompt by actively passing a project string to the \"allocate\" method. jqctst02\n"
     ]
    },
    {
     "name": "stdout",
     "output_type": "stream",
     "text": [
      "Trying to allocate compute resources under project jqctst02, this may take a few minutes... (please do not abort, otherwise the allocation may be lost and the compute time wasted).\n",
      "Resource allocation #12341140 of 4 qubits available until 2023-10-05 16:51:25.\n"
     ]
    }
   ],
   "source": [
    "# Allocate resources on JURECA-DC_cpu for a given time, proportional to the nr. of qubits in the circuit\n",
    "\n",
    "print('ALLOCATING...')\n",
    "backend.allocate(minutes=30, max_qubits=nqubits) #, reservation='juniq-test')"
   ]
  },
  {
   "cell_type": "code",
   "execution_count": 7,
   "id": "aac5acb9-c862-406f-9351-722cb5b20267",
   "metadata": {
    "tags": []
   },
   "outputs": [
    {
     "name": "stdout",
     "output_type": "stream",
     "text": [
      "SUBMITTING CIRCUITS...\n",
      "Submitting circuits for simulation, this may take a few minutes...\n"
     ]
    },
    {
     "data": {
      "text/plain": [
       "<JobStatus.DONE: 'job has successfully run'>"
      ]
     },
     "execution_count": 7,
     "metadata": {},
     "output_type": "execute_result"
    }
   ],
   "source": [
    "# Submit quantum circuit for execution on the allocated resources\n",
    "\n",
    "print('SUBMITTING CIRCUITS...')\n",
    "job = qiskit.execute(circuit, backend, shots=1000, seed=10)\n",
    "job.status()\n",
    "\n",
    "# Note: \n",
    "# Currently (12.2023), because of a known issue in job sheduling system in Jureca DC, \n",
    "# if the backend is \"qasm_simulator\" and the number of qubits is more than 34, only \n",
    "# one circuit can be submitted for each allocation."
   ]
  },
  {
   "cell_type": "code",
   "execution_count": 8,
   "id": "1de76c1b-348b-4cfe-916d-f47ece72bf79",
   "metadata": {
    "tags": []
   },
   "outputs": [
    {
     "name": "stdout",
     "output_type": "stream",
     "text": [
      "{'backend_name': 'qasm_simulator',\n",
      " 'backend_version': '0.1.0',\n",
      " 'date': '2023-10-05 16:24:24.379884',\n",
      " 'header': None,\n",
      " 'job_id': '9dbcb007-4c34-4cd8-b495-d0b42775d6d4',\n",
      " 'qobj_id': None,\n",
      " 'results': [{'data': {'counts': {'0x0': 510, '0xf': 490}},\n",
      "              'header': {'clbit_labels': [['meas', 0],\n",
      "                                          ['meas', 1],\n",
      "                                          ['meas', 2],\n",
      "                                          ['meas', 3]],\n",
      "                         'creg_sizes': [['meas', 4]],\n",
      "                         'global_phase': 0,\n",
      "                         'memory_slots': 4,\n",
      "                         'n_qubits': 4,\n",
      "                         'name': 'circuit-96',\n",
      "                         'qreg_sizes': [['q', 4]],\n",
      "                         'qubit_labels': [['q', 0],\n",
      "                                          ['q', 1],\n",
      "                                          ['q', 2],\n",
      "                                          ['q', 3]]},\n",
      "              'meas_level': 2,\n",
      "              'seed': 10,\n",
      "              'shots': 1000,\n",
      "              'status': 'DONE',\n",
      "              'success': True}],\n",
      " 'status': 'COMPLETED',\n",
      " 'success': True,\n",
      " 'time_taken': 121.34584331512451}\n"
     ]
    }
   ],
   "source": [
    "# Show quantum circuit simulation results\n",
    "\n",
    "from pprint import pprint\n",
    "result = job.result()\n",
    "pprint(result.to_dict())\n",
    "\n",
    "# Note: \n",
    "# For jobs that would require longer time for computational resources allocation, if \n",
    "# the user retrieves results after reconnecting to JUNIQ, it is recommended to save \n",
    "# the results to the file system of the Jupter environment for further loading, below\n",
    "# we provide one of the possibilities:\n",
    "# -------------------------------------------\n",
    "#   import json\n",
    "#   result = job.result()\n",
    "#   with open(\"results\", \"w\") as fp:\n",
    "#       json.dump(result.to_dict(), fp)"
   ]
  },
  {
   "cell_type": "code",
   "execution_count": 9,
   "id": "8cfeadc6-29f8-4ab6-bda1-5d42921be1f5",
   "metadata": {
    "tags": []
   },
   "outputs": [
    {
     "name": "stdout",
     "output_type": "stream",
     "text": [
      "DEALLOCATING...\n",
      "Trying to deallocate compute resources, this may take a few minutes...\n",
      "Allocation #12341140 revoked.\n"
     ]
    }
   ],
   "source": [
    "# Release the allocated resources so you don't get charged for what you don't use\n",
    "print('DEALLOCATING...')\n",
    "backend.deallocate()"
   ]
  }
 ],
 "metadata": {
  "kernelspec": {
   "display_name": "PyQuantum-2023.5",
   "language": "python",
   "name": "pyquantum-2023.5"
  },
  "language_info": {
   "codemirror_mode": {
    "name": "ipython",
    "version": 3
   },
   "file_extension": ".py",
   "mimetype": "text/x-python",
   "name": "python",
   "nbconvert_exporter": "python",
   "pygments_lexer": "ipython3",
   "version": "3.10.4"
  }
 },
 "nbformat": 4,
 "nbformat_minor": 5
}

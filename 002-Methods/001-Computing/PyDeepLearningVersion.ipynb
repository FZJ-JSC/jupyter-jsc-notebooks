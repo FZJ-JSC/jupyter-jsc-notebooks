{
 "cells": [
  {
   "attachments": {
    "88c90614-07ea-4ccb-aab3-7b63dc27a603.png": {
     "image/png": "[encoded data removed]"
    }
   },
   "cell_type": "markdown",
   "metadata": {},
   "source": [
    "<img src=attachment:88c90614-07ea-4ccb-aab3-7b63dc27a603.png width=400, height=41>\n",
    "\n",
    "Author: [Jonathan Windgassen](mailto:j.windgassen@fz-juelich.de)"
   ]
  },
  {
   "cell_type": "markdown",
   "metadata": {},
   "source": [
    "# Python Face Blurer\n",
    "\n",
    "This Script will scan any images in the *Images*-folder or any videos in the *Video*-folder for faces/persons using the [Faster RCNN Open Images V4 Neural Network](https://tfhub.dev/google/faster_rcnn/openimages_v4/inception_resnet_v2/1) and apply a blur to all findings.\n",
    "\n",
    "\n",
    "\n",
    "#### Table of Contents:\n",
    "1. Initializing the Project\n",
    "    - Creating the Folder Structure\n",
    "    - Imports\n",
    "    - Configuration\n",
    "2. Initializing the Blur\n",
    "    - Functions for bluring objects\n",
    "    - Functions for drawing boxes\n",
    "3. Loading the Classifier\n",
    "    - Pulling the Classifier\n",
    "    - Input and Output Parsing\n",
    "4. Fetching all Images and Video\n",
    "5. Run Classifier and Apply Blur\n",
    "    - Run Classifier over every Image and Video\n",
    "    - Save to Output folder\n",
    "    - Compact Frames into a Video\n",
    "6. Cleanup\n",
    "\n",
    "-----------------------------------------------------"
   ]
  },
  {
   "cell_type": "markdown",
   "metadata": {},
   "source": [
    "## Initializing the Project"
   ]
  },
  {
   "cell_type": "markdown",
   "metadata": {},
   "source": [
    "### Creating the Folder Structure\n",
    "\n",
    "For Python to find the Images and Videos it needs the path to the folders where the Images are stored. By default the notebook expects the following folder structure, but you can change the paths below if you want:\n",
    "<pre>\n",
    "├── face_blurer.ipynb\n",
    "├── Images\n",
    "│   ├── Image.png\n",
    "│   └── ...\n",
    "├── Images_Out\n",
    "├── Videos\n",
    "│   ├── Video.mp4\n",
    "│   └── ...\n",
    "└── Videos_Out\n",
    "</pre>\n",
    "\n",
    "Usage:\n",
    "- **Images**: Put all Images here that you want to have blured. OpenCV can load almost all file formats, but for a complete list look [here](https://docs.opencv.org/3.4/d4/da8/group__imgcodecs.html#ga288b8b3da0892bd651fce07b3bbd3a56).\n",
    "- **Images_Out**: After processing the new Images will be placed here. The name of the processed file can be specified in the config with *FILENAME_AFTER_BLURRING*.\n",
    "- **Videos**: Same deal as with the Images. Put all Videos here that you want to have processed.\n",
    "- **Videos_Out**: All processed Videos will be placed here after applying the algorithm. The new name will be the same as for the Images.\n",
    "\n",
    "> Note: If you want to load the files from a different place in storage you can do so by editing the variable in the configuration. More on that below! "
   ]
  },
  {
   "cell_type": "markdown",
   "metadata": {},
   "source": [
    "### Imports\n",
    "\n",
    "#### *Please use the PyDeepLearning*-kernel or the kernel from **kernel.ipynb** to run this\n",
    "\n",
    "Import everything we need for the whole operation.\n",
    "- The main package for the model will be tensorflow, which will internally use [TensorflowHub](https://tfhub.dev/) to download the network.\n",
    "- We will apply the blur using PIL, the Python Image Library that nativly gets delivered with python.\n",
    "- matplotlib will be used to display images in the notebook. Usefull if you want to see the results of the blurring directly."
   ]
  },
  {
   "cell_type": "code",
   "execution_count": null,
   "metadata": {},
   "outputs": [],
   "source": [
    "#######################################\n",
    "# Disable GPU Usage for TensorFlow\n",
    "#######################################\n",
    "import os\n",
    "os.environ['CUDA_VISIBLE_DEVICES'] = '-1'\n",
    "\n",
    "# Main package for the ANN\n",
    "import tensorflow as tf\n",
    "import tensorflow_hub as hub\n",
    "\n",
    "# Opening Files and Bluring\n",
    "import cv2 as cv\n",
    "import numpy as np\n",
    "\n",
    "# Displaying the image\n",
    "import matplotlib.pyplot as plt\n",
    "\n",
    "from time import time            # For measuring the inference time.\n",
    "from os import listdir           # Getting available files\n",
    "import re                        # Config\n",
    "import tempfile\n",
    "import shutil\n",
    "\n",
    "print(\"tensorflow version: \" + tf.__version__)\n",
    "print(\"OpenCV version: \" + cv.__version__)\n",
    "\n",
    "# Check available GPU devices.\n",
    "print(\"\\nNum GPUs Available: \", len(tf.config.experimental.list_physical_devices(\"GPU\")))"
   ]
  },
  {
   "cell_type": "markdown",
   "metadata": {},
   "source": [
    "### Configuration\n",
    "\n",
    "Here you can configure every aspect of the algorithm\n",
    "\n",
    "The most interesting option is probably *FILTER_OBJETCS*, where you can specify what object should be detected/blurred. You can see all available object classes in [this image](https://storage.googleapis.com/openimages/2018_04/bbox_labels_600_hierarchy_visualizer/circle.html) or take a direct look at the [Open Image Dataset](https://storage.googleapis.com/openimages/web/visualizer/index.html?). The filter is interpreted as a Regex, so you can also filter for multiple classes, eg. by chaining them together with `|` or using wildcard symbols like `.`. In most cases you'll probably want to use `Person` or `Human face`"
   ]
  },
  {
   "cell_type": "code",
   "execution_count": null,
   "metadata": {},
   "outputs": [],
   "source": [
    "FILTER_OBJECTS = \"Person\"  # Regex. What Object you want to detect. Everything else will be ignored.\n",
    "FILENAME_AFTER_BLURRING = \"{}_blured\"  # {} replaces the original filename. Don't add the extension (.jpg, .mp3) here\n",
    "DRAW_BOXES = False\n",
    "BLUR_OBJECTS = True\n",
    "BLUR_INTENSITY = 20\n",
    "EXTEND_BOXES = 20  # Increases the size of the boxes by x pixels in each direction\n",
    "\n",
    "FORCE_IMAGE_SIZE = (None, None)  # Leave at None for no changes. You are free to only resize one Dimension and leave the other\n",
    "FORCE_VIDEO_SIZE = (None, None)  # Same as above\n",
    "CROP_VIDEO_LENGTH = None         # Time in seconds after which videos will be cropped. Recommended for testing\n",
    "\n",
    "VIDEO_CACHE_FOLDER = None  # Before we output the final video all frames will be saved as a .png-file in a folder. If you specify a folder here they won't be deleted afterwards. Leave None to use a tempdir.\n",
    "FORCE_VIDEO_FORMAT = None  # Leave None for Original. You must not include the preceding \".\"\n",
    "VIDEO_BITRATE = None  # String or Integer. Leave None for default\n",
    "ENCODER = \"h264\"           # E.g. \"h264\", \"hevc\"(h265), \"asv1\" (AV1)\n",
    "\n",
    "# When paths are relative the origin will be the folder where this notebook is. You MUST put an / behind the folder paths\n",
    "IMAGE_INPUT_FOLDER = \"./Images/\"\n",
    "IMAGE_OUTPUT_FOLDER = \"./Images_Out/\"\n",
    "VIDEO_INPUT_FOLDER = \"./Videos/\"\n",
    "VIDEO_OUTPUT_FOLDER = \"./Videos_Out/\""
   ]
  },
  {
   "cell_type": "markdown",
   "metadata": {},
   "source": [
    "----------------------\n",
    "## Initializing the Blur"
   ]
  },
  {
   "cell_type": "markdown",
   "metadata": {},
   "source": [
    "### Functions for bluring objects"
   ]
  },
  {
   "cell_type": "code",
   "execution_count": null,
   "metadata": {},
   "outputs": [],
   "source": [
    "def blur_objects(image, boxes, names, confidence, min_score=0.1):\n",
    "    \"\"\"\n",
    "    Apply the results from the network to the image and blur the objects specified above.\n",
    "    \n",
    "    From the network return values we need to pass where the objects are, what each object is and how confident the network if about the detection.\n",
    "    Since those properties are given in seperate lists, each identified object needs to be in the same index for every parameter.\n",
    "    \n",
    "    :param image:      (numpy.ndarray) The image to be drawn on.\n",
    "    :param boxes:      (numpy.ndarray) An Array of shape (n, 4) with the 4 coordinates for each box. Cordinate must be [ymin, xmin, ymax, xmax]\n",
    "    :param names:      (numpy.ndarray) An Array of shape (n) with the name of each Object.\n",
    "    :param confidence: (numpy.ndarray) An Array of shape (n) with the confidence for each Object.\n",
    "    :param min_score:  (optional, int) The required confidence for the box to be applied\n",
    "    \"\"\"\n",
    "    \n",
    "    for i in range(boxes.shape[0]):\n",
    "        is_confident = confidence[i] >= min_score\n",
    "        is_in_filter = re.search(FILTER_OBJECTS, names[i]) is not None\n",
    "            \n",
    "        if is_confident and is_in_filter:\n",
    "            blur_object(image, boxes[i])\n",
    "\n",
    "\n",
    "def blur_object(image, coordinates, intensity=BLUR_INTENSITY):\n",
    "    height, width = image.shape[:2]\n",
    "    (ymin, xmin, ymax, xmax) = coordinates\n",
    "    \n",
    "    (x, w, y, h) = (int(xmin * width), int(xmax * width), int(ymin * height), int(ymax * height))\n",
    "    \n",
    "    # Blur the area of the face\n",
    "    sub_image = image[y:h, x:w]\n",
    "    sub_image = cv.blur(sub_image, (intensity, intensity))\n",
    "\n",
    "    # Apply blurred face back to image\n",
    "    image[y:h, x:w] = sub_image"
   ]
  },
  {
   "cell_type": "markdown",
   "metadata": {},
   "source": [
    "### Functions for drawing boxes"
   ]
  },
  {
   "cell_type": "code",
   "execution_count": null,
   "metadata": {},
   "outputs": [],
   "source": [
    "def draw_boxes(image, boxes, names, confidence, min_score=0.1):\n",
    "    \"\"\"\n",
    "    Apply the results from the network to the image and draw a box around each identified object.\n",
    "    \n",
    "    From the network return values we need to pass where the boxes are, what object each box represents and confident the network if about the detection.\n",
    "    Since those properties are given in seperate lists, each identified object needs to be in the same index for every parameter.\n",
    "    \n",
    "    :param image:      (numpy.ndarray) The image to be drawn on.\n",
    "    :param boxes:      (numpy.ndarray) An Array of shape (n, 4) with the 4 coordinates for each box. Cordinate must be [ymin, xmin, ymax, xmax]\n",
    "    :param names:      (numpy.ndarray) An Array of shape (n) with the name of each Object.\n",
    "    :param confidence: (numpy.ndarray) An Array of shape (n) with the confidence for each Object.\n",
    "    :param min_score:  (optional, int) The required confidence for the box to be applied\n",
    "    \"\"\"\n",
    "    \n",
    "    for i in range(boxes.shape[0]):\n",
    "        is_confident = confidence[i] >= min_score\n",
    "        is_in_filter = re.search(FILTER_OBJECTS, names[i]) is not None\n",
    "            \n",
    "        if is_confident and is_in_filter:\n",
    "            display_str = f\"{names[i]}: {int(100 * confidence[i])}%\"\n",
    "            draw_bounding_box_on_image(image, boxes[i], display_str)\n",
    "\n",
    "\n",
    "def draw_bounding_box_on_image(image, coordinates, label=\"\", color=(0, 0, 255), thickness=4):\n",
    "    \"\"\"\n",
    "    Adds a bounding box to an image.\n",
    "    \n",
    "    :param image:       (np.ndarray) The Image to be drawn on.\n",
    "    :param coordinates: (tuple) Coordinates of the Box: (ymin, xmin, ymax, xmax). Each coordinate must be between 0 and 1.\n",
    "    :param color:       (optional, str) 7-digit String representing the Color in the format of '#rrggbb'.\n",
    "    :param thickness:   (optional, int) How thick the box should be.\n",
    "    \"\"\"\n",
    "    # Draw the Box itself\n",
    "    height, width = image.shape[:2]\n",
    "    (left, top) = (int(coordinates[1] * width) - EXTEND_BOXES, int(coordinates[0] * height) - EXTEND_BOXES)\n",
    "    (width, height) = (int(coordinates[3] * width) - left + 2 * EXTEND_BOXES, int(coordinates[2] * height) - top + 2 * EXTEND_BOXES)\n",
    "    \n",
    "    image = cv.rectangle(image, (left, top, width, height), color, thickness)\n",
    "    \n",
    "    # Calculate text specs\n",
    "    (width, height), _ = cv.getTextSize(label, cv.FONT_HERSHEY_SIMPLEX, 0.6, 1)\n",
    "    height += 10\n",
    "    width += 10\n",
    "    position = top if top < height else top - height  # Move label to the inside if not enough space above the box\n",
    "    \n",
    "    # Draw Text\n",
    "    rect = (left, position, width, height)\n",
    "    image = cv.rectangle(image, rect, color, -1)\n",
    "    image = cv.putText(image, label, (left + 5, position + height - 5), cv.FONT_HERSHEY_SIMPLEX, 0.6, (255, 255, 255))"
   ]
  },
  {
   "cell_type": "markdown",
   "metadata": {},
   "source": [
    "--------------\n",
    "## Loading the Classifier"
   ]
  },
  {
   "cell_type": "markdown",
   "metadata": {},
   "source": [
    "### Pulling the Classifier\n",
    "\n",
    "Here we use tensorflow_hub to Pull the ANN from the [Tensorflow Hub](https://tfhub.dev/google/faster_rcnn/openimages_v4/inception_resnet_v2/1). Be aware that depending on your setup the loading can take a few minutes."
   ]
  },
  {
   "cell_type": "code",
   "execution_count": null,
   "metadata": {},
   "outputs": [],
   "source": [
    "module_handle = \"./model\"\n",
    "classifier = hub.load(module_handle).signatures['default']"
   ]
  },
  {
   "cell_type": "markdown",
   "metadata": {},
   "source": [
    "# Input and Output Parsing\n",
    "\n",
    "These Functions will load an Image as an numpy.ndarray, which will then be passed to *run_detector*, were they will be converted to the right format and passed to the classifier"
   ]
  },
  {
   "cell_type": "code",
   "execution_count": null,
   "metadata": {},
   "outputs": [],
   "source": [
    "def display_image(image):\n",
    "    \"\"\"Displays the image to the screen.\"\"\"\n",
    "    plt.figure(figsize=(20, 15))\n",
    "    plt.grid(False)\n",
    "    plt.axis(\"off\")\n",
    "    \n",
    "    plt.imshow(image)\n",
    "\n",
    "\n",
    "def open_image(path, display=False, resolution=FORCE_IMAGE_SIZE):\n",
    "    \"\"\"\n",
    "    Open and format an image from disk.\n",
    "    \n",
    "    Open a picture from file in the path variable. After if gets resized and converted to RGB if neccesary. If chosen if will also be displayed. \n",
    "    \n",
    "    :param path:    (str) The path to the Picture.\n",
    "    :param display: (boolean, optional) Whether you want the image displayed\n",
    "    :param width:   (tuple, optional) The desired resolution after rescaling.\n",
    "    \"\"\"\n",
    "    image = cv.imread(path, cv.IMREAD_COLOR)\n",
    "    \n",
    "    if (resolution != (None, None)):\n",
    "        width = resolution[0] or image.shape[1]\n",
    "        height = resolution[1] or image.shape[0]\n",
    "        \n",
    "        image = cv.resize(image, dsize=(width, height), interpolation=cv.INTER_CUBIC)\n",
    "    \n",
    "    if display:\n",
    "        display_image(image)\n",
    "    \n",
    "    return image\n",
    "\n",
    "\n",
    "def run_detector(detector, image):\n",
    "    \"\"\"\n",
    "    Runs the given classifier on the given image. Only works with detectors that accept the same input format as the original one.\n",
    "    \n",
    "    \n",
    "    :param detector: (A trackable Object) The Classifier.\n",
    "    :param image:    (np.ndarray) The Image.\n",
    "    :return:         (Dict) A Dictionary with the objects found by the Classifier.\n",
    "    \"\"\"\n",
    "    img = image.astype(np.float32)\n",
    "    img = np.expand_dims(img, axis=0)  # add required additional dimension. Same as img[np.newaxis, :], but better readable\n",
    "    img /= 255  # Normalize\n",
    "    \n",
    "    result = detector(tf.convert_to_tensor(img))\n",
    "    \n",
    "    # Extract the numeric values\n",
    "    result = {key: value.numpy() for key, value in result.items()}\n",
    "    result[\"detection_class_entities\"] = [name.decode('ascii') for name in result[\"detection_class_entities\"]]\n",
    "    \n",
    "    return result"
   ]
  },
  {
   "cell_type": "markdown",
   "metadata": {},
   "source": [
    "--------------\n",
    "## Fetching all Images and Videos"
   ]
  },
  {
   "cell_type": "code",
   "execution_count": null,
   "metadata": {},
   "outputs": [],
   "source": [
    "images = listdir(IMAGE_INPUT_FOLDER)\n",
    "videos = listdir(VIDEO_INPUT_FOLDER)\n",
    "\n",
    "# Remove hidden files (Starting with .) and convert to an tuple with (name, format)\n",
    "images = [[file.split(\".\")[0], file.split(\".\")[-1]] for file in images if not file.startswith(\".\")]\n",
    "videos = [[file.split(\".\")[0], file.split(\".\")[-1]] for file in videos if not file.startswith(\".\")]\n",
    "\n",
    "print(f\"Found {len(images)} Images\")\n",
    "print(f\"Found {len(videos)} Videos\")"
   ]
  },
  {
   "cell_type": "markdown",
   "metadata": {},
   "source": [
    "---------------------\n",
    "\n",
    "## Run Classifier and Blur"
   ]
  },
  {
   "cell_type": "markdown",
   "metadata": {},
   "source": [
    "### Run Classifier on every Image"
   ]
  },
  {
   "cell_type": "code",
   "execution_count": null,
   "metadata": {},
   "outputs": [],
   "source": [
    "for file in images:\n",
    "    image = open_image(IMAGE_INPUT_FOLDER + file[0] + \".\" + file[1])\n",
    "    start_time = time()\n",
    "    \n",
    "    #######################################\n",
    "    # Code that failes\n",
    "    #######################################\n",
    "    result = run_detector(classifier, image)\n",
    "        \n",
    "    if BLUR_OBJECTS:\n",
    "        blur_objects(image, result[\"detection_boxes\"], result[\"detection_class_entities\"], result[\"detection_scores\"])\n",
    "        \n",
    "    if DRAW_BOXES:\n",
    "        draw_boxes(image, result[\"detection_boxes\"], result[\"detection_class_entities\"], result[\"detection_scores\"])\n",
    "    \n",
    "    cv.imwrite(IMAGE_OUTPUT_FOLDER + FILENAME_AFTER_BLURRING.format(file[0]) + \".\" + file[1], image)\n",
    "    \n",
    "    print(f\"Name: {file[0]}\\t Format: {file[1]}\\t Size: {image.shape[1]}x{image.shape[0]}\\t Time: {time() - start_time:.2f}s\")"
   ]
  },
  {
   "cell_type": "markdown",
   "metadata": {},
   "source": [
    "### Run Classifier on every Video"
   ]
  },
  {
   "cell_type": "code",
   "execution_count": null,
   "metadata": {},
   "outputs": [],
   "source": [
    "cache_folder = VIDEO_CACHE_FOLDER if VIDEO_CACHE_FOLDER else tempfile.mkdtemp() + \"/\"\n",
    "print(f\"Using folder {cache_folder}\")\n",
    "\n",
    "for file in videos:\n",
    "    video = cv.VideoCapture(VIDEO_INPUT_FOLDER + file[0] + \".\" + file[1])\n",
    "    start_time = time()\n",
    "    \n",
    "    width = FORCE_VIDEO_SIZE[0] or int(video.get(cv.CAP_PROP_FRAME_WIDTH))\n",
    "    height = FORCE_VIDEO_SIZE[1] or int(video.get(cv.CAP_PROP_FRAME_HEIGHT))\n",
    "    \n",
    "    fps = video.get(cv.CAP_PROP_FPS)\n",
    "    resolution = (width, height)\n",
    "    frame_count = video.get(cv.CAP_PROP_FRAME_COUNT)\n",
    "    \n",
    "    # Will be needed for ffmpeg\n",
    "    file.append(fps)\n",
    "\n",
    "    # Create output folder\n",
    "    folderpath = f\"{cache_folder}{file[0]}-{file[1]}/\"\n",
    "    !mkdir $folderpath\n",
    "    file.append(folderpath)\n",
    "    \n",
    "    counter = 1\n",
    "    length = frame_count if CROP_VIDEO_LENGTH is None else int(CROP_VIDEO_LENGTH * fps)\n",
    "    while counter <= length:\n",
    "        success, frame = video.read()\n",
    "        \n",
    "        # If no new Frame could be loaded (aka the video ended)\n",
    "        if not success:\n",
    "            break\n",
    "        \n",
    "        # Print progress\n",
    "        if counter % int(length / 100) == 0:\n",
    "            percentage = int(counter * 100 / length) + 1\n",
    "            string = 'X' * percentage\n",
    "            print(f\"{percentage}% [{string.ljust(100)}] {counter}/{int(length)}\", end=\"\\r\")\n",
    "        \n",
    "        frame = cv.cvtColor(frame, cv.COLOR_BGR2RGB)\n",
    "        result = run_detector(classifier, frame)\n",
    "        \n",
    "        if BLUR_OBJECTS:\n",
    "            blur_objects(frame, result[\"detection_boxes\"], result[\"detection_class_entities\"], result[\"detection_scores\"])\n",
    "            \n",
    "        if DRAW_BOXES:\n",
    "            draw_boxes(frame, result[\"detection_boxes\"], result[\"detection_class_entities\"], result[\"detection_scores\"])\n",
    "        \n",
    "        # Resize Frames\n",
    "        if (FORCE_VIDEO_SIZE != (None, None)):\n",
    "            frame = cv.resize(frame, dsize=resolution, interpolation=cv.INTER_CUBIC)\n",
    "        \n",
    "        Save as png\n",
    "        frame = cv.cvtColor(frame, cv.COLOR_RGB2BGR)\n",
    "        name = f\"{folderpath}{str(counter).zfill(6)}.png\"\n",
    "        cv.imwrite(name, frame, [cv.IMWRITE_PNG_COMPRESSION, 4])\n",
    "        \n",
    "        \n",
    "        counter += 1\n",
    "    \n",
    "    video.release()\n",
    "    \n",
    "    print(f\"\\nName: {file[0]}\\t Format: {file[1]}\\t Size: {resolution}\\t FPS: {fps:.2f}\\t Duration: {(frame_count / fps):.1f}s\\t Time: {(time() - start_time):.2f}s\\n\")"
   ]
  },
  {
   "cell_type": "markdown",
   "metadata": {},
   "source": [
    "### Compact Frames into a Video\n",
    "\n",
    "As a final step the single Frames will be compressed into a Video-File\n",
    "\n",
    "TODO: Add Audio"
   ]
  },
  {
   "cell_type": "code",
   "execution_count": null,
   "metadata": {},
   "outputs": [],
   "source": [
    "for file in videos:\n",
    "    \n",
    "    print(file)\n",
    "    \n",
    "    input_files = f\"{file[3]}%06d.png\"\n",
    "    output_filename = f\"{VIDEO_OUTPUT_FOLDER}{FILENAME_AFTER_BLURRING.format(file[0])}.\" + (file[1] if FORCE_VIDEO_FORMAT is None else FORCE_VIDEO_FORMAT)\n",
    "    fps = file[2]\n",
    "    \n",
    "    options = \"\"\n",
    "    if VIDEO_BITRATE is not None:\n",
    "        options += f\" -b:v {VIDEO_BITRATE}\"\n",
    "    \n",
    "    !ffmpeg -i $input_files -framerate $fps -y $options -loglevel +info $output_filename"
   ]
  },
  {
   "cell_type": "markdown",
   "metadata": {},
   "source": [
    "## Cleanup\n",
    "\n",
    "Delete all tempdirs we created\n"
   ]
  },
  {
   "cell_type": "code",
   "execution_count": null,
   "metadata": {},
   "outputs": [],
   "source": [
    "if not VIDEO_CACHE_FOLDER:\n",
    "    shutil.rmtree(cache_folder)"
   ]
  }
 ],
 "metadata": {
  "kernelspec": {
   "display_name": "PyDeepLearning-1.0",
   "language": "python",
   "name": "pydeeplearning"
  },
  "language_info": {
   "codemirror_mode": {
    "name": "ipython",
    "version": 3
   },
   "file_extension": ".py",
   "mimetype": "text/x-python",
   "name": "python",
   "nbconvert_exporter": "python",
   "pygments_lexer": "ipython3",
   "version": "3.8.5"
  },
  "toc-autonumbering": false,
  "toc-showcode": false,
  "toc-showmarkdowntxt": false
 },
 "nbformat": 4,
 "nbformat_minor": 4
}

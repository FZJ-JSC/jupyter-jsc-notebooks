{
 "cells": [
  {
   "cell_type": "markdown",
   "metadata": {},
   "source": [
    "# Using Catalyst and ParaView in Jupyter Notebook"
   ]
  },
  {
   "cell_type": "markdown",
   "metadata": {},
   "source": [
    "This is the full Version, a less complex example can be seen in  [Catalyst_Example_minimal](Catalyst_Example_minimal.ipynb).\n",
    "\n",
    "This is setting up all components visible in the grafik below. Therefore giving you a notebook, that can issue ParaView commands to the pvserver, that is connected to a small sample simulation. The visualisation will be done in the notebook and is visible in your webbrowser.\n",
    "\n",
    "<img src=\"img/Communication.png\" width=\"400\">"
   ]
  },
  {
   "cell_type": "markdown",
   "metadata": {},
   "source": [
    "## Table of contents\n",
    "\n",
    "- Start pvserver\n",
    "- Start Catalyst enabled simulation\n",
    "- Setup Render Window in Browser\n",
    "- Show logging output in Jupyter notebook\n",
    "- Establish Catalyst Connection\n",
    "- Setup render pipeline using ParaView Python Commands\n",
    "- Additional usefull functions for using Catalyst in Notebook"
   ]
  },
  {
   "cell_type": "markdown",
   "metadata": {},
   "source": [
    "## Start pvserver\n",
    "Here we will start the pvserver on the same node as the notebook. It is possible to start the pvserver somewhere else, but then that will have to be done outside the notebook. Or using slurm, but then it is not known when the pvserver will be started (and where)"
   ]
  },
  {
   "cell_type": "code",
   "execution_count": null,
   "metadata": {},
   "outputs": [],
   "source": [
    "%%script bash --bg --proc server_process\n",
    "export OMP_NUM_THREADS=1\n",
    "pvserver --server-port=11223 > ${JUPYTER_LOG_DIR}/pvserver.log 2>&1"
   ]
  },
  {
   "cell_type": "markdown",
   "metadata": {},
   "source": [
    "## Start Catalyst enabled simulation\n",
    "Here a small sample simulation is started, that will run on the same node, and send random pressure data"
   ]
  },
  {
   "cell_type": "code",
   "execution_count": null,
   "metadata": {},
   "outputs": [],
   "source": [
    "%%script bash --bg --proc catalyst_process\n",
    "export OMP_NUM_THREADS=1\n",
    "pvpython CatalystEnabledSimulation/fedriver.py CatalystEnabledSimulation/cpscript.py > ${JUPYTER_LOG_DIR}/simulation.log 2>&1"
   ]
  },
  {
   "cell_type": "markdown",
   "metadata": {},
   "source": [
    "## Setup Render Window in Browser\n",
    "- loading needed python modules\n",
    "- Get URL to access this jupyter Lab\n",
    "- Using pvlink connect with the websocket provided by ParaView. Here using a connection to a pvserver as well. Additional examples and info for pvlink can be found [here](https://gitlab.version.fz-juelich.de/jupyter4jsc/j4j_extras/pvlink/-/blob/master/examples/Examples.ipynb \"pvlink Examples\").\n",
    "- displaying the render window in a box, to get control over the size of the render window"
   ]
  },
  {
   "cell_type": "code",
   "execution_count": null,
   "metadata": {},
   "outputs": [],
   "source": [
    "from paraview import simple\n",
    "from pvlink import RemoteRenderer\n",
    "from ipywidgets import Box\n",
    "from os import environ\n",
    "\n",
    "Jupyter_URL = \"jupyter-jsc.fz-juelich.de\" + environ.get('JUPYTERHUB_SERVICE_PREFIX', '/')\n",
    "renderer = RemoteRenderer(pvserverHost=\"localhost\", pvserverPort = 11223, baseURL=Jupyter_URL, useJupyterServerProxyHttps=True, disableExternalPort=True)\n",
    "\n",
    "Box(children=[renderer], layout={\"height\": \"800px\"})"
   ]
  },
  {
   "cell_type": "markdown",
   "metadata": {},
   "source": [
    "Setup a view, that will be used by ParaView, setting up parameters for smooth rendering in this setup (forcing the use of the pvserver to render, and not the client)."
   ]
  },
  {
   "cell_type": "code",
   "execution_count": null,
   "metadata": {},
   "outputs": [],
   "source": [
    "from pvlink.utility import SetRecommendedRenderSettings, ResetCamera\n",
    "\n",
    "# Cerate a view\n",
    "view = simple.FindViewOrCreate(\"test\", \"RenderView\")\n",
    "SetRecommendedRenderSettings(view)\n",
    "renderer.update_render()"
   ]
  },
  {
   "cell_type": "markdown",
   "metadata": {},
   "source": [
    "## Show logging output in Jupyter notebook\n",
    "\n",
    "Not all errors and warnings are visible in the notebook, by calling the ParaView functions. For example, opening a file, that is not avaiable (on the remote machine running pvserver), will not lead to an error on the call to the function. Only after the call to update/render the pipeline, accessing the file will be tried. An error/warning will then be noted in the log. In this example, we write logfiles for the simulation and pvserver, by simply redirecting their output into files. The output of the ParaView client can be enabled to write into a file using the following command. Afterwards we start a thread for each logfile we want to watch, that watches for changes and writes them as output to the last used Jupyter cell."
   ]
  },
  {
   "cell_type": "code",
   "execution_count": null,
   "metadata": {},
   "outputs": [],
   "source": [
    "from paraview.servermanager import vtk\n",
    "vtk.vtkLogger.LogToFile((environ.get('JUPYTER_LOG_DIR') + \"/paraview_client.log\"), vtk.vtkLogger.TRUNCATE, vtk.vtkLogger.VERBOSITY_WARNING) "
   ]
  },
  {
   "cell_type": "code",
   "execution_count": null,
   "metadata": {},
   "outputs": [],
   "source": [
    "import tailer\n",
    "from threading import Thread\n",
    "\n",
    "def tail(fileName, printPrefix=\"\"):\n",
    "    file = open(fileName, 'r')\n",
    "    for line in tailer.follow(file):\n",
    "        print(printPrefix + line)\n",
    "\n",
    "def tailInThread(fileName, printPrefix=\"\"):\n",
    "    thread = Thread(target=tail, kwargs=dict(fileName=str(fileName), printPrefix=str(printPrefix)))\n",
    "    thread.daemon=True\n",
    "    thread.start()\n",
    "\n",
    "tailInThread(environ.get('JUPYTER_LOG_DIR') + \"/pvserver.log\", \"pvserver: \")\n",
    "tailInThread(environ.get('JUPYTER_LOG_DIR') + \"/paraview_client.log\", \"paraview client: \")\n",
    "tailInThread(environ.get('JUPYTER_LOG_DIR') + \"/simulation.log\", \"simulation: \")"
   ]
  },
  {
   "cell_type": "markdown",
   "metadata": {},
   "source": [
    "## Establish Catalyst Connection\n",
    "Create the Object handeling the connection, before extracting data from the Simulation. Waiting is necessary, Because extracting the data does not work, unless the simulation is connected and one update has been performed since updating"
   ]
  },
  {
   "cell_type": "code",
   "execution_count": null,
   "metadata": {},
   "outputs": [],
   "source": [
    "catalyst = simple.CatalystConnection()"
   ]
  },
  {
   "cell_type": "code",
   "execution_count": null,
   "metadata": {},
   "outputs": [],
   "source": [
    "# open port for catalyst connection\n",
    "catalyst.Start()\n",
    "catalyst.AddUpdateFunction(renderer.update_render)\n",
    "catalyst.BlockTillConnected();"
   ]
  },
  {
   "cell_type": "code",
   "execution_count": null,
   "metadata": {},
   "outputs": [],
   "source": [
    "# wait till simulation connected\n",
    "catalyst.BlockTillConnected()\n",
    "# extract data from simulation\n",
    "# supplying a source name, that can be used to find the ParaView source.\n",
    "# In case of different named input, or multiple input ports, alows to choose the desired input, that should be extracted\n",
    "extract = catalyst.Extract(\"extract\")\n",
    "# block till there is an update for the simulation data\n",
    "catalyst.BlockTillNextUpdate()\n",
    "# display simulation data\n",
    "simple.SetActiveSource(extract)\n",
    "extractDisplay = simple.Show(extract, view)\n",
    "\n",
    "#ResetCamera(view, renderer)\n",
    "view.ResetCamera()\n",
    "view.CenterOfRotation = view.GetActiveCamera().GetFocalPoint()"
   ]
  },
  {
   "cell_type": "markdown",
   "metadata": {},
   "source": [
    "Connection has been established, and the simulation output is now visible above in the render window"
   ]
  },
  {
   "cell_type": "markdown",
   "metadata": {},
   "source": [
    "## Setup render pipeline using ParaView Python Commands\n",
    "To get the wished visualisation we need to setup the ParaView pipeline, to tell it what it is supposed to do with the data"
   ]
  },
  {
   "cell_type": "code",
   "execution_count": null,
   "metadata": {},
   "outputs": [],
   "source": [
    "# set scalar coloring\n",
    "simple.ColorBy(extractDisplay, (\"CELLS\", \"pressure\"))\n",
    "\n",
    "# rescale color and/or opacity maps used to include current data range\n",
    "extractDisplay.RescaleTransferFunctionToDataRange(True, False)\n",
    "\n",
    "# show color bar/color legend\n",
    "extractDisplay.SetScalarBarVisibility(view, True)\n",
    "\n",
    "# get color transfer function/color map for 'pressure'\n",
    "pressureLUT = simple.GetColorTransferFunction(\"pressure\")\n",
    "pressureLUT.RescaleTransferFunction(0.0, 1.0)\n",
    "\n",
    "# get opacity transfer function/opacity map for 'pressure'\n",
    "pressurePWF = simple.GetOpacityTransferFunction(\"pressure\")\n",
    "pressurePWF.RescaleTransferFunction(0.0, 1.0)\n",
    "\n",
    "# change representation type, for example wireframe or volume rendering\n",
    "#extractDisplay.SetRepresentationType(\"Wireframe\")\n",
    "extractDisplay.SetRepresentationType(\"Volume\");"
   ]
  },
  {
   "cell_type": "markdown",
   "metadata": {},
   "source": [
    "## Additional usefull functions for using Catalyst in Notebook\n",
    "it s possible to test for an establised connection yourself, allowing you to do other stuff while waiting for the connection, checking if it is still running..."
   ]
  },
  {
   "cell_type": "code",
   "execution_count": null,
   "metadata": {},
   "outputs": [],
   "source": [
    "print(catalyst.IsConnected())"
   ]
  },
  {
   "cell_type": "markdown",
   "metadata": {},
   "source": [
    "see if the simulation is paused by catalyst right now"
   ]
  },
  {
   "cell_type": "code",
   "execution_count": null,
   "metadata": {},
   "outputs": [],
   "source": [
    "print(catalyst.IsPaused())"
   ]
  },
  {
   "cell_type": "markdown",
   "metadata": {},
   "source": [
    "Check the last time step the simulation transmitted"
   ]
  },
  {
   "cell_type": "code",
   "execution_count": null,
   "metadata": {},
   "outputs": [],
   "source": [
    "print(catalyst.GetTimeStep())"
   ]
  },
  {
   "cell_type": "markdown",
   "metadata": {},
   "source": [
    "Pause the simulation on the next time step.\n",
    "To prevent accidential activation, you need to uncomment it before using it."
   ]
  },
  {
   "cell_type": "code",
   "execution_count": null,
   "metadata": {},
   "outputs": [],
   "source": [
    "#catalyst.SetPauseSimulation(True)"
   ]
  },
  {
   "cell_type": "markdown",
   "metadata": {},
   "source": [
    "Let the simulation continue running\n",
    "To prevent accidential activation, you need to uncomment it before using it."
   ]
  },
  {
   "cell_type": "code",
   "execution_count": null,
   "metadata": {},
   "outputs": [],
   "source": [
    "#from time import sleep\n",
    "#sleep(3)\n",
    "#catalyst.SetPauseSimulation(False)"
   ]
  },
  {
   "cell_type": "markdown",
   "metadata": {},
   "source": [
    "Pause the Simulation on specified time step\n",
    "To prevent accidential activation, you need to uncomment it before using it."
   ]
  },
  {
   "cell_type": "code",
   "execution_count": null,
   "metadata": {},
   "outputs": [],
   "source": [
    "#catalyst.BlockTillTimeStepAndPause(275)"
   ]
  },
  {
   "cell_type": "markdown",
   "metadata": {},
   "source": [
    "To see all sources that are supplied by the simulation to ParaView, call this function"
   ]
  },
  {
   "cell_type": "code",
   "execution_count": null,
   "metadata": {},
   "outputs": [],
   "source": [
    "#print(catalyst.GetCatalystSources())"
   ]
  },
  {
   "cell_type": "markdown",
   "metadata": {},
   "source": [
    "Get help for one function, or see the list of all avaiable functions"
   ]
  },
  {
   "cell_type": "code",
   "execution_count": null,
   "metadata": {},
   "outputs": [],
   "source": [
    "catalyst.IsPaused?"
   ]
  },
  {
   "cell_type": "code",
   "execution_count": null,
   "metadata": {},
   "outputs": [],
   "source": [
    "help(catalyst)"
   ]
  },
  {
   "cell_type": "code",
   "execution_count": null,
   "metadata": {},
   "outputs": [],
   "source": []
  }
 ],
 "metadata": {
  "kernelspec": {
   "display_name": "PyParaView-5.8",
   "language": "python",
   "name": "pyparaview-5.8"
  },
  "language_info": {
   "codemirror_mode": {
    "name": "ipython",
    "version": 3
   },
   "file_extension": ".py",
   "mimetype": "text/x-python",
   "name": "python",
   "nbconvert_exporter": "python",
   "pygments_lexer": "ipython3",
   "version": "3.6.8"
  }
 },
 "nbformat": 4,
 "nbformat_minor": 4
}

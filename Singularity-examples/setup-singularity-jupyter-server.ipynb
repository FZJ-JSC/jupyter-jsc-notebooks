{
 "cells": [
  {
   "cell_type": "markdown",
   "metadata": {},
   "source": [
    "# Setup containerized Jupyter server for Jupyter-JSC\n",
    "\n",
    "This Jupyter notebook will explain how to setup a containerized Jupyter server at Jupyter-JSC. It makes use of the expert features described on page 22 in the training material available [here](https://jupyter-jsc.fz-juelich.de/nbviewer/github/FZJ-JSC/jupyter-jsc-notebooks/blob/master/Jupyter-JSC_supercomputing-in-the-browser.pdf). Please note, that setting up a containerized Jupyter server for the JupyterHub at JSC might introduce certain drawbacks to your Jupyter-JSC experience. Specifically, as you will be restricted to the exact software environment that is installed in your container environment, side-effects such as that the Singularity kernel from the other example will be listed, but not start-up (because Singularity is not available in the example Docker container image used here) might appear. Also, usage of SLURM batch scheduler commands is not possible, because the SLURM libraries at the JSC systems are not accessible from a per default Singularity environment. Please note, if these side-effects are not acceptable, you might rather use a containerized Jupyter kernel. Also, you can go back to a default Jupyter-JSC server environment anytime by deleting `$HOME/.jupyter/start_jupyter-jsc.sh` via traditional SSH-based access to the JSC systems.\n",
    "\n",
    "Requirements:\n",
    "\n",
    "* Jupyter server environment in a Docker (or Singularity) container\n",
    "* `container` group access for the JSC systems as described [here](https://apps.fz-juelich.de/jsc/hps/juwels/container-runtime.html#getting-access) in the docs\n"
   ]
  },
  {
   "cell_type": "markdown",
   "metadata": {},
   "source": [
    "Specify the filesystem location that stores the Singularity container image,"
   ]
  },
  {
   "cell_type": "code",
   "execution_count": 1,
   "metadata": {},
   "outputs": [],
   "source": [
    "IMAGE_TARGET_DIR=/p/project/cesmtst/hoeflich1/jupyter-base-notebook"
   ]
  },
  {
   "cell_type": "markdown",
   "metadata": {},
   "source": [
    "Convert the example Jupyter base-notebook (that is [available via Dockerhub](https://hub.docker.com/r/jupyter/base-notebook)) into a Singularity container image,"
   ]
  },
  {
   "cell_type": "code",
   "execution_count": 2,
   "metadata": {},
   "outputs": [],
   "source": [
    "mkdir -p ${IMAGE_TARGET_DIR}"
   ]
  },
  {
   "cell_type": "code",
   "execution_count": 3,
   "metadata": {},
   "outputs": [],
   "source": [
    "singularity pull ${IMAGE_TARGET_DIR}/jupyter-base-notebook.sif docker://jupyter/base-notebook &> singularity.log"
   ]
  },
  {
   "cell_type": "code",
   "execution_count": 4,
   "metadata": {},
   "outputs": [
    {
     "name": "stdout",
     "output_type": "stream",
     "text": [
      "INFO:    Using cached SIF image\n"
     ]
    }
   ],
   "source": [
    "cat singularity.log | grep -v warn"
   ]
  },
  {
   "cell_type": "markdown",
   "metadata": {},
   "source": [
    "Check that the Singularity image is available,"
   ]
  },
  {
   "cell_type": "code",
   "execution_count": 5,
   "metadata": {},
   "outputs": [
    {
     "name": "stdout",
     "output_type": "stream",
     "text": [
      "total 177M\n",
      "drwxr-sr-x 2 hoeflich1 cesmtst 4.0K Jan 19 12:52 .\n",
      "drwxr-sr-x 5 hoeflich1 cesmtst 4.0K Jan 19 12:52 ..\n",
      "-rwxr-xr-x 1 hoeflich1 cesmtst 183M Jan 19 12:52 jupyter-base-notebook.sif\n"
     ]
    }
   ],
   "source": [
    "ls -lah ${IMAGE_TARGET_DIR}"
   ]
  },
  {
   "cell_type": "markdown",
   "metadata": {},
   "source": [
    "Now, manually (!) specify the Singularity image filesystem location in the `start_jupyter-jsc.sh` script,"
   ]
  },
  {
   "cell_type": "code",
   "execution_count": 6,
   "metadata": {},
   "outputs": [
    {
     "name": "stdout",
     "output_type": "stream",
     "text": [
      "#!/bin/bash\n",
      "\n",
      "# Author: Katharina Höflich\n",
      "# Repository: https://github.com/FZJ-JSC/jupyter-jsc-notebooks\n",
      "\n",
      "SINGULARITY_IMAGE=/p/project/cesmtst/hoeflich1/jupyter-base-notebook/jupyter-base-notebook.sif\n",
      "JUPYTERJSC_USER_CMD=\"singularity exec ${SINGULARITY_IMAGE} jupyterhub-singleuser --config ${OLDPWD}/.config.py\"\n"
     ]
    }
   ],
   "source": [
    "cat start_jupyter-jsc.sh"
   ]
  },
  {
   "cell_type": "markdown",
   "metadata": {},
   "source": [
    "And copy the `start_jupyter-jsc.sh` script to the filesystem location expected by Jupyter-JSC,"
   ]
  },
  {
   "cell_type": "code",
   "execution_count": 7,
   "metadata": {},
   "outputs": [],
   "source": [
    "cp start_jupyter-jsc.sh $HOME/.jupyter/start_jupyter-jsc.sh"
   ]
  },
  {
   "cell_type": "markdown",
   "metadata": {},
   "source": [
    "Then, open a new JupyterLab server via the Jupyter-JSC control panel."
   ]
  }
 ],
 "metadata": {
  "kernelspec": {
   "display_name": "Bash",
   "language": "bash",
   "name": "bash"
  },
  "language_info": {
   "codemirror_mode": "shell",
   "file_extension": ".sh",
   "mimetype": "text/x-sh",
   "name": "bash"
  }
 },
 "nbformat": 4,
 "nbformat_minor": 4
}

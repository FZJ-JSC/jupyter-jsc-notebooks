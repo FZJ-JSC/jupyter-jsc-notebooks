{
 "cells": [
  {
   "cell_type": "markdown",
   "metadata": {},
   "source": [
    "# Welcome to the Jupyter-JSC Virtual Machine JupyterLab"
   ]
  },
  {
   "cell_type": "markdown",
   "metadata": {},
   "source": [
    "## Where is this JupyterLab running?"
   ]
  },
  {
   "cell_type": "markdown",
   "metadata": {},
   "source": [
    "This JupyterLab instance is running on a [virtual machine](https://www.techopedia.com/definition/4805/virtual-machine-vm) on the [HDF-Cloud](https://www.fz-juelich.de/ias/jsc/EN/Expertise/SciCloudServices/HDFCloud/_node.html). It is started as a [Docker Container](https://www.docker.com/resources/what-container)."
   ]
  },
  {
   "cell_type": "markdown",
   "metadata": {},
   "source": [
    "## How do I stop this JupyterLab?"
   ]
  },
  {
   "cell_type": "markdown",
   "metadata": {},
   "source": [
    "You can stop this JupyterLab in the Control Panel of Jupyter-JSC.  \n",
    "You can reach the Control Panel [here](https://jupyter-jsc.fz-juelich.de/hub/start) or in the menu File -> Hub Control Panel.  \n",
    "The JupyterLabs will be terminated after 30 days, so make sure your data is backed up."
   ]
  },
  {
   "cell_type": "markdown",
   "metadata": {},
   "source": [
    "## How can I upload files to JupyterLab?"
   ]
  },
  {
   "attachments": {
    "1c47754c-50b1-4af2-a84d-dedbb31bf6d5.png": {
     "image/png": "[encoded data removed]"
    }
   },
   "cell_type": "markdown",
   "metadata": {},
   "source": [
    "You can use git or you upload files with this button in the top left corner:  \n",
    "  \n",
    "![Upload files](attachment:1c47754c-50b1-4af2-a84d-dedbb31bf6d5.png \"Upload Files\")"
   ]
  },
  {
   "cell_type": "markdown",
   "metadata": {},
   "source": [
    "## How can I download a file from JupyterLab?"
   ]
  },
  {
   "cell_type": "markdown",
   "metadata": {},
   "source": [
    "Just right click on a file and click \"Download\"."
   ]
  },
  {
   "cell_type": "markdown",
   "metadata": {},
   "source": [
    "## How much memory do I have?"
   ]
  },
  {
   "cell_type": "markdown",
   "metadata": {},
   "source": [
    "You will see your resource quotas during the startup process of your JupyterLab.  "
   ]
  },
  {
   "cell_type": "markdown",
   "metadata": {},
   "source": [
    "## How much disk space do I have?"
   ]
  },
  {
   "cell_type": "markdown",
   "metadata": {},
   "source": [
    "You can store 25 GB of data in `/home/jovyan`.  "
   ]
  },
  {
   "cell_type": "markdown",
   "metadata": {},
   "source": [
    "# Collaborative work\n",
    "We offer four different solutions to share your work with your colleagues.  "
   ]
  },
  {
   "cell_type": "markdown",
   "metadata": {},
   "source": [
    "### GIT\n",
    "You can use the git command in a terminal to work on any git repositories.  "
   ]
  },
  {
   "cell_type": "markdown",
   "metadata": {},
   "source": [
    "### B2DROP"
   ]
  },
  {
   "cell_type": "markdown",
   "metadata": {},
   "source": [
    "You can easily mount your [B2DROP](https://b2drop.eudat.eu) files into this JupyterLab.  \n",
    "Just run the command `mount B2DROP` in a terminal and insert your [application credentials](https://eudat.eu/services/userdoc/b2drop#UserDocumentation-B2DROPUsage-WebDavclient)\\.  \n",
    "If you want to store your [application credentials](https://eudat.eu/services/userdoc/b2drop#UserDocumentation-B2DROPUsage-WebDavclient) add the following line to `/home/jovyan/work/.davfs2/secrets`:  \n",
    "```https://b2drop.eudat.eu/remote.php/webdav \\<USERNAME> \\<PASSWORD>```  \n",
    "To unmount it run `umount B2DROP`"
   ]
  },
  {
   "cell_type": "markdown",
   "metadata": {},
   "source": [
    "### JUST\n",
    "We use the [UFTP Service](https://apps.fz-juelich.de/jsc/hps/judac/uftp.html) to mount your files from the HPC Systems. This should be done automatically during the start process. You will find your `$HOME` directory at `/home/jovyan/JUST_HOMEs_readonly`. Currently, we mount it as readonly, because we're still testing this tool on Jupyter-JSC and don't want to risk any data loss. "
   ]
  }
 ],
 "metadata": {
  "kernelspec": {
   "display_name": "Python 3 (ipykernel)",
   "language": "python",
   "name": "python3"
  },
  "language_info": {
   "codemirror_mode": {
    "name": "ipython",
    "version": 3
   },
   "file_extension": ".py",
   "mimetype": "text/x-python",
   "name": "python",
   "nbconvert_exporter": "python",
   "pygments_lexer": "ipython3",
   "version": "3.8.5"
  }
 },
 "nbformat": 4,
 "nbformat_minor": 4
}

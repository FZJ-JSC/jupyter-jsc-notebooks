{
 "cells": [
  {
   "cell_type": "markdown",
   "metadata": {},
   "source": [
    "# 14.7. Creating a route planner for a road network"
   ]
  },
  {
   "cell_type": "code",
   "execution_count": null,
   "metadata": {},
   "outputs": [],
   "source": [
    "import io\n",
    "import zipfile\n",
    "import requests\n",
    "import networkx as nx\n",
    "import numpy as np\n",
    "import pandas as pd\n",
    "import json\n",
    "import smopy\n",
    "import matplotlib.pyplot as plt\n",
    "%matplotlib inline"
   ]
  },
  {
   "cell_type": "code",
   "execution_count": null,
   "metadata": {},
   "outputs": [],
   "source": [
    "url = ('https://github.com/ipython-books/'\n",
    "       'cookbook-2nd-data/blob/master/'\n",
    "       'road.zip?raw=true')\n",
    "r = io.BytesIO(requests.get(url).content)\n",
    "zipfile.ZipFile(r).extractall('data')\n",
    "g = nx.read_shp('data/tl_2013_06_prisecroads.shp')"
   ]
  },
  {
   "cell_type": "code",
   "execution_count": null,
   "metadata": {},
   "outputs": [],
   "source": [
    "sgs = list(nx.connected_component_subgraphs(\n",
    "    g.to_undirected()))\n",
    "i = np.argmax([len(sg) for sg in sgs])\n",
    "sg = sgs[i]\n",
    "len(sg)"
   ]
  },
  {
   "cell_type": "code",
   "execution_count": null,
   "metadata": {},
   "outputs": [],
   "source": [
    "pos0 = (36.6026, -121.9026)\n",
    "pos1 = (34.0569, -118.2427)"
   ]
  },
  {
   "cell_type": "code",
   "execution_count": null,
   "metadata": {},
   "outputs": [],
   "source": [
    "def get_path(n0, n1):\n",
    "    \"\"\"If n0 and n1 are connected nodes in the graph,\n",
    "    this function returns an array of point\n",
    "    coordinates along the road linking these two\n",
    "    nodes.\"\"\"\n",
    "    return np.array(json.loads(sg[n0][n1]['Json'])\n",
    "                    ['coordinates'])"
   ]
  },
  {
   "cell_type": "code",
   "execution_count": null,
   "metadata": {},
   "outputs": [],
   "source": [
    "# from https://stackoverflow.com/a/8859667/1595060\n",
    "EARTH_R = 6372.8\n",
    "\n",
    "def geocalc(lat0, lon0, lat1, lon1):\n",
    "    \"\"\"Return the distance (in km) between two points\n",
    "    in geographical coordinates.\"\"\"\n",
    "    lat0 = np.radians(lat0)\n",
    "    lon0 = np.radians(lon0)\n",
    "    lat1 = np.radians(lat1)\n",
    "    lon1 = np.radians(lon1)\n",
    "    dlon = lon0 - lon1\n",
    "    y = np.sqrt((np.cos(lat1) * np.sin(dlon)) ** 2 +\n",
    "        (np.cos(lat0) * np.sin(lat1) - np.sin(lat0) *\n",
    "         np.cos(lat1) * np.cos(dlon)) ** 2)\n",
    "    x = np.sin(lat0) * np.sin(lat1) + \\\n",
    "        np.cos(lat0) * np.cos(lat1) * np.cos(dlon)\n",
    "    c = np.arctan2(y, x)\n",
    "    return EARTH_R * c"
   ]
  },
  {
   "cell_type": "code",
   "execution_count": null,
   "metadata": {},
   "outputs": [],
   "source": [
    "def get_path_length(path):\n",
    "    return np.sum(geocalc(path[1:, 1], path[1:, 0],\n",
    "                          path[:-1, 1], path[:-1, 0]))"
   ]
  },
  {
   "cell_type": "code",
   "execution_count": null,
   "metadata": {},
   "outputs": [],
   "source": [
    "# Compute the length of the road segments.\n",
    "for n0, n1 in sg.edges:\n",
    "    path = get_path(n0, n1)\n",
    "    distance = get_path_length(path)\n",
    "    sg.edges[n0, n1]['distance'] = distance"
   ]
  },
  {
   "cell_type": "code",
   "execution_count": null,
   "metadata": {},
   "outputs": [],
   "source": [
    "nodes = np.array(sg.nodes())\n",
    "# Get the closest nodes in the graph.\n",
    "pos0_i = np.argmin(\n",
    "    np.sum((nodes[:, ::-1] - pos0)**2, axis=1))\n",
    "pos1_i = np.argmin(\n",
    "    np.sum((nodes[:, ::-1] - pos1)**2, axis=1))"
   ]
  },
  {
   "cell_type": "code",
   "execution_count": null,
   "metadata": {},
   "outputs": [],
   "source": [
    "# Compute the shortest path.\n",
    "path = nx.shortest_path(\n",
    "    sg,\n",
    "    source=tuple(nodes[pos0_i]),\n",
    "    target=tuple(nodes[pos1_i]),\n",
    "    weight='distance')\n",
    "len(path)"
   ]
  },
  {
   "cell_type": "code",
   "execution_count": null,
   "metadata": {
    "podoc": {
     "output_text": "Output"
    }
   },
   "outputs": [],
   "source": [
    "roads = pd.DataFrame(\n",
    "    [sg.edges[path[i], path[i + 1]]\n",
    "     for i in range(len(path) - 1)],\n",
    "    columns=['FULLNAME', 'MTFCC',\n",
    "             'RTTYP', 'distance'])\n",
    "roads"
   ]
  },
  {
   "cell_type": "code",
   "execution_count": null,
   "metadata": {},
   "outputs": [],
   "source": [
    "roads['distance'].sum()"
   ]
  },
  {
   "cell_type": "code",
   "execution_count": null,
   "metadata": {},
   "outputs": [],
   "source": [
    "m = smopy.Map(pos0, pos1, z=7, margin=.1)"
   ]
  },
  {
   "cell_type": "code",
   "execution_count": null,
   "metadata": {},
   "outputs": [],
   "source": [
    "def get_full_path(path):\n",
    "    \"\"\"Return the positions along a path.\"\"\"\n",
    "    p_list = []\n",
    "    curp = None\n",
    "    for i in range(len(path) - 1):\n",
    "        p = get_path(path[i], path[i + 1])\n",
    "        if curp is None:\n",
    "            curp = p\n",
    "        if (np.sum((p[0] - curp) ** 2) >\n",
    "                np.sum((p[-1] - curp) ** 2)):\n",
    "            p = p[::-1, :]\n",
    "        p_list.append(p)\n",
    "        curp = p[-1]\n",
    "    return np.vstack(p_list)"
   ]
  },
  {
   "cell_type": "code",
   "execution_count": null,
   "metadata": {},
   "outputs": [],
   "source": [
    "linepath = get_full_path(path)\n",
    "x, y = m.to_pixels(linepath[:, 1], linepath[:, 0])"
   ]
  },
  {
   "cell_type": "code",
   "execution_count": null,
   "metadata": {
    "podoc": {
     "output_text": "<matplotlib.figure.Figure at 0x14957cc0>"
    }
   },
   "outputs": [],
   "source": [
    "ax = m.show_mpl(figsize=(8, 8))\n",
    "# Plot the itinerary.\n",
    "ax.plot(x, y, '-k', lw=3)\n",
    "# Mark our two positions.\n",
    "ax.plot(x[0], y[0], 'ob', ms=20)\n",
    "ax.plot(x[-1], y[-1], 'or', ms=20)"
   ]
  },
  {
   "cell_type": "markdown",
   "metadata": {},
   "source": [
    "### Cleanup"
   ]
  },
  {
   "cell_type": "code",
   "execution_count": null,
   "metadata": {},
   "outputs": [],
   "source": [
    "!rm -rf data"
   ]
  },
  {
   "cell_type": "code",
   "execution_count": null,
   "metadata": {},
   "outputs": [],
   "source": []
  }
 ],
 "metadata": {
  "kernelspec": {
   "display_name": "Python 3",
   "language": "python",
   "name": "python3"
  },
  "language_info": {
   "codemirror_mode": {
    "name": "ipython",
    "version": 3
   },
   "file_extension": ".py",
   "mimetype": "text/x-python",
   "name": "python",
   "nbconvert_exporter": "python",
   "pygments_lexer": "ipython3",
   "version": "3.6.8"
  }
 },
 "nbformat": 4,
 "nbformat_minor": 4
}

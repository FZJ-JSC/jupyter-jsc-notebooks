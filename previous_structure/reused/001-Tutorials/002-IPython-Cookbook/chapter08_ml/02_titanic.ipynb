{
 "cells": [
  {
   "cell_type": "markdown",
   "metadata": {},
   "source": [
    "# 8.2. Predicting who will survive on the Titanic with logistic regression"
   ]
  },
  {
   "cell_type": "code",
   "execution_count": null,
   "metadata": {},
   "outputs": [],
   "source": [
    "import numpy as np\n",
    "import pandas as pd\n",
    "import sklearn\n",
    "import sklearn.linear_model as lm\n",
    "import sklearn.model_selection as ms\n",
    "import matplotlib.pyplot as plt\n",
    "%matplotlib inline"
   ]
  },
  {
   "cell_type": "code",
   "execution_count": null,
   "metadata": {},
   "outputs": [],
   "source": [
    "train = pd.read_csv('https://github.com/ipython-books'\n",
    "                    '/cookbook-2nd-data/blob/master/'\n",
    "                    'titanic_train.csv?raw=true')\n",
    "test = pd.read_csv('https://github.com/ipython-books/'\n",
    "                   'cookbook-2nd-data/blob/master/'\n",
    "                   'titanic_test.csv?raw=true')"
   ]
  },
  {
   "cell_type": "code",
   "execution_count": null,
   "metadata": {
    "podoc": {
     "output_text": "Output"
    }
   },
   "outputs": [],
   "source": [
    "train[train.columns[[2, 4, 5, 1]]].head()"
   ]
  },
  {
   "cell_type": "code",
   "execution_count": null,
   "metadata": {
    "podoc": {
     "output_text": "Output"
    }
   },
   "outputs": [],
   "source": [
    "data = train[['Age', 'Pclass', 'Survived']]\n",
    "# Add a 'Female' column.\n",
    "data = data.assign(Female=train['Sex'] == 'female')\n",
    "# Reorder the columns.\n",
    "data = data[['Female', 'Age', 'Pclass', 'Survived']]\n",
    "data = data.dropna()\n",
    "data.head()"
   ]
  },
  {
   "cell_type": "code",
   "execution_count": null,
   "metadata": {},
   "outputs": [],
   "source": [
    "data_np = data.astype(np.int32).values\n",
    "X = data_np[:, :-1]\n",
    "y = data_np[:, -1]"
   ]
  },
  {
   "cell_type": "code",
   "execution_count": null,
   "metadata": {},
   "outputs": [],
   "source": [
    "# We define a few boolean vectors.\n",
    "# The first column is 'Female'.\n",
    "female = X[:, 0] == 1\n",
    "\n",
    "# The last column is 'Survived'.\n",
    "survived = y == 1\n",
    "\n",
    "# This vector contains the age of the passengers.\n",
    "age = X[:, 1]\n",
    "\n",
    "# We compute a few histograms.\n",
    "bins_ = np.arange(0, 81, 5)\n",
    "S = {'male': np.histogram(age[survived & ~female],\n",
    "                          bins=bins_)[0],\n",
    "     'female': np.histogram(age[survived & female],\n",
    "                            bins=bins_)[0]}\n",
    "D = {'male': np.histogram(age[~survived & ~female],\n",
    "                          bins=bins_)[0],\n",
    "     'female': np.histogram(age[~survived & female],\n",
    "                            bins=bins_)[0]}"
   ]
  },
  {
   "cell_type": "code",
   "execution_count": null,
   "metadata": {
    "podoc": {
     "output_text": "<matplotlib.figure.Figure at 0x5adbda0>"
    }
   },
   "outputs": [],
   "source": [
    "# We now plot the data.\n",
    "bins = bins_[:-1]\n",
    "fig, axes = plt.subplots(1, 2, figsize=(10, 3),\n",
    "                         sharey=True)\n",
    "for ax, sex, color in zip(axes, ('male', 'female'),\n",
    "                          ('#3345d0', '#cc3dc0')):\n",
    "    ax.bar(bins, S[sex], bottom=D[sex], color=color,\n",
    "           width=5, label='survived')\n",
    "    ax.bar(bins, D[sex], color='k',\n",
    "           width=5, label='died')\n",
    "    ax.set_xlim(0, 80)\n",
    "    ax.set_xlabel(\"Age (years)\")\n",
    "    ax.set_title(sex + \" survival\")\n",
    "    ax.grid(None)\n",
    "    ax.legend()"
   ]
  },
  {
   "cell_type": "code",
   "execution_count": null,
   "metadata": {},
   "outputs": [],
   "source": [
    "# We split X and y into train and test datasets.\n",
    "(X_train, X_test, y_train, y_test) = \\\n",
    "    ms.train_test_split(X, y, test_size=.05)"
   ]
  },
  {
   "cell_type": "code",
   "execution_count": null,
   "metadata": {},
   "outputs": [],
   "source": [
    "# We instanciate the classifier.\n",
    "logreg = lm.LogisticRegression()"
   ]
  },
  {
   "cell_type": "code",
   "execution_count": null,
   "metadata": {},
   "outputs": [],
   "source": [
    "logreg.fit(X_train, y_train)\n",
    "y_predicted = logreg.predict(X_test)"
   ]
  },
  {
   "cell_type": "code",
   "execution_count": null,
   "metadata": {
    "podoc": {
     "output_text": "<matplotlib.figure.Figure at 0x8f5d160>"
    }
   },
   "outputs": [],
   "source": [
    "fig, ax = plt.subplots(1, 1, figsize=(8, 3))\n",
    "ax.imshow(np.vstack((y_test, y_predicted)),\n",
    "          interpolation='none', cmap='bone')\n",
    "ax.set_axis_off()\n",
    "ax.set_title(\"Actual and predicted survival outcomes \"\n",
    "             \"on the test set\")"
   ]
  },
  {
   "cell_type": "code",
   "execution_count": null,
   "metadata": {},
   "outputs": [],
   "source": [
    "ms.cross_val_score(logreg, X, y)"
   ]
  },
  {
   "cell_type": "code",
   "execution_count": null,
   "metadata": {},
   "outputs": [],
   "source": [
    "grid = ms.GridSearchCV(\n",
    "    logreg, {'C': np.logspace(-5, 5, 200)}, n_jobs=4)\n",
    "grid.fit(X_train, y_train)\n",
    "grid.best_params_"
   ]
  },
  {
   "cell_type": "code",
   "execution_count": null,
   "metadata": {},
   "outputs": [],
   "source": [
    "ms.cross_val_score(grid.best_estimator_, X, y)"
   ]
  }
 ],
 "metadata": {
  "kernelspec": {
   "display_name": "Python 3",
   "language": "python",
   "name": "python3"
  },
  "language_info": {
   "codemirror_mode": {
    "name": "ipython",
    "version": 3
   },
   "file_extension": ".py",
   "mimetype": "text/x-python",
   "name": "python",
   "nbconvert_exporter": "python",
   "pygments_lexer": "ipython3",
   "version": "3.6.8"
  }
 },
 "nbformat": 4,
 "nbformat_minor": 4
}

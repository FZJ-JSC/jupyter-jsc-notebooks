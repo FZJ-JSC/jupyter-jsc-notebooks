{
 "cells": [
  {
   "cell_type": "markdown",
   "metadata": {},
   "source": [
    "# 8.1. Getting started with scikit-learn"
   ]
  },
  {
   "cell_type": "code",
   "execution_count": null,
   "metadata": {},
   "outputs": [],
   "source": [
    "import numpy as np\n",
    "import scipy.stats as st\n",
    "import sklearn.linear_model as lm\n",
    "import matplotlib.pyplot as plt\n",
    "%matplotlib inline"
   ]
  },
  {
   "cell_type": "code",
   "execution_count": null,
   "metadata": {},
   "outputs": [],
   "source": [
    "def f(x):\n",
    "    return np.exp(3 * x)"
   ]
  },
  {
   "cell_type": "code",
   "execution_count": null,
   "metadata": {},
   "outputs": [],
   "source": [
    "x_tr = np.linspace(0., 2, 200)\n",
    "y_tr = f(x_tr)"
   ]
  },
  {
   "cell_type": "code",
   "execution_count": null,
   "metadata": {},
   "outputs": [],
   "source": [
    "x = np.array([0, .1, .2, .5, .8, .9, 1])\n",
    "y = f(x) + 2 * np.random.randn(len(x))"
   ]
  },
  {
   "cell_type": "code",
   "execution_count": null,
   "metadata": {
    "podoc": {
     "output_text": "<matplotlib.figure.Figure at 0x7978470>"
    }
   },
   "outputs": [],
   "source": [
    "fig, ax = plt.subplots(1, 1, figsize=(6, 3))\n",
    "ax.plot(x_tr, y_tr, '--k')\n",
    "ax.plot(x, y, 'ok', ms=10)\n",
    "ax.set_xlim(0, 1.5)\n",
    "ax.set_ylim(-10, 80)\n",
    "ax.set_title('Generative model')"
   ]
  },
  {
   "cell_type": "code",
   "execution_count": null,
   "metadata": {},
   "outputs": [],
   "source": [
    "# We create the model.\n",
    "lr = lm.LinearRegression()\n",
    "# We train the model on our training dataset.\n",
    "lr.fit(x[:, np.newaxis], y)\n",
    "# Now, we predict points with our trained model.\n",
    "y_lr = lr.predict(x_tr[:, np.newaxis])"
   ]
  },
  {
   "cell_type": "code",
   "execution_count": null,
   "metadata": {
    "podoc": {
     "output_text": "<matplotlib.figure.Figure at 0x82eae10>"
    }
   },
   "outputs": [],
   "source": [
    "fig, ax = plt.subplots(1, 1, figsize=(6, 3))\n",
    "ax.plot(x_tr, y_tr, '--k')\n",
    "ax.plot(x_tr, y_lr, 'g')\n",
    "ax.plot(x, y, 'ok', ms=10)\n",
    "ax.set_xlim(0, 1.5)\n",
    "ax.set_ylim(-10, 80)\n",
    "ax.set_title(\"Linear regression\")"
   ]
  },
  {
   "cell_type": "code",
   "execution_count": null,
   "metadata": {
    "podoc": {
     "output_text": "<matplotlib.figure.Figure at 0x82d34a8>"
    }
   },
   "outputs": [],
   "source": [
    "lrp = lm.LinearRegression()\n",
    "fig, ax = plt.subplots(1, 1, figsize=(6, 3))\n",
    "ax.plot(x_tr, y_tr, '--k')\n",
    "\n",
    "for deg, s in zip([2, 5], ['-', '.']):\n",
    "    lrp.fit(np.vander(x, deg + 1), y)\n",
    "    y_lrp = lrp.predict(np.vander(x_tr, deg + 1))\n",
    "    ax.plot(x_tr, y_lrp, s,\n",
    "            label=f'degree {deg}')\n",
    "    ax.legend(loc=2)\n",
    "    ax.set_xlim(0, 1.5)\n",
    "    ax.set_ylim(-10, 80)\n",
    "    # Print the model's coefficients.\n",
    "    print(f'Coefficients, degree {deg}:\\n\\t',\n",
    "          ' '.join(f'{c:.2f}' for c in lrp.coef_))\n",
    "ax.plot(x, y, 'ok', ms=10)\n",
    "ax.set_title(\"Linear regression\")"
   ]
  },
  {
   "cell_type": "code",
   "execution_count": null,
   "metadata": {
    "podoc": {
     "output_text": "<matplotlib.figure.Figure at 0x81b99e8>"
    }
   },
   "outputs": [],
   "source": [
    "ridge = lm.RidgeCV()\n",
    "\n",
    "fig, ax = plt.subplots(1, 1, figsize=(6, 3))\n",
    "ax.plot(x_tr, y_tr, '--k')\n",
    "\n",
    "for deg, s in zip([2, 5], ['-', '.']):\n",
    "    ridge.fit(np.vander(x, deg + 1), y)\n",
    "    y_ridge = ridge.predict(np.vander(x_tr, deg + 1))\n",
    "    ax.plot(x_tr, y_ridge, s,\n",
    "            label='degree ' + str(deg))\n",
    "    ax.legend(loc=2)\n",
    "    ax.set_xlim(0, 1.5)\n",
    "    ax.set_ylim(-10, 80)\n",
    "    # Print the model's coefficients.\n",
    "    print(f'Coefficients, degree {deg}:',\n",
    "          ' '.join(f'{c:.2f}' for c in ridge.coef_))\n",
    "\n",
    "ax.plot(x, y, 'ok', ms=10)\n",
    "ax.set_title(\"Ridge regression\")"
   ]
  }
 ],
 "metadata": {
  "kernelspec": {
   "display_name": "Python 3",
   "language": "python",
   "name": "python3"
  },
  "language_info": {
   "codemirror_mode": {
    "name": "ipython",
    "version": 3
   },
   "file_extension": ".py",
   "mimetype": "text/x-python",
   "name": "python",
   "nbconvert_exporter": "python",
   "pygments_lexer": "ipython3",
   "version": "3.6.8"
  }
 },
 "nbformat": 4,
 "nbformat_minor": 4
}

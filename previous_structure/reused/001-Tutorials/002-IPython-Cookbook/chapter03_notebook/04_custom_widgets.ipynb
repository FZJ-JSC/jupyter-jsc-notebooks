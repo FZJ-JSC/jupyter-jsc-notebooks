{
 "cells": [
  {
   "cell_type": "markdown",
   "metadata": {},
   "source": [
    "# 3.4. Creating custom Jupyter Notebook widgets in Python, HTML, and JavaScript"
   ]
  },
  {
   "cell_type": "code",
   "execution_count": null,
   "metadata": {},
   "outputs": [],
   "source": [
    "import ipywidgets as widgets\n",
    "from traitlets import Unicode, Int, validate"
   ]
  },
  {
   "cell_type": "code",
   "execution_count": null,
   "metadata": {},
   "outputs": [],
   "source": [
    "class CounterWidget(widgets.DOMWidget):\n",
    "    _view_name = Unicode('CounterView').tag(sync=True)\n",
    "    _view_module = Unicode('counter').tag(sync=True)\n",
    "    value = Int(0).tag(sync=True)"
   ]
  },
  {
   "cell_type": "code",
   "execution_count": null,
   "metadata": {},
   "outputs": [],
   "source": [
    "%%javascript\n",
    "// We make sure the `counter` module is defined\n",
    "// only once.\n",
    "require.undef('counter');\n",
    "\n",
    "// We define the `counter` module depending on the\n",
    "// Jupyter widgets framework.\n",
    "define('counter', [\"@jupyter-widgets/base\"],\n",
    "       function(widgets) {\n",
    "\n",
    "    // We create the CounterView frontend class,\n",
    "    // deriving from DOMWidgetView.\n",
    "    var CounterView = widgets.DOMWidgetView.extend({\n",
    "\n",
    "        // This method creates the HTML widget.\n",
    "        render: function() {\n",
    "            // The value_changed() method should be\n",
    "            // called when the model's value changes\n",
    "            // on the kernel side.\n",
    "            this.value_changed();\n",
    "            this.model.on('change:value',\n",
    "                          this.value_changed, this);\n",
    "\n",
    "            var model = this.model;\n",
    "            var that = this;\n",
    "\n",
    "            // We create the plus and minus buttons.\n",
    "            this.bm = $('<button/>')\n",
    "            .text('-')\n",
    "            .click(function() {\n",
    "                // When the button is clicked,\n",
    "                // the model's value is updated.\n",
    "                var x = model.get('value');\n",
    "                model.set('value', x - 1);\n",
    "                that.touch();\n",
    "            });\n",
    "\n",
    "            this.bp = $('<button/>')\n",
    "            .text('+')\n",
    "            .click(function() {\n",
    "                var x = model.get('value');\n",
    "                model.set('value', x + 1);\n",
    "                that.touch();\n",
    "            });\n",
    "\n",
    "            // This element displays the current\n",
    "            // value of the counter.\n",
    "            this.span = $('<span />')\n",
    "            .text('0')\n",
    "            .css({marginLeft: '10px',\n",
    "                  marginRight: '10px'});\n",
    "\n",
    "            // this.el represents the widget's DOM\n",
    "            // element. We add the minus button,\n",
    "            // the span element, and the plus button.\n",
    "            $(this.el)\n",
    "            .append(this.bm)\n",
    "            .append(this.span)\n",
    "            .append(this.bp);\n",
    "        },\n",
    "\n",
    "        value_changed: function() {\n",
    "            // Update the displayed number when the\n",
    "            // counter's value changes.\n",
    "            var x = this.model.get('value');\n",
    "            $($(this.el).children()[1]).text(x);\n",
    "        },\n",
    "    });\n",
    "\n",
    "    return {\n",
    "        CounterView : CounterView\n",
    "    };\n",
    "});"
   ]
  },
  {
   "cell_type": "code",
   "execution_count": null,
   "metadata": {
    "podoc": {
     "output_text": "Custom widget"
    }
   },
   "outputs": [],
   "source": [
    "w = CounterWidget()\n",
    "w"
   ]
  },
  {
   "cell_type": "code",
   "execution_count": null,
   "metadata": {},
   "outputs": [],
   "source": [
    "print(w.value)"
   ]
  },
  {
   "cell_type": "code",
   "execution_count": null,
   "metadata": {
    "podoc": {
     "output_text": "Custom widget"
    }
   },
   "outputs": [],
   "source": [
    "w.value = 5"
   ]
  }
 ],
 "metadata": {
  "kernelspec": {
   "display_name": "Python 3",
   "language": "python",
   "name": "python3"
  },
  "language_info": {
   "codemirror_mode": {
    "name": "ipython",
    "version": 3
   },
   "file_extension": ".py",
   "mimetype": "text/x-python",
   "name": "python",
   "nbconvert_exporter": "python",
   "pygments_lexer": "ipython3",
   "version": "3.8.5"
  }
 },
 "nbformat": 4,
 "nbformat_minor": 4
}

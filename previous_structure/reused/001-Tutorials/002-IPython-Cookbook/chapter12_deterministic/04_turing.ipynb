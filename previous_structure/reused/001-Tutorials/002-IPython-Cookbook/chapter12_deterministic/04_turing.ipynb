{
 "cells": [
  {
   "cell_type": "markdown",
   "metadata": {},
   "source": [
    "# 12.4. Simulating a partial differential equation — reaction-diffusion systems and Turing patterns"
   ]
  },
  {
   "cell_type": "code",
   "execution_count": null,
   "metadata": {},
   "outputs": [],
   "source": [
    "import numpy as np\n",
    "import matplotlib.pyplot as plt\n",
    "%matplotlib inline"
   ]
  },
  {
   "cell_type": "code",
   "execution_count": null,
   "metadata": {},
   "outputs": [],
   "source": [
    "a = 2.8e-4\n",
    "b = 5e-3\n",
    "tau = .1\n",
    "k = -.005"
   ]
  },
  {
   "cell_type": "code",
   "execution_count": null,
   "metadata": {},
   "outputs": [],
   "source": [
    "size = 100  # size of the 2D grid\n",
    "dx = 2. / size  # space step"
   ]
  },
  {
   "cell_type": "code",
   "execution_count": null,
   "metadata": {},
   "outputs": [],
   "source": [
    "T = 9.0  # total time\n",
    "dt = .001  # time step\n",
    "n = int(T / dt)  # number of iterations"
   ]
  },
  {
   "cell_type": "code",
   "execution_count": null,
   "metadata": {},
   "outputs": [],
   "source": [
    "U = np.random.rand(size, size)\n",
    "V = np.random.rand(size, size)"
   ]
  },
  {
   "cell_type": "code",
   "execution_count": null,
   "metadata": {},
   "outputs": [],
   "source": [
    "def laplacian(Z):\n",
    "    Ztop = Z[0:-2, 1:-1]\n",
    "    Zleft = Z[1:-1, 0:-2]\n",
    "    Zbottom = Z[2:, 1:-1]\n",
    "    Zright = Z[1:-1, 2:]\n",
    "    Zcenter = Z[1:-1, 1:-1]\n",
    "    return (Ztop + Zleft + Zbottom + Zright -\n",
    "            4 * Zcenter) / dx**2"
   ]
  },
  {
   "cell_type": "code",
   "execution_count": null,
   "metadata": {},
   "outputs": [],
   "source": [
    "def show_patterns(U, ax=None):\n",
    "    ax.imshow(U, cmap=plt.cm.copper,\n",
    "              interpolation='bilinear',\n",
    "              extent=[-1, 1, -1, 1])\n",
    "    ax.set_axis_off()"
   ]
  },
  {
   "cell_type": "code",
   "execution_count": null,
   "metadata": {
    "podoc": {
     "output_text": "<matplotlib.figure.Figure at 0x7fc0438c4cf8>"
    }
   },
   "outputs": [],
   "source": [
    "fig, axes = plt.subplots(3, 3, figsize=(8, 8))\n",
    "step_plot = n // 9\n",
    "# We simulate the PDE with the finite difference\n",
    "# method.\n",
    "for i in range(n):\n",
    "    # We compute the Laplacian of u and v.\n",
    "    deltaU = laplacian(U)\n",
    "    deltaV = laplacian(V)\n",
    "    # We take the values of u and v inside the grid.\n",
    "    Uc = U[1:-1, 1:-1]\n",
    "    Vc = V[1:-1, 1:-1]\n",
    "    # We update the variables.\n",
    "    U[1:-1, 1:-1], V[1:-1, 1:-1] = \\\n",
    "        Uc + dt * (a * deltaU + Uc - Uc**3 - Vc + k),\\\n",
    "        Vc + dt * (b * deltaV + Uc - Vc) / tau\n",
    "    # Neumann conditions: derivatives at the edges\n",
    "    # are null.\n",
    "    for Z in (U, V):\n",
    "        Z[0, :] = Z[1, :]\n",
    "        Z[-1, :] = Z[-2, :]\n",
    "        Z[:, 0] = Z[:, 1]\n",
    "        Z[:, -1] = Z[:, -2]\n",
    "\n",
    "    # We plot the state of the system at\n",
    "    # 9 different times.\n",
    "    if i % step_plot == 0 and i < 9 * step_plot:\n",
    "        ax = axes.flat[i // step_plot]\n",
    "        show_patterns(U, ax=ax)\n",
    "        ax.set_title(f'$t={i * dt:.2f}$')"
   ]
  },
  {
   "cell_type": "code",
   "execution_count": null,
   "metadata": {
    "podoc": {
     "output_text": "<matplotlib.figure.Figure at 0x70db8d0>"
    }
   },
   "outputs": [],
   "source": [
    "fig, ax = plt.subplots(1, 1, figsize=(8, 8))\n",
    "show_patterns(U, ax=ax)"
   ]
  }
 ],
 "metadata": {
  "kernelspec": {
   "display_name": "Python 3",
   "language": "python",
   "name": "python3"
  },
  "language_info": {
   "codemirror_mode": {
    "name": "ipython",
    "version": 3
   },
   "file_extension": ".py",
   "mimetype": "text/x-python",
   "name": "python",
   "nbconvert_exporter": "python",
   "pygments_lexer": "ipython3",
   "version": "3.6.8"
  }
 },
 "nbformat": 4,
 "nbformat_minor": 4
}

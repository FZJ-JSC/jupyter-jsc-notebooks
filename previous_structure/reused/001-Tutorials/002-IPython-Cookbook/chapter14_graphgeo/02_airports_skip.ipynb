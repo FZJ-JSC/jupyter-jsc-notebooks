{
 "cells": [
  {
   "cell_type": "markdown",
   "metadata": {},
   "source": [
    "# 14.2. Drawing flight routes with NetworkX"
   ]
  },
  {
   "cell_type": "code",
   "execution_count": null,
   "metadata": {},
   "outputs": [],
   "source": [
    "import math\n",
    "import json\n",
    "import numpy as np\n",
    "import pandas as pd\n",
    "import networkx as nx\n",
    "import cartopy.crs as ccrs\n",
    "import matplotlib.pyplot as plt\n",
    "from IPython.display import Image\n",
    "%matplotlib inline"
   ]
  },
  {
   "cell_type": "code",
   "execution_count": null,
   "metadata": {},
   "outputs": [],
   "source": [
    "names = ('airline,airline_id,'\n",
    "         'source,source_id,'\n",
    "         'dest,dest_id,'\n",
    "         'codeshare,stops,equipment').split(',')"
   ]
  },
  {
   "cell_type": "code",
   "execution_count": null,
   "metadata": {
    "podoc": {
     "output_text": "Output"
    }
   },
   "outputs": [],
   "source": [
    "routes = pd.read_csv(\n",
    "    'https://github.com/ipython-books/'\n",
    "    'cookbook-2nd-data/blob/master/'\n",
    "    'routes.dat?raw=true',\n",
    "    names=names,\n",
    "    header=None)\n",
    "routes"
   ]
  },
  {
   "cell_type": "code",
   "execution_count": null,
   "metadata": {},
   "outputs": [],
   "source": [
    "names = ('id,name,city,country,iata,icao,lat,lon,'\n",
    "         'alt,timezone,dst,tz,type,source').split(',')"
   ]
  },
  {
   "cell_type": "code",
   "execution_count": null,
   "metadata": {
    "podoc": {
     "output_text": "Output"
    }
   },
   "outputs": [],
   "source": [
    "airports = pd.read_csv(\n",
    "    'https://github.com/ipython-books/'\n",
    "    'cookbook-2nd-data/blob/master/'\n",
    "    'airports.dat?raw=true',\n",
    "    header=None,\n",
    "    names=names,\n",
    "    index_col=4,\n",
    "    na_values='\\\\N')\n",
    "airports_us = airports[airports['country'] ==\n",
    "                       'United States']\n",
    "airports_us"
   ]
  },
  {
   "cell_type": "code",
   "execution_count": null,
   "metadata": {
    "podoc": {
     "output_text": "Output"
    }
   },
   "outputs": [],
   "source": [
    "routes_us = routes[\n",
    "    routes['source'].isin(airports_us.index) &\n",
    "    routes['dest'].isin(airports_us.index)]\n",
    "routes_us"
   ]
  },
  {
   "cell_type": "code",
   "execution_count": null,
   "metadata": {},
   "outputs": [],
   "source": [
    "edges = routes_us[['source', 'dest']].values\n",
    "edges"
   ]
  },
  {
   "cell_type": "code",
   "execution_count": null,
   "metadata": {},
   "outputs": [],
   "source": [
    "g = nx.from_edgelist(edges)"
   ]
  },
  {
   "cell_type": "code",
   "execution_count": null,
   "metadata": {},
   "outputs": [],
   "source": [
    "len(g.nodes()), len(g.edges())"
   ]
  },
  {
   "cell_type": "code",
   "execution_count": null,
   "metadata": {
    "podoc": {
     "output_text": "<matplotlib.figure.Figure at 0x7fc830810b38>"
    }
   },
   "outputs": [],
   "source": [
    "fig, ax = plt.subplots(1, 1, figsize=(6, 6))\n",
    "nx.draw_networkx(g, ax=ax, node_size=5,\n",
    "                 font_size=6, alpha=.5,\n",
    "                 width=.5)\n",
    "ax.set_axis_off()"
   ]
  },
  {
   "cell_type": "code",
   "execution_count": null,
   "metadata": {},
   "outputs": [],
   "source": [
    "sg = next(nx.connected_component_subgraphs(g))"
   ]
  },
  {
   "cell_type": "code",
   "execution_count": null,
   "metadata": {
    "podoc": {
     "output_text": "<matplotlib.figure.Figure at 0x7fc835a72710>"
    }
   },
   "outputs": [],
   "source": [
    "fig, ax = plt.subplots(1, 1, figsize=(6, 6))\n",
    "nx.draw_networkx(sg, ax=ax, with_labels=False,\n",
    "                 node_size=5, width=.5)\n",
    "ax.set_axis_off()"
   ]
  },
  {
   "cell_type": "code",
   "execution_count": null,
   "metadata": {},
   "outputs": [],
   "source": [
    "airports_us = airports_us.reset_index().drop_duplicates(subset='iata', keep='last').set_index('iata')\n",
    "pos = {airport: (v['lon'], v['lat'])\n",
    "       for airport, v in\n",
    "       airports_us.to_dict('index').items()}"
   ]
  },
  {
   "cell_type": "code",
   "execution_count": null,
   "metadata": {},
   "outputs": [],
   "source": [
    "deg = nx.degree(sg)\n",
    "sizes = [5 * deg[iata] for iata in sg.nodes]"
   ]
  },
  {
   "cell_type": "code",
   "execution_count": null,
   "metadata": {},
   "outputs": [],
   "source": [
    "altitude = airports_us['alt']\n",
    "altitude = [altitude[iata] for iata in sg.nodes]"
   ]
  },
  {
   "cell_type": "code",
   "execution_count": null,
   "metadata": {},
   "outputs": [],
   "source": [
    "labels = {iata: iata if deg[iata] >= 20 else ''\n",
    "          for iata in sg.nodes}"
   ]
  },
  {
   "cell_type": "code",
   "execution_count": null,
   "metadata": {
    "podoc": {
     "output_text": "<matplotlib.figure.Figure at 0x7fc83094f748>"
    }
   },
   "outputs": [],
   "source": [
    "# Map projection\n",
    "crs = ccrs.PlateCarree()\n",
    "fig, ax = plt.subplots(\n",
    "    1, 1, figsize=(12, 8),\n",
    "    subplot_kw=dict(projection=crs))\n",
    "ax.coastlines()\n",
    "# Extent of continental US.\n",
    "ax.set_extent([-128, -62, 20, 50])\n",
    "nx.draw_networkx(sg, ax=ax,\n",
    "                 font_size=16,\n",
    "                 alpha=.5,\n",
    "                 width=.075,\n",
    "                 node_size=sizes,\n",
    "                 labels=labels,\n",
    "                 pos=pos,\n",
    "                 node_color=altitude,\n",
    "                 cmap=plt.cm.autumn)"
   ]
  },
  {
   "cell_type": "code",
   "execution_count": null,
   "metadata": {},
   "outputs": [],
   "source": []
  }
 ],
 "metadata": {
  "kernelspec": {
   "display_name": "Python 3",
   "language": "python",
   "name": "python3"
  },
  "language_info": {
   "codemirror_mode": {
    "name": "ipython",
    "version": 3
   },
   "file_extension": ".py",
   "mimetype": "text/x-python",
   "name": "python",
   "nbconvert_exporter": "python",
   "pygments_lexer": "ipython3",
   "version": "3.8.5"
  }
 },
 "nbformat": 4,
 "nbformat_minor": 4
}

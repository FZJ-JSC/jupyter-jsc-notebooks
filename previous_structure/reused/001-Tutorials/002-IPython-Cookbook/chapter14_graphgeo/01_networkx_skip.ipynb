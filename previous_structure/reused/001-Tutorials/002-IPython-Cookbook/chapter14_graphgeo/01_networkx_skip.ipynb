{
 "cells": [
  {
   "cell_type": "markdown",
   "metadata": {},
   "source": [
    "# 14.1. Manipulating and visualizing graphs with NetworkX"
   ]
  },
  {
   "cell_type": "code",
   "execution_count": null,
   "metadata": {},
   "outputs": [],
   "source": [
    "import numpy as np\n",
    "import networkx as nx\n",
    "import matplotlib.pyplot as plt\n",
    "%matplotlib inline"
   ]
  },
  {
   "cell_type": "code",
   "execution_count": null,
   "metadata": {},
   "outputs": [],
   "source": [
    "n = 10  # Number of nodes in the graph.\n",
    "# Each node is connected to the two next nodes,\n",
    "# in a circular fashion.\n",
    "adj = [(i, (i + 1) % n) for i in range(n)]\n",
    "adj += [(i, (i + 2) % n) for i in range(n)]"
   ]
  },
  {
   "cell_type": "code",
   "execution_count": null,
   "metadata": {},
   "outputs": [],
   "source": [
    "g = nx.Graph(adj)"
   ]
  },
  {
   "cell_type": "code",
   "execution_count": null,
   "metadata": {},
   "outputs": [],
   "source": [
    "print(g.nodes())"
   ]
  },
  {
   "cell_type": "code",
   "execution_count": null,
   "metadata": {},
   "outputs": [],
   "source": [
    "print(g.edges())"
   ]
  },
  {
   "cell_type": "code",
   "execution_count": null,
   "metadata": {},
   "outputs": [],
   "source": [
    "print(nx.adjacency_matrix(g))"
   ]
  },
  {
   "cell_type": "code",
   "execution_count": null,
   "metadata": {
    "podoc": {
     "output_text": "<matplotlib.figure.Figure at 0x665edd8>"
    }
   },
   "outputs": [],
   "source": [
    "fig, ax = plt.subplots(1, 1, figsize=(6, 6))\n",
    "nx.draw_circular(g, ax=ax)"
   ]
  },
  {
   "cell_type": "code",
   "execution_count": null,
   "metadata": {},
   "outputs": [],
   "source": [
    "g.add_node(n, color='#fcff00')\n",
    "# We add an edge from every existing\n",
    "# node to the new node.\n",
    "for i in range(n):\n",
    "    g.add_edge(i, n)"
   ]
  },
  {
   "cell_type": "code",
   "execution_count": null,
   "metadata": {
    "podoc": {
     "output_text": "<matplotlib.figure.Figure at 0x61513c8>"
    }
   },
   "outputs": [],
   "source": [
    "# We define custom node positions on a circle\n",
    "# except the last node which is at the center.\n",
    "t = np.linspace(0., 2 * np.pi, n)\n",
    "pos = np.zeros((n + 1, 2))\n",
    "pos[:n, 0] = np.cos(t)\n",
    "pos[:n, 1] = np.sin(t)\n",
    "\n",
    "# A node's color is specified by its 'color'\n",
    "# attribute, or a default color if this attribute\n",
    "# doesn't exist.\n",
    "color = [g.node[i].get('color', '#88b0f3')\n",
    "         for i in range(n + 1)]\n",
    "\n",
    "# We now draw the graph with matplotlib.\n",
    "fig, ax = plt.subplots(1, 1, figsize=(6, 6))\n",
    "nx.draw_networkx(g, pos=pos, node_color=color, ax=ax)\n",
    "ax.set_axis_off()"
   ]
  },
  {
   "cell_type": "code",
   "execution_count": null,
   "metadata": {
    "podoc": {
     "output_text": "<matplotlib.figure.Figure at 0x7f357883e748>"
    }
   },
   "outputs": [],
   "source": [
    "fig, ax = plt.subplots(1, 1, figsize=(6, 6))\n",
    "nx.draw_spectral(g, node_color=color, ax=ax)\n",
    "ax.set_axis_off()"
   ]
  }
 ],
 "metadata": {
  "kernelspec": {
   "display_name": "Python 3",
   "language": "python",
   "name": "python3"
  },
  "language_info": {
   "codemirror_mode": {
    "name": "ipython",
    "version": 3
   },
   "file_extension": ".py",
   "mimetype": "text/x-python",
   "name": "python",
   "nbconvert_exporter": "python",
   "pygments_lexer": "ipython3",
   "version": "3.6.8"
  }
 },
 "nbformat": 4,
 "nbformat_minor": 4
}

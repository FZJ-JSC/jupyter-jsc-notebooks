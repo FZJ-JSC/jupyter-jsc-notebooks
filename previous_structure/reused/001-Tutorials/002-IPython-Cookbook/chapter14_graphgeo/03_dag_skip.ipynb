{
 "cells": [
  {
   "cell_type": "markdown",
   "metadata": {},
   "source": [
    "# 14.3. Resolving dependencies in a directed acyclic graph with a topological sort"
   ]
  },
  {
   "cell_type": "code",
   "execution_count": null,
   "metadata": {},
   "outputs": [],
   "source": [
    "import io\n",
    "import json\n",
    "import requests\n",
    "import numpy as np\n",
    "import networkx as nx\n",
    "import matplotlib.pyplot as plt\n",
    "%matplotlib inline"
   ]
  },
  {
   "cell_type": "code",
   "execution_count": null,
   "metadata": {},
   "outputs": [],
   "source": [
    "url = ('https://github.com/ipython-books/'\n",
    "       'cookbook-2nd-data/blob/master/'\n",
    "       'react.graphml?raw=true')\n",
    "f = io.BytesIO(requests.get(url).content)\n",
    "graph = nx.read_graphml(f)"
   ]
  },
  {
   "cell_type": "code",
   "execution_count": null,
   "metadata": {},
   "outputs": [],
   "source": [
    "graph"
   ]
  },
  {
   "cell_type": "code",
   "execution_count": null,
   "metadata": {},
   "outputs": [],
   "source": [
    "len(graph.nodes), len(graph.edges)"
   ]
  },
  {
   "cell_type": "code",
   "execution_count": null,
   "metadata": {
    "podoc": {
     "output_text": "<matplotlib.figure.Figure at 0x7f69b4af1a58>"
    }
   },
   "outputs": [],
   "source": [
    "fig, ax = plt.subplots(1, 1, figsize=(8, 8))\n",
    "nx.draw_networkx(graph, ax=ax, font_size=10)\n",
    "ax.set_axis_off()"
   ]
  },
  {
   "cell_type": "code",
   "execution_count": null,
   "metadata": {},
   "outputs": [],
   "source": [
    "nx.is_directed_acyclic_graph(graph)"
   ]
  },
  {
   "cell_type": "code",
   "execution_count": null,
   "metadata": {},
   "outputs": [],
   "source": [
    "ts = list(nx.topological_sort(graph))\n",
    "ts"
   ]
  },
  {
   "cell_type": "code",
   "execution_count": null,
   "metadata": {},
   "outputs": [],
   "source": [
    "# Each node's color is the index of the node in the\n",
    "# topological sort.\n",
    "colors = [ts.index(node) for node in graph.nodes]"
   ]
  },
  {
   "cell_type": "code",
   "execution_count": null,
   "metadata": {
    "podoc": {
     "output_text": "<matplotlib.figure.Figure at 0x7f69ac59f400>"
    }
   },
   "outputs": [],
   "source": [
    "nx.draw_shell(graph,\n",
    "              node_color=colors,\n",
    "              cmap=plt.cm.Blues,\n",
    "              font_size=8,\n",
    "              width=.5\n",
    "              )"
   ]
  },
  {
   "cell_type": "code",
   "execution_count": null,
   "metadata": {},
   "outputs": [],
   "source": [
    "from lxml.html import fromstring\n",
    "import cssselect  # Need to do: pip install cssselect\n",
    "from requests.packages import urllib3\n",
    "\n",
    "urllib3.disable_warnings()\n",
    "fetched_packages = set()\n",
    "\n",
    "def import_package_dependencies(graph, pkg_name,\n",
    "                                max_depth=3, depth=0):\n",
    "    if pkg_name in fetched_packages:\n",
    "        return\n",
    "    if depth > max_depth:\n",
    "        return\n",
    "    fetched_packages.add(pkg_name)\n",
    "    url = f'https://www.npmjs.com/package/{pkg_name}'\n",
    "    response = requests.get(url, verify=False)\n",
    "    doc = fromstring(response.content)\n",
    "    graph.add_node(pkg_name)\n",
    "    for h3 in doc.cssselect('h3'):\n",
    "        content = h3.text_content()\n",
    "        if content.startswith('Dependencies'):\n",
    "            for dep in h3.getnext().cssselect('a'):\n",
    "                dep_name = dep.text_content()\n",
    "                print('-' * depth * 2, dep_name)\n",
    "                graph.add_node(dep_name)\n",
    "                graph.add_edge(pkg_name, dep_name)\n",
    "                import_package_dependencies(\n",
    "                    graph,\n",
    "                    dep_name,\n",
    "                    depth=depth + 1\n",
    "                )\n",
    "\n",
    "graph = nx.DiGraph()\n",
    "import_package_dependencies(graph, 'react')\n",
    "nx.write_graphml(graph, 'react.graphml')"
   ]
  },
  {
   "cell_type": "markdown",
   "metadata": {},
   "source": [
    "### Cleanup"
   ]
  },
  {
   "cell_type": "code",
   "execution_count": null,
   "metadata": {},
   "outputs": [],
   "source": [
    "!rm -f react.graphml"
   ]
  },
  {
   "cell_type": "code",
   "execution_count": null,
   "metadata": {},
   "outputs": [],
   "source": []
  }
 ],
 "metadata": {
  "kernelspec": {
   "display_name": "Python 3",
   "language": "python",
   "name": "python3"
  },
  "language_info": {
   "codemirror_mode": {
    "name": "ipython",
    "version": 3
   },
   "file_extension": ".py",
   "mimetype": "text/x-python",
   "name": "python",
   "nbconvert_exporter": "python",
   "pygments_lexer": "ipython3",
   "version": "3.6.8"
  }
 },
 "nbformat": 4,
 "nbformat_minor": 4
}

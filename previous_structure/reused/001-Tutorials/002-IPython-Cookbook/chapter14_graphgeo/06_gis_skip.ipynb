{
 "cells": [
  {
   "cell_type": "markdown",
   "metadata": {},
   "source": [
    "# 14.6. Manipulating geospatial data with Cartopy"
   ]
  },
  {
   "cell_type": "code",
   "execution_count": null,
   "metadata": {},
   "outputs": [],
   "source": [
    "import io\n",
    "import requests\n",
    "import zipfile\n",
    "import numpy as np\n",
    "import matplotlib.pyplot as plt\n",
    "import matplotlib.collections as col\n",
    "from matplotlib.colors import Normalize\n",
    "import cartopy.crs as ccrs\n",
    "from cartopy.feature import ShapelyFeature\n",
    "import cartopy.io.shapereader as shpreader\n",
    "%matplotlib inline"
   ]
  },
  {
   "cell_type": "code",
   "execution_count": null,
   "metadata": {},
   "outputs": [],
   "source": [
    "url = ('https://github.com/ipython-books/'\n",
    "       'cookbook-2nd-data/blob/master/'\n",
    "       'africa.zip?raw=true')\n",
    "r = io.BytesIO(requests.get(url).content)\n",
    "zipfile.ZipFile(r).extractall('data')\n",
    "countries = shpreader.Reader(\n",
    "    'data/ne_10m_admin_0_countries.shp')"
   ]
  },
  {
   "cell_type": "code",
   "execution_count": null,
   "metadata": {},
   "outputs": [],
   "source": [
    "africa = [c for c in countries.records()\n",
    "          if c.attributes['CONTINENT'] == 'Africa']"
   ]
  },
  {
   "cell_type": "code",
   "execution_count": null,
   "metadata": {},
   "outputs": [],
   "source": [
    "crs = ccrs.PlateCarree()\n",
    "extent = [-23.03, 55.20, -37.72, 40.58]"
   ]
  },
  {
   "cell_type": "code",
   "execution_count": null,
   "metadata": {},
   "outputs": [],
   "source": [
    "def draw_africa(ax):\n",
    "    ax.set_extent(extent)\n",
    "    ax.coastlines()"
   ]
  },
  {
   "cell_type": "code",
   "execution_count": null,
   "metadata": {
    "podoc": {
     "output_text": "<matplotlib.figure.Figure at 0x7f6bca5807b8>"
    }
   },
   "outputs": [],
   "source": [
    "fig, ax = plt.subplots(\n",
    "    1, 1, figsize=(6, 8),\n",
    "    subplot_kw=dict(projection=crs))\n",
    "draw_africa(ax)"
   ]
  },
  {
   "cell_type": "code",
   "execution_count": null,
   "metadata": {},
   "outputs": [],
   "source": [
    "def choropleth(ax, attr, cmap_name):\n",
    "    # We need to normalize the values before we can\n",
    "    # use the colormap.\n",
    "    values = [c.attributes[attr] for c in africa]\n",
    "    norm = Normalize(\n",
    "        vmin=min(values), vmax=max(values))\n",
    "    cmap = plt.cm.get_cmap(cmap_name)\n",
    "    for c in africa:\n",
    "        v = c.attributes[attr]\n",
    "        sp = ShapelyFeature(c.geometry, crs,\n",
    "                            edgecolor='k',\n",
    "                            facecolor=cmap(norm(v)))\n",
    "        ax.add_feature(sp)"
   ]
  },
  {
   "cell_type": "code",
   "execution_count": null,
   "metadata": {
    "podoc": {
     "output_text": "<matplotlib.figure.Figure at 0x7f6bbb2f4358>"
    }
   },
   "outputs": [],
   "source": [
    "fig, (ax1, ax2) = plt.subplots(\n",
    "    1, 2, figsize=(10, 16),\n",
    "    subplot_kw=dict(projection=crs))\n",
    "draw_africa(ax1)\n",
    "choropleth(ax1, 'POP_EST', 'Reds')\n",
    "ax1.set_title('Population')\n",
    "\n",
    "draw_africa(ax2)\n",
    "choropleth(ax2, 'GDP_MD_EST', 'Blues')\n",
    "ax2.set_title('GDP')"
   ]
  }
 ],
 "metadata": {
  "kernelspec": {
   "display_name": "Python 3",
   "language": "python",
   "name": "python3"
  },
  "language_info": {
   "codemirror_mode": {
    "name": "ipython",
    "version": 3
   },
   "file_extension": ".py",
   "mimetype": "text/x-python",
   "name": "python",
   "nbconvert_exporter": "python",
   "pygments_lexer": "ipython3",
   "version": "3.6.8"
  }
 },
 "nbformat": 4,
 "nbformat_minor": 4
}

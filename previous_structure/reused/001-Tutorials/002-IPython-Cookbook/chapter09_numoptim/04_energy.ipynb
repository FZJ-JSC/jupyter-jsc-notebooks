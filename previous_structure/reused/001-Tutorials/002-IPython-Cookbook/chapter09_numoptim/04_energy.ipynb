{
 "cells": [
  {
   "cell_type": "markdown",
   "metadata": {},
   "source": [
    "# 9.4. Finding the equilibrium state of a physical system by minimizing its potential energy"
   ]
  },
  {
   "cell_type": "code",
   "execution_count": null,
   "metadata": {},
   "outputs": [],
   "source": [
    "import numpy as np\n",
    "import scipy.optimize as opt\n",
    "import matplotlib.pyplot as plt\n",
    "%matplotlib inline"
   ]
  },
  {
   "cell_type": "code",
   "execution_count": null,
   "metadata": {},
   "outputs": [],
   "source": [
    "g = 9.81  # gravity of Earth\n",
    "m = .1  # mass, in kg\n",
    "n = 20  # number of masses\n",
    "e = .1  # initial distance between the masses\n",
    "l = e  # relaxed length of the springs\n",
    "k = 10000  # spring stiffness"
   ]
  },
  {
   "cell_type": "code",
   "execution_count": null,
   "metadata": {},
   "outputs": [],
   "source": [
    "P0 = np.zeros((n, 2))\n",
    "P0[:, 0] = np.repeat(e * np.arange(n // 2), 2)\n",
    "P0[:, 1] = np.tile((0, -e), n // 2)"
   ]
  },
  {
   "cell_type": "code",
   "execution_count": null,
   "metadata": {
    "podoc": {
     "output_text": "<matplotlib.figure.Figure at 0x7f93deeab668>"
    }
   },
   "outputs": [],
   "source": [
    "A = np.eye(n, n, 1) + np.eye(n, n, 2)\n",
    "# We display a graphic representation of\n",
    "# the matrix.\n",
    "f, ax = plt.subplots(1, 1)\n",
    "ax.imshow(A)\n",
    "ax.set_axis_off()"
   ]
  },
  {
   "cell_type": "code",
   "execution_count": null,
   "metadata": {},
   "outputs": [],
   "source": [
    "L = l * (np.eye(n, n, 1) + np.eye(n, n, 2))\n",
    "for i in range(n // 2 - 1):\n",
    "    L[2 * i + 1, 2 * i + 2] *= np.sqrt(2)"
   ]
  },
  {
   "cell_type": "code",
   "execution_count": null,
   "metadata": {},
   "outputs": [],
   "source": [
    "I, J = np.nonzero(A)"
   ]
  },
  {
   "cell_type": "code",
   "execution_count": null,
   "metadata": {},
   "outputs": [],
   "source": [
    "def dist(P):\n",
    "    return np.sqrt((P[:,0]-P[:,0][:,np.newaxis])**2 +\n",
    "                   (P[:,1]-P[:,1][:,np.newaxis])**2)"
   ]
  },
  {
   "cell_type": "code",
   "execution_count": null,
   "metadata": {},
   "outputs": [],
   "source": [
    "def show_bar(P):\n",
    "    fig, ax = plt.subplots(1, 1, figsize=(5, 4))\n",
    "\n",
    "    # Wall.\n",
    "    ax.axvline(0, color='k', lw=3)\n",
    "\n",
    "    # Distance matrix.\n",
    "    D = dist(P)\n",
    "\n",
    "    # Get normalized elongation in [-1, 1].\n",
    "    elong = np.array([D[i, j] - L[i, j]\n",
    "                      for i, j in zip(I, J)])\n",
    "    elong_max = np.abs(elong).max()\n",
    "\n",
    "    # The color depends on the spring tension, which\n",
    "    # is proportional to the spring elongation.\n",
    "    colors = np.zeros((len(elong), 4))\n",
    "    colors[:, -1] = 1  # alpha channel is 1\n",
    "\n",
    "    # Use two different sequentials colormaps for\n",
    "    # positive and negative elongations, to show\n",
    "    # compression and extension in different colors.\n",
    "    if elong_max > 1e-10:\n",
    "        # We don't use colors if all elongations are\n",
    "        # zero.\n",
    "        elong /= elong_max\n",
    "        pos, neg = elong > 0, elong < 0\n",
    "        colors[pos] = plt.cm.copper(elong[pos])\n",
    "        colors[neg] = plt.cm.bone(-elong[neg])\n",
    "\n",
    "    # We plot the springs.\n",
    "    for i, j, c in zip(I, J, colors):\n",
    "        ax.plot(P[[i, j], 0],\n",
    "                P[[i, j], 1],\n",
    "                lw=2,\n",
    "                color=c,\n",
    "                )\n",
    "\n",
    "    # We plot the masses.\n",
    "    ax.plot(P[[I, J], 0], P[[I, J], 1], 'ok',)\n",
    "\n",
    "    # We configure the axes.\n",
    "    ax.axis('equal')\n",
    "    ax.set_xlim(P[:, 0].min() - e / 2,\n",
    "                P[:, 0].max() + e / 2)\n",
    "    ax.set_ylim(P[:, 1].min() - e / 2,\n",
    "                P[:, 1].max() + e / 2)\n",
    "    ax.set_axis_off()\n",
    "\n",
    "    return ax"
   ]
  },
  {
   "cell_type": "code",
   "execution_count": null,
   "metadata": {
    "podoc": {
     "output_text": "<matplotlib.figure.Figure at 0x7157668>"
    }
   },
   "outputs": [],
   "source": [
    "ax = show_bar(P0)\n",
    "ax.set_title(\"Initial configuration\")"
   ]
  },
  {
   "cell_type": "code",
   "execution_count": null,
   "metadata": {},
   "outputs": [],
   "source": [
    "def energy(P):\n",
    "    # The argument P is a vector (flattened matrix).\n",
    "    # We convert it to a matrix here.\n",
    "    P = P.reshape((-1, 2))\n",
    "    # We compute the distance matrix.\n",
    "    D = dist(P)\n",
    "    # The potential energy is the sum of the\n",
    "    # gravitational and elastic potential energies.\n",
    "    return (g * m * P[:, 1].sum() +\n",
    "            .5 * (k * A * (D - L)**2).sum())"
   ]
  },
  {
   "cell_type": "code",
   "execution_count": null,
   "metadata": {},
   "outputs": [],
   "source": [
    "energy(P0.ravel())"
   ]
  },
  {
   "cell_type": "code",
   "execution_count": null,
   "metadata": {},
   "outputs": [],
   "source": [
    "bounds = np.c_[P0[:2, :].ravel(),\n",
    "               P0[:2, :].ravel()].tolist() + \\\n",
    "    [[None, None]] * (2 * (n - 2))"
   ]
  },
  {
   "cell_type": "code",
   "execution_count": null,
   "metadata": {},
   "outputs": [],
   "source": [
    "P1 = opt.minimize(energy, P0.ravel(),\n",
    "                  method='L-BFGS-B',\n",
    "                  bounds=bounds).x.reshape((-1, 2))"
   ]
  },
  {
   "cell_type": "code",
   "execution_count": null,
   "metadata": {
    "podoc": {
     "output_text": "<matplotlib.figure.Figure at 0x74b6ef0>"
    }
   },
   "outputs": [],
   "source": [
    "ax = show_bar(P1)\n",
    "ax.set_title(\"Equilibrium configuration\")"
   ]
  }
 ],
 "metadata": {
  "kernelspec": {
   "display_name": "Python 3",
   "language": "python",
   "name": "python3"
  },
  "language_info": {
   "codemirror_mode": {
    "name": "ipython",
    "version": 3
   },
   "file_extension": ".py",
   "mimetype": "text/x-python",
   "name": "python",
   "nbconvert_exporter": "python",
   "pygments_lexer": "ipython3",
   "version": "3.6.8"
  }
 },
 "nbformat": 4,
 "nbformat_minor": 4
}

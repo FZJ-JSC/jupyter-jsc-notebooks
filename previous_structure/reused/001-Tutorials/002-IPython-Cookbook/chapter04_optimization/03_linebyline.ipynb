{
 "cells": [
  {
   "cell_type": "markdown",
   "metadata": {},
   "source": [
    "# 4.3. Profiling your code line-by-line with line_profiler"
   ]
  },
  {
   "cell_type": "code",
   "execution_count": null,
   "metadata": {},
   "outputs": [],
   "source": [
    "import numpy as np\n",
    "%load_ext line_profiler"
   ]
  },
  {
   "cell_type": "code",
   "execution_count": null,
   "metadata": {},
   "outputs": [],
   "source": [
    "%%writefile simulation.py\n",
    "import numpy as np\n",
    "\n",
    "def step(*shape):\n",
    "    # Create a random n-vector with +1 or -1 values.\n",
    "    return 2 * (np.random.random_sample(shape)<.5) - 1\n",
    "\n",
    "def simulate(iterations, n=10000):\n",
    "    s = step(iterations, n)\n",
    "    x = np.cumsum(s, axis=0)\n",
    "    bins = np.arange(-30, 30, 1)\n",
    "    y = np.vstack([np.histogram(x[i,:], bins)[0]\n",
    "                   for i in range(iterations)])\n",
    "    return y"
   ]
  },
  {
   "cell_type": "code",
   "execution_count": null,
   "metadata": {},
   "outputs": [],
   "source": [
    "from simulation import simulate"
   ]
  },
  {
   "cell_type": "code",
   "execution_count": null,
   "metadata": {},
   "outputs": [],
   "source": [
    "%lprun -T lprof0 -f simulate simulate(50)"
   ]
  },
  {
   "cell_type": "code",
   "execution_count": null,
   "metadata": {
    "podoc": {
     "output_text": "Profiling result"
    }
   },
   "outputs": [],
   "source": [
    "print(open('lprof0', 'r').read())"
   ]
  },
  {
   "cell_type": "markdown",
   "metadata": {},
   "source": [
    "## Cleanup"
   ]
  },
  {
   "cell_type": "code",
   "execution_count": null,
   "metadata": {},
   "outputs": [],
   "source": [
    "!rm -f simulation.py\n",
    "!rm -f lprof0"
   ]
  },
  {
   "cell_type": "code",
   "execution_count": null,
   "metadata": {},
   "outputs": [],
   "source": []
  }
 ],
 "metadata": {
  "kernelspec": {
   "display_name": "Python 3",
   "language": "python",
   "name": "python3"
  },
  "language_info": {
   "codemirror_mode": {
    "name": "ipython",
    "version": 3
   },
   "file_extension": ".py",
   "mimetype": "text/x-python",
   "name": "python",
   "nbconvert_exporter": "python",
   "pygments_lexer": "ipython3",
   "version": "3.6.8"
  }
 },
 "nbformat": 4,
 "nbformat_minor": 4
}

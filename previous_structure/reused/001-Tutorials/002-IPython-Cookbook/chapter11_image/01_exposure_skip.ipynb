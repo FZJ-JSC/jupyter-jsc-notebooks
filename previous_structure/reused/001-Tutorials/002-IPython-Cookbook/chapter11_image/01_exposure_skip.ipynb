{
 "cells": [
  {
   "cell_type": "markdown",
   "metadata": {},
   "source": [
    "# 11.1. Manipulating the exposure of an image"
   ]
  },
  {
   "cell_type": "code",
   "execution_count": null,
   "metadata": {},
   "outputs": [],
   "source": [
    "import numpy as np\n",
    "import matplotlib.pyplot as plt\n",
    "import skimage.exposure as skie\n",
    "%matplotlib inline"
   ]
  },
  {
   "cell_type": "code",
   "execution_count": null,
   "metadata": {},
   "outputs": [],
   "source": [
    "img = plt.imread('https://github.com/ipython-books/'\n",
    "                 'cookbook-2nd-data/blob/master/'\n",
    "                 'beach.png?raw=true')[..., 0]"
   ]
  },
  {
   "cell_type": "code",
   "execution_count": null,
   "metadata": {},
   "outputs": [],
   "source": [
    "def show(img):\n",
    "    # Display the image.\n",
    "    fig, (ax1, ax2) = plt.subplots(1, 2,\n",
    "                                   figsize=(12, 3))\n",
    "\n",
    "    ax1.imshow(img, cmap=plt.cm.gray)\n",
    "    ax1.set_axis_off()\n",
    "\n",
    "    # Display the histogram.\n",
    "    ax2.hist(img.ravel(), lw=0, bins=256)\n",
    "    ax2.set_xlim(0, img.max())\n",
    "    ax2.set_yticks([])\n",
    "\n",
    "    plt.show()"
   ]
  },
  {
   "cell_type": "code",
   "execution_count": null,
   "metadata": {
    "podoc": {
     "output_text": "<matplotlib.figure.Figure at 0x7795080>"
    }
   },
   "outputs": [],
   "source": [
    "show(img)"
   ]
  },
  {
   "cell_type": "code",
   "execution_count": null,
   "metadata": {
    "podoc": {
     "output_text": "A crude exposure manipulation technique"
    }
   },
   "outputs": [],
   "source": [
    "show(skie.rescale_intensity(\n",
    "    img, in_range=(0.4, .95), out_range=(0, 1)))"
   ]
  },
  {
   "cell_type": "code",
   "execution_count": null,
   "metadata": {
    "podoc": {
     "output_text": "<matplotlib.figure.Figure at 0x7ade080>"
    }
   },
   "outputs": [],
   "source": [
    "show(skie.equalize_adapthist(img))"
   ]
  }
 ],
 "metadata": {
  "kernelspec": {
   "display_name": "Python 3",
   "language": "python",
   "name": "python3"
  },
  "language_info": {
   "codemirror_mode": {
    "name": "ipython",
    "version": 3
   },
   "file_extension": ".py",
   "mimetype": "text/x-python",
   "name": "python",
   "nbconvert_exporter": "python",
   "pygments_lexer": "ipython3",
   "version": "3.6.8"
  }
 },
 "nbformat": 4,
 "nbformat_minor": 4
}

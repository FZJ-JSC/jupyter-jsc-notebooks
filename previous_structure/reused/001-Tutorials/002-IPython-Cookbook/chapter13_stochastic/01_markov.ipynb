{
 "cells": [
  {
   "cell_type": "markdown",
   "metadata": {},
   "source": [
    "# 13.1. Simulating a discrete-time Markov chain"
   ]
  },
  {
   "cell_type": "code",
   "execution_count": null,
   "metadata": {},
   "outputs": [],
   "source": [
    "import numpy as np\n",
    "import matplotlib.pyplot as plt\n",
    "%matplotlib inline"
   ]
  },
  {
   "cell_type": "code",
   "execution_count": null,
   "metadata": {},
   "outputs": [],
   "source": [
    "N = 100  # maximum population size\n",
    "a = .5 / N  # birth rate\n",
    "b = .5 / N  # death rate"
   ]
  },
  {
   "cell_type": "code",
   "execution_count": null,
   "metadata": {},
   "outputs": [],
   "source": [
    "nsteps = 1000\n",
    "x = np.zeros(nsteps)\n",
    "x[0] = 25"
   ]
  },
  {
   "cell_type": "code",
   "execution_count": null,
   "metadata": {},
   "outputs": [],
   "source": [
    "for t in range(nsteps - 1):\n",
    "    if 0 < x[t] < N - 1:\n",
    "        # Is there a birth?\n",
    "        birth = np.random.rand() <= a * x[t]\n",
    "        # Is there a death?\n",
    "        death = np.random.rand() <= b * x[t]\n",
    "        # We update the population size.\n",
    "        x[t + 1] = x[t] + 1 * birth - 1 * death\n",
    "    # The evolution stops if we reach $0$ or $N$.\n",
    "    else:\n",
    "        x[t + 1] = x[t]"
   ]
  },
  {
   "cell_type": "code",
   "execution_count": null,
   "metadata": {
    "podoc": {
     "output_text": "<matplotlib.figure.Figure at 0x71b17f0>"
    }
   },
   "outputs": [],
   "source": [
    "fig, ax = plt.subplots(1, 1, figsize=(8, 4))\n",
    "ax.plot(x, lw=2)"
   ]
  },
  {
   "cell_type": "code",
   "execution_count": null,
   "metadata": {},
   "outputs": [],
   "source": [
    "ntrials = 100\n",
    "x = np.random.randint(size=ntrials,\n",
    "                      low=0, high=N)"
   ]
  },
  {
   "cell_type": "code",
   "execution_count": null,
   "metadata": {},
   "outputs": [],
   "source": [
    "def simulate(x, nsteps):\n",
    "    \"\"\"Run the simulation.\"\"\"\n",
    "    for _ in range(nsteps - 1):\n",
    "        # Which trials to update?\n",
    "        upd = (0 < x) & (x < N - 1)\n",
    "        # In which trials do births occur?\n",
    "        birth = 1 * (np.random.rand(ntrials) <= a * x)\n",
    "        # In which trials do deaths occur?\n",
    "        death = 1 * (np.random.rand(ntrials) <= b * x)\n",
    "        # We update the population size for all trials\n",
    "        x[upd] += birth[upd] - death[upd]"
   ]
  },
  {
   "cell_type": "code",
   "execution_count": null,
   "metadata": {},
   "outputs": [],
   "source": [
    "bins = np.linspace(0, N, 25)"
   ]
  },
  {
   "cell_type": "code",
   "execution_count": null,
   "metadata": {
    "podoc": {
     "output_text": "<matplotlib.figure.Figure at 0x6c71748>"
    }
   },
   "outputs": [],
   "source": [
    "nsteps_list = [10, 1000, 10000]\n",
    "fig, axes = plt.subplots(1, len(nsteps_list),\n",
    "                         figsize=(12, 3),\n",
    "                         sharey=True)\n",
    "for i, nsteps in enumerate(nsteps_list):\n",
    "    ax = axes[i]\n",
    "    simulate(x, nsteps)\n",
    "    ax.hist(x, bins=bins)\n",
    "    ax.set_xlabel(\"Population size\")\n",
    "    if i == 0:\n",
    "        ax.set_ylabel(\"Histogram\")\n",
    "    ax.set_title(f\"{nsteps} time steps\")"
   ]
  }
 ],
 "metadata": {
  "kernelspec": {
   "display_name": "Python 3",
   "language": "python",
   "name": "python3"
  },
  "language_info": {
   "codemirror_mode": {
    "name": "ipython",
    "version": 3
   },
   "file_extension": ".py",
   "mimetype": "text/x-python",
   "name": "python",
   "nbconvert_exporter": "python",
   "pygments_lexer": "ipython3",
   "version": "3.6.8"
  }
 },
 "nbformat": 4,
 "nbformat_minor": 4
}

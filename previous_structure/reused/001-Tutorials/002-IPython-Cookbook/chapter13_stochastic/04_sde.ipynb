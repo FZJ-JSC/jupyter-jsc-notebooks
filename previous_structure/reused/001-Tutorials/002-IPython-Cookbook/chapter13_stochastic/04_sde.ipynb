{
 "cells": [
  {
   "cell_type": "markdown",
   "metadata": {},
   "source": [
    "# 13.4. Simulating a stochastic differential equation"
   ]
  },
  {
   "cell_type": "code",
   "execution_count": null,
   "metadata": {},
   "outputs": [],
   "source": [
    "import numpy as np\n",
    "import matplotlib.pyplot as plt\n",
    "%matplotlib inline"
   ]
  },
  {
   "cell_type": "code",
   "execution_count": null,
   "metadata": {},
   "outputs": [],
   "source": [
    "sigma = 1.  # Standard deviation.\n",
    "mu = 10.  # Mean.\n",
    "tau = .05  # Time constant."
   ]
  },
  {
   "cell_type": "code",
   "execution_count": null,
   "metadata": {},
   "outputs": [],
   "source": [
    "dt = .001  # Time step.\n",
    "T = 1.  # Total time.\n",
    "n = int(T / dt)  # Number of time steps.\n",
    "t = np.linspace(0., T, n)  # Vector of times."
   ]
  },
  {
   "cell_type": "code",
   "execution_count": null,
   "metadata": {},
   "outputs": [],
   "source": [
    "sigma_bis = sigma * np.sqrt(2. / tau)\n",
    "sqrtdt = np.sqrt(dt)"
   ]
  },
  {
   "cell_type": "code",
   "execution_count": null,
   "metadata": {},
   "outputs": [],
   "source": [
    "x = np.zeros(n)"
   ]
  },
  {
   "cell_type": "code",
   "execution_count": null,
   "metadata": {},
   "outputs": [],
   "source": [
    "for i in range(n - 1):\n",
    "    x[i + 1] = x[i] + dt * (-(x[i] - mu) / tau) + \\\n",
    "        sigma_bis * sqrtdt * np.random.randn()"
   ]
  },
  {
   "cell_type": "code",
   "execution_count": null,
   "metadata": {
    "podoc": {
     "output_text": "<matplotlib.figure.Figure at 0x70c65c0>"
    }
   },
   "outputs": [],
   "source": [
    "fig, ax = plt.subplots(1, 1, figsize=(8, 4))\n",
    "ax.plot(t, x, lw=2)"
   ]
  },
  {
   "cell_type": "code",
   "execution_count": null,
   "metadata": {},
   "outputs": [],
   "source": [
    "ntrials = 10000\n",
    "X = np.zeros(ntrials)"
   ]
  },
  {
   "cell_type": "code",
   "execution_count": null,
   "metadata": {
    "podoc": {
     "output_text": "<matplotlib.figure.Figure at 0x6f6dba8>"
    }
   },
   "outputs": [],
   "source": [
    "# We create bins for the histograms.\n",
    "bins = np.linspace(-2., 14., 100)\n",
    "fig, ax = plt.subplots(1, 1, figsize=(8, 4))\n",
    "for i in range(n):\n",
    "    # We update the process independently for\n",
    "    # all trials\n",
    "    X += dt * (-(X - mu) / tau) + \\\n",
    "        sigma_bis * sqrtdt * np.random.randn(ntrials)\n",
    "    # We display the histogram for a few points in\n",
    "    # time\n",
    "    if i in (5, 50, 900):\n",
    "        hist, _ = np.histogram(X, bins=bins)\n",
    "        ax.plot((bins[1:] + bins[:-1]) / 2, hist,\n",
    "                {5: '-', 50: '.', 900: '-.', }[i],\n",
    "                label=f\"t={i * dt:.2f}\")\n",
    "    ax.legend()"
   ]
  }
 ],
 "metadata": {
  "kernelspec": {
   "display_name": "Python 3",
   "language": "python",
   "name": "python3"
  },
  "language_info": {
   "codemirror_mode": {
    "name": "ipython",
    "version": 3
   },
   "file_extension": ".py",
   "mimetype": "text/x-python",
   "name": "python",
   "nbconvert_exporter": "python",
   "pygments_lexer": "ipython3",
   "version": "3.6.8"
  }
 },
 "nbformat": 4,
 "nbformat_minor": 4
}

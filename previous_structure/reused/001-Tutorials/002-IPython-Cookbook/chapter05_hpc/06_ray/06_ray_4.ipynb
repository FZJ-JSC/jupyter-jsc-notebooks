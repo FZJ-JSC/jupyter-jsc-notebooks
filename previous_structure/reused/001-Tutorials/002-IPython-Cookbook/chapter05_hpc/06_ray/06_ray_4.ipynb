{
 "cells": [
  {
   "cell_type": "code",
   "execution_count": null,
   "metadata": {},
   "outputs": [],
   "source": [
    "import numpy as np\n",
    "import matplotlib.pyplot as plt"
   ]
  },
  {
   "cell_type": "code",
   "execution_count": null,
   "metadata": {},
   "outputs": [],
   "source": [
    "%matplotlib inline"
   ]
  },
  {
   "cell_type": "code",
   "execution_count": null,
   "metadata": {},
   "outputs": [],
   "source": [
    "%load_ext Cython"
   ]
  },
  {
   "cell_type": "code",
   "execution_count": null,
   "metadata": {},
   "outputs": [],
   "source": [
    "%%cython\n",
    "import numpy as np\n",
    "cimport numpy as np\n",
    "from numpy import dot\n",
    "from libc.math cimport sqrt\n",
    "\n",
    "DBL = np.double\n",
    "ctypedef np.double_t DBL_C\n",
    "INT = np.int\n",
    "ctypedef np.int_t INT_C\n",
    "cdef INT_C w, h\n",
    "\n",
    "w, h = 400, 400  # Size of the screen in pixels.\n",
    "\n",
    "# normalize is now a pure C function that does not make\n",
    "# use NumPy for the computations\n",
    "cdef normalize(np.ndarray[DBL_C, ndim=1] x):\n",
    "    cdef DBL_C n\n",
    "    n = sqrt(x[0] * x[0] + x[1] * x[1] + x[2] * x[2])\n",
    "    x[0] /= n\n",
    "    x[1] /= n\n",
    "    x[2] /= n\n",
    "    return x\n",
    "\n",
    "def intersect_sphere(np.ndarray[DBL_C, ndim=1] O, np.ndarray[DBL_C, ndim=1] D,\n",
    "                     np.ndarray[DBL_C, ndim=1] S, DBL_C R):\n",
    "    # Return the distance from O to the intersection\n",
    "    # of the ray (O, D) with the sphere (S, R), or\n",
    "    # +inf if there is no intersection.\n",
    "    # O and S are 3D points, D (direction) is a\n",
    "    # normalized vector, R is a scalar.\n",
    "\n",
    "    cdef DBL_C a, b, c, disc, distSqrt, q, t0, t1\n",
    "    cdef np.ndarray[DBL_C, ndim=1] OS\n",
    "\n",
    "    a = dot(D, D)\n",
    "    OS = O - S\n",
    "    b = 2 * dot(D, OS)\n",
    "    c = dot(OS, OS) - R*R\n",
    "    disc = b*b - 4*a*c\n",
    "    if disc > 0:\n",
    "        distSqrt = np.sqrt(disc)\n",
    "        q = (-b - distSqrt) / 2.0 if b < 0 \\\n",
    "            else (-b + distSqrt) / 2.0\n",
    "        t0 = q / a\n",
    "        t1 = c / q\n",
    "        t0, t1 = min(t0, t1), max(t0, t1)\n",
    "        if t1 >= 0:\n",
    "            return t1 if t0 < 0 else t0\n",
    "    return np.inf\n",
    "\n",
    "def trace_ray(np.ndarray[DBL_C, ndim=1] O, np.ndarray[DBL_C, ndim=1] D,\n",
    "               np.ndarray[DBL_C, ndim=1] position,\n",
    "               np.ndarray[DBL_C, ndim=1] color,\n",
    "               np.ndarray[DBL_C, ndim=1] L,\n",
    "               np.ndarray[DBL_C, ndim=1] color_light):\n",
    "\n",
    "    cdef DBL_C t\n",
    "    cdef np.ndarray[DBL_C, ndim=1] M, N, toL, toO, col\n",
    "\n",
    "    # Find first point of intersection with the scene.\n",
    "    t = intersect_sphere(O, D, position, radius)\n",
    "    # No intersection?\n",
    "    if t == np.inf:\n",
    "        return\n",
    "    # Find the point of intersection on the object.\n",
    "    M = O + D * t\n",
    "    N = normalize(M - position)\n",
    "    toL = normalize(L - M)\n",
    "    toO = normalize(O - M)\n",
    "    # Ambient light.\n",
    "    col = ambient * np.ones(3)\n",
    "    # Lambert shading (diffuse).\n",
    "    col += diffuse * max(dot(N, toL), 0) * color\n",
    "    # Blinn-Phong shading (specular).\n",
    "    col += specular_c * color_light * \\\n",
    "        max(dot(N, normalize(toL + toO)), 0) \\\n",
    "           ** specular_k\n",
    "    return col\n",
    "\n",
    "def run():\n",
    "    cdef np.ndarray[DBL_C, ndim=3] img\n",
    "    img = np.zeros((h, w, 3))\n",
    "    cdef INT_C i, j\n",
    "    cdef DBL_C x, y\n",
    "    cdef np.ndarray[DBL_C, ndim=1] O, Q, D, col, position, color, L, color_light\n",
    "\n",
    "    # Sphere properties.\n",
    "    position = np.array([0., 0., 1.])\n",
    "    color = np.array([0., 0., 1.])\n",
    "    L = np.array([5., 5., -10.])\n",
    "    color_light = np.ones(3)\n",
    "\n",
    "    # Camera.\n",
    "    O = np.array([0., 0., -1.])  # Position.\n",
    "    Q = np.array([0., 0., 0.])  # Pointing to.\n",
    "\n",
    "    # Loop through all pixels.\n",
    "    for i, x in enumerate(np.linspace(-1., 1., w)):\n",
    "        for j, y in enumerate(np.linspace(-1., 1., h)):\n",
    "            # Position of the pixel.\n",
    "            Q[0], Q[1] = x, y\n",
    "            # Direction of the ray going through the optical center.\n",
    "            D = normalize(Q - O)\n",
    "            # Launch the ray and get the color of the pixel.\n",
    "            col = trace_ray(O, D, position, color, L, color_light)\n",
    "            if col is None:\n",
    "                continue\n",
    "            img[h - j - 1, i, :] = np.clip(col, 0, 1)\n",
    "    return img\n",
    "\n",
    "cdef DBL_C radius, ambient, diffuse, specular_k, specular_c\n",
    "\n",
    "# Sphere and light properties.\n",
    "radius = 1.\n",
    "diffuse = 1.\n",
    "specular_c = 1.\n",
    "specular_k = 50.\n",
    "ambient = .05"
   ]
  },
  {
   "cell_type": "code",
   "execution_count": null,
   "metadata": {
    "podoc": {
     "output_text": "<matplotlib.figure.Figure at 0xb639748>"
    }
   },
   "outputs": [],
   "source": [
    "img = run()\n",
    "fig, ax = plt.subplots(1, 1, figsize=(10, 10))\n",
    "ax.imshow(img)\n",
    "ax.set_axis_off()"
   ]
  },
  {
   "cell_type": "code",
   "execution_count": null,
   "metadata": {},
   "outputs": [],
   "source": [
    "%timeit run()"
   ]
  }
 ],
 "metadata": {
  "kernelspec": {
   "display_name": "Python 3",
   "language": "python",
   "name": "python3"
  },
  "language_info": {
   "codemirror_mode": {
    "name": "ipython",
    "version": 3
   },
   "file_extension": ".py",
   "mimetype": "text/x-python",
   "name": "python",
   "nbconvert_exporter": "python",
   "pygments_lexer": "ipython3",
   "version": "3.6.8"
  }
 },
 "nbformat": 4,
 "nbformat_minor": 4
}

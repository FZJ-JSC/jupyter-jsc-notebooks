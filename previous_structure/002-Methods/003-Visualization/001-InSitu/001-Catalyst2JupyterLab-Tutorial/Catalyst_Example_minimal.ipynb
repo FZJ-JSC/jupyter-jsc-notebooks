{
 "cells": [
  {
   "cell_type": "markdown",
   "metadata": {},
   "source": [
    "# Using Catalyst and ParaView in Jupyter Notebook"
   ]
  },
  {
   "cell_type": "markdown",
   "metadata": {},
   "source": [
    "This is the minimal Version, just shortly showing, what you need in any case. A complete example can be seen in [Catalyst_Example](Catalyst_Example.ipynb).\n",
    "\n",
    "This is setting up all components visible in the grafik below. Therefore giving you a notebook, that can use ParaView commands and is connected to a small sample simulation. The visualisation will be done in the notebook and is visible in your webbrowser.\n",
    "\n",
    "<img src=\"img/Communication_minimal.png\" width=\"400\">"
   ]
  },
  {
   "cell_type": "markdown",
   "metadata": {},
   "source": [
    "## Table of contents\n",
    "\n",
    "- Requirements \n",
    "- Start Catalyst enabled simulation\n",
    "- Setup Render Window in Browser\n",
    "- Establish Catalyst Connection\n",
    "- Setup render pipeline using ParaView Python Commands"
   ]
  },
  {
   "cell_type": "markdown",
   "metadata": {},
   "source": [
    "## Requirements\n",
    "- The bash variable JUPYTER_LOG_DIR needs to be set to a folder, where logs can be written. It can be set, before starting jupyter by executing `export JUPYTER_LOG_DIR=\"/your/path\"` before running `jupyter-lab`. The two following lines allows to check the value that was set when starting jupyter:"
   ]
  },
  {
   "cell_type": "code",
   "execution_count": null,
   "metadata": {},
   "outputs": [],
   "source": [
    "from os import environ\n",
    "print(environ.get('JUPYTER_LOG_DIR'))"
   ]
  },
  {
   "cell_type": "markdown",
   "metadata": {},
   "source": [
    "- Additional files are needed. They can be obtained by cloning the git repo, or copying the files in the folder `001-Catalyst2JupyterLab-Tutorial`. Afterwards the path to the folder needs to be written into the file `${JUPYTER_LAB_DIR}/catalystTutorialPath.txt`. This can be done with the following commands:\n",
    "\n",
    "```\n",
    "git init repo j4j_notebooks\n",
    "cd j4j_notebooks\n",
    "git remote add origin https://gitlab.version.fz-juelich.de/jupyter4jsc/j4j_notebooks.git\n",
    "git config core.sparseCheckout true\n",
    "echo \"002-Methods/003-Visualization/001-InSitu/001-Catalyst2JupyterLab-Tutorial/*\" >> .git/info/sparse-checkout\n",
    "git pull --depth=1 origin master\n",
    "cd 002-Methods/003-Visualization/001-InSitu/001-Catalyst2JupyterLab-Tutorial/\n",
    "pwd >${JUPYTER_LOG_DIR}/catalystTutorialPath.txt\n",
    "```"
   ]
  },
  {
   "cell_type": "code",
   "execution_count": null,
   "metadata": {},
   "outputs": [],
   "source": [
    "import glob\n",
    "file = open(environ.get('JUPYTER_LOG_DIR') + \"/catalystTutorialPath.txt\",\"r\")\n",
    "catalystTutorialPath = file.readline().rstrip()\n",
    "file.close()\n",
    "if len(catalystTutorialPath) < 30:\n",
    "    import sys\n",
    "    print(\"Path is short: '\" + catalystTutorialPath + \"' is it the right path?\", file=sys.stderr)\n",
    "    \n",
    "if len(glob.glob(catalystTutorialPath+ \"/*\")) < 4:\n",
    "    import sys\n",
    "    print(\"Not enough files in '\" + catalystTutorialPath + \"' is it the right path?\", file=sys.stderr)"
   ]
  },
  {
   "cell_type": "markdown",
   "metadata": {},
   "source": [
    "## Start Catalyst enabled simulation\n",
    "Here a small sample simulation is started, that will run on the same node, and send random pressure data"
   ]
  },
  {
   "cell_type": "code",
   "execution_count": null,
   "metadata": {},
   "outputs": [],
   "source": [
    "%%script bash --bg --proc catalyst_process\n",
    "cd `cat ${JUPYTER_LOG_DIR}/catalystTutorialPath.txt`\n",
    "export OMP_NUM_THREADS=1\n",
    "pvpython CatalystEnabledSimulation/fedriver.py CatalystEnabledSimulation/cpscript.py > ${JUPYTER_LOG_DIR}/simulation.log 2>&1"
   ]
  },
  {
   "cell_type": "markdown",
   "metadata": {},
   "source": [
    "## Setup Render Window in Browser\n",
    "- loading needed python modules\n",
    "- Get URL to access this jupyter Lab\n",
    "- Using pvlink connect with the websocket provided by ParaView. Additional examples and info for pvlink can be found [here](https://gitlab.version.fz-juelich.de/jupyter4jsc/j4j_extras/pvlink/-/blob/master/examples/Examples.ipynb \"pvlink Examples\").\n",
    "- displaying the render window in a box, to get control over the size of the render window"
   ]
  },
  {
   "cell_type": "code",
   "execution_count": null,
   "metadata": {},
   "outputs": [],
   "source": [
    "from paraview import simple\n",
    "from pvlink import RemoteRenderer\n",
    "from ipywidgets import Box\n",
    "from os import environ\n",
    "\n",
    "Jupyter_URL = \"jupyter-jsc.fz-juelich.de\" + environ.get('JUPYTERHUB_SERVICE_PREFIX', '/')\n",
    "renderer = RemoteRenderer(baseURL=\"jupyter-jsc.fz-juelich.de\" + environ.get('JUPYTERHUB_SERVICE_PREFIX', '/'), useJupyterServerProxyHttps=True, disableExternalPort=True)\n",
    "\n",
    "Box(children=[renderer], layout={\"height\": \"800px\"})"
   ]
  },
  {
   "cell_type": "markdown",
   "metadata": {},
   "source": [
    "Setup a view, that will be used by ParaView, setting up parameters for smooth rendering in this setup."
   ]
  },
  {
   "cell_type": "code",
   "execution_count": null,
   "metadata": {},
   "outputs": [],
   "source": [
    "from pvlink.utility import SetRecommendedRenderSettings, ResetCamera\n",
    "\n",
    "# Cerate a view\n",
    "view = simple.FindViewOrCreate(\"test\", \"RenderView\")\n",
    "SetRecommendedRenderSettings(view)\n",
    "renderer.update_render()"
   ]
  },
  {
   "cell_type": "markdown",
   "metadata": {},
   "source": [
    "## Establish Catalyst Connection\n",
    "Create the Object handeling the connection, before extracting data from the Simulation. Waiting is necessary, Because extracting the data does not work, unless the simulation is connected and one update has been performed since updating"
   ]
  },
  {
   "cell_type": "code",
   "execution_count": null,
   "metadata": {},
   "outputs": [],
   "source": [
    "catalyst = simple.CatalystConnection()"
   ]
  },
  {
   "cell_type": "code",
   "execution_count": null,
   "metadata": {},
   "outputs": [],
   "source": [
    "# open port for catalyst connection\n",
    "catalyst.Start()\n",
    "catalyst.AddUpdateFunction(renderer.update_render)\n",
    "catalyst.BlockTillConnected();"
   ]
  },
  {
   "cell_type": "code",
   "execution_count": null,
   "metadata": {},
   "outputs": [],
   "source": [
    "# wait till simulation connected\n",
    "catalyst.BlockTillConnected()\n",
    "# extract data from simulation\n",
    "# supplying a source name, that can be used to find the ParaView source.\n",
    "# In case of different named input, or multiple input ports, alows to choose the desired input, that should be extracted\n",
    "extract = catalyst.Extract(\"extract\")\n",
    "# block till there is an update for the simulation data\n",
    "catalyst.BlockTillNextUpdate()\n",
    "# display simulation data\n",
    "simple.SetActiveSource(extract)\n",
    "extractDisplay = simple.Show(extract, view)\n",
    "\n",
    "ResetCamera(view, renderer)"
   ]
  },
  {
   "cell_type": "markdown",
   "metadata": {},
   "source": [
    "Connection has been established, and the simulation output is now visible above in the render window"
   ]
  },
  {
   "cell_type": "markdown",
   "metadata": {},
   "source": [
    "## Setup render pipeline using ParaView Python Commands\n",
    "To get the wished visualisation we need to setup the ParaView pipeline, to tell it what it is supposed to do with the data"
   ]
  },
  {
   "cell_type": "code",
   "execution_count": null,
   "metadata": {},
   "outputs": [],
   "source": [
    "# set scalar coloring\n",
    "simple.ColorBy(extractDisplay, (\"CELLS\", \"pressure\"))\n",
    "\n",
    "# rescale color and/or opacity maps used to include current data range\n",
    "extractDisplay.RescaleTransferFunctionToDataRange(True, False)\n",
    "\n",
    "# show color bar/color legend\n",
    "extractDisplay.SetScalarBarVisibility(view, True)\n",
    "\n",
    "# get color transfer function/color map for 'pressure'\n",
    "pressureLUT = simple.GetColorTransferFunction(\"pressure\")\n",
    "pressureLUT.RescaleTransferFunction(0.0, 1.0)\n",
    "\n",
    "# get opacity transfer function/opacity map for 'pressure'\n",
    "pressurePWF = simple.GetOpacityTransferFunction(\"pressure\")\n",
    "pressurePWF.RescaleTransferFunction(0.0, 1.0)\n",
    "\n",
    "# change representation type, for example wireframe or volume rendering\n",
    "#extractDisplay.SetRepresentationType(\"Wireframe\")\n",
    "extractDisplay.SetRepresentationType(\"Volume\");"
   ]
  }
 ],
 "metadata": {
  "kernelspec": {
   "display_name": "PyParaView-5.8",
   "language": "python",
   "name": "pyparaview-5.8"
  },
  "language_info": {
   "codemirror_mode": {
    "name": "ipython",
    "version": 3
   },
   "file_extension": ".py",
   "mimetype": "text/x-python",
   "name": "python",
   "nbconvert_exporter": "python",
   "pygments_lexer": "ipython3",
   "version": "3.6.8"
  }
 },
 "nbformat": 4,
 "nbformat_minor": 4
}

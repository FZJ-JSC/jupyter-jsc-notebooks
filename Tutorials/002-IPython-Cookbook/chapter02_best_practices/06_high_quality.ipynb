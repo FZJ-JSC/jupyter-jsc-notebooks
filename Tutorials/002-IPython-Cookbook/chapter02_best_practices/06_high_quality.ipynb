{
 "cells": [
  {
   "cell_type": "markdown",
   "metadata": {},
   "source": [
    "# Writing high-quality Python code"
   ]
  },
  {
   "cell_type": "code",
   "execution_count": 1,
   "metadata": {},
   "outputs": [],
   "source": [
    "def power(x, n):\n",
    "    \"\"\"Compute the power of a number.\n",
    "\n",
    "    Arguments:\n",
    "    * x: a number\n",
    "    * n: the exponent\n",
    "\n",
    "    Returns:\n",
    "    * c: the number x to the power of n\n",
    "\n",
    "    \"\"\"\n",
    "    return x ** n"
   ]
  },
  {
   "cell_type": "code",
   "execution_count": 2,
   "metadata": {},
   "outputs": [],
   "source": [
    "# Imports\n",
    "# -------\n",
    "import numpy\n",
    "\n",
    "# Utility functions\n",
    "# -----------------\n",
    "\n",
    "\n",
    "def fun():\n",
    "    pass"
   ]
  }
 ],
 "metadata": {},
 "nbformat": 4,
 "nbformat_minor": 2
}

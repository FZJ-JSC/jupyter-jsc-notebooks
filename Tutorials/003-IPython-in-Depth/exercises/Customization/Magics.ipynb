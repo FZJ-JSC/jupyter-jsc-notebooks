{
 "cells": [
  {
   "cell_type": "markdown",
   "metadata": {},
   "source": [
    "# Customizing IPython - Magics"
   ]
  },
  {
   "cell_type": "markdown",
   "metadata": {},
   "source": [
    "IPython extends Python by adding shell-like commands called **magics**."
   ]
  },
  {
   "cell_type": "code",
   "execution_count": 1,
   "metadata": {
    "collapsed": false
   },
   "outputs": [
    {
     "data": {
      "application/json": {
       "cell": {
        "!": "OSMagics",
        "HTML": "Other",
        "SVG": "Other",
        "bash": "Other",
        "capture": "ExecutionMagics",
        "debug": "ExecutionMagics",
        "file": "Other",
        "html": "DisplayMagics",
        "javascript": "DisplayMagics",
        "latex": "DisplayMagics",
        "perl": "Other",
        "prun": "ExecutionMagics",
        "pypy": "Other",
        "python": "Other",
        "python2": "Other",
        "python3": "Other",
        "ruby": "Other",
        "script": "ScriptMagics",
        "sh": "Other",
        "svg": "DisplayMagics",
        "sx": "OSMagics",
        "system": "OSMagics",
        "time": "ExecutionMagics",
        "timeit": "ExecutionMagics",
        "writefile": "OSMagics"
       },
       "line": {
        "alias": "OSMagics",
        "alias_magic": "BasicMagics",
        "autocall": "AutoMagics",
        "automagic": "AutoMagics",
        "autosave": "KernelMagics",
        "bookmark": "OSMagics",
        "cat": "Other",
        "cd": "OSMagics",
        "clear": "KernelMagics",
        "colors": "BasicMagics",
        "config": "ConfigMagics",
        "connect_info": "KernelMagics",
        "cp": "Other",
        "debug": "ExecutionMagics",
        "dhist": "OSMagics",
        "dirs": "OSMagics",
        "doctest_mode": "BasicMagics",
        "ed": "Other",
        "edit": "KernelMagics",
        "env": "OSMagics",
        "gui": "BasicMagics",
        "hist": "Other",
        "history": "HistoryMagics",
        "install_default_config": "DeprecatedMagics",
        "install_ext": "ExtensionMagics",
        "install_profiles": "DeprecatedMagics",
        "killbgscripts": "ScriptMagics",
        "ldir": "Other",
        "less": "KernelMagics",
        "lf": "Other",
        "lk": "Other",
        "ll": "Other",
        "load": "CodeMagics",
        "load_ext": "ExtensionMagics",
        "loadpy": "CodeMagics",
        "logoff": "LoggingMagics",
        "logon": "LoggingMagics",
        "logstart": "LoggingMagics",
        "logstate": "LoggingMagics",
        "logstop": "LoggingMagics",
        "ls": "Other",
        "lsmagic": "BasicMagics",
        "lx": "Other",
        "macro": "ExecutionMagics",
        "magic": "BasicMagics",
        "man": "KernelMagics",
        "matplotlib": "PylabMagics",
        "mkdir": "Other",
        "more": "KernelMagics",
        "mv": "Other",
        "notebook": "BasicMagics",
        "page": "BasicMagics",
        "pastebin": "CodeMagics",
        "pdb": "ExecutionMagics",
        "pdef": "NamespaceMagics",
        "pdoc": "NamespaceMagics",
        "pfile": "NamespaceMagics",
        "pinfo": "NamespaceMagics",
        "pinfo2": "NamespaceMagics",
        "popd": "OSMagics",
        "pprint": "BasicMagics",
        "precision": "BasicMagics",
        "profile": "BasicMagics",
        "prun": "ExecutionMagics",
        "psearch": "NamespaceMagics",
        "psource": "NamespaceMagics",
        "pushd": "OSMagics",
        "pwd": "OSMagics",
        "pycat": "OSMagics",
        "pylab": "PylabMagics",
        "qtconsole": "KernelMagics",
        "quickref": "BasicMagics",
        "recall": "HistoryMagics",
        "rehashx": "OSMagics",
        "reload_ext": "ExtensionMagics",
        "rep": "Other",
        "rerun": "HistoryMagics",
        "reset": "NamespaceMagics",
        "reset_selective": "NamespaceMagics",
        "rm": "Other",
        "rmdir": "Other",
        "run": "ExecutionMagics",
        "save": "CodeMagics",
        "sc": "OSMagics",
        "set_env": "OSMagics",
        "store": "StoreMagics",
        "sx": "OSMagics",
        "system": "OSMagics",
        "tb": "ExecutionMagics",
        "time": "ExecutionMagics",
        "timeit": "ExecutionMagics",
        "unalias": "OSMagics",
        "unload_ext": "ExtensionMagics",
        "who": "NamespaceMagics",
        "who_ls": "NamespaceMagics",
        "whos": "NamespaceMagics",
        "xdel": "NamespaceMagics",
        "xmode": "BasicMagics"
       }
      },
      "text/plain": [
       "Available line magics:\n",
       "%alias  %alias_magic  %autocall  %automagic  %autosave  %bookmark  %cat  %cd  %clear  %colors  %config  %connect_info  %cp  %debug  %dhist  %dirs  %doctest_mode  %ed  %edit  %env  %gui  %hist  %history  %install_default_config  %install_ext  %install_profiles  %killbgscripts  %ldir  %less  %lf  %lk  %ll  %load  %load_ext  %loadpy  %logoff  %logon  %logstart  %logstate  %logstop  %ls  %lsmagic  %lx  %macro  %magic  %man  %matplotlib  %mkdir  %more  %mv  %notebook  %page  %pastebin  %pdb  %pdef  %pdoc  %pfile  %pinfo  %pinfo2  %popd  %pprint  %precision  %profile  %prun  %psearch  %psource  %pushd  %pwd  %pycat  %pylab  %qtconsole  %quickref  %recall  %rehashx  %reload_ext  %rep  %rerun  %reset  %reset_selective  %rm  %rmdir  %run  %save  %sc  %set_env  %store  %sx  %system  %tb  %time  %timeit  %unalias  %unload_ext  %who  %who_ls  %whos  %xdel  %xmode\n",
       "\n",
       "Available cell magics:\n",
       "%%!  %%HTML  %%SVG  %%bash  %%capture  %%debug  %%file  %%html  %%javascript  %%latex  %%perl  %%prun  %%pypy  %%python  %%python2  %%python3  %%ruby  %%script  %%sh  %%svg  %%sx  %%system  %%time  %%timeit  %%writefile\n",
       "\n",
       "Automagic is ON, % prefix IS NOT needed for line magics."
      ]
     },
     "execution_count": 1,
     "metadata": {},
     "output_type": "execute_result"
    }
   ],
   "source": [
    "%lsmagic"
   ]
  },
  {
   "cell_type": "code",
   "execution_count": 2,
   "metadata": {
    "collapsed": false
   },
   "outputs": [],
   "source": [
    "import numpy"
   ]
  },
  {
   "cell_type": "code",
   "execution_count": 3,
   "metadata": {
    "collapsed": false
   },
   "outputs": [
    {
     "name": "stdout",
     "output_type": "stream",
     "text": [
      "100 loops, best of 3: 18.3 ms per loop\n"
     ]
    }
   ],
   "source": [
    "%timeit A=numpy.random.random((1000,1000))"
   ]
  },
  {
   "cell_type": "code",
   "execution_count": 4,
   "metadata": {
    "collapsed": false
   },
   "outputs": [
    {
     "name": "stdout",
     "output_type": "stream",
     "text": [
      "1 loops, best of 3: 22.2 ms per loop\n"
     ]
    }
   ],
   "source": [
    "%%timeit -n 1\n",
    "\n",
    "A=numpy.random.random((1000,1000))\n",
    "b = A.sum()\n"
   ]
  },
  {
   "cell_type": "markdown",
   "metadata": {},
   "source": [
    "## Defining your own magic"
   ]
  },
  {
   "cell_type": "markdown",
   "metadata": {},
   "source": [
    "As we have seen already, IPython has cell and line magics. You can define your own magics using any Python function and the `register_magic_function` method:"
   ]
  },
  {
   "cell_type": "code",
   "execution_count": 5,
   "metadata": {
    "collapsed": false
   },
   "outputs": [],
   "source": [
    "ip = get_ipython()"
   ]
  },
  {
   "cell_type": "code",
   "execution_count": 6,
   "metadata": {
    "collapsed": false
   },
   "outputs": [],
   "source": [
    "import time\n",
    "\n",
    "def sleep_magic(line):\n",
    "    \"\"\"A simple function for sleeping\"\"\"\n",
    "    t = float(line)\n",
    "    time.sleep(t)"
   ]
  },
  {
   "cell_type": "code",
   "execution_count": 7,
   "metadata": {
    "collapsed": false
   },
   "outputs": [],
   "source": [
    "ip.register_magic_function?"
   ]
  },
  {
   "cell_type": "code",
   "execution_count": 8,
   "metadata": {
    "collapsed": false
   },
   "outputs": [],
   "source": [
    "ip.register_magic_function(sleep_magic, \"line\", \"sleep\")"
   ]
  },
  {
   "cell_type": "code",
   "execution_count": 9,
   "metadata": {
    "collapsed": false
   },
   "outputs": [],
   "source": [
    "%sleep 2"
   ]
  },
  {
   "cell_type": "code",
   "execution_count": 10,
   "metadata": {
    "collapsed": false
   },
   "outputs": [],
   "source": [
    "%sleep?"
   ]
  },
  {
   "cell_type": "markdown",
   "metadata": {},
   "source": [
    "### Exercise"
   ]
  },
  {
   "cell_type": "markdown",
   "metadata": {},
   "source": [
    "Define `%tic` and `%toc` magics, which can be use for simple timings, e.g. where\n",
    "\n",
    "```python\n",
    "for p in range(1,4):\n",
    "    N = 10**p\n",
    "    print \"N=%i\" % N\n",
    "    %tic\n",
    "    A = np.random.random((N,N))\n",
    "    np.linalg.eigvals(A)\n",
    "    %toc\n",
    "```\n",
    "\n",
    "each `%toc` will print the time since the last `%tic`. Create separate `tic` and `toc` functions that read and write\n",
    "a global time variable."
   ]
  },
  {
   "cell_type": "code",
   "execution_count": null,
   "metadata": {
    "collapsed": false
   },
   "outputs": [],
   "source": [
    "%load soln/tictocf.py"
   ]
  },
  {
   "cell_type": "code",
   "execution_count": 13,
   "metadata": {
    "collapsed": false
   },
   "outputs": [
    {
     "name": "stdout",
     "output_type": "stream",
     "text": [
      "N=10\n",
      "644 µs\n",
      "N=100\n",
      "15.8 ms\n",
      "N=1000\n",
      "9.05 s\n"
     ]
    }
   ],
   "source": [
    "import numpy as np\n",
    "import sys\n",
    "for p in range(1,4):\n",
    "    N = 10**p\n",
    "    print(\"N=%i\" % N)\n",
    "    sys.stdout.flush()\n",
    "    %tic\n",
    "    A = np.random.random((N,N))\n",
    "    np.linalg.eigvals(A)\n",
    "    %toc"
   ]
  },
  {
   "cell_type": "markdown",
   "metadata": {},
   "source": [
    "### Cell Magic"
   ]
  },
  {
   "cell_type": "markdown",
   "metadata": {},
   "source": [
    "**Cell magics** take two args:\n",
    "\n",
    "1. the **line** on the same line of the magic \n",
    "2. the **cell** the multiline body of the cell after the first line"
   ]
  },
  {
   "cell_type": "code",
   "execution_count": 14,
   "metadata": {
    "collapsed": false
   },
   "outputs": [],
   "source": [
    "def dummy_cell_magic(line, cell):\n",
    "    \"\"\"dummy cell magic for displaying the line and cell it is passed\"\"\"\n",
    "    print(\"line: %r\" % line)\n",
    "    print(\"cell: %r\" % cell)\n",
    "\n",
    "ip.register_magic_function(dummy_cell_magic, \"cell\", \"dummy\")"
   ]
  },
  {
   "cell_type": "code",
   "execution_count": 15,
   "metadata": {
    "collapsed": false
   },
   "outputs": [
    {
     "name": "stdout",
     "output_type": "stream",
     "text": [
      "line: 'this is the line'\n",
      "cell: 'this\\nis the\\ncell'\n"
     ]
    }
   ],
   "source": [
    "%%dummy this is the line\n",
    "this\n",
    "is the\n",
    "cell"
   ]
  },
  {
   "cell_type": "code",
   "execution_count": 16,
   "metadata": {
    "collapsed": false
   },
   "outputs": [
    {
     "data": {
      "text/plain": [
       "('x', range(0, 5))"
      ]
     },
     "execution_count": 16,
     "metadata": {},
     "output_type": "execute_result"
    }
   ],
   "source": [
    "def parse_magic_line(line):\n",
    "    \"\"\"parse a magic line into a name and eval'd expression\"\"\"\n",
    "    name, values_s = line.split(None, 1)\n",
    "    values = eval(values_s, get_ipython().user_ns)\n",
    "    return name, values\n",
    "\n",
    "parse_magic_line(\"x range(5)\")"
   ]
  },
  {
   "cell_type": "markdown",
   "metadata": {},
   "source": [
    "#### Excercise"
   ]
  },
  {
   "cell_type": "markdown",
   "metadata": {},
   "source": [
    "Can you write and register a **cell magic** that automates the outer iteration,\n",
    "timing a block for various values of a particular variable:"
   ]
  },
  {
   "cell_type": "code",
   "execution_count": null,
   "metadata": {
    "collapsed": false
   },
   "outputs": [],
   "source": [
    "%load soln/scalemagic.py"
   ]
  },
  {
   "cell_type": "code",
   "execution_count": 19,
   "metadata": {
    "collapsed": false
   },
   "outputs": [
    {
     "name": "stdout",
     "output_type": "stream",
     "text": [
      "N=10\n",
      "562 µs\n",
      "N=100\n",
      "15.5 ms\n",
      "N=1000\n",
      "9.23 s\n"
     ]
    }
   ],
   "source": [
    "%%scale N [ int(10**p) for p in range(1,4) ]\n",
    "\n",
    "A = np.random.random((N,N))\n",
    "np.linalg.eigvals(A)\n"
   ]
  },
  {
   "cell_type": "code",
   "execution_count": 20,
   "metadata": {
    "collapsed": false
   },
   "outputs": [
    {
     "name": "stdout",
     "output_type": "stream",
     "text": [
      "N=64\n",
      "7.77 ms\n",
      "N=90\n",
      "10.4 ms\n",
      "N=128\n",
      "23 ms\n",
      "N=181\n",
      "59.6 ms\n",
      "N=256\n",
      "170 ms\n",
      "N=362\n",
      "351 ms\n",
      "N=512\n",
      "1.46 s\n",
      "N=724\n",
      "2.98 s\n",
      "N=1024\n",
      "16.9 s\n",
      "N=1448\n",
      "37.2 s\n",
      "N=2048\n",
      "234 s\n"
     ]
    }
   ],
   "source": [
    "%%scale N [ int(2**p) for p in np.linspace(6, 11, 11) ]\n",
    "\n",
    "A = np.random.random((N,N))\n",
    "np.linalg.eigvals(A)\n"
   ]
  },
  {
   "cell_type": "markdown",
   "metadata": {},
   "source": [
    "## Executing Notebooks"
   ]
  },
  {
   "cell_type": "markdown",
   "metadata": {},
   "source": [
    "We can load a notebook into memory using `IPython.nbformat`."
   ]
  },
  {
   "cell_type": "code",
   "execution_count": 21,
   "metadata": {
    "collapsed": false
   },
   "outputs": [],
   "source": [
    "import io\n",
    "import os\n",
    "\n",
    "import IPython.nbformat as nbf"
   ]
  },
  {
   "cell_type": "code",
   "execution_count": 22,
   "metadata": {
    "collapsed": false
   },
   "outputs": [],
   "source": [
    "def load_notebook(filename):\n",
    "    \"\"\"load a notebook object from a filename\"\"\"\n",
    "    if not os.path.exists(filename) and not filename.endswith(\".ipynb\"):\n",
    "        filename = filename + \".ipynb\"\n",
    "    with io.open(filename) as f:\n",
    "        return nbf.read(f, as_version=4)\n"
   ]
  },
  {
   "cell_type": "code",
   "execution_count": 23,
   "metadata": {
    "collapsed": false
   },
   "outputs": [],
   "source": [
    "nb = load_notebook(\"_Sample\")"
   ]
  },
  {
   "cell_type": "markdown",
   "metadata": {},
   "source": [
    "**A notebook is just a dictionary** with attribute access for convenience."
   ]
  },
  {
   "cell_type": "code",
   "execution_count": 24,
   "metadata": {
    "collapsed": false
   },
   "outputs": [
    {
     "data": {
      "text/plain": [
       "dict_keys(['cells', 'nbformat', 'nbformat_minor', 'metadata'])"
      ]
     },
     "execution_count": 24,
     "metadata": {},
     "output_type": "execute_result"
    }
   ],
   "source": [
    "nb.keys()"
   ]
  },
  {
   "cell_type": "code",
   "execution_count": 25,
   "metadata": {
    "collapsed": false
   },
   "outputs": [
    {
     "data": {
      "text/plain": [
       "[{'cell_type': 'markdown', 'metadata': {}, 'source': '# A sample notebook'},\n",
       " {'cell_type': 'code',\n",
       "  'execution_count': None,\n",
       "  'metadata': {'collapsed': False},\n",
       "  'outputs': [],\n",
       "  'source': \"print('hello')\"},\n",
       " {'cell_type': 'code',\n",
       "  'execution_count': None,\n",
       "  'metadata': {'collapsed': False},\n",
       "  'outputs': [],\n",
       "  'source': '%matplotlib inline\\nimport matplotlib.pyplot as plt\\nimport numpy as np\\nplt.plot(np.random.random(100))'},\n",
       " {'cell_type': 'markdown',\n",
       "  'metadata': {},\n",
       "  'source': 'A function for displaying the summary of a notebook object.\\nIt prints a simple summary, such as:\\n\\n```\\n  1   markdown cells, total:   4 lines\\n  5       code cells, total:   4 lines\\n  1    heading cells, total:   1 lines\\n```'},\n",
       " {'cell_type': 'code',\n",
       "  'execution_count': None,\n",
       "  'metadata': {'collapsed': False},\n",
       "  'outputs': [],\n",
       "  'source': 'def nb_info(nb):\\n    \"\"\"display a summary of the contents of a notebook\"\"\"\\n    cell_counts = {}\\n    cell_lines = {}\\n    \\n    for cell in nb.cells:\\n        cell_type = cell.cell_type\\n        count = cell_counts.setdefault(cell_type, 0)\\n        lines = cell_counts.setdefault(cell_type, 0)\\n        cell_counts[cell_type] = count + 1\\n        try:\\n            content = cell.source\\n        except AttributeError:\\n            content = cell.input\\n        cell_lines[cell_type] = lines + len(content.splitlines())\\n    \\n    for cell_type in cell_counts:\\n        print(\"%3i %10s cells, total: %3i lines\" % (cell_counts[cell_type], cell_type, cell_lines[cell_type]))\\n'}]"
      ]
     },
     "execution_count": 25,
     "metadata": {},
     "output_type": "execute_result"
    }
   ],
   "source": [
    "cells = nb.cells\n",
    "cells"
   ]
  },
  {
   "cell_type": "markdown",
   "metadata": {},
   "source": [
    "We can see all the cells and their type"
   ]
  },
  {
   "cell_type": "code",
   "execution_count": 26,
   "metadata": {
    "collapsed": false
   },
   "outputs": [
    {
     "name": "stdout",
     "output_type": "stream",
     "text": [
      "\n",
      "----- markdown -----\n",
      "# A sample notebook\n",
      "\n",
      "----- code -----\n",
      "print('hello')\n",
      "\n",
      "----- code -----\n",
      "%matplotlib inline\n",
      "import matplotlib.pyplot as plt\n",
      "import numpy as np\n",
      "plt.plot(np.random.random(100))\n",
      "\n",
      "----- markdown -----\n",
      "A function for displaying the summary of a notebook object.\n",
      "It prints a simple summary, such as:\n",
      "\n",
      "```\n",
      "  1   markdown cells, total:   4 lines\n",
      "  5       code cells, total:   4 lines\n",
      "  1    heading cells, total:   1 lines\n",
      "```\n",
      "\n",
      "----- code -----\n",
      "def nb_info(nb):\n",
      "    \"\"\"display a summary of the contents of a notebook\"\"\"\n",
      "    cell_counts = {}\n",
      "    cell_lines = {}\n",
      "    \n",
      "    for cell in nb.cells:\n",
      "        cell_type = cell.cell_type\n",
      "        count = cell_counts.setdefault(cell_type, 0)\n",
      "        lines = cell_counts.setdefault(cell_type, 0)\n",
      "        cell_counts[cell_type] = count + 1\n",
      "        try:\n",
      "            content = cell.source\n",
      "        except AttributeError:\n",
      "            content = cell.input\n",
      "        cell_lines[cell_type] = lines + len(content.splitlines())\n",
      "    \n",
      "    for cell_type in cell_counts:\n",
      "        print(\"%3i %10s cells, total: %3i lines\" % (cell_counts[cell_type], cell_type, cell_lines[cell_type]))\n",
      "\n"
     ]
    }
   ],
   "source": [
    "for cell in cells:\n",
    "    print()\n",
    "    print('----- %s -----' % cell.cell_type)\n",
    "    print(cell.source)"
   ]
  },
  {
   "cell_type": "markdown",
   "metadata": {},
   "source": [
    "Now I can run all of the **code cells** with `get_ipython().run_cell`"
   ]
  },
  {
   "cell_type": "code",
   "execution_count": 27,
   "metadata": {
    "collapsed": false
   },
   "outputs": [
    {
     "name": "stdout",
     "output_type": "stream",
     "text": [
      "hello\n"
     ]
    },
    {
     "data": {
      "image/png": "[encoded data removed]",
      "text/plain": [
       "<matplotlib.figure.Figure at 0x7fdcc8161780>"
      ]
     },
     "metadata": {},
     "output_type": "display_data"
    }
   ],
   "source": [
    "for cell in cells:\n",
    "    ip = get_ipython()\n",
    "    if cell.cell_type == 'code':\n",
    "        ip.run_cell(cell.source, silent=True)"
   ]
  },
  {
   "cell_type": "markdown",
   "metadata": {},
   "source": [
    "And we can now use the function that was defined in that notebook:"
   ]
  },
  {
   "cell_type": "code",
   "execution_count": 28,
   "metadata": {
    "collapsed": false
   },
   "outputs": [
    {
     "name": "stdout",
     "output_type": "stream",
     "text": [
      "  2   markdown cells, total:   9 lines\n",
      "  3       code cells, total:  20 lines\n"
     ]
    }
   ],
   "source": [
    "nb_info(nb)"
   ]
  },
  {
   "cell_type": "markdown",
   "metadata": {},
   "source": [
    "### Exercise"
   ]
  },
  {
   "cell_type": "markdown",
   "metadata": {},
   "source": [
    "Can you write and register an `%nbrun` line magic to run a notebook?\n",
    "\n",
    "```python\n",
    "%nbrun Sample\n",
    "```"
   ]
  },
  {
   "cell_type": "code",
   "execution_count": null,
   "metadata": {
    "collapsed": false
   },
   "outputs": [],
   "source": [
    "%load soln/nbrun.py"
   ]
  },
  {
   "cell_type": "code",
   "execution_count": 31,
   "metadata": {
    "collapsed": false
   },
   "outputs": [
    {
     "name": "stdout",
     "output_type": "stream",
     "text": [
      "hello\n"
     ]
    },
    {
     "data": {
      "image/png": "[encoded data removed]",
      "text/plain": [
       "<matplotlib.figure.Figure at 0x7fdcbb494780>"
      ]
     },
     "metadata": {},
     "output_type": "display_data"
    }
   ],
   "source": [
    "%nbrun _Sample"
   ]
  },
  {
   "cell_type": "markdown",
   "metadata": {},
   "source": [
    "The common way to make your magics reusable is to [write an Extension](Customizing%20IPython%20-%20Extensions.ipynb), so let's give that a try."
   ]
  }
 ],
 "metadata": {
  "kernelspec": {
   "display_name": "Python 3",
   "language": "python",
   "name": "python3"
  },
  "language_info": {
   "codemirror_mode": {
    "name": "ipython",
    "version": 3
   },
   "file_extension": ".py",
   "mimetype": "text/x-python",
   "name": "python",
   "nbconvert_exporter": "python",
   "pygments_lexer": "ipython3",
   "version": "3.4.3"
  }
 },
 "nbformat": 4,
 "nbformat_minor": 0
}

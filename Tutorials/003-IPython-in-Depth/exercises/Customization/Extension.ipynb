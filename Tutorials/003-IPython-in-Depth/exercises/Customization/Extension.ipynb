{
 "cells": [
  {
   "cell_type": "markdown",
   "metadata": {},
   "source": [
    "# Customizing IPython - Extensions"
   ]
  },
  {
   "cell_type": "markdown",
   "metadata": {},
   "source": [
    "Extensions are just Python modules with a special function:\n",
    "\n",
    "```python\n",
    "def load_ipython_extension(ip):\n",
    "    do_anything()\n",
    "```\n",
    "\n",
    "`%load_ext module` imports the module, and calls `module.load_ipython_extension(ip)`\n",
    "with the IPython instance.\n",
    "\n",
    "This allows modules or standalone extensions to manipulate IPython.\n",
    "Most often, extensions define new magics or work with the interactive namespace.\n",
    "\n",
    "Cython is an example of a package that can be used as an IPython extension.\n",
    "This defines a few magics for executing Cython code interactively."
   ]
  },
  {
   "cell_type": "code",
   "execution_count": 1,
   "metadata": {
    "collapsed": false
   },
   "outputs": [
    {
     "name": "stderr",
     "output_type": "stream",
     "text": [
      "ERROR: Cell magic `%%cython` not found.\n"
     ]
    }
   ],
   "source": [
    "%%cython\n",
    "\n",
    "cpdef noop():\n",
    "    pass"
   ]
  },
  {
   "cell_type": "code",
   "execution_count": 2,
   "metadata": {
    "collapsed": false
   },
   "outputs": [],
   "source": [
    "%load_ext Cython"
   ]
  },
  {
   "cell_type": "code",
   "execution_count": 3,
   "metadata": {
    "collapsed": false
   },
   "outputs": [],
   "source": [
    "%%cython\n",
    "cimport numpy\n",
    "\n",
    "cpdef cysum(numpy.ndarray[double] A):\n",
    "    \"\"\"Compute the sum of an array\"\"\"\n",
    "    cdef double a=0\n",
    "    for i in range(A.shape[0]):\n",
    "        a += A[i]\n",
    "    return a\n"
   ]
  },
  {
   "cell_type": "code",
   "execution_count": 4,
   "metadata": {
    "collapsed": false
   },
   "outputs": [],
   "source": [
    "def pysum(A):\n",
    "    \"\"\"Compute the sum of an array\"\"\"\n",
    "    a = 0\n",
    "    for i in range(A.shape[0]):\n",
    "        a += A[i]\n",
    "    return a\n"
   ]
  },
  {
   "cell_type": "code",
   "execution_count": 5,
   "metadata": {
    "collapsed": false
   },
   "outputs": [],
   "source": [
    "import numpy as np"
   ]
  },
  {
   "cell_type": "code",
   "execution_count": 6,
   "metadata": {
    "collapsed": false
   },
   "outputs": [
    {
     "name": "stdout",
     "output_type": "stream",
     "text": [
      "Python 100 10000 loops, best of 3: 24.8 µs per loop\n",
      "np.sum 100 The slowest run took 15.82 times longer than the fastest. This could mean that an intermediate result is being cached \n",
      "100000 loops, best of 3: 5.38 µs per loop\n",
      "Cython 100 The slowest run took 10.16 times longer than the fastest. This could mean that an intermediate result is being cached \n",
      "1000000 loops, best of 3: 1.4 µs per loop\n",
      "Python 1000 1000 loops, best of 3: 242 µs per loop\n",
      "np.sum 1000 The slowest run took 9.22 times longer than the fastest. This could mean that an intermediate result is being cached \n",
      "100000 loops, best of 3: 6.81 µs per loop\n",
      "Cython 1000 The slowest run took 5.86 times longer than the fastest. This could mean that an intermediate result is being cached \n",
      "100000 loops, best of 3: 2.96 µs per loop\n",
      "Python 10000 100 loops, best of 3: 2.44 ms per loop\n",
      "np.sum 10000 The slowest run took 5.32 times longer than the fastest. This could mean that an intermediate result is being cached \n",
      "100000 loops, best of 3: 14.8 µs per loop\n",
      "Cython 10000 100000 loops, best of 3: 18.7 µs per loop\n"
     ]
    }
   ],
   "source": [
    "for sz in (100, 1000, 10000):\n",
    "    A = np.random.random(sz)\n",
    "    print(\"Python %i\" % sz, end=' ')\n",
    "    %timeit pysum(A)\n",
    "    print(\"np.sum %i\" % sz, end=' ')\n",
    "    %timeit A.sum()\n",
    "    print(\"Cython %i\" % sz, end=' ')\n",
    "    %timeit cysum(A)\n"
   ]
  },
  {
   "cell_type": "markdown",
   "metadata": {},
   "source": [
    "Let's see what Cython's `load_ipython_extension` function looks like"
   ]
  },
  {
   "cell_type": "code",
   "execution_count": 7,
   "metadata": {
    "collapsed": false
   },
   "outputs": [],
   "source": [
    "import Cython"
   ]
  },
  {
   "cell_type": "code",
   "execution_count": 8,
   "metadata": {
    "collapsed": false
   },
   "outputs": [],
   "source": [
    "Cython.load_ipython_extension??"
   ]
  },
  {
   "cell_type": "code",
   "execution_count": 9,
   "metadata": {
    "collapsed": false
   },
   "outputs": [],
   "source": [
    "from Cython.Build.IpythonMagic import CythonMagics\n",
    "CythonMagics??"
   ]
  },
  {
   "cell_type": "markdown",
   "metadata": {},
   "source": [
    "## Our own extension"
   ]
  },
  {
   "cell_type": "markdown",
   "metadata": {},
   "source": [
    "Loading an extension can do as much or as little as you want.\n",
    "\n",
    "Since we have been defining our timer magics, let's create an extension to make them available in any IPython session."
   ]
  },
  {
   "cell_type": "code",
   "execution_count": 10,
   "metadata": {
    "collapsed": false
   },
   "outputs": [],
   "source": [
    "%pycat soln/mymagics.py"
   ]
  },
  {
   "cell_type": "markdown",
   "metadata": {},
   "source": [
    "`%install_ext` is a function that can take any file path or URL, and puts the target into IPYTHONDIR/extensions"
   ]
  },
  {
   "cell_type": "code",
   "execution_count": 11,
   "metadata": {
    "collapsed": false
   },
   "outputs": [
    {
     "name": "stdout",
     "output_type": "stream",
     "text": [
      "Installed mymagics.py. To use it, type:\n",
      "  %load_ext mymagics\n"
     ]
    }
   ],
   "source": [
    "%install_ext soln/mymagics.py"
   ]
  },
  {
   "cell_type": "code",
   "execution_count": 12,
   "metadata": {
    "collapsed": false
   },
   "outputs": [],
   "source": [
    "%load_ext mymagics"
   ]
  },
  {
   "cell_type": "code",
   "execution_count": 13,
   "metadata": {
    "collapsed": false
   },
   "outputs": [
    {
     "name": "stdout",
     "output_type": "stream",
     "text": [
      "101 ms\n"
     ]
    }
   ],
   "source": [
    "import time\n",
    "%tic\n",
    "time.sleep(0.1)\n",
    "%toc"
   ]
  },
  {
   "cell_type": "code",
   "execution_count": 14,
   "metadata": {
    "collapsed": false
   },
   "outputs": [
    {
     "name": "stdout",
     "output_type": "stream",
     "text": [
      "hello\n"
     ]
    },
    {
     "data": {
      "image/png": "[encoded data removed]",
      "text/plain": [
       "<matplotlib.figure.Figure at 0x7f3afa3941d0>"
      ]
     },
     "metadata": {},
     "output_type": "display_data"
    }
   ],
   "source": [
    "%nbrun _Sample"
   ]
  },
  {
   "cell_type": "markdown",
   "metadata": {},
   "source": [
    "For some example extensions, see [this repository](http://github.com/minrk/ipython_extensions).\n",
    "\n",
    "Now we can get our magics with a single `%load_ext` call.\n",
    "Let's move on to [Configuring IPython](Customizing%20IPython%20-%20Config.ipynb),\n",
    "so we can see how to load our extension at startup."
   ]
  }
 ],
 "metadata": {
  "kernelspec": {
   "display_name": "Python 3",
   "language": "python",
   "name": "python3"
  },
  "language_info": {
   "codemirror_mode": {
    "name": "ipython",
    "version": 3
   },
   "file_extension": ".py",
   "mimetype": "text/x-python",
   "name": "python",
   "nbconvert_exporter": "python",
   "pygments_lexer": "ipython3",
   "version": "3.4.3"
  }
 },
 "nbformat": 4,
 "nbformat_minor": 0
}

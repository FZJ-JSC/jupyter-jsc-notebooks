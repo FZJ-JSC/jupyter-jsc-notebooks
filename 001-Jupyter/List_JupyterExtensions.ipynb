{
 "cells": [
  {
   "cell_type": "markdown",
   "metadata": {
    "toc-hr-collapsed": false
   },
   "source": [
    "# List of Extensions on Jupyter-JSC\n",
    "-----------------------------------"
   ]
  },
  {
   "cell_type": "markdown",
   "metadata": {},
   "source": [
    "If you want to use any of these extensions, feel free to use our [examples](https://github.com/FZJ-JSC/jupyter-jsc-notebooks) as a starting point.  \n",
    "\n",
    "You can list the currently installed extensions by running the command in the JupyterLab terminal: `jupyter labextension list`"
   ]
  },
  {
   "cell_type": "code",
   "execution_count": 3,
   "metadata": {},
   "outputs": [
    {
     "name": "stdout",
     "output_type": "stream",
     "text": [
      "JupyterLab v2.1.4\n",
      "Known labextensions:\n",
      "   app dir: /gpfs/software/juwels/stages/Devel-2019a/software/Jupyter/2019a.2-gcccoremkl-8.3.0-2019.3.199-Python-3.6.8/share/jupyter/lab\n",
      "        @bokeh/jupyter_bokeh v2.0.2 \u001b[32m enabled \u001b[0m \u001b[32mOK\u001b[0m\n",
      "        @jupyter-voila/jupyterlab-preview v1.1.0 \u001b[32m enabled \u001b[0m \u001b[32mOK\u001b[0m\n",
      "        @jupyter-widgets/jupyterlab-manager v2.0.0 \u001b[32m enabled \u001b[0m \u001b[32mOK\u001b[0m\n",
      "        @jupyter-widgets/jupyterlab-sidecar v0.5.0 \u001b[32m enabled \u001b[0m \u001b[32mOK\u001b[0m\n",
      "        @jupyterlab/git v0.20.0 \u001b[32m enabled \u001b[0m \u001b[32mOK\u001b[0m\n",
      "        @jupyterlab/server-proxy v2.1.0 \u001b[32m enabled \u001b[0m \u001b[32mOK\u001b[0m\n",
      "        @jupyterlab/toc v4.0.0 \u001b[32m enabled \u001b[0m \u001b[32mOK\u001b[0m\n",
      "        @krassowski/jupyterlab-lsp v1.0.0 \u001b[32m enabled \u001b[0m \u001b[32mOK\u001b[0m\n",
      "        @krassowski/jupyterlab_go_to_definition v1.0.0 \u001b[32m enabled \u001b[0m \u001b[32mOK\u001b[0m\n",
      "        @parente/jupyterlab-quickopen v0.5.0 \u001b[32m enabled \u001b[0m \u001b[32mOK\u001b[0m\n",
      "        @pyviz/jupyterlab_pyviz v1.0.4 \u001b[32m enabled \u001b[0m \u001b[32mOK\u001b[0m\n",
      "        @ryantam626/jupyterlab_code_formatter v1.3.1 \u001b[32m enabled \u001b[0m \u001b[32mOK\u001b[0m\n",
      "        bqplot v0.5.12 \u001b[32m enabled \u001b[0m \u001b[32mOK\u001b[0m\n",
      "        dask-labextension v2.0.2 \u001b[32m enabled \u001b[0m \u001b[32mOK\u001b[0m\n",
      "        ipyvolume v0.6.0-alpha.5 \u001b[32m enabled \u001b[0m \u001b[32mOK\u001b[0m\n",
      "        itkwidgets v0.27.0 \u001b[32m enabled \u001b[0m \u001b[32mOK\u001b[0m\n",
      "        jupyter-leaflet v0.13.0 \u001b[32m enabled \u001b[0m \u001b[32mOK\u001b[0m\n",
      "        jupyter-matplotlib v0.7.2 \u001b[32m enabled \u001b[0m \u001b[32mOK\u001b[0m\n",
      "        jupyter-threejs v2.2.0 \u001b[32m enabled \u001b[0m \u001b[32mOK\u001b[0m\n",
      "        jupyter-vue v1.3.2 \u001b[32m enabled \u001b[0m \u001b[32mOK\u001b[0m\n",
      "        jupyter-vuetify v1.4.0 \u001b[32m enabled \u001b[0m \u001b[32mOK\u001b[0m\n",
      "        jupyterlab-control v1.1.0 \u001b[32m enabled \u001b[0m \u001b[32mOK\u001b[0m\n",
      "        jupyterlab-dash v0.2.0 \u001b[32m enabled \u001b[0m \u001b[32mOK\u001b[0m\n",
      "        jupyterlab-datawidgets v6.3.0 \u001b[32m enabled \u001b[0m \u001b[32mOK\u001b[0m\n",
      "        jupyterlab-gitlab v2.0.0 \u001b[32m enabled \u001b[0m \u001b[32mOK\u001b[0m\n",
      "        jupyterlab-lmod v0.7.0 \u001b[32m enabled \u001b[0m \u001b[32mOK\u001b[0m\n",
      "        jupyterlab-plotly v4.8.1 \u001b[32m enabled \u001b[0m \u001b[32mOK\u001b[0m\n",
      "        jupyterlab-system-monitor v0.6.0 \u001b[32m enabled \u001b[0m \u001b[32mOK\u001b[0m\n",
      "        jupyterlab-theme-toggle v0.5.0 \u001b[32m enabled \u001b[0m \u001b[32mOK\u001b[0m\n",
      "        jupyterlab-topbar-extension v0.5.0 \u001b[32m enabled \u001b[0m \u001b[32mOK\u001b[0m\n",
      "        jupyterlab_iframe v0.2.2 \u001b[32m enabled \u001b[0m \u001b[32mOK\u001b[0m\n",
      "        nbdime-jupyterlab v2.0.0 \u001b[32m enabled \u001b[0m \u001b[32mOK\u001b[0m\n",
      "        plotlywidget v4.8.1 \u001b[32m enabled \u001b[0m \u001b[32mOK\u001b[0m\n",
      "        pvlink v0.3.1 \u001b[32m enabled \u001b[0m \u001b[32mOK\u001b[0m\n"
     ]
    }
   ],
   "source": [
    "!jupyter labextension list"
   ]
  },
  {
   "cell_type": "markdown",
   "metadata": {},
   "source": [
    "## Dask (only on HPC Systems)  <a class=\"anchor\" id=\"dask\"></a>\n",
    "https://github.com/dask/dask-labextension"
   ]
  },
  {
   "cell_type": "markdown",
   "metadata": {},
   "source": [
    "<div>\n",
    "<img src=https://raw.githubusercontent.com/dask/dask-labextension/master/dask.png width=\"640\" style=\"float:right\"/>\n",
    "</div>\n",
    "\n",
    "An [extension](https://github.com/dask/dask-labextension) to manage Dask clusters, as well as embed Dask's dashboard plots directly into JupyterLab panes.  \n",
    "Watch [this](https://www.youtube.com/watch?feature=player_embedded&v=EX_voquHdk0) video until the end to unterstand how to use Dask in JupyterLab. At the moment we only offer to use the panels inside of JupyterLab.  \n",
    "We have introduction notebooks for this extensions [here](https://gitlab.version.fz-juelich.de/jupyter4jsc/j4j_notebooks/tree/master/001-Extensions) (or open the gitlab extension on the left sidebar)."
   ]
  },
  {
   "cell_type": "markdown",
   "metadata": {},
   "source": [
    "## Git\n",
    "https://github.com/jupyterlab/jupyterlab-git"
   ]
  },
  {
   "cell_type": "markdown",
   "metadata": {},
   "source": [
    "<div>\n",
    "<img src=https://raw.githubusercontent.com/jupyterlab/jupyterlab-git/master/docs/figs/demo-0-10-0.gif width=\"640\" style=\"float:right\"/>\n",
    "</div>\n",
    "\n",
    "A JupyterLab [Git](https://github.com/jupyterlab/jupyterlab-git) extension for version control using git."
   ]
  },
  {
   "cell_type": "markdown",
   "metadata": {},
   "source": [
    "## Table of Contents\n",
    "https://github.com/jupyterlab/jupyterlab-toc"
   ]
  },
  {
   "cell_type": "markdown",
   "metadata": {},
   "source": [
    "<div>\n",
    "<img src=https://raw.githubusercontent.com/jupyterlab/jupyterlab-toc/master/toc.gif width=\"640\" style=\"float:right\"/>\n",
    "</div>\n",
    "\n",
    "A [Table of Contents extension](https://github.com/jupyterlab/jupyterlab-toc) for JupyterLab. This auto-generates a table of contents in the left area when you have a notebook or markdown document open.  \n",
    "The entries are clickable, and scroll the document to the heading in question."
   ]
  },
  {
   "cell_type": "markdown",
   "metadata": {},
   "source": [
    "## Jupyter ThreeJS\n",
    "https://github.com/jupyter-widgets/pythreejs"
   ]
  },
  {
   "cell_type": "markdown",
   "metadata": {},
   "source": [
    "<div>\n",
    "<img src=https://raw.githubusercontent.com/jupyter-widgets/pythreejs/master/screencast.gif width=\"640\" style=\"float:right\"/>\n",
    "</div>\n",
    "\n",
    "A Python / [ThreeJS](https://github.com/jupyter-widgets/pythreejs) bridge utilizing the Jupyter widget infrastructure."
   ]
  },
  {
   "cell_type": "markdown",
   "metadata": {
    "toc-hr-collapsed": false
   },
   "source": [
    "## Leaflet\n",
    "https://github.com/jupyter-widgets/ipyleaflet"
   ]
  },
  {
   "cell_type": "markdown",
   "metadata": {},
   "source": [
    "<div>\n",
    "<img src=https://raw.githubusercontent.com/jupyter-widgets/ipyleaflet/master/basemap.gif width=\"640\" style=\"float:right\"/>\n",
    "</div>\n",
    "\n",
    "The [Jupyterlab Leaflet extension](https://github.com/jupyter-widgets/ipyleaflet) enables interactive maps.  \n",
    "You can find several example notebooks [here](https://github.com/jupyter-widgets/ipyleaflet/tree/master/examples)."
   ]
  },
  {
   "cell_type": "markdown",
   "metadata": {},
   "source": [
    "## Sidecar\n",
    "https://github.com/jupyter-widgets/jupyterlab-sidecar"
   ]
  },
  {
   "cell_type": "markdown",
   "metadata": {},
   "source": [
    "<div>\n",
    "<img src=https://raw.githubusercontent.com/jupyter-widgets/jupyterlab-sidecar/master/sidecar.gif width=\"640\" style=\"float:right\"/>\n",
    "</div>\n",
    "\n",
    "A [sidecar](https://github.com/jupyter-widgets/jupyterlab-sidecar) output widget for JupyterLab"
   ]
  },
  {
   "cell_type": "markdown",
   "metadata": {},
   "source": [
    "## Voilà Preview\n",
    "https://github.com/voila-dashboards/voila"
   ]
  },
  {
   "cell_type": "markdown",
   "metadata": {},
   "source": [
    "<div>\n",
    "<img src=https://jupyter-jsc.fz-juelich.de/hub/static/images/voila_preview.png width=\"640\" style=\"float:right\"/>\n",
    "</div>\n",
    "\n",
    "[Voilà](https://github.com/voila-dashboards/voila) turns Jupyter notebooks into standalone web applications.\n",
    "\n",
    "Unlike the usual HTML-converted notebooks, each user connecting to the Voilà tornado application gets a dedicated Jupyter kernel which can execute the callbacks to changes in Jupyter interactive widgets.  \n",
    "\n",
    "This extension allows you to render a Notebook with Voilà, so you can see how your Notebook will look with it.\n",
    "\n",
    "You can download a test notebook with the following command:  \n",
    "```\n",
    " $ wget --no-check-certificate https://jupyter-jsc.fz-juelich.de/static/files/voila_basics.ipynb\n",
    "```  \n",
    "and get a preview of it with the button at the top of your notebook."
   ]
  },
  {
   "cell_type": "markdown",
   "metadata": {},
   "source": [
    "## Quick Open\n",
    "https://github.com/parente/jupyterlab-quickopen"
   ]
  },
  {
   "cell_type": "markdown",
   "metadata": {},
   "source": [
    "<div>\n",
    "<img src=https://raw.githubusercontent.com/parente/jupyterlab-quickopen/master/doc/quickopen.gif width=\"640\" style=\"float:right\"/>\n",
    "</div>\n",
    "\n",
    "[Quick Open](https://github.com/parente/jupyterlab-quickopen) allows you to quickly open a file in JupyterLab by typing part of its name. Just click on the lens symbol at the left sidebar.  \n",
    "<span style=\"color:darkorange\">Takes a long time on HPC systems.</span>"
   ]
  },
  {
   "cell_type": "markdown",
   "metadata": {},
   "source": [
    "## JupyterLab LaTeX Extension\n",
    "https://github.com/jupyterlab/jupyterlab-latex"
   ]
  },
  {
   "cell_type": "markdown",
   "metadata": {},
   "source": [
    "<div>\n",
    "<img src=https://raw.githubusercontent.com/jupyterlab/jupyterlab-latex/master/images/show_preview.png width=\"640\" style=\"float:right\"/>\n",
    "</div>\n",
    "\n",
    "The [LaTeX Extension](https://github.com/jupyterlab/jupyterlab-latex) is an extension for JupyterLab which allows for live-editing of LaTeX documents.  \n",
    "[Here](https://annefou.github.io/jupyter_publish/03-latex/index.html) you can find a short example."
   ]
  },
  {
   "cell_type": "markdown",
   "metadata": {},
   "source": [
    "## Code Formatter\n",
    "https://github.com/ryantam626/jupyterlab_code_formatter"
   ]
  },
  {
   "cell_type": "markdown",
   "metadata": {},
   "source": [
    "<div>\n",
    "<img src=https://jupyterlab-code-formatter.readthedocs.io/en/latest/_images/demo.gif width=\"640\" style=\"float:right\"/>\n",
    "</div>\n",
    "\n",
    "This is a small Jupyterlab plugin to support using various code formatter on the server side and format code cells/files in Jupyterlab.  \n",
    "Please read the [documentation](https://jupyterlab-code-formatter.readthedocs.io/en/latest/index.html)."
   ]
  },
  {
   "cell_type": "markdown",
   "metadata": {},
   "source": [
    "## IPyVolume\n",
    "https://github.com/maartenbreddels/ipyvolume"
   ]
  },
  {
   "cell_type": "markdown",
   "metadata": {},
   "source": [
    "<div>\n",
    "<img src=https://cloud.githubusercontent.com/assets/1765949/23901444/8d4f26f8-08bd-11e7-81e6-cedad0a8471c.gif width=\"640\" style=\"float:right\"/>\n",
    "</div>\n",
    "\n",
    "3d plotting for Python in the Jupyter notebook based on IPython widgets using WebGL.\n",
    "Please read the [documentation](https://ipyvolume.readthedocs.io/en/latest/). "
   ]
  },
  {
   "cell_type": "markdown",
   "metadata": {},
   "source": [
    "## Jupyter Lmod\n",
    "https://github.com/cmd-ntrf/jupyter-lmod"
   ]
  },
  {
   "cell_type": "markdown",
   "metadata": {},
   "source": [
    "<div>\n",
    "<img src=https://camo.githubusercontent.com/2a1fa198b6b7f35c7b9751664dfe5102fa5aa595/68747470733a2f2f692e696d6775722e636f6d2f3148444837694e2e676966 width=\"640\" style=\"float:right\"/>\n",
    "</div>\n",
    "\n",
    "Jupyter interactive notebook server extension that allows user to interact with environment modules before launching kernels.  \n",
    "The extension use Lmod's Python interface to accomplish module related task like loading, unloading, saving collection, etc."
   ]
  },
  {
   "cell_type": "markdown",
   "metadata": {},
   "source": [
    "## Matplotlib\n",
    "https://github.com/matplotlib/ipympl"
   ]
  },
  {
   "cell_type": "markdown",
   "metadata": {},
   "source": [
    "<div>\n",
    "<img src=https://raw.githubusercontent.com/matplotlib/ipympl/master/matplotlib.gif width=\"640\" style=\"float:right\"/>\n",
    "</div>\n",
    "\n",
    "Leveraging the Jupyter interactive widgets framework, ipympl enables the interactive features of matplotlib in the Jupyter notebook and in JupyterLab.  \n",
    "Besides, the figure canvas element is a proper Jupyter interactive widget which can be positioned in interactive widget layouts.  \n",
    "Please read the [documentation](https://matplotlib.org/contents.html)."
   ]
  },
  {
   "cell_type": "markdown",
   "metadata": {},
   "source": [
    "## NDime\n",
    "https://github.com/jupyter/nbdime"
   ]
  },
  {
   "cell_type": "markdown",
   "metadata": {},
   "source": [
    "<div>\n",
    "<img src=https://raw.githubusercontent.com/jupyter/nbdime/master/docs/source/images/nbmerge-web.png width=\"640\" style=\"float:right\"/>\n",
    "</div>\n",
    "\n",
    "Tools for diffing and merging of Jupyter notebooks.  \n",
    "Please read the [documentation](http://nbdime.readthedocs.io)."
   ]
  },
  {
   "cell_type": "markdown",
   "metadata": {},
   "source": [
    "## Plotly\n",
    "https://github.com/plotly/plotly.py"
   ]
  },
  {
   "cell_type": "markdown",
   "metadata": {},
   "source": [
    "<div>\n",
    "<img src=https://raw.githubusercontent.com/cldougl/plot_images/add_r_img/plotly_2017.png width=\"640\" style=\"float:right\"/>\n",
    "</div>\n",
    "\n",
    "Plotly's Python graphing library makes interactive, publication-quality graphs. Examples of how to make line plots, scatter plots, area charts, bar charts, error bars, box plots, histograms, heatmaps, subplots, multiple-axes, polar charts, and bubble charts.  \n",
    "Please read the [documentation](https://plotly.com/python)."
   ]
  },
  {
   "cell_type": "markdown",
   "metadata": {},
   "source": [
    "## Other Extensions usefull for Jupyter Users\n",
    "- jupyter_bokeh\n",
    "- jupyterlab-lsp\n",
    "- jupyterlab_go_to_definition\n",
    "- jupyterlab_pyviz\n",
    "- bqplot\n",
    "- itkwidgets\n",
    "- jupyterlab-dash\n",
    "- jupyterlab-gitlab\n",
    "- jupyterlab-control\n",
    "- jupyterlab_iframe\n",
    "- jupyterlab-theme-toggle\n",
    "\n",
    "## Internal Extensions\n",
    "- jupyterlab-datawidgets\n",
    "- jupyterlab-server-proxy\n",
    "- jupyterlab-system-monitor\n",
    "- jupyterlab-topbar-extension\n",
    "- pvlink"
   ]
  }
 ],
 "metadata": {
  "kernelspec": {
   "display_name": "Python 3",
   "language": "python",
   "name": "python3"
  },
  "language_info": {
   "codemirror_mode": {
    "name": "ipython",
    "version": 3
   },
   "file_extension": ".py",
   "mimetype": "text/x-python",
   "name": "python",
   "nbconvert_exporter": "python",
   "pygments_lexer": "ipython3",
   "version": "3.6.8"
  },
  "toc-autonumbering": false,
  "toc-showcode": true,
  "toc-showmarkdowntxt": false
 },
 "nbformat": 4,
 "nbformat_minor": 4
}

{
 "cells": [
  {
   "attachments": {
    "67258d94-84e6-4a0c-ae8f-c74332ec082e.jpg": {
     "image/jpeg": "[encoded data removed]"
    }
   },
   "cell_type": "markdown",
   "metadata": {
    "toc-hr-collapsed": false
   },
   "source": [
    "![jsc-logo.jpg](attachment:67258d94-84e6-4a0c-ae8f-c74332ec082e.jpg)\n",
    "Author: [Jens Henrik Göbbert](mailto:j.goebbert@fz-juelich.de)\n",
    "------------------------------------"
   ]
  },
  {
   "cell_type": "markdown",
   "metadata": {
    "toc-hr-collapsed": false
   },
   "source": [
    "# Create your own Jupyter Kernel\n",
    "\n",
    "Often the standard kernel do not provide all features you need for your work. This might be that certain modules are not loaded or packages are not installed.  \n",
    "With your own kernel you can overcome that problem easily and define your own environment, in which you work.\n",
    "\n",
    "This notebook shows you how you can build your own kernel for a **python environment**.\n",
    "\n",
    "-------------------------"
   ]
  },
  {
   "cell_type": "markdown",
   "metadata": {},
   "source": [
    "## Building your own Jupyter kernel is a three step process\n",
    "1. Create/Pimp new virtual Python environment\n",
    "   * venv\n",
    "2. Create/Edit launch script for the Jupyter kernel\n",
    "   * kernel.sh\n",
    "3. Create/Edit Jupyter kernel configuration\n",
    "   * kernel.json"
   ]
  },
  {
   "cell_type": "markdown",
   "metadata": {},
   "source": [
    "### Settings"
   ]
  },
  {
   "cell_type": "markdown",
   "metadata": {},
   "source": [
    "* Set kernel name\n",
    "  - must be lower case\n",
    "  - change if you like"
   ]
  },
  {
   "cell_type": "code",
   "execution_count": null,
   "metadata": {},
   "outputs": [],
   "source": [
    "# INPUT NEEDED:\n",
    "KERNEL_NAME=${USER}_kernel\n",
    "\n",
    "export KERNEL_NAME=$(echo \"${KERNEL_NAME}\" | awk '{print tolower($0)}')\n",
    "echo ${KERNEL_NAME} # double check"
   ]
  },
  {
   "cell_type": "markdown",
   "metadata": {},
   "source": [
    "* List directories where JupyterLab will search for kernels"
   ]
  },
  {
   "cell_type": "code",
   "execution_count": null,
   "metadata": {},
   "outputs": [],
   "source": [
    "# JUPYTER SEARCH PATH (for kernels-directory)\n",
    "echo \"jupyter search paths for kernels-directories\"\n",
    "if [ -z $JUPYTER_PATH ]; then\n",
    "  echo \"$HOME/.local/share/jupyter\"\n",
    "else\n",
    "  tr ':' '\\n' <<< \"$JUPYTER_PATH\"\n",
    "fi"
   ]
  },
  {
   "cell_type": "markdown",
   "metadata": {},
   "source": [
    "* Set kernel type\n",
    "    - private kernel = \"\\${HOME}/.local/\"  \n",
    "    - project kernel = \"\\${PROJECT}/.local/\"  \n",
    "    - other kernel    = \"\\<your-path\\>\" (ensure it is part of $JUPYTER_PATH or your kernel will not be found by JuypterLab)"
   ]
  },
  {
   "cell_type": "code",
   "execution_count": null,
   "metadata": {},
   "outputs": [],
   "source": [
    "# INPUT NEEDED:\n",
    "export KERNEL_TYPE=private # private, project or other\n",
    "export KERNEL_SPECS_PREFIX=/p/home/jusers/$USER/jureca/.local\n",
    "\n",
    "###################\n",
    "# project kernel\n",
    "if [ \"${KERNEL_TYPE}\" == \"project\" ]; then\n",
    "  export KERNEL_SPECS_PREFIX=${PROJECT}/.local\n",
    "  echo \"project kernel\"\n",
    "# private kernel\n",
    "elif [ \"${KERNEL_TYPE}\" == \"private\" ]; then\n",
    "  export KERNEL_SPECS_PREFIX=${HOME}/.local\n",
    "  echo \"private kernel\"\n",
    "else\n",
    "  if [ ! -d \"$KERNEL_SPECS_PREFIX\" ]; then\n",
    "    echo \"ERROR: please create directory $KERNEL_SPECS_PREFIX\"\n",
    "  fi\n",
    "  echo \"other kernel\"\n",
    "fi\n",
    "export KERNEL_SPECS_DIR=${KERNEL_SPECS_PREFIX}/share/jupyter/kernels\n",
    "\n",
    "# check if kernel name is unique\n",
    "if [ -d \"${KERNEL_SPECS_DIR}/${KERNEL_NAME}\" ]; then\n",
    "  echo \"ERROR: Kernel already exists in ${KERNEL_SPECS_DIR}/${KERNEL_NAME}\"\n",
    "  echo \"       Rename kernel name or remove directory.\"\n",
    "fi\n",
    "\n",
    "echo ${KERNEL_SPECS_DIR}/${KERNEL_NAME} # double check"
   ]
  },
  {
   "cell_type": "markdown",
   "metadata": {},
   "source": [
    "* Set directory for kernels virtual environment\n",
    "  - change if you like"
   ]
  },
  {
   "cell_type": "code",
   "execution_count": null,
   "metadata": {},
   "outputs": [],
   "source": [
    "# INPUT NEEDED:\n",
    "export KERNEL_VENVS_DIR=${PROJECT}/${USER}/jupyter/kernels\n",
    "\n",
    "###################\n",
    "mkdir -p ${KERNEL_VENVS_DIR}\n",
    "if [ \"${KERNEL_TYPE}\" != \"private\" ] && [ \"${KERNEL_TYPE}\" != \"other\" ]; then\n",
    "  echo \"Please check the permissions and ensure your project partners have read/execute permissions:\"\n",
    "  namei -l ${KERNEL_VENVS_DIR}\n",
    "fi\n",
    "\n",
    "echo ${KERNEL_VENVS_DIR} # double check\n",
    "ls -lt ${KERNEL_VENVS_DIR}"
   ]
  },
  {
   "cell_type": "markdown",
   "metadata": {},
   "source": [
    "---"
   ]
  },
  {
   "cell_type": "markdown",
   "metadata": {},
   "source": [
    "## 1. Create/Pimp new virtual Python environment"
   ]
  },
  {
   "cell_type": "markdown",
   "metadata": {},
   "source": [
    "* 1.1 - Load required modules"
   ]
  },
  {
   "cell_type": "code",
   "execution_count": null,
   "metadata": {},
   "outputs": [],
   "source": [
    "module -q purge\n",
    "module -q use $OTHERSTAGES        \n",
    "module -q load Stages/Devel-2019a 2> /dev/null # any stage can be used\n",
    "module -q load GCCcore/.8.3.0     2> /dev/null\n",
    "module -q load Python/3.6.8                    # only Python is required\n",
    "module list # double check"
   ]
  },
  {
   "cell_type": "markdown",
   "metadata": {},
   "source": [
    "* 1.2 - Load extra modules you need for your kernel"
   ]
  },
  {
   "cell_type": "code",
   "execution_count": null,
   "metadata": {},
   "outputs": [],
   "source": [
    "# module load <module you need>"
   ]
  },
  {
   "cell_type": "markdown",
   "metadata": {},
   "source": [
    "* 1.3 - Create and activate a virtual environment for the kernel  \n",
    "and ensure python packages installed in the virtual environment are always prefered"
   ]
  },
  {
   "cell_type": "code",
   "execution_count": null,
   "metadata": {},
   "outputs": [],
   "source": [
    "if [ -d \"${KERNEL_VENVS_DIR}/${KERNEL_NAME}\" ]; then\n",
    "  echo \"ERROR: Directory for virtual environment already ${KERNEL_VENVS_DIR}/${KERNEL_NAME}\"\n",
    "  echo \"       Rename kernel name or remove directory.\"\n",
    "else\n",
    "  python -m venv --system-site-packages ${KERNEL_VENVS_DIR}/${KERNEL_NAME}\n",
    "  source ${KERNEL_VENVS_DIR}/${KERNEL_NAME}/bin/activate\n",
    "  export PYTHONPATH=${VIRTUAL_ENV}/lib/python3.6/site-packages:${PYTHONPATH}\n",
    "  echo ${VIRTUAL_ENV} # double check\n",
    "fi"
   ]
  },
  {
   "cell_type": "markdown",
   "metadata": {},
   "source": [
    "* 1.4 - Install Python libraries required for communication with Jupyter"
   ]
  },
  {
   "cell_type": "code",
   "execution_count": null,
   "metadata": {},
   "outputs": [],
   "source": [
    "which pip\n",
    "pip install --ignore-installed ipykernel\n",
    "ls ${VIRTUAL_ENV}/lib/python3.6/site-packages/ # double check"
   ]
  },
  {
   "cell_type": "markdown",
   "metadata": {},
   "source": [
    "* 1.5 - Install whatever else you need in your Python virtual environment (using pip)"
   ]
  },
  {
   "cell_type": "code",
   "execution_count": null,
   "metadata": {},
   "outputs": [],
   "source": [
    "#pip install <python-package you need>"
   ]
  },
  {
   "cell_type": "markdown",
   "metadata": {},
   "source": [
    "---"
   ]
  },
  {
   "cell_type": "markdown",
   "metadata": {},
   "source": [
    "## 2. Create/Edit launch script for the Jupyter kernel"
   ]
  },
  {
   "cell_type": "markdown",
   "metadata": {},
   "source": [
    "* 2.1 - Create launch script, which loads your Python virtual environment and starts the ipykernel process inside:"
   ]
  },
  {
   "cell_type": "code",
   "execution_count": null,
   "metadata": {},
   "outputs": [],
   "source": [
    "echo '#!/bin/bash'\"\n",
    "\n",
    "# Load required modules\n",
    "module purge\n",
    "module use \"'$OTHERSTAGES'\"\n",
    "module load Stages/Devel-2019a\n",
    "module load GCCcore/.8.3.0\n",
    "module load Python/3.6.8\n",
    "\n",
    "# Load extra modules you need for your kernel (as you did in step 1.2)\n",
    "#module load <module you need>\n",
    "    \n",
    "# Activate your Python virtual environment\n",
    "source ${KERNEL_VENVS_DIR}/${KERNEL_NAME}/bin/activate\n",
    "    \n",
    "# Ensure python packages installed in the virtual environment are always prefered\n",
    "export PYTHONPATH=${VIRTUAL_ENV}/lib/python3.6/site-packages:\"'${PYTHONPATH}'\"\n",
    "    \n",
    "exec python -m ipykernel \"'$@' > ${VIRTUAL_ENV}/kernel.sh\n",
    "chmod +x ${VIRTUAL_ENV}/kernel.sh\n",
    "\n",
    "cat ${VIRTUAL_ENV}/kernel.sh # double check"
   ]
  },
  {
   "cell_type": "markdown",
   "metadata": {},
   "source": [
    "---"
   ]
  },
  {
   "cell_type": "markdown",
   "metadata": {},
   "source": [
    "## 3. Create/Edit Jupyter kernel configuration"
   ]
  },
  {
   "cell_type": "markdown",
   "metadata": {},
   "source": [
    "* 3.1 - Create Jupyter kernel configuration directory and files"
   ]
  },
  {
   "cell_type": "code",
   "execution_count": null,
   "metadata": {},
   "outputs": [],
   "source": [
    "python -m ipykernel install --name=${KERNEL_NAME} --prefix ${VIRTUAL_ENV}\n",
    "export VIRTUAL_ENV_KERNELS=${VIRTUAL_ENV}/share/jupyter/kernels"
   ]
  },
  {
   "cell_type": "markdown",
   "metadata": {},
   "source": [
    "* 3.2 - Adjust kernel.json file"
   ]
  },
  {
   "cell_type": "code",
   "execution_count": null,
   "metadata": {},
   "outputs": [],
   "source": [
    "mv ${VIRTUAL_ENV_KERNELS}/${KERNEL_NAME}/kernel.json ${VIRTUAL_ENV_KERNELS}/${KERNEL_NAME}/kernel.json.orig\n",
    "\n",
    "echo '{\n",
    "  \"argv\": [\n",
    "    \"'${KERNEL_VENVS_DIR}/${KERNEL_NAME}/kernel.sh'\",\n",
    "    \"-m\",\n",
    "    \"ipykernel_launcher\",\n",
    "    \"-f\",\n",
    "    \"{connection_file}\"\n",
    "  ],\n",
    "  \"display_name\": \"'${KERNEL_NAME}'\",\n",
    "  \"language\": \"python\"\n",
    "}' > ${VIRTUAL_ENV_KERNELS}/${KERNEL_NAME}/kernel.json\n",
    "\n",
    "cat ${VIRTUAL_ENV_KERNELS}/${KERNEL_NAME}/kernel.json # double check"
   ]
  },
  {
   "cell_type": "markdown",
   "metadata": {},
   "source": [
    "* 3.3 - Create link to kernel specs"
   ]
  },
  {
   "cell_type": "code",
   "execution_count": null,
   "metadata": {},
   "outputs": [],
   "source": [
    "cd ${KERNEL_SPECS_DIR}\n",
    "ln -s ${VIRTUAL_ENV_KERNELS}/${KERNEL_NAME} .\n",
    "\n",
    "ls ${KERNEL_SPECS_DIR} # double check"
   ]
  },
  {
   "cell_type": "markdown",
   "metadata": {},
   "source": [
    "---"
   ]
  },
  {
   "cell_type": "markdown",
   "metadata": {},
   "source": [
    "## 4. Cleanup"
   ]
  },
  {
   "cell_type": "code",
   "execution_count": null,
   "metadata": {},
   "outputs": [],
   "source": [
    "deactivate"
   ]
  }
 ],
 "metadata": {
  "kernelspec": {
   "display_name": "Bash",
   "language": "bash",
   "name": "bash"
  },
  "language_info": {
   "codemirror_mode": "shell",
   "file_extension": ".sh",
   "mimetype": "text/x-sh",
   "name": "bash"
  }
 },
 "nbformat": 4,
 "nbformat_minor": 4
}

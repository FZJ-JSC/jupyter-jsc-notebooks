{
 "cells": [
  {
   "attachments": {
    "88c90614-07ea-4ccb-aab3-7b63dc27a603.png": {
     "image/png": "[encoded data removed]"
    }
   },
   "cell_type": "markdown",
   "metadata": {},
   "source": [
    "<img src=attachment:88c90614-07ea-4ccb-aab3-7b63dc27a603.png width=400, height=41>\n",
    "\n",
    "Author: [Jonathan Windgassen](mailto:j.windgassen@fz-juelich.de)"
   ]
  },
  {
   "cell_type": "markdown",
   "metadata": {},
   "source": [
    "# Extending the default kernel\n",
    "\n",
    "There are many cases where one needs modules from JupyterLab for a project. But building your own kernel is often a detour from the original idea or is annoying when publishing your project. By adding these 4 cells to the top of your project you can load modules for the project \"on the fly\".\n",
    "\n",
    "Besides that this also adds a ways of installing python packages via pip without disrupting the uses packages or access to the system site-packages\n",
    "\n",
    "-------"
   ]
  },
  {
   "cell_type": "markdown",
   "metadata": {},
   "source": [
    "- First we create to temp-folders in the */tmp* directory, who will contain the venv where we install the required packages and a folder that stores the PYTHONPATH and LD_LIBRARY_PATH environment variable. This is necessary because loading modules manipulates these variables but we can't access the changes from within python, so we store the changed variables in a folder.\n",
    "- Then we use a bash-shell to:\n",
    "  - Load the Modules\n",
    "  - Create a venv and installing ipykernel in there\n",
    "  - Write PYTHONPATH and LD_LIBRARY_PATH to the tempdir\n",
    "- Beacause the Dynamic Linker of Python doesn't detect changes in LD_LIBRARY_PATH we need to reboot the Interpreter afterwards to carry these changes over. To gain access to the venv we will start Python from there.\n",
    "- After that we install the required modules.\n",
    "\n",
    "**Note**: The third cell **won't** show that it's completed and the Notebook will show `Python 3 | Starting` at the bottom, although the interpreter already reloaded compeltely. You can savely ignore this and continue with the third shell. As soon as this has finished the Notebook will show `Python3 | Idle` again."
   ]
  },
  {
   "cell_type": "code",
   "execution_count": null,
   "metadata": {},
   "outputs": [],
   "source": [
    "import os, sys, tempfile\n",
    "\n",
    "tempdir = tempfile.mkdtemp()\n",
    "venv_folder = tempfile.mkdtemp()\n",
    "print(tempdir, venv_folder)"
   ]
  },
  {
   "cell_type": "code",
   "execution_count": null,
   "metadata": {},
   "outputs": [],
   "source": [
    "%%bash -s \"$tempdir\" \"$venv_folder\"  # Pass the paths to the bash-subshell\n",
    "\n",
    "######################################################################\n",
    "##                     The modules go here                          ##\n",
    "##     We will use Stage/Devel-2020 with Python 3.8 as a example    ##\n",
    "######################################################################\n",
    "\n",
    "# Update to Stage Devel-2020\n",
    "module --force purge\n",
    "module use $OTHERSTAGES        \n",
    "module load Stages/Devel-2020\n",
    "\n",
    "module load GCC/9.3.0\n",
    "module load Python/3.8.5\n",
    "\n",
    "# Create a venv with the python from Devel-2020 and install ipykernel there (needed for communicating with Jupyter)\n",
    "# If you don't change Python above this should be a normal Python 3.6 venv\n",
    "python -m venv --system-site-packages $2\n",
    "source $2/bin/activate\n",
    "pip install --quiet ipykernel\n",
    "\n",
    "# Store the new variables to the temp-folder\n",
    "echo $PYTHONPATH > $1/pythonpath\n",
    "echo $LD_LIBRARY_PATH > $1/librarypath"
   ]
  },
  {
   "cell_type": "code",
   "execution_count": null,
   "metadata": {},
   "outputs": [],
   "source": [
    "# The arguments for the new python interpreter. We need to initialize ipykernel or JupyterLab will fail to integrate the new process\n",
    "args = [f\"{venv_folder}/bin/python\", \"-m\", \"ipykernel\"]\n",
    "args.extend(sys.argv)\n",
    "\n",
    "# Because we call \"execve\" instead of \"execv\" we get the option to set the environment variables in the process. We use this to smuggle in the changed LD_LIBRARY_PATH and PYTHONPATH.\n",
    "# You also can pass the location of the 2 temp-folders as new environment variables if you want to delete them later for cleanup.\n",
    "env = {\"PYTHONPATH\": open(f\"{tempdir}/pythonpath\").read(),\n",
    "       \"LD_LIBRARY_PATH\": open(f\"{tempdir}/librarypath\").read(),\n",
    "       \"tempdir\": tempdir,\n",
    "       \"venv_folder\": venv_folder}\n",
    " \n",
    "!echo Restarting Interpreter from $venv_folder/bin/python. Please execute the next cell\n",
    "os.execve(f\"{venv_folder}/bin/python\", args, env)"
   ]
  },
  {
   "cell_type": "code",
   "execution_count": null,
   "metadata": {},
   "outputs": [],
   "source": [
    "# Because we are in the venv now, we can safely install all packages that we need and don't come with the Python3-Kernel. No need to add --user\n",
    "%pip install --quiet ..."
   ]
  },
  {
   "cell_type": "markdown",
   "metadata": {},
   "source": [
    "-----\n",
    "\n",
    "After that you can import all you libraries (remember that the Interpreter restarted and you need to reimport os/sys/tempfile if you need them) and start with the notebook"
   ]
  }
 ],
 "metadata": {
  "kernelspec": {
   "display_name": "Python 3",
   "language": "python",
   "name": "python3"
  },
  "language_info": {
   "codemirror_mode": {
    "name": "ipython",
    "version": 3
   },
   "file_extension": ".py",
   "mimetype": "text/x-python",
   "name": "python",
   "nbconvert_exporter": "python",
   "pygments_lexer": "ipython3",
   "version": "3.6.8"
  }
 },
 "nbformat": 4,
 "nbformat_minor": 4
}

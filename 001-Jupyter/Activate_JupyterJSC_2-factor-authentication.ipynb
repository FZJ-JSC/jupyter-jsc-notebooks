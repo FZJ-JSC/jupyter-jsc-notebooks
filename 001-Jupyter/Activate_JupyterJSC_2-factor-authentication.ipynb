{
 "cells": [
  {
   "attachments": {
    "67258d94-84e6-4a0c-ae8f-c74332ec082e.jpg": {
     "image/jpeg": "[encoded data removed]"
    }
   },
   "cell_type": "markdown",
   "metadata": {
    "toc-hr-collapsed": false
   },
   "source": [
    "![jsc-logo.jpg](attachment:67258d94-84e6-4a0c-ae8f-c74332ec082e.jpg)\n",
    "\n",
    "------------------------------------"
   ]
  },
  {
   "cell_type": "markdown",
   "metadata": {},
   "source": [
    "# 2-Factor Authentication (2FA)\n",
    "<div>\n",
    "   <img src=https://jupyter-jsc.fz-juelich.de/hub/static/images/2fa/jupyter-jsc_2fa_img01.png title=\"2-factor-authentication\" width=\"320\" style=\"float:left\"/>\n",
    "   <!-- <img src=images/jupyter-jsc_2fa_img01.png title=\"2-factor-authentication\" width=\"320\" style=\"float:left\"/> -->\n",
    "</div>\n",
    "\n",
    "## Introduction\n",
    "2-Factor Authentication (2FA), sometimes referred to as two-factor verification, is a security method in which you provide **two different authentication factors** to identify yourself at login.\n",
    "This process is **performed to better protect** both your credentials and the resources that you can access.\n",
    "\n",
    "In the **first login step**, you start with the usual entry of a good password. The service then confirms the correctness of the password entered.\n",
    "This does not, however, lead directly to the desired entrance - but to a further barrier.\n",
    "\n",
    "The **second login step** prevents unauthorized third parties from gaining access to your account just because they might have stolen your password.\n",
    "A quite common 2nd-factor is a time-based one-time **confirmation code** generated by a **2fa-generator app** you installs and initializes once on one of your personal devices.\n",
    "This 2fa-generator app then provides (in our case every 30 seconds) a new confirmation code that needs to be entered on the login page.\n",
    "   \n",
    "<div style=\"clear:both\"></div>"
   ]
  },
  {
   "cell_type": "markdown",
   "metadata": {},
   "source": [
    "<div>\n",
    "  <video controls src=\"https://multimedia.gsb.bund.de/BSI/Video/2-Faktor-Authentisierung_SD.conv.mp4\" width=480 style=\"float:right\"/>\n",
    "</div>\n",
    "\n",
    "## Basic Principle\n",
    "These two factors for authentication combine the building blocks **knowledge** and **possession** in the login procedure.  \n",
    "- **knowledge** - the secret knowledge is the password you enter.  \n",
    "- **possession** - With the confirmation code you show that you are in possession of a certain device (e.g. your smartphone), because only the *2fa-generator app*, installed on that device, can generate the necessary *confirmation code*.  \n",
    "\n",
    "<div style=\"clear:both\"></div>\n",
    "<div>\n",
    "    <p style=\"float:right\">Source: Bundesamt für Sicherheit in der Informationstechnik</p>\n",
    "</div>"
   ]
  },
  {
   "cell_type": "markdown",
   "metadata": {},
   "source": [
    "<div>\n",
    "   <img src=https://jupyter-jsc.fz-juelich.de/hub/static/images/2fa/jupyter-jsc_2fa_img02.png title=\"2-factor-authentication\" width=\"320\" style=\"float:left\"/>\n",
    "   <!-- <img src=images/jupyter-jsc_2fa_img02.png title=\"2-factor-authentication\" width=\"320\" style=\"float:left\"/> -->\n",
    "</div>\n",
    "\n",
    "## Algorithm\n",
    "The **2fa-generator app** calculates the current personal **confirmation code** completely autonomously from the outside world using a standardized and open algorithm for the generation of **Time-based One-Time Passwords (TOTP)**.  \n",
    "\n",
    "The TOTP algorithm was published in 2011 by the [Internet Engineering Task Force (IETF)](https://www.ietf.com) as [RFC 6238](https://tools.ietf.org/html/rfc6238). The TOTP algorithm is a hash function in which a secret code is hashed together with the current time.\n",
    "Behind the hash function is the HMAC-based One-time Password Algorithm according to [RFC 4226](https://tools.ietf.org/html/rfc4226) - in simple terms nothing more than a standard that forms a hash in a certain way.\n",
    "\n",
    "The calculation includes both a **\"secret initialization code\"**, that is known to both the server and the client, and the **current time**.\n",
    "The final one-time *confirmation code* is generated from these two inputs and is valid for a certain period of time. (in our case for **30 seconds**).\n",
    "The procedure can be implemented in such a way that slight differences in time between client and server are accepted.\n",
    "\n",
    "Hence, any confirmation code is time-based, calculated locally, and always unique.\n",
    "\n",
    "<div style=\"clear:both\"></div>\n",
    "\n",
    "------------------"
   ]
  },
  {
   "cell_type": "markdown",
   "metadata": {},
   "source": [
    "# How to get started with 2FA\n",
    "<div>\n",
    "   <img src=https://jupyter-jsc.fz-juelich.de/hub/static/images/2fa/jupyter-jsc_2fa_img03.png title=\"2-factor-authentication\" width=\"320\" style=\"float:right\"/>\n",
    "   <!-- <img src=images/jupyter-jsc_2fa_img03.png title=\"2-factor-authentication\" width=\"320\" style=\"float:right\"/> -->\n",
    "</div>\n",
    "\n",
    "## Preparation\n",
    "\n",
    "To get ready to use 2-Factor Authentication (2FA) for Jupyter-JSC you have to **prepare** it ONCE:  \n",
    "- (1) **request 2FA** for Jupyter-JSC,  \n",
    "  - login, send request, check emails\n",
    "- (2) **activate 2FA** for Juypter-JSC,\n",
    "  - (a) install a **2fa-generator app**, which supports the TOTP algorithm,  \n",
    "  - (b) communicate the **secret initialization code** to this 2fa-generator app, and  \n",
    "  - (c) test a first **confirmation code** generated.  \n",
    "\n",
    "... and then 2FA is ready to be used next time you log in.\n",
    "\n",
    "### 1. Request 2FA\n",
    "Please login to Jupyter-JSC as usual through https://jupyter-jsc.fz-juelich.de.  \n",
    "After login please visit the webpage **https://jupyter-jsc.fz-juelich.de/2fa**.  \n",
    "It will show the button **Request 2-Factor Authentication** which you must click to request 2FA for your account.  \n",
    "Now, please wait for the **email to confirm** your request. It includes a one-time link to the personal **activation webpage**.  \n",
    "\n",
    "### 2. Activate 2FA\n",
    "The activation webpage in the confirmation email provides the **secret initialization code** as QR-Code (and string)  \n",
    "and requests a generated **verification code** before 2FA gets activation.  \n",
    "\n",
    "But first, you need to install a **2fa-generator app** on one of your personal devices, which you plan to use in the future to generate the **confirmation codes** for each time you log in.\n",
    "\n",
    "<div style=\"clear:both\"></div>\n"
   ]
  },
  {
   "cell_type": "markdown",
   "metadata": {},
   "source": [
    "<div>\n",
    "   <img src=https://jupyter-jsc.fz-juelich.de/hub/static/images/2fa/jupyter-jsc_2fa_img04.png title=\"2-factor-authentication\" width=\"320\" style=\"float:left\"/>\n",
    "   <!-- <img src=images/jupyter-jsc_2fa_img04.png title=\"2-factor-authentication\" width=\"320\" style=\"float:left\"/> -->\n",
    "</div>\n",
    "\n",
    "### a. Installation\n",
    "There are a large number of different 2fa-generator apps available that implemented the TOTP algorithm.  \n",
    "You have to install **one of them** - for example, take one of the following:  \n",
    "  - [**FreeOTP**](https://freeotp.github.io) ([iOS](https://apps.apple.com/de/app/freeotp-authenticator/id872559395), [Android](https://play.google.com/store/apps/details?id=org.fedorahosted.freeotp&hl=de))  \n",
    "  - [**Authy**](https://authy.com/download/) ([iOS](https://apps.apple.com/de/app/authy/id494168017), [Android](https://play.google.com/store/apps/details?id=com.authy.authy), [Windows](https://authy.com/download/), [macOS](https://authy.com/download/), [Linux](https://snapcraft.io/authy))  \n",
    "  - [**Protectimus Smart OTP**](https://www.protectimus.com/protectimus-smart) ([iOS](https://apps.apple.com/ie/app/protectimus-smart/id854508919), [Android](https://play.google.com/store/apps/details?id=com.protectimus.android))  \n",
    "  - [**Google Authenticator**](https://de.wikipedia.org/wiki/Google_Authenticator) ([iOS](https://apps.apple.com/de/app/google-authenticator/id388497605), [Android](https://play.google.com/store/apps/details?id=com.google.android.apps.authenticator2) )  \n",
    "  - [**Microsoft Authenticator**](https://www.microsoft.com/en-us/account/authenticator) ([iOS](https://apps.apple.com/de/app/microsoft-authenticator/id983156458), [Android](https://play.google.com/store/apps/details?id=com.azure.authenticator), [Windows 10 Mobile](https://www.microsoft.com/en-us/p/microsoft-authenticator/9nblgggzmcj6))  \n",
    "\n",
    "The TOTP algorithm can also be implemented in hardware as a so-called \"hardware token\" (e.g. [Protectimus Tokens](https://www.protectimus.com/tokens/))  \n",
    "\n",
    "<div style=\"clear:both\"></div>"
   ]
  },
  {
   "cell_type": "markdown",
   "metadata": {},
   "source": [
    "<div>\n",
    "   <img src=https://jupyter-jsc.fz-juelich.de/hub/static/images/2fa/jupyter-jsc_2fa_img05.png title=\"2-factor-authentication\" width=\"320\" style=\"float:left\"/>\n",
    "   <!-- <img src=images/jupyter-jsc_2fa_img05.png title=\"2-factor-authentication\" width=\"320\" style=\"float:left\"/> -->\n",
    "</div>\n",
    "\n",
    "### b. Initialization & Validation\n",
    "Before you can use 2FA for Jupyter-JSC a random, user-specific, unique and **secret initialization code** must be known by both Jupyter-JSC and the users 2fa-generator app.\n",
    "This *secret initialization code* gets generated by Jupyter-JSC and is shown as a **QR-Code** (or string) on the activation page.\n",
    "\n",
    "The QR-Code provides the *secret initialization code*  with the descriptive data (1) algorithm = TOTP, (2) period of validity = 30s.\n",
    "Please ensure you set these descriptive dates manually in your 2fa-generator app **if you prefer to use the string** instead of the QR-Code.\n",
    "\n",
    "Next, the 2fa-generates app provides now a **verification code** you have to enter on the activation webpage.\n",
    "Jupyter-JSC now compares the *verification code* you provide with the one generated by Jupyter-JSC.\n",
    "\n",
    "If they match, **2FA is now activated**.\n",
    "\n",
    "<div style=\"clear:both\"></div>\n",
    "\n",
    "----------------------"
   ]
  },
  {
   "cell_type": "markdown",
   "metadata": {},
   "source": [
    "<div>\n",
    "   <img src=https://jupyter-jsc.fz-juelich.de/hub/static/images/2fa/jupyter-jsc_2fa_img06.png title=\"2-factor-authentication\" width=\"320\" style=\"float:right\"/>\n",
    "   <!-- <img src=images/jupyter-jsc_2fa_img06.png title=\"2-factor-authentication\" width=\"320\" style=\"float:right\"/> -->\n",
    "</div>\n",
    "\n",
    "### 2FA-Login at Jupyter-JSC\n",
    "Congratulation! You are now ready to use 2-Factor Authentication with Jupyter-JSC.\n",
    "\n",
    "Login is now as simple as this\n",
    "1. **Enter your password**  \n",
    "    Each time you log in, you enter your password as usual.  \n",
    "2. **Enter the current confirmation code**  \n",
    "    You will then be asked for a confirmation code that you can read from your installed & initialized 2fa-generator app (e.g. on your smartphone).  \n",
    "    \n",
    "**Remember me**  \n",
    "Jupyter-JSC can set a cookie to remember, that you have logged in from this device already.  \n",
    "Just check the \"Remember me\" **checkbox** where you enter confirmation code.  \n",
    "Jupyter-JSC **skips the evaluation** of the confirmation code in this browser on that device then for **one week**."
   ]
  }
 ],
 "metadata": {
  "kernelspec": {
   "display_name": "Python 3",
   "language": "python",
   "name": "python3"
  },
  "language_info": {
   "codemirror_mode": {
    "name": "ipython",
    "version": 3
   },
   "file_extension": ".py",
   "mimetype": "text/x-python",
   "name": "python",
   "nbconvert_exporter": "python",
   "pygments_lexer": "ipython3",
   "version": "3.6.8"
  }
 },
 "nbformat": 4,
 "nbformat_minor": 4
}

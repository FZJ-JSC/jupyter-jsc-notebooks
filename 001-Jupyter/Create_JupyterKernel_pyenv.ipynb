{
 "cells": [
  {
   "attachments": {
    "500ad0ee-8923-43bb-9336-e838a26dc2f1.jpg": {
     "image/jpeg": "[encoded data removed]"
    }
   },
   "cell_type": "markdown",
   "metadata": {
    "toc-hr-collapsed": false
   },
   "source": [
    "![jsc-logo.jpg](attachment:500ad0ee-8923-43bb-9336-e838a26dc2f1.jpg) \n",
    "Author: [Filipe Guimaraes](mailto:f.guimaraes@fz-juelich.de)\n",
    "--------------------------------------"
   ]
  },
  {
   "cell_type": "markdown",
   "metadata": {},
   "source": [
    "# Create your own Jupyter pyenv-Kernel\n",
    "\n",
    "Often the standard kernel do not provide all features you need for your work. This might be that certain modules are not loaded or packages are not installed.\n",
    "With your own kernel you can overcome that problem easily and define your own environment, in which you work.\n",
    "\n",
    "This notebook shows you how you can build your own kernel for a **pyenv environment**.\n",
    "\n",
    "--------------------------------------"
   ]
  },
  {
   "cell_type": "markdown",
   "metadata": {},
   "source": [
    "## Building your own Jupyter pyenv-kernel is a four-step process\n",
    "\n",
    "1. **[Download/Install pyenv](#install)**: To start from scratch, and run the full installation.\n",
    "2. **[Create and setup environment](#environment)**: To create an(other) environment in an existing pyenv setup.\n",
    "3. **[Create/Edit launch script for the Jupyter kernel](#kernel)**: To setup an environment to be run via Jupyter.\n",
    "4. **[Create/Edit Jupyter kernel configuration](#json)**: To attach your user to an existing environment via Jupyter.  "
   ]
  },
  {
   "cell_type": "markdown",
   "metadata": {},
   "source": [
    "If `pyenv` is already installed, start at 2.\n",
    "If the environment already exists, start at 3.\n",
    "If the kernel launch script was already created (e.g., by some other user in the project), start at 4."
   ]
  },
  {
   "cell_type": "markdown",
   "metadata": {},
   "source": [
    "<a id='settings'></a>\n",
    "### Settings"
   ]
  },
  {
   "cell_type": "markdown",
   "metadata": {},
   "source": [
    "To simplifly the process, it is convenient to define a **PYENV_ROOT** path for the central pyenv installation and put on the PATH. "
   ]
  },
  {
   "cell_type": "markdown",
   "metadata": {},
   "source": [
    "**Important**: It is recommended to use a folder inside the $PROJECT file system, as the **$HOME** quota is low. It is also useful to share installation for different users in a single project."
   ]
  },
  {
   "cell_type": "code",
   "execution_count": null,
   "metadata": {},
   "outputs": [],
   "source": [
    "export PYENV_ROOT=${PROJECT_<projectid>}/.pyenv\n",
    "export PATH=\"$PYENV_ROOT/bin:$PATH\""
   ]
  },
  {
   "cell_type": "markdown",
   "metadata": {},
   "source": [
    "Also the environment name can be set in an environment variable **PYENV_ENV** to simplify the process:"
   ]
  },
  {
   "cell_type": "code",
   "execution_count": null,
   "metadata": {},
   "outputs": [],
   "source": [
    "export PYENV_ENV=my_env"
   ]
  },
  {
   "cell_type": "markdown",
   "metadata": {},
   "source": [
    "These lines can be added to `~/.bash_profile` (and then `source ~/.bash_profile`) to automatically set the PATH in case of restarting the shell."
   ]
  },
  {
   "cell_type": "markdown",
   "metadata": {},
   "source": [
    "---\n",
    "<a id='install'></a>\n",
    "## 1. Download/Install pyenv"
   ]
  },
  {
   "cell_type": "markdown",
   "metadata": {},
   "source": [
    "Installing and setting up pyenv from scratch is very simple. A simple command is needed to install pyenv in **$PYENV_ROOT**:"
   ]
  },
  {
   "cell_type": "code",
   "execution_count": null,
   "metadata": {},
   "outputs": [],
   "source": [
    "curl https://pyenv.run | bash"
   ]
  },
  {
   "cell_type": "markdown",
   "metadata": {},
   "source": [
    "---\n",
    "<a id='environment'></a>\n",
    "## 2. Create and setup pyenv environment"
   ]
  },
  {
   "cell_type": "markdown",
   "metadata": {},
   "source": [
    "The following steps describe how to create and setup a new pyenv environment to be used as a jupyter kernel. They can be repeated if multiple environments are required."
   ]
  },
  {
   "cell_type": "markdown",
   "metadata": {},
   "source": [
    "* 2.1 - Activate pyenv and virtual envs"
   ]
  },
  {
   "cell_type": "markdown",
   "metadata": {},
   "source": [
    "Since it is necessary to activate the environment to install the required modules, the following commands should be added to `~/.bash_profile` to activate pyenv and the virtual environments:"
   ]
  },
  {
   "cell_type": "code",
   "execution_count": null,
   "metadata": {},
   "outputs": [],
   "source": [
    "eval \"$(pyenv init --path)\"\n",
    "eval \"$(pyenv init -)\"\n",
    "eval \"$(pyenv virtualenv-init -)\""
   ]
  },
  {
   "cell_type": "markdown",
   "metadata": {},
   "source": [
    "And activate the lines"
   ]
  },
  {
   "cell_type": "code",
   "execution_count": null,
   "metadata": {},
   "outputs": [],
   "source": [
    "source ~/.bash_profile"
   ]
  },
  {
   "cell_type": "markdown",
   "metadata": {},
   "source": [
    "* 2.2 - Install a python version (e.g. `3.10.1`)"
   ]
  },
  {
   "cell_type": "code",
   "execution_count": null,
   "metadata": {},
   "outputs": [],
   "source": [
    "pyenv install 3.10.1"
   ]
  },
  {
   "cell_type": "markdown",
   "metadata": {},
   "source": [
    "Note: This step may take a few minutes to complete the installation."
   ]
  },
  {
   "cell_type": "markdown",
   "metadata": {},
   "source": [
    "* 2.3 - Create a new environment **$PYENV_ENV**"
   ]
  },
  {
   "cell_type": "markdown",
   "metadata": {},
   "source": [
    "The environment is created using the python version installed above"
   ]
  },
  {
   "cell_type": "code",
   "execution_count": null,
   "metadata": {},
   "outputs": [],
   "source": [
    "pyenv virtualenv 3.10.1 $PYENV_ENV"
   ]
  },
  {
   "cell_type": "markdown",
   "metadata": {},
   "source": [
    "* 2.4 - Activate and setup the environment"
   ]
  },
  {
   "cell_type": "markdown",
   "metadata": {},
   "source": [
    "Jupyter requires the `ipykernel` module and its dependencies. To install them, first activate the environment:"
   ]
  },
  {
   "cell_type": "code",
   "execution_count": null,
   "metadata": {},
   "outputs": [],
   "source": [
    "pyenv activate $PYENV_ENV"
   ]
  },
  {
   "cell_type": "markdown",
   "metadata": {},
   "source": [
    "When the environment is successfully activated, the name of the environment is shown between parenthesis in the command line, e.g. `(my_env)`. (To deactivate the environment, use `pyenv deactivate $PYENV_ENV`.)"
   ]
  },
  {
   "cell_type": "markdown",
   "metadata": {},
   "source": [
    "The python version can be checked using"
   ]
  },
  {
   "cell_type": "code",
   "execution_count": null,
   "metadata": {},
   "outputs": [],
   "source": [
    "(my_env)$ python --version\n",
    "Python 3.10.1"
   ]
  },
  {
   "cell_type": "markdown",
   "metadata": {},
   "source": [
    "The list of python modules is still empty"
   ]
  },
  {
   "cell_type": "code",
   "execution_count": null,
   "metadata": {},
   "outputs": [],
   "source": [
    "(my_env)$ pip list\n",
    "Package    Version\n",
    "---------- -------\n",
    "pip        21.2.4\n",
    "setuptools 58.1.0"
   ]
  },
  {
   "cell_type": "markdown",
   "metadata": {},
   "source": [
    "To create a Jupyter kernel, the `ipykernel` and its dependencies are required. `pip` can be used to install it:"
   ]
  },
  {
   "cell_type": "code",
   "execution_count": null,
   "metadata": {},
   "outputs": [],
   "source": [
    "pip install ipykernel"
   ]
  },
  {
   "cell_type": "markdown",
   "metadata": {},
   "source": [
    "Many modules are installed:"
   ]
  },
  {
   "cell_type": "code",
   "execution_count": null,
   "metadata": {},
   "outputs": [],
   "source": [
    "(my_env)$ pip list\n",
    "Package           Version\n",
    "----------------- -------\n",
    "backcall          0.2.0\n",
    "debugpy           1.5.1\n",
    "decorator         5.1.1\n",
    "entrypoints       0.3\n",
    "ipykernel         6.6.1\n",
    "ipython           7.31.0\n",
    "jedi              0.18.1\n",
    "jupyter-client    7.1.0\n",
    "jupyter-core      4.9.1\n",
    "matplotlib-inline 0.1.3\n",
    "nest-asyncio      1.5.4\n",
    "parso             0.8.3\n",
    "pexpect           4.8.0\n",
    "pickleshare       0.7.5\n",
    "pip               21.1.1\n",
    "prompt-toolkit    3.0.24\n",
    "ptyprocess        0.7.0\n",
    "Pygments          2.11.2\n",
    "python-dateutil   2.8.2\n",
    "pyzmq             22.3.0\n",
    "setuptools        56.0.0\n",
    "six               1.16.0\n",
    "tornado           6.1\n",
    "traitlets         5.1.1\n",
    "wcwidth           0.2.5"
   ]
  },
  {
   "cell_type": "markdown",
   "metadata": {},
   "source": [
    "---\n",
    "<a id='kernel'></a>\n",
    "## 3. Create/Edit launch script for the Jupyter kernel"
   ]
  },
  {
   "cell_type": "markdown",
   "metadata": {},
   "source": [
    "The following steps describe how to create and configure the launch script of a new Jupyter kernel using a pyenv environment. If the environment was created in the $PROJECT folder, many users of the project can follow these steps to create the kernel. The steps assume the variables described in the **[Settings section](#settings)** are set up. Here, they don't need to be set in `~/.bash_profile` or `~/.bashrc`."
   ]
  },
  {
   "cell_type": "markdown",
   "metadata": {},
   "source": [
    "<a id='launch'></a>\n",
    "* 3.1 - Create kernel script to allow access to the pyenv environment"
   ]
  },
  {
   "cell_type": "code",
   "execution_count": null,
   "metadata": {},
   "outputs": [],
   "source": [
    "echo '#!/bin/bash\n",
    "\n",
    "module purge\n",
    "\n",
    "export PYENV_ROOT=$PYENV_ROOT\n",
    "export PATH=\"$PYENV_ROOT/bin:$PATH\"\n",
    "eval \"$(pyenv init --path)\"\n",
    "eval \"$(pyenv init -)\"\n",
    "eval \"$(pyenv virtualenv-init -)\"\n",
    "\n",
    "# Activate your Python virtual environment\n",
    "pyenv activate \"${PYENV_ENV}\"\n",
    "\n",
    "exec python -m ipykernel $@' > ${PYENV_ROOT}/versions/${PYENV_ENV}/kernel.sh"
   ]
  },
  {
   "cell_type": "markdown",
   "metadata": {},
   "source": [
    "Note: the `export` and `eval` lines are repeated here as they are not required to be in `~/.bash_profile` on these steps."
   ]
  },
  {
   "cell_type": "markdown",
   "metadata": {},
   "source": [
    "Add executable permission to the script:"
   ]
  },
  {
   "cell_type": "code",
   "execution_count": null,
   "metadata": {},
   "outputs": [],
   "source": [
    "chmod +x ${PYENV_ROOT}/versions/${PYENV_ENV}/kernel.sh"
   ]
  },
  {
   "cell_type": "markdown",
   "metadata": {},
   "source": [
    "---\n",
    "## 4. Create/Edit Jupyter kernel configuration"
   ]
  },
  {
   "cell_type": "markdown",
   "metadata": {},
   "source": [
    "These steps describe how to create a Jupyter kernel configuration file, to be able to access the environment via a Jupyter notebook. To access an existing pyenv environment located in **$PROJECT**, only these steps are necessary. The steps assume the variables described in the **[Settings section](#settings)** are set up."
   ]
  },
  {
   "cell_type": "markdown",
   "metadata": {},
   "source": [
    "* 4.1 - Create a folder for the kernel"
   ]
  },
  {
   "cell_type": "code",
   "execution_count": null,
   "metadata": {},
   "outputs": [],
   "source": [
    "mkdir -p $HOME/.local/share/jupyter/kernels/pyenv_${PYENV_ENV}"
   ]
  },
  {
   "cell_type": "markdown",
   "metadata": {},
   "source": [
    "* 4.2 - Create and adjust the kernel.json file"
   ]
  },
  {
   "cell_type": "code",
   "execution_count": null,
   "metadata": {},
   "outputs": [],
   "source": [
    "echo '{\n",
    " \"argv\": [\n",
    "  \"'\"${PYENV_ROOT}\"'/versions/'\"${PYENV_ENV}\"'/kernel.sh\",\n",
    "  \"-f\",\n",
    "  \"{connection_file}\"\n",
    " ],\n",
    " \"display_name\": \"pyenv_'\"${PYENV_ENV}\"'\",\n",
    " \"language\": \"python\"\n",
    "}' > $HOME/.local/share/jupyter/kernels/pyenv_${PYENV_ENV}/kernel.json"
   ]
  },
  {
   "cell_type": "markdown",
   "metadata": {},
   "source": [
    "Restart of JupyterLab might be necessary to see the kernel in the kernel selection overview."
   ]
  }
 ],
 "metadata": {
  "kernelspec": {
   "display_name": "Bash",
   "language": "bash",
   "name": "bash"
  },
  "language_info": {
   "codemirror_mode": "shell",
   "file_extension": ".sh",
   "mimetype": "text/x-sh",
   "name": "bash"
  }
 },
 "nbformat": 4,
 "nbformat_minor": 4
}

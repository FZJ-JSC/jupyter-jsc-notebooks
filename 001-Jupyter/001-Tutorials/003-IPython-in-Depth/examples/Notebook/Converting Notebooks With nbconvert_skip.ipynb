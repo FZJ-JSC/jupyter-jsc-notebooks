{
 "cells": [
  {
   "cell_type": "markdown",
   "metadata": {},
   "source": [
    "# NbConvert"
   ]
  },
  {
   "cell_type": "markdown",
   "metadata": {},
   "source": [
    "## Command line usage"
   ]
  },
  {
   "cell_type": "markdown",
   "metadata": {},
   "source": [
    "`NbConvert` is the library, and the command line tool that allow to convert from notebook to other formats.\n",
    "It is a technological preview in 1.0 but is already usable and highly configurable.\n",
    "It ships already with many default available formats : `html`, `latex`, `markdown`, `python`, `rst` and  `slides`\n",
    "which are fully base on Jinja templating engine, so writing a converter for your custom format or tweeking the existing \n",
    "one should be extra simple."
   ]
  },
  {
   "cell_type": "markdown",
   "metadata": {},
   "source": [
    "You can invoke nbconvert by doing\n",
    "\n",
    "```bash\n",
    "$ ipython nbconvert <options and arguments>\n",
    "```\n",
    "\n",
    "Call `ipython nbconvert` with the `--help` flag or no aruments to get basic help on how to use it.\n",
    "For more information about configuration use the `--help-all` flag"
   ]
  },
  {
   "cell_type": "markdown",
   "metadata": {},
   "source": [
    "### Basic export"
   ]
  },
  {
   "cell_type": "markdown",
   "metadata": {},
   "source": [
    "We will be converting `Converting Notebooks With nbconvert.ipynb'`. \n",
    "Be sure to have runed some of the cells in it to have output otherwise you will only see input in nbconvert.\n",
    "Nbconvert **do not execute the code** in the notebook files, it only converts what is inside."
   ]
  },
  {
   "cell_type": "code",
   "execution_count": 2,
   "metadata": {
    "collapsed": false,
    "jupyter": {
     "outputs_hidden": false
    }
   },
   "outputs": [
    {
     "name": "stderr",
     "output_type": "stream",
     "text": [
      "[NbConvertApp] Converting notebook Converting Notebooks With nbconvert.ipynb to html\n",
      "[NbConvertApp] Writing 291939 bytes to Converting Notebooks With nbconvert.html\n"
     ]
    }
   ],
   "source": [
    "%%bash\n",
    "jupyter nbconvert 'Converting Notebooks With nbconvert.ipynb'"
   ]
  },
  {
   "cell_type": "markdown",
   "metadata": {},
   "source": [
    "Html is the default value (that can be configured) , so the verbose form would be "
   ]
  },
  {
   "cell_type": "code",
   "execution_count": 3,
   "metadata": {
    "collapsed": false,
    "jupyter": {
     "outputs_hidden": false
    }
   },
   "outputs": [
    {
     "name": "stderr",
     "output_type": "stream",
     "text": [
      "[NbConvertApp] Converting notebook Converting Notebooks With nbconvert.ipynb to html\n",
      "[NbConvertApp] Writing 291939 bytes to Converting Notebooks With nbconvert.html\n"
     ]
    }
   ],
   "source": [
    "%%bash\n",
    "jupyter nbconvert  --to=html 'Converting Notebooks With nbconvert.ipynb'"
   ]
  },
  {
   "cell_type": "markdown",
   "metadata": {},
   "source": [
    "You can also convert to latex, which will take care of extractin the embeded base64 encoded png, or the svg and call inkscape to convert those svg to pdf if necessary :"
   ]
  },
  {
   "cell_type": "code",
   "execution_count": 4,
   "metadata": {
    "collapsed": false,
    "jupyter": {
     "outputs_hidden": false
    }
   },
   "outputs": [
    {
     "name": "stderr",
     "output_type": "stream",
     "text": [
      "[NbConvertApp] Converting notebook Converting Notebooks With nbconvert.ipynb to latex\n",
      "[NbConvertApp] Writing 34415 bytes to Converting Notebooks With nbconvert.tex\n"
     ]
    }
   ],
   "source": [
    "%%bash\n",
    "jupyter nbconvert  --to=latex 'Converting Notebooks With nbconvert.ipynb'"
   ]
  },
  {
   "cell_type": "markdown",
   "metadata": {},
   "source": [
    "You should just have to compile the generated `.tex` file. If you get the required packages installed, if should compile out of the box.\n"
   ]
  },
  {
   "cell_type": "code",
   "execution_count": 7,
   "metadata": {
    "collapsed": false,
    "jupyter": {
     "outputs_hidden": false
    }
   },
   "outputs": [
    {
     "name": "stderr",
     "output_type": "stream",
     "text": [
      "[NbConvertApp] Converting notebook Index.ipynb to pdf\n",
      "[NbConvertApp] Writing 22282 bytes to ./notebook.tex\n",
      "[NbConvertApp] Building PDF\n",
      "[NbConvertApp] Running xelatex 3 times: ['xelatex', './notebook.tex', '-quiet']\n",
      "[NbConvertApp] Running bibtex 1 time: ['bibtex', './notebook']\n",
      "[NbConvertApp] WARNING | bibtex had problems, most likely because there were no citations\n",
      "[NbConvertApp] PDF successfully created\n",
      "[NbConvertApp] Writing 17298 bytes to Index.pdf\n"
     ]
    }
   ],
   "source": [
    "%%bash\n",
    "jupyter nbconvert  --to=pdf 'Index.ipynb'"
   ]
  },
  {
   "cell_type": "markdown",
   "metadata": {},
   "source": [
    "Have a look at `04 - Custom Display Logic.pdf`, toward the end, where we compared `display()` vs `display_html()` and returning the object.\n",
    "See how the cell where we use `display_html` was not able to display the circle, whereas the two other ones were able to select one of the oher representation they know how to display."
   ]
  },
  {
   "cell_type": "markdown",
   "metadata": {},
   "source": [
    "### Customizing template"
   ]
  },
  {
   "cell_type": "markdown",
   "metadata": {},
   "source": [
    "let's look at the first 20 lines of the `python` exporter"
   ]
  },
  {
   "cell_type": "code",
   "execution_count": 8,
   "metadata": {
    "collapsed": false,
    "jupyter": {
     "outputs_hidden": false
    }
   },
   "outputs": [
    {
     "name": "stdout",
     "output_type": "stream",
     "text": [
      "# Call `ipython nbconvert` with the `--help` flag or no aruments to get basic help on how to use it.\n",
      "# For more information about configuration use the `--help-all` flag\n",
      "\n",
      "# ### Basic export\n",
      "\n",
      "# We will be converting `Converting Notebooks With nbconvert.ipynb'`. \n",
      "# Be sure to have runed some of the cells in it to have output otherwise you will only see input in nbconvert.\n",
      "# Nbconvert **do not execute the code** in the notebook files, it only converts what is inside.\n",
      "\n",
      "# In[2]:\n",
      "\n",
      "\n",
      "get_ipython().run_cell_magic('bash', '', \"jupyter nbconvert 'Converting Notebooks With nbconvert.ipynb'\")\n",
      "\n",
      "\n",
      "# Html is the default value (that can be configured) , so the verbose form would be \n",
      "\n",
      "# In[3]:\n",
      "\n",
      "\n"
     ]
    }
   ],
   "source": [
    "pyfile = !jupyter nbconvert --to python 'Converting Notebooks With nbconvert.ipynb' --stdout\n",
    "for l in pyfile[20:40]:\n",
    "    print(l)"
   ]
  },
  {
   "cell_type": "markdown",
   "metadata": {},
   "source": [
    "We see that the non-code cell are exported to the file. To have a cleaner script, we will export only the code contained in the code cells.\n",
    "\n",
    "To do so, we will inherit the python template, and overwrite the markdown blocks to be empty."
   ]
  },
  {
   "cell_type": "code",
   "execution_count": 9,
   "metadata": {
    "collapsed": false,
    "jupyter": {
     "outputs_hidden": false
    }
   },
   "outputs": [
    {
     "name": "stdout",
     "output_type": "stream",
     "text": [
      "Writing simplepython.tpl\n"
     ]
    }
   ],
   "source": [
    "%%writefile simplepython.tpl\n",
    "{% extends 'python.tpl'%}\n",
    "\n",
    "{% block markdowncell -%}\n",
    "{% endblock markdowncell %}\n",
    "\n",
    "## we also want to get rig of header cell\n",
    "{% block headingcell -%}\n",
    "{% endblock headingcell %}\n",
    "\n",
    "## and let's change the appearance of input prompt\n",
    "{% block in_prompt %}\n",
    "# This was input cell with prompt number : {{ cell.prompt_number if cell.prompt_number else ' ' }}\n",
    "{%- endblock in_prompt %}"
   ]
  },
  {
   "cell_type": "code",
   "execution_count": 13,
   "metadata": {
    "collapsed": false,
    "jupyter": {
     "outputs_hidden": false
    }
   },
   "outputs": [
    {
     "name": "stdout",
     "output_type": "stream",
     "text": [
      "# This was input cell with prompt number :  \n",
      "get_ipython().run_cell_magic('bash', '', \"jupyter nbconvert 'Converting Notebooks With nbconvert.ipynb'\")\n",
      "\n",
      "\n",
      "# This was input cell with prompt number :  \n",
      "get_ipython().run_cell_magic('bash', '', \"jupyter nbconvert  --to=html 'Converting Notebooks With nbconvert.ipynb'\")\n",
      "\n",
      "\n",
      "# This was input cell with prompt number :  \n",
      "get_ipython().run_cell_magic('bash', '', \"jupyter nbconvert  --to=latex 'Converting Notebooks With nbconvert.ipynb'\")\n",
      "\n",
      "\n",
      "# This was input cell with prompt number :  \n",
      "get_ipython().run_cell_magic('bash', '', \"jupyter nbconvert  --to=pdf 'Converting Notebooks With nbconvert.ipynb'\")\n",
      "\n",
      "\n",
      "# This was input cell with prompt number :  \n",
      "pyfile = get_ipython().getoutput(\"jupyter nbconvert --to python 'Converting Notebooks With nbconvert.ipynb' --stdout\")\n",
      "for l in pyfile[20:40]:\n",
      "    print(l)\n",
      "\n",
      "\n",
      "# This was input cell with prompt number :  \n",
      "get_ipython().run_cell_magic('writefile', 'simplepython.tpl', \"{% extends 'python.tpl'%}\\n\\n{% block markdowncell -%}\\n{% endblock markdowncell %}\\n\\n## we also want to get rig of header cell\\n{% block headingcell -%}\\n{% endblock headingcell %}\\n\\n## and let's change the appearance of input prompt\\n{% block in_prompt %}\\n# This was input cell with prompt number : {{ cell.prompt_number if cell.prompt_number else ' ' }}\\n{%- endblock in_prompt %}\")\n",
      "\n",
      "\n",
      "# This was input cell with prompt number :  \n",
      "pyfile = get_ipython().getoutput(\"jupyter nbconvert --to python 'Custom Keyboard Shortcuts.ipynb' --stdout --template=simplepython.tpl\")\n",
      "\n",
      "for l in pyfile[4:40]:\n",
      "    print(l)\n",
      "print('...')\n",
      "\n",
      "\n",
      "# This was input cell with prompt number :  \n",
      "get_ipython().run_cell_magic('bash', '', '# ipython nbconvert --to=html <your chosen notebook.ipynb> --template=<your template file>')\n",
      "...\n"
     ]
    }
   ],
   "source": [
    "pyfile = !jupyter nbconvert --to python 'Converting Notebooks With nbconvert.ipynb' --stdout --template=simplepython.tpl\n",
    "\n",
    "for l in pyfile[4:40]:\n",
    "    print(l)\n",
    "print('...')"
   ]
  },
  {
   "cell_type": "markdown",
   "metadata": {},
   "source": [
    "I'll let you read Jinja manual for the exact syntax of the template."
   ]
  },
  {
   "cell_type": "markdown",
   "metadata": {},
   "source": [
    "## Template that use cells metadata"
   ]
  },
  {
   "cell_type": "markdown",
   "metadata": {},
   "source": [
    "Notebook fileformat support attaching arbitrary JSON metadata to each cell of a notebook. In this part we will use those metadata."
   ]
  },
  {
   "cell_type": "markdown",
   "metadata": {},
   "source": [
    "First you need to choose another notebook you want to convert to html, and tag some of the cell with metadata.\n",
    "You can see the file `soln/celldiff.js` for a solution on how to tag, or follow the javascript tutorial to see how to do that. Use what we have written there to tag cells of some notebooks to `Easy`|`Medium`|`Hard`|`<None>`, and convert this notebook using your template."
   ]
  },
  {
   "cell_type": "markdown",
   "metadata": {},
   "source": [
    "you might need the following : \n",
    "```\n",
    "{% extends 'html_full.tpl'%}\n",
    "{% block any_cell %}\n",
    "{{ super() }}\n",
    "<div style=\"background-color:red\">\n",
    "<div style='background-color:orange'>\n",
    "```\n",
    "\n",
    "`metadata` might not exist, be sure to :\n",
    "\n",
    "`cell['metadata'].get('example',{}).get('difficulty','')`\n",
    "\n",
    "tip: use `%%writefile` to edit the template in the notebook :-)"
   ]
  },
  {
   "cell_type": "code",
   "execution_count": 11,
   "metadata": {
    "collapsed": false,
    "jupyter": {
     "outputs_hidden": false
    }
   },
   "outputs": [],
   "source": [
    "%%bash\n",
    "# ipython nbconvert --to=html <your chosen notebook.ipynb> --template=<your template file>"
   ]
  },
  {
   "cell_type": "raw",
   "metadata": {
    "jupyter": {
     "outputs_hidden": false
    }
   },
   "source": [
    "# %load ../../exercises/soln/coloreddiff.tpl\n",
    "{% extends 'html_full.tpl'%}\n",
    "\n",
    "{% block any_cell %}\n",
    "    {% if cell['metadata'].get('example',{}).get('difficulty','') == 'Hard' -%}\n",
    "        <div style=\"background-color:red\">\n",
    "        {{ super() }}\n",
    "        </div>\n",
    "    {% elif  cell['metadata'].get('example',{}).get('difficulty','') == 'Medium'  %}\n",
    "        <div style='background-color:orange'>\n",
    "        {{ super() }}\n",
    "        </div>\n",
    "    {% else  %}\n",
    "        {{ super() }}\n",
    "    {% endif %}\n",
    "{%- endblock any_cell %}"
   ]
  },
  {
   "cell_type": "code",
   "execution_count": 12,
   "metadata": {
    "collapsed": false,
    "jupyter": {
     "outputs_hidden": false
    }
   },
   "outputs": [],
   "source": [
    "#%%bash\n",
    "#jupyter nbconvert --to=html 'Converting Notebooks With nbconvert.ipynb' --template=../../exercises/soln/coloreddiff.tpl"
   ]
  },
  {
   "cell_type": "markdown",
   "metadata": {},
   "source": [
    "### Get rid of all command line flags."
   ]
  },
  {
   "cell_type": "markdown",
   "metadata": {},
   "source": [
    "As of all of IPython nbconvert can be configured using profiles and passing the `--profile` flag. \n",
    "Moreover if a `config.py` file exist in current working directory nbconvert will use that, or read the config file you give to it with the `--config=<file>` flag. \n",
    "\n",
    "In the end, if you are often running nbconvert on the sam project, `$ ipython nbconvert` should be enough to get you up and ready."
   ]
  },
  {
   "cell_type": "markdown",
   "metadata": {},
   "source": [
    "## Cleanup"
   ]
  },
  {
   "cell_type": "code",
   "execution_count": 15,
   "metadata": {},
   "outputs": [],
   "source": [
    "!rm -f 'Converting Notebooks With nbconvert.html'\n",
    "!rm -f 'Converting Notebooks With nbconvert.tex'\n",
    "!rm -f 'Converting Notebooks With nbconvert.pdf'\n",
    "!rm -f 'Index.pdf'\n",
    "!rm -f simplepython.tpl"
   ]
  },
  {
   "cell_type": "code",
   "execution_count": null,
   "metadata": {},
   "outputs": [],
   "source": []
  }
 ],
 "metadata": {
  "kernelspec": {
   "display_name": "Python 3",
   "language": "python",
   "name": "python3"
  },
  "language_info": {
   "codemirror_mode": {
    "name": "ipython",
    "version": 3
   },
   "file_extension": ".py",
   "mimetype": "text/x-python",
   "name": "python",
   "nbconvert_exporter": "python",
   "pygments_lexer": "ipython3",
   "version": "3.6.8"
  }
 },
 "nbformat": 4,
 "nbformat_minor": 4
}

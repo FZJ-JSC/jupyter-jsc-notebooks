{
 "cells": [
  {
   "cell_type": "markdown",
   "metadata": {},
   "source": [
    "# Custom Display Logic Exercises"
   ]
  },
  {
   "cell_type": "code",
   "execution_count": 1,
   "metadata": {
    "collapsed": false,
    "jupyter": {
     "outputs_hidden": false
    }
   },
   "outputs": [],
   "source": [
    "from IPython.display import display\n",
    "from IPython.display import (\n",
    "    display_png, display_html, display_latex,\n",
    "    display_javascript, display_svg\n",
    ")"
   ]
  },
  {
   "cell_type": "markdown",
   "metadata": {},
   "source": [
    "## Circle class with custom display methods"
   ]
  },
  {
   "cell_type": "markdown",
   "metadata": {},
   "source": [
    "Write a simple `MyCircle` Python class. Here is a skeleton to get you started:\n",
    "\n",
    "```python\n",
    "class MyCircle(object):\n",
    "    def __init__(self, center=(0.0,0.0), radius=1.0, color='blue'):\n",
    "        self.center = center\n",
    "        self.radius = radius\n",
    "        self.color = color\n",
    "```\n",
    "\n",
    "Now add special display methods to this class for the following representations (remember to wrap them in Python strings):\n",
    "\n",
    "For HTML:\n",
    "\n",
    "    &#x25CB;\n",
    "\n",
    "For SVG:\n",
    "\n",
    "    <svg width=\"100px\" height=\"100px\">\n",
    "        <circle cx=\"50\" cy=\"50\" r=\"20\" stroke=\"black\" stroke-width=\"1\" fill=\"white\"/>\n",
    "    </svg>\n",
    "\n",
    "For LaTeX (wrap with `$` and use a raw Python string):\n",
    "\n",
    "    \\bigcirc\n",
    "\n",
    "For JavaScript:\n",
    "\n",
    "    alert('I am a circle!');\n",
    "\n",
    "After you write the class, create an instance and then use `display_html`, `display_svg`, `display_latex` and `display_javascript` to display those representations."
   ]
  },
  {
   "cell_type": "markdown",
   "metadata": {},
   "source": [
    "### Solution"
   ]
  },
  {
   "cell_type": "markdown",
   "metadata": {},
   "source": [
    "Here is the solution to the simple `MyCircle` class:"
   ]
  },
  {
   "cell_type": "code",
   "execution_count": 2,
   "metadata": {
    "collapsed": false,
    "jupyter": {
     "outputs_hidden": false
    }
   },
   "outputs": [],
   "source": [
    "# %load -s MyCircle soln/mycircle.py\n",
    "class MyCircle(object):\n",
    "\n",
    "    def __init__(self, center=(0.0,0.0), radius=1.0, color='blue'):\n",
    "        self.center = center\n",
    "        self.radius = radius\n",
    "        self.color = color\n",
    "\n",
    "    def _repr_html_(self):\n",
    "        return \"&#x25CB; (<b>html</b>)\"\n",
    "\n",
    "    def _repr_svg_(self):\n",
    "        return \"\"\"<svg width=\"100px\" height=\"100px\">\n",
    "           <circle cx=\"50\" cy=\"50\" r=\"20\" stroke=\"black\" stroke-width=\"1\" fill=\"blue\"/>\n",
    "        </svg>\"\"\"\n",
    "    \n",
    "    def _repr_latex_(self):\n",
    "        return r\"$\\bigcirc \\LaTeX$\"\n",
    "\n",
    "    def _repr_javascript_(self):\n",
    "        return \"alert('I am a circle!');\"\n"
   ]
  },
  {
   "cell_type": "markdown",
   "metadata": {},
   "source": [
    "Now create an instance and use the display methods:"
   ]
  },
  {
   "cell_type": "code",
   "execution_count": 3,
   "metadata": {
    "collapsed": false,
    "jupyter": {
     "outputs_hidden": false
    }
   },
   "outputs": [],
   "source": [
    "c = MyCircle()"
   ]
  },
  {
   "cell_type": "code",
   "execution_count": 12,
   "metadata": {
    "collapsed": false,
    "jupyter": {
     "outputs_hidden": false
    }
   },
   "outputs": [
    {
     "data": {
      "application/javascript": [
       "alert('I am a circle!');"
      ],
      "image/svg+xml": [
       "<svg width=\"100px\" height=\"100px\">\n",
       "           <circle cx=\"50\" cy=\"50\" r=\"20\" stroke=\"black\" stroke-width=\"1\" fill=\"blue\"/>\n",
       "        </svg>"
      ],
      "text/html": [
       "&#x25CB; (<b>html</b>)"
      ],
      "text/latex": [
       "$\\bigcirc \\LaTeX$"
      ],
      "text/plain": [
       "<__main__.MyCircle at 0x2b78d702cba8>"
      ]
     },
     "metadata": {},
     "output_type": "display_data"
    }
   ],
   "source": [
    "#display(c)"
   ]
  },
  {
   "cell_type": "code",
   "execution_count": 11,
   "metadata": {
    "collapsed": false,
    "jupyter": {
     "outputs_hidden": false
    }
   },
   "outputs": [
    {
     "data": {
      "text/html": [
       "&#x25CB; (<b>html</b>)"
      ]
     },
     "metadata": {},
     "output_type": "display_data"
    }
   ],
   "source": [
    "display_html(c)"
   ]
  },
  {
   "cell_type": "code",
   "execution_count": 10,
   "metadata": {
    "collapsed": false,
    "jupyter": {
     "outputs_hidden": false
    }
   },
   "outputs": [
    {
     "data": {
      "image/svg+xml": [
       "<svg width=\"100px\" height=\"100px\">\n",
       "           <circle cx=\"50\" cy=\"50\" r=\"20\" stroke=\"black\" stroke-width=\"1\" fill=\"blue\"/>\n",
       "        </svg>"
      ]
     },
     "metadata": {},
     "output_type": "display_data"
    }
   ],
   "source": [
    "display_svg(c)"
   ]
  },
  {
   "cell_type": "code",
   "execution_count": 7,
   "metadata": {
    "collapsed": false,
    "jupyter": {
     "outputs_hidden": false
    }
   },
   "outputs": [
    {
     "data": {
      "text/latex": [
       "$\\bigcirc \\LaTeX$"
      ]
     },
     "metadata": {},
     "output_type": "display_data"
    }
   ],
   "source": [
    "display_latex(c)"
   ]
  },
  {
   "cell_type": "code",
   "execution_count": 9,
   "metadata": {
    "collapsed": false,
    "jupyter": {
     "outputs_hidden": false
    }
   },
   "outputs": [
    {
     "data": {
      "application/javascript": [
       "alert('I am a circle!');"
      ]
     },
     "metadata": {},
     "output_type": "display_data"
    }
   ],
   "source": [
    "#display_javascript(c)"
   ]
  },
  {
   "cell_type": "markdown",
   "metadata": {},
   "source": [
    "## PNG formatter for `MyCircle`"
   ]
  },
  {
   "cell_type": "code",
   "execution_count": 13,
   "metadata": {
    "collapsed": false,
    "jupyter": {
     "outputs_hidden": false
    }
   },
   "outputs": [],
   "source": [
    "%matplotlib inline\n",
    "from matplotlib import pyplot as plt"
   ]
  },
  {
   "cell_type": "markdown",
   "metadata": {},
   "source": [
    "Now let's assume that the `MyCircle` class has already been defined and add a PNG representation using a formatter display function. Here is a function that converts a `MyCircle` instance to raw PNG data."
   ]
  },
  {
   "cell_type": "code",
   "execution_count": 14,
   "metadata": {
    "collapsed": false,
    "jupyter": {
     "outputs_hidden": false
    }
   },
   "outputs": [],
   "source": [
    "from IPython.core.pylabtools import print_figure\n",
    "\n",
    "def circle_to_png(circle):\n",
    "    \"\"\"Render AnotherCircle to png data using matplotlib\"\"\"\n",
    "    fig, ax = plt.subplots()\n",
    "    patch = plt.Circle(circle.center,\n",
    "                       radius=circle.radius,\n",
    "                       fc=circle.color,\n",
    "                       )\n",
    "    ax.add_patch(patch)\n",
    "    plt.axis('scaled')\n",
    "    data = print_figure(fig, 'png')\n",
    "    # We MUST close the figure, otherwise IPython's display machinery\n",
    "    # will pick it up and send it as output, resulting in a double display\n",
    "    plt.close(fig)\n",
    "    return data"
   ]
  },
  {
   "cell_type": "markdown",
   "metadata": {},
   "source": [
    "Now use the IPython API to get the PNG formatter (`image/png`) and call the `for_type` method to register `circle_to_png` as the display function for `MyCircle`."
   ]
  },
  {
   "cell_type": "code",
   "execution_count": 15,
   "metadata": {
    "collapsed": false,
    "jupyter": {
     "outputs_hidden": false
    }
   },
   "outputs": [],
   "source": [
    "# %load soln/mycircle_png.py\n",
    "ip = get_ipython()\n",
    "png_f = ip.display_formatter.formatters['image/png']\n",
    "png_f.for_type(MyCircle, circle_to_png)"
   ]
  },
  {
   "cell_type": "code",
   "execution_count": 16,
   "metadata": {
    "collapsed": false,
    "jupyter": {
     "outputs_hidden": false
    }
   },
   "outputs": [
    {
     "data": {
      "image/png": "[encoded data removed]"
     },
     "metadata": {},
     "output_type": "display_data"
    }
   ],
   "source": [
    "display_png(c)"
   ]
  },
  {
   "cell_type": "markdown",
   "metadata": {},
   "source": [
    "## PNG formatter for NumPy arrays"
   ]
  },
  {
   "cell_type": "markdown",
   "metadata": {},
   "source": [
    "In this exercise, you will register a display formatter function that generates a PNG representation of a 2d NumPy array. Here is the function that uses the [Python Imaging Library (PIL)](http://www.pythonware.com/products/pil/) to generate the raw PNG data:"
   ]
  },
  {
   "cell_type": "code",
   "execution_count": 17,
   "metadata": {
    "collapsed": false,
    "jupyter": {
     "outputs_hidden": false
    }
   },
   "outputs": [],
   "source": [
    "from PIL import Image\n",
    "from io import BytesIO\n",
    "import numpy as np\n",
    "\n",
    "def ndarray_to_png(x):\n",
    "    if len(x.shape) != 2: return\n",
    "    x = np.asarray(Image.fromarray(x).resize((500, 500)))\n",
    "    x = (x - x.min()) / (x.max() - x.min())\n",
    "    img = Image.fromarray((x*256).astype('uint8'))\n",
    "    img_buffer = BytesIO()\n",
    "    img.save(img_buffer, format='png')\n",
    "    return img_buffer.getvalue()"
   ]
  },
  {
   "cell_type": "markdown",
   "metadata": {},
   "source": [
    "Use the `for_type` method of the PNG formatter to register `ndarray_to_png` as the display function for `np.ndarray`."
   ]
  },
  {
   "cell_type": "code",
   "execution_count": 19,
   "metadata": {
    "collapsed": false,
    "jupyter": {
     "outputs_hidden": false
    }
   },
   "outputs": [
    {
     "data": {
      "text/plain": [
       "<function __main__.ndarray_to_png(x)>"
      ]
     },
     "execution_count": 19,
     "metadata": {},
     "output_type": "execute_result"
    }
   ],
   "source": [
    "# %load soln/ndarray_png.py\n",
    "ip = get_ipython()\n",
    "png_f = ip.display_formatter.formatters['image/png']\n",
    "png_f.for_type(np.ndarray, ndarray_to_png)"
   ]
  },
  {
   "cell_type": "markdown",
   "metadata": {},
   "source": [
    "Now create a few NumPy arrays and display them. Notice that their default representation in the Notebook is PNG rather than text."
   ]
  },
  {
   "cell_type": "code",
   "execution_count": 20,
   "metadata": {
    "collapsed": false,
    "jupyter": {
     "outputs_hidden": false
    }
   },
   "outputs": [],
   "source": [
    "a = np.random.rand(100,100)"
   ]
  },
  {
   "cell_type": "code",
   "execution_count": 21,
   "metadata": {
    "collapsed": false,
    "jupyter": {
     "outputs_hidden": false
    }
   },
   "outputs": [
    {
     "data": {
      "image/png": "[encoded data removed]",
      "text/plain": [
       "array([[0.60946004, 0.523665  , 0.15154209, ..., 0.27974076, 0.62768842,\n",
       "        0.1978523 ],\n",
       "       [0.92636568, 0.42907924, 0.73286877, ..., 0.81174205, 0.64539057,\n",
       "        0.42644534],\n",
       "       [0.50944436, 0.6389472 , 0.29562595, ..., 0.34350084, 0.24842953,\n",
       "        0.09596811],\n",
       "       ...,\n",
       "       [0.9488093 , 0.12005745, 0.23280671, ..., 0.53169801, 0.72629091,\n",
       "        0.74947505],\n",
       "       [0.80646608, 0.33128413, 0.74135132, ..., 0.45897836, 0.42218108,\n",
       "        0.8808621 ],\n",
       "       [0.71208637, 0.11274526, 0.69126439, ..., 0.36636754, 0.0765809 ,\n",
       "        0.82045294]])"
      ]
     },
     "execution_count": 21,
     "metadata": {},
     "output_type": "execute_result"
    }
   ],
   "source": [
    "a"
   ]
  },
  {
   "cell_type": "markdown",
   "metadata": {},
   "source": [
    "You can still display the plain text representation using the `display_pretty` function."
   ]
  },
  {
   "cell_type": "code",
   "execution_count": 22,
   "metadata": {
    "collapsed": false,
    "jupyter": {
     "outputs_hidden": false
    }
   },
   "outputs": [],
   "source": [
    "from IPython.display import display_pretty"
   ]
  },
  {
   "cell_type": "code",
   "execution_count": 23,
   "metadata": {
    "collapsed": false,
    "jupyter": {
     "outputs_hidden": false
    }
   },
   "outputs": [
    {
     "data": {
      "text/plain": [
       "array([[0.60946004, 0.523665  , 0.15154209, ..., 0.27974076, 0.62768842,\n",
       "        0.1978523 ],\n",
       "       [0.92636568, 0.42907924, 0.73286877, ..., 0.81174205, 0.64539057,\n",
       "        0.42644534],\n",
       "       [0.50944436, 0.6389472 , 0.29562595, ..., 0.34350084, 0.24842953,\n",
       "        0.09596811],\n",
       "       ...,\n",
       "       [0.9488093 , 0.12005745, 0.23280671, ..., 0.53169801, 0.72629091,\n",
       "        0.74947505],\n",
       "       [0.80646608, 0.33128413, 0.74135132, ..., 0.45897836, 0.42218108,\n",
       "        0.8808621 ],\n",
       "       [0.71208637, 0.11274526, 0.69126439, ..., 0.36636754, 0.0765809 ,\n",
       "        0.82045294]])"
      ]
     },
     "metadata": {},
     "output_type": "display_data"
    }
   ],
   "source": [
    "display_pretty(a)"
   ]
  },
  {
   "cell_type": "code",
   "execution_count": 24,
   "metadata": {
    "collapsed": false,
    "jupyter": {
     "outputs_hidden": false
    }
   },
   "outputs": [],
   "source": [
    "b = np.linspace(0,100.0, 100**2).reshape((100,100))"
   ]
  },
  {
   "cell_type": "code",
   "execution_count": 25,
   "metadata": {
    "collapsed": false,
    "jupyter": {
     "outputs_hidden": false
    }
   },
   "outputs": [
    {
     "data": {
      "image/png": "[encoded data removed]",
      "text/plain": [
       "array([[0.00000000e+00, 1.00010001e-02, 2.00020002e-02, ...,\n",
       "        9.70097010e-01, 9.80098010e-01, 9.90099010e-01],\n",
       "       [1.00010001e+00, 1.01010101e+00, 1.02010201e+00, ...,\n",
       "        1.97019702e+00, 1.98019802e+00, 1.99019902e+00],\n",
       "       [2.00020002e+00, 2.01020102e+00, 2.02020202e+00, ...,\n",
       "        2.97029703e+00, 2.98029803e+00, 2.99029903e+00],\n",
       "       ...,\n",
       "       [9.70097010e+01, 9.70197020e+01, 9.70297030e+01, ...,\n",
       "        9.79797980e+01, 9.79897990e+01, 9.79998000e+01],\n",
       "       [9.80098010e+01, 9.80198020e+01, 9.80298030e+01, ...,\n",
       "        9.89798980e+01, 9.89898990e+01, 9.89999000e+01],\n",
       "       [9.90099010e+01, 9.90199020e+01, 9.90299030e+01, ...,\n",
       "        9.99799980e+01, 9.99899990e+01, 1.00000000e+02]])"
      ]
     },
     "execution_count": 25,
     "metadata": {},
     "output_type": "execute_result"
    }
   ],
   "source": [
    "b"
   ]
  },
  {
   "cell_type": "code",
   "execution_count": null,
   "metadata": {},
   "outputs": [],
   "source": []
  },
  {
   "cell_type": "code",
   "execution_count": null,
   "metadata": {},
   "outputs": [],
   "source": []
  }
 ],
 "metadata": {
  "kernelspec": {
   "display_name": "Python 3",
   "language": "python",
   "name": "python3"
  },
  "language_info": {
   "codemirror_mode": {
    "name": "ipython",
    "version": 3
   },
   "file_extension": ".py",
   "mimetype": "text/x-python",
   "name": "python",
   "nbconvert_exporter": "python",
   "pygments_lexer": "ipython3",
   "version": "3.6.8"
  }
 },
 "nbformat": 4,
 "nbformat_minor": 4
}

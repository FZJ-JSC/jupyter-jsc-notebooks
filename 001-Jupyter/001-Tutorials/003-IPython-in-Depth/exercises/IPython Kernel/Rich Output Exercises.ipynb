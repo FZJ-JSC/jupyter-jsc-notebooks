{
 "cells": [
  {
   "cell_type": "markdown",
   "metadata": {},
   "source": [
    "## Basic display objects"
   ]
  },
  {
   "cell_type": "code",
   "execution_count": null,
   "metadata": {
    "jupyter": {
     "outputs_hidden": false
    }
   },
   "outputs": [],
   "source": [
    "from IPython.display import display, Image, HTML, Javascript"
   ]
  },
  {
   "cell_type": "markdown",
   "metadata": {},
   "source": [
    "Try using the basic display classes in a notebook:\n",
    "\n",
    "* Find an image on the internet and display it in a notebook using the `Image` class. You can either save the image in the notebook's directory or load it by its URL.\n",
    "* Use the `HTML` class and the `%%html` cell magic to display a snippet of HTML.\n",
    "* Use the `JavaScript` class and the `%%javascript` cell magic to run a snippet of JavaScript.\n",
    "* Try displaying these objects by both returning them from an expression and by passing them to `display`."
   ]
  },
  {
   "cell_type": "markdown",
   "metadata": {},
   "source": [
    "## SoundCloud"
   ]
  },
  {
   "cell_type": "markdown",
   "metadata": {},
   "source": [
    "Go to [SoundCloud](http://soundcloud.com) and search for a sound clip you want to embed in your notebook.  To find the HTML code to embed the sound, click on the \"Share\" link and copy the \"Embed\" URL. Paste it into a cell using the `%%html` magic."
   ]
  },
  {
   "cell_type": "code",
   "execution_count": null,
   "metadata": {
    "jupyter": {
     "outputs_hidden": false
    }
   },
   "outputs": [],
   "source": [
    "%%html\n",
    "<iframe width=\"100%\" height=\"166\" scrolling=\"no\" frameborder=\"no\" src=\"https://w.soundcloud.com/player/?url=https%3A//api.soundcloud.com/tracks/26523979&amp;color=ff5500&amp;auto_play=false&amp;hide_related=false&amp;show_artwork=true\"></iframe>"
   ]
  },
  {
   "cell_type": "markdown",
   "metadata": {},
   "source": [
    "## Rich output on nbviewer"
   ]
  },
  {
   "cell_type": "markdown",
   "metadata": {},
   "source": [
    "Rich output is also supported on http://nbviewer.ipython.org. To test this create a new notebook that has different types of rich output:\n",
    "\n",
    "* HTML\n",
    "* JPEG/PNG (use matplotlib)\n",
    "* JavaScript\n",
    "* LaTeX\n",
    "\n",
    "After creating this notebook, upload it to http://gist.github.com and then view the notebook on http://nbviewer.ipython.org."
   ]
  },
  {
   "cell_type": "code",
   "execution_count": null,
   "metadata": {},
   "outputs": [],
   "source": []
  }
 ],
 "metadata": {
  "kernelspec": {
   "display_name": "Python 3",
   "language": "python",
   "name": "python3"
  },
  "language_info": {
   "codemirror_mode": {
    "name": "ipython",
    "version": 3
   },
   "file_extension": ".py",
   "mimetype": "text/x-python",
   "name": "python",
   "nbconvert_exporter": "python",
   "pygments_lexer": "ipython3",
   "version": "3.6.8"
  }
 },
 "nbformat": 4,
 "nbformat_minor": 4
}

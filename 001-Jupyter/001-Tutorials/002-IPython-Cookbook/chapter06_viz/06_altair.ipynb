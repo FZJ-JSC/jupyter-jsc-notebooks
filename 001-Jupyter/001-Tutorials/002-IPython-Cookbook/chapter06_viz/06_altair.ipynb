{
 "cells": [
  {
   "cell_type": "markdown",
   "metadata": {},
   "source": [
    "# 6.6. Creating plots with Altair and the Vega-Lite specification"
   ]
  },
  {
   "cell_type": "code",
   "execution_count": null,
   "metadata": {},
   "outputs": [],
   "source": [
    "import altair as alt"
   ]
  },
  {
   "cell_type": "code",
   "execution_count": null,
   "metadata": {},
   "outputs": [],
   "source": [
    "alt.list_datasets()"
   ]
  },
  {
   "cell_type": "code",
   "execution_count": null,
   "metadata": {},
   "outputs": [],
   "source": [
    "df = alt.load_dataset('flights-5k')"
   ]
  },
  {
   "cell_type": "code",
   "execution_count": null,
   "metadata": {
    "podoc": {
     "output_text": "Output"
    }
   },
   "outputs": [],
   "source": [
    "df.head(3)"
   ]
  },
  {
   "cell_type": "code",
   "execution_count": null,
   "metadata": {
    "podoc": {
     "output_text": "A scatter plot"
    }
   },
   "outputs": [],
   "source": [
    "alt.Chart(df).mark_point().encode(\n",
    "    x='date',\n",
    "    y='delay',\n",
    "    size='distance',\n",
    ")"
   ]
  },
  {
   "cell_type": "code",
   "execution_count": null,
   "metadata": {
    "podoc": {
     "output_text": "A bar plot"
    }
   },
   "outputs": [],
   "source": [
    "df_la = df[df['origin'] == 'LAX']\n",
    "\n",
    "x = alt.X('date', bin=True)\n",
    "y = 'average(delay)'\n",
    "\n",
    "alt.Chart(df_la).mark_bar().encode(\n",
    "    x=x,\n",
    "    y=y,\n",
    ")"
   ]
  },
  {
   "cell_type": "code",
   "execution_count": null,
   "metadata": {
    "podoc": {
     "output_text": "A histogram"
    }
   },
   "outputs": [],
   "source": [
    "sort_delay = alt.EncodingSortField(\n",
    "    'delay', op='average', order='descending')\n",
    "\n",
    "x = alt.X('origin', sort=sort_delay)\n",
    "y = 'average(delay)'\n",
    "\n",
    "alt.Chart(df).mark_bar().encode(\n",
    "    x=x,\n",
    "    y=y,\n",
    ")"
   ]
  },
  {
   "cell_type": "markdown",
   "metadata": {},
   "source": [
    "```json\n",
    "{\n",
    " \"$schema\": \"https://vega.github.io/schema/vega-lite/v1.2.1.json\",\n",
    " \"data\": {\n",
    "  \"values\": [\n",
    "   {\n",
    "    \"date\": \"2001-01-10 18:20:00\",\n",
    "    \"delay\": 25,\n",
    "    \"destination\": \"HOU\",\n",
    "    \"distance\": 192,\n",
    "    \"origin\": \"SAT\"\n",
    "   },\n",
    "   ...\n",
    "  ]\n",
    " },\n",
    " \"encoding\": {\n",
    "  \"x\": {\n",
    "   \"field\": \"origin\",\n",
    "   \"sort\": {\n",
    "    \"field\": \"delay\",\n",
    "    \"op\": \"average\",\n",
    "    \"order\": \"descending\"\n",
    "   },\n",
    "   \"type\": \"nominal\"\n",
    "  },\n",
    "  \"y\": {\n",
    "   \"aggregate\": \"average\",\n",
    "   \"field\": \"delay\",\n",
    "   \"type\": \"quantitative\"\n",
    "  }\n",
    " },\n",
    " \"mark\": \"bar\"\n",
    "}\n",
    "```"
   ]
  },
  {
   "cell_type": "code",
   "execution_count": null,
   "metadata": {},
   "outputs": [],
   "source": []
  }
 ],
 "metadata": {
  "kernelspec": {
   "display_name": "Python 3",
   "language": "python",
   "name": "python3"
  },
  "language_info": {
   "codemirror_mode": {
    "name": "ipython",
    "version": 3
   },
   "file_extension": ".py",
   "mimetype": "text/x-python",
   "name": "python",
   "nbconvert_exporter": "python",
   "pygments_lexer": "ipython3",
   "version": "3.6.8"
  }
 },
 "nbformat": 4,
 "nbformat_minor": 4
}

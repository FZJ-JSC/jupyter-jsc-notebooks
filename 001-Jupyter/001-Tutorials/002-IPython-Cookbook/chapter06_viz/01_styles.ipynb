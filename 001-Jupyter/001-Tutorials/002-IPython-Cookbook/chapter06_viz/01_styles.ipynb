{
 "cells": [
  {
   "cell_type": "markdown",
   "metadata": {},
   "source": [
    "# 6.1. Using matplotlib styles"
   ]
  },
  {
   "cell_type": "code",
   "execution_count": null,
   "metadata": {},
   "outputs": [],
   "source": [
    "import numpy as np\n",
    "import matplotlib as mpl\n",
    "import matplotlib.pyplot as plt\n",
    "%matplotlib inline"
   ]
  },
  {
   "cell_type": "code",
   "execution_count": null,
   "metadata": {},
   "outputs": [],
   "source": [
    "sorted(mpl.style.available)"
   ]
  },
  {
   "cell_type": "code",
   "execution_count": null,
   "metadata": {},
   "outputs": [],
   "source": [
    "def doplot():\n",
    "    fig, ax = plt.subplots(1, 1, figsize=(5, 5))\n",
    "    t = np.linspace(-2 * np.pi, 2 * np.pi, 1000)\n",
    "    x = np.linspace(0, 14, 100)\n",
    "    for i in range(1, 7):\n",
    "        ax.plot(x, np.sin(x + i * .5) * (7 - i))\n",
    "    return ax"
   ]
  },
  {
   "cell_type": "code",
   "execution_count": null,
   "metadata": {
    "podoc": {
     "output_text": "<matplotlib.figure.Figure at 0x7f8843a81eb8>"
    }
   },
   "outputs": [],
   "source": [
    "mpl.style.use('fivethirtyeight')\n",
    "doplot()"
   ]
  },
  {
   "cell_type": "code",
   "execution_count": null,
   "metadata": {
    "podoc": {
     "output_text": "<matplotlib.figure.Figure at 0x7f8843723c88>"
    }
   },
   "outputs": [],
   "source": [
    "# Set the default style.\n",
    "mpl.style.use('default')\n",
    "# Temporarily switch to the ggplot style.\n",
    "with mpl.style.context('ggplot'):\n",
    "    ax = doplot()\n",
    "    ax.set_title('ggplot style')\n",
    "# Back to the default style.\n",
    "ax = doplot()\n",
    "ax.set_title('default style')"
   ]
  },
  {
   "cell_type": "code",
   "execution_count": null,
   "metadata": {},
   "outputs": [],
   "source": [
    "cfgdir = mpl.get_configdir()\n",
    "cfgdir"
   ]
  },
  {
   "cell_type": "code",
   "execution_count": null,
   "metadata": {},
   "outputs": [],
   "source": [
    "from pathlib import Path\n",
    "p = Path(cfgdir)\n",
    "stylelib = (p / 'stylelib')\n",
    "stylelib.mkdir(exist_ok=True)\n",
    "path = stylelib / 'mycustomstyle.mplstyle'"
   ]
  },
  {
   "cell_type": "code",
   "execution_count": null,
   "metadata": {},
   "outputs": [],
   "source": [
    "path.write_text('''\n",
    "axes.facecolor : f0f0f0\n",
    "font.family : serif\n",
    "lines.linewidth : 5\n",
    "xtick.labelsize : 24\n",
    "ytick.labelsize : 24\n",
    "''')"
   ]
  },
  {
   "cell_type": "code",
   "execution_count": null,
   "metadata": {},
   "outputs": [],
   "source": [
    "mpl.style.reload_library()"
   ]
  },
  {
   "cell_type": "code",
   "execution_count": null,
   "metadata": {
    "podoc": {
     "output_text": "<matplotlib.figure.Figure at 0x7f8843791978>"
    }
   },
   "outputs": [],
   "source": [
    "with mpl.style.context(['ggplot', 'mycustomstyle']):\n",
    "    doplot()"
   ]
  },
  {
   "cell_type": "code",
   "execution_count": null,
   "metadata": {},
   "outputs": [],
   "source": []
  }
 ],
 "metadata": {
  "kernelspec": {
   "display_name": "Python 3",
   "language": "python",
   "name": "python3"
  },
  "language_info": {
   "codemirror_mode": {
    "name": "ipython",
    "version": 3
   },
   "file_extension": ".py",
   "mimetype": "text/x-python",
   "name": "python",
   "nbconvert_exporter": "python",
   "pygments_lexer": "ipython3",
   "version": "3.6.8"
  }
 },
 "nbformat": 4,
 "nbformat_minor": 4
}

{
 "cells": [
  {
   "cell_type": "markdown",
   "metadata": {},
   "source": [
    "# 6.3. Creating interactive Web visualizations with Bokeh and HoloViews"
   ]
  },
  {
   "cell_type": "code",
   "execution_count": null,
   "metadata": {},
   "outputs": [],
   "source": [
    "import numpy as np\n",
    "import pandas as pd\n",
    "import bokeh\n",
    "import bokeh.plotting as bkh\n",
    "bkh.output_notebook()"
   ]
  },
  {
   "cell_type": "code",
   "execution_count": null,
   "metadata": {
    "podoc": {
     "output_text": "Output"
    }
   },
   "outputs": [],
   "source": [
    "f = bkh.figure(width=600, height=400)\n",
    "f.circle(np.random.randn(1000),\n",
    "         np.random.randn(1000),\n",
    "         size=np.random.uniform(2, 10, 1000),\n",
    "         alpha=.5)\n",
    "bkh.show(f)"
   ]
  },
  {
   "cell_type": "code",
   "execution_count": null,
   "metadata": {
    "podoc": {
     "output_text": "Output"
    }
   },
   "outputs": [],
   "source": [
    "from bokeh.sampledata import sea_surface_temperature\n",
    "data = sea_surface_temperature.sea_surface_temperature\n",
    "data"
   ]
  },
  {
   "cell_type": "code",
   "execution_count": null,
   "metadata": {
    "podoc": {
     "output_text": "Output"
    }
   },
   "outputs": [],
   "source": [
    "f = bkh.figure(x_axis_type=\"datetime\",\n",
    "               title=\"Sea surface temperature\",\n",
    "               width=600, height=400)\n",
    "f.line(data.index, data.temperature)\n",
    "f.xaxis.axis_label = \"Date\"\n",
    "f.yaxis.axis_label = \"Temperature\"\n",
    "bkh.show(f)"
   ]
  },
  {
   "cell_type": "code",
   "execution_count": null,
   "metadata": {},
   "outputs": [],
   "source": [
    "months = (6, 7, 8)\n",
    "data_list = [data[data.index.month == m]\n",
    "             for m in months]"
   ]
  },
  {
   "cell_type": "code",
   "execution_count": null,
   "metadata": {},
   "outputs": [],
   "source": [
    "# We group by the hour of the measure:\n",
    "data_avg = [d.groupby(d.index.hour).mean()\n",
    "            for d in data_list]"
   ]
  },
  {
   "cell_type": "code",
   "execution_count": null,
   "metadata": {
    "podoc": {
     "output_text": "Output"
    }
   },
   "outputs": [],
   "source": [
    "f = bkh.figure(width=600, height=400,\n",
    "               title=\"Hourly average sea temperature\")\n",
    "for d, c, m in zip(data_avg,\n",
    "                   bokeh.palettes.Inferno[3],\n",
    "                   ('June', 'July', 'August')):\n",
    "    f.line(d.index, d.temperature,\n",
    "           line_width=5,\n",
    "           line_color=c,\n",
    "           legend=m,\n",
    "           )\n",
    "f.xaxis.axis_label = \"Hour\"\n",
    "f.yaxis.axis_label = \"Average temperature\"\n",
    "f.legend.location = 'center_right'\n",
    "bkh.show(f)"
   ]
  },
  {
   "cell_type": "code",
   "execution_count": null,
   "metadata": {},
   "outputs": [],
   "source": [
    "import holoviews as hv\n",
    "hv.extension('bokeh')"
   ]
  },
  {
   "cell_type": "code",
   "execution_count": null,
   "metadata": {},
   "outputs": [],
   "source": [
    "data = np.random.rand(100, 100, 10)"
   ]
  },
  {
   "cell_type": "code",
   "execution_count": null,
   "metadata": {},
   "outputs": [],
   "source": [
    "ds = hv.Dataset((np.arange(10),\n",
    "                 np.linspace(0., 1., 100),\n",
    "                 np.linspace(0., 1., 100),\n",
    "                 data),\n",
    "                kdims=['time', 'y', 'x'],\n",
    "                vdims=['z'])"
   ]
  },
  {
   "cell_type": "code",
   "execution_count": null,
   "metadata": {},
   "outputs": [],
   "source": [
    "ds"
   ]
  },
  {
   "cell_type": "code",
   "execution_count": null,
   "metadata": {
    "podoc": {
     "output_text": "Output"
    }
   },
   "outputs": [],
   "source": [
    "%opts Image(cmap='viridis')\n",
    "ds.to(hv.Image, ['x', 'y']).hist()"
   ]
  }
 ],
 "metadata": {
  "kernelspec": {
   "display_name": "Python 3",
   "language": "python",
   "name": "python3"
  },
  "language_info": {
   "codemirror_mode": {
    "name": "ipython",
    "version": 3
   },
   "file_extension": ".py",
   "mimetype": "text/x-python",
   "name": "python",
   "nbconvert_exporter": "python",
   "pygments_lexer": "ipython3",
   "version": "3.6.8"
  }
 },
 "nbformat": 4,
 "nbformat_minor": 4
}

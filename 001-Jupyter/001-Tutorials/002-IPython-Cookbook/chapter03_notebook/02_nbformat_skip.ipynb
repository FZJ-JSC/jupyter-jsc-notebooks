{
 "cells": [
  {
   "cell_type": "markdown",
   "metadata": {},
   "source": [
    "# 3.2. Converting a Jupyter notebook to other formats with nbconvert"
   ]
  },
  {
   "cell_type": "code",
   "execution_count": 1,
   "metadata": {},
   "outputs": [],
   "source": [
    "import io\n",
    "import requests"
   ]
  },
  {
   "cell_type": "code",
   "execution_count": 2,
   "metadata": {},
   "outputs": [],
   "source": [
    "url = ('https://github.com/ipython-books/'\n",
    "       'cookbook-2nd-data/blob/master/'\n",
    "       'test.ipynb?raw=true')"
   ]
  },
  {
   "cell_type": "code",
   "execution_count": 3,
   "metadata": {},
   "outputs": [
    {
     "name": "stdout",
     "output_type": "stream",
     "text": [
      "3857\n"
     ]
    }
   ],
   "source": [
    "contents = requests.get(url).text\n",
    "print(len(contents))"
   ]
  },
  {
   "cell_type": "code",
   "execution_count": 4,
   "metadata": {},
   "outputs": [
    {
     "name": "stdout",
     "output_type": "stream",
     "text": [
      "{\n",
      " \"cells\": [\n",
      "  {\n",
      "   \"cell_type\": \"markdown\",\n",
      "   \"metadata\": {},\n",
      "   \"source\": [\n",
      "    \"# First chapter\"\n",
      "   ]\n",
      "  },\n",
      "  {\n",
      "   \"cell_type\": \"markdown\",\n",
      "   \"metadata\": {\n",
      "    \"my_field\": [\n",
      "     \"value1\",\n",
      "     \"2405\"\n",
      "    ]\n",
      "   },\n",
      "   \"source\": [\n",
      "    \"Let's write some *rich* **text** with [links](http://www.ipython.org) and lists:\\n\",\n",
      "    \"\\n\",\n",
      "    \"* item1...rmat\": 4,\n",
      " \"nbformat_minor\": 4\n",
      "}\n",
      "\n"
     ]
    }
   ],
   "source": [
    "print(contents[:345] + '...' + contents[-33:])"
   ]
  },
  {
   "cell_type": "code",
   "execution_count": 5,
   "metadata": {},
   "outputs": [],
   "source": [
    "import json\n",
    "nb = json.loads(contents)"
   ]
  },
  {
   "cell_type": "code",
   "execution_count": 6,
   "metadata": {},
   "outputs": [
    {
     "name": "stdout",
     "output_type": "stream",
     "text": [
      "dict_keys(['cells', 'metadata', 'nbformat', 'nbformat_minor'])\n",
      "nbformat 4.4\n"
     ]
    }
   ],
   "source": [
    "print(nb.keys())\n",
    "print('nbformat %d.%d' % (nb['nbformat'],\n",
    "                          nb['nbformat_minor']))"
   ]
  },
  {
   "cell_type": "code",
   "execution_count": 7,
   "metadata": {},
   "outputs": [
    {
     "data": {
      "text/plain": [
       "{'cell_type': 'markdown',\n",
       " 'metadata': {'my_field': ['value1', '2405']},\n",
       " 'source': [\"Let's write some *rich* **text** with [links](http://www.ipython.org) and lists:\\n\",\n",
       "  '\\n',\n",
       "  '* item1\\n',\n",
       "  '* item2\\n',\n",
       "  '    1. subitem\\n',\n",
       "  '    2. subitem\\n',\n",
       "  '* item3']}"
      ]
     },
     "execution_count": 7,
     "metadata": {},
     "output_type": "execute_result"
    }
   ],
   "source": [
    "nb['cells'][1]"
   ]
  },
  {
   "cell_type": "code",
   "execution_count": 8,
   "metadata": {},
   "outputs": [
    {
     "data": {
      "text/plain": [
       "{'cell_type': 'code',\n",
       " 'execution_count': 1,\n",
       " 'metadata': {},\n",
       " 'outputs': [{'data': {'image/png': 'iVBORw0KGgoAAAANSUhEUgAAAP8AAAEMCAYAAAALeWDJAAAABHNCSVQICAgIfAhkiAAAAAlwSFlz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\\nTkSuQmCC\\n',\n",
       "    'text/plain': ['<matplotlib.figure.Figure at 0x747c080>']},\n",
       "   'metadata': {},\n",
       "   'output_type': 'display_data'}],\n",
       " 'source': ['import numpy as np\\n',\n",
       "  'import matplotlib.pyplot as plt\\n',\n",
       "  '%matplotlib inline\\n',\n",
       "  'plt.figure(figsize=(2,2));\\n',\n",
       "  \"plt.imshow(np.random.rand(10,10), interpolation='none');\\n\",\n",
       "  \"plt.axis('off');\\n\",\n",
       "  'plt.tight_layout();']}"
      ]
     },
     "execution_count": 8,
     "metadata": {},
     "output_type": "execute_result"
    }
   ],
   "source": [
    "nb['cells'][2]"
   ]
  },
  {
   "cell_type": "code",
   "execution_count": 9,
   "metadata": {},
   "outputs": [
    {
     "name": "stdout",
     "output_type": "stream",
     "text": [
      "There are 2 Markdown cells and 1 code cells.\n"
     ]
    }
   ],
   "source": [
    "cells = nb['cells']\n",
    "nm = len([cell for cell in cells\n",
    "          if cell['cell_type'] == 'markdown'])\n",
    "nc = len([cell for cell in cells\n",
    "          if cell['cell_type'] == 'code'])\n",
    "print((f\"There are {nm} Markdown cells and \"\n",
    "       f\"{nc} code cells.\"))"
   ]
  },
  {
   "cell_type": "code",
   "execution_count": 10,
   "metadata": {},
   "outputs": [
    {
     "data": {
      "text/plain": [
       "{'image/png': 'iVBORw0KGgoAAAANSUhEUgAAAP8AAAEMCAYAAAALeWDJAAAABHNCSVQICAgIfAhkiAAAAAlwSFlz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\\nTkSuQmCC\\n',\n",
       " 'text/plain': ['<matplotlib.figure.Figure at 0x747c080>']}"
      ]
     },
     "execution_count": 10,
     "metadata": {},
     "output_type": "execute_result"
    }
   ],
   "source": [
    "cells[2]['outputs'][0]['data']"
   ]
  },
  {
   "cell_type": "code",
   "execution_count": 11,
   "metadata": {},
   "outputs": [],
   "source": [
    "# We write the notebook to a file on disk.\n",
    "with open('test.ipynb', 'w') as f:\n",
    "    f.write(contents)"
   ]
  },
  {
   "cell_type": "code",
   "execution_count": 12,
   "metadata": {},
   "outputs": [
    {
     "name": "stdout",
     "output_type": "stream",
     "text": [
      "[NbConvertApp] Converting notebook test.ipynb to html\n",
      "Traceback (most recent call last):\n",
      "  File \"/p/software/juwelsbooster/stages/Devel-2020/software/Jupyter/2020.2.4-gcccoremkl-9.3.0-2020.2.254-Python-3.8.5/bin/jupyter-nbconvert\", line 8, in <module>\n",
      "    sys.exit(main())\n",
      "  File \"/p/software/juwelsbooster/stages/Devel-2020/software/Jupyter/2020.2.4-gcccoremkl-9.3.0-2020.2.254-Python-3.8.5/lib/python3.8/site-packages/jupyter_core/application.py\", line 254, in launch_instance\n",
      "    return super(JupyterApp, cls).launch_instance(argv=argv, **kwargs)\n",
      "  File \"/p/software/juwelsbooster/stages/Devel-2020/software/Python/3.8.5-GCCcore-9.3.0/lib/python3.8/site-packages/traitlets/config/application.py\", line 664, in launch_instance\n",
      "    app.start()\n",
      "  File \"/p/software/juwelsbooster/stages/Devel-2020/software/Jupyter/2020.2.4-gcccoremkl-9.3.0-2020.2.254-Python-3.8.5/lib/python3.8/site-packages/nbconvert/nbconvertapp.py\", line 350, in start\n",
      "    self.convert_notebooks()\n",
      "  File \"/p/software/juwelsbooster/stages/Devel-2020/software/Jupyter/2020.2.4-gcccoremkl-9.3.0-2020.2.254-Python-3.8.5/lib/python3.8/site-packages/nbconvert/nbconvertapp.py\", line 524, in convert_notebooks\n",
      "    self.convert_single_notebook(notebook_filename)\n",
      "  File \"/p/software/juwelsbooster/stages/Devel-2020/software/Jupyter/2020.2.4-gcccoremkl-9.3.0-2020.2.254-Python-3.8.5/lib/python3.8/site-packages/nbconvert/nbconvertapp.py\", line 489, in convert_single_notebook\n",
      "    output, resources = self.export_single_notebook(notebook_filename, resources, input_buffer=input_buffer)\n",
      "  File \"/p/software/juwelsbooster/stages/Devel-2020/software/Jupyter/2020.2.4-gcccoremkl-9.3.0-2020.2.254-Python-3.8.5/lib/python3.8/site-packages/nbconvert/nbconvertapp.py\", line 418, in export_single_notebook\n",
      "    output, resources = self.exporter.from_filename(notebook_filename, resources=resources)\n",
      "  File \"/p/software/juwelsbooster/stages/Devel-2020/software/Jupyter/2020.2.4-gcccoremkl-9.3.0-2020.2.254-Python-3.8.5/lib/python3.8/site-packages/nbconvert/exporters/exporter.py\", line 181, in from_filename\n",
      "    return self.from_file(f, resources=resources, **kw)\n",
      "  File \"/p/software/juwelsbooster/stages/Devel-2020/software/Jupyter/2020.2.4-gcccoremkl-9.3.0-2020.2.254-Python-3.8.5/lib/python3.8/site-packages/nbconvert/exporters/exporter.py\", line 199, in from_file\n",
      "    return self.from_notebook_node(nbformat.read(file_stream, as_version=4), resources=resources, **kw)\n",
      "  File \"/p/software/juwelsbooster/stages/Devel-2020/software/Jupyter/2020.2.4-gcccoremkl-9.3.0-2020.2.254-Python-3.8.5/lib/python3.8/site-packages/nbconvert/exporters/html.py\", line 119, in from_notebook_node\n",
      "    return super().from_notebook_node(nb, resources, **kw)\n",
      "  File \"/p/software/juwelsbooster/stages/Devel-2020/software/Jupyter/2020.2.4-gcccoremkl-9.3.0-2020.2.254-Python-3.8.5/lib/python3.8/site-packages/nbconvert/exporters/templateexporter.py\", line 384, in from_notebook_node\n",
      "    output = self.template.render(nb=nb_copy, resources=resources)\n",
      "  File \"/p/software/juwelsbooster/stages/Devel-2020/software/Jupyter/2020.2.4-gcccoremkl-9.3.0-2020.2.254-Python-3.8.5/lib/python3.8/site-packages/nbconvert/exporters/templateexporter.py\", line 148, in template\n",
      "    self._template_cached = self._load_template()\n",
      "  File \"/p/software/juwelsbooster/stages/Devel-2020/software/Jupyter/2020.2.4-gcccoremkl-9.3.0-2020.2.254-Python-3.8.5/lib/python3.8/site-packages/nbconvert/exporters/templateexporter.py\", line 355, in _load_template\n",
      "    return self.environment.get_template(template_file)\n",
      "  File \"/p/software/juwelsbooster/stages/Devel-2020/software/Jupyter/2020.2.4-gcccoremkl-9.3.0-2020.2.254-Python-3.8.5/lib/python3.8/site-packages/jinja2/environment.py\", line 883, in get_template\n",
      "    return self._load_template(name, self.make_globals(globals))\n",
      "  File \"/p/software/juwelsbooster/stages/Devel-2020/software/Jupyter/2020.2.4-gcccoremkl-9.3.0-2020.2.254-Python-3.8.5/lib/python3.8/site-packages/jinja2/environment.py\", line 857, in _load_template\n",
      "    template = self.loader.load(self, name, globals)\n",
      "  File \"/p/software/juwelsbooster/stages/Devel-2020/software/Jupyter/2020.2.4-gcccoremkl-9.3.0-2020.2.254-Python-3.8.5/lib/python3.8/site-packages/jinja2/loaders.py\", line 497, in load\n",
      "    raise TemplateNotFound(name)\n",
      "jinja2.exceptions.TemplateNotFound: index.html.j2\n"
     ]
    }
   ],
   "source": [
    "!jupyter nbconvert --to html test.ipynb"
   ]
  },
  {
   "cell_type": "code",
   "execution_count": 13,
   "metadata": {
    "podoc": {
     "output_text": "HTML export"
    }
   },
   "outputs": [
    {
     "data": {
      "text/html": [
       "\n",
       "        <iframe\n",
       "            width=\"600\"\n",
       "            height=\"200\"\n",
       "            src=\"test.html\"\n",
       "            frameborder=\"0\"\n",
       "            allowfullscreen\n",
       "        ></iframe>\n",
       "        "
      ],
      "text/plain": [
       "<IPython.lib.display.IFrame at 0x7fe67dd6f3a0>"
      ]
     },
     "execution_count": 13,
     "metadata": {},
     "output_type": "execute_result"
    }
   ],
   "source": [
    "from IPython.display import IFrame\n",
    "IFrame('test.html', 600, 200)"
   ]
  },
  {
   "cell_type": "code",
   "execution_count": 14,
   "metadata": {},
   "outputs": [
    {
     "name": "stdout",
     "output_type": "stream",
     "text": [
      "Overwriting temp.tplx\n"
     ]
    }
   ],
   "source": [
    "%%writefile temp.tplx\n",
    "((*- extends 'article.tplx' -*))\n",
    "\n",
    "((* block author *))\n",
    "\\author{Cyrille Rossant}\n",
    "((* endblock author *))\n",
    "\n",
    "((* block title *))\n",
    "\\title{My document}\n",
    "((* endblock title *))"
   ]
  },
  {
   "cell_type": "code",
   "execution_count": 17,
   "metadata": {},
   "outputs": [
    {
     "name": "stderr",
     "output_type": "stream",
     "text": [
      "[NbConvertApp] Converting notebook test.ipynb to pdf\n",
      "Traceback (most recent call last):\n",
      "  File \"/p/software/juwelsbooster/stages/Devel-2020/software/Jupyter/2020.2.4-gcccoremkl-9.3.0-2020.2.254-Python-3.8.5/bin/jupyter-nbconvert\", line 8, in <module>\n",
      "    sys.exit(main())\n",
      "  File \"/p/software/juwelsbooster/stages/Devel-2020/software/Jupyter/2020.2.4-gcccoremkl-9.3.0-2020.2.254-Python-3.8.5/lib/python3.8/site-packages/jupyter_core/application.py\", line 254, in launch_instance\n",
      "    return super(JupyterApp, cls).launch_instance(argv=argv, **kwargs)\n",
      "  File \"/p/software/juwelsbooster/stages/Devel-2020/software/Python/3.8.5-GCCcore-9.3.0/lib/python3.8/site-packages/traitlets/config/application.py\", line 664, in launch_instance\n",
      "    app.start()\n",
      "  File \"/p/software/juwelsbooster/stages/Devel-2020/software/Jupyter/2020.2.4-gcccoremkl-9.3.0-2020.2.254-Python-3.8.5/lib/python3.8/site-packages/nbconvert/nbconvertapp.py\", line 350, in start\n",
      "    self.convert_notebooks()\n",
      "  File \"/p/software/juwelsbooster/stages/Devel-2020/software/Jupyter/2020.2.4-gcccoremkl-9.3.0-2020.2.254-Python-3.8.5/lib/python3.8/site-packages/nbconvert/nbconvertapp.py\", line 524, in convert_notebooks\n",
      "    self.convert_single_notebook(notebook_filename)\n",
      "  File \"/p/software/juwelsbooster/stages/Devel-2020/software/Jupyter/2020.2.4-gcccoremkl-9.3.0-2020.2.254-Python-3.8.5/lib/python3.8/site-packages/nbconvert/nbconvertapp.py\", line 489, in convert_single_notebook\n",
      "    output, resources = self.export_single_notebook(notebook_filename, resources, input_buffer=input_buffer)\n",
      "  File \"/p/software/juwelsbooster/stages/Devel-2020/software/Jupyter/2020.2.4-gcccoremkl-9.3.0-2020.2.254-Python-3.8.5/lib/python3.8/site-packages/nbconvert/nbconvertapp.py\", line 418, in export_single_notebook\n",
      "    output, resources = self.exporter.from_filename(notebook_filename, resources=resources)\n",
      "  File \"/p/software/juwelsbooster/stages/Devel-2020/software/Jupyter/2020.2.4-gcccoremkl-9.3.0-2020.2.254-Python-3.8.5/lib/python3.8/site-packages/nbconvert/exporters/exporter.py\", line 181, in from_filename\n",
      "    return self.from_file(f, resources=resources, **kw)\n",
      "  File \"/p/software/juwelsbooster/stages/Devel-2020/software/Jupyter/2020.2.4-gcccoremkl-9.3.0-2020.2.254-Python-3.8.5/lib/python3.8/site-packages/nbconvert/exporters/exporter.py\", line 199, in from_file\n",
      "    return self.from_notebook_node(nbformat.read(file_stream, as_version=4), resources=resources, **kw)\n",
      "  File \"/p/software/juwelsbooster/stages/Devel-2020/software/Jupyter/2020.2.4-gcccoremkl-9.3.0-2020.2.254-Python-3.8.5/lib/python3.8/site-packages/nbconvert/exporters/pdf.py\", line 168, in from_notebook_node\n",
      "    latex, resources = super().from_notebook_node(\n",
      "  File \"/p/software/juwelsbooster/stages/Devel-2020/software/Jupyter/2020.2.4-gcccoremkl-9.3.0-2020.2.254-Python-3.8.5/lib/python3.8/site-packages/nbconvert/exporters/latex.py\", line 77, in from_notebook_node\n",
      "    return super().from_notebook_node(nb, resources, **kw)\n",
      "  File \"/p/software/juwelsbooster/stages/Devel-2020/software/Jupyter/2020.2.4-gcccoremkl-9.3.0-2020.2.254-Python-3.8.5/lib/python3.8/site-packages/nbconvert/exporters/templateexporter.py\", line 384, in from_notebook_node\n",
      "    output = self.template.render(nb=nb_copy, resources=resources)\n",
      "  File \"/p/software/juwelsbooster/stages/Devel-2020/software/Jupyter/2020.2.4-gcccoremkl-9.3.0-2020.2.254-Python-3.8.5/lib/python3.8/site-packages/nbconvert/exporters/templateexporter.py\", line 148, in template\n",
      "    self._template_cached = self._load_template()\n",
      "  File \"/p/software/juwelsbooster/stages/Devel-2020/software/Jupyter/2020.2.4-gcccoremkl-9.3.0-2020.2.254-Python-3.8.5/lib/python3.8/site-packages/nbconvert/exporters/templateexporter.py\", line 355, in _load_template\n",
      "    return self.environment.get_template(template_file)\n",
      "  File \"/p/software/juwelsbooster/stages/Devel-2020/software/Jupyter/2020.2.4-gcccoremkl-9.3.0-2020.2.254-Python-3.8.5/lib/python3.8/site-packages/jinja2/environment.py\", line 883, in get_template\n",
      "    return self._load_template(name, self.make_globals(globals))\n",
      "  File \"/p/software/juwelsbooster/stages/Devel-2020/software/Jupyter/2020.2.4-gcccoremkl-9.3.0-2020.2.254-Python-3.8.5/lib/python3.8/site-packages/jinja2/environment.py\", line 857, in _load_template\n",
      "    template = self.loader.load(self, name, globals)\n",
      "  File \"/p/software/juwelsbooster/stages/Devel-2020/software/Jupyter/2020.2.4-gcccoremkl-9.3.0-2020.2.254-Python-3.8.5/lib/python3.8/site-packages/jinja2/loaders.py\", line 497, in load\n",
      "    raise TemplateNotFound(name)\n",
      "jinja2.exceptions.TemplateNotFound: index.tex.j2\n"
     ]
    },
    {
     "ename": "CalledProcessError",
     "evalue": "Command 'b'jupyter nbconvert --to pdf --template temp test.ipynb\\n'' returned non-zero exit status 1.",
     "output_type": "error",
     "traceback": [
      "\u001b[0;31m---------------------------------------------------------------------------\u001b[0m",
      "\u001b[0;31mCalledProcessError\u001b[0m                        Traceback (most recent call last)",
      "\u001b[0;32m<ipython-input-17-176a64b7acf7>\u001b[0m in \u001b[0;36m<module>\u001b[0;34m\u001b[0m\n\u001b[0;32m----> 1\u001b[0;31m \u001b[0mget_ipython\u001b[0m\u001b[0;34m(\u001b[0m\u001b[0;34m)\u001b[0m\u001b[0;34m.\u001b[0m\u001b[0mrun_cell_magic\u001b[0m\u001b[0;34m(\u001b[0m\u001b[0;34m'bash'\u001b[0m\u001b[0;34m,\u001b[0m \u001b[0;34m''\u001b[0m\u001b[0;34m,\u001b[0m \u001b[0;34m'jupyter nbconvert --to pdf --template temp test.ipynb\\n'\u001b[0m\u001b[0;34m)\u001b[0m\u001b[0;34m\u001b[0m\u001b[0;34m\u001b[0m\u001b[0m\n\u001b[0m",
      "\u001b[0;32m/p/software/juwelsbooster/stages/Devel-2020/software/Jupyter/2020.2.4-gcccoremkl-9.3.0-2020.2.254-Python-3.8.5/lib/python3.8/site-packages/IPython/core/interactiveshell.py\u001b[0m in \u001b[0;36mrun_cell_magic\u001b[0;34m(self, magic_name, line, cell)\u001b[0m\n\u001b[1;32m   2357\u001b[0m             \u001b[0;32mwith\u001b[0m \u001b[0mself\u001b[0m\u001b[0;34m.\u001b[0m\u001b[0mbuiltin_trap\u001b[0m\u001b[0;34m:\u001b[0m\u001b[0;34m\u001b[0m\u001b[0;34m\u001b[0m\u001b[0m\n\u001b[1;32m   2358\u001b[0m                 \u001b[0margs\u001b[0m \u001b[0;34m=\u001b[0m \u001b[0;34m(\u001b[0m\u001b[0mmagic_arg_s\u001b[0m\u001b[0;34m,\u001b[0m \u001b[0mcell\u001b[0m\u001b[0;34m)\u001b[0m\u001b[0;34m\u001b[0m\u001b[0;34m\u001b[0m\u001b[0m\n\u001b[0;32m-> 2359\u001b[0;31m                 \u001b[0mresult\u001b[0m \u001b[0;34m=\u001b[0m \u001b[0mfn\u001b[0m\u001b[0;34m(\u001b[0m\u001b[0;34m*\u001b[0m\u001b[0margs\u001b[0m\u001b[0;34m,\u001b[0m \u001b[0;34m**\u001b[0m\u001b[0mkwargs\u001b[0m\u001b[0;34m)\u001b[0m\u001b[0;34m\u001b[0m\u001b[0;34m\u001b[0m\u001b[0m\n\u001b[0m\u001b[1;32m   2360\u001b[0m             \u001b[0;32mreturn\u001b[0m \u001b[0mresult\u001b[0m\u001b[0;34m\u001b[0m\u001b[0;34m\u001b[0m\u001b[0m\n\u001b[1;32m   2361\u001b[0m \u001b[0;34m\u001b[0m\u001b[0m\n",
      "\u001b[0;32m/p/software/juwelsbooster/stages/Devel-2020/software/Jupyter/2020.2.4-gcccoremkl-9.3.0-2020.2.254-Python-3.8.5/lib/python3.8/site-packages/IPython/core/magics/script.py\u001b[0m in \u001b[0;36mnamed_script_magic\u001b[0;34m(line, cell)\u001b[0m\n\u001b[1;32m    140\u001b[0m             \u001b[0;32melse\u001b[0m\u001b[0;34m:\u001b[0m\u001b[0;34m\u001b[0m\u001b[0;34m\u001b[0m\u001b[0m\n\u001b[1;32m    141\u001b[0m                 \u001b[0mline\u001b[0m \u001b[0;34m=\u001b[0m \u001b[0mscript\u001b[0m\u001b[0;34m\u001b[0m\u001b[0;34m\u001b[0m\u001b[0m\n\u001b[0;32m--> 142\u001b[0;31m             \u001b[0;32mreturn\u001b[0m \u001b[0mself\u001b[0m\u001b[0;34m.\u001b[0m\u001b[0mshebang\u001b[0m\u001b[0;34m(\u001b[0m\u001b[0mline\u001b[0m\u001b[0;34m,\u001b[0m \u001b[0mcell\u001b[0m\u001b[0;34m)\u001b[0m\u001b[0;34m\u001b[0m\u001b[0;34m\u001b[0m\u001b[0m\n\u001b[0m\u001b[1;32m    143\u001b[0m \u001b[0;34m\u001b[0m\u001b[0m\n\u001b[1;32m    144\u001b[0m         \u001b[0;31m# write a basic docstring:\u001b[0m\u001b[0;34m\u001b[0m\u001b[0;34m\u001b[0m\u001b[0;34m\u001b[0m\u001b[0m\n",
      "\u001b[0;32m<decorator-gen-110>\u001b[0m in \u001b[0;36mshebang\u001b[0;34m(self, line, cell)\u001b[0m\n",
      "\u001b[0;32m/p/software/juwelsbooster/stages/Devel-2020/software/Jupyter/2020.2.4-gcccoremkl-9.3.0-2020.2.254-Python-3.8.5/lib/python3.8/site-packages/IPython/core/magic.py\u001b[0m in \u001b[0;36m<lambda>\u001b[0;34m(f, *a, **k)\u001b[0m\n\u001b[1;32m    185\u001b[0m     \u001b[0;31m# but it's overkill for just that one bit of state.\u001b[0m\u001b[0;34m\u001b[0m\u001b[0;34m\u001b[0m\u001b[0;34m\u001b[0m\u001b[0m\n\u001b[1;32m    186\u001b[0m     \u001b[0;32mdef\u001b[0m \u001b[0mmagic_deco\u001b[0m\u001b[0;34m(\u001b[0m\u001b[0marg\u001b[0m\u001b[0;34m)\u001b[0m\u001b[0;34m:\u001b[0m\u001b[0;34m\u001b[0m\u001b[0;34m\u001b[0m\u001b[0m\n\u001b[0;32m--> 187\u001b[0;31m         \u001b[0mcall\u001b[0m \u001b[0;34m=\u001b[0m \u001b[0;32mlambda\u001b[0m \u001b[0mf\u001b[0m\u001b[0;34m,\u001b[0m \u001b[0;34m*\u001b[0m\u001b[0ma\u001b[0m\u001b[0;34m,\u001b[0m \u001b[0;34m**\u001b[0m\u001b[0mk\u001b[0m\u001b[0;34m:\u001b[0m \u001b[0mf\u001b[0m\u001b[0;34m(\u001b[0m\u001b[0;34m*\u001b[0m\u001b[0ma\u001b[0m\u001b[0;34m,\u001b[0m \u001b[0;34m**\u001b[0m\u001b[0mk\u001b[0m\u001b[0;34m)\u001b[0m\u001b[0;34m\u001b[0m\u001b[0;34m\u001b[0m\u001b[0m\n\u001b[0m\u001b[1;32m    188\u001b[0m \u001b[0;34m\u001b[0m\u001b[0m\n\u001b[1;32m    189\u001b[0m         \u001b[0;32mif\u001b[0m \u001b[0mcallable\u001b[0m\u001b[0;34m(\u001b[0m\u001b[0marg\u001b[0m\u001b[0;34m)\u001b[0m\u001b[0;34m:\u001b[0m\u001b[0;34m\u001b[0m\u001b[0;34m\u001b[0m\u001b[0m\n",
      "\u001b[0;32m/p/software/juwelsbooster/stages/Devel-2020/software/Jupyter/2020.2.4-gcccoremkl-9.3.0-2020.2.254-Python-3.8.5/lib/python3.8/site-packages/IPython/core/magics/script.py\u001b[0m in \u001b[0;36mshebang\u001b[0;34m(self, line, cell)\u001b[0m\n\u001b[1;32m    243\u001b[0m             \u001b[0msys\u001b[0m\u001b[0;34m.\u001b[0m\u001b[0mstderr\u001b[0m\u001b[0;34m.\u001b[0m\u001b[0mflush\u001b[0m\u001b[0;34m(\u001b[0m\u001b[0;34m)\u001b[0m\u001b[0;34m\u001b[0m\u001b[0;34m\u001b[0m\u001b[0m\n\u001b[1;32m    244\u001b[0m         \u001b[0;32mif\u001b[0m \u001b[0margs\u001b[0m\u001b[0;34m.\u001b[0m\u001b[0mraise_error\u001b[0m \u001b[0;32mand\u001b[0m \u001b[0mp\u001b[0m\u001b[0;34m.\u001b[0m\u001b[0mreturncode\u001b[0m\u001b[0;34m!=\u001b[0m\u001b[0;36m0\u001b[0m\u001b[0;34m:\u001b[0m\u001b[0;34m\u001b[0m\u001b[0;34m\u001b[0m\u001b[0m\n\u001b[0;32m--> 245\u001b[0;31m             \u001b[0;32mraise\u001b[0m \u001b[0mCalledProcessError\u001b[0m\u001b[0;34m(\u001b[0m\u001b[0mp\u001b[0m\u001b[0;34m.\u001b[0m\u001b[0mreturncode\u001b[0m\u001b[0;34m,\u001b[0m \u001b[0mcell\u001b[0m\u001b[0;34m,\u001b[0m \u001b[0moutput\u001b[0m\u001b[0;34m=\u001b[0m\u001b[0mout\u001b[0m\u001b[0;34m,\u001b[0m \u001b[0mstderr\u001b[0m\u001b[0;34m=\u001b[0m\u001b[0merr\u001b[0m\u001b[0;34m)\u001b[0m\u001b[0;34m\u001b[0m\u001b[0;34m\u001b[0m\u001b[0m\n\u001b[0m\u001b[1;32m    246\u001b[0m \u001b[0;34m\u001b[0m\u001b[0m\n\u001b[1;32m    247\u001b[0m     \u001b[0;32mdef\u001b[0m \u001b[0m_run_script\u001b[0m\u001b[0;34m(\u001b[0m\u001b[0mself\u001b[0m\u001b[0;34m,\u001b[0m \u001b[0mp\u001b[0m\u001b[0;34m,\u001b[0m \u001b[0mcell\u001b[0m\u001b[0;34m,\u001b[0m \u001b[0mto_close\u001b[0m\u001b[0;34m)\u001b[0m\u001b[0;34m:\u001b[0m\u001b[0;34m\u001b[0m\u001b[0;34m\u001b[0m\u001b[0m\n",
      "\u001b[0;31mCalledProcessError\u001b[0m: Command 'b'jupyter nbconvert --to pdf --template temp test.ipynb\\n'' returned non-zero exit status 1."
     ]
    }
   ],
   "source": [
    "%%bash\n",
    "jupyter nbconvert --to pdf --template temp test.ipynb"
   ]
  },
  {
   "cell_type": "markdown",
   "metadata": {},
   "source": [
    "## Cleanup"
   ]
  },
  {
   "cell_type": "code",
   "execution_count": 3,
   "metadata": {},
   "outputs": [],
   "source": [
    "!rm -f test.ipynb\n",
    "!rm -f temp.tplx\n",
    "!rm -f test.pdf\n",
    "!rm -f test.html"
   ]
  }
 ],
 "metadata": {
  "kernelspec": {
   "display_name": "Python 3",
   "language": "python",
   "name": "python3"
  },
  "language_info": {
   "codemirror_mode": {
    "name": "ipython",
    "version": 3
   },
   "file_extension": ".py",
   "mimetype": "text/x-python",
   "name": "python",
   "nbconvert_exporter": "python",
   "pygments_lexer": "ipython3",
   "version": "3.8.5"
  }
 },
 "nbformat": 4,
 "nbformat_minor": 4
}

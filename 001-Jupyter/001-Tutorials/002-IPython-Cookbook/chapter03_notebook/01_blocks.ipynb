{
 "cells": [
  {
   "cell_type": "markdown",
   "metadata": {},
   "source": [
    "# 3.1. Teaching programming in the Notebook with IPython blocks"
   ]
  },
  {
   "cell_type": "code",
   "execution_count": null,
   "metadata": {},
   "outputs": [],
   "source": [
    "import time\n",
    "from IPython.display import clear_output\n",
    "from ipythonblocks import BlockGrid, colors"
   ]
  },
  {
   "cell_type": "code",
   "execution_count": null,
   "metadata": {
    "podoc": {
     "output_text": "A IPython Blocks grid"
    }
   },
   "outputs": [],
   "source": [
    "grid = BlockGrid(width=5, height=5,\n",
    "                 fill=colors['Purple'])\n",
    "grid.show()"
   ]
  },
  {
   "cell_type": "code",
   "execution_count": null,
   "metadata": {
    "podoc": {
     "output_text": "Coloring blocks"
    }
   },
   "outputs": [],
   "source": [
    "grid[0, 0] = colors['Lime']\n",
    "grid[-1, 0] = colors['Lime']\n",
    "grid[:, -1] = colors['Lime']\n",
    "grid.show()"
   ]
  },
  {
   "cell_type": "code",
   "execution_count": null,
   "metadata": {
    "podoc": {
     "output_text": "Matrix multiplication with IPython blocks"
    }
   },
   "outputs": [],
   "source": [
    "n = 5\n",
    "grid = BlockGrid(width=2 * n + 1,\n",
    "                 height=2 * n + 1,\n",
    "                 fill=colors['White'])\n",
    "A = grid[n + 1:, :n]\n",
    "B = grid[:n, n + 1:]\n",
    "C = grid[n + 1:, n + 1:]\n",
    "A[:, :] = colors['Cyan']\n",
    "B[:, :] = colors['Lime']\n",
    "C[:, :] = colors['Yellow']\n",
    "grid.show()"
   ]
  },
  {
   "cell_type": "code",
   "execution_count": null,
   "metadata": {
    "podoc": {
     "output_text": "Multiplying rows and columns for matrix multiplication"
    }
   },
   "outputs": [],
   "source": [
    "for i in range(n):\n",
    "    for j in range(n):\n",
    "        # We reset the matrix colors.\n",
    "        A[:, :] = colors['Cyan']\n",
    "        B[:, :] = colors['Lime']\n",
    "        C[:, :] = colors['Yellow']\n",
    "        # We highlight the adequate rows\n",
    "        # and columns in red.\n",
    "        A[i, :] = colors['Red']\n",
    "        B[:, j] = colors['Red']\n",
    "        C[i, j] = colors['Red']\n",
    "        # We animate the grid in the loop.\n",
    "        clear_output()\n",
    "        grid.show()\n",
    "        time.sleep(.25)"
   ]
  },
  {
   "cell_type": "code",
   "execution_count": null,
   "metadata": {},
   "outputs": [],
   "source": [
    "# We downsample the image by a factor of 4 for performance reasons.\n",
    "# DISABLED until matplotlib includes https://github.com/matplotlib/matplotlib/pull/18185\n",
    "#import matplotlib.pyplot as plt\n",
    "#%matplotlib inline\n",
    "#img = plt.imread('https://github.com/ipython-books/'\n",
    "#                 'cookbook-2nd-data/blob/master/'\n",
    "#                 'beach.png?raw=true')[::4, ::4, :]"
   ]
  },
  {
   "cell_type": "code",
   "execution_count": null,
   "metadata": {},
   "outputs": [],
   "source": [
    "#rgb = [img[..., i].ravel() for i in range(3)]"
   ]
  },
  {
   "cell_type": "code",
   "execution_count": null,
   "metadata": {
    "podoc": {
     "output_text": "<IPython.core.display.HTML object>"
    }
   },
   "outputs": [],
   "source": [
    "#height, width = img.shape[:2]\n",
    "#grid = BlockGrid(width=width, height=height,\n",
    "#                 block_size=2, lines_on=False)\n",
    "#for block, r, g, b in zip(grid, *rgb):\n",
    "#    block.rgb = (r * 255, g * 255, b * 255)\n",
    "#grid.show()"
   ]
  },
  {
   "cell_type": "code",
   "execution_count": null,
   "metadata": {},
   "outputs": [],
   "source": []
  }
 ],
 "metadata": {
  "kernelspec": {
   "display_name": "Python 3",
   "language": "python",
   "name": "python3"
  },
  "language_info": {
   "codemirror_mode": {
    "name": "ipython",
    "version": 3
   },
   "file_extension": ".py",
   "mimetype": "text/x-python",
   "name": "python",
   "nbconvert_exporter": "python",
   "pygments_lexer": "ipython3",
   "version": "3.8.5"
  }
 },
 "nbformat": 4,
 "nbformat_minor": 4
}

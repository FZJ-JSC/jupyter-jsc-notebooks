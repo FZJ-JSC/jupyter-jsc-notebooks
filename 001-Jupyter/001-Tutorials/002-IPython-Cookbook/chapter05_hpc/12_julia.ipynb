{
 "cells": [
  {
   "cell_type": "markdown",
   "metadata": {},
   "source": [
    "# 5.12. Trying the Julia programming language in the Jupyter Notebook"
   ]
  },
  {
   "cell_type": "code",
   "execution_count": 1,
   "metadata": {},
   "outputs": [
    {
     "name": "stdout",
     "output_type": "stream",
     "text": [
      "Hello world!\n"
     ]
    }
   ],
   "source": [
    "println(\"Hello world!\")"
   ]
  },
  {
   "cell_type": "code",
   "execution_count": 2,
   "metadata": {},
   "outputs": [
    {
     "data": {
      "text/plain": [
       "f (generic function with 1 method)"
      ]
     },
     "execution_count": 2,
     "metadata": {},
     "output_type": "execute_result"
    }
   ],
   "source": [
    "f(z, c) = z.*z .+ c"
   ]
  },
  {
   "cell_type": "code",
   "execution_count": 3,
   "metadata": {},
   "outputs": [
    {
     "data": {
      "text/plain": [
       "4.0 + 4.0im"
      ]
     },
     "execution_count": 3,
     "metadata": {},
     "output_type": "execute_result"
    }
   ],
   "source": [
    "f(2.0 + 1.0im, 1.0)"
   ]
  },
  {
   "cell_type": "code",
   "execution_count": 4,
   "metadata": {},
   "outputs": [
    {
     "data": {
      "text/plain": [
       "2×2 Array{Complex{Float64},2}:\n",
       " -1.0-1.0im  1.0-1.0im\n",
       " -1.0+1.0im  1.0+1.0im"
      ]
     },
     "execution_count": 4,
     "metadata": {},
     "output_type": "execute_result"
    }
   ],
   "source": [
    "z = [-1.0 - 1.0im  1.0 - 1.0im;\n",
    "     -1.0 + 1.0im  1.0 + 1.0im]"
   ]
  },
  {
   "cell_type": "code",
   "execution_count": 5,
   "metadata": {},
   "outputs": [
    {
     "data": {
      "text/plain": [
       "1.0 - 1.0im"
      ]
     },
     "execution_count": 5,
     "metadata": {},
     "output_type": "execute_result"
    }
   ],
   "source": [
    "z[1,end]"
   ]
  },
  {
   "cell_type": "code",
   "execution_count": 6,
   "metadata": {},
   "outputs": [
    {
     "data": {
      "text/plain": [
       "2×2 Array{Complex{Float64},2}:\n",
       " 0.0+2.0im  0.0-2.0im\n",
       " 0.0-2.0im  0.0+2.0im"
      ]
     },
     "execution_count": 6,
     "metadata": {},
     "output_type": "execute_result"
    }
   ],
   "source": [
    "f(z, 0)"
   ]
  },
  {
   "cell_type": "code",
   "execution_count": 7,
   "metadata": {},
   "outputs": [
    {
     "data": {
      "text/plain": [
       "julia (generic function with 1 method)"
      ]
     },
     "execution_count": 7,
     "metadata": {},
     "output_type": "execute_result"
    }
   ],
   "source": [
    "function julia(z, c; maxiter=200)\n",
    "    for n = 1:maxiter\n",
    "        if abs2(z) > 4.0\n",
    "            return n-1\n",
    "        end\n",
    "        z = f(z, c)\n",
    "    end\n",
    "    return maxiter\n",
    "end"
   ]
  },
  {
   "cell_type": "code",
   "execution_count": 10,
   "metadata": {},
   "outputs": [
    {
     "name": "stdout",
     "output_type": "stream",
     "text": [
      "\u001b[32m\u001b[1m  Updating\u001b[22m\u001b[39m registry at `/usr/local/software/jureca/Stages/Devel-2019a/software/Jupyter/2019a-rc30-gcccoremkl-8.3.0-2019.3.199-Python-3.6.8/share/julia/site/registries/General`\n",
      "\u001b[32m\u001b[1m  Updating\u001b[22m\u001b[39m git-repo `https://github.com/JuliaRegistries/General.git`\n",
      "\u001b[2K\u001b[?25h[1mFetching:\u001b[22m\u001b[39m [========================================>]  100.0 %.0 %12.3 %>                              ]  24.7 %>                       ]  41.0 %======================>                  ]  53.3 %]  65.6 %          ]  73.2 % [===================================>     ]  85.6 %\u001b[36m\u001b[1mFetching:\u001b[22m\u001b[39m [======================================>  ]  93.4 %\u001b[32m\u001b[1m Resolving\u001b[22m\u001b[39m package versions...\n",
      "\u001b[32m\u001b[1m Installed\u001b[22m\u001b[39m OrderedCollections ─ v1.1.0\n",
      "\u001b[32m\u001b[1m Installed\u001b[22m\u001b[39m MacroTools ───────── v0.5.3\n",
      "\u001b[32m\u001b[1m Installed\u001b[22m\u001b[39m PyCall ───────────── v1.91.2\n",
      "\u001b[32m\u001b[1m Installed\u001b[22m\u001b[39m DataStructures ───── v0.17.7\n",
      "\u001b[32m\u001b[1m  Updating\u001b[22m\u001b[39m `/usr/local/software/jureca/Stages/Devel-2019a/software/Jupyter/2019a-rc30-gcccoremkl-8.3.0-2019.3.199-Python-3.6.8/share/julia/site/environments/v1.1/Project.toml`\n",
      " \u001b[90m [438e738f]\u001b[39m\u001b[92m + PyCall v1.91.2\u001b[39m\n",
      "\u001b[32m\u001b[1m  Updating\u001b[22m\u001b[39m `/usr/local/software/jureca/Stages/Devel-2019a/software/Jupyter/2019a-rc30-gcccoremkl-8.3.0-2019.3.199-Python-3.6.8/share/julia/site/environments/v1.1/Manifest.toml`\n",
      " \u001b[90m [864edb3b]\u001b[39m\u001b[92m + DataStructures v0.17.7\u001b[39m\n",
      " \u001b[90m [1914dd2f]\u001b[39m\u001b[92m + MacroTools v0.5.3\u001b[39m\n",
      " \u001b[90m [bac558e1]\u001b[39m\u001b[92m + OrderedCollections v1.1.0\u001b[39m\n",
      " \u001b[90m [438e738f]\u001b[39m\u001b[92m + PyCall v1.91.2\u001b[39m\n",
      " \u001b[90m [37e2e46d]\u001b[39m\u001b[92m + LinearAlgebra \u001b[39m\n",
      " \u001b[90m [2f01184e]\u001b[39m\u001b[92m + SparseArrays \u001b[39m\n",
      " \u001b[90m [10745b16]\u001b[39m\u001b[92m + Statistics \u001b[39m\n",
      "\u001b[32m\u001b[1m  Building\u001b[22m\u001b[39m PyCall → `/usr/local/software/jureca/Stages/Devel-2019a/software/Jupyter/2019a-rc30-gcccoremkl-8.3.0-2019.3.199-Python-3.6.8/share/julia/site/packages/PyCall/ttONZ/deps/build.log`\n"
     ]
    },
    {
     "name": "stderr",
     "output_type": "stream",
     "text": [
      "┌ Info: Precompiling PyCall [438e738f-606a-5dbb-bf0a-cddfbfd45ab0]\n",
      "└ @ Base loading.jl:1186\n"
     ]
    }
   ],
   "source": [
    "import Pkg\n",
    "Pkg.add(\"PyCall\")\n",
    "using PyCall"
   ]
  },
  {
   "cell_type": "code",
   "execution_count": 13,
   "metadata": {},
   "outputs": [],
   "source": [
    "@pyimport numpy as np"
   ]
  },
  {
   "cell_type": "code",
   "execution_count": 14,
   "metadata": {},
   "outputs": [
    {
     "data": {
      "text/plain": [
       "100-element Array{Float64,1}:\n",
       " -1.0               \n",
       " -0.9797979797979798\n",
       " -0.9595959595959596\n",
       " -0.9393939393939394\n",
       " -0.9191919191919192\n",
       " -0.898989898989899 \n",
       " -0.8787878787878788\n",
       " -0.8585858585858586\n",
       " -0.8383838383838383\n",
       " -0.8181818181818181\n",
       " -0.797979797979798 \n",
       " -0.7777777777777778\n",
       " -0.7575757575757576\n",
       "  ⋮                 \n",
       "  0.7777777777777779\n",
       "  0.7979797979797982\n",
       "  0.8181818181818183\n",
       "  0.8383838383838385\n",
       "  0.8585858585858588\n",
       "  0.8787878787878789\n",
       "  0.8989898989898992\n",
       "  0.9191919191919193\n",
       "  0.9393939393939394\n",
       "  0.9595959595959598\n",
       "  0.9797979797979799\n",
       "  1.0               "
      ]
     },
     "execution_count": 14,
     "metadata": {},
     "output_type": "execute_result"
    }
   ],
   "source": [
    "z = np.linspace(-1., 1., 100)"
   ]
  },
  {
   "cell_type": "code",
   "execution_count": 15,
   "metadata": {},
   "outputs": [
    {
     "data": {
      "text/plain": [
       "100-element Array{Int64,1}:\n",
       " 2\n",
       " 2\n",
       " 2\n",
       " 2\n",
       " 2\n",
       " 2\n",
       " 2\n",
       " 2\n",
       " 3\n",
       " 3\n",
       " 3\n",
       " 3\n",
       " 3\n",
       " ⋮\n",
       " 3\n",
       " 3\n",
       " 3\n",
       " 3\n",
       " 2\n",
       " 2\n",
       " 2\n",
       " 2\n",
       " 2\n",
       " 2\n",
       " 2\n",
       " 2"
      ]
     },
     "execution_count": 15,
     "metadata": {},
     "output_type": "execute_result"
    }
   ],
   "source": [
    "m = [julia(z[i], 0.5) for i=1:100]"
   ]
  },
  {
   "cell_type": "raw",
   "metadata": {},
   "source": [
    "import Pkg\n",
    "Pkg.add(\"Gadfly\")\n",
    "using Gadfly"
   ]
  },
  {
   "cell_type": "raw",
   "metadata": {
    "podoc": {
     "output_text": "<Plot(...)>"
    }
   },
   "source": [
    "plot(x=1:100, y=m, Geom.point, Geom.line)"
   ]
  },
  {
   "cell_type": "raw",
   "metadata": {},
   "source": [
    "Pkg.add(\"PyPlot\")\n",
    "using PyPlot"
   ]
  },
  {
   "cell_type": "code",
   "execution_count": 18,
   "metadata": {},
   "outputs": [
    {
     "name": "stdout",
     "output_type": "stream",
     "text": [
      "  1.217659 seconds (736.41 k allocations: 82.496 MiB, 4.63% gc time)\n"
     ]
    }
   ],
   "source": [
    "@time m = [julia(complex(r, i), complex(-0.06, 0.67))\n",
    "           for i = 1:-.001:-1,\n",
    "               r = -1.5:.001:1.5];"
   ]
  },
  {
   "cell_type": "raw",
   "metadata": {
    "podoc": {
     "output_text": "<Julia output>"
    }
   },
   "source": [
    "imshow(m, cmap=\"RdGy\",\n",
    "       extent=[-1.5, 1.5, -1, 1]);"
   ]
  },
  {
   "cell_type": "code",
   "execution_count": null,
   "metadata": {},
   "outputs": [],
   "source": []
  }
 ],
 "metadata": {
  "kernelspec": {
   "display_name": "Julia 1.1.0",
   "language": "julia",
   "name": "julia-1.1"
  },
  "language_info": {
   "file_extension": ".jl",
   "mimetype": "application/julia",
   "name": "julia",
   "version": "1.1.0"
  }
 },
 "nbformat": 4,
 "nbformat_minor": 4
}

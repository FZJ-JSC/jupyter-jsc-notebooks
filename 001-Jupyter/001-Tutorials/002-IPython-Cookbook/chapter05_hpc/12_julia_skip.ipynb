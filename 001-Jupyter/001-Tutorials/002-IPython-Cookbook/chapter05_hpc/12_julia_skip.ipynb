{
 "cells": [
  {
   "cell_type": "markdown",
   "metadata": {},
   "source": [
    "# 5.12. Trying the Julia programming language in the Jupyter Notebook"
   ]
  },
  {
   "cell_type": "code",
   "execution_count": 1,
   "metadata": {},
   "outputs": [
    {
     "name": "stdout",
     "output_type": "stream",
     "text": [
      "Hello world!"
     ]
    }
   ],
   "source": [
    "print(\"Hello world!\")"
   ]
  },
  {
   "cell_type": "code",
   "execution_count": 2,
   "metadata": {},
   "outputs": [
    {
     "data": {
      "text/plain": [
       "f (generic function with 1 method)"
      ]
     },
     "execution_count": 2,
     "metadata": {},
     "output_type": "execute_result"
    }
   ],
   "source": [
    "f(z, c) = z.*z .+ c"
   ]
  },
  {
   "cell_type": "code",
   "execution_count": 3,
   "metadata": {},
   "outputs": [
    {
     "data": {
      "text/plain": [
       "4.0 + 4.0im"
      ]
     },
     "execution_count": 3,
     "metadata": {},
     "output_type": "execute_result"
    }
   ],
   "source": [
    "f(2.0 + 1.0im, 1.0)"
   ]
  },
  {
   "cell_type": "code",
   "execution_count": null,
   "metadata": {},
   "outputs": [],
   "source": []
  },
  {
   "cell_type": "code",
   "execution_count": 4,
   "metadata": {},
   "outputs": [
    {
     "data": {
      "text/plain": [
       "2×2 Array{Complex{Float64},2}:\n",
       " -1.0-1.0im  1.0-1.0im\n",
       " -1.0+1.0im  1.0+1.0im"
      ]
     },
     "execution_count": 4,
     "metadata": {},
     "output_type": "execute_result"
    }
   ],
   "source": [
    "z = [-1.0 - 1.0im  1.0 - 1.0im;\n",
    "     -1.0 + 1.0im  1.0 + 1.0im]"
   ]
  },
  {
   "cell_type": "code",
   "execution_count": 5,
   "metadata": {},
   "outputs": [
    {
     "data": {
      "text/plain": [
       "1.0 - 1.0im"
      ]
     },
     "execution_count": 5,
     "metadata": {},
     "output_type": "execute_result"
    }
   ],
   "source": [
    "z[1,end]"
   ]
  },
  {
   "cell_type": "code",
   "execution_count": 6,
   "metadata": {},
   "outputs": [
    {
     "data": {
      "text/plain": [
       "2×2 Array{Complex{Float64},2}:\n",
       " 0.0+2.0im  0.0-2.0im\n",
       " 0.0-2.0im  0.0+2.0im"
      ]
     },
     "execution_count": 6,
     "metadata": {},
     "output_type": "execute_result"
    }
   ],
   "source": [
    "f(z, 0)"
   ]
  },
  {
   "cell_type": "code",
   "execution_count": 7,
   "metadata": {},
   "outputs": [
    {
     "data": {
      "text/plain": [
       "julia (generic function with 1 method)"
      ]
     },
     "execution_count": 7,
     "metadata": {},
     "output_type": "execute_result"
    }
   ],
   "source": [
    "function julia(z, c; maxiter=200)\n",
    "    for n = 1:maxiter\n",
    "        if abs2(z) > 4.0\n",
    "            return n-1\n",
    "        end\n",
    "        z = f(z, c)\n",
    "    end\n",
    "    return maxiter\n",
    "end"
   ]
  },
  {
   "cell_type": "code",
   "execution_count": 8,
   "metadata": {},
   "outputs": [
    {
     "ename": "LoadError",
     "evalue": "SystemError: opening file \"/p/software/juwelsbooster/stages/Devel-2020/software/JupyterKernel-Julia/1.5.2-gcccoremkl-9.3.0-2020.2.254-2020.2.4/share/julia/site/logs/manifest_usage.toml\": Permission denied",
     "output_type": "error",
     "traceback": [
      "SystemError: opening file \"/p/software/juwelsbooster/stages/Devel-2020/software/JupyterKernel-Julia/1.5.2-gcccoremkl-9.3.0-2020.2.254-2020.2.4/share/julia/site/logs/manifest_usage.toml\": Permission denied",
      "",
      "Stacktrace:",
      " [1] systemerror(::String, ::Int32; extrainfo::Nothing) at ./error.jl:168",
      " [2] #systemerror#48 at ./error.jl:167 [inlined]",
      " [3] systemerror at ./error.jl:167 [inlined]",
      " [4] open(::String; lock::Bool, read::Nothing, write::Nothing, create::Nothing, truncate::Nothing, append::Bool) at ./iostream.jl:284",
      " [5] open(::Pkg.Types.var\"#46#48\"{String}, ::String; kwargs::Base.Iterators.Pairs{Symbol,Bool,Tuple{Symbol},NamedTuple{(:append,),Tuple{Bool}}}) at ./io.jl:323",
      " [6] write_env_usage(::String, ::String) at /dev/shm/goebbert1/Julia/1.5.2/gcccoremkl-9.3.0-2020.2.254/julia-1.5.2/usr/share/julia/stdlib/v1.5/Pkg/src/Types.jl:403",
      " [7] Pkg.Types.EnvCache(::Nothing) at /dev/shm/goebbert1/Julia/1.5.2/gcccoremkl-9.3.0-2020.2.254/julia-1.5.2/usr/share/julia/stdlib/v1.5/Pkg/src/Types.jl:298",
      " [8] EnvCache at /dev/shm/goebbert1/Julia/1.5.2/gcccoremkl-9.3.0-2020.2.254/julia-1.5.2/usr/share/julia/stdlib/v1.5/Pkg/src/Types.jl:279 [inlined]",
      " [9] Pkg.Types.Context() at ./util.jl:438",
      " [10] #add#21 at /dev/shm/goebbert1/Julia/1.5.2/gcccoremkl-9.3.0-2020.2.254/julia-1.5.2/usr/share/julia/stdlib/v1.5/Pkg/src/API.jl:67 [inlined]",
      " [11] add at /dev/shm/goebbert1/Julia/1.5.2/gcccoremkl-9.3.0-2020.2.254/julia-1.5.2/usr/share/julia/stdlib/v1.5/Pkg/src/API.jl:67 [inlined]",
      " [12] #add#20 at /dev/shm/goebbert1/Julia/1.5.2/gcccoremkl-9.3.0-2020.2.254/julia-1.5.2/usr/share/julia/stdlib/v1.5/Pkg/src/API.jl:66 [inlined]",
      " [13] add at /dev/shm/goebbert1/Julia/1.5.2/gcccoremkl-9.3.0-2020.2.254/julia-1.5.2/usr/share/julia/stdlib/v1.5/Pkg/src/API.jl:66 [inlined]",
      " [14] add(::String; kwargs::Base.Iterators.Pairs{Union{},Union{},Tuple{},NamedTuple{(),Tuple{}}}) at /dev/shm/goebbert1/Julia/1.5.2/gcccoremkl-9.3.0-2020.2.254/julia-1.5.2/usr/share/julia/stdlib/v1.5/Pkg/src/API.jl:65",
      " [15] add(::String) at /dev/shm/goebbert1/Julia/1.5.2/gcccoremkl-9.3.0-2020.2.254/julia-1.5.2/usr/share/julia/stdlib/v1.5/Pkg/src/API.jl:65",
      " [16] top-level scope at In[8]:2",
      " [17] include_string(::Function, ::Module, ::String, ::String) at ./loading.jl:1091"
     ]
    }
   ],
   "source": [
    "import Pkg\n",
    "Pkg.add(\"PyCall\")\n",
    "using PyCall"
   ]
  },
  {
   "cell_type": "code",
   "execution_count": 9,
   "metadata": {},
   "outputs": [
    {
     "ename": "LoadError",
     "evalue": "LoadError: UndefVarError: @pyimport not defined\nin expression starting at In[9]:1",
     "output_type": "error",
     "traceback": [
      "LoadError: UndefVarError: @pyimport not defined\nin expression starting at In[9]:1",
      "",
      "Stacktrace:",
      " [1] top-level scope",
      " [2] include_string(::Function, ::Module, ::String, ::String) at ./loading.jl:1091"
     ]
    }
   ],
   "source": [
    "@pyimport numpy as np"
   ]
  },
  {
   "cell_type": "code",
   "execution_count": 10,
   "metadata": {},
   "outputs": [
    {
     "ename": "LoadError",
     "evalue": "UndefVarError: np not defined",
     "output_type": "error",
     "traceback": [
      "UndefVarError: np not defined",
      "",
      "Stacktrace:",
      " [1] top-level scope at In[10]:1",
      " [2] include_string(::Function, ::Module, ::String, ::String) at ./loading.jl:1091"
     ]
    }
   ],
   "source": [
    "z = np.linspace(-1., 1., 100)"
   ]
  },
  {
   "cell_type": "code",
   "execution_count": 11,
   "metadata": {},
   "outputs": [
    {
     "ename": "LoadError",
     "evalue": "BoundsError: attempt to access 2×2 Array{Complex{Float64},2} at index [5]",
     "output_type": "error",
     "traceback": [
      "BoundsError: attempt to access 2×2 Array{Complex{Float64},2} at index [5]",
      "",
      "Stacktrace:",
      " [1] getindex(::Array{Complex{Float64},2}, ::Int64) at ./array.jl:809",
      " [2] (::var\"#2#3\")(::Int64) at ./none:0",
      " [3] iterate at ./generator.jl:47 [inlined]",
      " [4] collect_to! at ./array.jl:732 [inlined]",
      " [5] collect_to_with_first!(::Array{Int64,1}, ::Int64, ::Base.Generator{UnitRange{Int64},var\"#2#3\"}, ::Int64) at ./array.jl:710",
      " [6] collect(::Base.Generator{UnitRange{Int64},var\"#2#3\"}) at ./array.jl:691",
      " [7] top-level scope at In[11]:1",
      " [8] include_string(::Function, ::Module, ::String, ::String) at ./loading.jl:1091"
     ]
    }
   ],
   "source": [
    "m = [julia(z[i], 0.5) for i=1:100]"
   ]
  },
  {
   "cell_type": "raw",
   "metadata": {},
   "source": [
    "import Pkg\n",
    "Pkg.add(\"Gadfly\")\n",
    "using Gadfly"
   ]
  },
  {
   "cell_type": "raw",
   "metadata": {
    "podoc": {
     "output_text": "<Plot(...)>"
    }
   },
   "source": [
    "plot(x=1:100, y=m, Geom.point, Geom.line)"
   ]
  },
  {
   "cell_type": "raw",
   "metadata": {},
   "source": [
    "Pkg.add(\"PyPlot\")\n",
    "using PyPlot"
   ]
  },
  {
   "cell_type": "code",
   "execution_count": null,
   "metadata": {},
   "outputs": [],
   "source": [
    "@time m = [julia(complex(r, i), complex(-0.06, 0.67))\n",
    "           for i = 1:-.001:-1,\n",
    "               r = -1.5:.001:1.5];"
   ]
  },
  {
   "cell_type": "raw",
   "metadata": {
    "podoc": {
     "output_text": "<Julia output>"
    }
   },
   "source": [
    "imshow(m, cmap=\"RdGy\",\n",
    "       extent=[-1.5, 1.5, -1, 1]);"
   ]
  },
  {
   "cell_type": "code",
   "execution_count": null,
   "metadata": {},
   "outputs": [],
   "source": []
  }
 ],
 "metadata": {
  "kernelspec": {
   "display_name": "Julia 1.5.2",
   "language": "julia",
   "name": "julia-1.5"
  },
  "language_info": {
   "file_extension": ".jl",
   "mimetype": "application/julia",
   "name": "julia",
   "version": "1.5.2"
  }
 },
 "nbformat": 4,
 "nbformat_minor": 4
}

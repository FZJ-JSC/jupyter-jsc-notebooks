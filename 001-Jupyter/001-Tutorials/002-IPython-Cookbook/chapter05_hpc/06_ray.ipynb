{
 "cells": [
  {
   "cell_type": "markdown",
   "metadata": {},
   "source": [
    "# 5.6. Optimizing Cython code by writing less Python and more C"
   ]
  },
  {
   "cell_type": "code",
   "execution_count": null,
   "metadata": {},
   "outputs": [],
   "source": [
    "import numpy as np\n",
    "import matplotlib.pyplot as plt"
   ]
  },
  {
   "cell_type": "code",
   "execution_count": null,
   "metadata": {},
   "outputs": [],
   "source": [
    "%matplotlib inline"
   ]
  },
  {
   "cell_type": "code",
   "execution_count": null,
   "metadata": {},
   "outputs": [],
   "source": [
    "w, h = 400, 400  # Size of the screen in pixels."
   ]
  },
  {
   "cell_type": "code",
   "execution_count": null,
   "metadata": {},
   "outputs": [],
   "source": [
    "def normalize(x):\n",
    "    # This function normalizes a vector.\n",
    "    x /= np.linalg.norm(x)\n",
    "    return x"
   ]
  },
  {
   "cell_type": "code",
   "execution_count": null,
   "metadata": {},
   "outputs": [],
   "source": [
    "def intersect_sphere(O, D, S, R):\n",
    "    # Return the distance from O to the intersection\n",
    "    # of the ray (O, D) with the sphere (S, R), or\n",
    "    # +inf if there is no intersection.\n",
    "    # O and S are 3D points, D (direction) is a\n",
    "    # normalized vector, R is a scalar.\n",
    "    a = np.dot(D, D)\n",
    "    OS = O - S\n",
    "    b = 2 * np.dot(D, OS)\n",
    "    c = np.dot(OS, OS) - R * R\n",
    "    disc = b * b - 4 * a * c\n",
    "    if disc > 0:\n",
    "        distSqrt = np.sqrt(disc)\n",
    "        q = (-b - distSqrt) / 2.0 if b < 0 \\\n",
    "            else (-b + distSqrt) / 2.0\n",
    "        t0 = q / a\n",
    "        t1 = c / q\n",
    "        t0, t1 = min(t0, t1), max(t0, t1)\n",
    "        if t1 >= 0:\n",
    "            return t1 if t0 < 0 else t0\n",
    "    return np.inf"
   ]
  },
  {
   "cell_type": "code",
   "execution_count": null,
   "metadata": {},
   "outputs": [],
   "source": [
    "def trace_ray(O, D):\n",
    "    # Find first point of intersection with the scene.\n",
    "    t = intersect_sphere(O, D, position, radius)\n",
    "    # No intersection?\n",
    "    if t == np.inf:\n",
    "        return\n",
    "    # Find the point of intersection on the object.\n",
    "    M = O + D * t\n",
    "    N = normalize(M - position)\n",
    "    toL = normalize(L - M)\n",
    "    toO = normalize(O - M)\n",
    "    # Ambient light.\n",
    "    col = ambient\n",
    "    # Lambert shading (diffuse).\n",
    "    col += diffuse * max(np.dot(N, toL), 0) * color\n",
    "    # Blinn-Phong shading (specular).\n",
    "    col += specular_c * color_light * \\\n",
    "        max(np.dot(N, normalize(toL + toO)), 0) \\\n",
    "        ** specular_k\n",
    "    return col"
   ]
  },
  {
   "cell_type": "code",
   "execution_count": null,
   "metadata": {},
   "outputs": [],
   "source": [
    "def run():\n",
    "    img = np.zeros((h, w, 3))\n",
    "    # Loop through all pixels.\n",
    "    for i, x in enumerate(np.linspace(-1, 1, w)):\n",
    "        for j, y in enumerate(np.linspace(-1, 1, h)):\n",
    "            # Position of the pixel.\n",
    "            Q[0], Q[1] = x, y\n",
    "            # Direction of the ray going through\n",
    "            # the optical center.\n",
    "            D = normalize(Q - O)\n",
    "            # Launch the ray and get the color\n",
    "            # of the pixel.\n",
    "            col = trace_ray(O, D)\n",
    "            if col is None:\n",
    "                continue\n",
    "            img[h - j - 1, i, :] = np.clip(col, 0, 1)\n",
    "    return img"
   ]
  },
  {
   "cell_type": "code",
   "execution_count": null,
   "metadata": {},
   "outputs": [],
   "source": [
    "# Sphere properties.\n",
    "position = np.array([0., 0., 1.])\n",
    "radius = 1.\n",
    "color = np.array([0., 0., 1.])\n",
    "diffuse = 1.\n",
    "specular_c = 1.\n",
    "specular_k = 50\n",
    "\n",
    "# Light position and color.\n",
    "L = np.array([5., 5., -10.])\n",
    "color_light = np.ones(3)\n",
    "ambient = .05\n",
    "\n",
    "# Camera.\n",
    "O = np.array([0., 0., -1.])  # Position.\n",
    "Q = np.array([0., 0., 0.])  # Pointing to."
   ]
  },
  {
   "cell_type": "code",
   "execution_count": null,
   "metadata": {
    "podoc": {
     "output_text": "Ray tracing with Python and Cython. Left: the outcome of this recipe. Right: outcome of an extended version."
    }
   },
   "outputs": [],
   "source": [
    "img = run()\n",
    "fig, ax = plt.subplots(1, 1, figsize=(10, 10))\n",
    "ax.imshow(img)\n",
    "ax.set_axis_off()"
   ]
  },
  {
   "cell_type": "code",
   "execution_count": null,
   "metadata": {},
   "outputs": [],
   "source": [
    "%timeit run()"
   ]
  },
  {
   "cell_type": "markdown",
   "metadata": {},
   "source": [
    "```\n",
    "import numpy as np\n",
    "cimport numpy as np\n",
    "DBL = np.double ctypedef\n",
    "np.double_t DBL_C\n",
    "```"
   ]
  },
  {
   "cell_type": "markdown",
   "metadata": {},
   "source": [
    "```\n",
    "from libc.math cimport sqrt\n",
    "cdef normalize(np.ndarray[DBL_C, ndim=1] x):\n",
    "    cdef double n\n",
    "    n = sqrt(x[0]*x[0] + x[1]*x[1] + x[2]*x[2])\n",
    "    x[0] /= n\n",
    "    x[1] /= n\n",
    "    x[2] /= n\n",
    "    return x\n",
    "```"
   ]
  },
  {
   "cell_type": "markdown",
   "metadata": {},
   "source": [
    "```\n",
    "cdef tuple add(tuple x, tuple y):\n",
    "    return (x[0]+y[0], x[1]+y[1], x[2]+y[2])\n",
    "```"
   ]
  },
  {
   "cell_type": "markdown",
   "metadata": {},
   "source": [
    "```\n",
    "cdef struct Vec3:\n",
    "    double x, y, z\n",
    "```"
   ]
  },
  {
   "cell_type": "markdown",
   "metadata": {},
   "source": [
    "```\n",
    "cdef Vec3 vec3(double x, double y, double z):\n",
    "    cdef Vec3 v\n",
    "    v.x = x\n",
    "    v.y = y\n",
    "    v.z = z\n",
    "    return v\n",
    "```"
   ]
  },
  {
   "cell_type": "markdown",
   "metadata": {},
   "source": [
    "```\n",
    "cdef Vec3 add(Vec3 u, Vec3 v):\n",
    "    return vec3(u.x + v.x, u.y + v.y, u.z + v.z)\n",
    "```"
   ]
  }
 ],
 "metadata": {
  "kernelspec": {
   "display_name": "Python 3",
   "language": "python",
   "name": "python3"
  },
  "language_info": {
   "codemirror_mode": {
    "name": "ipython",
    "version": 3
   },
   "file_extension": ".py",
   "mimetype": "text/x-python",
   "name": "python",
   "nbconvert_exporter": "python",
   "pygments_lexer": "ipython3",
   "version": "3.6.8"
  }
 },
 "nbformat": 4,
 "nbformat_minor": 4
}

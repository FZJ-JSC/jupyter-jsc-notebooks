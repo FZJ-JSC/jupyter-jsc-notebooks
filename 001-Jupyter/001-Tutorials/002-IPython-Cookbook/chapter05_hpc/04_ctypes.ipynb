{
 "cells": [
  {
   "cell_type": "markdown",
   "metadata": {},
   "source": [
    "# 5.4. Wrapping a C library in Python with ctypes"
   ]
  },
  {
   "cell_type": "code",
   "execution_count": null,
   "metadata": {},
   "outputs": [],
   "source": [
    "%%writefile mandelbrot.c\n",
    "#include \"stdio.h\"\n",
    "#include \"stdlib.h\"\n",
    "\n",
    "void mandelbrot(int size, int iterations, int *col)\n",
    "{\n",
    "    // Variable declarations.\n",
    "    int i, j, n, index;\n",
    "    double cx, cy;\n",
    "    double z0, z1, z0_tmp, z0_2, z1_2;\n",
    "\n",
    "    // Loop within the grid.\n",
    "    for (i = 0; i < size; i++)\n",
    "    {\n",
    "        cy = -1.5 + (double)i / size * 3;\n",
    "        for (j = 0; j < size; j++)\n",
    "        {\n",
    "            // We initialize the loop of the system.\n",
    "            cx = -2.0 + (double)j / size * 3;\n",
    "            index = i * size + j;\n",
    "            // Let's run the system.\n",
    "            z0 = 0.0;\n",
    "            z1 = 0.0;\n",
    "            for (n = 0; n < iterations; n++)\n",
    "            {\n",
    "                z0_2 = z0 * z0;\n",
    "                z1_2 = z1 * z1;\n",
    "                if (z0_2 + z1_2 <= 100)\n",
    "                {\n",
    "                    // Update the system.\n",
    "                    z0_tmp = z0_2 - z1_2 + cx;\n",
    "                    z1 = 2 * z0 * z1 + cy;\n",
    "                    z0 = z0_tmp;\n",
    "                    col[index] = n;\n",
    "                }\n",
    "                else\n",
    "                {\n",
    "                    break;\n",
    "                }\n",
    "            }\n",
    "        }\n",
    "    }\n",
    "}"
   ]
  },
  {
   "cell_type": "code",
   "execution_count": null,
   "metadata": {},
   "outputs": [],
   "source": [
    "#!gcc -shared -Wall -O2 -Wall -pedantic -Wl,-soname,mandelbrot -fPIC -o mandelbrot.so  mandelbrot.c\n",
    "!gcc -c -Wall -O2 -Wall -pedantic -fPIC -o mandelbrot.o mandelbrot.c\n",
    "!gcc -shared -Wl,-soname,mandelbrot -o mandelbrot.so mandelbrot.o"
   ]
  },
  {
   "cell_type": "code",
   "execution_count": null,
   "metadata": {},
   "outputs": [],
   "source": [
    "import ctypes"
   ]
  },
  {
   "cell_type": "code",
   "execution_count": null,
   "metadata": {},
   "outputs": [],
   "source": [
    "lib = ctypes.CDLL('./mandelbrot.so')"
   ]
  },
  {
   "cell_type": "code",
   "execution_count": null,
   "metadata": {},
   "outputs": [],
   "source": [
    "mandelbrot = lib.mandelbrot"
   ]
  },
  {
   "cell_type": "code",
   "execution_count": null,
   "metadata": {},
   "outputs": [],
   "source": [
    "from numpy.ctypeslib import ndpointer"
   ]
  },
  {
   "cell_type": "code",
   "execution_count": null,
   "metadata": {},
   "outputs": [],
   "source": [
    "# Define the types of the output and arguments of\n",
    "# this function.\n",
    "mandelbrot.restype = None\n",
    "mandelbrot.argtypes = [ctypes.c_int,\n",
    "                       ctypes.c_int,\n",
    "                       ndpointer(ctypes.c_int),\n",
    "                       ]"
   ]
  },
  {
   "cell_type": "code",
   "execution_count": null,
   "metadata": {},
   "outputs": [],
   "source": [
    "import numpy as np\n",
    "# We initialize an empty array.\n",
    "size = 400\n",
    "iterations = 100\n",
    "col = np.empty((size, size), dtype=np.int32)\n",
    "# We execute the C function, which will update\n",
    "# the array.\n",
    "mandelbrot(size, iterations, col)"
   ]
  },
  {
   "cell_type": "code",
   "execution_count": null,
   "metadata": {},
   "outputs": [],
   "source": [
    "import numpy as np\n",
    "import matplotlib.pyplot as plt\n",
    "%matplotlib inline"
   ]
  },
  {
   "cell_type": "code",
   "execution_count": null,
   "metadata": {
    "podoc": {
     "output_text": "<matplotlib.figure.Figure at 0x7fa4c6641c50>"
    }
   },
   "outputs": [],
   "source": [
    "fig, ax = plt.subplots(1, 1, figsize=(10, 10))\n",
    "ax.imshow(np.log(col), cmap=plt.cm.hot)\n",
    "ax.set_axis_off()"
   ]
  },
  {
   "cell_type": "code",
   "execution_count": null,
   "metadata": {},
   "outputs": [],
   "source": [
    "%timeit mandelbrot(size, iterations, col)"
   ]
  },
  {
   "cell_type": "markdown",
   "metadata": {},
   "source": [
    "## Cleanup"
   ]
  },
  {
   "cell_type": "code",
   "execution_count": null,
   "metadata": {},
   "outputs": [],
   "source": [
    "!rm -f mandelbrot.c\n",
    "!rm -f mandelbrot.o\n",
    "!rm -f mandelbrot.so"
   ]
  }
 ],
 "metadata": {
  "kernelspec": {
   "display_name": "Python 3",
   "language": "python",
   "name": "python3"
  },
  "language_info": {
   "codemirror_mode": {
    "name": "ipython",
    "version": 3
   },
   "file_extension": ".py",
   "mimetype": "text/x-python",
   "name": "python",
   "nbconvert_exporter": "python",
   "pygments_lexer": "ipython3",
   "version": "3.8.5"
  }
 },
 "nbformat": 4,
 "nbformat_minor": 4
}

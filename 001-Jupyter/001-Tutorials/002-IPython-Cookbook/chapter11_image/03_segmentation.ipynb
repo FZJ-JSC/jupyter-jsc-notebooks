{
 "cells": [
  {
   "cell_type": "markdown",
   "metadata": {},
   "source": [
    "# 11.3. Segmenting an image"
   ]
  },
  {
   "cell_type": "code",
   "execution_count": null,
   "metadata": {},
   "outputs": [],
   "source": [
    "import numpy as np\n",
    "import matplotlib.pyplot as plt\n",
    "from skimage.data import coins\n",
    "from skimage.filters import threshold_otsu\n",
    "from skimage.segmentation import clear_border\n",
    "from skimage.morphology import label, closing, square\n",
    "from skimage.measure import regionprops\n",
    "from skimage.color import lab2rgb\n",
    "%matplotlib inline"
   ]
  },
  {
   "cell_type": "code",
   "execution_count": null,
   "metadata": {},
   "outputs": [],
   "source": [
    "def show(img, cmap=None):\n",
    "    cmap = cmap or plt.cm.gray\n",
    "    fig, ax = plt.subplots(1, 1, figsize=(8, 6))\n",
    "    ax.imshow(img, cmap=cmap)\n",
    "    ax.set_axis_off()\n",
    "    plt.show()"
   ]
  },
  {
   "cell_type": "code",
   "execution_count": null,
   "metadata": {},
   "outputs": [],
   "source": [
    "img = coins()"
   ]
  },
  {
   "cell_type": "code",
   "execution_count": null,
   "metadata": {
    "podoc": {
     "output_text": "<matplotlib.figure.Figure at 0x7978198>"
    }
   },
   "outputs": [],
   "source": [
    "show(img)"
   ]
  },
  {
   "cell_type": "code",
   "execution_count": null,
   "metadata": {},
   "outputs": [],
   "source": [
    "threshold_otsu(img)"
   ]
  },
  {
   "cell_type": "code",
   "execution_count": null,
   "metadata": {
    "podoc": {
     "output_text": "<matplotlib.figure.Figure at 0x7a03630>"
    }
   },
   "outputs": [],
   "source": [
    "show(img > 107)"
   ]
  },
  {
   "cell_type": "code",
   "execution_count": null,
   "metadata": {
    "podoc": {
     "output_text": "Widget"
    }
   },
   "outputs": [],
   "source": [
    "from ipywidgets import widgets\n",
    "\n",
    "@widgets.interact(t=(50, 240))\n",
    "def threshold(t):\n",
    "    show(img > t)"
   ]
  },
  {
   "cell_type": "code",
   "execution_count": null,
   "metadata": {
    "podoc": {
     "output_text": "<matplotlib.figure.Figure at 0x79a5550>"
    }
   },
   "outputs": [],
   "source": [
    "img_bin = clear_border(closing(img > 120, square(5)))\n",
    "show(img_bin)"
   ]
  },
  {
   "cell_type": "code",
   "execution_count": null,
   "metadata": {
    "podoc": {
     "output_text": "<matplotlib.figure.Figure at 0x7b63358>"
    }
   },
   "outputs": [],
   "source": [
    "labels = label(img_bin)\n",
    "show(labels, cmap=plt.cm.rainbow)"
   ]
  },
  {
   "cell_type": "code",
   "execution_count": null,
   "metadata": {},
   "outputs": [],
   "source": [
    "regions = regionprops(labels)\n",
    "boxes = np.array([label['BoundingBox']\n",
    "                  for label in regions\n",
    "                  if label['Area'] > 100])\n",
    "print(f\"There are {len(boxes)} coins.\")"
   ]
  },
  {
   "cell_type": "code",
   "execution_count": null,
   "metadata": {
    "podoc": {
     "output_text": "<matplotlib.figure.Figure at 0x760a550>"
    }
   },
   "outputs": [],
   "source": [
    "fig, ax = plt.subplots(1, 1, figsize=(8, 6))\n",
    "ax.imshow(img, cmap=plt.cm.gray)\n",
    "ax.set_axis_off()\n",
    "\n",
    "# Get the coordinates of the boxes.\n",
    "xs = boxes[:, [1, 3]].mean(axis=1)\n",
    "ys = boxes[:, [0, 2]].mean(axis=1)\n",
    "\n",
    "# We reorder the boxes by increasing\n",
    "# column first, and row second.\n",
    "for row in range(4):\n",
    "    # We select the coins in each of the four rows.\n",
    "    if row < 3:\n",
    "        ind = ((ys[6 * row] <= ys) &\n",
    "               (ys < ys[6 * row + 6]))\n",
    "    else:\n",
    "        ind = (ys[6 * row] <= ys)\n",
    "    # We reorder by increasing x coordinate.\n",
    "    ind = np.nonzero(ind)[0]\n",
    "    reordered = ind[np.argsort(xs[ind])]\n",
    "    xs_row = xs[reordered]\n",
    "    ys_row = ys[reordered]\n",
    "    # We display the coin number.\n",
    "    for col in range(6):\n",
    "        n = 6 * row + col\n",
    "        ax.text(xs_row[col] - 5, ys_row[col] + 5,\n",
    "                str(n),\n",
    "                fontsize=20)"
   ]
  }
 ],
 "metadata": {
  "kernelspec": {
   "display_name": "Python 3",
   "language": "python",
   "name": "python3"
  },
  "language_info": {
   "codemirror_mode": {
    "name": "ipython",
    "version": 3
   },
   "file_extension": ".py",
   "mimetype": "text/x-python",
   "name": "python",
   "nbconvert_exporter": "python",
   "pygments_lexer": "ipython3",
   "version": "3.6.8"
  }
 },
 "nbformat": 4,
 "nbformat_minor": 4
}

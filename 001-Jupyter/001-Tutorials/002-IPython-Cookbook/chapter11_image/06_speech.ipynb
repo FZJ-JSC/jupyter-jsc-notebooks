{
 "cells": [
  {
   "cell_type": "markdown",
   "metadata": {},
   "source": [
    "# 11.6. Applying digital filters to speech sounds"
   ]
  },
  {
   "cell_type": "code",
   "execution_count": null,
   "metadata": {},
   "outputs": [],
   "source": [
    "from io import BytesIO\n",
    "import tempfile\n",
    "import requests\n",
    "import numpy as np\n",
    "import scipy.signal as sg\n",
    "import pydub\n",
    "import matplotlib.pyplot as plt\n",
    "from IPython.display import Audio, display\n",
    "%matplotlib inline"
   ]
  },
  {
   "cell_type": "code",
   "execution_count": null,
   "metadata": {},
   "outputs": [],
   "source": [
    "def speak(data):\n",
    "    # We convert the mp3 bytes to wav.\n",
    "    audio = pydub.AudioSegment.from_mp3(BytesIO(data))\n",
    "    with tempfile.TemporaryFile() as fn:\n",
    "        wavef = audio.export(fn, format='wav')\n",
    "        wavef.seek(0)\n",
    "        wave = wavef.read()\n",
    "    # We get the raw data by removing the 24 first\n",
    "    # bytes of the header.\n",
    "    x = np.frombuffer(wave, np.int16)[24:] / 2.**15\n",
    "    return x, audio.frame_rate"
   ]
  },
  {
   "cell_type": "code",
   "execution_count": null,
   "metadata": {},
   "outputs": [],
   "source": [
    "def play(x, fr, autoplay=False):\n",
    "    display(Audio(x, rate=fr, autoplay=autoplay))"
   ]
  },
  {
   "cell_type": "code",
   "execution_count": null,
   "metadata": {},
   "outputs": [],
   "source": [
    "url = ('https://github.com/ipython-books/'\n",
    "       'cookbook-2nd-data/blob/master/'\n",
    "       'voice.mp3?raw=true')\n",
    "voice = requests.get(url).content"
   ]
  },
  {
   "cell_type": "code",
   "execution_count": null,
   "metadata": {
    "podoc": {
     "output_text": "<matplotlib.figure.Figure at 0x7b7d3c8>"
    }
   },
   "outputs": [],
   "source": [
    "x, fr = speak(voice)\n",
    "play(x, fr)\n",
    "fig, ax = plt.subplots(1, 1, figsize=(8, 4))\n",
    "t = np.linspace(0., len(x) / fr, len(x))\n",
    "ax.plot(t, x, lw=1)"
   ]
  },
  {
   "cell_type": "code",
   "execution_count": null,
   "metadata": {},
   "outputs": [],
   "source": [
    "b, a = sg.butter(4, 500. / (fr / 2.), 'low')\n",
    "x_fil = sg.filtfilt(b, a, x)"
   ]
  },
  {
   "cell_type": "code",
   "execution_count": null,
   "metadata": {
    "podoc": {
     "output_text": "<matplotlib.figure.Figure at 0x4865470>"
    }
   },
   "outputs": [],
   "source": [
    "play(x_fil, fr)\n",
    "fig, ax = plt.subplots(1, 1, figsize=(8, 4))\n",
    "ax.plot(t, x, lw=1)\n",
    "ax.plot(t, x_fil, lw=1)"
   ]
  },
  {
   "cell_type": "code",
   "execution_count": null,
   "metadata": {},
   "outputs": [],
   "source": [
    "b, a = sg.butter(4, 1000. / (fr / 2.), 'high')\n",
    "x_fil = sg.filtfilt(b, a, x)"
   ]
  },
  {
   "cell_type": "code",
   "execution_count": null,
   "metadata": {
    "podoc": {
     "output_text": "<matplotlib.figure.Figure at 0x7ba7b70>"
    }
   },
   "outputs": [],
   "source": [
    "play(x_fil, fr)\n",
    "fig, ax = plt.subplots(1, 1, figsize=(6, 3))\n",
    "ax.plot(t, x, lw=1)\n",
    "ax.plot(t, x_fil, lw=1)"
   ]
  },
  {
   "cell_type": "code",
   "execution_count": null,
   "metadata": {
    "podoc": {
     "output_text": "Interactive sound widget"
    }
   },
   "outputs": [],
   "source": [
    "from ipywidgets import widgets\n",
    "\n",
    "@widgets.interact(t=(100., 5000., 100.))\n",
    "def highpass(t):\n",
    "    b, a = sg.butter(4, t / (fr / 2.), 'high')\n",
    "    x_fil = sg.filtfilt(b, a, x)\n",
    "    play(x_fil, fr, autoplay=True)"
   ]
  }
 ],
 "metadata": {
  "kernelspec": {
   "display_name": "Python 3",
   "language": "python",
   "name": "python3"
  },
  "language_info": {
   "codemirror_mode": {
    "name": "ipython",
    "version": 3
   },
   "file_extension": ".py",
   "mimetype": "text/x-python",
   "name": "python",
   "nbconvert_exporter": "python",
   "pygments_lexer": "ipython3",
   "version": "3.6.8"
  }
 },
 "nbformat": 4,
 "nbformat_minor": 4
}

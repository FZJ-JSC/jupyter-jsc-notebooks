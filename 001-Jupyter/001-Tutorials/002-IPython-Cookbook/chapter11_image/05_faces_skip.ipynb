{
 "cells": [
  {
   "cell_type": "markdown",
   "metadata": {},
   "source": [
    "# 11.5. Detecting faces in an image with OpenCV"
   ]
  },
  {
   "cell_type": "code",
   "execution_count": null,
   "metadata": {},
   "outputs": [],
   "source": [
    "import io\n",
    "import zipfile\n",
    "import requests\n",
    "import numpy as np\n",
    "import cv2\n",
    "import matplotlib.pyplot as plt\n",
    "%matplotlib inline"
   ]
  },
  {
   "cell_type": "code",
   "execution_count": null,
   "metadata": {},
   "outputs": [],
   "source": [
    "url = ('https://github.com/ipython-books/'\n",
    "       'cookbook-2nd-data/blob/master/'\n",
    "       'family.zip?raw=true')\n",
    "r = io.BytesIO(requests.get(url).content)\n",
    "zipfile.ZipFile(r).extractall('data')"
   ]
  },
  {
   "cell_type": "code",
   "execution_count": null,
   "metadata": {},
   "outputs": [],
   "source": [
    "img = cv2.imread('data/family.jpg')"
   ]
  },
  {
   "cell_type": "code",
   "execution_count": null,
   "metadata": {},
   "outputs": [],
   "source": [
    "gray = cv2.cvtColor(img, cv2.COLOR_BGR2GRAY)"
   ]
  },
  {
   "cell_type": "code",
   "execution_count": null,
   "metadata": {},
   "outputs": [],
   "source": [
    "path = 'data/haarcascade_frontalface_default.xml'\n",
    "face_cascade = cv2.CascadeClassifier(path)"
   ]
  },
  {
   "cell_type": "code",
   "execution_count": null,
   "metadata": {
    "podoc": {
     "output_text": "<matplotlib.figure.Figure at 0x7ef02b0>"
    }
   },
   "outputs": [],
   "source": [
    "for x, y, w, h in face_cascade.detectMultiScale(\n",
    "        gray, 1.3):\n",
    "    cv2.rectangle(\n",
    "        gray, (x, y), (x + w, y + h), (255, 0, 0), 2)\n",
    "fig, ax = plt.subplots(1, 1, figsize=(8, 6))\n",
    "ax.imshow(gray, cmap=plt.cm.gray)\n",
    "ax.set_axis_off()"
   ]
  }
 ],
 "metadata": {
  "kernelspec": {
   "display_name": "Python 3",
   "language": "python",
   "name": "python3"
  },
  "language_info": {
   "codemirror_mode": {
    "name": "ipython",
    "version": 3
   },
   "file_extension": ".py",
   "mimetype": "text/x-python",
   "name": "python",
   "nbconvert_exporter": "python",
   "pygments_lexer": "ipython3",
   "version": "3.6.8"
  }
 },
 "nbformat": 4,
 "nbformat_minor": 4
}

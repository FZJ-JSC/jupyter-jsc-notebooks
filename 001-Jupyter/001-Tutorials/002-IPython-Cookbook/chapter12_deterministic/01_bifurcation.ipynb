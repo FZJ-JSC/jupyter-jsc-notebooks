{
 "cells": [
  {
   "cell_type": "markdown",
   "metadata": {},
   "source": [
    "# 12.1. Plotting the bifurcation diagram of a chaotic dynamical system"
   ]
  },
  {
   "cell_type": "code",
   "execution_count": null,
   "metadata": {},
   "outputs": [],
   "source": [
    "import numpy as np\n",
    "import matplotlib.pyplot as plt\n",
    "%matplotlib inline"
   ]
  },
  {
   "cell_type": "code",
   "execution_count": null,
   "metadata": {},
   "outputs": [],
   "source": [
    "def logistic(r, x):\n",
    "    return r * x * (1 - x)"
   ]
  },
  {
   "cell_type": "code",
   "execution_count": null,
   "metadata": {
    "podoc": {
     "output_text": "<matplotlib.figure.Figure at 0x7f994e75dc88>"
    }
   },
   "outputs": [],
   "source": [
    "x = np.linspace(0, 1)\n",
    "fig, ax = plt.subplots(1, 1)\n",
    "ax.plot(x, logistic(2, x), 'k')"
   ]
  },
  {
   "cell_type": "code",
   "execution_count": null,
   "metadata": {
    "podoc": {
     "output_text": "<matplotlib.figure.Figure at 0x7f994e4f7c50>"
    }
   },
   "outputs": [],
   "source": [
    "def plot_system(r, x0, n, ax=None):\n",
    "    # Plot the function and the\n",
    "    # y=x diagonal line.\n",
    "    t = np.linspace(0, 1)\n",
    "    ax.plot(t, logistic(r, t), 'k', lw=2)\n",
    "    ax.plot([0, 1], [0, 1], 'k', lw=2)\n",
    "\n",
    "    # Recursively apply y=f(x) and plot two lines:\n",
    "    # (x, x) -> (x, y)\n",
    "    # (x, y) -> (y, y)\n",
    "    x = x0\n",
    "    for i in range(n):\n",
    "        y = logistic(r, x)\n",
    "        # Plot the two lines.\n",
    "        ax.plot([x, x], [x, y], 'k', lw=1)\n",
    "        ax.plot([x, y], [y, y], 'k', lw=1)\n",
    "        # Plot the positions with increasing\n",
    "        # opacity.\n",
    "        ax.plot([x], [y], 'ok', ms=10,\n",
    "                alpha=(i + 1) / n)\n",
    "        x = y\n",
    "\n",
    "    ax.set_xlim(0, 1)\n",
    "    ax.set_ylim(0, 1)\n",
    "    ax.set_title(f\"$r={r:.1f}, \\, x_0={x0:.1f}$\")\n",
    "\n",
    "\n",
    "fig, (ax1, ax2) = plt.subplots(1, 2, figsize=(12, 6),\n",
    "                               sharey=True)\n",
    "plot_system(2.5, .1, 10, ax=ax1)\n",
    "plot_system(3.5, .1, 10, ax=ax2)"
   ]
  },
  {
   "cell_type": "code",
   "execution_count": null,
   "metadata": {},
   "outputs": [],
   "source": [
    "n = 10000\n",
    "r = np.linspace(2.5, 4.0, n)"
   ]
  },
  {
   "cell_type": "code",
   "execution_count": null,
   "metadata": {},
   "outputs": [],
   "source": [
    "iterations = 1000\n",
    "last = 100"
   ]
  },
  {
   "cell_type": "code",
   "execution_count": null,
   "metadata": {},
   "outputs": [],
   "source": [
    "x = 1e-5 * np.ones(n)"
   ]
  },
  {
   "cell_type": "code",
   "execution_count": null,
   "metadata": {},
   "outputs": [],
   "source": [
    "lyapunov = np.zeros(n)"
   ]
  },
  {
   "cell_type": "code",
   "execution_count": null,
   "metadata": {
    "podoc": {
     "output_text": "<matplotlib.figure.Figure at 0x6fd1940>"
    }
   },
   "outputs": [],
   "source": [
    "fig, (ax1, ax2) = plt.subplots(2, 1, figsize=(8, 9),\n",
    "                               sharex=True)\n",
    "for i in range(iterations):\n",
    "    x = logistic(r, x)\n",
    "    # We compute the partial sum of the\n",
    "    # Lyapunov exponent.\n",
    "    lyapunov += np.log(abs(r - 2 * r * x))\n",
    "    # We display the bifurcation diagram.\n",
    "    if i >= (iterations - last):\n",
    "        ax1.plot(r, x, ',k', alpha=.25)\n",
    "ax1.set_xlim(2.5, 4)\n",
    "ax1.set_title(\"Bifurcation diagram\")\n",
    "\n",
    "# We display the Lyapunov exponent.\n",
    "# Horizontal line.\n",
    "ax2.axhline(0, color='k', lw=.5, alpha=.5)\n",
    "# Negative Lyapunov exponent.\n",
    "ax2.plot(r[lyapunov < 0],\n",
    "         lyapunov[lyapunov < 0] / iterations,\n",
    "         '.k', alpha=.5, ms=.5)\n",
    "# Positive Lyapunov exponent.\n",
    "ax2.plot(r[lyapunov >= 0],\n",
    "         lyapunov[lyapunov >= 0] / iterations,\n",
    "         '.r', alpha=.5, ms=.5)\n",
    "ax2.set_xlim(2.5, 4)\n",
    "ax2.set_ylim(-2, 1)\n",
    "ax2.set_title(\"Lyapunov exponent\")\n",
    "plt.tight_layout()"
   ]
  }
 ],
 "metadata": {
  "kernelspec": {
   "display_name": "Python 3",
   "language": "python",
   "name": "python3"
  },
  "language_info": {
   "codemirror_mode": {
    "name": "ipython",
    "version": 3
   },
   "file_extension": ".py",
   "mimetype": "text/x-python",
   "name": "python",
   "nbconvert_exporter": "python",
   "pygments_lexer": "ipython3",
   "version": "3.6.8"
  }
 },
 "nbformat": 4,
 "nbformat_minor": 4
}

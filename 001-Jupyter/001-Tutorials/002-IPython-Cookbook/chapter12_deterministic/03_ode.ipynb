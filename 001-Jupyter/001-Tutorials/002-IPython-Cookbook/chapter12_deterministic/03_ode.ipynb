{
 "cells": [
  {
   "cell_type": "markdown",
   "metadata": {},
   "source": [
    "# 12.3. Simulating an ordinary differential equation with SciPy"
   ]
  },
  {
   "cell_type": "code",
   "execution_count": null,
   "metadata": {},
   "outputs": [],
   "source": [
    "import numpy as np\n",
    "import scipy.integrate as spi\n",
    "import matplotlib.pyplot as plt\n",
    "%matplotlib inline"
   ]
  },
  {
   "cell_type": "code",
   "execution_count": null,
   "metadata": {},
   "outputs": [],
   "source": [
    "m = 1.  # particle's mass\n",
    "k = 1.  # drag coefficient\n",
    "g = 9.81  # gravity acceleration"
   ]
  },
  {
   "cell_type": "code",
   "execution_count": null,
   "metadata": {},
   "outputs": [],
   "source": [
    "# The initial position is (0, 0).\n",
    "v0 = np.zeros(4)\n",
    "# The initial speed vector is oriented\n",
    "# to the top right.\n",
    "v0[2] = 4.\n",
    "v0[3] = 10."
   ]
  },
  {
   "cell_type": "code",
   "execution_count": null,
   "metadata": {},
   "outputs": [],
   "source": [
    "def f(v, t0, k):\n",
    "    # v has four components: v=[u, u'].\n",
    "    u, udot = v[:2], v[2:]\n",
    "    # We compute the second derivative u'' of u.\n",
    "    udotdot = -k / m * udot\n",
    "    udotdot[1] -= g\n",
    "    # We return v'=[u', u''].\n",
    "    return np.r_[udot, udotdot]"
   ]
  },
  {
   "cell_type": "code",
   "execution_count": null,
   "metadata": {
    "podoc": {
     "output_text": "<matplotlib.figure.Figure at 0x75d2fd0>"
    }
   },
   "outputs": [],
   "source": [
    "fig, ax = plt.subplots(1, 1, figsize=(8, 4))\n",
    "\n",
    "# We want to evaluate the system on 30 linearly\n",
    "# spaced times between t=0 and t=3.\n",
    "t = np.linspace(0., 3., 30)\n",
    "\n",
    "# We simulate the system for different values of k.\n",
    "for k in np.linspace(0., 1., 5):\n",
    "    # We simulate the system and evaluate $v$ on the\n",
    "    # given times.\n",
    "    v = spi.odeint(f, v0, t, args=(k,))\n",
    "    # We plot the particle's trajectory.\n",
    "    ax.plot(v[:, 0], v[:, 1], 'o-', mew=1, ms=8,\n",
    "            mec='w', label=f'k={k:.1f}')\n",
    "ax.legend()\n",
    "ax.set_xlim(0, 12)\n",
    "ax.set_ylim(0, 6)"
   ]
  }
 ],
 "metadata": {
  "kernelspec": {
   "display_name": "Python 3",
   "language": "python",
   "name": "python3"
  },
  "language_info": {
   "codemirror_mode": {
    "name": "ipython",
    "version": 3
   },
   "file_extension": ".py",
   "mimetype": "text/x-python",
   "name": "python",
   "nbconvert_exporter": "python",
   "pygments_lexer": "ipython3",
   "version": "3.6.8"
  }
 },
 "nbformat": 4,
 "nbformat_minor": 4
}

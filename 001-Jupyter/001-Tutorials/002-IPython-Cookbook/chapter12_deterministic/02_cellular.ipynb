{
 "cells": [
  {
   "cell_type": "markdown",
   "metadata": {},
   "source": [
    "# 12.2. Simulating an elementary cellular automaton"
   ]
  },
  {
   "cell_type": "code",
   "execution_count": null,
   "metadata": {},
   "outputs": [],
   "source": [
    "import numpy as np\n",
    "import matplotlib.pyplot as plt\n",
    "%matplotlib inline"
   ]
  },
  {
   "cell_type": "code",
   "execution_count": null,
   "metadata": {},
   "outputs": [],
   "source": [
    "u = np.array([[4], [2], [1]])"
   ]
  },
  {
   "cell_type": "code",
   "execution_count": null,
   "metadata": {},
   "outputs": [],
   "source": [
    "def step(x, rule_b):\n",
    "    \"\"\"Compute a single stet of an elementary cellular\n",
    "    automaton.\"\"\"\n",
    "    # The columns contains the L, C, R values\n",
    "    # of all cells.\n",
    "    y = np.vstack((np.roll(x, 1), x,\n",
    "                   np.roll(x, -1))).astype(np.int8)\n",
    "    # We get the LCR pattern numbers between 0 and 7.\n",
    "    z = np.sum(y * u, axis=0).astype(np.int8)\n",
    "    # We get the patterns given by the rule.\n",
    "    return rule_b[7 - z]"
   ]
  },
  {
   "cell_type": "code",
   "execution_count": null,
   "metadata": {},
   "outputs": [],
   "source": [
    "def generate(rule, size=100, steps=100):\n",
    "    \"\"\"Simulate an elementary cellular automaton given\n",
    "    its rule (number between 0 and 255).\"\"\"\n",
    "    # Compute the binary representation of the rule.\n",
    "    rule_b = np.array(\n",
    "        [int(_) for _ in np.binary_repr(rule, 8)],\n",
    "        dtype=np.int8)\n",
    "    x = np.zeros((steps, size), dtype=np.int8)\n",
    "    # Random initial state.\n",
    "    x[0, :] = np.random.rand(size) < .5\n",
    "    # Apply the step function iteratively.\n",
    "    for i in range(steps - 1):\n",
    "        x[i + 1, :] = step(x[i, :], rule_b)\n",
    "    return x"
   ]
  },
  {
   "cell_type": "code",
   "execution_count": null,
   "metadata": {
    "podoc": {
     "output_text": "<matplotlib.figure.Figure at 0x72ade48>"
    }
   },
   "outputs": [],
   "source": [
    "fig, axes = plt.subplots(3, 3, figsize=(8, 8))\n",
    "rules = [3, 18, 30,\n",
    "         90, 106, 110,\n",
    "         158, 154, 184]\n",
    "for ax, rule in zip(axes.flat, rules):\n",
    "    x = generate(rule)\n",
    "    ax.imshow(x, interpolation='none',\n",
    "              cmap=plt.cm.binary)\n",
    "    ax.set_axis_off()\n",
    "    ax.set_title(str(rule))"
   ]
  }
 ],
 "metadata": {
  "kernelspec": {
   "display_name": "Python 3",
   "language": "python",
   "name": "python3"
  },
  "language_info": {
   "codemirror_mode": {
    "name": "ipython",
    "version": 3
   },
   "file_extension": ".py",
   "mimetype": "text/x-python",
   "name": "python",
   "nbconvert_exporter": "python",
   "pygments_lexer": "ipython3",
   "version": "3.6.8"
  }
 },
 "nbformat": 4,
 "nbformat_minor": 4
}

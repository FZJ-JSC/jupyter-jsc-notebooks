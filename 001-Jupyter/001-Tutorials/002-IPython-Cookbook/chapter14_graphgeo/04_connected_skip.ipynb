{
 "cells": [
  {
   "cell_type": "markdown",
   "metadata": {},
   "source": [
    "# 14.4. Computing connected components in an image"
   ]
  },
  {
   "cell_type": "code",
   "execution_count": null,
   "metadata": {},
   "outputs": [],
   "source": [
    "import itertools\n",
    "import numpy as np\n",
    "import networkx as nx\n",
    "import matplotlib.colors as col\n",
    "import matplotlib.pyplot as plt\n",
    "%matplotlib inline"
   ]
  },
  {
   "cell_type": "code",
   "execution_count": null,
   "metadata": {},
   "outputs": [],
   "source": [
    "n = 10"
   ]
  },
  {
   "cell_type": "code",
   "execution_count": null,
   "metadata": {},
   "outputs": [],
   "source": [
    "img = np.random.randint(size=(n, n),\n",
    "                        low=0, high=3)"
   ]
  },
  {
   "cell_type": "code",
   "execution_count": null,
   "metadata": {},
   "outputs": [],
   "source": [
    "g = nx.grid_2d_graph(n, n)"
   ]
  },
  {
   "cell_type": "code",
   "execution_count": null,
   "metadata": {},
   "outputs": [],
   "source": [
    "def show_image(img, ax=None, **kwargs):\n",
    "    ax.imshow(img, origin='lower',\n",
    "              interpolation='none',\n",
    "              **kwargs)\n",
    "    ax.set_axis_off()"
   ]
  },
  {
   "cell_type": "code",
   "execution_count": null,
   "metadata": {},
   "outputs": [],
   "source": [
    "def show_graph(g, ax=None, **kwargs):\n",
    "    pos = {(i, j): (j, i) for (i, j) in g.nodes()}\n",
    "    node_color = [img[i, j] for (i, j) in g.nodes()]\n",
    "    nx.draw_networkx(g,\n",
    "                     ax=ax,\n",
    "                     pos=pos,\n",
    "                     node_color='w',\n",
    "                     linewidths=3,\n",
    "                     width=2,\n",
    "                     edge_color='w',\n",
    "                     with_labels=False,\n",
    "                     node_size=50,\n",
    "                     **kwargs)"
   ]
  },
  {
   "cell_type": "code",
   "execution_count": null,
   "metadata": {},
   "outputs": [],
   "source": [
    "cmap = plt.cm.Blues"
   ]
  },
  {
   "cell_type": "code",
   "execution_count": null,
   "metadata": {
    "podoc": {
     "output_text": "<matplotlib.figure.Figure at 0x56bc518>"
    }
   },
   "outputs": [],
   "source": [
    "fig, ax = plt.subplots(1, 1, figsize=(8, 8))\n",
    "show_image(img, ax=ax, cmap=cmap, vmin=-1)\n",
    "show_graph(g, ax=ax, cmap=cmap, vmin=-1)"
   ]
  },
  {
   "cell_type": "code",
   "execution_count": null,
   "metadata": {},
   "outputs": [],
   "source": [
    "g2 = g.subgraph(zip(*np.nonzero(img == 2)))"
   ]
  },
  {
   "cell_type": "code",
   "execution_count": null,
   "metadata": {
    "podoc": {
     "output_text": "<matplotlib.figure.Figure at 0x6e21eb8>"
    }
   },
   "outputs": [],
   "source": [
    "fig, ax = plt.subplots(1, 1, figsize=(8, 8))\n",
    "show_image(img, ax=ax, cmap=cmap, vmin=-1)\n",
    "show_graph(g2, ax=ax, cmap=cmap, vmin=-1)"
   ]
  },
  {
   "cell_type": "code",
   "execution_count": null,
   "metadata": {},
   "outputs": [],
   "source": [
    "components = [np.array(list(comp))\n",
    "              for comp in nx.connected_components(g2)\n",
    "              if len(comp) >= 3]\n",
    "len(components)"
   ]
  },
  {
   "cell_type": "code",
   "execution_count": null,
   "metadata": {},
   "outputs": [],
   "source": [
    "# We copy the image, and assign a new label\n",
    "# to each found component.\n",
    "img_bis = img.copy()\n",
    "for i, comp in enumerate(components):\n",
    "    img_bis[comp[:, 0], comp[:, 1]] = i + 3"
   ]
  },
  {
   "cell_type": "code",
   "execution_count": null,
   "metadata": {},
   "outputs": [],
   "source": [
    "# We create a new discrete color map extending\n",
    "# the previous map with new colors.\n",
    "colors = [cmap(.5), cmap(.75), cmap(1.),\n",
    "          '#f4f235', '#f4a535', '#f44b35',\n",
    "          '#821d10']\n",
    "cmap2 = col.ListedColormap(colors, 'indexed')"
   ]
  },
  {
   "cell_type": "code",
   "execution_count": null,
   "metadata": {
    "podoc": {
     "output_text": "<matplotlib.figure.Figure at 0x6b89f28>"
    }
   },
   "outputs": [],
   "source": [
    "fig, ax = plt.subplots(1, 1, figsize=(8, 8))\n",
    "show_image(img_bis, ax=ax, cmap=cmap2)"
   ]
  }
 ],
 "metadata": {
  "kernelspec": {
   "display_name": "Python 3",
   "language": "python",
   "name": "python3"
  },
  "language_info": {
   "codemirror_mode": {
    "name": "ipython",
    "version": 3
   },
   "file_extension": ".py",
   "mimetype": "text/x-python",
   "name": "python",
   "nbconvert_exporter": "python",
   "pygments_lexer": "ipython3",
   "version": "3.6.8"
  }
 },
 "nbformat": 4,
 "nbformat_minor": 4
}

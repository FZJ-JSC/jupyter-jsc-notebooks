{
 "cells": [
  {
   "cell_type": "markdown",
   "metadata": {},
   "source": [
    "# 8.8. Detecting hidden structures in a dataset with clustering"
   ]
  },
  {
   "cell_type": "code",
   "execution_count": null,
   "metadata": {},
   "outputs": [],
   "source": [
    "from itertools import permutations\n",
    "import numpy as np\n",
    "import sklearn\n",
    "import sklearn.decomposition as dec\n",
    "import sklearn.cluster as clu\n",
    "import sklearn.datasets as ds\n",
    "import sklearn.model_selection as ms\n",
    "import matplotlib.pyplot as plt\n",
    "%matplotlib inline"
   ]
  },
  {
   "cell_type": "code",
   "execution_count": null,
   "metadata": {},
   "outputs": [],
   "source": [
    "X, y = ds.make_blobs(n_samples=200,\n",
    "                     n_features=2,\n",
    "                     centers=3,\n",
    "                     cluster_std=1.5,\n",
    "                     )"
   ]
  },
  {
   "cell_type": "code",
   "execution_count": null,
   "metadata": {},
   "outputs": [],
   "source": [
    "def relabel(cl):\n",
    "    \"\"\"Relabel a clustering with three clusters\n",
    "    to match the original classes.\"\"\"\n",
    "    if np.max(cl) != 2:\n",
    "        return cl\n",
    "    perms = np.array(list(permutations((0, 1, 2))))\n",
    "    i = np.argmin([np.sum(np.abs(perm[cl] - y))\n",
    "                   for perm in perms])\n",
    "    p = perms[i]\n",
    "    return p[cl]"
   ]
  },
  {
   "cell_type": "code",
   "execution_count": null,
   "metadata": {},
   "outputs": [],
   "source": [
    "def display_clustering(labels, title):\n",
    "    \"\"\"Plot the data points with the cluster\n",
    "    colors.\"\"\"\n",
    "\n",
    "    # We relabel the classes when there are 3 clusters\n",
    "    labels = relabel(labels)\n",
    "    fig, axes = plt.subplots(1, 2, figsize=(8, 3),\n",
    "                             sharey=True)\n",
    "    # Display the points with the true labels on the\n",
    "    # left, and with the clustering labels on the\n",
    "    # right.\n",
    "    for ax, c, title in zip(\n",
    "            axes,\n",
    "            [y, labels],\n",
    "            [\"True labels\", title]):\n",
    "        ax.scatter(X[:, 0], X[:, 1], c=c, s=30,\n",
    "                   linewidths=0, cmap=plt.cm.rainbow)\n",
    "        ax.set_title(title)"
   ]
  },
  {
   "cell_type": "code",
   "execution_count": null,
   "metadata": {
    "podoc": {
     "output_text": "<matplotlib.figure.Figure at 0x8110198>"
    }
   },
   "outputs": [],
   "source": [
    "km = clu.KMeans()\n",
    "km.fit(X)\n",
    "display_clustering(km.labels_, \"KMeans\")"
   ]
  },
  {
   "cell_type": "code",
   "execution_count": null,
   "metadata": {
    "podoc": {
     "output_text": "<matplotlib.figure.Figure at 0x81100f0>"
    }
   },
   "outputs": [],
   "source": [
    "km = clu.KMeans(n_clusters=3)\n",
    "km.fit(X)\n",
    "display_clustering(km.labels_, \"KMeans(3)\")"
   ]
  },
  {
   "cell_type": "code",
   "execution_count": null,
   "metadata": {
    "podoc": {
     "output_text": "<matplotlib.figure.Figure at 0x80f4da0>"
    }
   },
   "outputs": [],
   "source": [
    "fig, axes = plt.subplots(2, 3,\n",
    "                         figsize=(10, 7),\n",
    "                         sharex=True,\n",
    "                         sharey=True)\n",
    "\n",
    "axes[0, 0].scatter(X[:, 0], X[:, 1],\n",
    "                   c=y, s=30,\n",
    "                   linewidths=0,\n",
    "                   cmap=plt.cm.rainbow)\n",
    "axes[0, 0].set_title(\"True labels\")\n",
    "\n",
    "for ax, est in zip(axes.flat[1:], [\n",
    "    clu.SpectralClustering(3),\n",
    "    clu.AgglomerativeClustering(3),\n",
    "    clu.MeanShift(),\n",
    "    clu.AffinityPropagation(),\n",
    "    clu.DBSCAN(),\n",
    "]):\n",
    "    est.fit(X)\n",
    "    c = relabel(est.labels_)\n",
    "    ax.scatter(X[:, 0], X[:, 1], c=c, s=30,\n",
    "               linewidths=0, cmap=plt.cm.rainbow)\n",
    "    ax.set_title(est.__class__.__name__)\n",
    "\n",
    "# Fix the spacing between subplots.\n",
    "fig.tight_layout()"
   ]
  }
 ],
 "metadata": {
  "kernelspec": {
   "display_name": "Python 3",
   "language": "python",
   "name": "python3"
  },
  "language_info": {
   "codemirror_mode": {
    "name": "ipython",
    "version": 3
   },
   "file_extension": ".py",
   "mimetype": "text/x-python",
   "name": "python",
   "nbconvert_exporter": "python",
   "pygments_lexer": "ipython3",
   "version": "3.6.8"
  }
 },
 "nbformat": 4,
 "nbformat_minor": 4
}

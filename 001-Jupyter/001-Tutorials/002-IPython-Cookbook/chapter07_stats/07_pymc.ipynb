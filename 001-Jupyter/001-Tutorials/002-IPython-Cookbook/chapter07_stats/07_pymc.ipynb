{
 "cells": [
  {
   "cell_type": "markdown",
   "metadata": {},
   "source": [
    "# 7.7. Fitting a Bayesian model by sampling from a posterior distribution with a Markov Chain Monte Carlo method"
   ]
  },
  {
   "cell_type": "code",
   "execution_count": null,
   "metadata": {},
   "outputs": [],
   "source": [
    "import numpy as np\n",
    "import pandas as pd\n",
    "import pymc3 as pm\n",
    "import matplotlib.pyplot as plt\n",
    "%matplotlib inline"
   ]
  },
  {
   "cell_type": "code",
   "execution_count": null,
   "metadata": {},
   "outputs": [],
   "source": [
    "# www.ncdc.noaa.gov/ibtracs/index.php?name=wmo-data\n",
    "df = pd.read_csv('https://github.com/ipython-books/'\n",
    "                 'cookbook-2nd-data/blob/master/'\n",
    "                 'Allstorms.ibtracs_wmo.v03r05.csv?'\n",
    "                 'raw=true',\n",
    "                 delim_whitespace=False)"
   ]
  },
  {
   "cell_type": "code",
   "execution_count": null,
   "metadata": {},
   "outputs": [],
   "source": [
    "cnt = df[df['Basin'] == ' NA'].groupby(\n",
    "    'Season')['Serial_Num'].nunique()\n",
    "# The years from 1851 to 2012.\n",
    "years = cnt.index\n",
    "y0, y1 = years[0], years[-1]\n",
    "arr = cnt.values"
   ]
  },
  {
   "cell_type": "code",
   "execution_count": null,
   "metadata": {
    "podoc": {
     "output_text": "<matplotlib.figure.Figure at 0xcef94e0>"
    }
   },
   "outputs": [],
   "source": [
    "# Plot the annual number of storms.\n",
    "fig, ax = plt.subplots(1, 1, figsize=(8, 4))\n",
    "ax.plot(years, arr, '-o')\n",
    "ax.set_xlim(y0, y1)\n",
    "ax.set_xlabel(\"Year\")\n",
    "ax.set_ylabel(\"Number of storms\")"
   ]
  },
  {
   "cell_type": "code",
   "execution_count": null,
   "metadata": {},
   "outputs": [],
   "source": [
    "# We define our model.\n",
    "with pm.Model() as model:\n",
    "    # We define our three variables.\n",
    "    switchpoint = pm.DiscreteUniform(\n",
    "        'switchpoint', lower=y0, upper=y1)\n",
    "    early_rate = pm.Exponential('early_rate', 1)\n",
    "    late_rate = pm.Exponential('late_rate', 1)\n",
    "    # The rate of the Poisson process is a piecewise\n",
    "    # constant function.\n",
    "    rate = pm.math.switch(switchpoint >= years,\n",
    "                          early_rate, late_rate)\n",
    "    # The annual number of storms per year follows\n",
    "    # a Poisson distribution.\n",
    "    storms = pm.Poisson('storms', rate, observed=arr)"
   ]
  },
  {
   "cell_type": "code",
   "execution_count": null,
   "metadata": {},
   "outputs": [],
   "source": [
    "with model:\n",
    "    trace = pm.sample(10000)"
   ]
  },
  {
   "cell_type": "code",
   "execution_count": null,
   "metadata": {
    "podoc": {
     "output_text": "<matplotlib.figure.Figure at 0x7f6adb76ec88>"
    }
   },
   "outputs": [],
   "source": [
    "pm.traceplot(trace)"
   ]
  },
  {
   "cell_type": "code",
   "execution_count": null,
   "metadata": {},
   "outputs": [],
   "source": [
    "s = trace['switchpoint'].mean()\n",
    "em = trace['early_rate'].mean()\n",
    "lm = trace['late_rate'].mean()\n",
    "s, em, lm"
   ]
  },
  {
   "cell_type": "code",
   "execution_count": null,
   "metadata": {
    "podoc": {
     "output_text": "<matplotlib.figure.Figure at 0xccfe358>"
    }
   },
   "outputs": [],
   "source": [
    "fig, ax = plt.subplots(1, 1, figsize=(8, 4))\n",
    "ax.plot(years, arr, '-o')\n",
    "ax.axvline(s, color='k', ls='--')\n",
    "ax.plot([y0, s], [em, em], '-', lw=3)\n",
    "ax.plot([s, y1], [lm, lm], '-', lw=3)\n",
    "ax.set_xlim(y0, y1)\n",
    "ax.set_xlabel(\"Year\")\n",
    "ax.set_ylabel(\"Number of storms\")"
   ]
  }
 ],
 "metadata": {
  "kernelspec": {
   "display_name": "Python 3",
   "language": "python",
   "name": "python3"
  },
  "language_info": {
   "codemirror_mode": {
    "name": "ipython",
    "version": 3
   },
   "file_extension": ".py",
   "mimetype": "text/x-python",
   "name": "python",
   "nbconvert_exporter": "python",
   "pygments_lexer": "ipython3",
   "version": "3.6.8"
  }
 },
 "nbformat": 4,
 "nbformat_minor": 4
}

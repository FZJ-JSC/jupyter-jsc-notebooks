{
 "cells": [
  {
   "cell_type": "markdown",
   "metadata": {},
   "source": [
    "# 7.4. Estimating the correlation between two variables with a contingency table and a chi-squared test"
   ]
  },
  {
   "cell_type": "code",
   "execution_count": null,
   "metadata": {},
   "outputs": [],
   "source": [
    "import numpy as np\n",
    "import pandas as pd\n",
    "import scipy.stats as st\n",
    "import matplotlib.pyplot as plt\n",
    "%matplotlib inline"
   ]
  },
  {
   "cell_type": "code",
   "execution_count": null,
   "metadata": {},
   "outputs": [],
   "source": [
    "player = 'Roger Federer'\n",
    "df = pd.read_csv('https://github.com/ipython-books/'\n",
    "                 'cookbook-2nd-data/blob/master/'\n",
    "                 'federer.csv?raw=true',\n",
    "                 parse_dates=['start date'],\n",
    "                 dayfirst=True)"
   ]
  },
  {
   "cell_type": "code",
   "execution_count": null,
   "metadata": {
    "podoc": {
     "output_text": "Some tournaments"
    }
   },
   "outputs": [],
   "source": [
    "print(f\"Number of columns: {len(df.columns)}\")\n",
    "df[df.columns[:4]].tail()"
   ]
  },
  {
   "cell_type": "code",
   "execution_count": null,
   "metadata": {},
   "outputs": [],
   "source": [
    "npoints = df['player1 total points total']\n",
    "points = df['player1 total points won'] / npoints\n",
    "aces = df['player1 aces'] / npoints"
   ]
  },
  {
   "cell_type": "code",
   "execution_count": null,
   "metadata": {
    "podoc": {
     "output_text": "Aces and won points"
    }
   },
   "outputs": [],
   "source": [
    "fig, ax = plt.subplots(1, 1)\n",
    "ax.plot(points, aces, '.')\n",
    "ax.set_xlabel('% of points won')\n",
    "ax.set_ylabel('% of aces')\n",
    "ax.set_xlim(0., 1.)\n",
    "ax.set_ylim(0.)"
   ]
  },
  {
   "cell_type": "code",
   "execution_count": null,
   "metadata": {
    "podoc": {
     "output_text": "Aces and won points"
    }
   },
   "outputs": [],
   "source": [
    "df_bis = pd.DataFrame({'points': points,\n",
    "                       'aces': aces}).dropna()\n",
    "df_bis.tail()"
   ]
  },
  {
   "cell_type": "code",
   "execution_count": null,
   "metadata": {
    "podoc": {
     "output_text": "Pearson correlation coefficient"
    }
   },
   "outputs": [],
   "source": [
    "df_bis.corr()"
   ]
  },
  {
   "cell_type": "code",
   "execution_count": null,
   "metadata": {},
   "outputs": [],
   "source": [
    "df_bis['result'] = (df_bis['points'] >\n",
    "                    df_bis['points'].median())\n",
    "df_bis['manyaces'] = (df_bis['aces'] >\n",
    "                      df_bis['aces'].median())"
   ]
  },
  {
   "cell_type": "code",
   "execution_count": null,
   "metadata": {
    "podoc": {
     "output_text": "Contingency table"
    }
   },
   "outputs": [],
   "source": [
    "pd.crosstab(df_bis['result'], df_bis['manyaces'])"
   ]
  },
  {
   "cell_type": "code",
   "execution_count": null,
   "metadata": {},
   "outputs": [],
   "source": [
    "st.chi2_contingency(_)"
   ]
  }
 ],
 "metadata": {
  "kernelspec": {
   "display_name": "Python 3",
   "language": "python",
   "name": "python3"
  },
  "language_info": {
   "codemirror_mode": {
    "name": "ipython",
    "version": 3
   },
   "file_extension": ".py",
   "mimetype": "text/x-python",
   "name": "python",
   "nbconvert_exporter": "python",
   "pygments_lexer": "ipython3",
   "version": "3.6.8"
  }
 },
 "nbformat": 4,
 "nbformat_minor": 4
}

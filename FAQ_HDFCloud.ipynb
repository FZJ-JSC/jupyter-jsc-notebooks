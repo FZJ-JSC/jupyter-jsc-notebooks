{
 "cells": [
  {
   "cell_type": "markdown",
   "metadata": {
    "toc-hr-collapsed": false
   },
   "source": [
    "# Welcome to the Jupyter@JSC Virtual Machine JupyterLab"
   ]
  },
  {
   "cell_type": "markdown",
   "metadata": {},
   "source": [
    "## Where is this JupyterLab running?"
   ]
  },
  {
   "cell_type": "markdown",
   "metadata": {},
   "source": [
    "&nbsp;&nbsp;&nbsp;&nbsp;&nbsp;&nbsp;This JupyterLab instance is running on a [virtual machine](https://www.techopedia.com/definition/4805/virtual-machine-vm) on the [HDF-Cloud](https://www.fz-juelich.de/ias/jsc/EN/Expertise/SciCloudServices/HDFCloud/_node.html). It is started as a [Docker Container](https://www.docker.com/resources/what-container). "
   ]
  },
  {
   "cell_type": "markdown",
   "metadata": {},
   "source": [
    "## Is there any limitation?"
   ]
  },
  {
   "cell_type": "markdown",
   "metadata": {},
   "source": [
    "&nbsp;&nbsp;&nbsp;&nbsp;&nbsp;&nbsp;You can use a maximum of 4 GB of RAM.  \n",
    "&nbsp;&nbsp;&nbsp;&nbsp;&nbsp;&nbsp;If you need more memory please start your JupyterLab on a HPC system."
   ]
  },
  {
   "cell_type": "markdown",
   "metadata": {},
   "source": [
    "## How do I stop this JupyterLab?"
   ]
  },
  {
   "cell_type": "markdown",
   "metadata": {},
   "source": [
    "&nbsp;&nbsp;&nbsp;&nbsp;&nbsp;&nbsp;You can stop this JupyterLab in the Control Panel of Jupyter@JSC.  \n",
    "&nbsp;&nbsp;&nbsp;&nbsp;&nbsp;&nbsp;You can reach the Control Panel [here](https://zam10116.zam.kfa-juelich.de/hub/start) or in the menu File -> Hub Control Panel."
   ]
  },
  {
   "cell_type": "markdown",
   "metadata": {},
   "source": [
    "## Why is the memory usage so high?"
   ]
  },
  {
   "cell_type": "markdown",
   "metadata": {},
   "source": [
    "&nbsp;&nbsp;&nbsp;&nbsp;&nbsp;&nbsp;If you have the feeling that your used Memory in the top right corner is too high, ensure that your kernels were shutdown.  \n",
    "&nbsp;&nbsp;&nbsp;&nbsp;&nbsp;&nbsp;Whenever a Tab of your Notebook is closed, the kernel is still running in the background.  \n",
    "&nbsp;&nbsp;&nbsp;&nbsp;&nbsp;&nbsp;You can see all running kernels by clicking on this symbol ![Kernels](https://jupyter-jsc.fz-juelich.de/hub/static/images/kernels.png \"kernels\") on the left sidebar."
   ]
  },
  {
   "cell_type": "markdown",
   "metadata": {},
   "source": [
    "## How can I upload files to JupyterLab?"
   ]
  },
  {
   "cell_type": "markdown",
   "metadata": {},
   "source": [
    "&nbsp;&nbsp;&nbsp;&nbsp;&nbsp;&nbsp;You can use git or you upload files with this button in the top left corner:  \n",
    "  \n",
    "&nbsp;&nbsp;&nbsp;&nbsp;&nbsp;&nbsp;![Upload files](https://zam10183.zam.kfa-juelich.de/hub/static/images/upload.png \"Upload Files\")"
   ]
  },
  {
   "cell_type": "markdown",
   "metadata": {},
   "source": [
    "## How can I download a file from JupyterLab?"
   ]
  },
  {
   "cell_type": "markdown",
   "metadata": {},
   "source": [
    "&nbsp;&nbsp;&nbsp;&nbsp;&nbsp;&nbsp;Just right click on a file and click \"Download\"."
   ]
  },
  {
   "cell_type": "markdown",
   "metadata": {},
   "source": [
    "## What kind of Docker Images do we support?"
   ]
  },
  {
   "cell_type": "markdown",
   "metadata": {},
   "source": [
    "&nbsp;&nbsp;&nbsp;&nbsp;&nbsp;&nbsp;You can select between [these eight](https://jupyter-docker-stacks.readthedocs.io/en/latest/using/selecting.html#jupyter-base-notebook) Images.  \n",
    "&nbsp;&nbsp;&nbsp;&nbsp;&nbsp;&nbsp;We installed additionally a few JupyterLab [extensions](https://nbviewer.jupyter.org/github/kreuzert/Jupyter-JSC/blob/master/Extensions.ipynb).  \n",
    "&nbsp;&nbsp;&nbsp;&nbsp;&nbsp;&nbsp;We installed additionally a few JupyterLab extensions. You can find a List of all installed extensions [here.](https://nbviewer.jupyter.org/github/kreuzert/Jupyter-JSC/blob/master/Extensions.ipynb)  \n",
    "&nbsp;&nbsp;&nbsp;&nbsp;&nbsp;&nbsp;If you want to add your own Docker Image to Jupyter@JSC please contact the <a href=\"mailto:ds-support@fz-juelich.de?subject=Jupyter@JSC Support&amp;body=Please describe your problem here. (english or german)\">Jupyter@JSC support</a>."
   ]
  },
  {
   "cell_type": "markdown",
   "metadata": {},
   "source": [
    "## How much disk space do I have?"
   ]
  },
  {
   "cell_type": "markdown",
   "metadata": {},
   "source": [
    "&nbsp;&nbsp;&nbsp;&nbsp;&nbsp;&nbsp;You can store 10 GB of data in /home/jovyan/work.  \n",
    "&nbsp;&nbsp;&nbsp;&nbsp;&nbsp;&nbsp;<font color='red'>All files in the ~/work directory will be stored persistently.</font>  \n",
    "&nbsp;&nbsp;&nbsp;&nbsp;&nbsp;&nbsp;<font color='red'>Any other files or directories will be deleted if you stop this JupyterLab.</font>  \n",
    "&nbsp;&nbsp;&nbsp;&nbsp;&nbsp;&nbsp;Under no circumstances are we liable for any lost data.  "
   ]
  },
  {
   "cell_type": "markdown",
   "metadata": {
    "toc-hr-collapsed": true
   },
   "source": [
    "## How much memory do I have?"
   ]
  },
  {
   "cell_type": "markdown",
   "metadata": {},
   "source": [
    "&nbsp;&nbsp;&nbsp;&nbsp;&nbsp;&nbsp;These JupyterLabs are limited to 4GB Ram."
   ]
  },
  {
   "cell_type": "markdown",
   "metadata": {
    "toc-hr-collapsed": true
   },
   "source": [
    "## Collaborative work\n",
    "&nbsp;&nbsp;&nbsp;&nbsp;&nbsp;&nbsp;We offer four different solutions to share your work with your colleagues.  "
   ]
  },
  {
   "cell_type": "markdown",
   "metadata": {},
   "source": [
    "### GIT\n",
    "&nbsp;&nbsp;&nbsp;&nbsp;&nbsp;&nbsp;You can use the git command in a terminal to work on any git repositories.  "
   ]
  },
  {
   "cell_type": "markdown",
   "metadata": {},
   "source": [
    "### Projects\n",
    "&nbsp;&nbsp;&nbsp;&nbsp;&nbsp;&nbsp;Projects are the best way, if you just want to share a few files (or notebooks) with your colleague, who is also using Jupyter@JSC.  \n",
    "&nbsp;&nbsp;&nbsp;&nbsp;&nbsp;&nbsp;Projects are directories, that are generated on the [virtual machine](https://www.techopedia.com/definition/4805/virtual-machine-vm) where your JupyterLab is running.  \n",
    "&nbsp;&nbsp;&nbsp;&nbsp;&nbsp;&nbsp;If you add another user to your project this directory will be mounted into their [Docker Container](https://www.docker.com/resources/what-container) .   \n",
    "&nbsp;&nbsp;&nbsp;&nbsp;&nbsp;&nbsp;You can manage your projects with the following command:\n",
    "  \n",
    "```\n",
    "  $ bash /home/jovyan/manage_projects.sh  \n",
    "```\n",
    "  \n",
    "&nbsp;&nbsp;&nbsp;&nbsp;&nbsp;&nbsp;You can store up to 10 GB of data on all your projects combined.  \n",
    "&nbsp;&nbsp;&nbsp;&nbsp;&nbsp;&nbsp;If you want to add users to your project you need their email address. It must be the same email address, that is connected to their [JSC webservice credentials](https://judoor.fz-juelich.de/login) .  "
   ]
  },
  {
   "cell_type": "markdown",
   "metadata": {},
   "source": [
    "### B2DROP"
   ]
  },
  {
   "cell_type": "markdown",
   "metadata": {},
   "source": [
    "&nbsp;&nbsp;&nbsp;&nbsp;&nbsp;&nbsp;You can easily mount your [B2DROP](https://b2drop.eudat.eu) files into this JupyterLab.  \n",
    "&nbsp;&nbsp;&nbsp;&nbsp;&nbsp;&nbsp;Just run the command \"$ mount B2DROP\" in a terminal and insert your [application credentials](https://eudat.eu/services/userdoc/b2drop#UserDocumentation-B2DROPUsage-WebDavclient)\\.  \n",
    "&nbsp;&nbsp;&nbsp;&nbsp;&nbsp;&nbsp;If you want to store your [application credentials](https://eudat.eu/services/userdoc/b2drop#UserDocumentation-B2DROPUsage-WebDavclient) add the following line to /home/jovyan/work/.davfs2/secrets:  \n",
    "&nbsp;&nbsp;&nbsp;&nbsp;&nbsp;&nbsp;&nbsp;&nbsp;&nbsp;&nbsp;&nbsp;&nbsp;https://b2drop.eudat.eu/remote.php/webdav \\<USERNAME> \\<PASSWORD>"
   ]
  },
  {
   "cell_type": "markdown",
   "metadata": {},
   "source": [
    "### HPCMOUNT (experimental)"
   ]
  },
  {
   "cell_type": "markdown",
   "metadata": {},
   "source": [
    "<span style=\"color:red\">Your groups are not mounted. So you have only access to files that are yours.</span>"
   ]
  },
  {
   "cell_type": "markdown",
   "metadata": {},
   "source": [
    "&nbsp;&nbsp;&nbsp;&nbsp;&nbsp;&nbsp;You can mount your files on the HPC system with [sshfs](https://en.wikipedia.org/wiki/SSHFS) .  \n",
    "&nbsp;&nbsp;&nbsp;&nbsp;&nbsp;&nbsp;For this we created the script at /home/jovyan/mount_hpc.sh .    \n",
    "&nbsp;&nbsp;&nbsp;&nbsp;&nbsp;&nbsp;To mount your HPC files just execute  \n",
    "\n",
    "```\n",
    "$ bash /home/jovyan/mount_hpc.sh  \n",
    "```\n",
    "\n",
    "###  &nbsp;&nbsp;&nbsp; What will the script do?\n",
    "&nbsp;&nbsp;&nbsp;&nbsp;&nbsp;&nbsp;&nbsp;&nbsp;&nbsp;&nbsp;&nbsp;&nbsp;If you run it for the first time, it will create a private/public key pair for you. For your safety, a passphrase is required for this key.   \n",
    "&nbsp;&nbsp;&nbsp;&nbsp;&nbsp;&nbsp;&nbsp;&nbsp;&nbsp;&nbsp;&nbsp;&nbsp;Afterward, it will upload the public key to your [JUDAC](https://www.fz-juelich.de/ias/jsc/EN/Expertise/Datamanagement/JUDAC/JUDAC_node.html) ~/.ssh/authorized_keys file. This will be done with [UNICORE](https://www.unicore.eu) and the [credentials](https://judoor.fz-juelich.de/login) you used to log in to Jupyter@JSC.  \n",
    "&nbsp;&nbsp;&nbsp;&nbsp;&nbsp;&nbsp;&nbsp;&nbsp;&nbsp;&nbsp;&nbsp;&nbsp;If your key is uploaded (or you have already used this script before) it will run the sshfs command to mount your HPC files.  \n",
    "&nbsp;&nbsp;&nbsp;&nbsp;&nbsp;&nbsp;&nbsp;&nbsp;&nbsp;&nbsp;&nbsp;&nbsp;You have to enter your passphrase, that you chose in the first run, to use your generated private key.\n",
    "### &nbsp;&nbsp;&nbsp; How can I unmount it?\n",
    "&nbsp;&nbsp;&nbsp;&nbsp;&nbsp;&nbsp;&nbsp;&nbsp;&nbsp;&nbsp;&nbsp;&nbsp;Just run the command  \n",
    "&nbsp;&nbsp;&nbsp;&nbsp;&nbsp;&nbsp;&nbsp;&nbsp;&nbsp;&nbsp;&nbsp;&nbsp;&nbsp;&nbsp;&nbsp;&nbsp;&nbsp;&nbsp;&nbsp;&nbsp;&nbsp;&nbsp;&nbsp;&nbsp;```$ fusermount -u /home/jovyan/HPCMOUNT```  \n",
    "\n",
    "&nbsp;&nbsp;&nbsp;&nbsp;&nbsp;&nbsp;&nbsp;&nbsp;&nbsp;&nbsp;&nbsp;&nbsp;The folder will be automatically unmounted if you stop this JupyterLab.  \n",
    "### &nbsp;&nbsp;&nbsp; Where is my private key stored?\n",
    "&nbsp;&nbsp;&nbsp;&nbsp;&nbsp;&nbsp;&nbsp;&nbsp;&nbsp;&nbsp;&nbsp;&nbsp;The private key will be stored, like your other files, in the /home/jovyan/work directory, on a [virtual machine](https://www.techopedia.com/definition/4805/virtual-machine-vm) on the [HDF-Cloud](https://www.fz-juelich.de/ias/jsc/EN/Expertise/SciCloudServices/HDFCloud/_node.html) .  \n",
    "&nbsp;&nbsp;&nbsp;&nbsp;&nbsp;&nbsp;&nbsp;&nbsp;&nbsp;&nbsp;&nbsp;&nbsp;The access to this virtual machine is limited to the administrators of Jupyter@JSC.  \n",
    "&nbsp;&nbsp;&nbsp;&nbsp;&nbsp;&nbsp;&nbsp;&nbsp;&nbsp;&nbsp;&nbsp;&nbsp;Since your private key is encrypted with a passphrase, even an administrator is not able to use your private key to connect to any HPC system.  \n",
    "### &nbsp;&nbsp;&nbsp; I want to mount another account\n",
    "&nbsp;&nbsp;&nbsp;&nbsp;&nbsp;&nbsp;&nbsp;&nbsp;&nbsp;&nbsp;&nbsp;&nbsp;If you have multiple accounts (connected to your [JSC webservice credentials](https://judoor.fz-juelich.de/login)) you can tell the script which one it should use.  \n",
    "&nbsp;&nbsp;&nbsp;&nbsp;&nbsp;&nbsp;&nbsp;&nbsp;&nbsp;&nbsp;&nbsp;&nbsp;&nbsp;&nbsp;&nbsp;&nbsp;&nbsp;&nbsp;&nbsp;&nbsp;&nbsp;&nbsp;&nbsp;&nbsp;```$ bash /home/jovyan/mount_hpc.sh <SYSTEM> <ACCOUNT>```  \n",
    "\n",
    "&nbsp;&nbsp;&nbsp;&nbsp;&nbsp;&nbsp;&nbsp;&nbsp;&nbsp;&nbsp;&nbsp;&nbsp;\\<SYSTEM> is the HPC system that is used to upload your public key. Please use one of these: JURECA, JUWELS, JURON. Your account must have an active project on the chosen system.  \n",
    "&nbsp;&nbsp;&nbsp;&nbsp;&nbsp;&nbsp;&nbsp;&nbsp;&nbsp;&nbsp;&nbsp;&nbsp;\\<ACCOUNT> is your HPC account on this system ( and on [JUDAC](https://www.fz-juelich.de/ias/jsc/EN/Expertise/Datamanagement/JUDAC/JUDAC_node.html)) .  \n",
    "### &nbsp;&nbsp;&nbsp; I want to delete the public key from my HPC account\n",
    "&nbsp;&nbsp;&nbsp;&nbsp;&nbsp;&nbsp;&nbsp;&nbsp;&nbsp;&nbsp;&nbsp;&nbsp;Jupyter@JSC does not delete anything from your authorized_keys file. So if you want to remove the public key you have to log in to JUDAC and remove it manually.  "
   ]
  }
 ],
 "metadata": {
  "kernelspec": {
   "display_name": "Python 3",
   "language": "python",
   "name": "python3"
  },
  "language_info": {
   "codemirror_mode": {
    "name": "ipython",
    "version": 3
   },
   "file_extension": ".py",
   "mimetype": "text/x-python",
   "name": "python",
   "nbconvert_exporter": "python",
   "pygments_lexer": "ipython3",
   "version": "3.6.8"
  }
 },
 "nbformat": 4,
 "nbformat_minor": 4
}

{
 "cells": [
  {
   "cell_type": "markdown",
   "metadata": {},
   "source": [
    "# The JupyterLab Interface\n",
    "---"
   ]
  },
  {
   "cell_type": "markdown",
   "metadata": {},
   "source": [
    "JupyterLab provides flexible building blocks for interactive, exploratory computing. While JupyterLab has many features found in traditional integrated development environments (IDEs), it remains focused on interactive, exploratory computing.\n",
    "\n",
    "The JupyterLab interface consists of a main work area containing tabs of documents and activities, a collapsible left sidebar, and a menu bar. The left sidebar contains a file browser, a GitHub file browser linked to the FJZ_JSC repository, the list of running kernels and terminals, the command palette, the notebook cell tools inspector, and the tabs list.\n",
    "\n",
    "<img src=\"images/lab_interface.png\">"
   ]
  },
  {
   "cell_type": "markdown",
   "metadata": {},
   "source": [
    "## The Menu Bar\n",
    "---"
   ]
  },
  {
   "cell_type": "markdown",
   "metadata": {},
   "source": [
    "\n",
    "\n",
    "The menu bar at the top of JupyterLab has top-level menus that expose actions available in JupyterLab with their keyboard shortcuts. The default menus are:\n",
    "\n",
    "<img src=\"images/menubar.png\">\n",
    "* **File**: actions related to files and directories\n",
    "* **Edit**: actions related to editing documents and other activities\n",
    "* **View**: actions that alter the appearance of JupyterLab\n",
    "* **Run**: actions for running code in different activities such as notebooks and code consoles\n",
    "* **Kernel**: actions for managing kernels, which are separate processes for running code\n",
    "* **Tabs**: a list of the open documents and activities in the dock panel\n",
    "* **Settings**: common settings and an advanced settings editor\n",
    "* **Help**: a list of JupyterLab and kernel help links"
   ]
  },
  {
   "cell_type": "markdown",
   "metadata": {},
   "source": [
    "## The left Sidebar\n",
    "---"
   ]
  },
  {
   "cell_type": "markdown",
   "metadata": {},
   "source": [
    "The left sidebar contains a number of commonly-used tabs, such as a file browser, a list of running kernels and terminals, the command palette, and a list of tabs in the main work area. It can be collapsed or expanded by selecting “Show Left Area” in the View menu or by clicking on the active sidebar tab."
   ]
  },
  {
   "cell_type": "markdown",
   "metadata": {},
   "source": [
    "### Files Tab\n",
    "\n",
    "The files tab provides an interactive view of the portion of the filesystem which is accessible by the user. This is typically rooted by the directory in which the notebook server was started. The file system can be navigated by double-clicking on folders in the listing or clicking on the folders at the top of the directory listing.\n",
    "\n",
    "A new file can be created by clicking on the **`+`** button at the top of the list, and selecting the desired activity and kernel. A new file is created with a default name. Rename a file by right-clicking on its name in the file browser and selecting “Rename” from the context menu.\n",
    "\n",
    "<img src=\"images/file_rename.png\">\n",
    "\n",
    "Files can be uploaded to the current directory by dragging the file onto the file list or by clicking the Upload button at the top of the list.\n",
    "\n",
    "<img src=\"images/file_upload.png\">\n",
    "\n",
    "Any file in JupyterLab can be downloaded by right-clicking its name in the file browser and selecting “Download” from the context menu.\n",
    "\n",
    "<img src=\"images/file_download.png\">\n",
    "\n",
    "To open any file, double-click on its name in the file browser. You can also drag a file into the main work area to create a new tab.\n",
    "\n",
    "Many files types have multiple viewers/editors. For example, you can open a Markdown file in a text editor or as rendered HTML. To open a file in a non-default viewer/editor, right-click on its name in the file browser and use the “Open With…” submenu to select the viewer/editor. A single file can be open simultaneously in multiple viewer/editors and they will remain in sync."
   ]
  },
  {
   "cell_type": "markdown",
   "metadata": {},
   "source": [
    "### GitHub Tab\n",
    "\n",
    "A file browser that is linked to the FZJ-JSC Github repository. You can find example notebooks and tutorials under \"jupyter4jsc\". \n",
    "\n",
    "<img src=\"images/github.png\">"
   ]
  },
  {
   "cell_type": "markdown",
   "metadata": {},
   "source": [
    "### Running Tab\n",
    "\n",
    "The running tab displays the currently running notebooks which are known to the server. This view provides a convenient way to track notebooks that have been started during a long running notebook server session.\n",
    "\n",
    "Each running notebook will have an orange Shutdown button which can be used to shutdown its associated kernel. Closing the notebook's page is not sufficient to shutdown a kernel.\n",
    "\n",
    "Running terminals are also listed.\n",
    "\n",
    "<img src=\"images/running.png\">"
   ]
  },
  {
   "cell_type": "markdown",
   "metadata": {},
   "source": [
    "### Commands Tab\n",
    "\n",
    "The command palette in the left sidebar provides a keyboard-driven way to search for and run JupyterLab commands. The command palette can also be accessed using the keyboard shortcut **`Command/Ctrl Shift C`**. \n",
    "\n",
    "Use the search bar on top to filter for a specific command and hit enter to execute it.\n",
    "\n",
    "<img src=\"images/commands.png\">"
   ]
  },
  {
   "cell_type": "markdown",
   "metadata": {},
   "source": [
    "### Cell Tools Tab\n",
    "\n",
    "The cell tool panel allows for editing cell metadata. It auto updates based on which notebook/cell is selected.\n",
    "\n",
    "<img src=\"images/cell_tools.png\">"
   ]
  },
  {
   "cell_type": "markdown",
   "metadata": {
    "slideshow": {
     "slide_type": "slide"
    }
   },
   "source": [
    "### Tabs Tab\n",
    "\n",
    "The Tabs panel in the left sidebar lists the open documents or activities in the main work area. The same information is also available in the Tabs menu in the menu bar.\n",
    "\n",
    "<img src=\"images/tabs.png\">"
   ]
  },
  {
   "cell_type": "markdown",
   "metadata": {},
   "source": [
    "## The Main Work Area\n",
    "---"
   ]
  },
  {
   "cell_type": "markdown",
   "metadata": {},
   "source": [
    "### Dragging and Resizing Tabs\n",
    "\n",
    "The main work area in JupyterLab enables you to arrange documents (notebooks, text files, etc.) and other activities (terminals, code consoles, etc.) into panels of tabs that can be resized or subdivided. \n",
    "\n",
    "Subdivide the main work area into panels by dragging a tab to the left, right, top, or bottom of the main work area. Drag a tab to the center of a panel to move the tab to the panel.\n",
    "\n",
    "Panels can be resized by dragging the panel border at the panel intersections."
   ]
  },
  {
   "cell_type": "code",
   "execution_count": 1,
   "metadata": {
    "slideshow": {
     "slide_type": "fragment"
    }
   },
   "outputs": [
    {
     "data": {
      "text/html": [
       "<iframe width=\"696\" height=\"392\" src=\"https://www.youtube.com/embed/Ka8qS7CO1XQ\" frameborder=\"0\" allow=\"autoplay; encrypted-media\" allowfullscreen></iframe>"
      ],
      "text/plain": [
       "<IPython.core.display.HTML object>"
      ]
     },
     "execution_count": 1,
     "metadata": {},
     "output_type": "execute_result"
    }
   ],
   "source": [
    "# Example video: Dragging and resizing tabs in the main work area\n",
    "\n",
    "from IPython.display import HTML\n",
    "HTML('<iframe width=\"696\" height=\"392\" src=\"https://www.youtube.com/embed/Ka8qS7CO1XQ\" frameborder=\"0\" allow=\"autoplay; encrypted-media\" allowfullscreen></iframe>')"
   ]
  },
  {
   "cell_type": "markdown",
   "metadata": {},
   "source": [
    "### Single-Document View\n",
    "\n",
    "It is often useful to focus on a single document or activity without closing other tabs in the main work area. Single-document mode enable this, while making it simple to return to your multi-activity layout in the main work area. Toggle single-document mode using the View menu or pressing **`Command/Ctrl Shift Enter`**.\n",
    "\n",
    "When you leave single-document mode, the original layout of the main area is restored."
   ]
  },
  {
   "cell_type": "code",
   "execution_count": 2,
   "metadata": {
    "slideshow": {
     "slide_type": "fragment"
    }
   },
   "outputs": [
    {
     "data": {
      "text/html": [
       "<iframe width=\"696\" height=\"392\" src=\"https://www.youtube.com/embed/DO7NOenMQC0\" frameborder=\"0\" allow=\"autoplay; encrypted-media\" allowfullscreen></iframe>"
      ],
      "text/plain": [
       "<IPython.core.display.HTML object>"
      ]
     },
     "execution_count": 2,
     "metadata": {},
     "output_type": "execute_result"
    }
   ],
   "source": [
    "# Example video: Single-document mode\n",
    "HTML('<iframe width=\"696\" height=\"392\" src=\"https://www.youtube.com/embed/DO7NOenMQC0\" frameborder=\"0\" allow=\"autoplay; encrypted-media\" allowfullscreen></iframe>')"
   ]
  },
  {
   "cell_type": "markdown",
   "metadata": {},
   "source": [
    "## Context Menus\n",
    "---"
   ]
  },
  {
   "cell_type": "markdown",
   "metadata": {},
   "source": [
    "Many parts of JupyterLab, such as notebooks, text files, code consoles, and tabs, have context menus that can be accessed by right-clicking on the element.\n",
    "\n",
    "The browser’s native context menu can be accessed by holding down Shift and right-clicking."
   ]
  },
  {
   "cell_type": "markdown",
   "metadata": {},
   "source": [
    "## Keyboard Shortcuts\n",
    "---"
   ]
  },
  {
   "cell_type": "markdown",
   "metadata": {},
   "source": [
    "You can navigate the user interface through keyboard shortcuts. You can find and customize the current list of keyboard shortcuts by selecting the Advanced Settings Editor item in the Settings menu, then selecting Keyboard Shortcuts in the Settings tab.\n",
    "\n",
    "You can also customize the text editor to use vim, emacs, or Sublime Text keyboard maps by using the Text Editor Key Map submenu in the Settings menu.\n",
    "\n",
    "<img src=\"images/advanced_settings.png\">"
   ]
  }
 ],
 "metadata": {
  "kernelspec": {
   "display_name": "Python 3",
   "language": "python",
   "name": "python3"
  },
  "language_info": {
   "codemirror_mode": {
    "name": "ipython",
    "version": 3
   },
   "file_extension": ".py",
   "mimetype": "text/x-python",
   "name": "python",
   "nbconvert_exporter": "python",
   "pygments_lexer": "ipython3",
   "version": "3.6.4"
  }
 },
 "nbformat": 4,
 "nbformat_minor": 2
}

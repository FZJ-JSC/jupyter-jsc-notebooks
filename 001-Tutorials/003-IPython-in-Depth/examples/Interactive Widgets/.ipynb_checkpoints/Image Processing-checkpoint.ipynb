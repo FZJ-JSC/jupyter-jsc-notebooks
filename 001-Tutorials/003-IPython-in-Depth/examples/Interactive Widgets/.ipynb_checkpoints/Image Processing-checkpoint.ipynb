{
 "cells": [
  {
   "cell_type": "markdown",
   "metadata": {},
   "source": [
    "# Image Manipulation with skimage"
   ]
  },
  {
   "cell_type": "markdown",
   "metadata": {},
   "source": [
    "This example builds a simple UI for performing basic image manipulation with [scikit-image](http://scikit-image.org/)."
   ]
  },
  {
   "cell_type": "code",
   "execution_count": 16,
   "metadata": {
    "collapsed": false,
    "jupyter": {
     "outputs_hidden": false
    }
   },
   "outputs": [],
   "source": [
    "from ipywidgets import interact, interactive, fixed\n",
    "from IPython.display import display"
   ]
  },
  {
   "cell_type": "code",
   "execution_count": 17,
   "metadata": {
    "collapsed": false,
    "jupyter": {
     "outputs_hidden": false
    }
   },
   "outputs": [
    {
     "ename": "ImportError",
     "evalue": "cannot import name 'ndi'",
     "output_type": "error",
     "traceback": [
      "\u001b[0;31m---------------------------------------------------------------------------\u001b[0m",
      "\u001b[0;31mImportError\u001b[0m                               Traceback (most recent call last)",
      "\u001b[0;32m<ipython-input-17-72731e1a37c1>\u001b[0m in \u001b[0;36m<module>\u001b[0;34m\u001b[0m\n\u001b[1;32m      1\u001b[0m \u001b[0;32mimport\u001b[0m \u001b[0mskimage\u001b[0m\u001b[0;34m\u001b[0m\u001b[0;34m\u001b[0m\u001b[0m\n\u001b[0;32m----> 2\u001b[0;31m \u001b[0;32mfrom\u001b[0m \u001b[0mskimage\u001b[0m \u001b[0;32mimport\u001b[0m \u001b[0mdata\u001b[0m\u001b[0;34m,\u001b[0m \u001b[0mfilters\u001b[0m\u001b[0;34m,\u001b[0m \u001b[0mio\u001b[0m\u001b[0;34m,\u001b[0m \u001b[0mndi\u001b[0m\u001b[0;34m\u001b[0m\u001b[0;34m\u001b[0m\u001b[0m\n\u001b[0m",
      "\u001b[0;31mImportError\u001b[0m: cannot import name 'ndi'"
     ]
    }
   ],
   "source": [
    "import skimage\n",
    "from skimage import data, filters, io"
   ]
  },
  {
   "cell_type": "code",
   "execution_count": 9,
   "metadata": {
    "collapsed": false,
    "jupyter": {
     "outputs_hidden": false
    }
   },
   "outputs": [],
   "source": [
    "i = data.coffee()"
   ]
  },
  {
   "cell_type": "code",
   "execution_count": 11,
   "metadata": {
    "collapsed": false,
    "jupyter": {
     "outputs_hidden": false
    }
   },
   "outputs": [],
   "source": [
    "#io.Image(i)"
   ]
  },
  {
   "cell_type": "code",
   "execution_count": 28,
   "metadata": {
    "collapsed": false,
    "jupyter": {
     "outputs_hidden": false
    }
   },
   "outputs": [],
   "source": [
    "def edit_image(image, sigma=0.1, r=1.0, g=1.0, b=1.0):\n",
    "    new_image = filters.gaussian(image, sigma=sigma, multichannel=True)\n",
    "    new_image[:,:,0] = r*new_image[:,:,0]\n",
    "    new_image[:,:,1] = g*new_image[:,:,1]\n",
    "    new_image[:,:,2] = b*new_image[:,:,2]\n",
    "    #new_image = io.Image(new_image)\n",
    "    display(new_image)\n",
    "    return new_image"
   ]
  },
  {
   "cell_type": "code",
   "execution_count": 29,
   "metadata": {
    "collapsed": false,
    "jupyter": {
     "outputs_hidden": false
    }
   },
   "outputs": [
    {
     "data": {
      "application/vnd.jupyter.widget-view+json": {
       "model_id": "73069d769fdb4d39aec81a4fe4d20337",
       "version_major": 2,
       "version_minor": 0
      },
      "text/plain": [
       "interactive(children=(FloatSlider(value=0.1, description='sigma', max=10.0), FloatSlider(value=1.0, descriptio…"
      ]
     },
     "metadata": {},
     "output_type": "display_data"
    }
   ],
   "source": [
    "lims = (0.0,1.0,0.01)\n",
    "w = interactive(edit_image, image=fixed(i), sigma=(0.0,10.0,0.1), r=lims, g=lims, b=lims)\n",
    "display(w)"
   ]
  },
  {
   "cell_type": "code",
   "execution_count": 22,
   "metadata": {
    "collapsed": false,
    "jupyter": {
     "outputs_hidden": false
    }
   },
   "outputs": [
    {
     "data": {
      "text/plain": [
       "array([[[0.08235294, 0.05098039, 0.03137255],\n",
       "        [0.08235294, 0.05098039, 0.03529412],\n",
       "        [0.07843137, 0.04313725, 0.03137255],\n",
       "        ...,\n",
       "        [0.89411765, 0.71372549, 0.54117647],\n",
       "        [0.90588235, 0.7254902 , 0.55686275],\n",
       "        [0.89411765, 0.72156863, 0.54901961]],\n",
       "\n",
       "       [[0.08235294, 0.05098039, 0.02745098],\n",
       "        [0.08235294, 0.05098039, 0.03529412],\n",
       "        [0.07843137, 0.05490196, 0.02745098],\n",
       "        ...,\n",
       "        [0.89411765, 0.71372549, 0.53333333],\n",
       "        [0.90588235, 0.7254902 , 0.54509804],\n",
       "        [0.89803922, 0.71764706, 0.5372549 ]],\n",
       "\n",
       "       [[0.08235294, 0.05490196, 0.02745098],\n",
       "        [0.09019608, 0.05098039, 0.03921569],\n",
       "        [0.07843137, 0.05490196, 0.03529412],\n",
       "        ...,\n",
       "        [0.89411765, 0.71372549, 0.53333333],\n",
       "        [0.89411765, 0.72156863, 0.5372549 ],\n",
       "        [0.89803922, 0.7254902 , 0.54117647]],\n",
       "\n",
       "       ...,\n",
       "\n",
       "       [[0.74117647, 0.48627451, 0.30196078],\n",
       "        [0.83921569, 0.60784314, 0.42745098],\n",
       "        [0.77254902, 0.55294118, 0.39215686],\n",
       "        ...,\n",
       "        [0.64705882, 0.3372549 , 0.14509804],\n",
       "        [0.63137255, 0.32156863, 0.16078431],\n",
       "        [0.56078431, 0.2627451 , 0.11372549]],\n",
       "\n",
       "       [[0.81176471, 0.58039216, 0.4       ],\n",
       "        [0.78823529, 0.55686275, 0.38823529],\n",
       "        [0.76862745, 0.54901961, 0.38039216],\n",
       "        ...,\n",
       "        [0.60392157, 0.29019608, 0.14509804],\n",
       "        [0.57647059, 0.25882353, 0.12941176],\n",
       "        [0.56862745, 0.25490196, 0.12156863]],\n",
       "\n",
       "       [[0.77254902, 0.55294118, 0.39215686],\n",
       "        [0.76470588, 0.5372549 , 0.38823529],\n",
       "        [0.75686275, 0.54117647, 0.38431373],\n",
       "        ...,\n",
       "        [0.61960784, 0.28627451, 0.14901961],\n",
       "        [0.56470588, 0.25098039, 0.11764706],\n",
       "        [0.56078431, 0.23529412, 0.11372549]]])"
      ]
     },
     "execution_count": 22,
     "metadata": {},
     "output_type": "execute_result"
    }
   ],
   "source": [
    "w.result"
   ]
  },
  {
   "cell_type": "markdown",
   "metadata": {},
   "source": [
    "## Python 3 only: Function annotations"
   ]
  },
  {
   "cell_type": "markdown",
   "metadata": {},
   "source": [
    "In Python 3, you can use the new function annotation syntax to describe widgets for interact:"
   ]
  },
  {
   "cell_type": "code",
   "execution_count": 31,
   "metadata": {
    "collapsed": false,
    "jupyter": {
     "outputs_hidden": false
    }
   },
   "outputs": [
    {
     "data": {
      "application/vnd.jupyter.widget-view+json": {
       "model_id": "946094c134d54b96b7f20ad09053307d",
       "version_major": 2,
       "version_minor": 0
      },
      "text/plain": [
       "interactive(children=(FloatSlider(value=0.1, description='sigma', max=10.0), FloatSlider(value=1.0, descriptio…"
      ]
     },
     "metadata": {},
     "output_type": "display_data"
    }
   ],
   "source": [
    "lims = (0.0,1.0,0.01)\n",
    "\n",
    "@interact\n",
    "def edit_image(image: fixed(i), sigma:(0.0,10.0,0.1)=0.1, r:lims=1.0, g:lims=1.0, b:lims=1.0):\n",
    "    new_image = filters.gaussian(image, sigma=sigma, multichannel=True)\n",
    "    new_image[:,:,0] = r*new_image[:,:,0]\n",
    "    new_image[:,:,1] = g*new_image[:,:,1]\n",
    "    new_image[:,:,2] = b*new_image[:,:,2]\n",
    "    #new_image = io.Image(new_image)\n",
    "    display(new_image)\n",
    "    return new_image"
   ]
  },
  {
   "cell_type": "code",
   "execution_count": null,
   "metadata": {},
   "outputs": [],
   "source": []
  }
 ],
 "metadata": {
  "kernelspec": {
   "display_name": "Python 3",
   "language": "python",
   "name": "python3"
  },
  "language_info": {
   "codemirror_mode": {
    "name": "ipython",
    "version": 3
   },
   "file_extension": ".py",
   "mimetype": "text/x-python",
   "name": "python",
   "nbconvert_exporter": "python",
   "pygments_lexer": "ipython3",
   "version": "3.6.8"
  }
 },
 "nbformat": 4,
 "nbformat_minor": 4
}

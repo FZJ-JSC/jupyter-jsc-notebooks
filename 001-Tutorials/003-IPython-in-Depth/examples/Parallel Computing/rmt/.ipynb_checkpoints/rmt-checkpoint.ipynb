{
 "cells": [
  {
   "cell_type": "markdown",
   "metadata": {},
   "source": [
    "# Eigenvalue distribution of Gaussian orthogonal random matrices"
   ]
  },
  {
   "cell_type": "markdown",
   "metadata": {},
   "source": [
    "The eigenvalues of random matrices obey certain statistical laws. Here we construct random matrices \n",
    "from the Gaussian Orthogonal Ensemble (GOE), find their eigenvalues and then investigate the nearest\n",
    "neighbor eigenvalue distribution $\\rho(s)$."
   ]
  },
  {
   "cell_type": "code",
   "execution_count": 1,
   "metadata": {
    "collapsed": false,
    "jupyter": {
     "outputs_hidden": false
    }
   },
   "outputs": [],
   "source": [
    "from rmtkernel import ensemble_diffs, normalize_diffs, GOE\n",
    "import numpy as np\n",
    "from ipyparallel import Client"
   ]
  },
  {
   "cell_type": "markdown",
   "metadata": {},
   "source": [
    "## Wigner's nearest neighbor eigenvalue distribution"
   ]
  },
  {
   "cell_type": "markdown",
   "metadata": {},
   "source": [
    "The Wigner distribution gives the theoretical result for the nearest neighbor eigenvalue distribution\n",
    "for the GOE:\n",
    "\n",
    "$$\\rho(s) = \\frac{\\pi s}{2} \\exp(-\\pi s^2/4)$$"
   ]
  },
  {
   "cell_type": "code",
   "execution_count": 2,
   "metadata": {},
   "outputs": [],
   "source": [
    "def wigner_dist(s):\n",
    "    \"\"\"Returns (s, rho(s)) for the Wigner GOE distribution.\"\"\"\n",
    "    return (np.pi*s/2.0) * np.exp(-np.pi*s**2/4.)"
   ]
  },
  {
   "cell_type": "code",
   "execution_count": 3,
   "metadata": {},
   "outputs": [],
   "source": [
    "def generate_wigner_data():\n",
    "    s = np.linspace(0.0,4.0,400)\n",
    "    rhos = wigner_dist(s)\n",
    "    return s, rhos"
   ]
  },
  {
   "cell_type": "code",
   "execution_count": 4,
   "metadata": {
    "collapsed": false,
    "jupyter": {
     "outputs_hidden": false
    }
   },
   "outputs": [],
   "source": [
    "s, rhos = generate_wigner_data()"
   ]
  },
  {
   "cell_type": "code",
   "execution_count": 5,
   "metadata": {
    "collapsed": false,
    "jupyter": {
     "outputs_hidden": false
    }
   },
   "outputs": [
    {
     "data": {
      "text/plain": [
       "Text(0, 0.5, 'Probability $\\\\rho(s)$')"
      ]
     },
     "execution_count": 5,
     "metadata": {},
     "output_type": "execute_result"
    }
   ],
   "source": [
    "from matplotlib.pyplot import plot, xlabel, ylabel, hist\n",
    "plot(s, rhos)\n",
    "xlabel('Normalized level spacing s')\n",
    "ylabel('Probability $\\\\rho(s)$')"
   ]
  },
  {
   "cell_type": "markdown",
   "metadata": {},
   "source": [
    "## Serial calculation of nearest neighbor eigenvalue distribution"
   ]
  },
  {
   "cell_type": "markdown",
   "metadata": {},
   "source": [
    "In this section we numerically construct and diagonalize a large number of GOE random matrices\n",
    "and compute the nerest neighbor eigenvalue distribution. This comptation is done on a single core."
   ]
  },
  {
   "cell_type": "code",
   "execution_count": 6,
   "metadata": {},
   "outputs": [],
   "source": [
    "def serial_diffs(num, N):\n",
    "    \"\"\"Compute the nearest neighbor distribution for num NxX matrices.\"\"\"\n",
    "    diffs = ensemble_diffs(num, N)\n",
    "    normalized_diffs = normalize_diffs(diffs)\n",
    "    return normalized_diffs"
   ]
  },
  {
   "cell_type": "code",
   "execution_count": 7,
   "metadata": {},
   "outputs": [],
   "source": [
    "serial_nmats = 1000\n",
    "serial_matsize = 50"
   ]
  },
  {
   "cell_type": "code",
   "execution_count": 8,
   "metadata": {
    "collapsed": false,
    "jupyter": {
     "outputs_hidden": false
    }
   },
   "outputs": [
    {
     "name": "stdout",
     "output_type": "stream",
     "text": [
      "853 ms ± 0 ns per loop (mean ± std. dev. of 1 run, 1 loop each)\n"
     ]
    }
   ],
   "source": [
    "%timeit -r1 -n1 serial_diffs(serial_nmats, serial_matsize)"
   ]
  },
  {
   "cell_type": "code",
   "execution_count": 9,
   "metadata": {
    "collapsed": false,
    "jupyter": {
     "outputs_hidden": false
    }
   },
   "outputs": [],
   "source": [
    "serial_diffs = serial_diffs(serial_nmats, serial_matsize)"
   ]
  },
  {
   "cell_type": "markdown",
   "metadata": {},
   "source": [
    "The numerical computation agrees with the predictions of Wigner, but it would be nice to get more\n",
    "statistics. For that we will do a parallel computation."
   ]
  },
  {
   "cell_type": "code",
   "execution_count": 10,
   "metadata": {
    "collapsed": false,
    "jupyter": {
     "outputs_hidden": false
    }
   },
   "outputs": [
    {
     "data": {
      "text/plain": [
       "Text(0, 0.5, 'Probability $P(s)$')"
      ]
     },
     "execution_count": 10,
     "metadata": {},
     "output_type": "execute_result"
    },
    {
     "data": {
      "image/png": "[encoded data removed]",
      "text/plain": [
       "<Figure size 432x288 with 1 Axes>"
      ]
     },
     "metadata": {
      "needs_background": "light"
     },
     "output_type": "display_data"
    }
   ],
   "source": [
    "hist_data = hist(serial_diffs, bins=30, density=True)\n",
    "plot(s, rhos)\n",
    "xlabel('Normalized level spacing s')\n",
    "ylabel('Probability $P(s)$')"
   ]
  },
  {
   "cell_type": "markdown",
   "metadata": {},
   "source": [
    "## Parallel calculation of nearest neighbor eigenvalue distribution"
   ]
  },
  {
   "cell_type": "markdown",
   "metadata": {},
   "source": [
    "Here we perform a parallel computation, where each process constructs and diagonalizes a subset of\n",
    "the overall set of random matrices."
   ]
  },
  {
   "cell_type": "code",
   "execution_count": 11,
   "metadata": {},
   "outputs": [],
   "source": [
    "def parallel_diffs(rc, num, N):\n",
    "    nengines = len(rc.targets)\n",
    "    num_per_engine = num/nengines\n",
    "    print(\"Running with\", num_per_engine, \"per engine.\")\n",
    "    ar = rc.apply_async(ensemble_diffs, num_per_engine, N)\n",
    "    diffs = np.array(ar.get()).flatten()\n",
    "    normalized_diffs = normalize_diffs(diffs)\n",
    "    return normalized_diffs"
   ]
  },
  {
   "cell_type": "code",
   "execution_count": 12,
   "metadata": {},
   "outputs": [],
   "source": [
    "client = Client()\n",
    "view = client[:]\n",
    "view.run('rmtkernel.py')\n",
    "view.block = False"
   ]
  },
  {
   "cell_type": "code",
   "execution_count": 13,
   "metadata": {},
   "outputs": [],
   "source": [
    "parallel_nmats = 40*serial_nmats\n",
    "parallel_matsize = 50"
   ]
  },
  {
   "cell_type": "raw",
   "metadata": {
    "jupyter": {
     "outputs_hidden": false
    }
   },
   "source": [
    "%timeit -r1 -n1 parallel_diffs(view, parallel_nmats, parallel_matsize)"
   ]
  },
  {
   "cell_type": "code",
   "execution_count": null,
   "metadata": {},
   "outputs": [],
   "source": []
  }
 ],
 "metadata": {
  "kernelspec": {
   "display_name": "Python 3",
   "language": "python",
   "name": "python3"
  },
  "language_info": {
   "codemirror_mode": {
    "name": "ipython",
    "version": 3
   },
   "file_extension": ".py",
   "mimetype": "text/x-python",
   "name": "python",
   "nbconvert_exporter": "python",
   "pygments_lexer": "ipython3",
   "version": "3.6.8"
  }
 },
 "nbformat": 4,
 "nbformat_minor": 4
}

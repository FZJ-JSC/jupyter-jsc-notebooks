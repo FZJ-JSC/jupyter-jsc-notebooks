{
 "cells": [
  {
   "cell_type": "markdown",
   "metadata": {},
   "source": [
    "# Parallel Monto-Carlo options pricing"
   ]
  },
  {
   "cell_type": "markdown",
   "metadata": {},
   "source": [
    "This notebook shows how to use `IPython.parallel` to do Monte-Carlo options pricing in parallel. We will compute the price of a large number of options for different strike prices and volatilities."
   ]
  },
  {
   "cell_type": "markdown",
   "metadata": {},
   "source": [
    "## Problem setup"
   ]
  },
  {
   "cell_type": "code",
   "execution_count": 1,
   "metadata": {
    "collapsed": false,
    "jupyter": {
     "outputs_hidden": false
    }
   },
   "outputs": [],
   "source": [
    "%matplotlib inline\n",
    "import matplotlib.pyplot as plt"
   ]
  },
  {
   "cell_type": "code",
   "execution_count": 3,
   "metadata": {},
   "outputs": [],
   "source": [
    "import sys\n",
    "import time\n",
    "from ipyparallel import Client\n",
    "import numpy as np"
   ]
  },
  {
   "cell_type": "markdown",
   "metadata": {},
   "source": [
    "Here are the basic parameters for our computation."
   ]
  },
  {
   "cell_type": "code",
   "execution_count": 4,
   "metadata": {},
   "outputs": [],
   "source": [
    "price = 100.0  # Initial price\n",
    "rate = 0.05  # Interest rate\n",
    "days = 260  # Days to expiration\n",
    "paths = 10000  # Number of MC paths\n",
    "n_strikes = 6  # Number of strike values\n",
    "min_strike = 90.0  # Min strike price\n",
    "max_strike = 110.0  # Max strike price\n",
    "n_sigmas = 5  # Number of volatility values\n",
    "min_sigma = 0.1  # Min volatility\n",
    "max_sigma = 0.4  # Max volatility"
   ]
  },
  {
   "cell_type": "code",
   "execution_count": 5,
   "metadata": {},
   "outputs": [],
   "source": [
    "strike_vals = np.linspace(min_strike, max_strike, n_strikes)\n",
    "sigma_vals = np.linspace(min_sigma, max_sigma, n_sigmas)"
   ]
  },
  {
   "cell_type": "code",
   "execution_count": 7,
   "metadata": {
    "collapsed": false,
    "jupyter": {
     "outputs_hidden": false
    }
   },
   "outputs": [
    {
     "name": "stdout",
     "output_type": "stream",
     "text": [
      "Strike prices:  [ 90.  94.  98. 102. 106. 110.]\n",
      "Volatilities:  [0.1   0.175 0.25  0.325 0.4  ]\n"
     ]
    }
   ],
   "source": [
    "print(\"Strike prices: \", strike_vals)\n",
    "print(\"Volatilities: \", sigma_vals)"
   ]
  },
  {
   "cell_type": "markdown",
   "metadata": {},
   "source": [
    "## Monte-Carlo option pricing function"
   ]
  },
  {
   "cell_type": "markdown",
   "metadata": {},
   "source": [
    "The following function computes the price of a single option.  It returns the call and put prices for both European and Asian style options."
   ]
  },
  {
   "cell_type": "code",
   "execution_count": 8,
   "metadata": {
    "collapsed": false,
    "jupyter": {
     "outputs_hidden": false
    }
   },
   "outputs": [],
   "source": [
    "def price_option(S=100.0, K=100.0, sigma=0.25, r=0.05, days=260, paths=10000):\n",
    "    \"\"\"\n",
    "    Price European and Asian options using a Monte Carlo method.\n",
    "\n",
    "    Parameters\n",
    "    ----------\n",
    "    S : float\n",
    "        The initial price of the stock.\n",
    "    K : float\n",
    "        The strike price of the option.\n",
    "    sigma : float\n",
    "        The volatility of the stock.\n",
    "    r : float\n",
    "        The risk free interest rate.\n",
    "    days : int\n",
    "        The number of days until the option expires.\n",
    "    paths : int\n",
    "        The number of Monte Carlo paths used to price the option.\n",
    "\n",
    "    Returns\n",
    "    -------\n",
    "    A tuple of (E. call, E. put, A. call, A. put) option prices.\n",
    "    \"\"\"\n",
    "    import numpy as np\n",
    "    from math import exp,sqrt\n",
    "    \n",
    "    h = 1.0/days\n",
    "    const1 = exp((r-0.5*sigma**2)*h)\n",
    "    const2 = sigma*sqrt(h)\n",
    "    stock_price = S*np.ones(paths, dtype='float64')\n",
    "    stock_price_sum = np.zeros(paths, dtype='float64')\n",
    "    for j in range(days):\n",
    "        growth_factor = const1*np.exp(const2*np.random.standard_normal(paths))\n",
    "        stock_price = stock_price*growth_factor\n",
    "        stock_price_sum = stock_price_sum + stock_price\n",
    "    stock_price_avg = stock_price_sum/days\n",
    "    zeros = np.zeros(paths, dtype='float64')\n",
    "    r_factor = exp(-r*h*days)\n",
    "    euro_put = r_factor*np.mean(np.maximum(zeros, K-stock_price))\n",
    "    asian_put = r_factor*np.mean(np.maximum(zeros, K-stock_price_avg))\n",
    "    euro_call = r_factor*np.mean(np.maximum(zeros, stock_price-K))\n",
    "    asian_call = r_factor*np.mean(np.maximum(zeros, stock_price_avg-K))\n",
    "    return (euro_call, euro_put, asian_call, asian_put)"
   ]
  },
  {
   "cell_type": "markdown",
   "metadata": {},
   "source": [
    "We can time a single call of this function using the `%timeit` magic:"
   ]
  },
  {
   "cell_type": "code",
   "execution_count": 10,
   "metadata": {
    "collapsed": false,
    "jupyter": {
     "outputs_hidden": false
    }
   },
   "outputs": [
    {
     "name": "stdout",
     "output_type": "stream",
     "text": [
      "(12.04543424577925, 7.619698588092983, 6.732129888113179, 4.547256969765989)\n",
      "231 ms ± 0 ns per loop (mean ± std. dev. of 1 run, 1 loop each)\n"
     ]
    }
   ],
   "source": [
    "%timeit -n1 -r1 print(price_option(S=100.0, K=100.0, sigma=0.25, r=0.05, days=260, paths=10000))"
   ]
  },
  {
   "cell_type": "markdown",
   "metadata": {},
   "source": [
    "## Parallel computation across strike prices and volatilities"
   ]
  },
  {
   "cell_type": "markdown",
   "metadata": {},
   "source": [
    "The Client is used to setup the calculation and works with all engines."
   ]
  },
  {
   "cell_type": "raw",
   "metadata": {},
   "source": [
    "rc = Client()"
   ]
  },
  {
   "cell_type": "markdown",
   "metadata": {},
   "source": [
    "A `LoadBalancedView` is an interface to the engines that provides dynamic load\n",
    "balancing at the expense of not knowing which engine will execute the code."
   ]
  },
  {
   "cell_type": "raw",
   "metadata": {
    "jupyter": {
     "outputs_hidden": true
    }
   },
   "source": [
    "view = rc.load_balanced_view()"
   ]
  },
  {
   "cell_type": "markdown",
   "metadata": {},
   "source": [
    "Submit tasks for each (strike, sigma) pair. Again, we use the `%%timeit` magic to time the entire computation."
   ]
  },
  {
   "cell_type": "raw",
   "metadata": {
    "jupyter": {
     "outputs_hidden": false
    }
   },
   "source": [
    "async_results = []"
   ]
  },
  {
   "cell_type": "raw",
   "metadata": {},
   "source": [
    "%%timeit -n1 -r1\n",
    "\n",
    "for strike in strike_vals:\n",
    "    for sigma in sigma_vals:\n",
    "        # This line submits the tasks for parallel computation.\n",
    "        ar = view.apply_async(price_option, price, strike, sigma, rate, days, paths)\n",
    "        async_results.append(ar)\n",
    "\n",
    "rc.wait(async_results)  # Wait until all tasks are done."
   ]
  },
  {
   "cell_type": "raw",
   "metadata": {
    "jupyter": {
     "outputs_hidden": false
    }
   },
   "source": [
    "len(async_results)"
   ]
  },
  {
   "cell_type": "markdown",
   "metadata": {},
   "source": [
    "## Process and visualize results"
   ]
  },
  {
   "cell_type": "markdown",
   "metadata": {},
   "source": [
    "Retrieve the results using the `get` method:"
   ]
  },
  {
   "cell_type": "code",
   "execution_count": 15,
   "metadata": {},
   "outputs": [],
   "source": [
    "results = [ar.get() for ar in async_results]"
   ]
  },
  {
   "cell_type": "markdown",
   "metadata": {},
   "source": [
    "Assemble the result into a structured NumPy array."
   ]
  },
  {
   "cell_type": "code",
   "execution_count": 16,
   "metadata": {},
   "outputs": [],
   "source": [
    "prices = np.empty(n_strikes*n_sigmas,\n",
    "    dtype=[('ecall',float),('eput',float),('acall',float),('aput',float)]\n",
    ")\n",
    "\n",
    "for i, price in enumerate(results):\n",
    "    prices[i] = tuple(price)\n",
    "\n",
    "prices.shape = (n_strikes, n_sigmas)"
   ]
  },
  {
   "cell_type": "markdown",
   "metadata": {},
   "source": [
    "Plot the value of the European call in (volatility, strike) space."
   ]
  },
  {
   "cell_type": "code",
   "execution_count": 17,
   "metadata": {
    "collapsed": false,
    "jupyter": {
     "outputs_hidden": false
    }
   },
   "outputs": [
    {
     "data": {
      "text/plain": [
       "Text(0, 0.5, 'Strike Price')"
      ]
     },
     "execution_count": 17,
     "metadata": {},
     "output_type": "execute_result"
    },
    {
     "data": {
      "image/png": "[encoded data removed]",
      "text/plain": [
       "<Figure size 432x288 with 2 Axes>"
      ]
     },
     "metadata": {
      "needs_background": "light"
     },
     "output_type": "display_data"
    }
   ],
   "source": [
    "plt.figure()\n",
    "plt.contourf(sigma_vals, strike_vals, prices['ecall'])\n",
    "plt.axis('tight')\n",
    "plt.colorbar()\n",
    "plt.title('European Call')\n",
    "plt.xlabel(\"Volatility\")\n",
    "plt.ylabel(\"Strike Price\")"
   ]
  },
  {
   "cell_type": "markdown",
   "metadata": {},
   "source": [
    "Plot the value of the Asian call in (volatility, strike) space."
   ]
  },
  {
   "cell_type": "code",
   "execution_count": 18,
   "metadata": {
    "collapsed": false,
    "jupyter": {
     "outputs_hidden": false
    }
   },
   "outputs": [
    {
     "data": {
      "text/plain": [
       "Text(0, 0.5, 'Strike Price')"
      ]
     },
     "execution_count": 18,
     "metadata": {},
     "output_type": "execute_result"
    },
    {
     "data": {
      "image/png": "[encoded data removed]",
      "text/plain": [
       "<Figure size 432x288 with 2 Axes>"
      ]
     },
     "metadata": {
      "needs_background": "light"
     },
     "output_type": "display_data"
    }
   ],
   "source": [
    "plt.figure()\n",
    "plt.contourf(sigma_vals, strike_vals, prices['acall'])\n",
    "plt.axis('tight')\n",
    "plt.colorbar()\n",
    "plt.title(\"Asian Call\")\n",
    "plt.xlabel(\"Volatility\")\n",
    "plt.ylabel(\"Strike Price\")"
   ]
  },
  {
   "cell_type": "markdown",
   "metadata": {},
   "source": [
    "Plot the value of the European put in (volatility, strike) space."
   ]
  },
  {
   "cell_type": "code",
   "execution_count": 19,
   "metadata": {
    "collapsed": false,
    "jupyter": {
     "outputs_hidden": false
    }
   },
   "outputs": [
    {
     "data": {
      "text/plain": [
       "Text(0, 0.5, 'Strike Price')"
      ]
     },
     "execution_count": 19,
     "metadata": {},
     "output_type": "execute_result"
    },
    {
     "data": {
      "image/png": "[encoded data removed]",
      "text/plain": [
       "<Figure size 432x288 with 2 Axes>"
      ]
     },
     "metadata": {
      "needs_background": "light"
     },
     "output_type": "display_data"
    }
   ],
   "source": [
    "plt.figure()\n",
    "plt.contourf(sigma_vals, strike_vals, prices['eput'])\n",
    "plt.axis('tight')\n",
    "plt.colorbar()\n",
    "plt.title(\"European Put\")\n",
    "plt.xlabel(\"Volatility\")\n",
    "plt.ylabel(\"Strike Price\")"
   ]
  },
  {
   "cell_type": "markdown",
   "metadata": {},
   "source": [
    "Plot the value of the Asian put in (volatility, strike) space."
   ]
  },
  {
   "cell_type": "code",
   "execution_count": 20,
   "metadata": {
    "collapsed": false,
    "jupyter": {
     "outputs_hidden": false
    }
   },
   "outputs": [
    {
     "data": {
      "text/plain": [
       "Text(0, 0.5, 'Strike Price')"
      ]
     },
     "execution_count": 20,
     "metadata": {},
     "output_type": "execute_result"
    },
    {
     "data": {
      "image/png": "[encoded data removed]",
      "text/plain": [
       "<Figure size 432x288 with 2 Axes>"
      ]
     },
     "metadata": {
      "needs_background": "light"
     },
     "output_type": "display_data"
    }
   ],
   "source": [
    "plt.figure()\n",
    "plt.contourf(sigma_vals, strike_vals, prices['aput'])\n",
    "plt.axis('tight')\n",
    "plt.colorbar()\n",
    "plt.title(\"Asian Put\")\n",
    "plt.xlabel(\"Volatility\")\n",
    "plt.ylabel(\"Strike Price\")"
   ]
  },
  {
   "cell_type": "code",
   "execution_count": null,
   "metadata": {},
   "outputs": [],
   "source": []
  },
  {
   "cell_type": "code",
   "execution_count": null,
   "metadata": {},
   "outputs": [],
   "source": []
  }
 ],
 "metadata": {
  "kernelspec": {
   "display_name": "Python 3",
   "language": "python",
   "name": "python3"
  },
  "language_info": {
   "codemirror_mode": {
    "name": "ipython",
    "version": 3
   },
   "file_extension": ".py",
   "mimetype": "text/x-python",
   "name": "python",
   "nbconvert_exporter": "python",
   "pygments_lexer": "ipython3",
   "version": "3.6.8"
  }
 },
 "nbformat": 4,
 "nbformat_minor": 4
}

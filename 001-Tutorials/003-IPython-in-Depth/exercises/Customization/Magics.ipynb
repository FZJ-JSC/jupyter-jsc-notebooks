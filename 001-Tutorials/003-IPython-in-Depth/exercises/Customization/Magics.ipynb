{
 "cells": [
  {
   "cell_type": "markdown",
   "metadata": {},
   "source": [
    "# Customizing IPython - Magics"
   ]
  },
  {
   "cell_type": "markdown",
   "metadata": {},
   "source": [
    "IPython extends Python by adding shell-like commands called **magics**."
   ]
  },
  {
   "cell_type": "code",
   "execution_count": 1,
   "metadata": {
    "collapsed": false,
    "jupyter": {
     "outputs_hidden": false
    }
   },
   "outputs": [
    {
     "data": {
      "application/json": {
       "cell": {
        "!": "OSMagics",
        "HTML": "Other",
        "SVG": "Other",
        "bash": "Other",
        "capture": "ExecutionMagics",
        "debug": "ExecutionMagics",
        "file": "Other",
        "html": "DisplayMagics",
        "javascript": "DisplayMagics",
        "js": "DisplayMagics",
        "latex": "DisplayMagics",
        "markdown": "DisplayMagics",
        "perl": "Other",
        "prun": "ExecutionMagics",
        "pypy": "Other",
        "python": "Other",
        "python2": "Other",
        "python3": "Other",
        "ruby": "Other",
        "script": "ScriptMagics",
        "sh": "Other",
        "svg": "DisplayMagics",
        "sx": "OSMagics",
        "system": "OSMagics",
        "time": "ExecutionMagics",
        "timeit": "ExecutionMagics",
        "writefile": "OSMagics"
       },
       "line": {
        "alias": "OSMagics",
        "alias_magic": "BasicMagics",
        "autoawait": "AsyncMagics",
        "autocall": "AutoMagics",
        "automagic": "AutoMagics",
        "autosave": "KernelMagics",
        "bookmark": "OSMagics",
        "cat": "Other",
        "cd": "OSMagics",
        "clear": "KernelMagics",
        "colors": "BasicMagics",
        "conda": "PackagingMagics",
        "config": "ConfigMagics",
        "connect_info": "KernelMagics",
        "cp": "Other",
        "debug": "ExecutionMagics",
        "dhist": "OSMagics",
        "dirs": "OSMagics",
        "doctest_mode": "BasicMagics",
        "ed": "Other",
        "edit": "KernelMagics",
        "env": "OSMagics",
        "gui": "BasicMagics",
        "hist": "Other",
        "history": "HistoryMagics",
        "killbgscripts": "ScriptMagics",
        "ldir": "Other",
        "less": "KernelMagics",
        "lf": "Other",
        "lk": "Other",
        "ll": "Other",
        "load": "CodeMagics",
        "load_ext": "ExtensionMagics",
        "loadpy": "CodeMagics",
        "logoff": "LoggingMagics",
        "logon": "LoggingMagics",
        "logstart": "LoggingMagics",
        "logstate": "LoggingMagics",
        "logstop": "LoggingMagics",
        "ls": "Other",
        "lsmagic": "BasicMagics",
        "lx": "Other",
        "macro": "ExecutionMagics",
        "magic": "BasicMagics",
        "man": "KernelMagics",
        "matplotlib": "PylabMagics",
        "mkdir": "Other",
        "more": "KernelMagics",
        "mv": "Other",
        "notebook": "BasicMagics",
        "page": "BasicMagics",
        "pastebin": "CodeMagics",
        "pdb": "ExecutionMagics",
        "pdef": "NamespaceMagics",
        "pdoc": "NamespaceMagics",
        "pfile": "NamespaceMagics",
        "pinfo": "NamespaceMagics",
        "pinfo2": "NamespaceMagics",
        "pip": "PackagingMagics",
        "popd": "OSMagics",
        "pprint": "BasicMagics",
        "precision": "BasicMagics",
        "prun": "ExecutionMagics",
        "psearch": "NamespaceMagics",
        "psource": "NamespaceMagics",
        "pushd": "OSMagics",
        "pwd": "OSMagics",
        "pycat": "OSMagics",
        "pylab": "PylabMagics",
        "qtconsole": "KernelMagics",
        "quickref": "BasicMagics",
        "recall": "HistoryMagics",
        "rehashx": "OSMagics",
        "reload_ext": "ExtensionMagics",
        "rep": "Other",
        "rerun": "HistoryMagics",
        "reset": "NamespaceMagics",
        "reset_selective": "NamespaceMagics",
        "rm": "Other",
        "rmdir": "Other",
        "run": "ExecutionMagics",
        "save": "CodeMagics",
        "sc": "OSMagics",
        "set_env": "OSMagics",
        "store": "StoreMagics",
        "sx": "OSMagics",
        "system": "OSMagics",
        "tb": "ExecutionMagics",
        "time": "ExecutionMagics",
        "timeit": "ExecutionMagics",
        "unalias": "OSMagics",
        "unload_ext": "ExtensionMagics",
        "who": "NamespaceMagics",
        "who_ls": "NamespaceMagics",
        "whos": "NamespaceMagics",
        "xdel": "NamespaceMagics",
        "xmode": "BasicMagics"
       }
      },
      "text/plain": [
       "Available line magics:\n",
       "%alias  %alias_magic  %autoawait  %autocall  %automagic  %autosave  %bookmark  %cat  %cd  %clear  %colors  %conda  %config  %connect_info  %cp  %debug  %dhist  %dirs  %doctest_mode  %ed  %edit  %env  %gui  %hist  %history  %killbgscripts  %ldir  %less  %lf  %lk  %ll  %load  %load_ext  %loadpy  %logoff  %logon  %logstart  %logstate  %logstop  %ls  %lsmagic  %lx  %macro  %magic  %man  %matplotlib  %mkdir  %more  %mv  %notebook  %page  %pastebin  %pdb  %pdef  %pdoc  %pfile  %pinfo  %pinfo2  %pip  %popd  %pprint  %precision  %prun  %psearch  %psource  %pushd  %pwd  %pycat  %pylab  %qtconsole  %quickref  %recall  %rehashx  %reload_ext  %rep  %rerun  %reset  %reset_selective  %rm  %rmdir  %run  %save  %sc  %set_env  %store  %sx  %system  %tb  %time  %timeit  %unalias  %unload_ext  %who  %who_ls  %whos  %xdel  %xmode\n",
       "\n",
       "Available cell magics:\n",
       "%%!  %%HTML  %%SVG  %%bash  %%capture  %%debug  %%file  %%html  %%javascript  %%js  %%latex  %%markdown  %%perl  %%prun  %%pypy  %%python  %%python2  %%python3  %%ruby  %%script  %%sh  %%svg  %%sx  %%system  %%time  %%timeit  %%writefile\n",
       "\n",
       "Automagic is ON, % prefix IS NOT needed for line magics."
      ]
     },
     "execution_count": 1,
     "metadata": {},
     "output_type": "execute_result"
    }
   ],
   "source": [
    "%lsmagic"
   ]
  },
  {
   "cell_type": "code",
   "execution_count": 2,
   "metadata": {
    "collapsed": false,
    "jupyter": {
     "outputs_hidden": false
    }
   },
   "outputs": [],
   "source": [
    "import numpy"
   ]
  },
  {
   "cell_type": "code",
   "execution_count": 3,
   "metadata": {
    "collapsed": false,
    "jupyter": {
     "outputs_hidden": false
    }
   },
   "outputs": [
    {
     "name": "stdout",
     "output_type": "stream",
     "text": [
      "7.16 ms ± 68.3 µs per loop (mean ± std. dev. of 7 runs, 100 loops each)\n"
     ]
    }
   ],
   "source": [
    "%timeit A=numpy.random.random((1000,1000))"
   ]
  },
  {
   "cell_type": "code",
   "execution_count": 4,
   "metadata": {
    "collapsed": false,
    "jupyter": {
     "outputs_hidden": false
    }
   },
   "outputs": [
    {
     "name": "stdout",
     "output_type": "stream",
     "text": [
      "15.3 ms ± 2.92 ms per loop (mean ± std. dev. of 7 runs, 1 loop each)\n"
     ]
    }
   ],
   "source": [
    "%%timeit -n 1\n",
    "\n",
    "A=numpy.random.random((1000,1000))\n",
    "b = A.sum()\n"
   ]
  },
  {
   "cell_type": "markdown",
   "metadata": {},
   "source": [
    "## Defining your own magic"
   ]
  },
  {
   "cell_type": "markdown",
   "metadata": {},
   "source": [
    "As we have seen already, IPython has cell and line magics. You can define your own magics using any Python function and the `register_magic_function` method:"
   ]
  },
  {
   "cell_type": "code",
   "execution_count": 5,
   "metadata": {
    "collapsed": false,
    "jupyter": {
     "outputs_hidden": false
    }
   },
   "outputs": [],
   "source": [
    "ip = get_ipython()"
   ]
  },
  {
   "cell_type": "code",
   "execution_count": 6,
   "metadata": {
    "collapsed": false,
    "jupyter": {
     "outputs_hidden": false
    }
   },
   "outputs": [],
   "source": [
    "import time\n",
    "\n",
    "def sleep_magic(line):\n",
    "    \"\"\"A simple function for sleeping\"\"\"\n",
    "    t = float(line)\n",
    "    time.sleep(t)"
   ]
  },
  {
   "cell_type": "code",
   "execution_count": 7,
   "metadata": {
    "collapsed": false,
    "jupyter": {
     "outputs_hidden": false
    }
   },
   "outputs": [
    {
     "data": {
      "text/plain": [
       "\u001b[0;31mSignature:\u001b[0m \u001b[0mip\u001b[0m\u001b[0;34m.\u001b[0m\u001b[0mregister_magic_function\u001b[0m\u001b[0;34m(\u001b[0m\u001b[0mfunc\u001b[0m\u001b[0;34m,\u001b[0m \u001b[0mmagic_kind\u001b[0m\u001b[0;34m=\u001b[0m\u001b[0;34m'line'\u001b[0m\u001b[0;34m,\u001b[0m \u001b[0mmagic_name\u001b[0m\u001b[0;34m=\u001b[0m\u001b[0;32mNone\u001b[0m\u001b[0;34m)\u001b[0m\u001b[0;34m\u001b[0m\u001b[0;34m\u001b[0m\u001b[0m\n",
       "\u001b[0;31mDocstring:\u001b[0m\n",
       "Expose a standalone function as magic function for IPython.\n",
       "\n",
       "This will create an IPython magic (line, cell or both) from a\n",
       "standalone function.  The functions should have the following\n",
       "signatures: \n",
       "\n",
       "* For line magics: `def f(line)`\n",
       "* For cell magics: `def f(line, cell)`\n",
       "* For a function that does both: `def f(line, cell=None)`\n",
       "\n",
       "In the latter case, the function will be called with `cell==None` when\n",
       "invoked as `%f`, and with cell as a string when invoked as `%%f`.\n",
       "\n",
       "Parameters\n",
       "----------\n",
       "func : callable\n",
       "  Function to be registered as a magic.\n",
       "\n",
       "magic_kind : str\n",
       "  Kind of magic, one of 'line', 'cell' or 'line_cell'\n",
       "\n",
       "magic_name : optional str\n",
       "  If given, the name the magic will have in the IPython namespace.  By\n",
       "  default, the name of the function itself is used.\n",
       "\u001b[0;31mFile:\u001b[0m      /usr/local/software/jureca/Stages/Devel-2019a/software/Jupyter/2019a-rc30-gcccoremkl-8.3.0-2019.3.199-Python-3.6.8/lib/python3.6/site-packages/IPython/core/magic.py\n",
       "\u001b[0;31mType:\u001b[0m      method\n"
      ]
     },
     "metadata": {},
     "output_type": "display_data"
    }
   ],
   "source": [
    "ip.register_magic_function?"
   ]
  },
  {
   "cell_type": "code",
   "execution_count": 8,
   "metadata": {
    "collapsed": false,
    "jupyter": {
     "outputs_hidden": false
    }
   },
   "outputs": [],
   "source": [
    "ip.register_magic_function(sleep_magic, \"line\", \"sleep\")"
   ]
  },
  {
   "cell_type": "code",
   "execution_count": 9,
   "metadata": {
    "collapsed": false,
    "jupyter": {
     "outputs_hidden": false
    }
   },
   "outputs": [],
   "source": [
    "%sleep 2"
   ]
  },
  {
   "cell_type": "code",
   "execution_count": 10,
   "metadata": {
    "collapsed": false,
    "jupyter": {
     "outputs_hidden": false
    }
   },
   "outputs": [
    {
     "data": {
      "text/plain": [
       "\u001b[0;31mDocstring:\u001b[0m A simple function for sleeping\n",
       "\u001b[0;31mFile:\u001b[0m      /p/project/ccstvs/jupyter/j4j_notebooks/001-Tutorials/003-IPython-in-Depth/exercises/Customization/<ipython-input-6-2b120a0bad00>\n"
      ]
     },
     "metadata": {},
     "output_type": "display_data"
    }
   ],
   "source": [
    "%sleep?"
   ]
  },
  {
   "cell_type": "markdown",
   "metadata": {},
   "source": [
    "### Exercise"
   ]
  },
  {
   "cell_type": "markdown",
   "metadata": {},
   "source": [
    "Define `%tic` and `%toc` magics, which can be use for simple timings, e.g. where\n",
    "\n",
    "```python\n",
    "for p in range(1,4):\n",
    "    N = 10**p\n",
    "    print \"N=%i\" % N\n",
    "    %tic\n",
    "    A = np.random.random((N,N))\n",
    "    np.linalg.eigvals(A)\n",
    "    %toc\n",
    "```\n",
    "\n",
    "each `%toc` will print the time since the last `%tic`. Create separate `tic` and `toc` functions that read and write\n",
    "a global time variable."
   ]
  },
  {
   "cell_type": "code",
   "execution_count": 29,
   "metadata": {
    "collapsed": false,
    "jupyter": {
     "outputs_hidden": false
    }
   },
   "outputs": [],
   "source": [
    "# %load soln/tictocf.py\n",
    "import time\n",
    "\n",
    "def format_time(dt):\n",
    "    if dt < 1e-6:\n",
    "        return u\"%.3g ns\" % (dt * 1e9)\n",
    "    elif dt < 1e-3:\n",
    "        return u\"%.3g µs\" % (dt * 1e6)\n",
    "    elif dt < 1:\n",
    "        return u\"%.3g ms\" % (dt * 1e3)\n",
    "    else:\n",
    "        return \"%.3g s\" % dt\n",
    "\n",
    "def tic(line):\n",
    "    global t0\n",
    "    t0 = time.time()\n",
    "\n",
    "def toc(line):\n",
    "    global t0\n",
    "    print (format_time(time.time() - t0))\n",
    "\n",
    "ip = get_ipython()\n",
    "ip.register_magic_function(tic)\n",
    "ip.register_magic_function(toc)\n"
   ]
  },
  {
   "cell_type": "code",
   "execution_count": 30,
   "metadata": {
    "collapsed": false,
    "jupyter": {
     "outputs_hidden": false
    }
   },
   "outputs": [
    {
     "name": "stdout",
     "output_type": "stream",
     "text": [
      "N=10\n",
      "1.14 ms\n",
      "N=100\n",
      "12.7 ms\n",
      "N=1000\n",
      "777 ms\n"
     ]
    }
   ],
   "source": [
    "import numpy as np\n",
    "import sys\n",
    "for p in range(1,4):\n",
    "    N = 10**p\n",
    "    print(\"N=%i\" % N)\n",
    "    sys.stdout.flush()\n",
    "    %tic\n",
    "    A = np.random.random((N,N))\n",
    "    np.linalg.eigvals(A)\n",
    "    %toc"
   ]
  },
  {
   "cell_type": "markdown",
   "metadata": {},
   "source": [
    "### Cell Magic"
   ]
  },
  {
   "cell_type": "markdown",
   "metadata": {},
   "source": [
    "**Cell magics** take two args:\n",
    "\n",
    "1. the **line** on the same line of the magic \n",
    "2. the **cell** the multiline body of the cell after the first line"
   ]
  },
  {
   "cell_type": "code",
   "execution_count": 31,
   "metadata": {
    "collapsed": false,
    "jupyter": {
     "outputs_hidden": false
    }
   },
   "outputs": [],
   "source": [
    "def dummy_cell_magic(line, cell):\n",
    "    \"\"\"dummy cell magic for displaying the line and cell it is passed\"\"\"\n",
    "    print(\"line: %r\" % line)\n",
    "    print(\"cell: %r\" % cell)\n",
    "\n",
    "ip.register_magic_function(dummy_cell_magic, \"cell\", \"dummy\")"
   ]
  },
  {
   "cell_type": "code",
   "execution_count": 32,
   "metadata": {
    "collapsed": false,
    "jupyter": {
     "outputs_hidden": false
    }
   },
   "outputs": [
    {
     "name": "stdout",
     "output_type": "stream",
     "text": [
      "line: 'this is the line'\n",
      "cell: 'this\\nis the\\ncell\\n'\n"
     ]
    }
   ],
   "source": [
    "%%dummy this is the line\n",
    "this\n",
    "is the\n",
    "cell"
   ]
  },
  {
   "cell_type": "code",
   "execution_count": 33,
   "metadata": {
    "collapsed": false,
    "jupyter": {
     "outputs_hidden": false
    }
   },
   "outputs": [
    {
     "data": {
      "text/plain": [
       "('x', range(0, 5))"
      ]
     },
     "execution_count": 33,
     "metadata": {},
     "output_type": "execute_result"
    }
   ],
   "source": [
    "def parse_magic_line(line):\n",
    "    \"\"\"parse a magic line into a name and eval'd expression\"\"\"\n",
    "    name, values_s = line.split(None, 1)\n",
    "    values = eval(values_s, get_ipython().user_ns)\n",
    "    return name, values\n",
    "\n",
    "parse_magic_line(\"x range(5)\")"
   ]
  },
  {
   "cell_type": "markdown",
   "metadata": {},
   "source": [
    "#### Excercise"
   ]
  },
  {
   "cell_type": "markdown",
   "metadata": {},
   "source": [
    "Can you write and register a **cell magic** that automates the outer iteration,\n",
    "timing a block for various values of a particular variable:"
   ]
  },
  {
   "cell_type": "code",
   "execution_count": 34,
   "metadata": {
    "collapsed": false,
    "jupyter": {
     "outputs_hidden": false
    }
   },
   "outputs": [],
   "source": [
    "# %load soln/scalemagic.py\n",
    "def scale_magic(line, cell):\n",
    "    \"\"\"run a cell block with a variety of input values\"\"\"\n",
    "    name, values = parse_magic_line(line)\n",
    "    ns = get_ipython().user_ns\n",
    "    for v in values:\n",
    "        assignment = \"%s=%r\" % (name, v)\n",
    "        print(assignment)\n",
    "        ns[name] = v\n",
    "        sys.stdout.flush()\n",
    "        %tic\n",
    "        exec(cell, ns)\n",
    "        %toc\n",
    "\n",
    "ip = get_ipython()\n",
    "ip.register_magic_function(scale_magic, \"cell\", \"scale\")\n"
   ]
  },
  {
   "cell_type": "code",
   "execution_count": 17,
   "metadata": {
    "collapsed": false,
    "jupyter": {
     "outputs_hidden": false
    }
   },
   "outputs": [
    {
     "name": "stdout",
     "output_type": "stream",
     "text": [
      "N=10\n",
      "971 µs\n",
      "N=100\n",
      "12.8 ms\n",
      "N=1000\n",
      "785 ms\n"
     ]
    }
   ],
   "source": [
    "%%scale N [ int(10**p) for p in range(1,4) ]\n",
    "\n",
    "A = np.random.random((N,N))\n",
    "np.linalg.eigvals(A)\n"
   ]
  },
  {
   "cell_type": "code",
   "execution_count": 18,
   "metadata": {
    "collapsed": false,
    "jupyter": {
     "outputs_hidden": false
    }
   },
   "outputs": [
    {
     "name": "stdout",
     "output_type": "stream",
     "text": [
      "N=64\n",
      "3.52 ms\n",
      "N=90\n",
      "8.31 ms\n",
      "N=128\n",
      "18.7 ms\n",
      "N=181\n",
      "55.7 ms\n",
      "N=256\n",
      "71.4 ms\n",
      "N=362\n",
      "118 ms\n",
      "N=512\n",
      "300 ms\n",
      "N=724\n",
      "396 ms\n",
      "N=1024\n",
      "904 ms\n",
      "N=1448\n",
      "1.34 s\n",
      "N=2048\n",
      "2.92 s\n"
     ]
    }
   ],
   "source": [
    "%%scale N [ int(2**p) for p in np.linspace(6, 11, 11) ]\n",
    "\n",
    "A = np.random.random((N,N))\n",
    "np.linalg.eigvals(A)\n"
   ]
  },
  {
   "cell_type": "markdown",
   "metadata": {},
   "source": [
    "## Executing Notebooks"
   ]
  },
  {
   "cell_type": "markdown",
   "metadata": {},
   "source": [
    "We can load a notebook into memory using `IPython.nbformat`."
   ]
  },
  {
   "cell_type": "code",
   "execution_count": 19,
   "metadata": {
    "collapsed": false,
    "jupyter": {
     "outputs_hidden": false
    }
   },
   "outputs": [],
   "source": [
    "import io\n",
    "import os\n",
    "\n",
    "import nbformat as nbf"
   ]
  },
  {
   "cell_type": "code",
   "execution_count": 20,
   "metadata": {
    "collapsed": false,
    "jupyter": {
     "outputs_hidden": false
    }
   },
   "outputs": [],
   "source": [
    "def load_notebook(filename):\n",
    "    \"\"\"load a notebook object from a filename\"\"\"\n",
    "    if not os.path.exists(filename) and not filename.endswith(\".ipynb\"):\n",
    "        filename = filename + \".ipynb\"\n",
    "    with io.open(filename) as f:\n",
    "        return nbf.read(f, as_version=4)\n"
   ]
  },
  {
   "cell_type": "code",
   "execution_count": 21,
   "metadata": {
    "collapsed": false,
    "jupyter": {
     "outputs_hidden": false
    }
   },
   "outputs": [],
   "source": [
    "nb = load_notebook(\"_Sample\")"
   ]
  },
  {
   "cell_type": "markdown",
   "metadata": {},
   "source": [
    "**A notebook is just a dictionary** with attribute access for convenience."
   ]
  },
  {
   "cell_type": "code",
   "execution_count": 22,
   "metadata": {
    "collapsed": false,
    "jupyter": {
     "outputs_hidden": false
    }
   },
   "outputs": [
    {
     "data": {
      "text/plain": [
       "dict_keys(['cells', 'metadata', 'nbformat', 'nbformat_minor'])"
      ]
     },
     "execution_count": 22,
     "metadata": {},
     "output_type": "execute_result"
    }
   ],
   "source": [
    "nb.keys()"
   ]
  },
  {
   "cell_type": "code",
   "execution_count": 23,
   "metadata": {
    "collapsed": false,
    "jupyter": {
     "outputs_hidden": false
    }
   },
   "outputs": [
    {
     "data": {
      "text/plain": [
       "[{'cell_type': 'markdown', 'metadata': {}, 'source': '# A sample notebook'},\n",
       " {'cell_type': 'code',\n",
       "  'execution_count': 1,\n",
       "  'metadata': {'collapsed': False, 'jupyter': {'outputs_hidden': False}},\n",
       "  'outputs': [{'name': 'stdout', 'output_type': 'stream', 'text': 'hello\\n'}],\n",
       "  'source': \"print('hello')\"},\n",
       " {'cell_type': 'code',\n",
       "  'execution_count': 2,\n",
       "  'metadata': {'collapsed': False, 'jupyter': {'outputs_hidden': False}},\n",
       "  'outputs': [{'data': {'text/plain': '[<matplotlib.lines.Line2D at 0x2b3482c8a550>]'},\n",
       "    'execution_count': 2,\n",
       "    'metadata': {},\n",
       "    'output_type': 'execute_result'},\n",
       "   {'data': {'image/png': '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\\n',\n",
       "     'text/plain': '<Figure size 432x288 with 1 Axes>'},\n",
       "    'metadata': {'needs_background': 'light'},\n",
       "    'output_type': 'display_data'}],\n",
       "  'source': '%matplotlib inline\\nimport matplotlib.pyplot as plt\\nimport numpy as np\\nplt.plot(np.random.random(100))'},\n",
       " {'cell_type': 'markdown',\n",
       "  'metadata': {},\n",
       "  'source': 'A function for displaying the summary of a notebook object.\\nIt prints a simple summary, such as:\\n\\n```\\n  1   markdown cells, total:   4 lines\\n  5       code cells, total:   4 lines\\n  1    heading cells, total:   1 lines\\n```'},\n",
       " {'cell_type': 'code',\n",
       "  'execution_count': 3,\n",
       "  'metadata': {'collapsed': False, 'jupyter': {'outputs_hidden': False}},\n",
       "  'outputs': [],\n",
       "  'source': 'def nb_info(nb):\\n    \"\"\"display a summary of the contents of a notebook\"\"\"\\n    cell_counts = {}\\n    cell_lines = {}\\n    \\n    for cell in nb.cells:\\n        cell_type = cell.cell_type\\n        count = cell_counts.setdefault(cell_type, 0)\\n        lines = cell_counts.setdefault(cell_type, 0)\\n        cell_counts[cell_type] = count + 1\\n        try:\\n            content = cell.source\\n        except AttributeError:\\n            content = cell.input\\n        cell_lines[cell_type] = lines + len(content.splitlines())\\n    \\n    for cell_type in cell_counts:\\n        print(\"%3i %10s cells, total: %3i lines\" % (cell_counts[cell_type], cell_type, cell_lines[cell_type]))\\n'},\n",
       " {'cell_type': 'code',\n",
       "  'execution_count': None,\n",
       "  'metadata': {},\n",
       "  'outputs': [],\n",
       "  'source': ''}]"
      ]
     },
     "execution_count": 23,
     "metadata": {},
     "output_type": "execute_result"
    }
   ],
   "source": [
    "cells = nb.cells\n",
    "cells"
   ]
  },
  {
   "cell_type": "markdown",
   "metadata": {},
   "source": [
    "We can see all the cells and their type"
   ]
  },
  {
   "cell_type": "code",
   "execution_count": 24,
   "metadata": {
    "collapsed": false,
    "jupyter": {
     "outputs_hidden": false
    }
   },
   "outputs": [
    {
     "name": "stdout",
     "output_type": "stream",
     "text": [
      "\n",
      "----- markdown -----\n",
      "# A sample notebook\n",
      "\n",
      "----- code -----\n",
      "print('hello')\n",
      "\n",
      "----- code -----\n",
      "%matplotlib inline\n",
      "import matplotlib.pyplot as plt\n",
      "import numpy as np\n",
      "plt.plot(np.random.random(100))\n",
      "\n",
      "----- markdown -----\n",
      "A function for displaying the summary of a notebook object.\n",
      "It prints a simple summary, such as:\n",
      "\n",
      "```\n",
      "  1   markdown cells, total:   4 lines\n",
      "  5       code cells, total:   4 lines\n",
      "  1    heading cells, total:   1 lines\n",
      "```\n",
      "\n",
      "----- code -----\n",
      "def nb_info(nb):\n",
      "    \"\"\"display a summary of the contents of a notebook\"\"\"\n",
      "    cell_counts = {}\n",
      "    cell_lines = {}\n",
      "    \n",
      "    for cell in nb.cells:\n",
      "        cell_type = cell.cell_type\n",
      "        count = cell_counts.setdefault(cell_type, 0)\n",
      "        lines = cell_counts.setdefault(cell_type, 0)\n",
      "        cell_counts[cell_type] = count + 1\n",
      "        try:\n",
      "            content = cell.source\n",
      "        except AttributeError:\n",
      "            content = cell.input\n",
      "        cell_lines[cell_type] = lines + len(content.splitlines())\n",
      "    \n",
      "    for cell_type in cell_counts:\n",
      "        print(\"%3i %10s cells, total: %3i lines\" % (cell_counts[cell_type], cell_type, cell_lines[cell_type]))\n",
      "\n",
      "\n",
      "----- code -----\n",
      "\n"
     ]
    }
   ],
   "source": [
    "for cell in cells:\n",
    "    print()\n",
    "    print('----- %s -----' % cell.cell_type)\n",
    "    print(cell.source)"
   ]
  },
  {
   "cell_type": "markdown",
   "metadata": {},
   "source": [
    "Now I can run all of the **code cells** with `get_ipython().run_cell`"
   ]
  },
  {
   "cell_type": "code",
   "execution_count": 25,
   "metadata": {
    "collapsed": false,
    "jupyter": {
     "outputs_hidden": false
    }
   },
   "outputs": [
    {
     "name": "stdout",
     "output_type": "stream",
     "text": [
      "hello\n"
     ]
    },
    {
     "data": {
      "image/png": "[encoded data removed]",
      "text/plain": [
       "<Figure size 432x288 with 1 Axes>"
      ]
     },
     "metadata": {
      "needs_background": "light"
     },
     "output_type": "display_data"
    }
   ],
   "source": [
    "for cell in cells:\n",
    "    ip = get_ipython()\n",
    "    if cell.cell_type == 'code':\n",
    "        ip.run_cell(cell.source, silent=True)"
   ]
  },
  {
   "cell_type": "markdown",
   "metadata": {},
   "source": [
    "And we can now use the function that was defined in that notebook:"
   ]
  },
  {
   "cell_type": "code",
   "execution_count": 26,
   "metadata": {
    "collapsed": false,
    "jupyter": {
     "outputs_hidden": false
    }
   },
   "outputs": [
    {
     "name": "stdout",
     "output_type": "stream",
     "text": [
      "  2   markdown cells, total:   9 lines\n",
      "  4       code cells, total:   3 lines\n"
     ]
    }
   ],
   "source": [
    "nb_info(nb)"
   ]
  },
  {
   "cell_type": "markdown",
   "metadata": {},
   "source": [
    "### Exercise"
   ]
  },
  {
   "cell_type": "markdown",
   "metadata": {},
   "source": [
    "Can you write and register an `%nbrun` line magic to run a notebook?\n",
    "\n",
    "```python\n",
    "%nbrun Sample\n",
    "```"
   ]
  },
  {
   "cell_type": "code",
   "execution_count": 27,
   "metadata": {
    "collapsed": false,
    "jupyter": {
     "outputs_hidden": false
    }
   },
   "outputs": [],
   "source": [
    "# %load soln/nbrun.py\n",
    "def nbrun(line):\n",
    "    \"\"\"given a filename, execute the notebook in IPython\"\"\"\n",
    "    nb = load_notebook(line)\n",
    "    ip = get_ipython()\n",
    "    for cell in nb.cells:\n",
    "        if cell.cell_type == 'code':\n",
    "            ip.run_cell(cell.source, silent=True)\n",
    "    \n",
    "get_ipython().register_magic_function(nbrun)\n"
   ]
  },
  {
   "cell_type": "code",
   "execution_count": 28,
   "metadata": {
    "collapsed": false,
    "jupyter": {
     "outputs_hidden": false
    }
   },
   "outputs": [
    {
     "name": "stdout",
     "output_type": "stream",
     "text": [
      "hello\n"
     ]
    },
    {
     "data": {
      "image/png": "[encoded data removed]",
      "text/plain": [
       "<Figure size 432x288 with 1 Axes>"
      ]
     },
     "metadata": {
      "needs_background": "light"
     },
     "output_type": "display_data"
    }
   ],
   "source": [
    "%nbrun _Sample"
   ]
  },
  {
   "cell_type": "markdown",
   "metadata": {},
   "source": [
    "The common way to make your magics reusable is to [write an Extension](Customizing%20IPython%20-%20Extensions.ipynb), so let's give that a try."
   ]
  },
  {
   "cell_type": "code",
   "execution_count": null,
   "metadata": {},
   "outputs": [],
   "source": []
  }
 ],
 "metadata": {
  "kernelspec": {
   "display_name": "Python 3",
   "language": "python",
   "name": "python3"
  },
  "language_info": {
   "codemirror_mode": {
    "name": "ipython",
    "version": 3
   },
   "file_extension": ".py",
   "mimetype": "text/x-python",
   "name": "python",
   "nbconvert_exporter": "python",
   "pygments_lexer": "ipython3",
   "version": "3.6.8"
  }
 },
 "nbformat": 4,
 "nbformat_minor": 4
}

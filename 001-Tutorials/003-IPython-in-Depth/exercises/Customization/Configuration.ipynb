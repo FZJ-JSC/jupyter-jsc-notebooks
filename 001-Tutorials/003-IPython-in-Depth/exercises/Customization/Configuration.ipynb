{
 "cells": [
  {
   "cell_type": "markdown",
   "metadata": {},
   "source": [
    "# Configuring IPython"
   ]
  },
  {
   "cell_type": "markdown",
   "metadata": {},
   "source": [
    "## Finding configuration options"
   ]
  },
  {
   "cell_type": "markdown",
   "metadata": {},
   "source": [
    "IPython has many configurable attributes. These can be viewed using the `-h` flag to the command line applications:"
   ]
  },
  {
   "cell_type": "code",
   "execution_count": 1,
   "metadata": {
    "collapsed": false,
    "jupyter": {
     "outputs_hidden": false
    }
   },
   "outputs": [
    {
     "name": "stdout",
     "output_type": "stream",
     "text": [
      "=========\n",
      " IPython\n",
      "=========\n",
      "\n",
      "Tools for Interactive Computing in Python\n",
      "=========================================\n",
      "\n",
      "    A Python shell with automatic history (input and output), dynamic object\n",
      "    introspection, easier configuration, command completion, access to the\n",
      "    system shell and more.  IPython can also be embedded in running programs.\n",
      "\n",
      "Usage\n",
      "\n",
      "    ipython [subcommand] [options] [-c cmd | -m mod | file] [--] [arg] ...\n",
      "\n",
      "    If invoked with no options, it executes the file and exits, passing the\n",
      "    remaining arguments to the script, just as if you had specified the same\n",
      "    command with python. You may need to specify `--` before args to be passed\n",
      "    to the script, to prevent IPython from attempting to parse them. If you\n",
      "    specify the option `-i` before the filename, it will enter an interactive\n",
      "    IPython session after running the script, rather than exiting. Files ending\n",
      "    in .py will be treated as normal Python, but files ending in .ipy can\n",
      "    contain special IPython syntax (magic commands, shell expansions, etc.).\n",
      "\n",
      "    Almost all configuration in IPython is available via the command-line. Do\n",
      "    `ipython --help-all` to see all available options.  For persistent\n",
      "    configuration, look into your `ipython_config.py` configuration file for\n",
      "    details.\n",
      "\n",
      "    This file is typically installed in the `IPYTHONDIR` directory, and there\n",
      "    is a separate configuration directory for each profile. The default profile\n",
      "    directory will be located in $IPYTHONDIR/profile_default. IPYTHONDIR\n",
      "    defaults to to `$HOME/.ipython`.  For Windows users, $HOME resolves to\n",
      "    C:\\Users\\YourUserName in most instances.\n",
      "\n",
      "    To initialize a profile with the default configuration file, do::\n",
      "\n",
      "      $> ipython profile create\n",
      "\n",
      "    and start editing `IPYTHONDIR/profile_default/ipython_config.py`\n",
      "\n",
      "    In IPython's documentation, we will refer to this directory as\n",
      "    `IPYTHONDIR`, you can change its default location by creating an\n",
      "    environment variable with this name and setting it to the desired path.\n",
      "\n",
      "    For more information, see the manual available in HTML and PDF in your\n",
      "    installation, or online at https://ipython.org/documentation.html.\n",
      "\n",
      "Subcommands\n",
      "-----------\n",
      "\n",
      "Subcommands are launched as `ipython cmd [args]`. For information on using\n",
      "subcommand 'cmd', do: `ipython cmd -h`.\n",
      "\n",
      "profile\n",
      "    Create and manage IPython profiles.\n",
      "kernel\n",
      "    Start a kernel without an attached frontend.\n",
      "locate\n",
      "    print the path to the IPython dir\n",
      "history\n",
      "    Manage the IPython history database.\n",
      "qtconsole\n",
      "    DEPRECATED, Will be removed in IPython 6.0 : Launch the Jupyter Qt Console.\n",
      "notebook\n",
      "    DEPRECATED, Will be removed in IPython 6.0 : Launch the Jupyter HTML Notebook Server.\n",
      "console\n",
      "    DEPRECATED, Will be removed in IPython 6.0 : Launch the Jupyter terminal-based Console.\n",
      "nbconvert\n",
      "    DEPRECATED, Will be removed in IPython 6.0 : Convert notebooks to/from other formats.\n",
      "trust\n",
      "    DEPRECATED, Will be removed in IPython 6.0 : Sign notebooks to trust their potentially unsafe contents at load.\n",
      "kernelspec\n",
      "    DEPRECATED, Will be removed in IPython 6.0 : Manage Jupyter kernel specifications.\n",
      "install-nbextension\n",
      "    DEPRECATED, Will be removed in IPython 6.0 : Install Jupyter notebook extension files\n",
      "\n",
      "Options\n",
      "-------\n",
      "\n",
      "Arguments that take values are actually convenience aliases to full\n",
      "Configurables, whose aliases are listed on the help line. For more information\n",
      "on full configurables, see '--help-all'.\n",
      "\n",
      "--debug\n",
      "    set log level to logging.DEBUG (maximize logging output)\n",
      "--quiet\n",
      "    set log level to logging.CRITICAL (minimize logging output)\n",
      "--init\n",
      "    Initialize profile with default config files.  This is equivalent\n",
      "    to running `ipython profile create <profile>` prior to startup.\n",
      "--autoindent\n",
      "    Turn on autoindenting.\n",
      "--no-autoindent\n",
      "    Turn off autoindenting.\n",
      "--automagic\n",
      "    Turn on the auto calling of magic commands. Type %%magic at the\n",
      "    IPython  prompt  for  more information.\n",
      "--no-automagic\n",
      "    Turn off the auto calling of magic commands.\n",
      "--pdb\n",
      "    Enable auto calling the pdb debugger after every exception.\n",
      "--no-pdb\n",
      "    Disable auto calling the pdb debugger after every exception.\n",
      "--pprint\n",
      "    Enable auto pretty printing of results.\n",
      "--no-pprint\n",
      "    Disable auto pretty printing of results.\n",
      "--color-info\n",
      "    IPython can display information about objects via a set of functions,\n",
      "    and optionally can use colors for this, syntax highlighting\n",
      "    source code and various other elements. This is on by default, but can cause\n",
      "    problems with some pagers. If you see such problems, you can disable the\n",
      "    colours.\n",
      "--no-color-info\n",
      "    Disable using colors for info related things.\n",
      "--nosep\n",
      "    Eliminate all spacing between prompts.\n",
      "--pylab\n",
      "    Pre-load matplotlib and numpy for interactive use with\n",
      "    the default matplotlib backend.\n",
      "--matplotlib\n",
      "    Configure matplotlib for interactive use with\n",
      "    the default matplotlib backend.\n",
      "--autoedit-syntax\n",
      "    Turn on auto editing of files with syntax errors.\n",
      "--no-autoedit-syntax\n",
      "    Turn off auto editing of files with syntax errors.\n",
      "--simple-prompt\n",
      "    Force simple minimal prompt using `raw_input`\n",
      "--no-simple-prompt\n",
      "    Use a rich interactive prompt with prompt_toolkit\n",
      "--banner\n",
      "    Display a banner upon starting IPython.\n",
      "--no-banner\n",
      "    Don't display a banner upon starting IPython.\n",
      "--confirm-exit\n",
      "    Set to confirm when you try to exit IPython with an EOF (Control-D\n",
      "    in Unix, Control-Z/Enter in Windows). By typing 'exit' or 'quit',\n",
      "    you can force a direct exit without any confirmation.\n",
      "--no-confirm-exit\n",
      "    Don't prompt the user when exiting.\n",
      "--term-title\n",
      "    Enable auto setting the terminal title.\n",
      "--no-term-title\n",
      "    Disable auto setting the terminal title.\n",
      "--classic\n",
      "    Gives IPython a similar feel to the classic Python prompt.\n",
      "--quick\n",
      "    Enable quick startup with no config files.\n",
      "-i\n",
      "    If running code from the command line, become interactive afterwards.\n",
      "    It is often useful to follow this with `--` to treat remaining flags as\n",
      "    script arguments.\n",
      "--profile-dir=<Unicode> (ProfileDir.location)\n",
      "    Default: ''\n",
      "    Set the profile location directly. This overrides the logic used by the\n",
      "    `profile` option.\n",
      "--profile=<Unicode> (BaseIPythonApplication.profile)\n",
      "    Default: 'default'\n",
      "    The IPython profile to use.\n",
      "--ipython-dir=<Unicode> (BaseIPythonApplication.ipython_dir)\n",
      "    Default: ''\n",
      "    The name of the IPython directory. This directory is used for logging\n",
      "    configuration (through profiles), history storage, etc. The default is\n",
      "    usually $HOME/.ipython. This option can also be specified through the\n",
      "    environment variable IPYTHONDIR.\n",
      "--log-level=<Enum> (Application.log_level)\n",
      "    Default: 30\n",
      "    Choices: (0, 10, 20, 30, 40, 50, 'DEBUG', 'INFO', 'WARN', 'ERROR', 'CRITICAL')\n",
      "    Set the log level by value or name.\n",
      "--config=<Unicode> (BaseIPythonApplication.extra_config_file)\n",
      "    Default: ''\n",
      "    Path to an extra config file to load.\n",
      "    If specified, load this config file in addition to any other IPython config.\n",
      "--autocall=<Enum> (InteractiveShell.autocall)\n",
      "    Default: 0\n",
      "    Choices: (0, 1, 2)\n",
      "    Make IPython automatically call any callable object even if you didn't type\n",
      "    explicit parentheses. For example, 'str 43' becomes 'str(43)' automatically.\n",
      "    The value can be '0' to disable the feature, '1' for 'smart' autocall, where\n",
      "    it is not applied if there are no more arguments on the line, and '2' for\n",
      "    'full' autocall, where all callable objects are automatically called (even\n",
      "    if no arguments are present).\n",
      "--colors=<CaselessStrEnum> (InteractiveShell.colors)\n",
      "    Default: 'Neutral'\n",
      "    Choices: ['Neutral', 'NoColor', 'LightBG', 'Linux']\n",
      "    Set the color scheme (NoColor, Neutral, Linux, or LightBG).\n",
      "--logfile=<Unicode> (InteractiveShell.logfile)\n",
      "    Default: ''\n",
      "    The name of the logfile to use.\n",
      "--logappend=<Unicode> (InteractiveShell.logappend)\n",
      "    Default: ''\n",
      "    Start logging to the given file in append mode. Use `logfile` to specify a\n",
      "    log file to **overwrite** logs to.\n",
      "-c <Unicode> (InteractiveShellApp.code_to_run)\n",
      "    Default: ''\n",
      "    Execute the given command string.\n",
      "-m <Unicode> (InteractiveShellApp.module_to_run)\n",
      "    Default: ''\n",
      "    Run the module as a script.\n",
      "--ext=<Unicode> (InteractiveShellApp.extra_extension)\n",
      "    Default: ''\n",
      "    dotted module name of an IPython extension to load.\n",
      "--gui=<CaselessStrEnum> (InteractiveShellApp.gui)\n",
      "    Default: None\n",
      "    Choices: ['glut', 'gtk', 'gtk2', 'gtk3', 'osx', 'pyglet', 'qt', 'qt4', 'qt5', 'tk', 'wx', 'gtk2', 'qt4']\n",
      "    Enable GUI event loop integration with any of ('glut', 'gtk', 'gtk2',\n",
      "    'gtk3', 'osx', 'pyglet', 'qt', 'qt4', 'qt5', 'tk', 'wx', 'gtk2', 'qt4').\n",
      "--pylab=<CaselessStrEnum> (InteractiveShellApp.pylab)\n",
      "    Default: None\n",
      "    Choices: ['auto', 'agg', 'gtk', 'gtk3', 'inline', 'ipympl', 'nbagg', 'notebook', 'osx', 'pdf', 'ps', 'qt', 'qt4', 'qt5', 'svg', 'tk', 'widget', 'wx']\n",
      "    Pre-load matplotlib and numpy for interactive use, selecting a particular\n",
      "    matplotlib backend and loop integration.\n",
      "--matplotlib=<CaselessStrEnum> (InteractiveShellApp.matplotlib)\n",
      "    Default: None\n",
      "    Choices: ['auto', 'agg', 'gtk', 'gtk3', 'inline', 'ipympl', 'nbagg', 'notebook', 'osx', 'pdf', 'ps', 'qt', 'qt4', 'qt5', 'svg', 'tk', 'widget', 'wx']\n",
      "    Configure matplotlib for interactive use with the default matplotlib\n",
      "    backend.\n",
      "--cache-size=<Int> (InteractiveShell.cache_size)\n",
      "    Default: 1000\n",
      "    Set the size of the output cache.  The default is 1000, you can change it\n",
      "    permanently in your config file.  Setting it to 0 completely disables the\n",
      "    caching system, and the minimum value accepted is 3 (if you provide a value\n",
      "    less than 3, it is reset to 0 and a warning is issued).  This limit is\n",
      "    defined because otherwise you'll spend more time re-flushing a too small\n",
      "    cache than working\n",
      "\n",
      "To see all available configurables, use `--help-all`\n",
      "\n",
      "Examples\n",
      "--------\n",
      "\n",
      "    ipython --matplotlib       # enable matplotlib integration\n",
      "    ipython --matplotlib=qt    # enable matplotlib integration with qt4 backend\n",
      "    \n",
      "    ipython --log-level=DEBUG  # set logging to DEBUG\n",
      "    ipython --profile=foo      # start with profile foo\n",
      "    \n",
      "    ipython profile create foo # create profile foo w/ default config files\n",
      "    ipython help profile       # show the help for the profile subcmd\n",
      "    \n",
      "    ipython locate             # print the path to the IPython directory\n",
      "    ipython locate profile foo # print the path to the directory for profile `foo`\n",
      "\n"
     ]
    }
   ],
   "source": [
    "!ipython -h"
   ]
  },
  {
   "cell_type": "markdown",
   "metadata": {},
   "source": [
    "This is an important trick for finding out configuration info:\n",
    "    \n",
    "    $> ipython [subcommand] --help-all | grep [-C context] PATTERN\n",
    "\n",
    "`--help-all` exposes everything configurable in IPython,\n",
    "there is a good chance you will find what you are looking for."
   ]
  },
  {
   "cell_type": "markdown",
   "metadata": {},
   "source": [
    "A common configuration question is:\n",
    "\n",
    "> how do I disable the \"Do you really want to exit\" message when quitting with `Ctrl-d`?\n",
    "\n",
    "Well, logically this has to do with `exit`, so let's look for it:"
   ]
  },
  {
   "cell_type": "code",
   "execution_count": 2,
   "metadata": {
    "collapsed": false,
    "jupyter": {
     "outputs_hidden": false
    }
   },
   "outputs": [
    {
     "name": "stdout",
     "output_type": "stream",
     "text": [
      "    If invoked with no options, it executes the file and \u001b[1;31;46m\u001b[Kexit\u001b[m\u001b[Ks, passing the\n",
      "    IPython session after running the script, rather than \u001b[1;31;46m\u001b[Kexit\u001b[m\u001b[King. Files ending\n",
      "--confirm-\u001b[1;31;46m\u001b[Kexit\u001b[m\u001b[K\n",
      "    Set to confirm when you try to \u001b[1;31;46m\u001b[Kexit\u001b[m\u001b[K IPython with an EOF (Control-D\n",
      "    in Unix, Control-Z/Enter in Windows). By typing '\u001b[1;31;46m\u001b[Kexit\u001b[m\u001b[K' or 'quit',\n",
      "    you can force a direct \u001b[1;31;46m\u001b[Kexit\u001b[m\u001b[K without any confirmation.\n",
      "--no-confirm-\u001b[1;31;46m\u001b[Kexit\u001b[m\u001b[K\n",
      "    Don't prompt the user when \u001b[1;31;46m\u001b[Kexit\u001b[m\u001b[King.\n",
      "--TerminalInteractiveShell.confirm_\u001b[1;31;46m\u001b[Kexit\u001b[m\u001b[K=<Bool>\n",
      "    Set to confirm when you try to \u001b[1;31;46m\u001b[Kexit\u001b[m\u001b[K IPython with an EOF (Control-D in Unix,\n",
      "    Control-Z/Enter in Windows). By typing '\u001b[1;31;46m\u001b[Kexit\u001b[m\u001b[K' or 'quit', you can force a\n",
      "    direct \u001b[1;31;46m\u001b[Kexit\u001b[m\u001b[K without any confirmation.\n"
     ]
    }
   ],
   "source": [
    "!ipython --help-all | GREP_COLOR='1;31;46' grep --color exit"
   ]
  },
  {
   "cell_type": "markdown",
   "metadata": {},
   "source": [
    "Which shows me that I can disable the confirmation for a single IPython session with\n",
    "\n",
    "    $> ipython --no-confirm-exit\n",
    "    \n",
    "or I can set the `TerminalInteractiveShell.confirm_exit=False` in a config file,\n",
    "to have it be the default behavior."
   ]
  },
  {
   "cell_type": "markdown",
   "metadata": {},
   "source": [
    "## Configuration principles"
   ]
  },
  {
   "cell_type": "markdown",
   "metadata": {},
   "source": [
    "Here are the design principles of the IPython configuration system: \n",
    "\n",
    "* Configuration is always done using class attributes\n",
    "* Classes that have configurable attributes are subclasses of `Configurable`\n",
    "* Attributes that are configurable are typed traitlets objects (`Bool`, `Unicode`, etc.) that have `config=True`\n",
    "* In config files, configurable attributes can be set using the format `Class.attr_name=the_value`\n",
    "* At the command line, configurable attributes can be set using the syntax `--Class.attr_name=the_value`\n",
    "* At the command line, some attributes have shorthands of the form `--attr-name=value`\n",
    "* Values set at the command line have higher priority than those set in config files"
   ]
  },
  {
   "cell_type": "markdown",
   "metadata": {},
   "source": [
    "## The IPython Profile"
   ]
  },
  {
   "cell_type": "markdown",
   "metadata": {},
   "source": [
    "IPython has a notion of 'profiles' - these are directories that live in your IPYTHONDIR,\n",
    "which contain configuration and runtime information.\n",
    "\n",
    "Let's create the default profile"
   ]
  },
  {
   "cell_type": "code",
   "execution_count": 3,
   "metadata": {
    "collapsed": false,
    "jupyter": {
     "outputs_hidden": false
    }
   },
   "outputs": [],
   "source": [
    "!ipython profile create newprofile"
   ]
  },
  {
   "cell_type": "markdown",
   "metadata": {},
   "source": [
    "This creates a profile in your IPYTHONDIR (`ipython locate` is a quick way to see where your IPYTHONDIR is),\n",
    "and populates it with automatically generated default config files."
   ]
  },
  {
   "cell_type": "code",
   "execution_count": 4,
   "metadata": {
    "collapsed": false,
    "jupyter": {
     "outputs_hidden": false
    }
   },
   "outputs": [
    {
     "name": "stdout",
     "output_type": "stream",
     "text": [
      "/p/project/cjsc/goebbert1/.ipython/profile_default\n",
      "/p/project/cjsc/goebbert1/.ipython/profile_newprofile\n"
     ]
    }
   ],
   "source": [
    "!ipython locate profile default\n",
    "!ipython locate profile newprofile"
   ]
  },
  {
   "cell_type": "markdown",
   "metadata": {},
   "source": [
    "You can skim"
   ]
  },
  {
   "cell_type": "code",
   "execution_count": 5,
   "metadata": {
    "collapsed": false,
    "jupyter": {
     "outputs_hidden": false
    }
   },
   "outputs": [
    {
     "data": {
      "text/plain": [
       "'/p/project/cjsc/goebbert1/.ipython/profile_default'"
      ]
     },
     "execution_count": 5,
     "metadata": {},
     "output_type": "execute_result"
    }
   ],
   "source": [
    "profile = get_ipython().profile_dir.location\n",
    "profile"
   ]
  },
  {
   "cell_type": "code",
   "execution_count": 6,
   "metadata": {
    "collapsed": false,
    "jupyter": {
     "outputs_hidden": false
    }
   },
   "outputs": [
    {
     "name": "stdout",
     "output_type": "stream",
     "text": [
      "\u001b[0m\u001b[01;34mdb\u001b[0m/  history.sqlite  \u001b[01;34mlog\u001b[0m/  \u001b[01;34mpid\u001b[0m/  \u001b[01;34msecurity\u001b[0m/  \u001b[01;34mstartup\u001b[0m/\n"
     ]
    }
   ],
   "source": [
    "ls $profile"
   ]
  },
  {
   "cell_type": "markdown",
   "metadata": {},
   "source": [
    "Let's peek at our config file"
   ]
  },
  {
   "cell_type": "code",
   "execution_count": 7,
   "metadata": {
    "collapsed": false,
    "jupyter": {
     "outputs_hidden": false
    }
   },
   "outputs": [
    {
     "name": "stdout",
     "output_type": "stream",
     "text": [
      "Error: no such file, variable, URL, history range or macro\n"
     ]
    }
   ],
   "source": [
    "pycat $profile/ipython_config.py"
   ]
  },
  {
   "cell_type": "markdown",
   "metadata": {},
   "source": [
    "## The %config magic"
   ]
  },
  {
   "cell_type": "markdown",
   "metadata": {},
   "source": [
    "The `%config` magic lets you do some configuration at runtime, rather than in configuration files."
   ]
  },
  {
   "cell_type": "code",
   "execution_count": 8,
   "metadata": {
    "collapsed": false,
    "jupyter": {
     "outputs_hidden": false
    }
   },
   "outputs": [],
   "source": [
    "%matplotlib inline"
   ]
  },
  {
   "cell_type": "markdown",
   "metadata": {},
   "source": [
    "`%config` with no arguments will show you what configurable objects exist:"
   ]
  },
  {
   "cell_type": "code",
   "execution_count": 9,
   "metadata": {
    "collapsed": false,
    "jupyter": {
     "outputs_hidden": false
    }
   },
   "outputs": [
    {
     "name": "stdout",
     "output_type": "stream",
     "text": [
      "Available objects for config:\n",
      "     AliasManager\n",
      "     DisplayFormatter\n",
      "     HistoryManager\n",
      "     IPCompleter\n",
      "     IPKernelApp\n",
      "     InlineBackend\n",
      "     LoggingMagics\n",
      "     MagicsManager\n",
      "     OSMagics\n",
      "     PrefilterManager\n",
      "     ScriptMagics\n",
      "     StoreMagics\n",
      "     ZMQInteractiveShell\n"
     ]
    }
   ],
   "source": [
    "%config"
   ]
  },
  {
   "cell_type": "markdown",
   "metadata": {},
   "source": [
    "And `%config Class` will show you the config for that class:"
   ]
  },
  {
   "cell_type": "code",
   "execution_count": 10,
   "metadata": {
    "collapsed": false,
    "jupyter": {
     "outputs_hidden": false
    }
   },
   "outputs": [
    {
     "name": "stdout",
     "output_type": "stream",
     "text": [
      "InlineBackend options\n",
      "-------------------\n",
      "InlineBackend.close_figures=<Bool>\n",
      "    Current: True\n",
      "    Close all figures at the end of each cell.\n",
      "    When True, ensures that each cell starts with no active figures, but it also\n",
      "    means that one must keep track of references in order to edit or redraw\n",
      "    figures in subsequent cells. This mode is ideal for the notebook, where\n",
      "    residual plots from other cells might be surprising.\n",
      "    When False, one must call figure() to create new figures. This means that\n",
      "    gcf() and getfigs() can reference figures created in other cells, and the\n",
      "    active figure can continue to be edited with pylab/pyplot methods that\n",
      "    reference the current active figure. This mode facilitates iterative editing\n",
      "    of figures, and behaves most consistently with other matplotlib backends,\n",
      "    but figure barriers between cells must be explicit.\n",
      "InlineBackend.figure_format=<Unicode>\n",
      "    Current: ''\n",
      "    The figure format to enable (deprecated use `figure_formats` instead)\n",
      "InlineBackend.figure_formats=<Set>\n",
      "    Current: {'png'}\n",
      "    A set of figure formats to enable: 'png', 'retina', 'jpeg', 'svg', 'pdf'.\n",
      "InlineBackend.print_figure_kwargs=<Dict>\n",
      "    Current: {'bbox_inches': 'tight'}\n",
      "    Extra kwargs to be passed to fig.canvas.print_figure.\n",
      "    Logical examples include: bbox_inches, quality (for jpeg figures), etc.\n",
      "InlineBackend.rc=<Dict>\n",
      "    Current: {'figure.figsize': (6.0, 4.0), 'figure.facecolor': (1, 1, 1, 0), 'figure.edgecolor': (1, 1, 1, 0), 'font.size': 10, 'figure.dpi': 72, 'figure.subplot.bottom': 0.125}\n",
      "    Subset of matplotlib rcParams that should be different for the inline\n",
      "    backend.\n"
     ]
    }
   ],
   "source": [
    "%config InlineBackend"
   ]
  },
  {
   "cell_type": "markdown",
   "metadata": {},
   "source": [
    "Most importantly, the `%config` magic can be used to change the value of a configurable attribute at runtime. Here we tell the inline matplotlib backend to use SVG instead of the default PNG"
   ]
  },
  {
   "cell_type": "code",
   "execution_count": 11,
   "metadata": {
    "collapsed": false,
    "jupyter": {
     "outputs_hidden": false
    }
   },
   "outputs": [
    {
     "data": {
      "text/plain": [
       "[<matplotlib.lines.Line2D at 0x2af74cb748d0>]"
      ]
     },
     "execution_count": 11,
     "metadata": {},
     "output_type": "execute_result"
    },
    {
     "data": {
      "image/png": "[encoded data removed]",
      "text/plain": [
       "<Figure size 432x288 with 1 Axes>"
      ]
     },
     "metadata": {
      "needs_background": "light"
     },
     "output_type": "display_data"
    }
   ],
   "source": [
    "import numpy as np\n",
    "import matplotlib.pyplot as plt\n",
    "\n",
    "x = np.linspace(0,10,1000)\n",
    "y = np.sin(x)\n",
    "plt.plot(x,y)"
   ]
  },
  {
   "cell_type": "code",
   "execution_count": 12,
   "metadata": {
    "collapsed": false,
    "jupyter": {
     "outputs_hidden": false
    }
   },
   "outputs": [],
   "source": [
    "%config InlineBackend.figure_format = 'svg'"
   ]
  },
  {
   "cell_type": "code",
   "execution_count": 13,
   "metadata": {
    "collapsed": false,
    "jupyter": {
     "outputs_hidden": false
    }
   },
   "outputs": [
    {
     "data": {
      "text/plain": [
       "[<matplotlib.lines.Line2D at 0x2af74cda7588>]"
      ]
     },
     "execution_count": 13,
     "metadata": {},
     "output_type": "execute_result"
    },
    {
     "data": {
      "image/svg+xml": [
       "<?xml version=\"1.0\" encoding=\"utf-8\" standalone=\"no\"?>\n",
       "<!DOCTYPE svg PUBLIC \"-//W3C//DTD SVG 1.1//EN\"\n",
       "  \"http://www.w3.org/Graphics/SVG/1.1/DTD/svg11.dtd\">\n",
       "<!-- Created with matplotlib (https://matplotlib.org/) -->\n",
       "<svg height=\"252.018125pt\" version=\"1.1\" viewBox=\"0 0 390.345312 252.018125\" width=\"390.345312pt\" xmlns=\"http://www.w3.org/2000/svg\" xmlns:xlink=\"http://www.w3.org/1999/xlink\">\n",
       " <defs>\n",
       "  <style type=\"text/css\">\n",
       "*{stroke-linecap:butt;stroke-linejoin:round;}\n",
       "  </style>\n",
       " </defs>\n",
       " <g id=\"figure_1\">\n",
       "  <g id=\"patch_1\">\n",
       "   <path d=\"M 0 252.018125 \n",
       "L 390.345312 252.018125 \n",
       "L 390.345312 0 \n",
       "L 0 0 \n",
       "z\n",
       "\" style=\"fill:none;\"/>\n",
       "  </g>\n",
       "  <g id=\"axes_1\">\n",
       "   <g id=\"patch_2\">\n",
       "    <path d=\"M 44.845313 228.14 \n",
       "L 379.645313 228.14 \n",
       "L 379.645313 10.7 \n",
       "L 44.845313 10.7 \n",
       "z\n",
       "\" style=\"fill:#ffffff;\"/>\n",
       "   </g>\n",
       "   <g id=\"matplotlib.axis_1\">\n",
       "    <g id=\"xtick_1\">\n",
       "     <g id=\"line2d_1\">\n",
       "      <defs>\n",
       "       <path d=\"M 0 0 \n",
       "L 0 3.5 \n",
       "\" id=\"mb5f5f68425\" style=\"stroke:#000000;stroke-width:0.8;\"/>\n",
       "      </defs>\n",
       "      <g>\n",
       "       <use style=\"stroke:#000000;stroke-width:0.8;\" x=\"60.063494\" xlink:href=\"#mb5f5f68425\" y=\"228.14\"/>\n",
       "      </g>\n",
       "     </g>\n",
       "     <g id=\"text_1\">\n",
       "      <!-- 0 -->\n",
       "      <defs>\n",
       "       <path d=\"M 31.78125 66.40625 \n",
       "Q 24.171875 66.40625 20.328125 58.90625 \n",
       "Q 16.5 51.421875 16.5 36.375 \n",
       "Q 16.5 21.390625 20.328125 13.890625 \n",
       "Q 24.171875 6.390625 31.78125 6.390625 \n",
       "Q 39.453125 6.390625 43.28125 13.890625 \n",
       "Q 47.125 21.390625 47.125 36.375 \n",
       "Q 47.125 51.421875 43.28125 58.90625 \n",
       "Q 39.453125 66.40625 31.78125 66.40625 \n",
       "z\n",
       "M 31.78125 74.21875 \n",
       "Q 44.046875 74.21875 50.515625 64.515625 \n",
       "Q 56.984375 54.828125 56.984375 36.375 \n",
       "Q 56.984375 17.96875 50.515625 8.265625 \n",
       "Q 44.046875 -1.421875 31.78125 -1.421875 \n",
       "Q 19.53125 -1.421875 13.0625 8.265625 \n",
       "Q 6.59375 17.96875 6.59375 36.375 \n",
       "Q 6.59375 54.828125 13.0625 64.515625 \n",
       "Q 19.53125 74.21875 31.78125 74.21875 \n",
       "z\n",
       "\" id=\"DejaVuSans-48\"/>\n",
       "      </defs>\n",
       "      <g transform=\"translate(56.882244 242.738437)scale(0.1 -0.1)\">\n",
       "       <use xlink:href=\"#DejaVuSans-48\"/>\n",
       "      </g>\n",
       "     </g>\n",
       "    </g>\n",
       "    <g id=\"xtick_2\">\n",
       "     <g id=\"line2d_2\">\n",
       "      <g>\n",
       "       <use style=\"stroke:#000000;stroke-width:0.8;\" x=\"120.936222\" xlink:href=\"#mb5f5f68425\" y=\"228.14\"/>\n",
       "      </g>\n",
       "     </g>\n",
       "     <g id=\"text_2\">\n",
       "      <!-- 2 -->\n",
       "      <defs>\n",
       "       <path d=\"M 19.1875 8.296875 \n",
       "L 53.609375 8.296875 \n",
       "L 53.609375 0 \n",
       "L 7.328125 0 \n",
       "L 7.328125 8.296875 \n",
       "Q 12.9375 14.109375 22.625 23.890625 \n",
       "Q 32.328125 33.6875 34.8125 36.53125 \n",
       "Q 39.546875 41.84375 41.421875 45.53125 \n",
       "Q 43.3125 49.21875 43.3125 52.78125 \n",
       "Q 43.3125 58.59375 39.234375 62.25 \n",
       "Q 35.15625 65.921875 28.609375 65.921875 \n",
       "Q 23.96875 65.921875 18.8125 64.3125 \n",
       "Q 13.671875 62.703125 7.8125 59.421875 \n",
       "L 7.8125 69.390625 \n",
       "Q 13.765625 71.78125 18.9375 73 \n",
       "Q 24.125 74.21875 28.421875 74.21875 \n",
       "Q 39.75 74.21875 46.484375 68.546875 \n",
       "Q 53.21875 62.890625 53.21875 53.421875 \n",
       "Q 53.21875 48.921875 51.53125 44.890625 \n",
       "Q 49.859375 40.875 45.40625 35.40625 \n",
       "Q 44.1875 33.984375 37.640625 27.21875 \n",
       "Q 31.109375 20.453125 19.1875 8.296875 \n",
       "z\n",
       "\" id=\"DejaVuSans-50\"/>\n",
       "      </defs>\n",
       "      <g transform=\"translate(117.754972 242.738437)scale(0.1 -0.1)\">\n",
       "       <use xlink:href=\"#DejaVuSans-50\"/>\n",
       "      </g>\n",
       "     </g>\n",
       "    </g>\n",
       "    <g id=\"xtick_3\">\n",
       "     <g id=\"line2d_3\">\n",
       "      <g>\n",
       "       <use style=\"stroke:#000000;stroke-width:0.8;\" x=\"181.808949\" xlink:href=\"#mb5f5f68425\" y=\"228.14\"/>\n",
       "      </g>\n",
       "     </g>\n",
       "     <g id=\"text_3\">\n",
       "      <!-- 4 -->\n",
       "      <defs>\n",
       "       <path d=\"M 37.796875 64.3125 \n",
       "L 12.890625 25.390625 \n",
       "L 37.796875 25.390625 \n",
       "z\n",
       "M 35.203125 72.90625 \n",
       "L 47.609375 72.90625 \n",
       "L 47.609375 25.390625 \n",
       "L 58.015625 25.390625 \n",
       "L 58.015625 17.1875 \n",
       "L 47.609375 17.1875 \n",
       "L 47.609375 0 \n",
       "L 37.796875 0 \n",
       "L 37.796875 17.1875 \n",
       "L 4.890625 17.1875 \n",
       "L 4.890625 26.703125 \n",
       "z\n",
       "\" id=\"DejaVuSans-52\"/>\n",
       "      </defs>\n",
       "      <g transform=\"translate(178.627699 242.738437)scale(0.1 -0.1)\">\n",
       "       <use xlink:href=\"#DejaVuSans-52\"/>\n",
       "      </g>\n",
       "     </g>\n",
       "    </g>\n",
       "    <g id=\"xtick_4\">\n",
       "     <g id=\"line2d_4\">\n",
       "      <g>\n",
       "       <use style=\"stroke:#000000;stroke-width:0.8;\" x=\"242.681676\" xlink:href=\"#mb5f5f68425\" y=\"228.14\"/>\n",
       "      </g>\n",
       "     </g>\n",
       "     <g id=\"text_4\">\n",
       "      <!-- 6 -->\n",
       "      <defs>\n",
       "       <path d=\"M 33.015625 40.375 \n",
       "Q 26.375 40.375 22.484375 35.828125 \n",
       "Q 18.609375 31.296875 18.609375 23.390625 \n",
       "Q 18.609375 15.53125 22.484375 10.953125 \n",
       "Q 26.375 6.390625 33.015625 6.390625 \n",
       "Q 39.65625 6.390625 43.53125 10.953125 \n",
       "Q 47.40625 15.53125 47.40625 23.390625 \n",
       "Q 47.40625 31.296875 43.53125 35.828125 \n",
       "Q 39.65625 40.375 33.015625 40.375 \n",
       "z\n",
       "M 52.59375 71.296875 \n",
       "L 52.59375 62.3125 \n",
       "Q 48.875 64.0625 45.09375 64.984375 \n",
       "Q 41.3125 65.921875 37.59375 65.921875 \n",
       "Q 27.828125 65.921875 22.671875 59.328125 \n",
       "Q 17.53125 52.734375 16.796875 39.40625 \n",
       "Q 19.671875 43.65625 24.015625 45.921875 \n",
       "Q 28.375 48.1875 33.59375 48.1875 \n",
       "Q 44.578125 48.1875 50.953125 41.515625 \n",
       "Q 57.328125 34.859375 57.328125 23.390625 \n",
       "Q 57.328125 12.15625 50.6875 5.359375 \n",
       "Q 44.046875 -1.421875 33.015625 -1.421875 \n",
       "Q 20.359375 -1.421875 13.671875 8.265625 \n",
       "Q 6.984375 17.96875 6.984375 36.375 \n",
       "Q 6.984375 53.65625 15.1875 63.9375 \n",
       "Q 23.390625 74.21875 37.203125 74.21875 \n",
       "Q 40.921875 74.21875 44.703125 73.484375 \n",
       "Q 48.484375 72.75 52.59375 71.296875 \n",
       "z\n",
       "\" id=\"DejaVuSans-54\"/>\n",
       "      </defs>\n",
       "      <g transform=\"translate(239.500426 242.738437)scale(0.1 -0.1)\">\n",
       "       <use xlink:href=\"#DejaVuSans-54\"/>\n",
       "      </g>\n",
       "     </g>\n",
       "    </g>\n",
       "    <g id=\"xtick_5\">\n",
       "     <g id=\"line2d_5\">\n",
       "      <g>\n",
       "       <use style=\"stroke:#000000;stroke-width:0.8;\" x=\"303.554403\" xlink:href=\"#mb5f5f68425\" y=\"228.14\"/>\n",
       "      </g>\n",
       "     </g>\n",
       "     <g id=\"text_5\">\n",
       "      <!-- 8 -->\n",
       "      <defs>\n",
       "       <path d=\"M 31.78125 34.625 \n",
       "Q 24.75 34.625 20.71875 30.859375 \n",
       "Q 16.703125 27.09375 16.703125 20.515625 \n",
       "Q 16.703125 13.921875 20.71875 10.15625 \n",
       "Q 24.75 6.390625 31.78125 6.390625 \n",
       "Q 38.8125 6.390625 42.859375 10.171875 \n",
       "Q 46.921875 13.96875 46.921875 20.515625 \n",
       "Q 46.921875 27.09375 42.890625 30.859375 \n",
       "Q 38.875 34.625 31.78125 34.625 \n",
       "z\n",
       "M 21.921875 38.8125 \n",
       "Q 15.578125 40.375 12.03125 44.71875 \n",
       "Q 8.5 49.078125 8.5 55.328125 \n",
       "Q 8.5 64.0625 14.71875 69.140625 \n",
       "Q 20.953125 74.21875 31.78125 74.21875 \n",
       "Q 42.671875 74.21875 48.875 69.140625 \n",
       "Q 55.078125 64.0625 55.078125 55.328125 \n",
       "Q 55.078125 49.078125 51.53125 44.71875 \n",
       "Q 48 40.375 41.703125 38.8125 \n",
       "Q 48.828125 37.15625 52.796875 32.3125 \n",
       "Q 56.78125 27.484375 56.78125 20.515625 \n",
       "Q 56.78125 9.90625 50.3125 4.234375 \n",
       "Q 43.84375 -1.421875 31.78125 -1.421875 \n",
       "Q 19.734375 -1.421875 13.25 4.234375 \n",
       "Q 6.78125 9.90625 6.78125 20.515625 \n",
       "Q 6.78125 27.484375 10.78125 32.3125 \n",
       "Q 14.796875 37.15625 21.921875 38.8125 \n",
       "z\n",
       "M 18.3125 54.390625 \n",
       "Q 18.3125 48.734375 21.84375 45.5625 \n",
       "Q 25.390625 42.390625 31.78125 42.390625 \n",
       "Q 38.140625 42.390625 41.71875 45.5625 \n",
       "Q 45.3125 48.734375 45.3125 54.390625 \n",
       "Q 45.3125 60.0625 41.71875 63.234375 \n",
       "Q 38.140625 66.40625 31.78125 66.40625 \n",
       "Q 25.390625 66.40625 21.84375 63.234375 \n",
       "Q 18.3125 60.0625 18.3125 54.390625 \n",
       "z\n",
       "\" id=\"DejaVuSans-56\"/>\n",
       "      </defs>\n",
       "      <g transform=\"translate(300.373153 242.738437)scale(0.1 -0.1)\">\n",
       "       <use xlink:href=\"#DejaVuSans-56\"/>\n",
       "      </g>\n",
       "     </g>\n",
       "    </g>\n",
       "    <g id=\"xtick_6\">\n",
       "     <g id=\"line2d_6\">\n",
       "      <g>\n",
       "       <use style=\"stroke:#000000;stroke-width:0.8;\" x=\"364.427131\" xlink:href=\"#mb5f5f68425\" y=\"228.14\"/>\n",
       "      </g>\n",
       "     </g>\n",
       "     <g id=\"text_6\">\n",
       "      <!-- 10 -->\n",
       "      <defs>\n",
       "       <path d=\"M 12.40625 8.296875 \n",
       "L 28.515625 8.296875 \n",
       "L 28.515625 63.921875 \n",
       "L 10.984375 60.40625 \n",
       "L 10.984375 69.390625 \n",
       "L 28.421875 72.90625 \n",
       "L 38.28125 72.90625 \n",
       "L 38.28125 8.296875 \n",
       "L 54.390625 8.296875 \n",
       "L 54.390625 0 \n",
       "L 12.40625 0 \n",
       "z\n",
       "\" id=\"DejaVuSans-49\"/>\n",
       "      </defs>\n",
       "      <g transform=\"translate(358.064631 242.738437)scale(0.1 -0.1)\">\n",
       "       <use xlink:href=\"#DejaVuSans-49\"/>\n",
       "       <use x=\"63.623047\" xlink:href=\"#DejaVuSans-48\"/>\n",
       "      </g>\n",
       "     </g>\n",
       "    </g>\n",
       "   </g>\n",
       "   <g id=\"matplotlib.axis_2\">\n",
       "    <g id=\"ytick_1\">\n",
       "     <g id=\"line2d_7\">\n",
       "      <defs>\n",
       "       <path d=\"M 0 0 \n",
       "L -3.5 0 \n",
       "\" id=\"m716dd58523\" style=\"stroke:#000000;stroke-width:0.8;\"/>\n",
       "      </defs>\n",
       "      <g>\n",
       "       <use style=\"stroke:#000000;stroke-width:0.8;\" x=\"44.845313\" xlink:href=\"#m716dd58523\" y=\"218.256631\"/>\n",
       "      </g>\n",
       "     </g>\n",
       "     <g id=\"text_7\">\n",
       "      <!-- −1.00 -->\n",
       "      <defs>\n",
       "       <path d=\"M 10.59375 35.5 \n",
       "L 73.1875 35.5 \n",
       "L 73.1875 27.203125 \n",
       "L 10.59375 27.203125 \n",
       "z\n",
       "\" id=\"DejaVuSans-8722\"/>\n",
       "       <path d=\"M 10.6875 12.40625 \n",
       "L 21 12.40625 \n",
       "L 21 0 \n",
       "L 10.6875 0 \n",
       "z\n",
       "\" id=\"DejaVuSans-46\"/>\n",
       "      </defs>\n",
       "      <g transform=\"translate(7.2 222.05585)scale(0.1 -0.1)\">\n",
       "       <use xlink:href=\"#DejaVuSans-8722\"/>\n",
       "       <use x=\"83.789062\" xlink:href=\"#DejaVuSans-49\"/>\n",
       "       <use x=\"147.412109\" xlink:href=\"#DejaVuSans-46\"/>\n",
       "       <use x=\"179.199219\" xlink:href=\"#DejaVuSans-48\"/>\n",
       "       <use x=\"242.822266\" xlink:href=\"#DejaVuSans-48\"/>\n",
       "      </g>\n",
       "     </g>\n",
       "    </g>\n",
       "    <g id=\"ytick_2\">\n",
       "     <g id=\"line2d_8\">\n",
       "      <g>\n",
       "       <use style=\"stroke:#000000;stroke-width:0.8;\" x=\"44.845313\" xlink:href=\"#m716dd58523\" y=\"193.547503\"/>\n",
       "      </g>\n",
       "     </g>\n",
       "     <g id=\"text_8\">\n",
       "      <!-- −0.75 -->\n",
       "      <defs>\n",
       "       <path d=\"M 8.203125 72.90625 \n",
       "L 55.078125 72.90625 \n",
       "L 55.078125 68.703125 \n",
       "L 28.609375 0 \n",
       "L 18.3125 0 \n",
       "L 43.21875 64.59375 \n",
       "L 8.203125 64.59375 \n",
       "z\n",
       "\" id=\"DejaVuSans-55\"/>\n",
       "       <path d=\"M 10.796875 72.90625 \n",
       "L 49.515625 72.90625 \n",
       "L 49.515625 64.59375 \n",
       "L 19.828125 64.59375 \n",
       "L 19.828125 46.734375 \n",
       "Q 21.96875 47.46875 24.109375 47.828125 \n",
       "Q 26.265625 48.1875 28.421875 48.1875 \n",
       "Q 40.625 48.1875 47.75 41.5 \n",
       "Q 54.890625 34.8125 54.890625 23.390625 \n",
       "Q 54.890625 11.625 47.5625 5.09375 \n",
       "Q 40.234375 -1.421875 26.90625 -1.421875 \n",
       "Q 22.3125 -1.421875 17.546875 -0.640625 \n",
       "Q 12.796875 0.140625 7.71875 1.703125 \n",
       "L 7.71875 11.625 \n",
       "Q 12.109375 9.234375 16.796875 8.0625 \n",
       "Q 21.484375 6.890625 26.703125 6.890625 \n",
       "Q 35.15625 6.890625 40.078125 11.328125 \n",
       "Q 45.015625 15.765625 45.015625 23.390625 \n",
       "Q 45.015625 31 40.078125 35.4375 \n",
       "Q 35.15625 39.890625 26.703125 39.890625 \n",
       "Q 22.75 39.890625 18.8125 39.015625 \n",
       "Q 14.890625 38.140625 10.796875 36.28125 \n",
       "z\n",
       "\" id=\"DejaVuSans-53\"/>\n",
       "      </defs>\n",
       "      <g transform=\"translate(7.2 197.346722)scale(0.1 -0.1)\">\n",
       "       <use xlink:href=\"#DejaVuSans-8722\"/>\n",
       "       <use x=\"83.789062\" xlink:href=\"#DejaVuSans-48\"/>\n",
       "       <use x=\"147.412109\" xlink:href=\"#DejaVuSans-46\"/>\n",
       "       <use x=\"179.199219\" xlink:href=\"#DejaVuSans-55\"/>\n",
       "       <use x=\"242.822266\" xlink:href=\"#DejaVuSans-53\"/>\n",
       "      </g>\n",
       "     </g>\n",
       "    </g>\n",
       "    <g id=\"ytick_3\">\n",
       "     <g id=\"line2d_9\">\n",
       "      <g>\n",
       "       <use style=\"stroke:#000000;stroke-width:0.8;\" x=\"44.845313\" xlink:href=\"#m716dd58523\" y=\"168.838375\"/>\n",
       "      </g>\n",
       "     </g>\n",
       "     <g id=\"text_9\">\n",
       "      <!-- −0.50 -->\n",
       "      <g transform=\"translate(7.2 172.637594)scale(0.1 -0.1)\">\n",
       "       <use xlink:href=\"#DejaVuSans-8722\"/>\n",
       "       <use x=\"83.789062\" xlink:href=\"#DejaVuSans-48\"/>\n",
       "       <use x=\"147.412109\" xlink:href=\"#DejaVuSans-46\"/>\n",
       "       <use x=\"179.199219\" xlink:href=\"#DejaVuSans-53\"/>\n",
       "       <use x=\"242.822266\" xlink:href=\"#DejaVuSans-48\"/>\n",
       "      </g>\n",
       "     </g>\n",
       "    </g>\n",
       "    <g id=\"ytick_4\">\n",
       "     <g id=\"line2d_10\">\n",
       "      <g>\n",
       "       <use style=\"stroke:#000000;stroke-width:0.8;\" x=\"44.845313\" xlink:href=\"#m716dd58523\" y=\"144.129247\"/>\n",
       "      </g>\n",
       "     </g>\n",
       "     <g id=\"text_10\">\n",
       "      <!-- −0.25 -->\n",
       "      <g transform=\"translate(7.2 147.928466)scale(0.1 -0.1)\">\n",
       "       <use xlink:href=\"#DejaVuSans-8722\"/>\n",
       "       <use x=\"83.789062\" xlink:href=\"#DejaVuSans-48\"/>\n",
       "       <use x=\"147.412109\" xlink:href=\"#DejaVuSans-46\"/>\n",
       "       <use x=\"179.199219\" xlink:href=\"#DejaVuSans-50\"/>\n",
       "       <use x=\"242.822266\" xlink:href=\"#DejaVuSans-53\"/>\n",
       "      </g>\n",
       "     </g>\n",
       "    </g>\n",
       "    <g id=\"ytick_5\">\n",
       "     <g id=\"line2d_11\">\n",
       "      <g>\n",
       "       <use style=\"stroke:#000000;stroke-width:0.8;\" x=\"44.845313\" xlink:href=\"#m716dd58523\" y=\"119.420119\"/>\n",
       "      </g>\n",
       "     </g>\n",
       "     <g id=\"text_11\">\n",
       "      <!-- 0.00 -->\n",
       "      <g transform=\"translate(15.579688 123.219338)scale(0.1 -0.1)\">\n",
       "       <use xlink:href=\"#DejaVuSans-48\"/>\n",
       "       <use x=\"63.623047\" xlink:href=\"#DejaVuSans-46\"/>\n",
       "       <use x=\"95.410156\" xlink:href=\"#DejaVuSans-48\"/>\n",
       "       <use x=\"159.033203\" xlink:href=\"#DejaVuSans-48\"/>\n",
       "      </g>\n",
       "     </g>\n",
       "    </g>\n",
       "    <g id=\"ytick_6\">\n",
       "     <g id=\"line2d_12\">\n",
       "      <g>\n",
       "       <use style=\"stroke:#000000;stroke-width:0.8;\" x=\"44.845313\" xlink:href=\"#m716dd58523\" y=\"94.710991\"/>\n",
       "      </g>\n",
       "     </g>\n",
       "     <g id=\"text_12\">\n",
       "      <!-- 0.25 -->\n",
       "      <g transform=\"translate(15.579688 98.51021)scale(0.1 -0.1)\">\n",
       "       <use xlink:href=\"#DejaVuSans-48\"/>\n",
       "       <use x=\"63.623047\" xlink:href=\"#DejaVuSans-46\"/>\n",
       "       <use x=\"95.410156\" xlink:href=\"#DejaVuSans-50\"/>\n",
       "       <use x=\"159.033203\" xlink:href=\"#DejaVuSans-53\"/>\n",
       "      </g>\n",
       "     </g>\n",
       "    </g>\n",
       "    <g id=\"ytick_7\">\n",
       "     <g id=\"line2d_13\">\n",
       "      <g>\n",
       "       <use style=\"stroke:#000000;stroke-width:0.8;\" x=\"44.845313\" xlink:href=\"#m716dd58523\" y=\"70.001863\"/>\n",
       "      </g>\n",
       "     </g>\n",
       "     <g id=\"text_13\">\n",
       "      <!-- 0.50 -->\n",
       "      <g transform=\"translate(15.579688 73.801081)scale(0.1 -0.1)\">\n",
       "       <use xlink:href=\"#DejaVuSans-48\"/>\n",
       "       <use x=\"63.623047\" xlink:href=\"#DejaVuSans-46\"/>\n",
       "       <use x=\"95.410156\" xlink:href=\"#DejaVuSans-53\"/>\n",
       "       <use x=\"159.033203\" xlink:href=\"#DejaVuSans-48\"/>\n",
       "      </g>\n",
       "     </g>\n",
       "    </g>\n",
       "    <g id=\"ytick_8\">\n",
       "     <g id=\"line2d_14\">\n",
       "      <g>\n",
       "       <use style=\"stroke:#000000;stroke-width:0.8;\" x=\"44.845313\" xlink:href=\"#m716dd58523\" y=\"45.292735\"/>\n",
       "      </g>\n",
       "     </g>\n",
       "     <g id=\"text_14\">\n",
       "      <!-- 0.75 -->\n",
       "      <g transform=\"translate(15.579688 49.091953)scale(0.1 -0.1)\">\n",
       "       <use xlink:href=\"#DejaVuSans-48\"/>\n",
       "       <use x=\"63.623047\" xlink:href=\"#DejaVuSans-46\"/>\n",
       "       <use x=\"95.410156\" xlink:href=\"#DejaVuSans-55\"/>\n",
       "       <use x=\"159.033203\" xlink:href=\"#DejaVuSans-53\"/>\n",
       "      </g>\n",
       "     </g>\n",
       "    </g>\n",
       "    <g id=\"ytick_9\">\n",
       "     <g id=\"line2d_15\">\n",
       "      <g>\n",
       "       <use style=\"stroke:#000000;stroke-width:0.8;\" x=\"44.845313\" xlink:href=\"#m716dd58523\" y=\"20.583607\"/>\n",
       "      </g>\n",
       "     </g>\n",
       "     <g id=\"text_15\">\n",
       "      <!-- 1.00 -->\n",
       "      <g transform=\"translate(15.579688 24.382825)scale(0.1 -0.1)\">\n",
       "       <use xlink:href=\"#DejaVuSans-49\"/>\n",
       "       <use x=\"63.623047\" xlink:href=\"#DejaVuSans-46\"/>\n",
       "       <use x=\"95.410156\" xlink:href=\"#DejaVuSans-48\"/>\n",
       "       <use x=\"159.033203\" xlink:href=\"#DejaVuSans-48\"/>\n",
       "      </g>\n",
       "     </g>\n",
       "    </g>\n",
       "   </g>\n",
       "   <g id=\"line2d_16\">\n",
       "    <path clip-path=\"url(#pb0cd11a2ac)\" d=\"M 60.063494 119.420119 \n",
       "L 68.594207 92.079468 \n",
       "L 73.164231 78.179397 \n",
       "L 76.820251 67.713154 \n",
       "L 80.171602 58.770216 \n",
       "L 83.218285 51.275045 \n",
       "L 85.9603 45.110709 \n",
       "L 88.397647 40.135827 \n",
       "L 90.834993 35.66911 \n",
       "L 92.967671 32.200175 \n",
       "L 95.100349 29.159298 \n",
       "L 96.928359 26.904904 \n",
       "L 98.756369 24.984131 \n",
       "L 100.584379 23.403906 \n",
       "L 102.10772 22.351341 \n",
       "L 103.631062 21.541884 \n",
       "L 105.154403 20.977561 \n",
       "L 106.677745 20.659786 \n",
       "L 108.201086 20.589355 \n",
       "L 109.724428 20.766444 \n",
       "L 111.24777 21.19061 \n",
       "L 112.771111 21.860789 \n",
       "L 114.294453 22.775305 \n",
       "L 115.817794 23.931866 \n",
       "L 117.645804 25.635119 \n",
       "L 119.473814 27.676572 \n",
       "L 121.301824 30.048864 \n",
       "L 123.434502 33.223204 \n",
       "L 125.56718 36.820582 \n",
       "L 128.004526 41.427136 \n",
       "L 130.441873 46.533578 \n",
       "L 133.183887 52.834977 \n",
       "L 136.23057 60.467558 \n",
       "L 139.581922 69.541971 \n",
       "L 143.237941 80.126331 \n",
       "L 147.503298 93.179284 \n",
       "L 153.291996 111.666503 \n",
       "L 164.869391 148.803011 \n",
       "L 169.134747 161.69644 \n",
       "L 172.790767 172.097372 \n",
       "L 176.142118 180.96813 \n",
       "L 179.188801 188.388219 \n",
       "L 181.930816 194.477912 \n",
       "L 184.368163 199.381329 \n",
       "L 186.805509 203.772243 \n",
       "L 188.938187 207.171673 \n",
       "L 191.070865 210.140434 \n",
       "L 192.898875 212.331208 \n",
       "L 194.726885 214.186932 \n",
       "L 196.554895 215.700915 \n",
       "L 198.078236 216.697539 \n",
       "L 199.601578 217.450533 \n",
       "L 201.124919 217.958012 \n",
       "L 202.648261 218.218703 \n",
       "L 204.171602 218.231956 \n",
       "L 205.694944 217.997735 \n",
       "L 207.218285 217.516629 \n",
       "L 208.741627 216.789841 \n",
       "L 210.264969 215.819193 \n",
       "L 211.78831 214.607114 \n",
       "L 213.61632 212.838248 \n",
       "L 215.44433 210.732505 \n",
       "L 217.27234 208.297477 \n",
       "L 219.405018 205.052213 \n",
       "L 221.537696 201.386683 \n",
       "L 223.975042 196.706063 \n",
       "L 226.412389 191.530087 \n",
       "L 229.154403 185.156433 \n",
       "L 232.201086 177.451666 \n",
       "L 235.552438 168.308524 \n",
       "L 239.208457 157.662884 \n",
       "L 243.778482 143.599567 \n",
       "L 250.176516 123.070217 \n",
       "L 259.925902 91.78507 \n",
       "L 264.495927 77.901062 \n",
       "L 268.151946 67.452201 \n",
       "L 271.503298 58.528508 \n",
       "L 274.549981 51.053378 \n",
       "L 277.291996 44.908985 \n",
       "L 279.729342 39.953208 \n",
       "L 282.166688 35.506765 \n",
       "L 284.299367 32.056429 \n",
       "L 286.432045 29.034857 \n",
       "L 288.260055 26.797499 \n",
       "L 290.088064 24.89415 \n",
       "L 291.916074 23.331673 \n",
       "L 293.439416 22.294101 \n",
       "L 294.962757 21.499779 \n",
       "L 296.486099 20.950697 \n",
       "L 298.00944 20.64823 \n",
       "L 299.532782 20.593136 \n",
       "L 301.056123 20.785552 \n",
       "L 302.579465 21.224997 \n",
       "L 304.102806 21.910371 \n",
       "L 305.626148 22.839956 \n",
       "L 307.149489 24.011425 \n",
       "L 308.977499 25.7323 \n",
       "L 310.805509 27.791026 \n",
       "L 312.633519 30.180177 \n",
       "L 314.766197 33.373584 \n",
       "L 316.898875 36.98929 \n",
       "L 319.336222 41.615772 \n",
       "L 321.773568 46.740933 \n",
       "L 324.515583 53.061797 \n",
       "L 327.562266 60.713842 \n",
       "L 330.913617 69.80681 \n",
       "L 334.569637 80.407747 \n",
       "L 338.834993 93.4749 \n",
       "L 344.928359 112.958983 \n",
       "L 355.896418 148.150324 \n",
       "L 360.466443 161.973273 \n",
       "L 364.122462 172.356449 \n",
       "L 364.427131 173.189268 \n",
       "L 364.427131 173.189268 \n",
       "\" style=\"fill:none;stroke:#1f77b4;stroke-linecap:square;stroke-width:1.5;\"/>\n",
       "   </g>\n",
       "   <g id=\"patch_3\">\n",
       "    <path d=\"M 44.845313 228.14 \n",
       "L 44.845313 10.7 \n",
       "\" style=\"fill:none;stroke:#000000;stroke-linecap:square;stroke-linejoin:miter;stroke-width:0.8;\"/>\n",
       "   </g>\n",
       "   <g id=\"patch_4\">\n",
       "    <path d=\"M 379.645313 228.14 \n",
       "L 379.645313 10.7 \n",
       "\" style=\"fill:none;stroke:#000000;stroke-linecap:square;stroke-linejoin:miter;stroke-width:0.8;\"/>\n",
       "   </g>\n",
       "   <g id=\"patch_5\">\n",
       "    <path d=\"M 44.845313 228.14 \n",
       "L 379.645313 228.14 \n",
       "\" style=\"fill:none;stroke:#000000;stroke-linecap:square;stroke-linejoin:miter;stroke-width:0.8;\"/>\n",
       "   </g>\n",
       "   <g id=\"patch_6\">\n",
       "    <path d=\"M 44.845313 10.7 \n",
       "L 379.645313 10.7 \n",
       "\" style=\"fill:none;stroke:#000000;stroke-linecap:square;stroke-linejoin:miter;stroke-width:0.8;\"/>\n",
       "   </g>\n",
       "  </g>\n",
       " </g>\n",
       " <defs>\n",
       "  <clipPath id=\"pb0cd11a2ac\">\n",
       "   <rect height=\"217.44\" width=\"334.8\" x=\"44.845313\" y=\"10.7\"/>\n",
       "  </clipPath>\n",
       " </defs>\n",
       "</svg>\n"
      ],
      "text/plain": [
       "<Figure size 432x288 with 1 Axes>"
      ]
     },
     "metadata": {
      "needs_background": "light"
     },
     "output_type": "display_data"
    }
   ],
   "source": [
    "plt.plot(x,y)"
   ]
  },
  {
   "cell_type": "markdown",
   "metadata": {},
   "source": [
    "## Startup Files"
   ]
  },
  {
   "cell_type": "markdown",
   "metadata": {},
   "source": [
    "Startup files are simple Python or IPython scripts\n",
    "that are run whenever you start IPython.\n",
    "These are a useful way to do super common imports,\n",
    "or for building database connections to load on startup of a non-default profile.\n",
    "\n",
    "We can use a startup file to ensure that our `%tic/toc` magics are always defined,\n",
    "every time we start IPython."
   ]
  },
  {
   "cell_type": "code",
   "execution_count": 14,
   "metadata": {
    "collapsed": false,
    "jupyter": {
     "outputs_hidden": false
    }
   },
   "outputs": [
    {
     "name": "stdout",
     "output_type": "stream",
     "text": [
      "README\tsimpleimports.py\n"
     ]
    }
   ],
   "source": [
    "!ls $profile/startup"
   ]
  },
  {
   "cell_type": "code",
   "execution_count": 15,
   "metadata": {
    "collapsed": false,
    "jupyter": {
     "outputs_hidden": false
    }
   },
   "outputs": [
    {
     "name": "stdout",
     "output_type": "stream",
     "text": [
      "This is the IPython startup directory\n",
      "\n",
      ".py and .ipy files in this directory will be run *prior* to any code or files specified\n",
      "via the exec_lines or exec_files configurables whenever you load this profile.\n",
      "\n",
      "Files will be run in lexicographical order, so you can control the execution order of files\n",
      "with a prefix, e.g.::\n",
      "\n",
      "    00-first.py\n",
      "    50-middle.py\n",
      "    99-last.ipy\n"
     ]
    }
   ],
   "source": [
    "!cat $profile/startup/README"
   ]
  },
  {
   "cell_type": "markdown",
   "metadata": {},
   "source": [
    "Adding common imports, so we never have to forget them again"
   ]
  },
  {
   "cell_type": "code",
   "execution_count": 16,
   "metadata": {
    "collapsed": false,
    "jupyter": {
     "outputs_hidden": false
    }
   },
   "outputs": [],
   "source": [
    "#%%writefile $profile/startup/simpleimports.py\n",
    "#\n",
    "#import sys, os, time, re"
   ]
  },
  {
   "cell_type": "markdown",
   "metadata": {},
   "source": [
    "**Restart the kernel** and then run the following cells immediately to verify these scripts have been executed:"
   ]
  },
  {
   "cell_type": "code",
   "execution_count": 17,
   "metadata": {
    "collapsed": false,
    "jupyter": {
     "outputs_hidden": false
    }
   },
   "outputs": [
    {
     "data": {
      "text/plain": [
       "<module 'sys' (built-in)>"
      ]
     },
     "execution_count": 17,
     "metadata": {},
     "output_type": "execute_result"
    }
   ],
   "source": [
    "#sys"
   ]
  },
  {
   "cell_type": "markdown",
   "metadata": {},
   "source": [
    "## Extensions"
   ]
  },
  {
   "cell_type": "code",
   "execution_count": 19,
   "metadata": {
    "collapsed": false,
    "jupyter": {
     "outputs_hidden": false
    }
   },
   "outputs": [],
   "source": [
    "profile = get_ipython().profile_dir.location"
   ]
  },
  {
   "cell_type": "code",
   "execution_count": 20,
   "metadata": {
    "collapsed": false,
    "jupyter": {
     "outputs_hidden": false
    }
   },
   "outputs": [
    {
     "name": "stdout",
     "output_type": "stream",
     "text": [
      "cat: /p/project/cjsc/goebbert1/.ipython/profile_default/ipython_config.py: No such file or directory\n"
     ]
    }
   ],
   "source": [
    "!cat $profile/ipython_config.py | grep InteractiveShellApp.extensions"
   ]
  },
  {
   "cell_type": "code",
   "execution_count": 21,
   "metadata": {
    "collapsed": false,
    "jupyter": {
     "outputs_hidden": false
    }
   },
   "outputs": [],
   "source": [
    "#!echo \"c.InteractiveShellApp.extensions = ['mymagics']\" >> $profile/ipython_config.py\n",
    "#!tail $profile/ipython_config.py"
   ]
  },
  {
   "cell_type": "markdown",
   "metadata": {},
   "source": [
    "**Restart the kernel** to see the effects:"
   ]
  },
  {
   "cell_type": "code",
   "execution_count": 22,
   "metadata": {
    "collapsed": false,
    "jupyter": {
     "outputs_hidden": false
    }
   },
   "outputs": [],
   "source": [
    "#import time\n",
    "#%tic\n",
    "#time.sleep(0.1)\n",
    "#%toc"
   ]
  },
  {
   "cell_type": "code",
   "execution_count": 23,
   "metadata": {
    "collapsed": false,
    "jupyter": {
     "outputs_hidden": false
    }
   },
   "outputs": [],
   "source": [
    "#%nbrun Sample"
   ]
  },
  {
   "cell_type": "code",
   "execution_count": null,
   "metadata": {},
   "outputs": [],
   "source": []
  }
 ],
 "metadata": {
  "kernelspec": {
   "display_name": "Python 3",
   "language": "python",
   "name": "python3"
  },
  "language_info": {
   "codemirror_mode": {
    "name": "ipython",
    "version": 3
   },
   "file_extension": ".py",
   "mimetype": "text/x-python",
   "name": "python",
   "nbconvert_exporter": "python",
   "pygments_lexer": "ipython3",
   "version": "3.6.8"
  }
 },
 "nbformat": 4,
 "nbformat_minor": 4
}

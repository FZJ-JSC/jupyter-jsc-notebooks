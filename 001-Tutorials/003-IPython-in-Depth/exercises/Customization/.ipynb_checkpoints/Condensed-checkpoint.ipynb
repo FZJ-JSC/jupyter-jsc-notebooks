{
 "cells": [
  {
   "cell_type": "markdown",
   "metadata": {},
   "source": [
    "# Configuring IPython"
   ]
  },
  {
   "cell_type": "markdown",
   "metadata": {},
   "source": [
    "## Finding configuration options"
   ]
  },
  {
   "cell_type": "markdown",
   "metadata": {},
   "source": [
    "IPython has many configurable attributes. These can be viewed using the `-h` flag to the command line applications:"
   ]
  },
  {
   "cell_type": "code",
   "execution_count": 1,
   "metadata": {
    "collapsed": false,
    "jupyter": {
     "outputs_hidden": false
    }
   },
   "outputs": [
    {
     "name": "stdout",
     "output_type": "stream",
     "text": [
      "=========\n",
      " IPython\n",
      "=========\n",
      "\n",
      "Tools for Interactive Computing in Python\n",
      "=========================================\n",
      "\n",
      "    A Python shell with automatic history (input and output), dynamic object\n",
      "    introspection, easier configuration, command completion, access to the\n",
      "    system shell and more.  IPython can also be embedded in running programs.\n",
      "\n",
      "Usage\n",
      "\n",
      "    ipython [subcommand] [options] [-c cmd | -m mod | file] [--] [arg] ...\n",
      "\n",
      "    If invoked with no options, it executes the file and exits, passing the\n",
      "    remaining arguments to the script, just as if you had specified the same\n",
      "    command with python. You may need to specify `--` before args to be passed\n",
      "    to the script, to prevent IPython from attempting to parse them. If you\n",
      "    specify the option `-i` before the filename, it will enter an interactive\n",
      "    IPython session after running the script, rather than exiting. Files ending\n",
      "    in .py will be treated as normal Python, but files ending in .ipy can\n",
      "    contain special IPython syntax (magic commands, shell expansions, etc.).\n",
      "\n",
      "    Almost all configuration in IPython is available via the command-line. Do\n",
      "    `ipython --help-all` to see all available options.  For persistent\n",
      "    configuration, look into your `ipython_config.py` configuration file for\n",
      "    details.\n",
      "\n",
      "    This file is typically installed in the `IPYTHONDIR` directory, and there\n",
      "    is a separate configuration directory for each profile. The default profile\n",
      "    directory will be located in $IPYTHONDIR/profile_default. IPYTHONDIR\n",
      "    defaults to to `$HOME/.ipython`.  For Windows users, $HOME resolves to\n",
      "    C:\\Users\\YourUserName in most instances.\n",
      "\n",
      "    To initialize a profile with the default configuration file, do::\n",
      "\n",
      "      $> ipython profile create\n",
      "\n",
      "    and start editing `IPYTHONDIR/profile_default/ipython_config.py`\n",
      "\n",
      "    In IPython's documentation, we will refer to this directory as\n",
      "    `IPYTHONDIR`, you can change its default location by creating an\n",
      "    environment variable with this name and setting it to the desired path.\n",
      "\n",
      "    For more information, see the manual available in HTML and PDF in your\n",
      "    installation, or online at https://ipython.org/documentation.html.\n",
      "\n",
      "Subcommands\n",
      "-----------\n",
      "\n",
      "Subcommands are launched as `ipython cmd [args]`. For information on using\n",
      "subcommand 'cmd', do: `ipython cmd -h`.\n",
      "\n",
      "profile\n",
      "    Create and manage IPython profiles.\n",
      "kernel\n",
      "    Start a kernel without an attached frontend.\n",
      "locate\n",
      "    print the path to the IPython dir\n",
      "history\n",
      "    Manage the IPython history database.\n",
      "qtconsole\n",
      "    DEPRECATED, Will be removed in IPython 6.0 : Launch the Jupyter Qt Console.\n",
      "notebook\n",
      "    DEPRECATED, Will be removed in IPython 6.0 : Launch the Jupyter HTML Notebook Server.\n",
      "console\n",
      "    DEPRECATED, Will be removed in IPython 6.0 : Launch the Jupyter terminal-based Console.\n",
      "nbconvert\n",
      "    DEPRECATED, Will be removed in IPython 6.0 : Convert notebooks to/from other formats.\n",
      "trust\n",
      "    DEPRECATED, Will be removed in IPython 6.0 : Sign notebooks to trust their potentially unsafe contents at load.\n",
      "kernelspec\n",
      "    DEPRECATED, Will be removed in IPython 6.0 : Manage Jupyter kernel specifications.\n",
      "install-nbextension\n",
      "    DEPRECATED, Will be removed in IPython 6.0 : Install Jupyter notebook extension files\n",
      "\n",
      "Options\n",
      "-------\n",
      "\n",
      "Arguments that take values are actually convenience aliases to full\n",
      "Configurables, whose aliases are listed on the help line. For more information\n",
      "on full configurables, see '--help-all'.\n",
      "\n",
      "--debug\n",
      "    set log level to logging.DEBUG (maximize logging output)\n",
      "--quiet\n",
      "    set log level to logging.CRITICAL (minimize logging output)\n",
      "--init\n",
      "    Initialize profile with default config files.  This is equivalent\n",
      "    to running `ipython profile create <profile>` prior to startup.\n",
      "--autoindent\n",
      "    Turn on autoindenting.\n",
      "--no-autoindent\n",
      "    Turn off autoindenting.\n",
      "--automagic\n",
      "    Turn on the auto calling of magic commands. Type %%magic at the\n",
      "    IPython  prompt  for  more information.\n",
      "--no-automagic\n",
      "    Turn off the auto calling of magic commands.\n",
      "--pdb\n",
      "    Enable auto calling the pdb debugger after every exception.\n",
      "--no-pdb\n",
      "    Disable auto calling the pdb debugger after every exception.\n",
      "--pprint\n",
      "    Enable auto pretty printing of results.\n",
      "--no-pprint\n",
      "    Disable auto pretty printing of results.\n",
      "--color-info\n",
      "    IPython can display information about objects via a set of functions,\n",
      "    and optionally can use colors for this, syntax highlighting\n",
      "    source code and various other elements. This is on by default, but can cause\n",
      "    problems with some pagers. If you see such problems, you can disable the\n",
      "    colours.\n",
      "--no-color-info\n",
      "    Disable using colors for info related things.\n",
      "--nosep\n",
      "    Eliminate all spacing between prompts.\n",
      "--pylab\n",
      "    Pre-load matplotlib and numpy for interactive use with\n",
      "    the default matplotlib backend.\n",
      "--matplotlib\n",
      "    Configure matplotlib for interactive use with\n",
      "    the default matplotlib backend.\n",
      "--autoedit-syntax\n",
      "    Turn on auto editing of files with syntax errors.\n",
      "--no-autoedit-syntax\n",
      "    Turn off auto editing of files with syntax errors.\n",
      "--simple-prompt\n",
      "    Force simple minimal prompt using `raw_input`\n",
      "--no-simple-prompt\n",
      "    Use a rich interactive prompt with prompt_toolkit\n",
      "--banner\n",
      "    Display a banner upon starting IPython.\n",
      "--no-banner\n",
      "    Don't display a banner upon starting IPython.\n",
      "--confirm-exit\n",
      "    Set to confirm when you try to exit IPython with an EOF (Control-D\n",
      "    in Unix, Control-Z/Enter in Windows). By typing 'exit' or 'quit',\n",
      "    you can force a direct exit without any confirmation.\n",
      "--no-confirm-exit\n",
      "    Don't prompt the user when exiting.\n",
      "--term-title\n",
      "    Enable auto setting the terminal title.\n",
      "--no-term-title\n",
      "    Disable auto setting the terminal title.\n",
      "--classic\n",
      "    Gives IPython a similar feel to the classic Python prompt.\n",
      "--quick\n",
      "    Enable quick startup with no config files.\n",
      "-i\n",
      "    If running code from the command line, become interactive afterwards.\n",
      "    It is often useful to follow this with `--` to treat remaining flags as\n",
      "    script arguments.\n",
      "--profile-dir=<Unicode> (ProfileDir.location)\n",
      "    Default: ''\n",
      "    Set the profile location directly. This overrides the logic used by the\n",
      "    `profile` option.\n",
      "--profile=<Unicode> (BaseIPythonApplication.profile)\n",
      "    Default: 'default'\n",
      "    The IPython profile to use.\n",
      "--ipython-dir=<Unicode> (BaseIPythonApplication.ipython_dir)\n",
      "    Default: ''\n",
      "    The name of the IPython directory. This directory is used for logging\n",
      "    configuration (through profiles), history storage, etc. The default is\n",
      "    usually $HOME/.ipython. This option can also be specified through the\n",
      "    environment variable IPYTHONDIR.\n",
      "--log-level=<Enum> (Application.log_level)\n",
      "    Default: 30\n",
      "    Choices: (0, 10, 20, 30, 40, 50, 'DEBUG', 'INFO', 'WARN', 'ERROR', 'CRITICAL')\n",
      "    Set the log level by value or name.\n",
      "--config=<Unicode> (BaseIPythonApplication.extra_config_file)\n",
      "    Default: ''\n",
      "    Path to an extra config file to load.\n",
      "    If specified, load this config file in addition to any other IPython config.\n",
      "--autocall=<Enum> (InteractiveShell.autocall)\n",
      "    Default: 0\n",
      "    Choices: (0, 1, 2)\n",
      "    Make IPython automatically call any callable object even if you didn't type\n",
      "    explicit parentheses. For example, 'str 43' becomes 'str(43)' automatically.\n",
      "    The value can be '0' to disable the feature, '1' for 'smart' autocall, where\n",
      "    it is not applied if there are no more arguments on the line, and '2' for\n",
      "    'full' autocall, where all callable objects are automatically called (even\n",
      "    if no arguments are present).\n",
      "--colors=<CaselessStrEnum> (InteractiveShell.colors)\n",
      "    Default: 'Neutral'\n",
      "    Choices: ['Neutral', 'NoColor', 'LightBG', 'Linux']\n",
      "    Set the color scheme (NoColor, Neutral, Linux, or LightBG).\n",
      "--logfile=<Unicode> (InteractiveShell.logfile)\n",
      "    Default: ''\n",
      "    The name of the logfile to use.\n",
      "--logappend=<Unicode> (InteractiveShell.logappend)\n",
      "    Default: ''\n",
      "    Start logging to the given file in append mode. Use `logfile` to specify a\n",
      "    log file to **overwrite** logs to.\n",
      "-c <Unicode> (InteractiveShellApp.code_to_run)\n",
      "    Default: ''\n",
      "    Execute the given command string.\n",
      "-m <Unicode> (InteractiveShellApp.module_to_run)\n",
      "    Default: ''\n",
      "    Run the module as a script.\n",
      "--ext=<Unicode> (InteractiveShellApp.extra_extension)\n",
      "    Default: ''\n",
      "    dotted module name of an IPython extension to load.\n",
      "--gui=<CaselessStrEnum> (InteractiveShellApp.gui)\n",
      "    Default: None\n",
      "    Choices: ['glut', 'gtk', 'gtk2', 'gtk3', 'osx', 'pyglet', 'qt', 'qt4', 'qt5', 'tk', 'wx', 'gtk2', 'qt4']\n",
      "    Enable GUI event loop integration with any of ('glut', 'gtk', 'gtk2',\n",
      "    'gtk3', 'osx', 'pyglet', 'qt', 'qt4', 'qt5', 'tk', 'wx', 'gtk2', 'qt4').\n",
      "--pylab=<CaselessStrEnum> (InteractiveShellApp.pylab)\n",
      "    Default: None\n",
      "    Choices: ['auto', 'agg', 'gtk', 'gtk3', 'inline', 'ipympl', 'nbagg', 'notebook', 'osx', 'pdf', 'ps', 'qt', 'qt4', 'qt5', 'svg', 'tk', 'widget', 'wx']\n",
      "    Pre-load matplotlib and numpy for interactive use, selecting a particular\n",
      "    matplotlib backend and loop integration.\n",
      "--matplotlib=<CaselessStrEnum> (InteractiveShellApp.matplotlib)\n",
      "    Default: None\n",
      "    Choices: ['auto', 'agg', 'gtk', 'gtk3', 'inline', 'ipympl', 'nbagg', 'notebook', 'osx', 'pdf', 'ps', 'qt', 'qt4', 'qt5', 'svg', 'tk', 'widget', 'wx']\n",
      "    Configure matplotlib for interactive use with the default matplotlib\n",
      "    backend.\n",
      "--cache-size=<Int> (InteractiveShell.cache_size)\n",
      "    Default: 1000\n",
      "    Set the size of the output cache.  The default is 1000, you can change it\n",
      "    permanently in your config file.  Setting it to 0 completely disables the\n",
      "    caching system, and the minimum value accepted is 3 (if you provide a value\n",
      "    less than 3, it is reset to 0 and a warning is issued).  This limit is\n",
      "    defined because otherwise you'll spend more time re-flushing a too small\n",
      "    cache than working\n",
      "\n",
      "To see all available configurables, use `--help-all`\n",
      "\n",
      "Examples\n",
      "--------\n",
      "\n",
      "    ipython --matplotlib       # enable matplotlib integration\n",
      "    ipython --matplotlib=qt    # enable matplotlib integration with qt4 backend\n",
      "    \n",
      "    ipython --log-level=DEBUG  # set logging to DEBUG\n",
      "    ipython --profile=foo      # start with profile foo\n",
      "    \n",
      "    ipython profile create foo # create profile foo w/ default config files\n",
      "    ipython help profile       # show the help for the profile subcmd\n",
      "    \n",
      "    ipython locate             # print the path to the IPython directory\n",
      "    ipython locate profile foo # print the path to the directory for profile `foo`\n",
      "\n"
     ]
    }
   ],
   "source": [
    "!ipython -h"
   ]
  },
  {
   "cell_type": "markdown",
   "metadata": {},
   "source": [
    "This is an important trick for finding out configuration info:\n",
    "    \n",
    "    $> ipython [subcommand] --help-all | grep [-C context] PATTERN\n",
    "\n",
    "`--help-all` exposes everything configurable in IPython,\n",
    "there is a good chance you will find what you are looking for."
   ]
  },
  {
   "cell_type": "markdown",
   "metadata": {},
   "source": [
    "A common configuration question is:\n",
    "\n",
    "> how do I disable the \"Do you really want to exit\" message when quitting with `Ctrl-d`?\n",
    "\n",
    "Well, logically this has to do with `exit`, so let's look for it:"
   ]
  },
  {
   "cell_type": "code",
   "execution_count": 2,
   "metadata": {
    "collapsed": false,
    "jupyter": {
     "outputs_hidden": false
    }
   },
   "outputs": [
    {
     "name": "stdout",
     "output_type": "stream",
     "text": [
      "    If invoked with no options, it executes the file and \u001b[1;31;46m\u001b[Kexit\u001b[m\u001b[Ks, passing the\n",
      "    IPython session after running the script, rather than \u001b[1;31;46m\u001b[Kexit\u001b[m\u001b[King. Files ending\n",
      "--confirm-\u001b[1;31;46m\u001b[Kexit\u001b[m\u001b[K\n",
      "    Set to confirm when you try to \u001b[1;31;46m\u001b[Kexit\u001b[m\u001b[K IPython with an EOF (Control-D\n",
      "    in Unix, Control-Z/Enter in Windows). By typing '\u001b[1;31;46m\u001b[Kexit\u001b[m\u001b[K' or 'quit',\n",
      "    you can force a direct \u001b[1;31;46m\u001b[Kexit\u001b[m\u001b[K without any confirmation.\n",
      "--no-confirm-\u001b[1;31;46m\u001b[Kexit\u001b[m\u001b[K\n",
      "    Don't prompt the user when \u001b[1;31;46m\u001b[Kexit\u001b[m\u001b[King.\n",
      "--TerminalInteractiveShell.confirm_\u001b[1;31;46m\u001b[Kexit\u001b[m\u001b[K=<Bool>\n",
      "    Set to confirm when you try to \u001b[1;31;46m\u001b[Kexit\u001b[m\u001b[K IPython with an EOF (Control-D in Unix,\n",
      "    Control-Z/Enter in Windows). By typing '\u001b[1;31;46m\u001b[Kexit\u001b[m\u001b[K' or 'quit', you can force a\n",
      "    direct \u001b[1;31;46m\u001b[Kexit\u001b[m\u001b[K without any confirmation.\n"
     ]
    }
   ],
   "source": [
    "!ipython --help-all | GREP_COLOR='1;31;46' grep --color exit"
   ]
  },
  {
   "cell_type": "markdown",
   "metadata": {},
   "source": [
    "Which shows me that I can disable the confirmation for a single IPython session with\n",
    "\n",
    "    $> ipython --no-confirm-exit\n",
    "    \n",
    "or I can set the `TerminalInteractiveShell.confirm_exit=False` in a config file,\n",
    "to have it be the default behavior."
   ]
  },
  {
   "cell_type": "markdown",
   "metadata": {},
   "source": [
    "## Configuration principles"
   ]
  },
  {
   "cell_type": "markdown",
   "metadata": {},
   "source": [
    "Here are the design principles of the IPython configuration system: \n",
    "\n",
    "* Configuration is always done using class attributes\n",
    "* Classes that have configurable attributes are subclasses of `Configurable`\n",
    "* Attributes that are configurable are typed traitlets objects (`Bool`, `Unicode`, etc.) that have `config=True`\n",
    "* In config files, configurable attributes can be set using the format `Class.attr_name=the_value`\n",
    "* At the command line, configurable attributes can be set using the syntax `--Class.attr_name=the_value`\n",
    "* At the command line, some attributes have shorthands of the form `--attr-name=value`\n",
    "* Values set at the command line have higher priority than those set in config files"
   ]
  },
  {
   "cell_type": "markdown",
   "metadata": {},
   "source": [
    "## The IPython Profile"
   ]
  },
  {
   "cell_type": "markdown",
   "metadata": {},
   "source": [
    "IPython has a notion of 'profiles' - these are directories that live in your IPYTHONDIR,\n",
    "which contain configuration and runtime information.\n",
    "\n",
    "Let's create the default profile"
   ]
  },
  {
   "cell_type": "code",
   "execution_count": 3,
   "metadata": {
    "collapsed": false,
    "jupyter": {
     "outputs_hidden": false
    }
   },
   "outputs": [],
   "source": [
    "!ipython profile create newprofile"
   ]
  },
  {
   "cell_type": "markdown",
   "metadata": {},
   "source": [
    "This creates a profile in your IPYTHONDIR (`ipython locate` is a quick way to see where your IPYTHONDIR is),\n",
    "and populates it with automatically generated default config files."
   ]
  },
  {
   "cell_type": "code",
   "execution_count": 4,
   "metadata": {
    "collapsed": false,
    "jupyter": {
     "outputs_hidden": false
    }
   },
   "outputs": [
    {
     "name": "stdout",
     "output_type": "stream",
     "text": [
      "/p/project/cjsc/goebbert1/.ipython/profile_default\n",
      "/p/project/cjsc/goebbert1/.ipython/profile_newprofile\n"
     ]
    }
   ],
   "source": [
    "!ipython locate profile default\n",
    "!ipython locate profile newprofile"
   ]
  },
  {
   "cell_type": "markdown",
   "metadata": {},
   "source": [
    "You can skim"
   ]
  },
  {
   "cell_type": "code",
   "execution_count": 5,
   "metadata": {
    "collapsed": false,
    "jupyter": {
     "outputs_hidden": false
    }
   },
   "outputs": [
    {
     "data": {
      "text/plain": [
       "'/p/project/cjsc/goebbert1/.ipython/profile_default'"
      ]
     },
     "execution_count": 5,
     "metadata": {},
     "output_type": "execute_result"
    }
   ],
   "source": [
    "profile = get_ipython().profile_dir.location\n",
    "profile"
   ]
  },
  {
   "cell_type": "code",
   "execution_count": 6,
   "metadata": {
    "collapsed": false,
    "jupyter": {
     "outputs_hidden": false
    }
   },
   "outputs": [
    {
     "name": "stdout",
     "output_type": "stream",
     "text": [
      "\u001b[0m\u001b[01;34mdb\u001b[0m/  history.sqlite  \u001b[01;34mlog\u001b[0m/  \u001b[01;34mpid\u001b[0m/  \u001b[01;34msecurity\u001b[0m/  \u001b[01;34mstartup\u001b[0m/\n"
     ]
    }
   ],
   "source": [
    "ls $profile"
   ]
  },
  {
   "cell_type": "markdown",
   "metadata": {},
   "source": [
    "Let's peek at our config file"
   ]
  },
  {
   "cell_type": "code",
   "execution_count": 7,
   "metadata": {
    "collapsed": false,
    "jupyter": {
     "outputs_hidden": false
    }
   },
   "outputs": [
    {
     "name": "stdout",
     "output_type": "stream",
     "text": [
      "Error: no such file, variable, URL, history range or macro\n"
     ]
    }
   ],
   "source": [
    "pycat $profile/ipython_config.py"
   ]
  },
  {
   "cell_type": "markdown",
   "metadata": {},
   "source": [
    "## Startup Files"
   ]
  },
  {
   "cell_type": "markdown",
   "metadata": {},
   "source": [
    "Startup files are simple Python or IPython scripts\n",
    "that are run whenever you start IPython.\n",
    "These are a useful way to do super common imports,\n",
    "or for building database connections to load on startup of a non-default profile.\n",
    "\n",
    "We can use a startup file to ensure that our `%tic/toc` magics are always defined,\n",
    "every time we start IPython."
   ]
  },
  {
   "cell_type": "code",
   "execution_count": 8,
   "metadata": {
    "collapsed": false,
    "jupyter": {
     "outputs_hidden": false
    }
   },
   "outputs": [
    {
     "name": "stdout",
     "output_type": "stream",
     "text": [
      "README\tsimpleimports.py\n"
     ]
    }
   ],
   "source": [
    "!ls $profile/startup"
   ]
  },
  {
   "cell_type": "code",
   "execution_count": 9,
   "metadata": {
    "collapsed": false,
    "jupyter": {
     "outputs_hidden": false
    }
   },
   "outputs": [
    {
     "name": "stdout",
     "output_type": "stream",
     "text": [
      "This is the IPython startup directory\n",
      "\n",
      ".py and .ipy files in this directory will be run *prior* to any code or files specified\n",
      "via the exec_lines or exec_files configurables whenever you load this profile.\n",
      "\n",
      "Files will be run in lexicographical order, so you can control the execution order of files\n",
      "with a prefix, e.g.::\n",
      "\n",
      "    00-first.py\n",
      "    50-middle.py\n",
      "    99-last.ipy\n"
     ]
    }
   ],
   "source": [
    "!cat $profile/startup/README"
   ]
  },
  {
   "cell_type": "markdown",
   "metadata": {},
   "source": [
    "Adding common imports, so we never have to forget them again"
   ]
  },
  {
   "cell_type": "code",
   "execution_count": 10,
   "metadata": {
    "collapsed": false,
    "jupyter": {
     "outputs_hidden": false
    }
   },
   "outputs": [
    {
     "name": "stdout",
     "output_type": "stream",
     "text": [
      "Overwriting /p/project/cjsc/goebbert1/.ipython/profile_default/startup/simpleimports.py\n"
     ]
    }
   ],
   "source": [
    "#%%writefile $profile/startup/simpleimports.py\n",
    "#\n",
    "#import sys, os, time, re"
   ]
  },
  {
   "cell_type": "markdown",
   "metadata": {},
   "source": [
    "**Restart the kernel** and then run the following cells immediately to verify these scripts have been executed:"
   ]
  },
  {
   "cell_type": "code",
   "execution_count": 11,
   "metadata": {
    "collapsed": false,
    "jupyter": {
     "outputs_hidden": false
    }
   },
   "outputs": [
    {
     "data": {
      "text/plain": [
       "<module 'sys' (built-in)>"
      ]
     },
     "execution_count": 11,
     "metadata": {},
     "output_type": "execute_result"
    }
   ],
   "source": [
    "#sys"
   ]
  },
  {
   "cell_type": "markdown",
   "metadata": {},
   "source": [
    "## Defining your own magic"
   ]
  },
  {
   "cell_type": "markdown",
   "metadata": {},
   "source": [
    "As we have seen already, IPython has cell and line magics. You can define your own magics using any Python function and the `register_magic_function` method:"
   ]
  },
  {
   "cell_type": "code",
   "execution_count": 12,
   "metadata": {
    "collapsed": false,
    "jupyter": {
     "outputs_hidden": false
    }
   },
   "outputs": [],
   "source": [
    "from IPython.core.magic import (register_line_magic, register_cell_magic,\n",
    "                                register_line_cell_magic)"
   ]
  },
  {
   "cell_type": "code",
   "execution_count": 13,
   "metadata": {
    "collapsed": false,
    "jupyter": {
     "outputs_hidden": false
    }
   },
   "outputs": [],
   "source": [
    "@register_line_magic\n",
    "def sleep(line):\n",
    "    \"\"\"A simple function for sleeping\"\"\"\n",
    "    import time\n",
    "    t = float(line)\n",
    "    time.sleep(t)"
   ]
  },
  {
   "cell_type": "code",
   "execution_count": 14,
   "metadata": {
    "collapsed": false,
    "jupyter": {
     "outputs_hidden": false
    }
   },
   "outputs": [],
   "source": [
    "%sleep 2"
   ]
  },
  {
   "cell_type": "code",
   "execution_count": 15,
   "metadata": {
    "collapsed": false,
    "jupyter": {
     "outputs_hidden": false
    }
   },
   "outputs": [
    {
     "data": {
      "text/plain": [
       "\u001b[0;31mDocstring:\u001b[0m A simple function for sleeping\n",
       "\u001b[0;31mFile:\u001b[0m      /p/project/ccstvs/jupyter/j4j_notebooks/001-Tutorials/003-IPython-in-Depth/exercises/Customization/<ipython-input-13-8e24f4a97cfa>\n"
      ]
     },
     "metadata": {},
     "output_type": "display_data"
    }
   ],
   "source": [
    "%sleep?"
   ]
  },
  {
   "cell_type": "markdown",
   "metadata": {},
   "source": [
    "### Cell Magic"
   ]
  },
  {
   "cell_type": "markdown",
   "metadata": {},
   "source": [
    "**Cell magics** take two args:\n",
    "\n",
    "1. the **line** on the same line of the magic \n",
    "2. the **cell** the multiline body of the cell after the first line"
   ]
  },
  {
   "cell_type": "code",
   "execution_count": 16,
   "metadata": {
    "collapsed": false,
    "jupyter": {
     "outputs_hidden": false
    }
   },
   "outputs": [],
   "source": [
    "@register_cell_magic\n",
    "def dummy(line, cell):\n",
    "    \"\"\"dummy cell magic for displaying the line and cell it is passed\"\"\"\n",
    "    print(\"line: %r\" % line)\n",
    "    print(\"cell: %r\" % cell)"
   ]
  },
  {
   "cell_type": "code",
   "execution_count": 17,
   "metadata": {
    "collapsed": false,
    "jupyter": {
     "outputs_hidden": false
    }
   },
   "outputs": [
    {
     "name": "stdout",
     "output_type": "stream",
     "text": [
      "line: 'this is the line'\n",
      "cell: 'this\\nis the\\ncell\\n'\n"
     ]
    }
   ],
   "source": [
    "%%dummy this is the line\n",
    "this\n",
    "is the\n",
    "cell"
   ]
  },
  {
   "cell_type": "markdown",
   "metadata": {},
   "source": [
    "For more details on declaring your own magics in more complex scenarios, [see our docs](http://ipython.org/ipython-doc/stable/interactive/reference.html#defining-your-own-magics)."
   ]
  }
 ],
 "metadata": {
  "kernelspec": {
   "display_name": "Python 3",
   "language": "python",
   "name": "python3"
  },
  "language_info": {
   "codemirror_mode": {
    "name": "ipython",
    "version": 3
   },
   "file_extension": ".py",
   "mimetype": "text/x-python",
   "name": "python",
   "nbconvert_exporter": "python",
   "pygments_lexer": "ipython3",
   "version": "3.6.8"
  }
 },
 "nbformat": 4,
 "nbformat_minor": 4
}

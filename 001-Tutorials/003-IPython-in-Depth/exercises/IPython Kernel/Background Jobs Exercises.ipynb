{
 "cells": [
  {
   "cell_type": "markdown",
   "metadata": {},
   "source": [
    "## Exercise"
   ]
  },
  {
   "cell_type": "markdown",
   "metadata": {},
   "source": [
    "1. Start a new job that calls `sleepfunc` with a 5-second wait\n",
    "2. Print a short message that indicates you are waiting (note: you'll need to flush stdout to see that print output appear).\n",
    "3. Wait on the job and then print its result."
   ]
  }
 ],
 "metadata": {},
 "nbformat": 4,
 "nbformat_minor": 0
}
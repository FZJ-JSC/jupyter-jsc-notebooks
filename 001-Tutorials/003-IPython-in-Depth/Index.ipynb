{
 "cells": [
  {
   "cell_type": "markdown",
   "metadata": {},
   "source": [
    "# IPython & Jupyter: a PyCon 2017 tutorial"
   ]
  },
  {
   "cell_type": "markdown",
   "metadata": {},
   "source": [
    "Class outline:\n",
    "\n",
    "* A quick installation check of [ipython](http://ipython.org/install.html) and [jupyter notebook]((http://jupyter.readthedocs.io/en/latest/install.html)\n",
    "* An overview of the IPython project from [the official website](http://ipython.org), and [jupyter](https://jupyter.org)\n",
    "* Super basic intro to the notebook: typing code.\n",
    "* [Notebook Basics](examples/Notebook/Notebook Basics.ipynb)\n",
    "* [IPython - beyond plain python](examples/IPython Kernel/Beyond Plain Python.ipynb)\n",
    "* [Markdown Cells](examples/Notebook/Working With Markdown Cells.ipynb)\n",
    "* [Rich Display System](examples/IPython Kernel/Rich Output.ipynb)\n",
    "* [Custom Display logic](examples/IPython%20Kernel/Custom%20Display%20Logic.ipynb)\n",
    "* [Customizing IPython - a condensed version](exercises/Customization/Condensed.ipynb)\n",
    "* [Running a Secure Public Notebook Server](examples/Notebook/Running%20the%20Notebook%20Server.ipynb#Securing-the-notebook-server)\n",
    "* [How Jupyter/IPython works](examples/Notebook/Multiple%20Languages%2C%20Frontends.ipynb) to run code in different languages."
   ]
  },
  {
   "cell_type": "markdown",
   "metadata": {},
   "source": [
    "Get this tutorial:\n",
    "\n",
    "    git clone https://github.com/ipython/ipython-in-depth\n",
    "\n",
    "Install IPython and Jupyter:\n",
    "\n",
    "with [conda](https://www.continuum.io/downloads):\n",
    "\n",
    "    conda install ipython jupyter\n",
    "\n",
    "with pip:\n",
    "\n",
    "    # first, upgrade pip!\n",
    "    pip install --upgrade pip\n",
    "    pip install --upgrade ipython jupyter\n",
    "\n",
    "Start the notebook in the tutorial directory:\n",
    "\n",
    "    cd ipython-in-depth\n",
    "    jupyter notebook"
   ]
  },
  {
   "cell_type": "markdown",
   "metadata": {},
   "source": [
    "There are a lot more detailed notebooks in this same directory that cover other topics, but we can not cover all in a 3-hour tutorial. We encourage you to explore them and practice on your own."
   ]
  }
 ],
 "metadata": {
  "kernelspec": {
   "display_name": "Python 3",
   "language": "python",
   "name": "python3"
  },
  "language_info": {
   "codemirror_mode": {
    "name": "ipython",
    "version": 3
   },
   "file_extension": ".py",
   "mimetype": "text/x-python",
   "name": "python",
   "nbconvert_exporter": "python",
   "pygments_lexer": "ipython3",
   "version": "3.6.1"
  }
 },
 "nbformat": 4,
 "nbformat_minor": 1
}

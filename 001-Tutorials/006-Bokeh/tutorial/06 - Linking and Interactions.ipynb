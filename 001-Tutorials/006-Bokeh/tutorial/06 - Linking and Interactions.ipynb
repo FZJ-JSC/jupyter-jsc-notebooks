{
 "cells": [
  {
   "cell_type": "markdown",
   "metadata": {},
   "source": [
    "<table style=\"float:left; border:none\">\n",
    "   <tr style=\"border:none; background-color: #ffffff\">\n",
    "       <td style=\"border:none\">\n",
    "           <a href=\"http://bokeh.pydata.org/\">     \n",
    "           <img \n",
    "               src=\"assets/bokeh-transparent.png\" \n",
    "               style=\"width:50px\"\n",
    "           >\n",
    "           </a>    \n",
    "       </td>\n",
    "       <td style=\"border:none\">\n",
    "           <h1>Bokeh Tutorial</h1>\n",
    "       </td>\n",
    "   </tr>\n",
    "</table>\n",
    "\n",
    "<div style=\"float:right;\"><h2>06. Linking and Interactions</h2></div>"
   ]
  },
  {
   "cell_type": "code",
   "execution_count": 1,
   "metadata": {},
   "outputs": [
    {
     "data": {
      "text/html": [
       "\n",
       "    <div class=\"bk-root\">\n",
       "        <a href=\"https://bokeh.pydata.org\" target=\"_blank\" class=\"bk-logo bk-logo-small bk-logo-notebook\"></a>\n",
       "        <span id=\"1001\">Loading BokehJS ...</span>\n",
       "    </div>"
      ]
     },
     "metadata": {},
     "output_type": "display_data"
    },
    {
     "data": {
      "application/javascript": [
       "\n",
       "(function(root) {\n",
       "  function now() {\n",
       "    return new Date();\n",
       "  }\n",
       "\n",
       "  var force = true;\n",
       "\n",
       "  if (typeof root._bokeh_onload_callbacks === \"undefined\" || force === true) {\n",
       "    root._bokeh_onload_callbacks = [];\n",
       "    root._bokeh_is_loading = undefined;\n",
       "  }\n",
       "\n",
       "  var JS_MIME_TYPE = 'application/javascript';\n",
       "  var HTML_MIME_TYPE = 'text/html';\n",
       "  var EXEC_MIME_TYPE = 'application/vnd.bokehjs_exec.v0+json';\n",
       "  var CLASS_NAME = 'output_bokeh rendered_html';\n",
       "\n",
       "  /**\n",
       "   * Render data to the DOM node\n",
       "   */\n",
       "  function render(props, node) {\n",
       "    var script = document.createElement(\"script\");\n",
       "    node.appendChild(script);\n",
       "  }\n",
       "\n",
       "  /**\n",
       "   * Handle when an output is cleared or removed\n",
       "   */\n",
       "  function handleClearOutput(event, handle) {\n",
       "    var cell = handle.cell;\n",
       "\n",
       "    var id = cell.output_area._bokeh_element_id;\n",
       "    var server_id = cell.output_area._bokeh_server_id;\n",
       "    // Clean up Bokeh references\n",
       "    if (id != null && id in Bokeh.index) {\n",
       "      Bokeh.index[id].model.document.clear();\n",
       "      delete Bokeh.index[id];\n",
       "    }\n",
       "\n",
       "    if (server_id !== undefined) {\n",
       "      // Clean up Bokeh references\n",
       "      var cmd = \"from bokeh.io.state import curstate; print(curstate().uuid_to_server['\" + server_id + \"'].get_sessions()[0].document.roots[0]._id)\";\n",
       "      cell.notebook.kernel.execute(cmd, {\n",
       "        iopub: {\n",
       "          output: function(msg) {\n",
       "            var id = msg.content.text.trim();\n",
       "            if (id in Bokeh.index) {\n",
       "              Bokeh.index[id].model.document.clear();\n",
       "              delete Bokeh.index[id];\n",
       "            }\n",
       "          }\n",
       "        }\n",
       "      });\n",
       "      // Destroy server and session\n",
       "      var cmd = \"import bokeh.io.notebook as ion; ion.destroy_server('\" + server_id + \"')\";\n",
       "      cell.notebook.kernel.execute(cmd);\n",
       "    }\n",
       "  }\n",
       "\n",
       "  /**\n",
       "   * Handle when a new output is added\n",
       "   */\n",
       "  function handleAddOutput(event, handle) {\n",
       "    var output_area = handle.output_area;\n",
       "    var output = handle.output;\n",
       "\n",
       "    // limit handleAddOutput to display_data with EXEC_MIME_TYPE content only\n",
       "    if ((output.output_type != \"display_data\") || (!output.data.hasOwnProperty(EXEC_MIME_TYPE))) {\n",
       "      return\n",
       "    }\n",
       "\n",
       "    var toinsert = output_area.element.find(\".\" + CLASS_NAME.split(' ')[0]);\n",
       "\n",
       "    if (output.metadata[EXEC_MIME_TYPE][\"id\"] !== undefined) {\n",
       "      toinsert[toinsert.length - 1].firstChild.textContent = output.data[JS_MIME_TYPE];\n",
       "      // store reference to embed id on output_area\n",
       "      output_area._bokeh_element_id = output.metadata[EXEC_MIME_TYPE][\"id\"];\n",
       "    }\n",
       "    if (output.metadata[EXEC_MIME_TYPE][\"server_id\"] !== undefined) {\n",
       "      var bk_div = document.createElement(\"div\");\n",
       "      bk_div.innerHTML = output.data[HTML_MIME_TYPE];\n",
       "      var script_attrs = bk_div.children[0].attributes;\n",
       "      for (var i = 0; i < script_attrs.length; i++) {\n",
       "        toinsert[toinsert.length - 1].firstChild.setAttribute(script_attrs[i].name, script_attrs[i].value);\n",
       "      }\n",
       "      // store reference to server id on output_area\n",
       "      output_area._bokeh_server_id = output.metadata[EXEC_MIME_TYPE][\"server_id\"];\n",
       "    }\n",
       "  }\n",
       "\n",
       "  function register_renderer(events, OutputArea) {\n",
       "\n",
       "    function append_mime(data, metadata, element) {\n",
       "      // create a DOM node to render to\n",
       "      var toinsert = this.create_output_subarea(\n",
       "        metadata,\n",
       "        CLASS_NAME,\n",
       "        EXEC_MIME_TYPE\n",
       "      );\n",
       "      this.keyboard_manager.register_events(toinsert);\n",
       "      // Render to node\n",
       "      var props = {data: data, metadata: metadata[EXEC_MIME_TYPE]};\n",
       "      render(props, toinsert[toinsert.length - 1]);\n",
       "      element.append(toinsert);\n",
       "      return toinsert\n",
       "    }\n",
       "\n",
       "    /* Handle when an output is cleared or removed */\n",
       "    events.on('clear_output.CodeCell', handleClearOutput);\n",
       "    events.on('delete.Cell', handleClearOutput);\n",
       "\n",
       "    /* Handle when a new output is added */\n",
       "    events.on('output_added.OutputArea', handleAddOutput);\n",
       "\n",
       "    /**\n",
       "     * Register the mime type and append_mime function with output_area\n",
       "     */\n",
       "    OutputArea.prototype.register_mime_type(EXEC_MIME_TYPE, append_mime, {\n",
       "      /* Is output safe? */\n",
       "      safe: true,\n",
       "      /* Index of renderer in `output_area.display_order` */\n",
       "      index: 0\n",
       "    });\n",
       "  }\n",
       "\n",
       "  // register the mime type if in Jupyter Notebook environment and previously unregistered\n",
       "  if (root.Jupyter !== undefined) {\n",
       "    var events = require('base/js/events');\n",
       "    var OutputArea = require('notebook/js/outputarea').OutputArea;\n",
       "\n",
       "    if (OutputArea.prototype.mime_types().indexOf(EXEC_MIME_TYPE) == -1) {\n",
       "      register_renderer(events, OutputArea);\n",
       "    }\n",
       "  }\n",
       "\n",
       "  \n",
       "  if (typeof (root._bokeh_timeout) === \"undefined\" || force === true) {\n",
       "    root._bokeh_timeout = Date.now() + 5000;\n",
       "    root._bokeh_failed_load = false;\n",
       "  }\n",
       "\n",
       "  var NB_LOAD_WARNING = {'data': {'text/html':\n",
       "     \"<div style='background-color: #fdd'>\\n\"+\n",
       "     \"<p>\\n\"+\n",
       "     \"BokehJS does not appear to have successfully loaded. If loading BokehJS from CDN, this \\n\"+\n",
       "     \"may be due to a slow or bad network connection. Possible fixes:\\n\"+\n",
       "     \"</p>\\n\"+\n",
       "     \"<ul>\\n\"+\n",
       "     \"<li>re-rerun `output_notebook()` to attempt to load from CDN again, or</li>\\n\"+\n",
       "     \"<li>use INLINE resources instead, as so:</li>\\n\"+\n",
       "     \"</ul>\\n\"+\n",
       "     \"<code>\\n\"+\n",
       "     \"from bokeh.resources import INLINE\\n\"+\n",
       "     \"output_notebook(resources=INLINE)\\n\"+\n",
       "     \"</code>\\n\"+\n",
       "     \"</div>\"}};\n",
       "\n",
       "  function display_loaded() {\n",
       "    var el = document.getElementById(\"1001\");\n",
       "    if (el != null) {\n",
       "      el.textContent = \"BokehJS is loading...\";\n",
       "    }\n",
       "    if (root.Bokeh !== undefined) {\n",
       "      if (el != null) {\n",
       "        el.textContent = \"BokehJS \" + root.Bokeh.version + \" successfully loaded.\";\n",
       "      }\n",
       "    } else if (Date.now() < root._bokeh_timeout) {\n",
       "      setTimeout(display_loaded, 100)\n",
       "    }\n",
       "  }\n",
       "\n",
       "\n",
       "  function run_callbacks() {\n",
       "    try {\n",
       "      root._bokeh_onload_callbacks.forEach(function(callback) {\n",
       "        if (callback != null)\n",
       "          callback();\n",
       "      });\n",
       "    } finally {\n",
       "      delete root._bokeh_onload_callbacks\n",
       "    }\n",
       "    console.debug(\"Bokeh: all callbacks have finished\");\n",
       "  }\n",
       "\n",
       "  function load_libs(css_urls, js_urls, callback) {\n",
       "    if (css_urls == null) css_urls = [];\n",
       "    if (js_urls == null) js_urls = [];\n",
       "\n",
       "    root._bokeh_onload_callbacks.push(callback);\n",
       "    if (root._bokeh_is_loading > 0) {\n",
       "      console.debug(\"Bokeh: BokehJS is being loaded, scheduling callback at\", now());\n",
       "      return null;\n",
       "    }\n",
       "    if (js_urls == null || js_urls.length === 0) {\n",
       "      run_callbacks();\n",
       "      return null;\n",
       "    }\n",
       "    console.debug(\"Bokeh: BokehJS not loaded, scheduling load and callback at\", now());\n",
       "    root._bokeh_is_loading = css_urls.length + js_urls.length;\n",
       "\n",
       "    function on_load() {\n",
       "      root._bokeh_is_loading--;\n",
       "      if (root._bokeh_is_loading === 0) {\n",
       "        console.debug(\"Bokeh: all BokehJS libraries/stylesheets loaded\");\n",
       "        run_callbacks()\n",
       "      }\n",
       "    }\n",
       "\n",
       "    function on_error() {\n",
       "      console.error(\"failed to load \" + url);\n",
       "    }\n",
       "\n",
       "    for (var i = 0; i < css_urls.length; i++) {\n",
       "      var url = css_urls[i];\n",
       "      const element = document.createElement(\"link\");\n",
       "      element.onload = on_load;\n",
       "      element.onerror = on_error;\n",
       "      element.rel = \"stylesheet\";\n",
       "      element.type = \"text/css\";\n",
       "      element.href = url;\n",
       "      console.debug(\"Bokeh: injecting link tag for BokehJS stylesheet: \", url);\n",
       "      document.body.appendChild(element);\n",
       "    }\n",
       "\n",
       "    for (var i = 0; i < js_urls.length; i++) {\n",
       "      var url = js_urls[i];\n",
       "      var element = document.createElement('script');\n",
       "      element.onload = on_load;\n",
       "      element.onerror = on_error;\n",
       "      element.async = false;\n",
       "      element.src = url;\n",
       "      console.debug(\"Bokeh: injecting script tag for BokehJS library: \", url);\n",
       "      document.head.appendChild(element);\n",
       "    }\n",
       "  };var element = document.getElementById(\"1001\");\n",
       "  if (element == null) {\n",
       "    console.error(\"Bokeh: ERROR: autoload.js configured with elementid '1001' but no matching script tag was found. \")\n",
       "    return false;\n",
       "  }\n",
       "\n",
       "  function inject_raw_css(css) {\n",
       "    const element = document.createElement(\"style\");\n",
       "    element.appendChild(document.createTextNode(css));\n",
       "    document.body.appendChild(element);\n",
       "  }\n",
       "\n",
       "  var js_urls = [\"https://cdn.pydata.org/bokeh/release/bokeh-1.3.4.min.js\", \"https://cdn.pydata.org/bokeh/release/bokeh-widgets-1.3.4.min.js\", \"https://cdn.pydata.org/bokeh/release/bokeh-tables-1.3.4.min.js\", \"https://cdn.pydata.org/bokeh/release/bokeh-gl-1.3.4.min.js\"];\n",
       "  var css_urls = [];\n",
       "\n",
       "  var inline_js = [\n",
       "    function(Bokeh) {\n",
       "      Bokeh.set_log_level(\"info\");\n",
       "    },\n",
       "    \n",
       "    function(Bokeh) {\n",
       "      \n",
       "    },\n",
       "    function(Bokeh) {} // ensure no trailing comma for IE\n",
       "  ];\n",
       "\n",
       "  function run_inline_js() {\n",
       "    \n",
       "    if ((root.Bokeh !== undefined) || (force === true)) {\n",
       "      for (var i = 0; i < inline_js.length; i++) {\n",
       "        inline_js[i].call(root, root.Bokeh);\n",
       "      }if (force === true) {\n",
       "        display_loaded();\n",
       "      }} else if (Date.now() < root._bokeh_timeout) {\n",
       "      setTimeout(run_inline_js, 100);\n",
       "    } else if (!root._bokeh_failed_load) {\n",
       "      console.log(\"Bokeh: BokehJS failed to load within specified timeout.\");\n",
       "      root._bokeh_failed_load = true;\n",
       "    } else if (force !== true) {\n",
       "      var cell = $(document.getElementById(\"1001\")).parents('.cell').data().cell;\n",
       "      cell.output_area.append_execute_result(NB_LOAD_WARNING)\n",
       "    }\n",
       "\n",
       "  }\n",
       "\n",
       "  if (root._bokeh_is_loading === 0) {\n",
       "    console.debug(\"Bokeh: BokehJS loaded, going straight to plotting\");\n",
       "    run_inline_js();\n",
       "  } else {\n",
       "    load_libs(css_urls, js_urls, function() {\n",
       "      console.debug(\"Bokeh: BokehJS plotting callback run at\", now());\n",
       "      run_inline_js();\n",
       "    });\n",
       "  }\n",
       "}(window));"
      ],
      "application/vnd.bokehjs_load.v0+json": "\n(function(root) {\n  function now() {\n    return new Date();\n  }\n\n  var force = true;\n\n  if (typeof root._bokeh_onload_callbacks === \"undefined\" || force === true) {\n    root._bokeh_onload_callbacks = [];\n    root._bokeh_is_loading = undefined;\n  }\n\n  \n\n  \n  if (typeof (root._bokeh_timeout) === \"undefined\" || force === true) {\n    root._bokeh_timeout = Date.now() + 5000;\n    root._bokeh_failed_load = false;\n  }\n\n  var NB_LOAD_WARNING = {'data': {'text/html':\n     \"<div style='background-color: #fdd'>\\n\"+\n     \"<p>\\n\"+\n     \"BokehJS does not appear to have successfully loaded. If loading BokehJS from CDN, this \\n\"+\n     \"may be due to a slow or bad network connection. Possible fixes:\\n\"+\n     \"</p>\\n\"+\n     \"<ul>\\n\"+\n     \"<li>re-rerun `output_notebook()` to attempt to load from CDN again, or</li>\\n\"+\n     \"<li>use INLINE resources instead, as so:</li>\\n\"+\n     \"</ul>\\n\"+\n     \"<code>\\n\"+\n     \"from bokeh.resources import INLINE\\n\"+\n     \"output_notebook(resources=INLINE)\\n\"+\n     \"</code>\\n\"+\n     \"</div>\"}};\n\n  function display_loaded() {\n    var el = document.getElementById(\"1001\");\n    if (el != null) {\n      el.textContent = \"BokehJS is loading...\";\n    }\n    if (root.Bokeh !== undefined) {\n      if (el != null) {\n        el.textContent = \"BokehJS \" + root.Bokeh.version + \" successfully loaded.\";\n      }\n    } else if (Date.now() < root._bokeh_timeout) {\n      setTimeout(display_loaded, 100)\n    }\n  }\n\n\n  function run_callbacks() {\n    try {\n      root._bokeh_onload_callbacks.forEach(function(callback) {\n        if (callback != null)\n          callback();\n      });\n    } finally {\n      delete root._bokeh_onload_callbacks\n    }\n    console.debug(\"Bokeh: all callbacks have finished\");\n  }\n\n  function load_libs(css_urls, js_urls, callback) {\n    if (css_urls == null) css_urls = [];\n    if (js_urls == null) js_urls = [];\n\n    root._bokeh_onload_callbacks.push(callback);\n    if (root._bokeh_is_loading > 0) {\n      console.debug(\"Bokeh: BokehJS is being loaded, scheduling callback at\", now());\n      return null;\n    }\n    if (js_urls == null || js_urls.length === 0) {\n      run_callbacks();\n      return null;\n    }\n    console.debug(\"Bokeh: BokehJS not loaded, scheduling load and callback at\", now());\n    root._bokeh_is_loading = css_urls.length + js_urls.length;\n\n    function on_load() {\n      root._bokeh_is_loading--;\n      if (root._bokeh_is_loading === 0) {\n        console.debug(\"Bokeh: all BokehJS libraries/stylesheets loaded\");\n        run_callbacks()\n      }\n    }\n\n    function on_error() {\n      console.error(\"failed to load \" + url);\n    }\n\n    for (var i = 0; i < css_urls.length; i++) {\n      var url = css_urls[i];\n      const element = document.createElement(\"link\");\n      element.onload = on_load;\n      element.onerror = on_error;\n      element.rel = \"stylesheet\";\n      element.type = \"text/css\";\n      element.href = url;\n      console.debug(\"Bokeh: injecting link tag for BokehJS stylesheet: \", url);\n      document.body.appendChild(element);\n    }\n\n    for (var i = 0; i < js_urls.length; i++) {\n      var url = js_urls[i];\n      var element = document.createElement('script');\n      element.onload = on_load;\n      element.onerror = on_error;\n      element.async = false;\n      element.src = url;\n      console.debug(\"Bokeh: injecting script tag for BokehJS library: \", url);\n      document.head.appendChild(element);\n    }\n  };var element = document.getElementById(\"1001\");\n  if (element == null) {\n    console.error(\"Bokeh: ERROR: autoload.js configured with elementid '1001' but no matching script tag was found. \")\n    return false;\n  }\n\n  function inject_raw_css(css) {\n    const element = document.createElement(\"style\");\n    element.appendChild(document.createTextNode(css));\n    document.body.appendChild(element);\n  }\n\n  var js_urls = [\"https://cdn.pydata.org/bokeh/release/bokeh-1.3.4.min.js\", \"https://cdn.pydata.org/bokeh/release/bokeh-widgets-1.3.4.min.js\", \"https://cdn.pydata.org/bokeh/release/bokeh-tables-1.3.4.min.js\", \"https://cdn.pydata.org/bokeh/release/bokeh-gl-1.3.4.min.js\"];\n  var css_urls = [];\n\n  var inline_js = [\n    function(Bokeh) {\n      Bokeh.set_log_level(\"info\");\n    },\n    \n    function(Bokeh) {\n      \n    },\n    function(Bokeh) {} // ensure no trailing comma for IE\n  ];\n\n  function run_inline_js() {\n    \n    if ((root.Bokeh !== undefined) || (force === true)) {\n      for (var i = 0; i < inline_js.length; i++) {\n        inline_js[i].call(root, root.Bokeh);\n      }if (force === true) {\n        display_loaded();\n      }} else if (Date.now() < root._bokeh_timeout) {\n      setTimeout(run_inline_js, 100);\n    } else if (!root._bokeh_failed_load) {\n      console.log(\"Bokeh: BokehJS failed to load within specified timeout.\");\n      root._bokeh_failed_load = true;\n    } else if (force !== true) {\n      var cell = $(document.getElementById(\"1001\")).parents('.cell').data().cell;\n      cell.output_area.append_execute_result(NB_LOAD_WARNING)\n    }\n\n  }\n\n  if (root._bokeh_is_loading === 0) {\n    console.debug(\"Bokeh: BokehJS loaded, going straight to plotting\");\n    run_inline_js();\n  } else {\n    load_libs(css_urls, js_urls, function() {\n      console.debug(\"Bokeh: BokehJS plotting callback run at\", now());\n      run_inline_js();\n    });\n  }\n}(window));"
     },
     "metadata": {},
     "output_type": "display_data"
    }
   ],
   "source": [
    "from bokeh.io import output_notebook, show\n",
    "from bokeh.plotting import figure\n",
    "output_notebook()"
   ]
  },
  {
   "cell_type": "markdown",
   "metadata": {},
   "source": [
    "Now that we know from the previous chapter how multiple plots can be placed together in a layout, we can start to look at how different plots can be linked togeher, or how plots can be linked to widgets. "
   ]
  },
  {
   "cell_type": "markdown",
   "metadata": {},
   "source": [
    "# Linked Interactions\n",
    "\n",
    "It is possible to link various interactions between different Bokeh plots. For instance, the ranges of two (or more) plots can be linked, so that when one of the plots is panned (or zoomed, or otherwise has its range changed) the other plots will update in unison. It is also possible to link selections between two plots, so that when items are selected on one plot, the corresponding items on the second plot also become selected. "
   ]
  },
  {
   "cell_type": "markdown",
   "metadata": {},
   "source": [
    "## Linked panning\n",
    "\n",
    "Linked panning (when multiple plots have ranges that stay in sync) is simple to spell with Bokeh. You simply share the appropriate range objects between two (or more) plots. The example below shows how to accomplish this by linking the ranges of three plots in various ways:"
   ]
  },
  {
   "cell_type": "code",
   "execution_count": 2,
   "metadata": {},
   "outputs": [
    {
     "data": {
      "text/html": [
       "\n",
       "\n",
       "\n",
       "\n",
       "\n",
       "\n",
       "  <div class=\"bk-root\" id=\"3eadf1fb-d8f6-475c-b8fb-89be40825990\" data-root-id=\"1116\"></div>\n"
      ]
     },
     "metadata": {},
     "output_type": "display_data"
    },
    {
     "data": {
      "application/javascript": [
       "(function(root) {\n",
       "  function embed_document(root) {\n",
       "    \n",
       "  var docs_json = {\"ac80a62d-496a-43e5-8e43-74cdcc07812a\":{\"roots\":{\"references\":[{\"attributes\":{\"children\":[{\"id\":\"1115\",\"type\":\"ToolbarBox\"},{\"id\":\"1113\",\"type\":\"GridBox\"}]},\"id\":\"1116\",\"type\":\"Column\"},{\"attributes\":{\"formatter\":{\"id\":\"1091\",\"type\":\"BasicTickFormatter\"},\"ticker\":{\"id\":\"1012\",\"type\":\"BasicTicker\"}},\"id\":\"1011\",\"type\":\"LinearAxis\"},{\"attributes\":{\"text\":\"\"},\"id\":\"1095\",\"type\":\"Title\"},{\"attributes\":{\"ticker\":{\"id\":\"1039\",\"type\":\"BasicTicker\"}},\"id\":\"1042\",\"type\":\"Grid\"},{\"attributes\":{\"ticker\":{\"id\":\"1067\",\"type\":\"BasicTicker\"}},\"id\":\"1070\",\"type\":\"Grid\"},{\"attributes\":{},\"id\":\"1012\",\"type\":\"BasicTicker\"},{\"attributes\":{\"formatter\":{\"id\":\"1098\",\"type\":\"BasicTickFormatter\"},\"ticker\":{\"id\":\"1044\",\"type\":\"BasicTicker\"}},\"id\":\"1043\",\"type\":\"LinearAxis\"},{\"attributes\":{},\"id\":\"1098\",\"type\":\"BasicTickFormatter\"},{\"attributes\":{\"formatter\":{\"id\":\"1107\",\"type\":\"BasicTickFormatter\"},\"ticker\":{\"id\":\"1072\",\"type\":\"BasicTicker\"}},\"id\":\"1071\",\"type\":\"LinearAxis\"},{\"attributes\":{\"data_source\":{\"id\":\"1026\",\"type\":\"ColumnDataSource\"},\"glyph\":{\"id\":\"1027\",\"type\":\"Circle\"},\"hover_glyph\":null,\"muted_glyph\":null,\"nonselection_glyph\":{\"id\":\"1028\",\"type\":\"Circle\"},\"selection_glyph\":null,\"view\":{\"id\":\"1030\",\"type\":\"CDSView\"}},\"id\":\"1029\",\"type\":\"GlyphRenderer\"},{\"attributes\":{\"ticker\":{\"id\":\"1012\",\"type\":\"BasicTicker\"}},\"id\":\"1015\",\"type\":\"Grid\"},{\"attributes\":{},\"id\":\"1044\",\"type\":\"BasicTicker\"},{\"attributes\":{},\"id\":\"1100\",\"type\":\"BasicTickFormatter\"},{\"attributes\":{},\"id\":\"1072\",\"type\":\"BasicTicker\"},{\"attributes\":{\"formatter\":{\"id\":\"1089\",\"type\":\"BasicTickFormatter\"},\"ticker\":{\"id\":\"1017\",\"type\":\"BasicTicker\"}},\"id\":\"1016\",\"type\":\"LinearAxis\"},{\"attributes\":{\"dimension\":1,\"ticker\":{\"id\":\"1044\",\"type\":\"BasicTicker\"}},\"id\":\"1047\",\"type\":\"Grid\"},{\"attributes\":{},\"id\":\"1101\",\"type\":\"UnionRenderers\"},{\"attributes\":{\"dimension\":1,\"ticker\":{\"id\":\"1072\",\"type\":\"BasicTicker\"}},\"id\":\"1075\",\"type\":\"Grid\"},{\"attributes\":{},\"id\":\"1017\",\"type\":\"BasicTicker\"},{\"attributes\":{\"below\":[{\"id\":\"1066\",\"type\":\"LinearAxis\"}],\"center\":[{\"id\":\"1070\",\"type\":\"Grid\"},{\"id\":\"1075\",\"type\":\"Grid\"}],\"left\":[{\"id\":\"1071\",\"type\":\"LinearAxis\"}],\"plot_height\":250,\"plot_width\":250,\"renderers\":[{\"id\":\"1084\",\"type\":\"GlyphRenderer\"}],\"title\":{\"id\":\"1104\",\"type\":\"Title\"},\"toolbar\":{\"id\":\"1078\",\"type\":\"Toolbar\"},\"toolbar_location\":null,\"x_range\":{\"id\":\"1003\",\"type\":\"DataRange1d\"},\"x_scale\":{\"id\":\"1062\",\"type\":\"LinearScale\"},\"y_range\":{\"id\":\"1060\",\"type\":\"DataRange1d\"},\"y_scale\":{\"id\":\"1064\",\"type\":\"LinearScale\"}},\"id\":\"1058\",\"subtype\":\"Figure\",\"type\":\"Plot\"},{\"attributes\":{},\"id\":\"1102\",\"type\":\"Selection\"},{\"attributes\":{\"active_drag\":\"auto\",\"active_inspect\":\"auto\",\"active_multi\":null,\"active_scroll\":\"auto\",\"active_tap\":\"auto\",\"tools\":[{\"id\":\"1048\",\"type\":\"PanTool\"},{\"id\":\"1049\",\"type\":\"WheelZoomTool\"}]},\"id\":\"1050\",\"type\":\"Toolbar\"},{\"attributes\":{\"fill_alpha\":{\"value\":0.1},\"fill_color\":{\"value\":\"#1f77b4\"},\"line_alpha\":{\"value\":0.1},\"line_color\":{\"value\":\"#1f77b4\"},\"size\":{\"units\":\"screen\",\"value\":10},\"x\":{\"field\":\"x\"},\"y\":{\"field\":\"y\"}},\"id\":\"1028\",\"type\":\"Circle\"},{\"attributes\":{\"dimension\":1,\"ticker\":{\"id\":\"1017\",\"type\":\"BasicTicker\"}},\"id\":\"1020\",\"type\":\"Grid\"},{\"attributes\":{\"active_drag\":\"auto\",\"active_inspect\":\"auto\",\"active_multi\":null,\"active_scroll\":\"auto\",\"active_tap\":\"auto\",\"tools\":[{\"id\":\"1076\",\"type\":\"PanTool\"},{\"id\":\"1077\",\"type\":\"WheelZoomTool\"}]},\"id\":\"1078\",\"type\":\"Toolbar\"},{\"attributes\":{},\"id\":\"1048\",\"type\":\"PanTool\"},{\"attributes\":{\"text\":\"\"},\"id\":\"1104\",\"type\":\"Title\"},{\"attributes\":{},\"id\":\"1076\",\"type\":\"PanTool\"},{\"attributes\":{\"callback\":null,\"data\":{\"x\":[0,1,2,3,4,5,6,7,8,9,10],\"y\":[10,9,8,7,6,5,4,3,2,1,0]},\"selected\":{\"id\":\"1102\",\"type\":\"Selection\"},\"selection_policy\":{\"id\":\"1101\",\"type\":\"UnionRenderers\"}},\"id\":\"1053\",\"type\":\"ColumnDataSource\"},{\"attributes\":{},\"id\":\"1022\",\"type\":\"WheelZoomTool\"},{\"attributes\":{},\"id\":\"1049\",\"type\":\"WheelZoomTool\"},{\"attributes\":{},\"id\":\"1107\",\"type\":\"BasicTickFormatter\"},{\"attributes\":{},\"id\":\"1077\",\"type\":\"WheelZoomTool\"},{\"attributes\":{\"active_drag\":\"auto\",\"active_inspect\":\"auto\",\"active_multi\":null,\"active_scroll\":\"auto\",\"active_tap\":\"auto\",\"tools\":[{\"id\":\"1021\",\"type\":\"PanTool\"},{\"id\":\"1022\",\"type\":\"WheelZoomTool\"}]},\"id\":\"1023\",\"type\":\"Toolbar\"},{\"attributes\":{},\"id\":\"1021\",\"type\":\"PanTool\"},{\"attributes\":{},\"id\":\"1109\",\"type\":\"BasicTickFormatter\"},{\"attributes\":{\"fill_color\":{\"value\":\"firebrick\"},\"line_color\":{\"value\":\"firebrick\"},\"size\":{\"units\":\"screen\",\"value\":10},\"x\":{\"field\":\"x\"},\"y\":{\"field\":\"y\"}},\"id\":\"1054\",\"type\":\"Triangle\"},{\"attributes\":{\"fill_color\":{\"value\":\"olive\"},\"line_color\":{\"value\":\"olive\"},\"size\":{\"units\":\"screen\",\"value\":10},\"x\":{\"field\":\"x\"},\"y\":{\"field\":\"y\"}},\"id\":\"1082\",\"type\":\"Square\"},{\"attributes\":{},\"id\":\"1110\",\"type\":\"UnionRenderers\"},{\"attributes\":{},\"id\":\"1111\",\"type\":\"Selection\"},{\"attributes\":{},\"id\":\"1092\",\"type\":\"UnionRenderers\"},{\"attributes\":{\"fill_alpha\":{\"value\":0.1},\"fill_color\":{\"value\":\"#1f77b4\"},\"line_alpha\":{\"value\":0.1},\"line_color\":{\"value\":\"#1f77b4\"},\"size\":{\"units\":\"screen\",\"value\":10},\"x\":{\"field\":\"x\"},\"y\":{\"field\":\"y\"}},\"id\":\"1055\",\"type\":\"Triangle\"},{\"attributes\":{\"fill_alpha\":{\"value\":0.1},\"fill_color\":{\"value\":\"#1f77b4\"},\"line_alpha\":{\"value\":0.1},\"line_color\":{\"value\":\"#1f77b4\"},\"size\":{\"units\":\"screen\",\"value\":10},\"x\":{\"field\":\"x\"},\"y\":{\"field\":\"y\"}},\"id\":\"1083\",\"type\":\"Square\"},{\"attributes\":{\"tools\":[{\"id\":\"1021\",\"type\":\"PanTool\"},{\"id\":\"1022\",\"type\":\"WheelZoomTool\"},{\"id\":\"1048\",\"type\":\"PanTool\"},{\"id\":\"1049\",\"type\":\"WheelZoomTool\"},{\"id\":\"1076\",\"type\":\"PanTool\"},{\"id\":\"1077\",\"type\":\"WheelZoomTool\"}]},\"id\":\"1114\",\"type\":\"ProxyToolbar\"},{\"attributes\":{\"data_source\":{\"id\":\"1053\",\"type\":\"ColumnDataSource\"},\"glyph\":{\"id\":\"1054\",\"type\":\"Triangle\"},\"hover_glyph\":null,\"muted_glyph\":null,\"nonselection_glyph\":{\"id\":\"1055\",\"type\":\"Triangle\"},\"selection_glyph\":null,\"view\":{\"id\":\"1057\",\"type\":\"CDSView\"}},\"id\":\"1056\",\"type\":\"GlyphRenderer\"},{\"attributes\":{\"data_source\":{\"id\":\"1081\",\"type\":\"ColumnDataSource\"},\"glyph\":{\"id\":\"1082\",\"type\":\"Square\"},\"hover_glyph\":null,\"muted_glyph\":null,\"nonselection_glyph\":{\"id\":\"1083\",\"type\":\"Square\"},\"selection_glyph\":null,\"view\":{\"id\":\"1085\",\"type\":\"CDSView\"}},\"id\":\"1084\",\"type\":\"GlyphRenderer\"},{\"attributes\":{\"toolbar\":{\"id\":\"1114\",\"type\":\"ProxyToolbar\"},\"toolbar_location\":\"above\"},\"id\":\"1115\",\"type\":\"ToolbarBox\"},{\"attributes\":{\"source\":{\"id\":\"1053\",\"type\":\"ColumnDataSource\"}},\"id\":\"1057\",\"type\":\"CDSView\"},{\"attributes\":{\"source\":{\"id\":\"1081\",\"type\":\"ColumnDataSource\"}},\"id\":\"1085\",\"type\":\"CDSView\"},{\"attributes\":{\"callback\":null,\"data\":{\"x\":[0,1,2,3,4,5,6,7,8,9,10],\"y\":[0,1,2,3,4,5,6,7,8,9,10]},\"selected\":{\"id\":\"1093\",\"type\":\"Selection\"},\"selection_policy\":{\"id\":\"1092\",\"type\":\"UnionRenderers\"}},\"id\":\"1026\",\"type\":\"ColumnDataSource\"},{\"attributes\":{\"below\":[{\"id\":\"1011\",\"type\":\"LinearAxis\"}],\"center\":[{\"id\":\"1015\",\"type\":\"Grid\"},{\"id\":\"1020\",\"type\":\"Grid\"}],\"left\":[{\"id\":\"1016\",\"type\":\"LinearAxis\"}],\"plot_height\":250,\"plot_width\":250,\"renderers\":[{\"id\":\"1029\",\"type\":\"GlyphRenderer\"}],\"title\":{\"id\":\"1086\",\"type\":\"Title\"},\"toolbar\":{\"id\":\"1023\",\"type\":\"Toolbar\"},\"toolbar_location\":null,\"x_range\":{\"id\":\"1003\",\"type\":\"DataRange1d\"},\"x_scale\":{\"id\":\"1007\",\"type\":\"LinearScale\"},\"y_range\":{\"id\":\"1005\",\"type\":\"DataRange1d\"},\"y_scale\":{\"id\":\"1009\",\"type\":\"LinearScale\"}},\"id\":\"1002\",\"subtype\":\"Figure\",\"type\":\"Plot\"},{\"attributes\":{\"callback\":null,\"data\":{\"x\":[0,1,2,3,4,5,6,7,8,9,10],\"y\":[5,4,3,2,1,0,1,2,3,4,5]},\"selected\":{\"id\":\"1111\",\"type\":\"Selection\"},\"selection_policy\":{\"id\":\"1110\",\"type\":\"UnionRenderers\"}},\"id\":\"1081\",\"type\":\"ColumnDataSource\"},{\"attributes\":{\"children\":[[{\"id\":\"1002\",\"subtype\":\"Figure\",\"type\":\"Plot\"},0,0],[{\"id\":\"1031\",\"subtype\":\"Figure\",\"type\":\"Plot\"},0,1],[{\"id\":\"1058\",\"subtype\":\"Figure\",\"type\":\"Plot\"},0,2]]},\"id\":\"1113\",\"type\":\"GridBox\"},{\"attributes\":{\"text\":\"\"},\"id\":\"1086\",\"type\":\"Title\"},{\"attributes\":{\"callback\":null},\"id\":\"1005\",\"type\":\"DataRange1d\"},{\"attributes\":{\"callback\":null},\"id\":\"1060\",\"type\":\"DataRange1d\"},{\"attributes\":{\"source\":{\"id\":\"1026\",\"type\":\"ColumnDataSource\"}},\"id\":\"1030\",\"type\":\"CDSView\"},{\"attributes\":{\"callback\":null},\"id\":\"1003\",\"type\":\"DataRange1d\"},{\"attributes\":{\"fill_color\":{\"value\":\"navy\"},\"line_color\":{\"value\":\"navy\"},\"size\":{\"units\":\"screen\",\"value\":10},\"x\":{\"field\":\"x\"},\"y\":{\"field\":\"y\"}},\"id\":\"1027\",\"type\":\"Circle\"},{\"attributes\":{},\"id\":\"1093\",\"type\":\"Selection\"},{\"attributes\":{},\"id\":\"1062\",\"type\":\"LinearScale\"},{\"attributes\":{},\"id\":\"1034\",\"type\":\"LinearScale\"},{\"attributes\":{},\"id\":\"1089\",\"type\":\"BasicTickFormatter\"},{\"attributes\":{\"below\":[{\"id\":\"1038\",\"type\":\"LinearAxis\"}],\"center\":[{\"id\":\"1042\",\"type\":\"Grid\"},{\"id\":\"1047\",\"type\":\"Grid\"}],\"left\":[{\"id\":\"1043\",\"type\":\"LinearAxis\"}],\"plot_height\":250,\"plot_width\":250,\"renderers\":[{\"id\":\"1056\",\"type\":\"GlyphRenderer\"}],\"title\":{\"id\":\"1095\",\"type\":\"Title\"},\"toolbar\":{\"id\":\"1050\",\"type\":\"Toolbar\"},\"toolbar_location\":null,\"x_range\":{\"id\":\"1003\",\"type\":\"DataRange1d\"},\"x_scale\":{\"id\":\"1034\",\"type\":\"LinearScale\"},\"y_range\":{\"id\":\"1005\",\"type\":\"DataRange1d\"},\"y_scale\":{\"id\":\"1036\",\"type\":\"LinearScale\"}},\"id\":\"1031\",\"subtype\":\"Figure\",\"type\":\"Plot\"},{\"attributes\":{},\"id\":\"1064\",\"type\":\"LinearScale\"},{\"attributes\":{},\"id\":\"1036\",\"type\":\"LinearScale\"},{\"attributes\":{},\"id\":\"1007\",\"type\":\"LinearScale\"},{\"attributes\":{},\"id\":\"1091\",\"type\":\"BasicTickFormatter\"},{\"attributes\":{\"formatter\":{\"id\":\"1109\",\"type\":\"BasicTickFormatter\"},\"ticker\":{\"id\":\"1067\",\"type\":\"BasicTicker\"}},\"id\":\"1066\",\"type\":\"LinearAxis\"},{\"attributes\":{\"formatter\":{\"id\":\"1100\",\"type\":\"BasicTickFormatter\"},\"ticker\":{\"id\":\"1039\",\"type\":\"BasicTicker\"}},\"id\":\"1038\",\"type\":\"LinearAxis\"},{\"attributes\":{},\"id\":\"1009\",\"type\":\"LinearScale\"},{\"attributes\":{},\"id\":\"1067\",\"type\":\"BasicTicker\"},{\"attributes\":{},\"id\":\"1039\",\"type\":\"BasicTicker\"}],\"root_ids\":[\"1116\"]},\"title\":\"Bokeh Application\",\"version\":\"1.3.4\"}};\n",
       "  var render_items = [{\"docid\":\"ac80a62d-496a-43e5-8e43-74cdcc07812a\",\"roots\":{\"1116\":\"3eadf1fb-d8f6-475c-b8fb-89be40825990\"}}];\n",
       "  root.Bokeh.embed.embed_items_notebook(docs_json, render_items);\n",
       "\n",
       "  }\n",
       "  if (root.Bokeh !== undefined) {\n",
       "    embed_document(root);\n",
       "  } else {\n",
       "    var attempts = 0;\n",
       "    var timer = setInterval(function(root) {\n",
       "      if (root.Bokeh !== undefined) {\n",
       "        embed_document(root);\n",
       "        clearInterval(timer);\n",
       "      }\n",
       "      attempts++;\n",
       "      if (attempts > 100) {\n",
       "        console.log(\"Bokeh: ERROR: Unable to run BokehJS code because BokehJS library is missing\");\n",
       "        clearInterval(timer);\n",
       "      }\n",
       "    }, 10, root)\n",
       "  }\n",
       "})(window);"
      ],
      "application/vnd.bokehjs_exec.v0+json": ""
     },
     "metadata": {
      "application/vnd.bokehjs_exec.v0+json": {
       "id": "1116"
      }
     },
     "output_type": "display_data"
    }
   ],
   "source": [
    "from bokeh.layouts import gridplot\n",
    "\n",
    "x = list(range(11))\n",
    "y0, y1, y2 = x, [10-i for i in x], [abs(i-5) for i in x]\n",
    "\n",
    "plot_options = dict(width=250, plot_height=250, tools='pan,wheel_zoom')\n",
    "\n",
    "# create a new plot\n",
    "s1 = figure(**plot_options)\n",
    "s1.circle(x, y0, size=10, color=\"navy\")\n",
    "\n",
    "# create a new plot and share both ranges\n",
    "s2 = figure(x_range=s1.x_range, y_range=s1.y_range, **plot_options)\n",
    "s2.triangle(x, y1, size=10, color=\"firebrick\")\n",
    "\n",
    "# create a new plot and share only one range\n",
    "s3 = figure(x_range=s1.x_range, **plot_options)\n",
    "s3.square(x, y2, size=10, color=\"olive\")\n",
    "\n",
    "p = gridplot([[s1, s2, s3]])\n",
    "\n",
    "# show the results\n",
    "show(p)"
   ]
  },
  {
   "cell_type": "code",
   "execution_count": 3,
   "metadata": {},
   "outputs": [],
   "source": [
    "# EXERCISE: create two plots in a gridplot, and link their ranges\n"
   ]
  },
  {
   "cell_type": "markdown",
   "metadata": {},
   "source": [
    "## Linked brushing\n",
    "\n",
    "Linking selections is accomplished in a similar way, by sharing data sources between plots. Note that normally with ``bokeh.plotting`` and ``bokeh.charts`` creating a default data source for simple plots is handled automatically. However to share a data source, we must create them by hand and pass them explicitly. This is illustrated in the example below:"
   ]
  },
  {
   "cell_type": "code",
   "execution_count": 4,
   "metadata": {},
   "outputs": [
    {
     "data": {
      "text/html": [
       "\n",
       "\n",
       "\n",
       "\n",
       "\n",
       "\n",
       "  <div class=\"bk-root\" id=\"81e1d350-085e-4789-b6b7-58df02914aa4\" data-root-id=\"1373\"></div>\n"
      ]
     },
     "metadata": {},
     "output_type": "display_data"
    },
    {
     "data": {
      "application/javascript": [
       "(function(root) {\n",
       "  function embed_document(root) {\n",
       "    \n",
       "  var docs_json = {\"b5e7ee06-0ce7-40fc-ac51-848983db983f\":{\"roots\":{\"references\":[{\"attributes\":{\"children\":[{\"id\":\"1372\",\"type\":\"ToolbarBox\"},{\"id\":\"1370\",\"type\":\"GridBox\"}]},\"id\":\"1373\",\"type\":\"Column\"},{\"attributes\":{\"text\":\"\"},\"id\":\"1348\",\"type\":\"Title\"},{\"attributes\":{\"formatter\":{\"id\":\"1364\",\"type\":\"BasicTickFormatter\"},\"ticker\":{\"id\":\"1327\",\"type\":\"BasicTicker\"}},\"id\":\"1326\",\"type\":\"LinearAxis\"},{\"attributes\":{},\"id\":\"1301\",\"type\":\"BasicTicker\"},{\"attributes\":{\"fill_color\":{\"value\":\"#1f77b4\"},\"line_color\":{\"value\":\"#1f77b4\"},\"x\":{\"field\":\"x\"},\"y\":{\"field\":\"y0\"}},\"id\":\"1313\",\"type\":\"Circle\"},{\"attributes\":{},\"id\":\"1324\",\"type\":\"LinearScale\"},{\"attributes\":{},\"id\":\"1351\",\"type\":\"BasicTickFormatter\"},{\"attributes\":{\"dimension\":1,\"ticker\":{\"id\":\"1301\",\"type\":\"BasicTicker\"}},\"id\":\"1304\",\"type\":\"Grid\"},{\"attributes\":{},\"id\":\"1322\",\"type\":\"LinearScale\"},{\"attributes\":{},\"id\":\"1353\",\"type\":\"BasicTickFormatter\"},{\"attributes\":{\"callback\":null,\"overlay\":{\"id\":\"1356\",\"type\":\"BoxAnnotation\"}},\"id\":\"1305\",\"type\":\"BoxSelectTool\"},{\"attributes\":{\"callback\":null},\"id\":\"1320\",\"type\":\"DataRange1d\"},{\"attributes\":{\"active_drag\":\"auto\",\"active_inspect\":\"auto\",\"active_multi\":null,\"active_scroll\":\"auto\",\"active_tap\":\"auto\",\"tools\":[{\"id\":\"1305\",\"type\":\"BoxSelectTool\"},{\"id\":\"1306\",\"type\":\"LassoSelectTool\"},{\"id\":\"1307\",\"type\":\"HelpTool\"}]},\"id\":\"1308\",\"type\":\"Toolbar\"},{\"attributes\":{},\"id\":\"1354\",\"type\":\"UnionRenderers\"},{\"attributes\":{\"source\":{\"id\":\"1285\",\"type\":\"ColumnDataSource\"}},\"id\":\"1347\",\"type\":\"CDSView\"},{\"attributes\":{\"active_drag\":\"auto\",\"active_inspect\":\"auto\",\"active_multi\":null,\"active_scroll\":\"auto\",\"active_tap\":\"auto\",\"tools\":[{\"id\":\"1336\",\"type\":\"BoxSelectTool\"},{\"id\":\"1337\",\"type\":\"LassoSelectTool\"},{\"id\":\"1338\",\"type\":\"HelpTool\"}]},\"id\":\"1339\",\"type\":\"Toolbar\"},{\"attributes\":{\"formatter\":{\"id\":\"1351\",\"type\":\"BasicTickFormatter\"},\"ticker\":{\"id\":\"1301\",\"type\":\"BasicTicker\"}},\"id\":\"1300\",\"type\":\"LinearAxis\"},{\"attributes\":{\"callback\":null,\"overlay\":{\"id\":\"1367\",\"type\":\"BoxAnnotation\"}},\"id\":\"1336\",\"type\":\"BoxSelectTool\"},{\"attributes\":{},\"id\":\"1355\",\"type\":\"Selection\"},{\"attributes\":{\"below\":[{\"id\":\"1295\",\"type\":\"LinearAxis\"}],\"center\":[{\"id\":\"1299\",\"type\":\"Grid\"},{\"id\":\"1304\",\"type\":\"Grid\"}],\"left\":[{\"id\":\"1300\",\"type\":\"LinearAxis\"}],\"plot_height\":300,\"plot_width\":300,\"renderers\":[{\"id\":\"1315\",\"type\":\"GlyphRenderer\"}],\"title\":{\"id\":\"1348\",\"type\":\"Title\"},\"toolbar\":{\"id\":\"1308\",\"type\":\"Toolbar\"},\"toolbar_location\":null,\"x_range\":{\"id\":\"1287\",\"type\":\"DataRange1d\"},\"x_scale\":{\"id\":\"1291\",\"type\":\"LinearScale\"},\"y_range\":{\"id\":\"1289\",\"type\":\"DataRange1d\"},\"y_scale\":{\"id\":\"1293\",\"type\":\"LinearScale\"}},\"id\":\"1286\",\"subtype\":\"Figure\",\"type\":\"Plot\"},{\"attributes\":{\"callback\":null,\"overlay\":{\"id\":\"1357\",\"type\":\"PolyAnnotation\"}},\"id\":\"1306\",\"type\":\"LassoSelectTool\"},{\"attributes\":{\"callback\":null,\"overlay\":{\"id\":\"1368\",\"type\":\"PolyAnnotation\"}},\"id\":\"1337\",\"type\":\"LassoSelectTool\"},{\"attributes\":{\"dimension\":1,\"ticker\":{\"id\":\"1332\",\"type\":\"BasicTicker\"}},\"id\":\"1335\",\"type\":\"Grid\"},{\"attributes\":{},\"id\":\"1307\",\"type\":\"HelpTool\"},{\"attributes\":{\"bottom_units\":\"screen\",\"fill_alpha\":{\"value\":0.5},\"fill_color\":{\"value\":\"lightgrey\"},\"left_units\":\"screen\",\"level\":\"overlay\",\"line_alpha\":{\"value\":1.0},\"line_color\":{\"value\":\"black\"},\"line_dash\":[4,4],\"line_width\":{\"value\":2},\"render_mode\":\"css\",\"right_units\":\"screen\",\"top_units\":\"screen\"},\"id\":\"1356\",\"type\":\"BoxAnnotation\"},{\"attributes\":{\"fill_alpha\":{\"value\":0.5},\"fill_color\":{\"value\":\"lightgrey\"},\"level\":\"overlay\",\"line_alpha\":{\"value\":1.0},\"line_color\":{\"value\":\"black\"},\"line_dash\":[4,4],\"line_width\":{\"value\":2},\"xs_units\":\"screen\",\"ys_units\":\"screen\"},\"id\":\"1357\",\"type\":\"PolyAnnotation\"},{\"attributes\":{},\"id\":\"1338\",\"type\":\"HelpTool\"},{\"attributes\":{\"callback\":null},\"id\":\"1289\",\"type\":\"DataRange1d\"},{\"attributes\":{\"text\":\"\"},\"id\":\"1359\",\"type\":\"Title\"},{\"attributes\":{\"callback\":null,\"data\":{\"x\":[-20,-19,-18,-17,-16,-15,-14,-13,-12,-11,-10,-9,-8,-7,-6,-5,-4,-3,-2,-1,0,1,2,3,4,5,6,7,8,9,10,11,12,13,14,15,16,17,18,19,20],\"y0\":[20,19,18,17,16,15,14,13,12,11,10,9,8,7,6,5,4,3,2,1,0,1,2,3,4,5,6,7,8,9,10,11,12,13,14,15,16,17,18,19,20],\"y1\":[400,361,324,289,256,225,196,169,144,121,100,81,64,49,36,25,16,9,4,1,0,1,4,9,16,25,36,49,64,81,100,121,144,169,196,225,256,289,324,361,400]},\"selected\":{\"id\":\"1355\",\"type\":\"Selection\"},\"selection_policy\":{\"id\":\"1354\",\"type\":\"UnionRenderers\"}},\"id\":\"1285\",\"type\":\"ColumnDataSource\"},{\"attributes\":{\"fill_alpha\":{\"value\":0.1},\"fill_color\":{\"value\":\"#1f77b4\"},\"line_alpha\":{\"value\":0.1},\"line_color\":{\"value\":\"#1f77b4\"},\"x\":{\"field\":\"x\"},\"y\":{\"field\":\"y0\"}},\"id\":\"1314\",\"type\":\"Circle\"},{\"attributes\":{},\"id\":\"1362\",\"type\":\"BasicTickFormatter\"},{\"attributes\":{\"fill_alpha\":{\"value\":0.1},\"fill_color\":{\"value\":\"#1f77b4\"},\"line_alpha\":{\"value\":0.1},\"line_color\":{\"value\":\"#1f77b4\"},\"x\":{\"field\":\"x\"},\"y\":{\"field\":\"y1\"}},\"id\":\"1345\",\"type\":\"Circle\"},{\"attributes\":{\"source\":{\"id\":\"1285\",\"type\":\"ColumnDataSource\"}},\"id\":\"1316\",\"type\":\"CDSView\"},{\"attributes\":{},\"id\":\"1364\",\"type\":\"BasicTickFormatter\"},{\"attributes\":{\"data_source\":{\"id\":\"1285\",\"type\":\"ColumnDataSource\"},\"glyph\":{\"id\":\"1344\",\"type\":\"Circle\"},\"hover_glyph\":null,\"muted_glyph\":null,\"nonselection_glyph\":{\"id\":\"1345\",\"type\":\"Circle\"},\"selection_glyph\":null,\"view\":{\"id\":\"1347\",\"type\":\"CDSView\"}},\"id\":\"1346\",\"type\":\"GlyphRenderer\"},{\"attributes\":{\"data_source\":{\"id\":\"1285\",\"type\":\"ColumnDataSource\"},\"glyph\":{\"id\":\"1313\",\"type\":\"Circle\"},\"hover_glyph\":null,\"muted_glyph\":null,\"nonselection_glyph\":{\"id\":\"1314\",\"type\":\"Circle\"},\"selection_glyph\":null,\"view\":{\"id\":\"1316\",\"type\":\"CDSView\"}},\"id\":\"1315\",\"type\":\"GlyphRenderer\"},{\"attributes\":{\"ticker\":{\"id\":\"1296\",\"type\":\"BasicTicker\"}},\"id\":\"1299\",\"type\":\"Grid\"},{\"attributes\":{\"bottom_units\":\"screen\",\"fill_alpha\":{\"value\":0.5},\"fill_color\":{\"value\":\"lightgrey\"},\"left_units\":\"screen\",\"level\":\"overlay\",\"line_alpha\":{\"value\":1.0},\"line_color\":{\"value\":\"black\"},\"line_dash\":[4,4],\"line_width\":{\"value\":2},\"render_mode\":\"css\",\"right_units\":\"screen\",\"top_units\":\"screen\"},\"id\":\"1367\",\"type\":\"BoxAnnotation\"},{\"attributes\":{\"fill_alpha\":{\"value\":0.5},\"fill_color\":{\"value\":\"lightgrey\"},\"level\":\"overlay\",\"line_alpha\":{\"value\":1.0},\"line_color\":{\"value\":\"black\"},\"line_dash\":[4,4],\"line_width\":{\"value\":2},\"xs_units\":\"screen\",\"ys_units\":\"screen\"},\"id\":\"1368\",\"type\":\"PolyAnnotation\"},{\"attributes\":{\"callback\":null},\"id\":\"1287\",\"type\":\"DataRange1d\"},{\"attributes\":{\"fill_color\":{\"value\":\"#1f77b4\"},\"line_color\":{\"value\":\"#1f77b4\"},\"x\":{\"field\":\"x\"},\"y\":{\"field\":\"y1\"}},\"id\":\"1344\",\"type\":\"Circle\"},{\"attributes\":{\"tools\":[{\"id\":\"1305\",\"type\":\"BoxSelectTool\"},{\"id\":\"1306\",\"type\":\"LassoSelectTool\"},{\"id\":\"1307\",\"type\":\"HelpTool\"},{\"id\":\"1336\",\"type\":\"BoxSelectTool\"},{\"id\":\"1337\",\"type\":\"LassoSelectTool\"},{\"id\":\"1338\",\"type\":\"HelpTool\"}]},\"id\":\"1371\",\"type\":\"ProxyToolbar\"},{\"attributes\":{\"below\":[{\"id\":\"1326\",\"type\":\"LinearAxis\"}],\"center\":[{\"id\":\"1330\",\"type\":\"Grid\"},{\"id\":\"1335\",\"type\":\"Grid\"}],\"left\":[{\"id\":\"1331\",\"type\":\"LinearAxis\"}],\"plot_height\":300,\"plot_width\":300,\"renderers\":[{\"id\":\"1346\",\"type\":\"GlyphRenderer\"}],\"title\":{\"id\":\"1359\",\"type\":\"Title\"},\"toolbar\":{\"id\":\"1339\",\"type\":\"Toolbar\"},\"toolbar_location\":null,\"x_range\":{\"id\":\"1318\",\"type\":\"DataRange1d\"},\"x_scale\":{\"id\":\"1322\",\"type\":\"LinearScale\"},\"y_range\":{\"id\":\"1320\",\"type\":\"DataRange1d\"},\"y_scale\":{\"id\":\"1324\",\"type\":\"LinearScale\"}},\"id\":\"1317\",\"subtype\":\"Figure\",\"type\":\"Plot\"},{\"attributes\":{\"callback\":null},\"id\":\"1318\",\"type\":\"DataRange1d\"},{\"attributes\":{\"toolbar\":{\"id\":\"1371\",\"type\":\"ProxyToolbar\"},\"toolbar_location\":\"above\"},\"id\":\"1372\",\"type\":\"ToolbarBox\"},{\"attributes\":{\"children\":[[{\"id\":\"1286\",\"subtype\":\"Figure\",\"type\":\"Plot\"},0,0],[{\"id\":\"1317\",\"subtype\":\"Figure\",\"type\":\"Plot\"},0,1]]},\"id\":\"1370\",\"type\":\"GridBox\"},{\"attributes\":{},\"id\":\"1296\",\"type\":\"BasicTicker\"},{\"attributes\":{\"formatter\":{\"id\":\"1362\",\"type\":\"BasicTickFormatter\"},\"ticker\":{\"id\":\"1332\",\"type\":\"BasicTicker\"}},\"id\":\"1331\",\"type\":\"LinearAxis\"},{\"attributes\":{},\"id\":\"1291\",\"type\":\"LinearScale\"},{\"attributes\":{},\"id\":\"1332\",\"type\":\"BasicTicker\"},{\"attributes\":{\"ticker\":{\"id\":\"1327\",\"type\":\"BasicTicker\"}},\"id\":\"1330\",\"type\":\"Grid\"},{\"attributes\":{},\"id\":\"1293\",\"type\":\"LinearScale\"},{\"attributes\":{\"formatter\":{\"id\":\"1353\",\"type\":\"BasicTickFormatter\"},\"ticker\":{\"id\":\"1296\",\"type\":\"BasicTicker\"}},\"id\":\"1295\",\"type\":\"LinearAxis\"},{\"attributes\":{},\"id\":\"1327\",\"type\":\"BasicTicker\"}],\"root_ids\":[\"1373\"]},\"title\":\"Bokeh Application\",\"version\":\"1.3.4\"}};\n",
       "  var render_items = [{\"docid\":\"b5e7ee06-0ce7-40fc-ac51-848983db983f\",\"roots\":{\"1373\":\"81e1d350-085e-4789-b6b7-58df02914aa4\"}}];\n",
       "  root.Bokeh.embed.embed_items_notebook(docs_json, render_items);\n",
       "\n",
       "  }\n",
       "  if (root.Bokeh !== undefined) {\n",
       "    embed_document(root);\n",
       "  } else {\n",
       "    var attempts = 0;\n",
       "    var timer = setInterval(function(root) {\n",
       "      if (root.Bokeh !== undefined) {\n",
       "        embed_document(root);\n",
       "        clearInterval(timer);\n",
       "      }\n",
       "      attempts++;\n",
       "      if (attempts > 100) {\n",
       "        console.log(\"Bokeh: ERROR: Unable to run BokehJS code because BokehJS library is missing\");\n",
       "        clearInterval(timer);\n",
       "      }\n",
       "    }, 10, root)\n",
       "  }\n",
       "})(window);"
      ],
      "application/vnd.bokehjs_exec.v0+json": ""
     },
     "metadata": {
      "application/vnd.bokehjs_exec.v0+json": {
       "id": "1373"
      }
     },
     "output_type": "display_data"
    }
   ],
   "source": [
    "from bokeh.models import ColumnDataSource\n",
    "\n",
    "x = list(range(-20, 21))\n",
    "y0, y1 = [abs(xx) for xx in x], [xx**2 for xx in x]\n",
    "\n",
    "# create a column data source for the plots to share\n",
    "source = ColumnDataSource(data=dict(x=x, y0=y0, y1=y1))\n",
    "\n",
    "TOOLS = \"box_select,lasso_select,help\"\n",
    "\n",
    "# create a new plot and add a renderer\n",
    "left = figure(tools=TOOLS, width=300, height=300)\n",
    "left.circle('x', 'y0', source=source)\n",
    "\n",
    "# create another new plot and add a renderer\n",
    "right = figure(tools=TOOLS, width=300, height=300)\n",
    "right.circle('x', 'y1', source=source)\n",
    "\n",
    "p = gridplot([[left, right]])\n",
    "\n",
    "show(p)"
   ]
  },
  {
   "cell_type": "code",
   "execution_count": 5,
   "metadata": {},
   "outputs": [],
   "source": [
    "# EXERCISE: create two plots in a gridplot, and link their data sources\n",
    "\n"
   ]
  },
  {
   "cell_type": "markdown",
   "metadata": {},
   "source": [
    "# Hover Tools\n",
    "\n",
    "Bokeh has a Hover Tool that allows additional information to be displayed in a popup whenever the user hovers over a specific glyph. Basic hover tool configuration amounts to providing a list of ``(name, format)`` tuples. The full details can be found in the User's Guide [here](http://bokeh.pydata.org/en/latest/docs/user_guide/tools.html#hovertool).\n",
    "\n",
    "The example below shows some basic usage of the Hover tool with a circle glyph, using hover information defined in utils.py:"
   ]
  },
  {
   "cell_type": "code",
   "execution_count": 6,
   "metadata": {},
   "outputs": [
    {
     "data": {
      "text/html": [
       "\n",
       "\n",
       "\n",
       "\n",
       "\n",
       "\n",
       "  <div class=\"bk-root\" id=\"26bf7c79-a866-40b0-bc3d-bce0f17bc409\" data-root-id=\"1528\"></div>\n"
      ]
     },
     "metadata": {},
     "output_type": "display_data"
    },
    {
     "data": {
      "application/javascript": [
       "(function(root) {\n",
       "  function embed_document(root) {\n",
       "    \n",
       "  var docs_json = {\"9e03654e-85f0-48aa-8e5f-4f47412b4713\":{\"roots\":{\"references\":[{\"attributes\":{\"below\":[{\"id\":\"1539\",\"type\":\"LinearAxis\"}],\"center\":[{\"id\":\"1543\",\"type\":\"Grid\"},{\"id\":\"1548\",\"type\":\"Grid\"}],\"left\":[{\"id\":\"1544\",\"type\":\"LinearAxis\"}],\"plot_height\":300,\"plot_width\":300,\"renderers\":[{\"id\":\"1554\",\"type\":\"GlyphRenderer\"}],\"title\":{\"id\":\"1529\",\"type\":\"Title\"},\"toolbar\":{\"id\":\"1549\",\"type\":\"Toolbar\"},\"x_range\":{\"id\":\"1531\",\"type\":\"DataRange1d\"},\"x_scale\":{\"id\":\"1535\",\"type\":\"LinearScale\"},\"y_range\":{\"id\":\"1533\",\"type\":\"DataRange1d\"},\"y_scale\":{\"id\":\"1537\",\"type\":\"LinearScale\"}},\"id\":\"1528\",\"subtype\":\"Figure\",\"type\":\"Plot\"},{\"attributes\":{\"ticker\":{\"id\":\"1540\",\"type\":\"BasicTicker\"}},\"id\":\"1543\",\"type\":\"Grid\"},{\"attributes\":{},\"id\":\"1537\",\"type\":\"LinearScale\"},{\"attributes\":{\"formatter\":{\"id\":\"1600\",\"type\":\"BasicTickFormatter\"},\"ticker\":{\"id\":\"1545\",\"type\":\"BasicTicker\"}},\"id\":\"1544\",\"type\":\"LinearAxis\"},{\"attributes\":{\"dimension\":1,\"ticker\":{\"id\":\"1545\",\"type\":\"BasicTicker\"}},\"id\":\"1548\",\"type\":\"Grid\"},{\"attributes\":{\"callback\":null,\"tooltips\":[[\"index\",\"$index\"],[\"(x,y)\",\"($x, $y)\"],[\"desc\",\"@desc\"]]},\"id\":\"1527\",\"type\":\"HoverTool\"},{\"attributes\":{},\"id\":\"1545\",\"type\":\"BasicTicker\"},{\"attributes\":{\"active_drag\":\"auto\",\"active_inspect\":\"auto\",\"active_multi\":null,\"active_scroll\":\"auto\",\"active_tap\":\"auto\",\"tools\":[{\"id\":\"1527\",\"type\":\"HoverTool\"}]},\"id\":\"1549\",\"type\":\"Toolbar\"},{\"attributes\":{\"callback\":null},\"id\":\"1531\",\"type\":\"DataRange1d\"},{\"attributes\":{\"callback\":null,\"data\":{\"desc\":[\"A\",\"b\",\"C\",\"d\",\"E\"],\"x\":[1,2,3,4,5],\"y\":[2,5,8,2,7]},\"selected\":{\"id\":\"1604\",\"type\":\"Selection\"},\"selection_policy\":{\"id\":\"1603\",\"type\":\"UnionRenderers\"}},\"id\":\"1526\",\"type\":\"ColumnDataSource\"},{\"attributes\":{\"data_source\":{\"id\":\"1526\",\"type\":\"ColumnDataSource\"},\"glyph\":{\"id\":\"1552\",\"type\":\"Circle\"},\"hover_glyph\":null,\"muted_glyph\":null,\"nonselection_glyph\":{\"id\":\"1553\",\"type\":\"Circle\"},\"selection_glyph\":null,\"view\":{\"id\":\"1555\",\"type\":\"CDSView\"}},\"id\":\"1554\",\"type\":\"GlyphRenderer\"},{\"attributes\":{\"fill_alpha\":{\"value\":0.1},\"fill_color\":{\"value\":\"#1f77b4\"},\"line_alpha\":{\"value\":0.1},\"line_color\":{\"value\":\"#1f77b4\"},\"size\":{\"units\":\"screen\",\"value\":20},\"x\":{\"field\":\"x\"},\"y\":{\"field\":\"y\"}},\"id\":\"1553\",\"type\":\"Circle\"},{\"attributes\":{\"fill_color\":{\"value\":\"#1f77b4\"},\"line_color\":{\"value\":\"#1f77b4\"},\"size\":{\"units\":\"screen\",\"value\":20},\"x\":{\"field\":\"x\"},\"y\":{\"field\":\"y\"}},\"id\":\"1552\",\"type\":\"Circle\"},{\"attributes\":{\"text\":\"Mouse over the dots\"},\"id\":\"1529\",\"type\":\"Title\"},{\"attributes\":{\"source\":{\"id\":\"1526\",\"type\":\"ColumnDataSource\"}},\"id\":\"1555\",\"type\":\"CDSView\"},{\"attributes\":{},\"id\":\"1602\",\"type\":\"BasicTickFormatter\"},{\"attributes\":{},\"id\":\"1603\",\"type\":\"UnionRenderers\"},{\"attributes\":{},\"id\":\"1600\",\"type\":\"BasicTickFormatter\"},{\"attributes\":{\"callback\":null},\"id\":\"1533\",\"type\":\"DataRange1d\"},{\"attributes\":{},\"id\":\"1604\",\"type\":\"Selection\"},{\"attributes\":{},\"id\":\"1535\",\"type\":\"LinearScale\"},{\"attributes\":{\"formatter\":{\"id\":\"1602\",\"type\":\"BasicTickFormatter\"},\"ticker\":{\"id\":\"1540\",\"type\":\"BasicTicker\"}},\"id\":\"1539\",\"type\":\"LinearAxis\"},{\"attributes\":{},\"id\":\"1540\",\"type\":\"BasicTicker\"}],\"root_ids\":[\"1528\"]},\"title\":\"Bokeh Application\",\"version\":\"1.3.4\"}};\n",
       "  var render_items = [{\"docid\":\"9e03654e-85f0-48aa-8e5f-4f47412b4713\",\"roots\":{\"1528\":\"26bf7c79-a866-40b0-bc3d-bce0f17bc409\"}}];\n",
       "  root.Bokeh.embed.embed_items_notebook(docs_json, render_items);\n",
       "\n",
       "  }\n",
       "  if (root.Bokeh !== undefined) {\n",
       "    embed_document(root);\n",
       "  } else {\n",
       "    var attempts = 0;\n",
       "    var timer = setInterval(function(root) {\n",
       "      if (root.Bokeh !== undefined) {\n",
       "        embed_document(root);\n",
       "        clearInterval(timer);\n",
       "      }\n",
       "      attempts++;\n",
       "      if (attempts > 100) {\n",
       "        console.log(\"Bokeh: ERROR: Unable to run BokehJS code because BokehJS library is missing\");\n",
       "        clearInterval(timer);\n",
       "      }\n",
       "    }, 10, root)\n",
       "  }\n",
       "})(window);"
      ],
      "application/vnd.bokehjs_exec.v0+json": ""
     },
     "metadata": {
      "application/vnd.bokehjs_exec.v0+json": {
       "id": "1528"
      }
     },
     "output_type": "display_data"
    }
   ],
   "source": [
    "from bokeh.models import HoverTool\n",
    "\n",
    "source = ColumnDataSource(\n",
    "        data=dict(\n",
    "            x=[1, 2, 3, 4, 5],\n",
    "            y=[2, 5, 8, 2, 7],\n",
    "            desc=['A', 'b', 'C', 'd', 'E'],\n",
    "        )\n",
    "    )\n",
    "\n",
    "hover = HoverTool(\n",
    "        tooltips=[\n",
    "            (\"index\", \"$index\"),\n",
    "            (\"(x,y)\", \"($x, $y)\"),\n",
    "            (\"desc\", \"@desc\"),\n",
    "        ]\n",
    "    )\n",
    "\n",
    "p = figure(plot_width=300, plot_height=300, tools=[hover], title=\"Mouse over the dots\")\n",
    "\n",
    "p.circle('x', 'y', size=20, source=source)\n",
    "\n",
    "show(p)"
   ]
  },
  {
   "cell_type": "markdown",
   "metadata": {},
   "source": [
    "# Widgets"
   ]
  },
  {
   "cell_type": "markdown",
   "metadata": {},
   "source": [
    "Bokeh supports direct integration with a small basic widget set. Thse can be used in conjunction with a Bokeh Server, or with ``CustomJS`` models to add more interactive capability to your documents. You can see a complete list, with example code in the [Adding Widgets](http://bokeh.pydata.org/en/latest/docs/user_guide/interaction.html#adding-widgets) section of the User's Guide. \n",
    "\n",
    "To use the widgets, include them in a layout like you would a plot object:"
   ]
  },
  {
   "cell_type": "code",
   "execution_count": 7,
   "metadata": {},
   "outputs": [
    {
     "data": {
      "text/html": [
       "\n",
       "\n",
       "\n",
       "\n",
       "\n",
       "\n",
       "  <div class=\"bk-root\" id=\"e15c6df5-9f43-432b-8dc2-a03cc2e034d1\" data-root-id=\"1648\"></div>\n"
      ]
     },
     "metadata": {},
     "output_type": "display_data"
    },
    {
     "data": {
      "application/javascript": [
       "(function(root) {\n",
       "  function embed_document(root) {\n",
       "    \n",
       "  var docs_json = {\"30d57222-66b8-4cc8-9a7b-70ff8df22cef\":{\"roots\":{\"references\":[{\"attributes\":{\"children\":[{\"id\":\"1647\",\"type\":\"Slider\"}]},\"id\":\"1648\",\"type\":\"WidgetBox\"},{\"attributes\":{\"callback\":null,\"end\":10,\"start\":0,\"step\":0.1,\"title\":\"foo\",\"value\":1},\"id\":\"1647\",\"type\":\"Slider\"}],\"root_ids\":[\"1648\"]},\"title\":\"Bokeh Application\",\"version\":\"1.3.4\"}};\n",
       "  var render_items = [{\"docid\":\"30d57222-66b8-4cc8-9a7b-70ff8df22cef\",\"roots\":{\"1648\":\"e15c6df5-9f43-432b-8dc2-a03cc2e034d1\"}}];\n",
       "  root.Bokeh.embed.embed_items_notebook(docs_json, render_items);\n",
       "\n",
       "  }\n",
       "  if (root.Bokeh !== undefined) {\n",
       "    embed_document(root);\n",
       "  } else {\n",
       "    var attempts = 0;\n",
       "    var timer = setInterval(function(root) {\n",
       "      if (root.Bokeh !== undefined) {\n",
       "        embed_document(root);\n",
       "        clearInterval(timer);\n",
       "      }\n",
       "      attempts++;\n",
       "      if (attempts > 100) {\n",
       "        console.log(\"Bokeh: ERROR: Unable to run BokehJS code because BokehJS library is missing\");\n",
       "        clearInterval(timer);\n",
       "      }\n",
       "    }, 10, root)\n",
       "  }\n",
       "})(window);"
      ],
      "application/vnd.bokehjs_exec.v0+json": ""
     },
     "metadata": {
      "application/vnd.bokehjs_exec.v0+json": {
       "id": "1648"
      }
     },
     "output_type": "display_data"
    }
   ],
   "source": [
    "from bokeh.layouts import widgetbox\n",
    "from bokeh.models.widgets import Slider\n",
    "\n",
    "\n",
    "slider = Slider(start=0, end=10, value=1, step=.1, title=\"foo\")\n",
    "\n",
    "show(widgetbox(slider))"
   ]
  },
  {
   "cell_type": "code",
   "execution_count": 8,
   "metadata": {},
   "outputs": [],
   "source": [
    "# EXERCISE: create and show a Select widget \n"
   ]
  },
  {
   "cell_type": "markdown",
   "metadata": {},
   "source": [
    "# CustomJS Callbacks"
   ]
  },
  {
   "cell_type": "code",
   "execution_count": 9,
   "metadata": {},
   "outputs": [
    {
     "data": {
      "text/html": [
       "\n",
       "\n",
       "\n",
       "\n",
       "\n",
       "\n",
       "  <div class=\"bk-root\" id=\"cef8a831-bff9-471c-be0b-55fb1c343950\" data-root-id=\"1700\"></div>\n"
      ]
     },
     "metadata": {},
     "output_type": "display_data"
    },
    {
     "data": {
      "application/javascript": [
       "(function(root) {\n",
       "  function embed_document(root) {\n",
       "    \n",
       "  var docs_json = {\"78f63f96-4e01-46ba-9e54-09e71fc11640\":{\"roots\":{\"references\":[{\"attributes\":{\"below\":[{\"id\":\"1709\",\"type\":\"LinearAxis\"}],\"center\":[{\"id\":\"1713\",\"type\":\"Grid\"},{\"id\":\"1718\",\"type\":\"Grid\"}],\"left\":[{\"id\":\"1714\",\"type\":\"LinearAxis\"}],\"plot_height\":300,\"renderers\":[{\"id\":\"1724\",\"type\":\"GlyphRenderer\"}],\"title\":{\"id\":\"1775\",\"type\":\"Title\"},\"toolbar\":{\"id\":\"1719\",\"type\":\"Toolbar\"},\"x_range\":{\"id\":\"1701\",\"type\":\"DataRange1d\"},\"x_scale\":{\"id\":\"1705\",\"type\":\"LinearScale\"},\"y_range\":{\"id\":\"1703\",\"type\":\"DataRange1d\"},\"y_scale\":{\"id\":\"1707\",\"type\":\"LinearScale\"}},\"id\":\"1700\",\"subtype\":\"Figure\",\"type\":\"Plot\"},{\"attributes\":{\"data_source\":{\"id\":\"1721\",\"type\":\"ColumnDataSource\"},\"glyph\":{\"id\":\"1722\",\"type\":\"Circle\"},\"hover_glyph\":null,\"muted_glyph\":null,\"nonselection_glyph\":{\"id\":\"1723\",\"type\":\"Circle\"},\"selection_glyph\":null,\"view\":{\"id\":\"1725\",\"type\":\"CDSView\"}},\"id\":\"1724\",\"type\":\"GlyphRenderer\"},{\"attributes\":{},\"id\":\"1705\",\"type\":\"LinearScale\"},{\"attributes\":{\"callback\":null,\"data\":{\"x\":[1,2,3,4,5],\"y\":[2,5,8,2,7]},\"selected\":{\"id\":\"1782\",\"type\":\"Selection\"},\"selection_policy\":{\"id\":\"1781\",\"type\":\"UnionRenderers\"}},\"id\":\"1721\",\"type\":\"ColumnDataSource\"},{\"attributes\":{\"source\":{\"id\":\"1721\",\"type\":\"ColumnDataSource\"}},\"id\":\"1725\",\"type\":\"CDSView\"},{\"attributes\":{\"fill_color\":{\"value\":\"#1f77b4\"},\"line_color\":{\"value\":\"#1f77b4\"},\"size\":{\"units\":\"screen\",\"value\":20},\"x\":{\"field\":\"x\"},\"y\":{\"field\":\"y\"}},\"id\":\"1722\",\"type\":\"Circle\"},{\"attributes\":{},\"id\":\"1782\",\"type\":\"Selection\"},{\"attributes\":{\"code\":\"alert('hello world')\"},\"id\":\"1698\",\"type\":\"CustomJS\"},{\"attributes\":{},\"id\":\"1780\",\"type\":\"BasicTickFormatter\"},{\"attributes\":{\"callback\":null},\"id\":\"1701\",\"type\":\"DataRange1d\"},{\"attributes\":{\"callback\":{\"id\":\"1698\",\"type\":\"CustomJS\"}},\"id\":\"1699\",\"type\":\"TapTool\"},{\"attributes\":{\"callback\":null},\"id\":\"1703\",\"type\":\"DataRange1d\"},{\"attributes\":{\"formatter\":{\"id\":\"1778\",\"type\":\"BasicTickFormatter\"},\"ticker\":{\"id\":\"1715\",\"type\":\"BasicTicker\"}},\"id\":\"1714\",\"type\":\"LinearAxis\"},{\"attributes\":{},\"id\":\"1781\",\"type\":\"UnionRenderers\"},{\"attributes\":{\"fill_alpha\":{\"value\":0.1},\"fill_color\":{\"value\":\"#1f77b4\"},\"line_alpha\":{\"value\":0.1},\"line_color\":{\"value\":\"#1f77b4\"},\"size\":{\"units\":\"screen\",\"value\":20},\"x\":{\"field\":\"x\"},\"y\":{\"field\":\"y\"}},\"id\":\"1723\",\"type\":\"Circle\"},{\"attributes\":{\"ticker\":{\"id\":\"1710\",\"type\":\"BasicTicker\"}},\"id\":\"1713\",\"type\":\"Grid\"},{\"attributes\":{},\"id\":\"1710\",\"type\":\"BasicTicker\"},{\"attributes\":{\"formatter\":{\"id\":\"1780\",\"type\":\"BasicTickFormatter\"},\"ticker\":{\"id\":\"1710\",\"type\":\"BasicTicker\"}},\"id\":\"1709\",\"type\":\"LinearAxis\"},{\"attributes\":{\"active_drag\":\"auto\",\"active_inspect\":\"auto\",\"active_multi\":null,\"active_scroll\":\"auto\",\"active_tap\":\"auto\",\"tools\":[{\"id\":\"1699\",\"type\":\"TapTool\"}]},\"id\":\"1719\",\"type\":\"Toolbar\"},{\"attributes\":{},\"id\":\"1778\",\"type\":\"BasicTickFormatter\"},{\"attributes\":{\"dimension\":1,\"ticker\":{\"id\":\"1715\",\"type\":\"BasicTicker\"}},\"id\":\"1718\",\"type\":\"Grid\"},{\"attributes\":{},\"id\":\"1707\",\"type\":\"LinearScale\"},{\"attributes\":{\"text\":\"\"},\"id\":\"1775\",\"type\":\"Title\"},{\"attributes\":{},\"id\":\"1715\",\"type\":\"BasicTicker\"}],\"root_ids\":[\"1700\"]},\"title\":\"Bokeh Application\",\"version\":\"1.3.4\"}};\n",
       "  var render_items = [{\"docid\":\"78f63f96-4e01-46ba-9e54-09e71fc11640\",\"roots\":{\"1700\":\"cef8a831-bff9-471c-be0b-55fb1c343950\"}}];\n",
       "  root.Bokeh.embed.embed_items_notebook(docs_json, render_items);\n",
       "\n",
       "  }\n",
       "  if (root.Bokeh !== undefined) {\n",
       "    embed_document(root);\n",
       "  } else {\n",
       "    var attempts = 0;\n",
       "    var timer = setInterval(function(root) {\n",
       "      if (root.Bokeh !== undefined) {\n",
       "        embed_document(root);\n",
       "        clearInterval(timer);\n",
       "      }\n",
       "      attempts++;\n",
       "      if (attempts > 100) {\n",
       "        console.log(\"Bokeh: ERROR: Unable to run BokehJS code because BokehJS library is missing\");\n",
       "        clearInterval(timer);\n",
       "      }\n",
       "    }, 10, root)\n",
       "  }\n",
       "})(window);"
      ],
      "application/vnd.bokehjs_exec.v0+json": ""
     },
     "metadata": {
      "application/vnd.bokehjs_exec.v0+json": {
       "id": "1700"
      }
     },
     "output_type": "display_data"
    }
   ],
   "source": [
    "from bokeh.models import TapTool, CustomJS, ColumnDataSource\n",
    "\n",
    "callback = CustomJS(code=\"alert('hello world')\")\n",
    "tap = TapTool(callback=callback)\n",
    "\n",
    "p = figure(plot_width=600, plot_height=300, tools=[tap])\n",
    "\n",
    "p.circle(x=[1, 2, 3, 4, 5], y=[2, 5, 8, 2, 7], size=20)\n",
    "\n",
    "show(p)"
   ]
  },
  {
   "cell_type": "markdown",
   "metadata": {},
   "source": [
    "## Lots of places to add callbacks\n",
    "\n",
    "* Widgets - Button, Toggle, Dropdown, TextInput, AutocompleteInput, Select, Multiselect, Slider, (DateRangeSlider), DatePicker,\n",
    "* Tools - TapTool, BoxSelectTool, HoverTool,\n",
    "* Selection - ColumnDataSource, AjaxDataSource, BlazeDataSource, ServerDataSource\n",
    "* Ranges - Range1d, DataRange1d, FactorRange\n"
   ]
  },
  {
   "cell_type": "markdown",
   "metadata": {},
   "source": [
    "## Callbacks for widgets\n",
    "\n",
    "Widgets that have values associated can have small JavaScript actions attached to them. These actions (also referred to as \"callbacks\") are executed whenever the widget's value is changed. In order to make it easier to refer to specific Bokeh models (e.g., a data source, or a glyhph) from JavaScript, the ``CustomJS`` obejct also accepts a dictionary of \"args\" that map names to Python Bokeh models. The corresponding JavaScript models are made available automaticaly to the ``CustomJS`` code. \n",
    "\n",
    "And example below shows an action attached to a slider that updates a data source whenever the slider is moved:"
   ]
  },
  {
   "cell_type": "code",
   "execution_count": 10,
   "metadata": {},
   "outputs": [
    {
     "data": {
      "text/html": [
       "\n",
       "\n",
       "\n",
       "\n",
       "\n",
       "\n",
       "  <div class=\"bk-root\" id=\"4e43b2bd-37b2-4693-ac45-e494c7f87b77\" data-root-id=\"1871\"></div>\n"
      ]
     },
     "metadata": {},
     "output_type": "display_data"
    },
    {
     "data": {
      "application/javascript": [
       "(function(root) {\n",
       "  function embed_document(root) {\n",
       "    \n",
       "  var docs_json = {\"de392cf2-402e-42cd-b023-7a76627650ad\":{\"roots\":{\"references\":[{\"attributes\":{\"children\":[{\"id\":\"1869\",\"type\":\"Slider\"},{\"id\":\"1832\",\"subtype\":\"Figure\",\"type\":\"Plot\"}]},\"id\":\"1871\",\"type\":\"Column\"},{\"attributes\":{},\"id\":\"1934\",\"type\":\"BasicTickFormatter\"},{\"attributes\":{\"ticker\":{\"id\":\"1842\",\"type\":\"BasicTicker\"}},\"id\":\"1845\",\"type\":\"Grid\"},{\"attributes\":{\"callback\":null,\"end\":6,\"js_property_callbacks\":{\"change:value\":[{\"id\":\"1870\",\"type\":\"CustomJS\"}]},\"start\":0.1,\"step\":0.1,\"title\":\"power\",\"value\":1},\"id\":\"1869\",\"type\":\"Slider\"},{\"attributes\":{},\"id\":\"1935\",\"type\":\"UnionRenderers\"},{\"attributes\":{\"formatter\":{\"id\":\"1932\",\"type\":\"BasicTickFormatter\"},\"ticker\":{\"id\":\"1847\",\"type\":\"BasicTicker\"}},\"id\":\"1846\",\"type\":\"LinearAxis\"},{\"attributes\":{},\"id\":\"1936\",\"type\":\"Selection\"},{\"attributes\":{},\"id\":\"1847\",\"type\":\"BasicTicker\"},{\"attributes\":{\"bottom_units\":\"screen\",\"fill_alpha\":{\"value\":0.5},\"fill_color\":{\"value\":\"lightgrey\"},\"left_units\":\"screen\",\"level\":\"overlay\",\"line_alpha\":{\"value\":1.0},\"line_color\":{\"value\":\"black\"},\"line_dash\":[4,4],\"line_width\":{\"value\":2},\"render_mode\":\"css\",\"right_units\":\"screen\",\"top_units\":\"screen\"},\"id\":\"1937\",\"type\":\"BoxAnnotation\"},{\"attributes\":{\"dimension\":1,\"ticker\":{\"id\":\"1847\",\"type\":\"BasicTicker\"}},\"id\":\"1850\",\"type\":\"Grid\"},{\"attributes\":{\"line_alpha\":0.1,\"line_color\":\"#1f77b4\",\"line_width\":3,\"x\":{\"field\":\"x\"},\"y\":{\"field\":\"y\"}},\"id\":\"1866\",\"type\":\"Line\"},{\"attributes\":{\"line_alpha\":0.6,\"line_color\":\"#1f77b4\",\"line_width\":3,\"x\":{\"field\":\"x\"},\"y\":{\"field\":\"y\"}},\"id\":\"1865\",\"type\":\"Line\"},{\"attributes\":{},\"id\":\"1842\",\"type\":\"BasicTicker\"},{\"attributes\":{\"active_drag\":\"auto\",\"active_inspect\":\"auto\",\"active_multi\":null,\"active_scroll\":\"auto\",\"active_tap\":\"auto\",\"tools\":[{\"id\":\"1851\",\"type\":\"PanTool\"},{\"id\":\"1852\",\"type\":\"WheelZoomTool\"},{\"id\":\"1853\",\"type\":\"BoxZoomTool\"},{\"id\":\"1854\",\"type\":\"SaveTool\"},{\"id\":\"1855\",\"type\":\"ResetTool\"},{\"id\":\"1856\",\"type\":\"HelpTool\"}]},\"id\":\"1857\",\"type\":\"Toolbar\"},{\"attributes\":{},\"id\":\"1837\",\"type\":\"LinearScale\"},{\"attributes\":{},\"id\":\"1851\",\"type\":\"PanTool\"},{\"attributes\":{},\"id\":\"1852\",\"type\":\"WheelZoomTool\"},{\"attributes\":{\"overlay\":{\"id\":\"1937\",\"type\":\"BoxAnnotation\"}},\"id\":\"1853\",\"type\":\"BoxZoomTool\"},{\"attributes\":{},\"id\":\"1839\",\"type\":\"LinearScale\"},{\"attributes\":{},\"id\":\"1932\",\"type\":\"BasicTickFormatter\"},{\"attributes\":{\"callback\":null},\"id\":\"1833\",\"type\":\"DataRange1d\"},{\"attributes\":{},\"id\":\"1854\",\"type\":\"SaveTool\"},{\"attributes\":{\"formatter\":{\"id\":\"1934\",\"type\":\"BasicTickFormatter\"},\"ticker\":{\"id\":\"1842\",\"type\":\"BasicTicker\"}},\"id\":\"1841\",\"type\":\"LinearAxis\"},{\"attributes\":{},\"id\":\"1855\",\"type\":\"ResetTool\"},{\"attributes\":{},\"id\":\"1856\",\"type\":\"HelpTool\"},{\"attributes\":{\"callback\":null},\"id\":\"1835\",\"type\":\"DataRange1d\"},{\"attributes\":{\"data_source\":{\"id\":\"1831\",\"type\":\"ColumnDataSource\"},\"glyph\":{\"id\":\"1865\",\"type\":\"Line\"},\"hover_glyph\":null,\"muted_glyph\":null,\"nonselection_glyph\":{\"id\":\"1866\",\"type\":\"Line\"},\"selection_glyph\":null,\"view\":{\"id\":\"1868\",\"type\":\"CDSView\"}},\"id\":\"1867\",\"type\":\"GlyphRenderer\"},{\"attributes\":{\"below\":[{\"id\":\"1841\",\"type\":\"LinearAxis\"}],\"center\":[{\"id\":\"1845\",\"type\":\"Grid\"},{\"id\":\"1850\",\"type\":\"Grid\"}],\"left\":[{\"id\":\"1846\",\"type\":\"LinearAxis\"}],\"plot_height\":400,\"plot_width\":400,\"renderers\":[{\"id\":\"1867\",\"type\":\"GlyphRenderer\"}],\"title\":{\"id\":\"1929\",\"type\":\"Title\"},\"toolbar\":{\"id\":\"1857\",\"type\":\"Toolbar\"},\"x_range\":{\"id\":\"1833\",\"type\":\"DataRange1d\"},\"x_scale\":{\"id\":\"1837\",\"type\":\"LinearScale\"},\"y_range\":{\"id\":\"1835\",\"type\":\"DataRange1d\"},\"y_scale\":{\"id\":\"1839\",\"type\":\"LinearScale\"}},\"id\":\"1832\",\"subtype\":\"Figure\",\"type\":\"Plot\"},{\"attributes\":{\"source\":{\"id\":\"1831\",\"type\":\"ColumnDataSource\"}},\"id\":\"1868\",\"type\":\"CDSView\"},{\"attributes\":{\"callback\":null,\"data\":{\"x\":[0.0,0.005,0.01,0.015,0.02,0.025,0.03,0.035,0.04,0.045,0.05,0.055,0.06,0.065,0.07,0.075,0.08,0.085,0.09,0.095,0.1,0.105,0.11,0.115,0.12,0.125,0.13,0.135,0.14,0.145,0.15,0.155,0.16,0.165,0.17,0.17500000000000002,0.18,0.185,0.19,0.195,0.2,0.20500000000000002,0.21,0.215,0.22,0.225,0.23,0.23500000000000001,0.24,0.245,0.25,0.255,0.26,0.265,0.27,0.275,0.28,0.28500000000000003,0.29,0.295,0.3,0.305,0.31,0.315,0.32,0.325,0.33,0.335,0.34,0.34500000000000003,0.35000000000000003,0.355,0.36,0.365,0.37,0.375,0.38,0.385,0.39,0.395,0.4,0.405,0.41000000000000003,0.41500000000000004,0.42,0.425,0.43,0.435,0.44,0.445,0.45,0.455,0.46,0.465,0.47000000000000003,0.47500000000000003,0.48,0.485,0.49,0.495,0.5,0.505,0.51,0.515,0.52,0.525,0.53,0.535,0.54,0.545,0.55,0.555,0.56,0.5650000000000001,0.5700000000000001,0.5750000000000001,0.58,0.585,0.59,0.595,0.6,0.605,0.61,0.615,0.62,0.625,0.63,0.635,0.64,0.645,0.65,0.655,0.66,0.665,0.67,0.675,0.68,0.685,0.6900000000000001,0.6950000000000001,0.7000000000000001,0.705,0.71,0.715,0.72,0.725,0.73,0.735,0.74,0.745,0.75,0.755,0.76,0.765,0.77,0.775,0.78,0.785,0.79,0.795,0.8,0.805,0.81,0.8150000000000001,0.8200000000000001,0.8250000000000001,0.8300000000000001,0.835,0.84,0.845,0.85,0.855,0.86,0.865,0.87,0.875,0.88,0.885,0.89,0.895,0.9,0.905,0.91,0.915,0.92,0.925,0.93,0.935,0.9400000000000001,0.9450000000000001,0.9500000000000001,0.9550000000000001,0.96,0.965,0.97,0.975,0.98,0.985,0.99,0.995,1.0],\"y\":[0.0,0.005,0.01,0.015,0.02,0.025,0.03,0.035,0.04,0.045,0.05,0.055,0.06,0.065,0.07,0.075,0.08,0.085,0.09,0.095,0.1,0.105,0.11,0.115,0.12,0.125,0.13,0.135,0.14,0.145,0.15,0.155,0.16,0.165,0.17,0.17500000000000002,0.18,0.185,0.19,0.195,0.2,0.20500000000000002,0.21,0.215,0.22,0.225,0.23,0.23500000000000001,0.24,0.245,0.25,0.255,0.26,0.265,0.27,0.275,0.28,0.28500000000000003,0.29,0.295,0.3,0.305,0.31,0.315,0.32,0.325,0.33,0.335,0.34,0.34500000000000003,0.35000000000000003,0.355,0.36,0.365,0.37,0.375,0.38,0.385,0.39,0.395,0.4,0.405,0.41000000000000003,0.41500000000000004,0.42,0.425,0.43,0.435,0.44,0.445,0.45,0.455,0.46,0.465,0.47000000000000003,0.47500000000000003,0.48,0.485,0.49,0.495,0.5,0.505,0.51,0.515,0.52,0.525,0.53,0.535,0.54,0.545,0.55,0.555,0.56,0.5650000000000001,0.5700000000000001,0.5750000000000001,0.58,0.585,0.59,0.595,0.6,0.605,0.61,0.615,0.62,0.625,0.63,0.635,0.64,0.645,0.65,0.655,0.66,0.665,0.67,0.675,0.68,0.685,0.6900000000000001,0.6950000000000001,0.7000000000000001,0.705,0.71,0.715,0.72,0.725,0.73,0.735,0.74,0.745,0.75,0.755,0.76,0.765,0.77,0.775,0.78,0.785,0.79,0.795,0.8,0.805,0.81,0.8150000000000001,0.8200000000000001,0.8250000000000001,0.8300000000000001,0.835,0.84,0.845,0.85,0.855,0.86,0.865,0.87,0.875,0.88,0.885,0.89,0.895,0.9,0.905,0.91,0.915,0.92,0.925,0.93,0.935,0.9400000000000001,0.9450000000000001,0.9500000000000001,0.9550000000000001,0.96,0.965,0.97,0.975,0.98,0.985,0.99,0.995,1.0]},\"selected\":{\"id\":\"1936\",\"type\":\"Selection\"},\"selection_policy\":{\"id\":\"1935\",\"type\":\"UnionRenderers\"}},\"id\":\"1831\",\"type\":\"ColumnDataSource\"},{\"attributes\":{\"args\":{\"slider\":{\"id\":\"1869\",\"type\":\"Slider\"},\"source\":{\"id\":\"1831\",\"type\":\"ColumnDataSource\"}},\"code\":\"\\n    var data = source.get('data');\\n    var f = slider.value;\\n    x = data['x']\\n    y = data['y']\\n    for (i = 0; i < x.length; i++) {\\n        y[i] = Math.pow(x[i], f)\\n    }\\n    source.change.emit();\\n\"},\"id\":\"1870\",\"type\":\"CustomJS\"},{\"attributes\":{\"text\":\"\"},\"id\":\"1929\",\"type\":\"Title\"}],\"root_ids\":[\"1871\"]},\"title\":\"Bokeh Application\",\"version\":\"1.3.4\"}};\n",
       "  var render_items = [{\"docid\":\"de392cf2-402e-42cd-b023-7a76627650ad\",\"roots\":{\"1871\":\"4e43b2bd-37b2-4693-ac45-e494c7f87b77\"}}];\n",
       "  root.Bokeh.embed.embed_items_notebook(docs_json, render_items);\n",
       "\n",
       "  }\n",
       "  if (root.Bokeh !== undefined) {\n",
       "    embed_document(root);\n",
       "  } else {\n",
       "    var attempts = 0;\n",
       "    var timer = setInterval(function(root) {\n",
       "      if (root.Bokeh !== undefined) {\n",
       "        embed_document(root);\n",
       "        clearInterval(timer);\n",
       "      }\n",
       "      attempts++;\n",
       "      if (attempts > 100) {\n",
       "        console.log(\"Bokeh: ERROR: Unable to run BokehJS code because BokehJS library is missing\");\n",
       "        clearInterval(timer);\n",
       "      }\n",
       "    }, 10, root)\n",
       "  }\n",
       "})(window);"
      ],
      "application/vnd.bokehjs_exec.v0+json": ""
     },
     "metadata": {
      "application/vnd.bokehjs_exec.v0+json": {
       "id": "1871"
      }
     },
     "output_type": "display_data"
    }
   ],
   "source": [
    "from bokeh.layouts import column\n",
    "from bokeh.models import CustomJS, ColumnDataSource, Slider\n",
    "\n",
    "x = [x*0.005 for x in range(0, 201)]\n",
    "\n",
    "source = ColumnDataSource(data=dict(x=x, y=x))\n",
    "\n",
    "plot = figure(plot_width=400, plot_height=400)\n",
    "plot.line('x', 'y', source=source, line_width=3, line_alpha=0.6)\n",
    "\n",
    "slider = Slider(start=0.1, end=6, value=1, step=.1, title=\"power\")\n",
    "\n",
    "update_curve = CustomJS(args=dict(source=source, slider=slider), code=\"\"\"\n",
    "    var data = source.get('data');\n",
    "    var f = slider.value;\n",
    "    x = data['x']\n",
    "    y = data['y']\n",
    "    for (i = 0; i < x.length; i++) {\n",
    "        y[i] = Math.pow(x[i], f)\n",
    "    }\n",
    "    source.change.emit();\n",
    "\"\"\")\n",
    "slider.js_on_change('value', update_curve)\n",
    "\n",
    "\n",
    "show(column(slider, plot))"
   ]
  },
  {
   "cell_type": "markdown",
   "metadata": {},
   "source": [
    "## Calbacks for selections\n",
    "\n",
    "It's also possible to make JavaScript actions that execute whenever a user selection (e.g., box, point, lasso) changes. This is done by attaching the same kind of CustomJS object to whatever data source the selection is made on.\n",
    "\n",
    "The example below is a bit more sophisticated, and demonstrates updating one glyph's data source in response to another glyph's selection: "
   ]
  },
  {
   "cell_type": "code",
   "execution_count": 11,
   "metadata": {},
   "outputs": [
    {
     "data": {
      "text/html": [
       "\n",
       "\n",
       "\n",
       "\n",
       "\n",
       "\n",
       "  <div class=\"bk-root\" id=\"a489a0bd-1e3d-4624-8c3e-5d4f3631a586\" data-root-id=\"1993\"></div>\n"
      ]
     },
     "metadata": {},
     "output_type": "display_data"
    },
    {
     "data": {
      "application/javascript": [
       "(function(root) {\n",
       "  function embed_document(root) {\n",
       "    \n",
       "  var docs_json = {\"93d302f8-3ae0-4589-83fe-ff474fc4c5e8\":{\"roots\":{\"references\":[{\"attributes\":{\"below\":[{\"id\":\"2004\",\"type\":\"LinearAxis\"}],\"center\":[{\"id\":\"2008\",\"type\":\"Grid\"},{\"id\":\"2013\",\"type\":\"Grid\"}],\"left\":[{\"id\":\"2009\",\"type\":\"LinearAxis\"}],\"plot_height\":400,\"plot_width\":400,\"renderers\":[{\"id\":\"2020\",\"type\":\"GlyphRenderer\"},{\"id\":\"2026\",\"type\":\"GlyphRenderer\"}],\"title\":{\"id\":\"1994\",\"type\":\"Title\"},\"toolbar\":{\"id\":\"2015\",\"type\":\"Toolbar\"},\"x_range\":{\"id\":\"1996\",\"type\":\"DataRange1d\"},\"x_scale\":{\"id\":\"2000\",\"type\":\"LinearScale\"},\"y_range\":{\"id\":\"1998\",\"type\":\"DataRange1d\"},\"y_scale\":{\"id\":\"2002\",\"type\":\"LinearScale\"}},\"id\":\"1993\",\"subtype\":\"Figure\",\"type\":\"Plot\"},{\"attributes\":{},\"id\":\"2010\",\"type\":\"BasicTicker\"},{\"attributes\":{},\"id\":\"2097\",\"type\":\"BasicTickFormatter\"},{\"attributes\":{\"fill_alpha\":{\"value\":0.5},\"fill_color\":{\"value\":\"lightgrey\"},\"level\":\"overlay\",\"line_alpha\":{\"value\":1.0},\"line_color\":{\"value\":\"black\"},\"line_dash\":[4,4],\"line_width\":{\"value\":2},\"xs_units\":\"screen\",\"ys_units\":\"screen\"},\"id\":\"2104\",\"type\":\"PolyAnnotation\"},{\"attributes\":{\"dimension\":1,\"ticker\":{\"id\":\"2010\",\"type\":\"BasicTicker\"}},\"id\":\"2013\",\"type\":\"Grid\"},{\"attributes\":{\"active_drag\":\"auto\",\"active_inspect\":\"auto\",\"active_multi\":null,\"active_scroll\":\"auto\",\"active_tap\":\"auto\",\"tools\":[{\"id\":\"2014\",\"type\":\"LassoSelectTool\"}]},\"id\":\"2015\",\"type\":\"Toolbar\"},{\"attributes\":{\"callback\":null,\"overlay\":{\"id\":\"2104\",\"type\":\"PolyAnnotation\"}},\"id\":\"2014\",\"type\":\"LassoSelectTool\"},{\"attributes\":{\"fill_alpha\":{\"value\":0.4},\"fill_color\":{\"field\":\"color\"},\"line_alpha\":{\"value\":0.4},\"line_color\":{\"field\":\"color\"},\"size\":{\"units\":\"screen\",\"value\":8},\"x\":{\"field\":\"x\"},\"y\":{\"field\":\"y\"}},\"id\":\"2018\",\"type\":\"Circle\"},{\"attributes\":{\"args\":{\"s2\":{\"id\":\"2022\",\"type\":\"ColumnDataSource\"}},\"code\":\"\\n    var inds = cb_obj.get('selected')['1d'].indices;\\n    var d = cb_obj.get('data');\\n    var ym = 0\\n    \\n    if (inds.length == 0) { return; }\\n    \\n    for (i = 0; i < d['color'].length; i++) {\\n        d['color'][i] = \\\"navy\\\"\\n    }\\n    for (i = 0; i < inds.length; i++) {\\n        d['color'][inds[i]] = \\\"firebrick\\\"\\n        ym += d['y'][inds[i]]\\n    }\\n    \\n    ym /= inds.length\\n    s2.get('data')['ym'] = [ym, ym]\\n    \\n    cb_obj.trigger('change');\\n    s2.trigger('change');\\n\"},\"id\":\"2028\",\"type\":\"CustomJS\"},{\"attributes\":{\"fill_alpha\":{\"value\":0.1},\"fill_color\":{\"value\":\"#1f77b4\"},\"line_alpha\":{\"value\":0.1},\"line_color\":{\"value\":\"#1f77b4\"},\"size\":{\"units\":\"screen\",\"value\":8},\"x\":{\"field\":\"x\"},\"y\":{\"field\":\"y\"}},\"id\":\"2019\",\"type\":\"Circle\"},{\"attributes\":{\"data_source\":{\"id\":\"1992\",\"type\":\"ColumnDataSource\"},\"glyph\":{\"id\":\"2018\",\"type\":\"Circle\"},\"hover_glyph\":null,\"muted_glyph\":null,\"nonselection_glyph\":{\"id\":\"2019\",\"type\":\"Circle\"},\"selection_glyph\":null,\"view\":{\"id\":\"2021\",\"type\":\"CDSView\"}},\"id\":\"2020\",\"type\":\"GlyphRenderer\"},{\"attributes\":{\"callback\":{\"id\":\"2028\",\"type\":\"CustomJS\"},\"data\":{\"color\":[\"navy\",\"navy\",\"navy\",\"navy\",\"navy\",\"navy\",\"navy\",\"navy\",\"navy\",\"navy\",\"navy\",\"navy\",\"navy\",\"navy\",\"navy\",\"navy\",\"navy\",\"navy\",\"navy\",\"navy\",\"navy\",\"navy\",\"navy\",\"navy\",\"navy\",\"navy\",\"navy\",\"navy\",\"navy\",\"navy\",\"navy\",\"navy\",\"navy\",\"navy\",\"navy\",\"navy\",\"navy\",\"navy\",\"navy\",\"navy\",\"navy\",\"navy\",\"navy\",\"navy\",\"navy\",\"navy\",\"navy\",\"navy\",\"navy\",\"navy\",\"navy\",\"navy\",\"navy\",\"navy\",\"navy\",\"navy\",\"navy\",\"navy\",\"navy\",\"navy\",\"navy\",\"navy\",\"navy\",\"navy\",\"navy\",\"navy\",\"navy\",\"navy\",\"navy\",\"navy\",\"navy\",\"navy\",\"navy\",\"navy\",\"navy\",\"navy\",\"navy\",\"navy\",\"navy\",\"navy\",\"navy\",\"navy\",\"navy\",\"navy\",\"navy\",\"navy\",\"navy\",\"navy\",\"navy\",\"navy\",\"navy\",\"navy\",\"navy\",\"navy\",\"navy\",\"navy\",\"navy\",\"navy\",\"navy\",\"navy\",\"navy\",\"navy\",\"navy\",\"navy\",\"navy\",\"navy\",\"navy\",\"navy\",\"navy\",\"navy\",\"navy\",\"navy\",\"navy\",\"navy\",\"navy\",\"navy\",\"navy\",\"navy\",\"navy\",\"navy\",\"navy\",\"navy\",\"navy\",\"navy\",\"navy\",\"navy\",\"navy\",\"navy\",\"navy\",\"navy\",\"navy\",\"navy\",\"navy\",\"navy\",\"navy\",\"navy\",\"navy\",\"navy\",\"navy\",\"navy\",\"navy\",\"navy\",\"navy\",\"navy\",\"navy\",\"navy\",\"navy\",\"navy\",\"navy\",\"navy\",\"navy\",\"navy\",\"navy\",\"navy\",\"navy\",\"navy\",\"navy\",\"navy\",\"navy\",\"navy\",\"navy\",\"navy\",\"navy\",\"navy\",\"navy\",\"navy\",\"navy\",\"navy\",\"navy\",\"navy\",\"navy\",\"navy\",\"navy\",\"navy\",\"navy\",\"navy\",\"navy\",\"navy\",\"navy\",\"navy\",\"navy\",\"navy\",\"navy\",\"navy\",\"navy\",\"navy\",\"navy\",\"navy\",\"navy\",\"navy\",\"navy\",\"navy\",\"navy\",\"navy\",\"navy\",\"navy\",\"navy\",\"navy\",\"navy\",\"navy\",\"navy\",\"navy\",\"navy\",\"navy\",\"navy\",\"navy\",\"navy\",\"navy\",\"navy\",\"navy\",\"navy\",\"navy\",\"navy\",\"navy\",\"navy\",\"navy\",\"navy\",\"navy\",\"navy\",\"navy\",\"navy\",\"navy\",\"navy\",\"navy\",\"navy\",\"navy\",\"navy\",\"navy\",\"navy\",\"navy\",\"navy\",\"navy\",\"navy\",\"navy\",\"navy\",\"navy\",\"navy\",\"navy\",\"navy\",\"navy\",\"navy\",\"navy\",\"navy\",\"navy\",\"navy\",\"navy\",\"navy\",\"navy\",\"navy\",\"navy\",\"navy\",\"navy\",\"navy\",\"navy\",\"navy\",\"navy\",\"navy\",\"navy\",\"navy\",\"navy\",\"navy\",\"navy\",\"navy\",\"navy\",\"navy\",\"navy\",\"navy\",\"navy\",\"navy\",\"navy\",\"navy\",\"navy\",\"navy\",\"navy\",\"navy\",\"navy\",\"navy\",\"navy\",\"navy\",\"navy\",\"navy\",\"navy\",\"navy\",\"navy\",\"navy\",\"navy\",\"navy\",\"navy\",\"navy\",\"navy\",\"navy\",\"navy\",\"navy\",\"navy\",\"navy\",\"navy\",\"navy\",\"navy\",\"navy\",\"navy\",\"navy\",\"navy\",\"navy\",\"navy\",\"navy\",\"navy\",\"navy\",\"navy\",\"navy\",\"navy\",\"navy\",\"navy\",\"navy\",\"navy\",\"navy\",\"navy\",\"navy\",\"navy\",\"navy\",\"navy\",\"navy\",\"navy\",\"navy\",\"navy\",\"navy\",\"navy\",\"navy\",\"navy\",\"navy\",\"navy\",\"navy\",\"navy\",\"navy\",\"navy\",\"navy\",\"navy\",\"navy\",\"navy\",\"navy\",\"navy\",\"navy\",\"navy\",\"navy\",\"navy\",\"navy\",\"navy\",\"navy\",\"navy\",\"navy\",\"navy\",\"navy\",\"navy\",\"navy\",\"navy\",\"navy\",\"navy\",\"navy\",\"navy\",\"navy\",\"navy\",\"navy\",\"navy\",\"navy\",\"navy\",\"navy\",\"navy\",\"navy\",\"navy\",\"navy\",\"navy\",\"navy\",\"navy\",\"navy\",\"navy\",\"navy\",\"navy\",\"navy\",\"navy\",\"navy\",\"navy\",\"navy\",\"navy\",\"navy\",\"navy\",\"navy\",\"navy\",\"navy\",\"navy\",\"navy\",\"navy\",\"navy\",\"navy\",\"navy\",\"navy\",\"navy\",\"navy\",\"navy\",\"navy\",\"navy\",\"navy\",\"navy\",\"navy\",\"navy\",\"navy\",\"navy\",\"navy\",\"navy\",\"navy\",\"navy\",\"navy\",\"navy\",\"navy\",\"navy\",\"navy\",\"navy\",\"navy\",\"navy\",\"navy\",\"navy\",\"navy\",\"navy\",\"navy\",\"navy\",\"navy\",\"navy\",\"navy\",\"navy\",\"navy\",\"navy\",\"navy\",\"navy\",\"navy\",\"navy\",\"navy\",\"navy\",\"navy\",\"navy\",\"navy\",\"navy\",\"navy\",\"navy\",\"navy\",\"navy\",\"navy\",\"navy\",\"navy\",\"navy\",\"navy\",\"navy\",\"navy\",\"navy\",\"navy\",\"navy\",\"navy\",\"navy\",\"navy\",\"navy\",\"navy\",\"navy\",\"navy\",\"navy\",\"navy\",\"navy\",\"navy\",\"navy\",\"navy\",\"navy\",\"navy\",\"navy\",\"navy\",\"navy\",\"navy\",\"navy\",\"navy\",\"navy\",\"navy\",\"navy\",\"navy\",\"navy\",\"navy\",\"navy\",\"navy\",\"navy\",\"navy\",\"navy\",\"navy\",\"navy\",\"navy\",\"navy\",\"navy\",\"navy\",\"navy\",\"navy\",\"navy\",\"navy\",\"navy\",\"navy\",\"navy\",\"navy\",\"navy\"],\"x\":[0.6009701281775169,0.3635432536686828,0.15194637004261824,0.06481761989688661,0.22723033994858388,0.8280043968944358,0.30699466038398815,0.9041383997185992,0.024670035677444524,0.8790073267950149,0.12388949103214142,0.14991349980800506,0.02207921571146987,0.6486214840893398,0.16299001880959674,0.36132010152919924,0.9595100775980343,0.4005244891991939,0.7828420020785807,0.985028264104513,0.6260462722599238,0.610375626470094,0.6821572808066512,0.07572334145430637,0.6557860944315723,0.9832068812972117,0.33120223867227716,0.06934139380019833,0.015980127014377454,0.037574396612633953,0.3561202068601803,0.45861629405737503,0.8412719863825002,0.7347012534449158,0.03080024061806952,0.001296047158017788,0.8378538646352498,0.13268984049767552,0.6492841425835305,0.5901827115078824,0.11623246413702981,0.6736170755477894,0.4206008158020298,0.5738588403411506,0.49701908518066096,0.7566520147110495,0.5058074345893998,0.6808446604353071,0.38593499992112257,0.43947349460541396,0.8361627423424024,0.5869089871037221,0.7533492868913358,0.7278158090664409,0.9913586804973562,0.4473992071878905,0.9194311260261302,0.36264870223382695,0.05414237070207217,0.47853589239596694,0.5980082933833729,0.4871798601895858,0.5910381492781404,0.5026145423634663,0.6060798460582711,0.008484558306673384,0.35244052851435825,0.19098453989214015,0.9839947833775299,0.7324447436115629,0.4596386732898402,0.6740421963269622,0.21949917541267727,0.35071774527903643,0.18278864125319993,0.5419006410539287,0.7384237857576401,0.13307665794169188,0.024289131865044222,0.8636788976842213,0.23636276329971506,0.4344507050729809,0.3695876220520695,0.13359957200915773,0.19527197796046536,0.31076872097302144,0.424253615218981,0.5873244119053544,0.14586588198560735,0.6247313888657066,0.008398293702825077,0.5785997383254069,0.36193755895233415,0.29695686795999565,0.1450093013441094,0.2825394407631573,0.413313274261334,0.4641000478473971,0.9451134936377623,0.4511655952735073,0.8358639977583158,0.40688212024010306,0.8760912748983956,0.4390354504264824,0.4468191739001024,0.15623599259050436,0.9628103052790968,0.2816548591230137,0.6166641748260925,0.9987996560974152,0.9533890740050358,0.5585256320108932,0.7541479288063226,0.7426447670553923,0.6113106069057697,0.4776301277662639,0.3070506331495757,0.6404914060217136,0.13694978357074694,0.505986595229422,0.15589532853159205,0.5525483170396162,0.8106109953639079,0.8270668917417723,0.5130839835468399,0.14188039522795315,0.08379137143217874,0.8388547864636474,0.3888015476374914,0.8660736787331496,0.004253191348195684,0.9430904009870661,0.47143907849408273,0.39633024816612084,0.10993794599097573,0.2143602030144598,0.0928293551870103,0.27553614067393084,0.8611546155296814,0.06494128170170643,0.7187388760449597,0.5614994029027159,0.609530833817971,0.2995959339511688,0.8214956740529149,0.8950832566726789,0.8347386915808286,0.5469615181880922,0.03815702959615985,0.6805107584419977,0.47929576994978795,0.7442921702386103,0.5169455227683711,0.8440147684078061,0.7877793794231759,0.4986515314147254,0.767027243070347,0.9399544128790014,0.9857232265118154,0.931955255802932,0.25154562597565056,0.7678604270743306,0.1799564426357687,0.21390329392614305,0.024588141892421866,0.8036103551253518,0.7083779491502644,0.279693585399611,0.10760254541559444,0.42440480703556005,0.04596274223545582,0.015236923093147059,0.8868621324329221,0.36469096170800663,0.14577706827226278,0.9892650590776981,0.06646457745091505,0.49376086023561394,0.3465978113789382,0.17089129781871404,0.9567258526269727,0.21844017062632692,0.02522370306983035,0.8012720129309936,0.6738562483312492,0.6501909873477674,0.009593242314343775,0.22094349614864728,0.90354022843802,0.24727317654812409,0.7015229321799267,0.9290261651291275,0.5312038459359165,0.12564053224937077,0.3180368800617187,0.2036679766220022,0.2588225486235253,0.4483020591489193,0.9071203467611717,0.3742789252207902,0.8818846764780304,0.8203568695940735,0.2982910630317448,0.8739616821675313,0.8023148598464245,0.47447111630126015,0.36934988557281045,0.4581823853310817,0.5162493794211825,0.8358068340510962,0.826151168887523,0.1473317735479992,0.16938692692723512,0.5314625059004588,0.8657477889800304,0.8316168761432863,0.4988111074962668,0.8657203112107914,0.047303080503842465,0.6887946300514686,0.4811218593175881,0.9970650306954487,0.35240446521270763,0.6263108345259482,0.2273646906280783,0.1617913098424255,0.8600279561287603,0.5513073667496131,0.16469982466049482,0.8698031909646302,0.7059744172902082,0.7584416422602352,0.09279560827753353,0.9459652513704984,0.0942751475892013,0.5278357158542133,0.24066872953346607,0.21223885474192572,0.06024088227755986,0.5638263791001142,0.06128796048365481,0.9186478494205182,0.9896511039050778,0.6401976377628099,0.7852957470942555,0.2843534925485778,0.04750788708627518,0.18288826464078034,0.9729789695876876,0.3809640814219427,0.9024856437652945,0.4665371690713359,0.9061197529273411,0.2924004575225706,0.35241906471830686,0.9093054032362288,0.04551478967657807,0.43812566906489847,0.4903532116822701,0.1179501716398288,0.5729843083157116,0.2351527820008653,0.6141963085902369,0.7446316088590299,0.7874438338271178,0.426249029884039,0.5228577725647744,0.48165342768485253,0.6255597792336937,0.3036905962282448,0.13838941021238083,0.20429346573152418,0.48762297011632927,0.6813716392685634,0.21345119020534198,0.9053101570941124,0.5483643357042107,0.14234193817747132,0.31006315141876273,0.9910702254437052,0.6870442528080587,0.5983976713557776,0.5620990945599768,0.4537109996631782,0.5164068106215493,0.13324855372720146,0.8653283707861218,0.27491716957489054,0.03740087067625031,0.5306680997210199,0.5831198104614347,0.5220157688598723,0.40036138212255157,0.9944421789468685,0.16848496400481705,0.23282823494831406,0.9230449608215688,0.20173147748412013,0.1207406858026665,0.7589121072359266,0.09229865843509122,0.520378274225907,0.5575752741442332,0.029067690540207636,0.8877878407578269,0.353996313771474,0.9392779358123005,0.9427554030048212,0.8790504831504505,0.2879916302668598,0.8424471932612594,0.3390352654090384,0.4551704367014262,0.5083176208626065,0.35377783416909103,0.9146393510251151,0.1326106870199324,0.3076917018600147,0.7555187460044578,0.4407981614286357,0.7518505508852869,0.2223427826506611,0.44997056599404217,0.5457696382771873,0.004013673256151762,0.9408458535427586,0.42482198298779517,0.4881052532020269,0.9816052447657311,0.0025395808129964337,0.7981869682869922,0.9239919523811035,0.9349126392024684,0.7955927289040756,0.43462349586216686,0.35805539381392526,0.6560974778084743,0.8577387277034249,0.12082398223705204,0.5271993563573992,0.2611324444668621,0.785236426565827,0.6672886509995981,0.8757430666879141,0.6243805147839288,0.8991114269270378,0.3873371331552108,0.13707817319763116,0.2506597216243944,0.4206592738547995,0.952781242487824,0.2928085493147907,0.7731908033374774,0.7731250462955737,0.7926528118129244,0.6488605227116122,0.7243773111347241,0.6053682245096192,0.27200292152286,0.9730484273859701,0.39989774157515234,0.700023733811668,0.8973990602723603,0.6277478657158848,0.5506389331982869,0.48074740128547466,0.24241630111170653,0.9508756703187543,0.4048013482647924,0.7278419928264114,0.7522554858738211,0.34499702431680035,0.9970062085606965,0.8371704573728899,0.7094093929560286,0.578635836451435,0.17080351885107703,0.9688655281492075,0.38824105586680735,0.9469733376117658,0.1956071134937175,0.23911066900075673,0.8691245654484481,0.21824853574726277,0.1839288387371234,0.2218957159035454,0.7874721564243437,0.8838867381762067,0.3749523717589579,0.3288973117280608,0.6800089867797715,0.35008456560562495,0.44397697363470257,0.5221707314487266,0.4097302908299544,0.43660407397944734,0.9467115054752648,0.40197999704051557,0.1578736189434795,0.5215113554939674,0.29232210584406504,0.5486967936629438,0.34527842350914484,0.37430398960052547,0.04315205944367462,0.4532874170687621,0.14701291294532215,0.05373173094239525,0.8150287114080458,0.31069389551707904,0.08454333684407522,0.9385674720453785,0.569366502031329,0.2262411923305746,0.7098065283426158,0.8624565211999249,0.6164360984857795,0.5570524480694049,0.47038338680954217,0.49427808798290895,0.3489684529792031,0.4184411360933493,0.7319682184613638,0.20378222106199106,0.6463771415911024,0.8999686813477819,0.2826219845722193,0.7248886228907342,0.15664336935222667,0.8314450837497825,0.24201710211092642,0.3922757273876609,0.23773056902731327,0.8641284711836252,0.24007635903017566,0.5035980992474673,0.17780928113016636,0.1022246545702935,0.1638359609011304,0.15119063604930605,0.45665575887335863,0.8907730052627694,0.8749703529339335,0.4149771904274474,0.13617367481517528,0.5325526728725404,0.6740860748820108,0.48916054507233,0.5681221492187187,0.19906478301995256,0.7191344893544307,0.8687114630778152,0.17475330988781157,0.947233158035397,0.8055748152524174,0.10741268286740435,0.9538366524396406,0.5164140230133384,0.06569850222068352,0.8953750887315178,0.3111460942283858,0.08110840033368993,0.16923944098447674,0.5971122205161781,0.6047488169490474,0.5165600543609691,0.4284456613937594,0.6425035709558433,0.32751885249990087,0.3502853082861819,0.7817931138146706,0.500706457023748,0.8911092874756922,0.8716620267079137,0.060461492440135434,0.736337453397624,0.16618195860960872,0.7240830246858342,0.5770146825074405,0.6997471685933423,0.7292827362412599,0.32134833542150165,0.09412041069914223,0.2413776961570836,0.6525783013125435,0.197199988701098,0.5117007100159031,0.14309817321988494,0.45369171258931207,0.15823508780241036,0.775221154460217,0.2600477918295505,0.5485383771144912,0.8337810980060671,0.4620410930903438,0.2718615869595312,0.9882453399346611,0.17979067854642072,0.3480464958496169,0.22396586988883105],\"y\":[0.6079597766453071,0.24225436399671318,0.6347126938352867,0.8755472067599052,0.6338549342314251,0.28143623110799976,0.4721540581273247,0.5593728197882603,0.37213402818925767,0.9063823915749605,0.4414344604753988,0.516682520906476,0.4766240631731127,0.4858806989774358,0.4422310363756423,0.5349759219113385,0.6560411185959157,0.4707025159777469,0.3228225200834076,0.2540163288098449,0.8828195647154128,0.7400251489498224,0.6105755692076538,0.6635636839745863,0.7998031251305846,0.18066806420586567,0.46232391717985144,0.6267345974397532,0.7816595037950965,0.18093398208214828,0.6570318410912652,0.15073299683363883,0.35357429590785094,0.13519460014777207,0.8497893960032826,0.6812589848348083,0.10615088276209139,0.18351143287521343,0.4622457588300283,0.4337534851919347,0.79058661166066,0.6547068638949834,0.07412332526283483,0.1985664388215176,0.6272865886492203,0.6118571887024994,0.20313075480208542,0.014049004827758726,0.4585360582909317,0.07790748277209514,0.09924804387547093,0.02154794896064871,0.4951859538619483,0.6920285980520228,0.3456523330518859,0.0585176942476594,0.5727603139600691,0.9437226867239168,0.3825463852190686,0.07437325694721364,0.2855067270829973,0.08998418659413432,0.2260092749756859,0.05408841807311038,0.4948480697458124,0.7718694416013919,0.7121284524983753,0.2141453779746496,0.40433231187059904,0.3619254399450772,0.2648164245198906,0.538570260377612,0.6188261985261181,0.6768139733197821,0.6688824514050477,0.6955875919884147,0.5721057686166229,0.5382443969662967,0.10074681205038172,0.7909373514032235,0.6754625444005934,0.6886721044728098,0.9008925519606218,0.7644543624274848,0.9269326444692023,0.21656759337583353,0.7253000730027668,0.4925598886703615,0.6409579015180568,0.5865732414985484,0.5746465430904725,0.9681113374626775,0.897247216445535,0.8616577783796242,0.9323163274052594,0.797622547738188,0.5039211271781502,0.23557970853915888,0.17200972718947727,0.8750716450050896,0.9304780532145336,0.9461610448138874,0.2831451609566136,0.9622174649244857,0.9331687209154754,0.36861661823320047,0.018983989408815627,0.4305667755749646,0.3044482219743525,0.9079080051219968,0.1782145812714,0.20126745205898666,0.531494725052394,0.3347407983653259,0.32078798980519707,0.8969235020262436,0.6843140370561067,0.35039118201497543,0.13985074612441728,0.8913253421109357,0.36703560653228184,0.044115104963785234,0.8565221827881521,0.8279327621682353,0.004622662680477063,0.8681517900245332,0.785509277209686,0.7256400373946018,0.48616213668958563,0.3628407438493557,0.9313232887346178,0.8827902181687194,0.4799859427810498,0.4929919207699358,0.8330538444342745,0.09894880381318039,0.04782390313379914,0.8117288297389811,0.9463673612449832,0.20355813738930384,0.0050627169741573885,0.8954486965309171,0.619405618617229,0.7051161748226853,0.5274218873199584,0.3103391812694739,0.40469175378280775,0.6774357218270236,0.9346736893093195,0.3478257908999379,0.18399124340100959,0.8403195386034622,0.931556945545894,0.8557547185934011,0.744754672097496,0.9053310492910941,0.5815975918237761,0.4276143900857827,0.4823774943917333,0.24596799774769562,0.02137922433396655,0.9592711999168677,0.9091395307355787,0.5376218371953086,0.8926479884508959,0.11335606815626953,0.7941569129516171,0.07079728008261355,0.0758307946658513,0.8205517194437029,0.4011232141362293,0.3015463415614289,0.9698529552436185,0.7259869517297577,0.37244139423653555,0.009603073726048184,0.6895083348170725,0.4509489602590666,0.7530576319342502,0.8398005388985068,0.2768339199243678,0.22411391685062343,0.21887048988894864,0.1717543560130641,0.9426156668780463,0.5936232517765262,0.5993430884291747,0.7694882377699743,0.40755469518992016,0.6855317114333951,0.25192998211319595,0.25777331282345306,0.5822449194008915,0.70761577306926,0.8022093803933543,0.6673659693993901,0.7141724325485134,0.31355162087030464,0.5107469576762671,0.4143120386863359,0.9837557964853945,0.6276507526059109,0.05234754503701167,0.5846536118609345,0.3003755459692049,0.9990680866149712,0.533841337629099,0.8406694531183775,0.10927980537064685,0.1488032352225125,0.08618252997476927,0.12881663191836645,0.3560059449758065,0.5356677115675106,0.3769915125981351,0.7307497188401525,0.961811019261773,0.026512926678681104,0.27127168572095983,0.6020426899521231,0.49639555938802693,0.6860443100502184,0.4765472576024422,0.18914216623824665,0.9926489908695437,0.3325180337970922,0.18035451180908468,0.8174008723580922,0.7229289720730461,0.49054052708118623,0.8582937480692796,0.6466823009056831,0.22948443158182297,0.9531164930476574,0.18148119936884533,0.9273594412075237,0.08118438523601446,0.023669619752110793,0.7975222210422713,0.019877502836095462,0.5796932918305431,0.06613570889688569,0.11357625933108406,0.22453437010439636,0.3325313193651246,0.5564541588790995,0.47499134539923016,0.052644268590813836,0.19170280157974973,0.367398409872543,0.18338685631267893,0.45978267620886837,0.6894439867647175,0.5715426381933197,0.6186017142032685,0.6676566097171501,0.7247416593087804,0.4886878007472917,0.36940601035475873,0.3343198794574149,0.7537544495783823,0.32604385985117446,0.0435584489980686,0.7672972983703207,0.18906551492962764,0.7490276309008823,0.47219037251231577,0.9337773087728818,0.979977377017094,0.8192230130171062,0.19912650623741412,0.8447591508616453,0.8754977520769818,0.8457500941603544,0.5094444312067274,0.5909813719913991,0.23634291231574667,0.7777601026820257,0.7228721292013238,0.8478244332270549,0.34215332440453516,0.5518321040861807,0.01364385142691138,0.3679704306477495,0.6621915874384078,0.2733259035074642,0.1494059720602643,0.06466604075764038,0.0603050467755295,0.6567848650090932,0.7497587772286984,0.6079578033774059,0.6044315273632304,0.6571354554197973,0.9061728564328112,0.4311731060288838,0.003786890560270706,0.6666340400390065,0.2024078780334828,0.6556222554288343,0.8188895252962103,0.2701298213299578,0.9296569619758125,0.9246353703562873,0.7013333000443046,0.17582381897441945,0.30651373673022975,0.3188520189628137,0.5922003034315941,0.46264467990698166,0.10818231487775232,0.5138385875517258,0.01387709845783236,0.1638927524549476,0.6724772631614018,0.1679742456090041,0.957779060776593,0.8324455912553264,0.34694894859513514,0.28330411841325653,0.607519151638919,0.17121780967938038,0.4066832288196849,0.7786774493753112,0.8102754854755381,0.5736329044916044,0.5462692773796497,0.9260594176940222,0.8365086741031076,0.5395302980762811,0.6223165484241332,0.015962821306833574,0.34405503690679273,0.6917990092733555,0.8458758103457181,0.7675566008098174,0.7088982057684248,0.2841039183824795,0.4724920810533082,0.6056863747324825,0.6158028012105604,0.5076305080519686,0.5506543946162784,0.8464588225379236,0.9040791113192795,0.8847808554818782,0.07699506127528455,0.39097172971108296,0.31199929672319415,0.26981798078847485,0.21136263330131466,0.4962290708670707,0.9998493827086541,0.11627563321446577,0.9367567067883841,0.10381440433585432,0.3409240109426458,0.2732735397592778,0.9932827614963171,0.7770529467474946,0.08492504862463501,0.8022180455742242,0.43436069475711425,0.25160233312488833,0.524045897169645,0.46894331067624284,0.7361668164868632,0.5893579267143401,0.2876527260035524,0.2846520042008108,0.6675761501013238,0.6069850833226795,0.24961224445664842,0.19343181902920947,0.886757865662822,0.009981353182519914,0.9313704837685834,0.7668330864640709,0.9838629912369098,0.4570855148241254,0.29402585118309454,0.8414996089714515,0.1639612542079255,0.43198685593327113,0.30628609502644044,0.22696167552803526,0.3417218509259047,0.2522354031320888,0.07444142887258909,0.021533577230328782,0.7446049422833064,0.1246012006636541,0.1803402966089077,0.5355114127205165,0.8124702803039568,0.9553790165533288,0.49024747221901765,0.7661714786219812,0.08230570981519147,0.27093301770416167,0.30633555850827565,0.9760696921958155,0.2534556846050906,0.10069620958855485,0.2892321053295218,0.20759516612809314,0.16986154393605069,0.8477854688520917,0.4626608888232582,0.3900292744908459,0.40798478309057884,0.39164184772723454,0.04118951046996644,0.2906442611760086,0.02186790329479027,0.9072297502041228,0.1254779062202641,0.6261044349804396,0.11401858125439623,0.6908283740963728,0.11105479223749659,0.8035069396253729,0.870116412053952,0.8830633075922877,0.7700984056389536,0.7401058327070029,0.35593250942774635,0.6521709526727583,0.43337985565993353,0.9910832287543486,0.8231966509283413,0.8380861635316154,0.04790780765269309,0.28522206104202075,0.9938899316735237,0.41897203468982025,0.36391062382251393,0.054719820757723525,0.6290198718893302,0.09418999694615537,0.4161811877370786,0.616997230590169,0.484010406503681,0.7747098993605152,0.4052202851960084,0.014889819217479006,0.6004222349802572,0.5010865606792053,0.9111151519059639,0.060769170685632035,0.04211980325962328,0.8308509159159937,0.560579238512008,0.9694441927167827,0.7887654015189229,0.6032265972426778,0.5350615522152805,0.4382562996489545,0.34347107961274836,0.5173837907293587,0.34304796492584655,0.15817037973073855,0.5576648330867292,0.07625985210088881,0.37713540867693895,0.05460457572944,0.7765522230641418,0.9892056838948735,0.52566832683134,0.18123916015236063,0.5853316380996758,0.7501512562542512,0.74436188336686,0.609954592254083,0.9866578205191766,0.784716656715844,0.7901587699259706,0.09902008209178581,0.3454620660593438,0.6738219633464464,0.7973718214912721,0.6496176854968551,0.24697579223043742,0.4148967642880128,0.7321423999437782,0.19667972331167582,0.5918847993057144,0.6537434774490276,0.6649469223354479,0.10245234245310975,0.6079590104005108,0.8845481111978583,0.7754821741657604,0.027599985904290136,0.10791454880565787,0.7812218312952695,0.8561653977840545,0.39260281524795226,0.5529003861923759,0.8865871844530631]},\"selected\":{\"id\":\"2101\",\"type\":\"Selection\"},\"selection_policy\":{\"id\":\"2100\",\"type\":\"UnionRenderers\"}},\"id\":\"1992\",\"type\":\"ColumnDataSource\"},{\"attributes\":{\"text\":\"Select Here\"},\"id\":\"1994\",\"type\":\"Title\"},{\"attributes\":{\"source\":{\"id\":\"1992\",\"type\":\"ColumnDataSource\"}},\"id\":\"2021\",\"type\":\"CDSView\"},{\"attributes\":{\"callback\":null,\"data\":{\"xm\":[0,1],\"ym\":[0.5,0.5]},\"selected\":{\"id\":\"2103\",\"type\":\"Selection\"},\"selection_policy\":{\"id\":\"2102\",\"type\":\"UnionRenderers\"}},\"id\":\"2022\",\"type\":\"ColumnDataSource\"},{\"attributes\":{\"line_alpha\":0.1,\"line_color\":\"#1f77b4\",\"line_width\":5,\"x\":{\"field\":\"xm\"},\"y\":{\"field\":\"ym\"}},\"id\":\"2025\",\"type\":\"Line\"},{\"attributes\":{\"line_alpha\":0.6,\"line_color\":\"orange\",\"line_width\":5,\"x\":{\"field\":\"xm\"},\"y\":{\"field\":\"ym\"}},\"id\":\"2024\",\"type\":\"Line\"},{\"attributes\":{\"callback\":null},\"id\":\"1996\",\"type\":\"DataRange1d\"},{\"attributes\":{\"data_source\":{\"id\":\"2022\",\"type\":\"ColumnDataSource\"},\"glyph\":{\"id\":\"2024\",\"type\":\"Line\"},\"hover_glyph\":null,\"muted_glyph\":null,\"nonselection_glyph\":{\"id\":\"2025\",\"type\":\"Line\"},\"selection_glyph\":null,\"view\":{\"id\":\"2027\",\"type\":\"CDSView\"}},\"id\":\"2026\",\"type\":\"GlyphRenderer\"},{\"attributes\":{\"source\":{\"id\":\"2022\",\"type\":\"ColumnDataSource\"}},\"id\":\"2027\",\"type\":\"CDSView\"},{\"attributes\":{\"callback\":null},\"id\":\"1998\",\"type\":\"DataRange1d\"},{\"attributes\":{},\"id\":\"2000\",\"type\":\"LinearScale\"},{\"attributes\":{},\"id\":\"2099\",\"type\":\"BasicTickFormatter\"},{\"attributes\":{},\"id\":\"2002\",\"type\":\"LinearScale\"},{\"attributes\":{},\"id\":\"2100\",\"type\":\"UnionRenderers\"},{\"attributes\":{\"formatter\":{\"id\":\"2099\",\"type\":\"BasicTickFormatter\"},\"ticker\":{\"id\":\"2005\",\"type\":\"BasicTicker\"}},\"id\":\"2004\",\"type\":\"LinearAxis\"},{\"attributes\":{},\"id\":\"2101\",\"type\":\"Selection\"},{\"attributes\":{},\"id\":\"2005\",\"type\":\"BasicTicker\"},{\"attributes\":{},\"id\":\"2102\",\"type\":\"UnionRenderers\"},{\"attributes\":{\"ticker\":{\"id\":\"2005\",\"type\":\"BasicTicker\"}},\"id\":\"2008\",\"type\":\"Grid\"},{\"attributes\":{},\"id\":\"2103\",\"type\":\"Selection\"},{\"attributes\":{\"formatter\":{\"id\":\"2097\",\"type\":\"BasicTickFormatter\"},\"ticker\":{\"id\":\"2010\",\"type\":\"BasicTicker\"}},\"id\":\"2009\",\"type\":\"LinearAxis\"}],\"root_ids\":[\"1993\"]},\"title\":\"Bokeh Application\",\"version\":\"1.3.4\"}};\n",
       "  var render_items = [{\"docid\":\"93d302f8-3ae0-4589-83fe-ff474fc4c5e8\",\"roots\":{\"1993\":\"a489a0bd-1e3d-4624-8c3e-5d4f3631a586\"}}];\n",
       "  root.Bokeh.embed.embed_items_notebook(docs_json, render_items);\n",
       "\n",
       "  }\n",
       "  if (root.Bokeh !== undefined) {\n",
       "    embed_document(root);\n",
       "  } else {\n",
       "    var attempts = 0;\n",
       "    var timer = setInterval(function(root) {\n",
       "      if (root.Bokeh !== undefined) {\n",
       "        embed_document(root);\n",
       "        clearInterval(timer);\n",
       "      }\n",
       "      attempts++;\n",
       "      if (attempts > 100) {\n",
       "        console.log(\"Bokeh: ERROR: Unable to run BokehJS code because BokehJS library is missing\");\n",
       "        clearInterval(timer);\n",
       "      }\n",
       "    }, 10, root)\n",
       "  }\n",
       "})(window);"
      ],
      "application/vnd.bokehjs_exec.v0+json": ""
     },
     "metadata": {
      "application/vnd.bokehjs_exec.v0+json": {
       "id": "1993"
      }
     },
     "output_type": "display_data"
    }
   ],
   "source": [
    "from random import random\n",
    "\n",
    "x = [random() for x in range(500)]\n",
    "y = [random() for y in range(500)]\n",
    "color = [\"navy\"] * len(x)\n",
    "\n",
    "s = ColumnDataSource(data=dict(x=x, y=y, color=color))\n",
    "p = figure(plot_width=400, plot_height=400, tools=\"lasso_select\", title=\"Select Here\")\n",
    "p.circle('x', 'y', color='color', size=8, source=s, alpha=0.4)\n",
    "\n",
    "s2 = ColumnDataSource(data=dict(xm=[0,1],ym=[0.5, 0.5]))\n",
    "p.line(x='xm', y='ym', color=\"orange\", line_width=5, alpha=0.6, source=s2)\n",
    "\n",
    "s.callback = CustomJS(args=dict(s2=s2), code=\"\"\"\n",
    "    var inds = cb_obj.get('selected')['1d'].indices;\n",
    "    var d = cb_obj.get('data');\n",
    "    var ym = 0\n",
    "    \n",
    "    if (inds.length == 0) { return; }\n",
    "    \n",
    "    for (i = 0; i < d['color'].length; i++) {\n",
    "        d['color'][i] = \"navy\"\n",
    "    }\n",
    "    for (i = 0; i < inds.length; i++) {\n",
    "        d['color'][inds[i]] = \"firebrick\"\n",
    "        ym += d['y'][inds[i]]\n",
    "    }\n",
    "    \n",
    "    ym /= inds.length\n",
    "    s2.get('data')['ym'] = [ym, ym]\n",
    "    \n",
    "    cb_obj.trigger('change');\n",
    "    s2.trigger('change');\n",
    "\"\"\")\n",
    "\n",
    "show(p)"
   ]
  },
  {
   "cell_type": "markdown",
   "metadata": {},
   "source": [
    "# More\n",
    "For more interactions, see the User Guide - http://bokeh.pydata.org/en/latest/docs/user_guide/interaction.html"
   ]
  },
  {
   "cell_type": "code",
   "execution_count": null,
   "metadata": {
    "collapsed": true,
    "jupyter": {
     "outputs_hidden": true
    }
   },
   "outputs": [],
   "source": []
  }
 ],
 "metadata": {
  "anaconda-cloud": {},
  "kernelspec": {
   "display_name": "Python 3",
   "language": "python",
   "name": "python3"
  },
  "language_info": {
   "codemirror_mode": {
    "name": "ipython",
    "version": 3
   },
   "file_extension": ".py",
   "mimetype": "text/x-python",
   "name": "python",
   "nbconvert_exporter": "python",
   "pygments_lexer": "ipython3",
   "version": "3.6.8"
  },
  "widgets": {
   "state": {
    "335ae2c8ff80469e9adac668c2924989": {
     "views": [
      {
       "cell_index": 19
      }
     ]
    }
   },
   "version": "1.2.0"
  }
 },
 "nbformat": 4,
 "nbformat_minor": 4
}

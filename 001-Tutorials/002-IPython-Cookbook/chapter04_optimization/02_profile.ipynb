{
 "cells": [
  {
   "cell_type": "markdown",
   "metadata": {},
   "source": [
    "# 4.2. Profiling your code easily with cProfile and IPython"
   ]
  },
  {
   "cell_type": "code",
   "execution_count": 1,
   "metadata": {},
   "outputs": [],
   "source": [
    "import numpy as np"
   ]
  },
  {
   "cell_type": "code",
   "execution_count": 2,
   "metadata": {},
   "outputs": [],
   "source": [
    "def step(*shape):\n",
    "    # Create a random n-vector with +1 or -1 values.\n",
    "    return 2 * (np.random.random_sample(shape)<.5) - 1"
   ]
  },
  {
   "cell_type": "code",
   "execution_count": 3,
   "metadata": {},
   "outputs": [
    {
     "name": "stdout",
     "output_type": "stream",
     "text": [
      " \n",
      "*** Profile printout saved to text file 'prun0'. \n"
     ]
    }
   ],
   "source": [
    "%%prun -s cumulative -q -l 10 -T prun0\n",
    "# We profile the cell, sort the report by \"cumulative\n",
    "# time\", limit it to 10 lines, and save it to a file\n",
    "# named \"prun0\".\n",
    "\n",
    "n = 10000\n",
    "iterations = 50\n",
    "x = np.cumsum(step(iterations, n), axis=0)\n",
    "bins = np.arange(-30, 30, 1)\n",
    "y = np.vstack([np.histogram(x[i,:], bins)[0]\n",
    "               for i in range(iterations)])"
   ]
  },
  {
   "cell_type": "code",
   "execution_count": 4,
   "metadata": {
    "podoc": {
     "output_text": "Profiling result"
    }
   },
   "outputs": [
    {
     "name": "stdout",
     "output_type": "stream",
     "text": [
      "         1764 function calls in 0.046 seconds\n",
      "\n",
      "   Ordered by: cumulative time\n",
      "   List reduced from 38 to 10 due to restriction <10>\n",
      "\n",
      "   ncalls  tottime  percall  cumtime  percall filename:lineno(function)\n",
      "        1    0.000    0.000    0.046    0.046 {built-in method builtins.exec}\n",
      "        1    0.000    0.000    0.046    0.046 <string>:5(<module>)\n",
      "        1    0.000    0.000    0.027    0.027 <string>:9(<listcomp>)\n",
      "       50    0.001    0.000    0.027    0.001 histograms.py:589(histogram)\n",
      "       50    0.000    0.000    0.022    0.000 fromnumeric.py:760(sort)\n",
      "       50    0.021    0.000    0.021    0.000 {method 'sort' of 'numpy.ndarray' objects}\n",
      "        1    0.003    0.003    0.014    0.014 <ipython-input-2-74dc45cb4a27>:1(step)\n",
      "        1    0.012    0.012    0.012    0.012 {method 'random_sample' of 'mtrand.RandomState' objects}\n",
      "        1    0.000    0.000    0.004    0.004 fromnumeric.py:2092(cumsum)\n",
      "        1    0.000    0.000    0.004    0.004 fromnumeric.py:49(_wrapfunc)\n"
     ]
    }
   ],
   "source": [
    "print(open('prun0', 'r').read())"
   ]
  },
  {
   "cell_type": "markdown",
   "metadata": {},
   "source": [
    "```bash\n",
    "$ python -m cProfile -o profresults myscript.py\n",
    "```"
   ]
  },
  {
   "cell_type": "markdown",
   "metadata": {},
   "source": [
    "```\n",
    "import pstats\n",
    "p = pstats.Stats('profresults')\n",
    "p.strip_dirs().sort_stats(\"cumulative\").print_stats()\n",
    "```"
   ]
  },
  {
   "cell_type": "markdown",
   "metadata": {},
   "source": [
    "## Cleanup"
   ]
  },
  {
   "cell_type": "code",
   "execution_count": null,
   "metadata": {},
   "outputs": [],
   "source": [
    "!rm -f prun0"
   ]
  }
 ],
 "metadata": {
  "kernelspec": {
   "display_name": "Python 3",
   "language": "python",
   "name": "python3"
  },
  "language_info": {
   "codemirror_mode": {
    "name": "ipython",
    "version": 3
   },
   "file_extension": ".py",
   "mimetype": "text/x-python",
   "name": "python",
   "nbconvert_exporter": "python",
   "pygments_lexer": "ipython3",
   "version": "3.6.8"
  }
 },
 "nbformat": 4,
 "nbformat_minor": 4
}

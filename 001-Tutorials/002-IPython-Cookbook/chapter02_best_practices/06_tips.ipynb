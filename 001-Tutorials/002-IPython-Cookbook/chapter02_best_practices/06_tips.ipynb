{
 "cells": [
  {
   "cell_type": "markdown",
   "metadata": {},
   "source": [
    "# 2.6. Ten tips for conducting reproducible interactive computing experiments"
   ]
  }
 ],
 "metadata": {},
 "nbformat": 4,
 "nbformat_minor": 2
}

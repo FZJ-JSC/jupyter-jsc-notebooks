{
 "cells": [
  {
   "cell_type": "markdown",
   "metadata": {},
   "source": [
    "## Sanity Check\n",
    "This notebook checks if the available general tutorials run without errors.  \n",
    "\n",
    "This particulary tests the installed python packages and their interoperability for standard features and examples. Running these checks can take **a lot of time** and there for will not finish in the max. cpu-time we provide for a process on a login node. Hence the jupyter kernel for this notebook will eventually be killed by the system. These Sanity Checks are primarily usefull for system administrators.  \n",
    "\n",
    "If you want to run them anyway - ensure your Jupyter is running as a **batch job** with far more compute time available."
   ]
  },
  {
   "cell_type": "markdown",
   "metadata": {},
   "source": [
    "### Grab Tutorials from Git-Repo "
   ]
  },
  {
   "cell_type": "code",
   "execution_count": 1,
   "metadata": {},
   "outputs": [],
   "source": [
    "from git import Repo\n",
    "#repo = Repo.clone_from(\"https://gitlab.version.fz-juelich.de/jupyter4jsc/j4j_notebooks.git\", './j4j_notebooks')\n",
    "#repo.git.checkout('integration')"
   ]
  },
  {
   "cell_type": "markdown",
   "metadata": {},
   "source": [
    "### Define Funktions for later Sanity Check"
   ]
  },
  {
   "cell_type": "code",
   "execution_count": 2,
   "metadata": {},
   "outputs": [],
   "source": [
    "from typing import Any, Tuple, Dict, Mapping\n",
    "from collections import defaultdict\n",
    "from nbformat import NotebookNode\n",
    "\n",
    "def count_source(source: str) -> Tuple[int, int, int]:\n",
    "    \"\"\"Count number of non-blank lines, words, and non-whitespace characters.\n",
    "\n",
    "    :param source: string to count\n",
    "    :return: number of non-blank lines, words, and non-whitespace characters\n",
    "    \"\"\"\n",
    "    lines = [line for line in source.split('\\n') if line and not line.isspace()]\n",
    "    words = source.split()\n",
    "    chars = ''.join(words)\n",
    "\n",
    "    return len(lines), len(words), len(chars)\n",
    "\n",
    "REQUIRED_NB_FIELDS = {\"metadata\", \"nbformat_minor\", \"nbformat\", \"cells\"}\n",
    "REQUIRED_NB_METADATA_FIELDS = {\"kernelspec\", \"language_info\"}\n",
    "CELL_TYPES = ('markdown', 'code', 'raw', )\n",
    "REQUIRED_CELL_FIELDS = {\n",
    "    'markdown': {\"cell_type\", \"metadata\", \"source\"},\n",
    "    'code': {\"cell_type\", \"metadata\", \"source\", \"execution_count\", \"outputs\"},\n",
    "    'raw': {\"cell_type\", \"metadata\", \"source\"}\n",
    "}\n",
    "OPTIONAL_CELL_FIELDS = {\n",
    "    'markdown': {\"attachments\"},\n",
    "    'code': set(),\n",
    "    'raw': {\"attachments\"}\n",
    "}\n",
    "OPTIONAL_OUTPUT_TYPES = {\n",
    "    'execute_result': {'data', 'metadata' ,'execution_count'},\n",
    "    'stream': {'name', 'text'},\n",
    "    'display_data': {'data', 'metadata', },\n",
    "    'error': {'ename', 'evalue', 'traceback'},\n",
    "}\n",
    "\n",
    "CELL_STATISTICS = (\n",
    "    'cell_types',  #: cell type counts\n",
    "    'sources', #: cell sources counts\n",
    "    'cell_metadata',  #: cell metadata counts, including separate ``tags``\n",
    "    'cell_attachments',  #: cell attachment MIME type counts, and total\n",
    "    'code_execution',  #: code cell execution count statistics\n",
    "    'code_outputs',  #: code cell counts per output_type, subcounts per ``stream`` and ``error``, and total\n",
    "    'cell_extra',  #: counts for extra (unknown) fields in cells\n",
    ")\n",
    "\n",
    "# dictionary keys for source statistics\n",
    "EMPTY_SOURCES = 'total empty sources'\n",
    "SOURCE_LINES = 'total source lines'\n",
    "SOURCE_WORDS = 'total source words'\n",
    "SOURCE_CHARS = 'total source chars'\n",
    "EMPTY_SOURCES_MD = 'markdown empty sources'\n",
    "SOURCE_LINES_MD = 'markdown source lines'\n",
    "SOURCE_WORDS_MD = 'markdown source words'\n",
    "SOURCE_CHARS_MD = 'markdown source chars'\n",
    "EMPTY_SOURCES_CODE = 'code empty sources'\n",
    "SOURCE_LINES_CODE = 'code source lines'\n",
    "SOURCE_WORDS_CODE = 'code source words'\n",
    "SOURCE_CHARS_CODE = 'code source chars'\n",
    "EMPTY_SOURCES_RAW = 'raw empty sources'\n",
    "SOURCE_LINES_RAW = 'raw source lines'\n",
    "SOURCE_WORDS_RAW = 'raw source words'\n",
    "SOURCE_CHARS_RAW = 'raw source chars'\n",
    "\n",
    "def nb_cell_stats(nb: NotebookNode) -> Dict[str, Dict[str, int]]:\n",
    "    \"\"\"Count occurrences of various elements in notebook cells.\n",
    "\n",
    "    :param nb: notebook to inspect\n",
    "    :return: dictionary of dictionaries with counts per section;\n",
    "        each section has its own key; see CELL_STATISTICS\n",
    "    \"\"\"\n",
    "    # process the notebook cells\n",
    "    result = {key: defaultdict(int) for key in CELL_STATISTICS}\n",
    "\n",
    "    # traverse all cells and gather statistics\n",
    "    for index, cell in enumerate(nb.cells):  # index can be used for debug output\n",
    "        result['cell_types']['total cell count'] += 1  # count all cells\n",
    "        ct = cell.cell_type\n",
    "        result['cell_types'][ct] += 1  # count each cell type\n",
    "\n",
    "        # compute source statistics\n",
    "        lines, words, chars = count_source(cell.source)  # cell.source should always be present\n",
    "        empty_cell = chars == 0\n",
    "        if empty_cell:\n",
    "            result['sources'][EMPTY_SOURCES] += 1\n",
    "            if ct == 'markdown':\n",
    "                result['sources'][EMPTY_SOURCES_MD] += 1\n",
    "            elif ct == 'code':\n",
    "                result['sources'][EMPTY_SOURCES_CODE] += 1\n",
    "            elif ct == 'raw':\n",
    "                result['sources'][EMPTY_SOURCES_RAW] += 1\n",
    "        if chars:\n",
    "            result['sources'][SOURCE_LINES] += lines\n",
    "            result['sources'][SOURCE_WORDS] += words\n",
    "            result['sources'][SOURCE_CHARS] += chars\n",
    "            if ct == 'markdown':\n",
    "                result['sources'][SOURCE_LINES_MD] += lines\n",
    "                result['sources'][SOURCE_WORDS_MD] += words\n",
    "                result['sources'][SOURCE_CHARS_MD] += chars\n",
    "            elif ct == 'code':\n",
    "                result['sources'][SOURCE_LINES_CODE] += lines\n",
    "                result['sources'][SOURCE_WORDS_CODE] += words\n",
    "                result['sources'][SOURCE_CHARS_CODE] += chars\n",
    "            elif ct == 'raw':\n",
    "                result['sources'][SOURCE_LINES_RAW] += lines\n",
    "                result['sources'][SOURCE_WORDS_RAW] += words\n",
    "                result['sources'][SOURCE_CHARS_RAW] += chars\n",
    "\n",
    "        # count each metadata key\n",
    "        for attr in cell.metadata:  # cell.metadata should always be present\n",
    "                result['cell_metadata'][attr] += 1\n",
    "\n",
    "        # count each tag in tags metadata\n",
    "        if 'tags' in cell.metadata:\n",
    "            for tag in cell.metadata.tags:\n",
    "                result['cell_metadata']['tag ' + tag] += 1\n",
    "\n",
    "        # count each attachment mime type\n",
    "        if 'attachments' in cell:\n",
    "            result['cell_attachments']['total count of cells with attachments'] += 1\n",
    "            for attachment in cell.attachments.values():\n",
    "                for key in attachment:\n",
    "                    result['cell_attachments']['total attachments count'] += 1\n",
    "                    result['cell_attachments'][key] += 1\n",
    "\n",
    "        # count non-standard fields in cells\n",
    "        for field in cell:\n",
    "            if field not in REQUIRED_CELL_FIELDS[ct].union(OPTIONAL_CELL_FIELDS[ct]):\n",
    "                result['cell_extra'][field] += 1\n",
    "\n",
    "    return result\n",
    "\n",
    "from colorama import Fore, Back, Style\n",
    "DEFAULT_WIDTH = 10\n",
    "def print_dict(d: Dict[str, Any], header: str=None, width: int=DEFAULT_WIDTH) -> None:\n",
    "    \"\"\"Print dictionary d with section header.\n",
    "\n",
    "    :param d: dictionary to print\n",
    "    :param header: header of the table\n",
    "    :param width: width of the left column\n",
    "    \"\"\"\n",
    "    if d:\n",
    "        if header:\n",
    "            print('{}:'.format(header))\n",
    "        for key in sorted(d):\n",
    "            if key == 'raw':\n",
    "                style = Fore.RED\n",
    "            else:\n",
    "                style = ''\n",
    "            left = str(d[key])\n",
    "            print(style + '  {:>{}} {}'.format(left, width, key) + Style.RESET_ALL)\n",
    "            \n",
    "from pathlib import Path\n",
    "from nbformat import NotebookNode\n",
    "from typing import List, Union\n",
    "import nbformat\n",
    "import sys\n",
    "\n",
    "def read_nb(nb_path: Path) -> Union[None, NotebookNode]:\n",
    "    \"\"\"Read notebook from given path, and return it.\n",
    "    Uses ``args.debug``: in debug mode, a read error results in an exception, else it returns ``None``.\n",
    "\n",
    "    :param nb_path: path to read from\n",
    "    :param args: to check debug mode\n",
    "    :return: notebook read from ``nb_path`` or None if reading failed``\n",
    "    \"\"\"\n",
    "    try:\n",
    "        nb = nbformat.read(nb_path.open(encoding='utf-8'), as_version=4)\n",
    "    except Exception as e:\n",
    "        ename = type(e).__name__\n",
    "        print('Reading of \"{}\" failed ({}):\\n  {}'.format(nb_path.name, ename, e), file=sys.stderr)\n",
    "        return None\n",
    "\n",
    "    return nb"
   ]
  },
  {
   "cell_type": "markdown",
   "metadata": {},
   "source": [
    "### Run the Sanity Check"
   ]
  },
  {
   "cell_type": "code",
   "execution_count": 7,
   "metadata": {},
   "outputs": [
    {
     "name": "stdout",
     "output_type": "stream",
     "text": [
      "/p/home/jusers/goebbert1/jureca/j4j_notebooks_2/001-Tutorials/003-IPython-in-Depth/examples/Interactive Widgets/Beat Frequencies.ipynb\n",
      "Cell types:\n",
      "           7 code\u001b[0m\n",
      "           2 markdown\u001b[0m\n",
      "           9 total cell count\u001b[0m\n"
     ]
    },
    {
     "data": {
      "application/vnd.jupyter.widget-view+json": {
       "model_id": "f71fdd90156c4492a8fe5ec312f7537c",
       "version_major": 2,
       "version_minor": 0
      },
      "text/plain": [
       "HBox(children=(FloatProgress(value=0.0, description='Executing', max=9.0, style=ProgressStyle(description_widt…"
      ]
     },
     "metadata": {},
     "output_type": "display_data"
    },
    {
     "name": "stdout",
     "output_type": "stream",
     "text": [
      "\n",
      "/p/home/jusers/goebbert1/jureca/j4j_notebooks_2/001-Tutorials/003-IPython-in-Depth/examples/Interactive Widgets/Exploring Graphs.ipynb\n",
      "Cell types:\n",
      "           6 code\u001b[0m\n",
      "           2 markdown\u001b[0m\n",
      "           8 total cell count\u001b[0m\n"
     ]
    },
    {
     "data": {
      "application/vnd.jupyter.widget-view+json": {
       "model_id": "988bbd9439d84f5f85d288fcf176277d",
       "version_major": 2,
       "version_minor": 0
      },
      "text/plain": [
       "HBox(children=(FloatProgress(value=0.0, description='Executing', max=8.0, style=ProgressStyle(description_widt…"
      ]
     },
     "metadata": {},
     "output_type": "display_data"
    },
    {
     "name": "stdout",
     "output_type": "stream",
     "text": [
      "\n",
      "/p/home/jusers/goebbert1/jureca/j4j_notebooks_2/001-Tutorials/003-IPython-in-Depth/examples/Interactive Widgets/Export As (nbconvert).ipynb\n",
      "Cell types:\n",
      "           7 code\u001b[0m\n",
      "           6 markdown\u001b[0m\n",
      "\u001b[31m           1 raw\u001b[0m\n",
      "          14 total cell count\u001b[0m\n"
     ]
    },
    {
     "data": {
      "application/vnd.jupyter.widget-view+json": {
       "model_id": "1fd3ade12fa34d099a2f6e90483affa0",
       "version_major": 2,
       "version_minor": 0
      },
      "text/plain": [
       "HBox(children=(FloatProgress(value=0.0, description='Executing', max=14.0, style=ProgressStyle(description_wid…"
      ]
     },
     "metadata": {},
     "output_type": "display_data"
    },
    {
     "name": "stdout",
     "output_type": "stream",
     "text": [
      "\n",
      "/p/home/jusers/goebbert1/jureca/j4j_notebooks_2/001-Tutorials/003-IPython-in-Depth/examples/Interactive Widgets/Factoring.ipynb\n",
      "Cell types:\n",
      "           7 code\u001b[0m\n",
      "           3 markdown\u001b[0m\n",
      "          10 total cell count\u001b[0m\n"
     ]
    },
    {
     "data": {
      "application/vnd.jupyter.widget-view+json": {
       "model_id": "44b8598c549f4ee1beda6de6501afa06",
       "version_major": 2,
       "version_minor": 0
      },
      "text/plain": [
       "HBox(children=(FloatProgress(value=0.0, description='Executing', max=10.0, style=ProgressStyle(description_wid…"
      ]
     },
     "metadata": {},
     "output_type": "display_data"
    },
    {
     "name": "stdout",
     "output_type": "stream",
     "text": [
      "\n",
      "/p/home/jusers/goebbert1/jureca/j4j_notebooks_2/001-Tutorials/003-IPython-in-Depth/examples/Interactive Widgets/Image Browser.ipynb\n",
      "Cell types:\n",
      "           6 code\u001b[0m\n",
      "           3 markdown\u001b[0m\n",
      "           9 total cell count\u001b[0m\n"
     ]
    },
    {
     "data": {
      "application/vnd.jupyter.widget-view+json": {
       "model_id": "eda6fde7e2284626bbe163de33d9e9ca",
       "version_major": 2,
       "version_minor": 0
      },
      "text/plain": [
       "HBox(children=(FloatProgress(value=0.0, description='Executing', max=9.0, style=ProgressStyle(description_widt…"
      ]
     },
     "metadata": {},
     "output_type": "display_data"
    },
    {
     "name": "stdout",
     "output_type": "stream",
     "text": [
      "\n",
      "/p/home/jusers/goebbert1/jureca/j4j_notebooks_2/001-Tutorials/003-IPython-in-Depth/examples/Interactive Widgets/Image Processing.ipynb\n",
      "Cell types:\n",
      "           9 code\u001b[0m\n",
      "           4 markdown\u001b[0m\n",
      "          13 total cell count\u001b[0m\n"
     ]
    },
    {
     "data": {
      "application/vnd.jupyter.widget-view+json": {
       "model_id": "3c2a6b7a44ca4c5aaca79054c26a55a5",
       "version_major": 2,
       "version_minor": 0
      },
      "text/plain": [
       "HBox(children=(FloatProgress(value=0.0, description='Executing', max=13.0, style=ProgressStyle(description_wid…"
      ]
     },
     "metadata": {},
     "output_type": "display_data"
    },
    {
     "name": "stdout",
     "output_type": "stream",
     "text": [
      "\n",
      "/p/home/jusers/goebbert1/jureca/j4j_notebooks_2/001-Tutorials/003-IPython-in-Depth/examples/Interactive Widgets/Index.ipynb\n",
      "Cell types:\n",
      "          10 markdown\u001b[0m\n",
      "          10 total cell count\u001b[0m\n"
     ]
    },
    {
     "data": {
      "application/vnd.jupyter.widget-view+json": {
       "model_id": "1c438bc0866e47a9b14c14a60597a8ec",
       "version_major": 2,
       "version_minor": 0
      },
      "text/plain": [
       "HBox(children=(FloatProgress(value=0.0, description='Executing', max=10.0, style=ProgressStyle(description_wid…"
      ]
     },
     "metadata": {},
     "output_type": "display_data"
    },
    {
     "name": "stdout",
     "output_type": "stream",
     "text": [
      "\n",
      "/p/home/jusers/goebbert1/jureca/j4j_notebooks_2/001-Tutorials/003-IPython-in-Depth/examples/Interactive Widgets/Lorenz Differential Equations.ipynb\n",
      "Cell types:\n",
      "          13 code\u001b[0m\n",
      "          11 markdown\u001b[0m\n",
      "          24 total cell count\u001b[0m\n"
     ]
    },
    {
     "data": {
      "application/vnd.jupyter.widget-view+json": {
       "model_id": "95908e4be05741c18855ae5246a4adec",
       "version_major": 2,
       "version_minor": 0
      },
      "text/plain": [
       "HBox(children=(FloatProgress(value=0.0, description='Executing', max=24.0, style=ProgressStyle(description_wid…"
      ]
     },
     "metadata": {},
     "output_type": "display_data"
    },
    {
     "name": "stdout",
     "output_type": "stream",
     "text": [
      "\n",
      "/p/home/jusers/goebbert1/jureca/j4j_notebooks_2/001-Tutorials/003-IPython-in-Depth/examples/Interactive Widgets/Nonblocking Console.ipynb\n",
      "Cell types:\n",
      "           6 code\u001b[0m\n",
      "           4 markdown\u001b[0m\n",
      "          10 total cell count\u001b[0m\n"
     ]
    },
    {
     "data": {
      "application/vnd.jupyter.widget-view+json": {
       "model_id": "cab189844baa49dba075522d870d24aa",
       "version_major": 2,
       "version_minor": 0
      },
      "text/plain": [
       "HBox(children=(FloatProgress(value=0.0, description='Executing', max=10.0, style=ProgressStyle(description_wid…"
      ]
     },
     "metadata": {},
     "output_type": "display_data"
    },
    {
     "name": "stdout",
     "output_type": "stream",
     "text": [
      "\n",
      "/p/home/jusers/goebbert1/jureca/j4j_notebooks_2/001-Tutorials/003-IPython-in-Depth/examples/Interactive Widgets/Using Interact.ipynb\n",
      "Cell types:\n",
      "          26 code\u001b[0m\n",
      "          32 markdown\u001b[0m\n",
      "          58 total cell count\u001b[0m\n"
     ]
    },
    {
     "data": {
      "application/vnd.jupyter.widget-view+json": {
       "model_id": "f9b8874795d74903bc49595af178aebc",
       "version_major": 2,
       "version_minor": 0
      },
      "text/plain": [
       "HBox(children=(FloatProgress(value=0.0, description='Executing', max=58.0, style=ProgressStyle(description_wid…"
      ]
     },
     "metadata": {},
     "output_type": "display_data"
    },
    {
     "name": "stdout",
     "output_type": "stream",
     "text": [
      "\n",
      "/p/home/jusers/goebbert1/jureca/j4j_notebooks_2/001-Tutorials/003-IPython-in-Depth/examples/Interactive Widgets/Widget Basics.ipynb\n",
      "Cell types:\n",
      "          13 code\u001b[0m\n",
      "          30 markdown\u001b[0m\n",
      "          43 total cell count\u001b[0m\n"
     ]
    },
    {
     "data": {
      "application/vnd.jupyter.widget-view+json": {
       "model_id": "eaa5635bbc5648d397416af17a155367",
       "version_major": 2,
       "version_minor": 0
      },
      "text/plain": [
       "HBox(children=(FloatProgress(value=0.0, description='Executing', max=43.0, style=ProgressStyle(description_wid…"
      ]
     },
     "metadata": {},
     "output_type": "display_data"
    },
    {
     "name": "stdout",
     "output_type": "stream",
     "text": [
      "\n",
      "/p/home/jusers/goebbert1/jureca/j4j_notebooks_2/001-Tutorials/003-IPython-in-Depth/examples/Interactive Widgets/Widget Events.ipynb\n",
      "Cell types:\n",
      "          13 code\u001b[0m\n",
      "          20 markdown\u001b[0m\n",
      "          33 total cell count\u001b[0m\n"
     ]
    },
    {
     "data": {
      "application/vnd.jupyter.widget-view+json": {
       "model_id": "2749136aface471ba907bba25d199d8e",
       "version_major": 2,
       "version_minor": 0
      },
      "text/plain": [
       "HBox(children=(FloatProgress(value=0.0, description='Executing', max=33.0, style=ProgressStyle(description_wid…"
      ]
     },
     "metadata": {},
     "output_type": "display_data"
    },
    {
     "name": "stdout",
     "output_type": "stream",
     "text": [
      "\n",
      "/p/home/jusers/goebbert1/jureca/j4j_notebooks_2/001-Tutorials/003-IPython-in-Depth/examples/Interactive Widgets/Widget List.ipynb\n",
      "Cell types:\n",
      "          21 code\u001b[0m\n",
      "          31 markdown\u001b[0m\n",
      "\u001b[31m           1 raw\u001b[0m\n",
      "          53 total cell count\u001b[0m\n"
     ]
    },
    {
     "data": {
      "application/vnd.jupyter.widget-view+json": {
       "model_id": "a54f3bfd781842bc87017ff89ffabf5b",
       "version_major": 2,
       "version_minor": 0
      },
      "text/plain": [
       "HBox(children=(FloatProgress(value=0.0, description='Executing', max=53.0, style=ProgressStyle(description_wid…"
      ]
     },
     "metadata": {},
     "output_type": "display_data"
    },
    {
     "name": "stdout",
     "output_type": "stream",
     "text": [
      "\n",
      "/p/home/jusers/goebbert1/jureca/j4j_notebooks_2/001-Tutorials/003-IPython-in-Depth/examples/Interactive Widgets/Widget Styling.ipynb\n",
      "Cell types:\n",
      "          19 code\u001b[0m\n",
      "          28 markdown\u001b[0m\n",
      "          47 total cell count\u001b[0m\n"
     ]
    },
    {
     "data": {
      "application/vnd.jupyter.widget-view+json": {
       "model_id": "a82cc2015494491bbdd3c1d95cd9ea1f",
       "version_major": 2,
       "version_minor": 0
      },
      "text/plain": [
       "HBox(children=(FloatProgress(value=0.0, description='Executing', max=47.0, style=ProgressStyle(description_wid…"
      ]
     },
     "metadata": {},
     "output_type": "display_data"
    },
    {
     "name": "stdout",
     "output_type": "stream",
     "text": [
      "\n"
     ]
    }
   ],
   "source": [
    "import os\n",
    "import papermill as pm\n",
    "from papermill.exceptions import PapermillExecutionError\n",
    "\n",
    "failed_notebooks = list()\n",
    "dirbase=\"/p/home/jusers/goebbert1/jureca/j4j_notebooks_2/001-Tutorials/003-IPython-in-Depth/examples/Interactive Widgets\"\n",
    "for dirpath, dirs, files in os.walk(dirbase):\n",
    "    dirs.sort()\n",
    "    if os.path.basename(dirpath).startswith('.'):\n",
    "        continue\n",
    "    for filename in sorted(files):\n",
    "        if filename.endswith('.ipynb') and not filename.startswith('papermill_'):\n",
    "            print(os.path.join(dirpath,filename))\n",
    "            try:\n",
    "                os.chdir(dirpath)\n",
    "                nb_path = os.path.join(dirpath, filename)\n",
    "                \n",
    "                # get notebook statistics\n",
    "                nb = read_nb(Path(nb_path))\n",
    "                cell_stats = nb_cell_stats(nb)\n",
    "                print_dict(cell_stats['cell_types'], \"Cell types\")\n",
    "                #print_dict(cell_stats['sources'], \"Cell sources\")\n",
    "                #print_dict(cell_stats['cell_metadata'], \"Cell metadata fields\")\n",
    "                #print_dict(cell_stats['cell_attachments'], \"Cell attachments\")             \n",
    "                \n",
    "                # execute notebook\n",
    "                nb = pm.execute_notebook(\n",
    "                    nb_path,\n",
    "                    os.path.join(dirpath, 'papermill_' + filename),\n",
    "                    #kernel_name=\"Python3\"\n",
    "                    )\n",
    "                \n",
    "                os.chdir(dirbase)\n",
    "            except PapermillExecutionError as e:\n",
    "                failed_notebooks.append([os.path.join(dirpath, filename), e.evalue])\n",
    "                print(e.evalue)"
   ]
  },
  {
   "cell_type": "markdown",
   "metadata": {},
   "source": [
    "# Check Results"
   ]
  },
  {
   "cell_type": "code",
   "execution_count": 3,
   "metadata": {},
   "outputs": [
    {
     "data": {
      "text/plain": [
       "[]"
      ]
     },
     "execution_count": 3,
     "metadata": {},
     "output_type": "execute_result"
    }
   ],
   "source": [
    "failed_notebooks"
   ]
  },
  {
   "cell_type": "code",
   "execution_count": null,
   "metadata": {},
   "outputs": [],
   "source": []
  },
  {
   "cell_type": "markdown",
   "metadata": {},
   "source": [
    "# Clean Up"
   ]
  },
  {
   "cell_type": "code",
   "execution_count": 9,
   "metadata": {},
   "outputs": [
    {
     "name": "stdout",
     "output_type": "stream",
     "text": [
      "/p/home/jusers/goebbert1/jureca/j4j_notebooks_2/001-Tutorials/006-Bokeh/papermill_index.ipynb\n",
      "/p/home/jusers/goebbert1/jureca/j4j_notebooks_2/001-Tutorials/006-Bokeh/quickstart/papermill_quickstart.ipynb\n",
      "/p/home/jusers/goebbert1/jureca/j4j_notebooks_2/001-Tutorials/006-Bokeh/tutorial/papermill_00 - Introduction and Setup.ipynb\n",
      "/p/home/jusers/goebbert1/jureca/j4j_notebooks_2/001-Tutorials/006-Bokeh/tutorial/papermill_08 - Graph and Network Plots.ipynb\n",
      "/p/home/jusers/goebbert1/jureca/j4j_notebooks_2/001-Tutorials/006-Bokeh/tutorial/papermill_02 - Styling and Theming.ipynb\n",
      "/p/home/jusers/goebbert1/jureca/j4j_notebooks_2/001-Tutorials/006-Bokeh/tutorial/papermill_06 - Linking and Interactions.ipynb\n",
      "/p/home/jusers/goebbert1/jureca/j4j_notebooks_2/001-Tutorials/006-Bokeh/tutorial/papermill_A3 - High-Level Charting with Holoviews.ipynb\n",
      "/p/home/jusers/goebbert1/jureca/j4j_notebooks_2/001-Tutorials/006-Bokeh/tutorial/papermill_05 - Presentation Layouts.ipynb\n",
      "/p/home/jusers/goebbert1/jureca/j4j_notebooks_2/001-Tutorials/006-Bokeh/tutorial/papermill_A1 - Models and Primitives.ipynb\n",
      "/p/home/jusers/goebbert1/jureca/j4j_notebooks_2/001-Tutorials/006-Bokeh/tutorial/papermill_A2 - Visualizing Big Data with Datashader.ipynb\n",
      "/p/home/jusers/goebbert1/jureca/j4j_notebooks_2/001-Tutorials/006-Bokeh/tutorial/papermill_A4 - Additional Resources.ipynb\n",
      "/p/home/jusers/goebbert1/jureca/j4j_notebooks_2/001-Tutorials/006-Bokeh/tutorial/papermill_04 - Data Sources and Transformations.ipynb\n",
      "/p/home/jusers/goebbert1/jureca/j4j_notebooks_2/001-Tutorials/006-Bokeh/tutorial/papermill_10 - Exporting and Embedding.ipynb\n",
      "/p/home/jusers/goebbert1/jureca/j4j_notebooks_2/001-Tutorials/006-Bokeh/tutorial/papermill_07 - Bar and Categorical Data Plots.ipynb\n",
      "/p/home/jusers/goebbert1/jureca/j4j_notebooks_2/001-Tutorials/006-Bokeh/tutorial/papermill_03 - Adding Annotations.ipynb\n",
      "/p/home/jusers/goebbert1/jureca/j4j_notebooks_2/001-Tutorials/006-Bokeh/tutorial/papermill_09 - Geographic Plots.ipynb\n",
      "/p/home/jusers/goebbert1/jureca/j4j_notebooks_2/001-Tutorials/006-Bokeh/tutorial/papermill_11 - Running Bokeh Applictions.ipynb\n",
      "/p/home/jusers/goebbert1/jureca/j4j_notebooks_2/001-Tutorials/006-Bokeh/tutorial/papermill_01 - Basic Plotting.ipynb\n",
      "/p/home/jusers/goebbert1/jureca/j4j_notebooks_2/001-Tutorials/005-Python4Maths/papermill_04.ipynb\n",
      "/p/home/jusers/goebbert1/jureca/j4j_notebooks_2/001-Tutorials/005-Python4Maths/papermill_08.ipynb\n",
      "/p/home/jusers/goebbert1/jureca/j4j_notebooks_2/001-Tutorials/005-Python4Maths/papermill_02.ipynb\n",
      "/p/home/jusers/goebbert1/jureca/j4j_notebooks_2/001-Tutorials/005-Python4Maths/papermill_07.ipynb\n",
      "/p/home/jusers/goebbert1/jureca/j4j_notebooks_2/001-Tutorials/005-Python4Maths/papermill_03.ipynb\n",
      "/p/home/jusers/goebbert1/jureca/j4j_notebooks_2/001-Tutorials/005-Python4Maths/papermill_01.ipynb\n",
      "/p/home/jusers/goebbert1/jureca/j4j_notebooks_2/001-Tutorials/005-Python4Maths/papermill_00.ipynb\n",
      "/p/home/jusers/goebbert1/jureca/j4j_notebooks_2/001-Tutorials/005-Python4Maths/papermill_06.ipynb\n",
      "/p/home/jusers/goebbert1/jureca/j4j_notebooks_2/001-Tutorials/005-Python4Maths/papermill_11.ipynb\n",
      "/p/home/jusers/goebbert1/jureca/j4j_notebooks_2/001-Tutorials/005-Python4Maths/papermill_05.ipynb\n",
      "/p/home/jusers/goebbert1/jureca/j4j_notebooks_2/001-Tutorials/003-IPython-in-Depth/papermill_Index.ipynb\n",
      "/p/home/jusers/goebbert1/jureca/j4j_notebooks_2/001-Tutorials/003-IPython-in-Depth/examples/papermill_Index.ipynb\n",
      "/p/home/jusers/goebbert1/jureca/j4j_notebooks_2/001-Tutorials/003-IPython-in-Depth/examples/Embedding/papermill_Index.ipynb\n",
      "/p/home/jusers/goebbert1/jureca/j4j_notebooks_2/001-Tutorials/003-IPython-in-Depth/examples/IPython Kernel/papermill_Terminal Usage.ipynb\n",
      "/p/home/jusers/goebbert1/jureca/j4j_notebooks_2/001-Tutorials/003-IPython-in-Depth/examples/IPython Kernel/papermill_Plotting in the Notebook.ipynb\n",
      "/p/home/jusers/goebbert1/jureca/j4j_notebooks_2/001-Tutorials/003-IPython-in-Depth/examples/IPython Kernel/papermill_Beyond Plain Python.ipynb\n",
      "/p/home/jusers/goebbert1/jureca/j4j_notebooks_2/001-Tutorials/003-IPython-in-Depth/examples/IPython Kernel/papermill_Cell Magics.ipynb\n",
      "/p/home/jusers/goebbert1/jureca/j4j_notebooks_2/001-Tutorials/003-IPython-in-Depth/examples/IPython Kernel/papermill_Trapezoid Rule.ipynb\n",
      "/p/home/jusers/goebbert1/jureca/j4j_notebooks_2/001-Tutorials/003-IPython-in-Depth/examples/IPython Kernel/papermill_Working With External Code.ipynb\n",
      "/p/home/jusers/goebbert1/jureca/j4j_notebooks_2/001-Tutorials/003-IPython-in-Depth/examples/IPython Kernel/papermill_Custom Display Logic.ipynb\n",
      "/p/home/jusers/goebbert1/jureca/j4j_notebooks_2/001-Tutorials/003-IPython-in-Depth/examples/IPython Kernel/papermill_Script Magics.ipynb\n",
      "/p/home/jusers/goebbert1/jureca/j4j_notebooks_2/001-Tutorials/003-IPython-in-Depth/examples/IPython Kernel/papermill_Index.ipynb\n",
      "/p/home/jusers/goebbert1/jureca/j4j_notebooks_2/001-Tutorials/003-IPython-in-Depth/examples/IPython Kernel/papermill_Importing Notebooks.ipynb\n",
      "/p/home/jusers/goebbert1/jureca/j4j_notebooks_2/001-Tutorials/003-IPython-in-Depth/examples/IPython Kernel/papermill_Animations Using clear_output.ipynb\n",
      "/p/home/jusers/goebbert1/jureca/j4j_notebooks_2/001-Tutorials/003-IPython-in-Depth/examples/IPython Kernel/papermill_Rich Output.ipynb\n",
      "/p/home/jusers/goebbert1/jureca/j4j_notebooks_2/001-Tutorials/003-IPython-in-Depth/examples/IPython Kernel/papermill_Raw Input in the Notebook.ipynb\n",
      "/p/home/jusers/goebbert1/jureca/j4j_notebooks_2/001-Tutorials/003-IPython-in-Depth/examples/IPython Kernel/papermill_Capturing Output.ipynb\n",
      "/p/home/jusers/goebbert1/jureca/j4j_notebooks_2/001-Tutorials/003-IPython-in-Depth/examples/IPython Kernel/papermill_Old Custom Display Logic.ipynb\n",
      "/p/home/jusers/goebbert1/jureca/j4j_notebooks_2/001-Tutorials/003-IPython-in-Depth/examples/IPython Kernel/papermill_Background Jobs.ipynb\n",
      "/p/home/jusers/goebbert1/jureca/j4j_notebooks_2/001-Tutorials/003-IPython-in-Depth/examples/IPython Kernel/papermill_Updating Displays.ipynb\n",
      "/p/home/jusers/goebbert1/jureca/j4j_notebooks_2/001-Tutorials/003-IPython-in-Depth/examples/IPython Kernel/papermill_Third Party Rich Output.ipynb\n",
      "/p/home/jusers/goebbert1/jureca/j4j_notebooks_2/001-Tutorials/003-IPython-in-Depth/examples/IPython Kernel/papermill_SymPy.ipynb\n",
      "/p/home/jusers/goebbert1/jureca/j4j_notebooks_2/001-Tutorials/003-IPython-in-Depth/examples/IPython Kernel/nbpackage/papermill_mynotebook.ipynb\n",
      "/p/home/jusers/goebbert1/jureca/j4j_notebooks_2/001-Tutorials/003-IPython-in-Depth/examples/IPython Kernel/nbpackage/nbs/papermill_other.ipynb\n",
      "/p/home/jusers/goebbert1/jureca/j4j_notebooks_2/001-Tutorials/003-IPython-in-Depth/examples/Parallel Computing/papermill_Data Publication API.ipynb\n",
      "/p/home/jusers/goebbert1/jureca/j4j_notebooks_2/001-Tutorials/003-IPython-in-Depth/examples/Interactive Widgets/papermill_Image Processing.ipynb\n",
      "/p/home/jusers/goebbert1/jureca/j4j_notebooks_2/001-Tutorials/003-IPython-in-Depth/examples/Interactive Widgets/papermill_Export As (nbconvert).ipynb\n",
      "/p/home/jusers/goebbert1/jureca/j4j_notebooks_2/001-Tutorials/003-IPython-in-Depth/examples/Interactive Widgets/papermill_Index.ipynb\n",
      "/p/home/jusers/goebbert1/jureca/j4j_notebooks_2/001-Tutorials/003-IPython-in-Depth/examples/Interactive Widgets/papermill_Beat Frequencies.ipynb\n",
      "/p/home/jusers/goebbert1/jureca/j4j_notebooks_2/001-Tutorials/003-IPython-in-Depth/examples/Interactive Widgets/papermill_Nonblocking Console.ipynb\n",
      "/p/home/jusers/goebbert1/jureca/j4j_notebooks_2/001-Tutorials/003-IPython-in-Depth/examples/Interactive Widgets/papermill_Using Interact.ipynb\n",
      "/p/home/jusers/goebbert1/jureca/j4j_notebooks_2/001-Tutorials/003-IPython-in-Depth/examples/Interactive Widgets/papermill_Exploring Graphs.ipynb\n",
      "/p/home/jusers/goebbert1/jureca/j4j_notebooks_2/001-Tutorials/003-IPython-in-Depth/examples/Interactive Widgets/papermill_Widget Styling.ipynb\n",
      "/p/home/jusers/goebbert1/jureca/j4j_notebooks_2/001-Tutorials/003-IPython-in-Depth/examples/Interactive Widgets/papermill_Widget Events.ipynb\n",
      "/p/home/jusers/goebbert1/jureca/j4j_notebooks_2/001-Tutorials/003-IPython-in-Depth/examples/Interactive Widgets/papermill_Factoring.ipynb\n",
      "/p/home/jusers/goebbert1/jureca/j4j_notebooks_2/001-Tutorials/003-IPython-in-Depth/examples/Interactive Widgets/papermill_Image Browser.ipynb\n",
      "/p/home/jusers/goebbert1/jureca/j4j_notebooks_2/001-Tutorials/003-IPython-in-Depth/examples/Interactive Widgets/papermill_Widget List.ipynb\n",
      "/p/home/jusers/goebbert1/jureca/j4j_notebooks_2/001-Tutorials/003-IPython-in-Depth/examples/Interactive Widgets/papermill_Widget Basics.ipynb\n",
      "/p/home/jusers/goebbert1/jureca/j4j_notebooks_2/001-Tutorials/003-IPython-in-Depth/examples/Interactive Widgets/papermill_Lorenz Differential Equations.ipynb\n",
      "/p/home/jusers/goebbert1/jureca/j4j_notebooks_2/001-Tutorials/003-IPython-in-Depth/examples/Notebook/papermill_What is the IPython Notebook.ipynb\n",
      "/p/home/jusers/goebbert1/jureca/j4j_notebooks_2/001-Tutorials/003-IPython-in-Depth/examples/Notebook/papermill_Running the Notebook Server.ipynb\n",
      "/p/home/jusers/goebbert1/jureca/j4j_notebooks_2/001-Tutorials/003-IPython-in-Depth/examples/Notebook/papermill_Notebook Basics.ipynb\n",
      "/p/home/jusers/goebbert1/jureca/j4j_notebooks_2/001-Tutorials/003-IPython-in-Depth/examples/Notebook/papermill_Index.ipynb\n",
      "/p/home/jusers/goebbert1/jureca/j4j_notebooks_2/001-Tutorials/003-IPython-in-Depth/examples/Notebook/papermill_Working With Markdown Cells.ipynb\n",
      "/p/home/jusers/goebbert1/jureca/j4j_notebooks_2/001-Tutorials/003-IPython-in-Depth/examples/Notebook/papermill_Importing Notebooks.ipynb\n",
      "/p/home/jusers/goebbert1/jureca/j4j_notebooks_2/001-Tutorials/003-IPython-in-Depth/examples/Notebook/papermill_Connecting with the Qt Console.ipynb\n",
      "/p/home/jusers/goebbert1/jureca/j4j_notebooks_2/001-Tutorials/003-IPython-in-Depth/examples/Notebook/papermill_Julia and Python Bridge.ipynb\n",
      "/p/home/jusers/goebbert1/jureca/j4j_notebooks_2/001-Tutorials/003-IPython-in-Depth/examples/Notebook/papermill_Multiple Languages, Frontends.ipynb\n",
      "/p/home/jusers/goebbert1/jureca/j4j_notebooks_2/001-Tutorials/003-IPython-in-Depth/examples/Notebook/papermill_Converting Notebooks With nbconvert.ipynb\n",
      "/p/home/jusers/goebbert1/jureca/j4j_notebooks_2/001-Tutorials/003-IPython-in-Depth/examples/Notebook/papermill_Typesetting Equations.ipynb\n",
      "/p/home/jusers/goebbert1/jureca/j4j_notebooks_2/001-Tutorials/003-IPython-in-Depth/examples/Notebook/papermill_Running Code.ipynb\n",
      "/p/home/jusers/goebbert1/jureca/j4j_notebooks_2/001-Tutorials/003-IPython-in-Depth/examples/Notebook/nbpackage/papermill_mynotebook.ipynb\n",
      "/p/home/jusers/goebbert1/jureca/j4j_notebooks_2/001-Tutorials/003-IPython-in-Depth/examples/Notebook/nbpackage/nbs/papermill_other.ipynb\n",
      "/p/home/jusers/goebbert1/jureca/j4j_notebooks_2/001-Tutorials/003-IPython-in-Depth/examples/Magics/papermill_Index.ipynb\n",
      "/p/home/jusers/goebbert1/jureca/j4j_notebooks_2/001-Tutorials/003-IPython-in-Depth/examples/Magics/papermill_Cython Magics.ipynb\n"
     ]
    }
   ],
   "source": [
    "import os\n",
    "import papermill as pm\n",
    "from papermill.exceptions import PapermillExecutionError\n",
    "\n",
    "failed_notebooks = list()\n",
    "dirbase=\"/p/home/jusers/goebbert1/jureca/j4j_notebooks_2/001-Tutorials/\"\n",
    "for dirpath, dirs, files in os.walk(dirbase):\n",
    "    if os.path.basename(dirpath).startswith('.'):\n",
    "        continue\n",
    "    for filename in files:\n",
    "        if filename.endswith('.ipynb') and filename.startswith('papermill_'):\n",
    "            nb_path = os.path.join(dirpath,filename)\n",
    "            print(nb_path)\n",
    "            #os.remove(nb_path)"
   ]
  },
  {
   "cell_type": "code",
   "execution_count": null,
   "metadata": {},
   "outputs": [],
   "source": []
  }
 ],
 "metadata": {
  "kernelspec": {
   "display_name": "Python 3",
   "language": "python",
   "name": "python3"
  },
  "language_info": {
   "codemirror_mode": {
    "name": "ipython",
    "version": 3
   },
   "file_extension": ".py",
   "mimetype": "text/x-python",
   "name": "python",
   "nbconvert_exporter": "python",
   "pygments_lexer": "ipython3",
   "version": "3.6.8"
  }
 },
 "nbformat": 4,
 "nbformat_minor": 4
}

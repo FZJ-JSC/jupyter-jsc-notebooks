{
 "cells": [
  {
   "cell_type": "markdown",
   "metadata": {},
   "source": [
    "# Notebook Basics\n",
    "---"
   ]
  },
  {
   "cell_type": "markdown",
   "metadata": {},
   "source": [
    "## The Notebook\n",
    "---"
   ]
  },
  {
   "cell_type": "markdown",
   "metadata": {},
   "source": [
    "Jupyter notebooks are documents that combine live runnable code with narrative text (Markdown), equations (LaTeX), images, interactive visualizations and other rich output.\n",
    "\n",
    "Create a notebook by clicking the **`+`** button in the file browser and then selecting a kernel in the new Launcher tab. Alternatively, use the \"File\" menu in the menu bar to launch a new notebook.\n",
    "\n",
    "The new file is created with a default name. Rename a file by right-clicking on its name in the file browser and selecting “Rename” from the context menu."
   ]
  },
  {
   "cell_type": "markdown",
   "metadata": {},
   "source": [
    "### Header\n",
    "\n",
    "At the top of the notebook document is a toolbar. This toolbar remains fixed at the top of the screen, even as the body of the notebook is scrolled and contains a variety of notebook operations.\n",
    "\n",
    "<img src=\"images/notebook_header.png\">"
   ]
  },
  {
   "cell_type": "markdown",
   "metadata": {},
   "source": [
    "### Body\n",
    "\n",
    "The body of a notebook is composed of cells. Each cell contains either markdown, code input, code output, or raw text. Cells can be included in any order and edited at-will, allowing for a large ammount of flexibility for constructing a narrative.\n",
    "\n",
    "- **Markdown cells** - These are used to build a nicely formatted narrative around the code in the document. The majority of this lesson is composed of markdown cells.\n",
    "\n",
    "- **Code cells** - These are used to define the computational code in the document. They come in two forms: the *input cell* where the user types the code to be executed, and the *output cell* which is the representation of the executed code. Depending on the code, this representation may be a simple scalar value, or something more complex like a plot or an interactive widget. Tab completion (**`Tab`**) and a tool tip feature (**`Shift Tab`**) are supported.\n",
    "\n",
    "- **Raw cells** - These are used when text needs to be included in raw form, without execution or transformation.\n",
    "\n",
    "<img src=\"images/cell_types.png\">\n",
    "\n",
    "Cells and their outputs can be collapsed and expanded by clicking on the blue collapsor button left of the selected code or under the \"View\" menu."
   ]
  },
  {
   "cell_type": "markdown",
   "metadata": {},
   "source": [
    "#### Modality\n",
    "\n",
    "The notebook user interface is *modal*. This means that the keyboard behaves differently depending upon the current mode of the notebook. A notebook has two modes: **edit** and **command**.\n",
    "\n",
    "**Edit mode** is indicated by a blue cell border and a prompt showing in the editor area. When a cell is in edit mode, you can type into the cell, like a normal text editor.\n",
    "\n",
    "<img src=\"images/edit_mode.png\">\n",
    "\n",
    "**Command mode** is indicated by a grey cell border. When in command mode, the structure of the notebook can be modified as a whole, but the text in individual cells cannot be changed. Most importantly, the keyboard is mapped to a set of shortcuts for efficiently performing notebook and cell actions. For example, pressing **`c`** when in command mode, will copy the current cell; no modifier is needed.\n",
    "\n",
    "<img src=\"images/command_mode.png\">\n",
    "\n",
    "<div class=\"alert alert-success\">\n",
    "Enter edit mode by pressing `Enter` or using the mouse to click on a cell's editor area.\n",
    "</div>\n",
    "<div class=\"alert alert-success\">\n",
    "Enter command mode by pressing `Esc` or using the mouse to click *outside* a cell's editor area.\n",
    "</div>\n",
    "<div class=\"alert alert-warning\">\n",
    "Do not attempt to type into a cell when in command mode; unexpected things will happen!\n",
    "</div>"
   ]
  },
  {
   "cell_type": "markdown",
   "metadata": {},
   "source": [
    "#### Mouse navigation\n",
    "\n",
    "The first concept to understand in mouse-based navigation is that **cells can be selected by clicking on them.** The currently selected cell is indicated with a blue bar on its left. Clicking inside a cell's editor area will enter edit mode. Clicking on the prompt or the output area of a cell will enter command mode.\n",
    "\n",
    "The second concept to understand in mouse-based navigation is that **cell actions usually apply to the currently selected cell**. For example, to run the code in a cell, select it and then click the <button class='btn btn-default btn-xs'><i class=\"fa fa-play icon-play\"></i></button> button in the toolbar or the **`Cell -> Run`** menu item. Similarly, to copy a cell, select it and then click the <button class='btn btn-default btn-xs'><i class=\"fa fa-copy icon-copy\"></i></button> button in the toolbar or the **`Edit -> Copy`** menu item. With this simple pattern, it should be possible to perform nearly every action with the mouse.\n",
    "\n",
    "Markdown cells have one other state which can be modified with the mouse. These cells can either be rendered or unrendered. When they are rendered, a nice formatted representation of the cell's contents will be presented. When they are unrendered, the raw text source of the cell will be presented. To render the selected cell with the mouse, click the <button class='btn btn-default btn-xs'><i class=\"fa fa-play icon-play\"></i></button> button in the toolbar or the **`Cell -> Run`** menu item. To unrender the selected cell, double click on the cell."
   ]
  },
  {
   "cell_type": "markdown",
   "metadata": {},
   "source": [
    "#### Keyboard Navigation\n",
    "\n",
    "The modal user interface of the IPython Notebook has been optimized for efficient keyboard usage. This is made possible by having two different sets of keyboard shortcuts: one set that is active in edit mode and another in command mode.\n",
    "\n",
    "The most important keyboard shortcuts are **`Enter`**, which enters edit mode, and **`Esc`**, which enters command mode.\n",
    "\n",
    "In edit mode, most of the keyboard is dedicated to typing into the cell's editor. Thus, in edit mode there are relatively few shortcuts. In command mode, the entire keyboard is available for shortcuts, so there are many more possibilities.\n",
    "\n",
    "The following shortcuts have been found to be the most useful in day-to-day tasks:\n",
    "\n",
    "- Basic navigation: **`enter`**, **`shift-enter`**, **`up/k`**, **`down/j`**\n",
    "- Saving the notebook: **`s`**\n",
    "- Cell types: **`y`**, **`m`**, **`1-6`**, **`r`**\n",
    "- Cell creation: **`a`**, **`b`**\n",
    "- Cell editing: **`x`**, **`c`**, **`v`**, **`d`**, **`z`**, **`ctrl+shift+-`**\n",
    "- Kernel operations: **`i`**, **`.`**"
   ]
  },
  {
   "cell_type": "markdown",
   "metadata": {},
   "source": [
    "#### JupyterLab Features\n",
    "Some useful features that are supported by Jupyterlab:\n",
    "* Drag and drop cells to rearrange your notebook\n",
    "* Drag cells between notebooks to quickly copy content\n",
    "* Create multiple synchronized views of a single notebook\n",
    "* Enable scrolling for long outputs by right-clicking on a cell and selecting “Enable Scrolling for Outputs”\n",
    "\n",
    "<img src=\"images/scrolling_output.png\">\n",
    "\n",
    "* Collapse and expand code and output using the View menu or the blue collapser button on left of each cell\n",
    "\n",
    "<img src=\"images/collapsed_output.png\">\n",
    "\n",
    "* Create a new synchronized view of a code cell’s output by right-clicking in the cell and selecting \"Create New View for Output\"\n",
    "\n",
    "<img src=\"images/output_view.png\">\n",
    "\n",
    "You can connect a code console to a notebook kernel to have a log of computations done in the kernel, in the order in which they were done. The attached code console also provides a place to interactively inspect kernel state without changing the notebook. Right-click on a notebook and select “Create Console for Notebook”."
   ]
  },
  {
   "cell_type": "markdown",
   "metadata": {},
   "source": [
    "## Code Consoles\n",
    "---"
   ]
  },
  {
   "cell_type": "markdown",
   "metadata": {},
   "source": [
    "Code consoles enable you to run code interactively in a kernel. The cells of a code console show the order in which code was executed in the kernel, as opposed to the explicit ordering of cells in a notebook document. Code consoles also display rich output, just like notebook cells.\n",
    "\n",
    "Create a new code console by clicking the + button in the file browser and selecting the kernel. Creating a code console from the file menu lets you select an existing kernel for the code console. The code console then acts as a log of computations in that kernel, and a place you can interactively inspect and run code in the kernel.\n",
    "\n",
    "<img src=\"images/code_console.png\">\n",
    "\n",
    "Run code using **`Shift Enter`**. Use the **`up`** and **`down`** arrows to browse the history of previously-run code.\n",
    "\n",
    "Tab completion (**`Tab`**) and tooltips (**`Shift Tab`**) work as in the notebook.\n",
    "\n",
    "Clear the cells of the code console without restarting the kernel by right-clicking on the code console and selecting “Clear Console Cells”."
   ]
  },
  {
   "cell_type": "markdown",
   "metadata": {},
   "source": [
    "## The Text Editor\n",
    "---"
   ]
  },
  {
   "cell_type": "markdown",
   "metadata": {},
   "source": [
    "The notebook application has the ability to edit more than just notebook files and code cells. Any plain text file can be edited using the built-in text editor.\n",
    "\n",
    "The text editor will be opened in a new tab whenever a non-notebook text file is accessed from the file browser. A new text file can also be created via **`File -> New`**, and then selecting **`Text File`**.\n",
    "\n",
    "The text editor includes syntax highlighting, configurable indentation (tabs or spaces), key maps and basic theming. These settings can be found in the Settings menu. \n",
    "\n",
    "The syntax highlighting for the text file is determined automatically by the file extension. It can also be set manually via the **`Text Editor Syntax Highlighting`** option in the **`View`** menu.\n",
    "\n",
    "<img src=\"images/text_editor.png\">"
   ]
  },
  {
   "cell_type": "markdown",
   "metadata": {},
   "source": [
    "## The Terminal\n",
    "---"
   ]
  },
  {
   "cell_type": "markdown",
   "metadata": {},
   "source": [
    "JupyterLab terminals provide full support for system shells (bash, tsch, etc.). You can run anything in your system shell with a terminal, including programs such as vim or emacs. The terminals run on the system where the Jupyter server is running, with the privileges of your user.\n",
    "\n",
    "To open a new terminal, click the **`+`** button in the file browser and select the terminal in the new Launcher tab. Alternatively, select **`Terminal`** in the **`File -> New`** dropdown menu.\n",
    "\n",
    "Closing a terminal tab will leave it running on the server, but you can re-open it using the Running tab in the left sidebar.\n",
    "\n",
    "<img src=\"images/terminal.png\">"
   ]
  }
 ],
 "metadata": {
  "hide_input": false,
  "kernelspec": {
   "display_name": "Python 3",
   "language": "python",
   "name": "python3"
  },
  "language_info": {
   "codemirror_mode": {
    "name": "ipython",
    "version": 3
   },
   "file_extension": ".py",
   "mimetype": "text/x-python",
   "name": "python",
   "nbconvert_exporter": "python",
   "pygments_lexer": "ipython3",
   "version": "3.6.4"
  }
 },
 "nbformat": 4,
 "nbformat_minor": 2
}

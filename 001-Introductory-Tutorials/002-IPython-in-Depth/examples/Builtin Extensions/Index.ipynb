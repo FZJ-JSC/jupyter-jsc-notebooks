{
 "cells": [
  {
   "cell_type": "markdown",
   "metadata": {},
   "source": [
    "<img src=\"../images/ipython_logo.png\">"
   ]
  },
  {
   "cell_type": "markdown",
   "metadata": {},
   "source": [
    "Back to the main [Index](../Index.ipynb)"
   ]
  },
  {
   "cell_type": "markdown",
   "metadata": {},
   "source": [
    "# Builtin Extensions"
   ]
  },
  {
   "cell_type": "markdown",
   "metadata": {},
   "source": [
    "IPython extensions allow custom magic commands to be shipped as standalone libraries. IPython includes a few extensions that define magic commands for working with code in other languages.\n",
    "\n",
    "<div class=\"alert\" style=\"margin: 10px\">\n",
    "We are in the process of moving these builtin extensions to their parent projects (Cython, oct2py and rpy2). Once this happens this documentation will move as well.\n",
    "</div>"
   ]
  },
  {
   "cell_type": "markdown",
   "metadata": {},
   "source": [
    "## Tutorials"
   ]
  },
  {
   "cell_type": "markdown",
   "metadata": {},
   "source": [
    "* [Cython Magics](Cython Magics.ipynb): magics for compiling and running Cython code in a cell\n",
    "* [Octave Magic](Octave Magic.ipynb): magics for running Octave code in a cell\n",
    "* [R Magics](R Magics.ipynb): magics for running R code in a cell"
   ]
  }
 ],
 "metadata": {},
 "nbformat": 4,
 "nbformat_minor": 0
}
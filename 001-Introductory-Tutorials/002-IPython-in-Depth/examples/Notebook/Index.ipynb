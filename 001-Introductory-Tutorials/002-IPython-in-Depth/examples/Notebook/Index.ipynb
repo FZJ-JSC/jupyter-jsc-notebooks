{
 "cells": [
  {
   "cell_type": "markdown",
   "metadata": {},
   "source": [
    "<img src=\"../images/ipython_logo.png\">"
   ]
  },
  {
   "cell_type": "markdown",
   "metadata": {},
   "source": [
    "Back to the main [Index](../Index.ipynb)"
   ]
  },
  {
   "cell_type": "markdown",
   "metadata": {},
   "source": [
    "# Notebook"
   ]
  },
  {
   "cell_type": "markdown",
   "metadata": {},
   "source": [
    "The IPython Notebook is a web-based interactive computing system that enables users to author documents that include live code, narrative text, LaTeX equations, HTML, images and video. These documents contain a full record of a computation and its results and can be shared on email, [Dropbox](http://dropbox.com), version control systems (like git/[GitHub](http://github.com)) or [nbviewer.ipython.org](http://nbviewer.ipython.org)."
   ]
  },
  {
   "cell_type": "markdown",
   "metadata": {},
   "source": [
    "## Tutorials"
   ]
  },
  {
   "cell_type": "markdown",
   "metadata": {},
   "source": [
    "* [What is the IPython Notebook?](What is the IPython Notebook%3F.ipynb)\n",
    "* [Running the Notebook Server](Running the Notebook Server.ipynb)\n",
    "* [Notebook Basics](Notebook Basics.ipynb)\n",
    "* [Running Code](Running Code.ipynb)\n",
    "* [Working With Markdown Cells](Working With Markdown Cells.ipynb)\n",
    "* [Custom Keyboard Shortcuts](Custom Keyboard Shortcuts.ipynb)\n",
    "* [JavaScript Notebook Extensions](JavaScript Notebook Extensions.ipynb)\n",
    "* [Notebook Security](Notebook Security.ipynb)\n",
    "* [Converting Notebooks With nbconvert](Converting Notebooks With nbconvert.ipynb)\n",
    "* [Using nbconvert as a Library](Using nbconvert as a Library.ipynb)"
   ]
  },
  {
   "cell_type": "markdown",
   "metadata": {},
   "source": [
    "## Examples"
   ]
  },
  {
   "cell_type": "markdown",
   "metadata": {},
   "source": [
    "* [Importing Notebooks](Importing Notebooks.ipynb)\n",
    "* [Connecting with the Qt Console](Connecting with the Qt Console.ipynb)\n",
    "* [Typesetting Equations](Typesetting Equations.ipynb)"
   ]
  }
 ],
 "metadata": {},
 "nbformat": 4,
 "nbformat_minor": 0
}
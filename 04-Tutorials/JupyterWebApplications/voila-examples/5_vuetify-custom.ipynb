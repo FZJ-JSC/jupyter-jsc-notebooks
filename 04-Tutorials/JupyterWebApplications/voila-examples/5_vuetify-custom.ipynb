{
 "cells": [
  {
   "cell_type": "code",
   "execution_count": 2,
   "metadata": {},
   "outputs": [],
   "source": [
    "import ipyvuetify as v"
   ]
  },
  {
   "cell_type": "markdown",
   "metadata": {},
   "source": [
    "# Documentation\n",
    "\n",
    "### ipyvuetify\n",
    "https://github.com/mariobuikhuizen/ipyvuetify\n",
    "\n",
    "### Vuetify Documentation\n",
    "https://vuetifyjs.com/en/components/buttons#buttons\n",
    "\n",
    "### Material UI Icons\n",
    "https://www.materialui.co/icons"
   ]
  },
  {
   "cell_type": "markdown",
   "metadata": {},
   "source": [
    "# Creating your app\n",
    "\n",
    "The *voila vuetify* template **does not** render output from the notebook, it only shows widgets with the mount_id metadata.  \n",
    "By default, the mount points \n",
    "1. `content-title` for the title in the navigation drawer, \n",
    "2. `content-nav` for the content in the navigation drawer,\n",
    "3. `content-bar` for the title in the app bar and \n",
    "4. `content-main` for the main app area \n",
    "\n",
    "are defined."
   ]
  },
  {
   "cell_type": "markdown",
   "metadata": {},
   "source": [
    "For example, we can set the app bar title with"
   ]
  },
  {
   "cell_type": "code",
   "execution_count": 3,
   "metadata": {},
   "outputs": [],
   "source": [
    "appbar_title = v.ToolbarTitle(\n",
    "    _metadata={'mount_id':'toolbar-title'},\n",
    "    children=['My first vuetify app']\n",
    ")\n",
    "# No need to render it in the notebook, since the voila vuetify template \n",
    "# only looks at the mount_id metadata and not at the notebook output."
   ]
  },
  {
   "cell_type": "markdown",
   "metadata": {},
   "source": [
    "## How do widgets in ipyvuetify work? \n",
    "Think of them as HTML in Python code!\n",
    "\n",
    "```html\n",
    "<v-list-item link>\n",
    "    <v-list-item-icon>\n",
    "        <v-icon>{{ item.icon }}</v-icon>\n",
    "    </v-list-item-icon>\n",
    "    \n",
    "    <v-list-item-content>\n",
    "        <v-list-item-title>{{ item.title }}</v-list-item-title>\n",
    "    </v-list-item-content>\n",
    "</v-list-item>\n",
    "```\n",
    "\n",
    "Compare the Python code below:"
   ]
  },
  {
   "cell_type": "code",
   "execution_count": 4,
   "metadata": {},
   "outputs": [],
   "source": [
    "list_items = [\n",
    "    v.ListItem(link=True, children=[\n",
    "        v.ListItemIcon(children=[\n",
    "            v.Icon(children=[\"account_box\"]),\n",
    "        ]),\n",
    "        v.ListItemContent(children=[\n",
    "            v.ListItemTitle(children=[\"Account\"])\n",
    "        ])\n",
    "    ]),\n",
    "    v.ListItem(link=True, children=[\n",
    "        v.ListItemIcon(children=[\n",
    "            v.Icon(children=[\"timeline\"]),\n",
    "        ]),\n",
    "        v.ListItemContent(children=[\n",
    "            v.ListItemTitle(children=[\"Analytics\"])\n",
    "        ])\n",
    "    ]),\n",
    "    v.ListItem(link=True, children=[\n",
    "        v.ListItemIcon(children=[\n",
    "            v.Icon(children=[\"build\"]),\n",
    "        ]),\n",
    "        v.ListItemContent(children=[\n",
    "            v.ListItemTitle(children=[\"Settings\"])\n",
    "        ])\n",
    "    ])\n",
    "]"
   ]
  },
  {
   "cell_type": "markdown",
   "metadata": {},
   "source": [
    "Create a list and mount it as the navigation drawer content\n"
   ]
  },
  {
   "cell_type": "code",
   "execution_count": 5,
   "metadata": {},
   "outputs": [
    {
     "data": {
      "application/vnd.jupyter.widget-view+json": {
       "model_id": "b848c76eee144e4b89a9a90a9bbbf8db",
       "version_major": 2,
       "version_minor": 0
      },
      "text/plain": [
       "List(children=[ListItem(children=[ListItemIcon(children=[Icon(children=['account_box'])]), ListItemContent(chi…"
      ]
     },
     "metadata": {},
     "output_type": "display_data"
    }
   ],
   "source": [
    "v.List(\n",
    "    _metadata={'mount_id':'content-nav'},\n",
    "    column=True,\n",
    "    children=list_items\n",
    ")"
   ]
  },
  {
   "cell_type": "markdown",
   "metadata": {},
   "source": [
    "> *ipyvuetify* tries to stay as close to the *Vue.js* and *Vuetify template* syntax as possible. You should be able to find a corresponding *ipyvuetify* widget for all *vuetify* components.  \n",
    "> For an overview of all existing components, take a look at the [*vuetify* api explorer](https://vuetifyjs.com/en/components/api-explorer)."
   ]
  },
  {
   "cell_type": "markdown",
   "metadata": {},
   "source": [
    "## Setting `content-main`\n",
    "`content-main` is the main area of the app and where you will want to render your interactive widgets.  \n",
    "Since we have three entries in the navigation bar, we will create three separate app pages. These are meant to show some of the possibilities of ipyvuetify."
   ]
  },
  {
   "cell_type": "code",
   "execution_count": 6,
   "metadata": {},
   "outputs": [],
   "source": [
    "lorem_ipsum = \"Lorem ipsum dolor sit amet, consetetur sadipscing elitr, sed diam nonumy eirmod tempor invidunt ut labore et dolore magna aliquyam erat, sed diam voluptua. \\\n",
    "At vero eos et accusam et justo duo dolores et ea rebum. Stet clita kasd gubergren, no sea takimata sanctus est Lorem ipsum dolor sit amet.\" * 2"
   ]
  },
  {
   "cell_type": "markdown",
   "metadata": {},
   "source": [
    "### Page 1"
   ]
  },
  {
   "cell_type": "code",
   "execution_count": 7,
   "metadata": {},
   "outputs": [],
   "source": [
    "card1 = v.Card(children=[\n",
    "    v.CardTitle(children=[\n",
    "       v.ListItem(class_=\"grow\", children=[\n",
    "           v.ListItemAvatar(children=[\n",
    "               v.Icon(large=True, left=True,\n",
    "                      children=[\"account_circle\"])\n",
    "           ]),\n",
    "           v.ListItemContent(children=[\"Evan You\"])\n",
    "       ])\n",
    "    ]),\n",
    "    v.ExpansionPanels(children=[\n",
    "        v.ExpansionPanel(children=[\n",
    "            v.ExpansionPanelHeader(children=[header]),\n",
    "            v.ExpansionPanelContent(children=[lorem_ipsum])\n",
    "        ])\n",
    "    for header in [\"Add\", \"Some\", \"Content\"]])\n",
    "])\n",
    "\n",
    "\n",
    "card2 = v.Card(height=\"100%\", children=[\n",
    "    v.CardTitle(children=[\"Responsiveness\"]),\n",
    "    v.CardText(children=[\"Vuetify automatically creates a responsive layout if you use v.Layout() and v.Flex()\",\n",
    "                         v.List(children=[\n",
    "                             v.ListItem(href=\"https://vuetifyjs.com/en/styles/display#display\",\n",
    "                                        children=[\n",
    "                                            v.ListItemContent(children=[\"Click here to open the documentation for the material design viewport breakpoints.\"])\n",
    "                                        ])\n",
    "                         ])])\n",
    "])\n",
    "\n",
    "\n",
    "card3 = v.Card(height=\"100%\", children=[\n",
    "    v.CardTitle(children=[\"CSS Spacing helpers\"]),\n",
    "    v.CardText(children=[\n",
    "        v.List(children=[\n",
    "            v.ListItem(href=\"https://vuetifyjs.com/en/styles/spacing#how-it-works\",\n",
    "                       children=[\n",
    "                           v.ListItemContent(children=[\"\"\"Similarly, click here for the documentation on vuetify's css spacing helpers.\n",
    "You can update your layout without creating new classes. \n",
    "Spacing helpers are useful for modifying the padding and margin of an element.\"\"\" ])\n",
    "            ]),\n",
    "            v.ListItem(href=\"https://vuetifyjs.com/en/styles/spacing#playground\",\n",
    "                       children=[\n",
    "                           v.ListItemContent(children=[\"Click here to directly head to the playground to get a feel for what the different helper classes can do.\"])\n",
    "            ])\n",
    "        ])\n",
    "    ])\n",
    "])"
   ]
  },
  {
   "cell_type": "markdown",
   "metadata": {},
   "source": [
    "`v.Layout` is a basic flexbox. For the *vuetify* CSS flex helpers, see https://vuetifyjs.com/en/styles/flex#flex.  \n",
    "\n",
    "For `v.Flex`, *xs12*, *md6* and *xl4* stand for the viewport breakpoints, *pa_4* for **p**adding in **a**ll directions.  \n",
    "For more information, follow the links in the cards."
   ]
  },
  {
   "cell_type": "code",
   "execution_count": 8,
   "metadata": {},
   "outputs": [],
   "source": [
    "page1 = v.Layout(row=True, wrap=True, align_center=True, children=[\n",
    "    v.Flex(xs12=True, md6=True, xl4=True, pa_4=True, children=[ card ]) \n",
    "    for card in [card1, card2, card3]\n",
    "])"
   ]
  },
  {
   "cell_type": "markdown",
   "metadata": {},
   "source": [
    "In the standard notebook, the output will likely have wrong styling and layouts.  \n",
    "This is because the vuetify css style sheets are not loaded in the notebook.   \n",
    "Once started with the voila vuetify template, they should render correctly."
   ]
  },
  {
   "cell_type": "code",
   "execution_count": 9,
   "metadata": {},
   "outputs": [
    {
     "data": {
      "application/vnd.jupyter.widget-view+json": {
       "model_id": "0663d15979a14bde91f1f6d95566c217",
       "version_major": 2,
       "version_minor": 0
      },
      "text/plain": [
       "Layout(align_center=True, children=[Flex(children=[Card(children=[CardTitle(children=[ListItem(children=[ListI…"
      ]
     },
     "metadata": {},
     "output_type": "display_data"
    }
   ],
   "source": [
    "page1"
   ]
  },
  {
   "cell_type": "markdown",
   "metadata": {},
   "source": [
    "### Page 2\n",
    "Widgets from other notebook extensions can be rendered in the app as well."
   ]
  },
  {
   "cell_type": "code",
   "execution_count": 10,
   "metadata": {},
   "outputs": [],
   "source": [
    "from bqplot import pyplot as plt\n",
    "from ipywidgets import link\n",
    "import numpy as np\n",
    "\n",
    "# Create a random plot\n",
    "n = 200\n",
    "x = np.linspace(0.0, 10.0, n)\n",
    "y = np.cumsum(np.random.randn(n)*10).astype(int)\n",
    "\n",
    "fig = plt.figure( title='Histogram')\n",
    "np.random.seed(0)\n",
    "hist = plt.hist(y, bins=25)\n",
    "hist.scales['sample'].min = float(y.min())\n",
    "hist.scales['sample'].max = float(y.max())\n",
    "fig.layout.width = 'auto'\n",
    "fig.layout.height = 'auto'\n",
    "fig.layout.min_height = '300px' # so it shows nicely in the notebook"
   ]
  },
  {
   "cell_type": "markdown",
   "metadata": {},
   "source": [
    "Ipyvuetify widgets don't use `value` but `v_model`:"
   ]
  },
  {
   "cell_type": "code",
   "execution_count": 11,
   "metadata": {},
   "outputs": [],
   "source": [
    "slider = v.Slider(thumb_label='always', class_=\"px-4\", v_model=30)\n",
    "link((slider, 'v_model'), (hist, 'bins'));"
   ]
  },
  {
   "cell_type": "code",
   "execution_count": 12,
   "metadata": {},
   "outputs": [
    {
     "data": {
      "application/vnd.jupyter.widget-view+json": {
       "model_id": "8e371a63b9c74503af6af5505c7e579a",
       "version_major": 2,
       "version_minor": 0
      },
      "text/plain": [
       "Layout(align_center=True, children=[Flex(children=[Figure(axes=[Axis(orientation='vertical', scale=LinearScale…"
      ]
     },
     "metadata": {},
     "output_type": "display_data"
    }
   ],
   "source": [
    "page2 = v.Layout(row=True, wrap=True, align_center=True, children=[\n",
    "    v.Flex(xs12=True, lg6=True, xl4=True, children=[ fig, slider ]) \n",
    "])\n",
    "\n",
    "page2"
   ]
  },
  {
   "cell_type": "markdown",
   "metadata": {},
   "source": [
    "### Page 3\n",
    "Some more advanced usage of ipyvuetify widgets."
   ]
  },
  {
   "cell_type": "markdown",
   "metadata": {},
   "source": [
    "#### The `v_model` trait"
   ]
  },
  {
   "cell_type": "code",
   "execution_count": 13,
   "metadata": {},
   "outputs": [
    {
     "data": {
      "application/vnd.jupyter.widget-view+json": {
       "model_id": "02cbedb9d3b041b8acc7f3e270ce80b4",
       "version_major": 2,
       "version_minor": 0
      },
      "text/plain": [
       "Switch(label='Switch', v_model=False)"
      ]
     },
     "metadata": {},
     "output_type": "display_data"
    },
    {
     "data": {
      "application/vnd.jupyter.widget-view+json": {
       "model_id": "5c38f32176894b049c2038dd55e3a6a9",
       "version_major": 2,
       "version_minor": 0
      },
      "text/plain": [
       "Checkbox(label='Checkbox', v_model=False)"
      ]
     },
     "metadata": {},
     "output_type": "display_data"
    }
   ],
   "source": [
    "switch = v.Switch(label=\"Switch\", v_model=False)\n",
    "checkbox = v.Checkbox(label=\"Checkbox\", v_model=False)\n",
    "link((switch, 'v_model'), (checkbox, 'v_model'))\n",
    "\n",
    "display(switch)\n",
    "display(checkbox)"
   ]
  },
  {
   "cell_type": "markdown",
   "metadata": {},
   "source": [
    "The `value` trait of ipywidgets corresponds to `v_model` in ipyvuetify widgets.\n",
    "So for example, \n",
    "```python \n",
    "v_model=False\n",
    "``` \n",
    "sets a `v.Checkbox` to \"not selected\", \n",
    "```python \n",
    "v_model=True\n",
    "``` \n",
    "to \"selected\".\n",
    "\n",
    "Uncomment the code below to play around with the `v_model` trait:"
   ]
  },
  {
   "cell_type": "code",
   "execution_count": 14,
   "metadata": {},
   "outputs": [],
   "source": [
    "switch.v_model = True"
   ]
  },
  {
   "cell_type": "code",
   "execution_count": 15,
   "metadata": {},
   "outputs": [],
   "source": [
    "checkbox.v_model = False"
   ]
  },
  {
   "cell_type": "markdown",
   "metadata": {},
   "source": [
    "#### (Scoped) slots\n",
    "For (scoped) slots, the argument `v_slots` can be used, see the [scoped slots](https://github.com/mariobuikhuizen/ipyvuetify#scoped-slots) section of the ipyvuetify documentation."
   ]
  },
  {
   "cell_type": "markdown",
   "metadata": {},
   "source": [
    "The CSS attributes class and style need to be suffixed with an underscore: `class_`, `style_`"
   ]
  },
  {
   "cell_type": "code",
   "execution_count": 16,
   "metadata": {},
   "outputs": [],
   "source": [
    "accept_btn = v.Btn(color=\"primary\", children=[\"I accept\"])\n",
    "dialog = v.Dialog(max_width=\"50%\",\n",
    "                  v_model=False, \n",
    "                  v_slots=[{\n",
    "                      'name': 'activator',\n",
    "                      'variable': 'x',\n",
    "                      'children': v.Btn(v_on='x.on',\n",
    "                                        color=\"red lighten-2\",\n",
    "                                        children=['Click to open dialog'])\n",
    "                  }], \n",
    "                  children=[v.Card(children=[\n",
    "                      v.CardTitle(class_='headline gray lighten-2',\n",
    "                                  children=[\"Lorem Ipsum\"]),\n",
    "                      v.CardText(style_='width: \"auto\";', \n",
    "                                 children=[lorem_ipsum]),\n",
    "                      v.Divider(),\n",
    "                      v.CardActions(children=[\n",
    "                          v.Spacer(),\n",
    "                          accept_btn\n",
    "                      ])\n",
    "                  ])])"
   ]
  },
  {
   "cell_type": "markdown",
   "metadata": {},
   "source": [
    "#### *ipyvuetify* widget events\n",
    "Widget events for *ipyvuetify* widgets are handled using the `on_event` method."
   ]
  },
  {
   "cell_type": "code",
   "execution_count": 17,
   "metadata": {},
   "outputs": [],
   "source": [
    "# Dialog can be closed by clicking the accept button\n",
    "def close_dialog(*args):\n",
    "    dialog.v_model = False\n",
    "accept_btn.on_event('click', close_dialog)"
   ]
  },
  {
   "cell_type": "code",
   "execution_count": 18,
   "metadata": {},
   "outputs": [
    {
     "data": {
      "application/vnd.jupyter.widget-view+json": {
       "model_id": "34eeffe0a7104a9aa8bb3a0e84f06820",
       "version_major": 2,
       "version_minor": 0
      },
      "text/plain": [
       "Layout(align_center=True, children=[Flex(children=[Switch(label='Switch', v_model=False), Checkbox(label='Chec…"
      ]
     },
     "metadata": {},
     "output_type": "display_data"
    }
   ],
   "source": [
    "page3 = v.Layout(row=True, wrap=True, align_center=True, children=[\n",
    "    v.Flex(xs12=True, lg6=True, xl4=True, px_4=True, children=[\n",
    "        switch, checkbox, v.Layout(children=[dialog]),\n",
    "    ])\n",
    "])\n",
    "page3"
   ]
  },
  {
   "cell_type": "markdown",
   "metadata": {},
   "source": [
    "## Switch between pages when the corresponding entry in the navigation drawer is clicked"
   ]
  },
  {
   "cell_type": "code",
   "execution_count": 19,
   "metadata": {},
   "outputs": [],
   "source": [
    "# By default, page1 is shown\n",
    "content_main = v.Layout(\n",
    "    _metadata={'mount_id': 'content-main'},\n",
    "    children=[page1]\n",
    ")"
   ]
  },
  {
   "cell_type": "code",
   "execution_count": 19,
   "metadata": {},
   "outputs": [],
   "source": [
    "def switch_to_first(*args):\n",
    "    appbar_title.children = ['Account']\n",
    "    content_main.children = [page1]\n",
    "    \n",
    "def switch_to_second(*args):\n",
    "    appbar_title.children = ['Analytics']\n",
    "    content_main.children = [page2]\n",
    "    \n",
    "def switch_to_third(*args):\n",
    "    appbar_title.children = ['Settings']\n",
    "    content_main.children = [page3]\n",
    "    \n",
    "list_items[0].on_event('click', switch_to_first)\n",
    "list_items[1].on_event('click', switch_to_second)\n",
    "list_items[2].on_event('click', switch_to_third)"
   ]
  },
  {
   "cell_type": "markdown",
   "metadata": {},
   "source": [
    "# Advanced usage - Create a custom template"
   ]
  },
  {
   "cell_type": "markdown",
   "metadata": {},
   "source": [
    "## Setting up your custom template\n",
    "\n",
    "1. Create a directory called `template` to hold your custom template. In that directory, create  \n",
    "   a) the sub-directory `nbconvert_templates` and  \n",
    "   b) a file `conf.json` which specifies from which template you want to inherit.\n",
    "\n",
    "   > *Example*: To inherit from the base vuetify template, we create the file `conf.json` with\n",
    "   > ```json\n",
    "{\"base_template\": \"vuetify-base\"}\n",
    "   ```\n",
    "\n",
    "\n",
    "2. In the sub-directory `nbconvert_templates`, create a file called `app.html`. This is where you can customize your template.  \n",
    "   To get started, you can copy the [base vuetify](https://raw.githubusercontent.com/voila-dashboards/voila-vuetify/master/share/jupyter/voila/templates/vuetify-default/nbconvert_templates/app.html) `app.html` and play around with it.\n"
   ]
  },
  {
   "cell_type": "markdown",
   "metadata": {},
   "source": [
    "## Customizing your template\n",
    "\n",
    "### Layout and Styling\n",
    "In the template, you can change the layout and visual properties of the fixed app components, like the navigation drawer or the app bar.  \n",
    "\n",
    "For example, we can customize the styling of the app bar. For possible properties, see the [app bar props](https://vuetifyjs.com/en/components/app-bars#api) from the vueitfy documentation.  \n",
    "Here, we color the app bar blue and apply the dark theme variant to the component to the the title more legible on the dark background.\n",
    "```html\n",
    "<v-app-bar color=\"primary\" app absolute dark>\n",
    "```\n",
    "\n",
    "### Adding custom components\n",
    "You can add a new app component that can be updated from the notebook by adding a new widget mount point.\n",
    "```html\n",
    "<jupyter-widget-mount-point mount-id=\"mycustomcomponent\">\n",
    "...\n",
    "</jupyter-widget-mount-point>\n",
    "```\n",
    "\n",
    "Remember to add a mount id and set the mount_id metadata in the widget in the notebook so the output gets rendered.\n",
    "```python\n",
    "mycustomcomponent = v.Btn({'mount_id': 'mycustomcomponent'})\n",
    "```\n",
    "    "
   ]
  },
  {
   "cell_type": "markdown",
   "metadata": {},
   "source": [
    "## Starting voila with your custom template"
   ]
  },
  {
   "cell_type": "markdown",
   "metadata": {},
   "source": [
    "```bash\n",
    "voila --template full/path/to/your/template path/to/your/notebook\n",
    "```\n",
    "\n",
    "For example, using Jupyter Server Proxy (see the [vuetify-bqplot.ipynb](./vuetify-bqplot.ipynb#Using-Jupyter-Server-Proxy) notebook):"
   ]
  },
  {
   "cell_type": "code",
   "execution_count": 1,
   "metadata": {},
   "outputs": [
    {
     "name": "stdout",
     "output_type": "stream",
     "text": [
      "voila --template ./mycustomtemplate --server_url=/ --base_url=/user/a.grosch@fz-juelich.de/rhinodiagnost/proxy/8866/ --VoilaConfiguration.file_whitelist=\"['.*']\" ./dashboards/vuetify-custom.ipynb\n",
      "\n"
     ]
    }
   ],
   "source": [
    "import os\n",
    "print(\"\"\"voila --template ./mycustomtemplate \\\n",
    "--server_url=/ --base_url={prefix}proxy/{port}/ --VoilaConfiguration.file_whitelist=\"['.*']\" \\\n",
    "./dashboards/vuetify-custom.ipynb\n",
    "\"\"\".format(prefix=os.environ['JUPYTERHUB_SERVICE_PREFIX'], port=8866))"
   ]
  },
  {
   "cell_type": "markdown",
   "metadata": {},
   "source": [
    "Dashboard now runs on\n",
    "\n",
    "https://jupyter-jsc.fz-juelich.de/user/[your_web_account]/[labserver_name]/proxy/[port]\n",
    "\n",
    "Example:"
   ]
  },
  {
   "cell_type": "code",
   "execution_count": 4,
   "metadata": {},
   "outputs": [
    {
     "name": "stdout",
     "output_type": "stream",
     "text": [
      "\n",
      "https://jupyter-jsc.fz-juelich.de/user/a.grosch@fz-juelich.de/rhinodiagnost/proxy/8866\n",
      "\n"
     ]
    }
   ],
   "source": [
    "print(\"\"\"\n",
    "https://jupyter-jsc.fz-juelich.de{prefix}proxy/{port}\n",
    "\"\"\".format(prefix=os.environ['JUPYTERHUB_SERVICE_PREFIX'], port=8866))"
   ]
  },
  {
   "cell_type": "code",
   "execution_count": null,
   "metadata": {},
   "outputs": [],
   "source": []
  }
 ],
 "metadata": {
  "kernelspec": {
   "display_name": "Python 3",
   "language": "python",
   "name": "python3"
  },
  "language_info": {
   "codemirror_mode": {
    "name": "ipython",
    "version": 3
   },
   "file_extension": ".py",
   "mimetype": "text/x-python",
   "name": "python",
   "nbconvert_exporter": "python",
   "pygments_lexer": "ipython3",
   "version": "3.6.8"
  }
 },
 "nbformat": 4,
 "nbformat_minor": 4
}

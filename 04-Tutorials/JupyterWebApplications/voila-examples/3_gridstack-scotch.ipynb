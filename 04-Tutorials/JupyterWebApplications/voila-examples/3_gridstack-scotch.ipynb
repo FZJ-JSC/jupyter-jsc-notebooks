{
 "cells": [
  {
   "cell_type": "markdown",
   "metadata": {},
   "source": [
    "# Usage\n",
    "Start voila with the gridstack template. If `show_handles` is set to True, you can drag the individual dashboard items around.\n",
    "```\n",
    "voila --template=gridstack --VoilaConfiguration.resources='{\"gridstack\": {\"show_handles\": True}}' ./dashboards/gridstack-scotch.ipynb\n",
    "```"
   ]
  },
  {
   "cell_type": "markdown",
   "metadata": {
    "extensions": {
     "jupyter_dashboards": {
      "version": 1,
      "views": {
       "grid_default": {
        "col": 0,
        "height": 2,
        "hidden": false,
        "row": 0,
        "width": 12
       },
       "report_default": {
        "hidden": false
       }
      }
     }
    }
   },
   "source": [
    "# Got Scotch?"
   ]
  },
  {
   "cell_type": "markdown",
   "metadata": {
    "extensions": {
     "jupyter_dashboards": {
      "version": 1,
      "views": {
       "grid_default": {
        "hidden": true
       },
       "report_default": {
        "hidden": false
       }
      }
     }
    }
   },
   "source": [
    "In this notebook, we're going to create a dashboard that recommends scotches based on their taste profiles. \n",
    "\n"
   ]
  },
  {
   "cell_type": "code",
   "execution_count": 1,
   "metadata": {
    "extensions": {
     "jupyter_dashboards": {
      "version": 1,
      "views": {
       "grid_default": {
        "hidden": true
       },
       "report_default": {
        "hidden": true
       }
      }
     }
    }
   },
   "outputs": [],
   "source": [
    "%matplotlib widget"
   ]
  },
  {
   "cell_type": "code",
   "execution_count": 2,
   "metadata": {
    "extensions": {
     "jupyter_dashboards": {
      "version": 1,
      "views": {
       "grid_default": {
        "hidden": true
       },
       "report_default": {
        "hidden": true
       }
      }
     }
    }
   },
   "outputs": [],
   "source": [
    "import pandas as pd\n",
    "import seaborn as sns\n",
    "import numpy as np\n",
    "import matplotlib.pyplot as plt\n",
    "import os"
   ]
  },
  {
   "cell_type": "code",
   "execution_count": 3,
   "metadata": {
    "extensions": {
     "jupyter_dashboards": {
      "version": 1,
      "views": {
       "grid_default": {
        "hidden": true
       },
       "report_default": {
        "hidden": true
       }
      }
     }
    }
   },
   "outputs": [],
   "source": [
    "import ipywidgets as widgets\n",
    "from traitlets import Unicode, List, Instance, link, HasTraits\n",
    "from IPython.display import display, clear_output, HTML, Javascript"
   ]
  },
  {
   "cell_type": "code",
   "execution_count": 4,
   "metadata": {
    "extensions": {
     "jupyter_dashboards": {
      "version": 1,
      "views": {
       "grid_default": {
        "col": 0,
        "height": 4,
        "hidden": true,
        "row": 14,
        "width": 4
       },
       "report_default": {}
      }
     }
    }
   },
   "outputs": [
    {
     "data": {
      "application/vnd.jupyter.widget-view+json": {
       "model_id": "7c98a57403e24f81b1162defb578f5e7",
       "version_major": 2,
       "version_minor": 0
      },
      "text/plain": [
       "Button(style=ButtonStyle())"
      ]
     },
     "metadata": {},
     "output_type": "display_data"
    }
   ],
   "source": [
    "display(widgets.Button())"
   ]
  },
  {
   "cell_type": "markdown",
   "metadata": {
    "extensions": {
     "jupyter_dashboards": {
      "version": 1,
      "views": {
       "grid_default": {
        "hidden": true
       },
       "report_default": {
        "hidden": false
       }
      }
     }
    }
   },
   "source": [
    "## Load Data <span style=\"float: right; font-size: 0.5em\"><a href=\"#Got-Scotch?\">Top</a></span>"
   ]
  },
  {
   "cell_type": "code",
   "execution_count": 5,
   "metadata": {
    "extensions": {
     "jupyter_dashboards": {
      "version": 1,
      "views": {
       "grid_default": {
        "hidden": true
       },
       "report_default": {}
      }
     }
    }
   },
   "outputs": [],
   "source": [
    "\n",
    "\n",
    "features = [[2, 2, 2, 0, 0, 2, 1, 2, 2, 2, 2, 2],\n",
    " [3, 3, 1, 0, 0, 4, 3, 2, 2, 3, 3, 2],\n",
    " [1, 3, 2, 0, 0, 2, 0, 0, 2, 2, 3, 1],\n",
    " [4, 1, 4, 4, 0, 0, 2, 0, 1, 2, 1, 0],\n",
    " [2, 2, 2, 0, 0, 1, 1, 1, 2, 3, 1, 3],\n",
    " [2, 3, 1, 1, 0, 1, 1, 1, 0, 1, 1, 1],\n",
    " [0, 2, 0, 0, 0, 1, 1, 0, 2, 2, 3, 1],\n",
    " [2, 3, 1, 0, 0, 2, 1, 2, 2, 2, 2, 2],\n",
    " [2, 2, 1, 0, 0, 1, 0, 0, 2, 2, 2, 1],\n",
    " [2, 3, 2, 1, 0, 0, 2, 0, 2, 1, 2, 3],\n",
    " [4, 3, 2, 0, 0, 2, 1, 3, 3, 0, 1, 2],\n",
    " [3, 2, 1, 0, 0, 3, 2, 1, 0, 2, 2, 2],\n",
    " [4, 2, 2, 0, 0, 2, 2, 0, 2, 2, 2, 2],\n",
    " [2, 2, 1, 0, 0, 2, 2, 0, 0, 2, 3, 1],\n",
    " [3, 2, 2, 0, 0, 3, 1, 1, 2, 3, 2, 2],\n",
    " [2, 2, 2, 0, 0, 2, 2, 1, 2, 2, 2, 2],\n",
    " [1, 2, 1, 0, 0, 0, 1, 1, 0, 2, 2, 1],\n",
    " [2, 2, 2, 0, 0, 1, 2, 2, 2, 2, 2, 2],\n",
    " [2, 2, 3, 1, 0, 2, 2, 1, 1, 1, 1, 3],\n",
    " [1, 1, 2, 2, 0, 2, 2, 1, 2, 2, 2, 3],\n",
    " [1, 2, 1, 1, 0, 1, 1, 1, 1, 2, 2, 1],\n",
    " [3, 1, 4, 2, 1, 0, 2, 0, 2, 1, 1, 0],\n",
    " [1, 3, 1, 0, 0, 1, 1, 0, 2, 2, 2, 1],\n",
    " [3, 2, 3, 3, 1, 0, 2, 0, 1, 1, 2, 0],\n",
    " [2, 2, 2, 0, 1, 2, 2, 1, 2, 2, 1, 2],\n",
    " [2, 3, 2, 1, 0, 0, 1, 0, 2, 2, 2, 1],\n",
    " [4, 2, 2, 0, 0, 1, 2, 2, 2, 2, 2, 2],\n",
    " [3, 2, 2, 1, 0, 1, 2, 2, 1, 2, 3, 2],\n",
    " [2, 2, 2, 0, 0, 2, 1, 0, 1, 2, 2, 1],\n",
    " [2, 2, 1, 0, 0, 2, 1, 1, 1, 3, 2, 2],\n",
    " [2, 3, 1, 1, 0, 0, 0, 0, 1, 2, 2, 1],\n",
    " [2, 3, 1, 0, 0, 2, 1, 1, 4, 2, 2, 2],\n",
    " [2, 3, 1, 1, 1, 1, 1, 2, 0, 2, 0, 3],\n",
    " [2, 3, 1, 0, 0, 2, 1, 1, 1, 1, 2, 1],\n",
    " [2, 1, 3, 0, 0, 0, 3, 1, 0, 2, 2, 3],\n",
    " [1, 2, 0, 0, 0, 1, 0, 1, 2, 1, 2, 1],\n",
    " [2, 3, 1, 0, 0, 1, 2, 1, 2, 1, 2, 2],\n",
    " [1, 2, 1, 0, 0, 1, 2, 1, 2, 2, 2, 1],\n",
    " [3, 2, 1, 0, 0, 1, 2, 1, 1, 2, 2, 2],\n",
    " [2, 2, 2, 2, 0, 1, 0, 1, 2, 2, 1, 3],\n",
    " [1, 3, 1, 0, 0, 0, 1, 1, 1, 2, 0, 1],\n",
    " [1, 3, 1, 0, 0, 1, 1, 0, 1, 2, 2, 1],\n",
    " [4, 2, 2, 0, 0, 2, 1, 4, 2, 2, 2, 2],\n",
    " [3, 2, 1, 0, 0, 2, 1, 2, 1, 2, 3, 2],\n",
    " [2, 4, 1, 0, 0, 1, 2, 3, 2, 3, 2, 2],\n",
    " [1, 3, 1, 0, 0, 0, 0, 0, 0, 2, 2, 1],\n",
    " [1, 2, 0, 0, 0, 1, 1, 1, 2, 2, 3, 1],\n",
    " [1, 2, 1, 0, 0, 1, 2, 0, 0, 2, 2, 1],\n",
    " [2, 3, 1, 0, 0, 2, 2, 2, 1, 2, 2, 2],\n",
    " [1, 2, 1, 0, 0, 1, 2, 0, 1, 2, 2, 1],\n",
    " [2, 2, 1, 1, 0, 1, 2, 0, 2, 1, 2, 1],\n",
    " [2, 3, 1, 0, 0, 1, 1, 2, 1, 2, 2, 2],\n",
    " [2, 3, 1, 0, 0, 2, 2, 2, 2, 2, 1, 2],\n",
    " [2, 2, 3, 1, 0, 2, 1, 1, 1, 2, 1, 3],\n",
    " [1, 3, 1, 1, 0, 2, 2, 0, 1, 2, 1, 1],\n",
    " [2, 1, 2, 2, 0, 1, 1, 0, 2, 1, 1, 3],\n",
    " [2, 3, 1, 0, 0, 2, 2, 1, 2, 1, 2, 2],\n",
    " [4, 1, 4, 4, 1, 0, 1, 2, 1, 1, 1, 0],\n",
    " [4, 2, 4, 4, 1, 0, 0, 1, 1, 1, 0, 0],\n",
    " [2, 3, 1, 0, 0, 1, 1, 2, 0, 1, 3, 1],\n",
    " [1, 1, 1, 1, 0, 1, 1, 0, 1, 2, 1, 1],\n",
    " [3, 2, 1, 0, 0, 1, 1, 1, 3, 3, 2, 2],\n",
    " [4, 3, 1, 0, 0, 2, 1, 4, 2, 2, 3, 2],\n",
    " [2, 1, 1, 0, 0, 1, 1, 1, 2, 1, 2, 1],\n",
    " [2, 4, 1, 0, 0, 1, 0, 0, 2, 1, 1, 1],\n",
    " [3, 2, 2, 0, 0, 2, 3, 3, 2, 1, 2, 2],\n",
    " [2, 2, 2, 2, 0, 0, 2, 0, 2, 2, 2, 3],\n",
    " [1, 2, 2, 0, 1, 2, 2, 1, 2, 3, 1, 3],\n",
    " [2, 1, 2, 2, 1, 0, 1, 1, 2, 2, 2, 3],\n",
    " [2, 3, 2, 1, 1, 1, 2, 1, 0, 2, 3, 1],\n",
    " [3, 2, 2, 0, 0, 2, 2, 2, 2, 2, 3, 2],\n",
    " [2, 2, 1, 1, 0, 2, 1, 1, 2, 2, 2, 2],\n",
    " [2, 4, 1, 0, 0, 2, 1, 0, 0, 2, 1, 1],\n",
    " [2, 2, 1, 0, 0, 1, 0, 1, 2, 2, 2, 1],\n",
    " [2, 2, 2, 2, 0, 2, 2, 1, 2, 1, 0, 3],\n",
    " [2, 2, 1, 0, 0, 2, 2, 2, 3, 3, 3, 2],\n",
    " [2, 3, 1, 0, 0, 0, 2, 0, 2, 1, 3, 1],\n",
    " [4, 2, 3, 3, 0, 1, 3, 0, 1, 2, 2, 0],\n",
    " [1, 2, 1, 0, 0, 2, 0, 1, 1, 2, 2, 1],\n",
    " [1, 3, 2, 0, 0, 0, 2, 0, 2, 1, 2, 1],\n",
    " [2, 2, 2, 1, 0, 0, 2, 0, 0, 0, 2, 3],\n",
    " [1, 1, 1, 0, 0, 1, 0, 0, 1, 2, 2, 1],\n",
    " [2, 3, 2, 0, 0, 2, 2, 1, 1, 2, 0, 3],\n",
    " [0, 3, 1, 0, 0, 2, 2, 1, 1, 2, 1, 1],\n",
    " [2, 2, 1, 0, 0, 1, 0, 1, 2, 1, 0, 3],\n",
    " [2, 3, 0, 0, 1, 0, 2, 1, 1, 2, 2, 1]]\n",
    "\n",
    "feature_names = ['Body', 'Sweetness', 'Smoky', \n",
    "                 'Medicinal', 'Tobacco', 'Honey',\n",
    "                 'Spicy', 'Winey', 'Nutty',\n",
    "                 'Malty', 'Fruity', 'cluster']\n",
    "\n",
    "brand_names = ['Aberfeldy',\n",
    " 'Aberlour',\n",
    " 'AnCnoc',\n",
    " 'Ardbeg',\n",
    " 'Ardmore',\n",
    " 'ArranIsleOf',\n",
    " 'Auchentoshan',\n",
    " 'Auchroisk',\n",
    " 'Aultmore',\n",
    " 'Balblair',\n",
    " 'Balmenach',\n",
    " 'Belvenie',\n",
    " 'BenNevis',\n",
    " 'Benriach',\n",
    " 'Benrinnes',\n",
    " 'Benromach',\n",
    " 'Bladnoch',\n",
    " 'BlairAthol',\n",
    " 'Bowmore',\n",
    " 'Bruichladdich',\n",
    " 'Bunnahabhain',\n",
    " 'Caol Ila',\n",
    " 'Cardhu',\n",
    " 'Clynelish',\n",
    " 'Craigallechie',\n",
    " 'Craigganmore',\n",
    " 'Dailuaine',\n",
    " 'Dalmore',\n",
    " 'Dalwhinnie',\n",
    " 'Deanston',\n",
    " 'Dufftown',\n",
    " 'Edradour',\n",
    " 'GlenDeveronMacduff',\n",
    " 'GlenElgin',\n",
    " 'GlenGarioch',\n",
    " 'GlenGrant',\n",
    " 'GlenKeith',\n",
    " 'GlenMoray',\n",
    " 'GlenOrd',\n",
    " 'GlenScotia',\n",
    " 'GlenSpey',\n",
    " 'Glenallachie',\n",
    " 'Glendronach',\n",
    " 'Glendullan',\n",
    " 'Glenfarclas',\n",
    " 'Glenfiddich',\n",
    " 'Glengoyne',\n",
    " 'Glenkinchie',\n",
    " 'Glenlivet',\n",
    " 'Glenlossie',\n",
    " 'Glenmorangie',\n",
    " 'Glenrothes',\n",
    " 'Glenturret',\n",
    " 'Highland Park',\n",
    " 'Inchgower',\n",
    " 'Isle of Jura',\n",
    " 'Knochando',\n",
    " 'Lagavulin',\n",
    " 'Laphroig',\n",
    " 'Linkwood',\n",
    " 'Loch Lomond',\n",
    " 'Longmorn',\n",
    " 'Macallan',\n",
    " 'Mannochmore',\n",
    " 'Miltonduff',\n",
    " 'Mortlach',\n",
    " 'Oban',\n",
    " 'OldFettercairn',\n",
    " 'OldPulteney',\n",
    " 'RoyalBrackla',\n",
    " 'RoyalLochnagar',\n",
    " 'Scapa',\n",
    " 'Speyburn',\n",
    " 'Speyside',\n",
    " 'Springbank',\n",
    " 'Strathisla',\n",
    " 'Strathmill',\n",
    " 'Talisker',\n",
    " 'Tamdhu',\n",
    " 'Tamnavulin',\n",
    " 'Teaninich',\n",
    " 'Tobermory',\n",
    " 'Tomatin',\n",
    " 'Tomintoul',\n",
    " 'Tormore',\n",
    " 'Tullibardine']"
   ]
  },
  {
   "cell_type": "code",
   "execution_count": 6,
   "metadata": {
    "extensions": {
     "jupyter_dashboards": {
      "version": 1,
      "views": {
       "grid_default": {
        "hidden": true
       },
       "report_default": {}
      }
     }
    }
   },
   "outputs": [],
   "source": [
    "features_df = pd.DataFrame(features, columns=feature_names, index=brand_names)\n",
    "features_df = features_df.drop('cluster', axis=1)"
   ]
  },
  {
   "cell_type": "code",
   "execution_count": 7,
   "metadata": {
    "extensions": {
     "jupyter_dashboards": {
      "version": 1,
      "views": {
       "grid_default": {
        "hidden": true
       },
       "report_default": {}
      }
     }
    }
   },
   "outputs": [],
   "source": [
    "norm = (features_df ** 2).sum(axis=1).apply('sqrt')\n",
    "normed_df = features_df.divide(norm, axis=0)\n",
    "sim_df = normed_df.dot(normed_df.T)"
   ]
  },
  {
   "cell_type": "code",
   "execution_count": 8,
   "metadata": {
    "extensions": {
     "jupyter_dashboards": {
      "version": 1,
      "views": {
       "grid_default": {
        "hidden": true
       },
       "report_default": {
        "hidden": false
       }
      }
     }
    }
   },
   "outputs": [],
   "source": [
    "def radar(df, ax=None):\n",
    "    # calculate evenly-spaced axis angles\n",
    "    num_vars = len(df.columns)\n",
    "    theta = 2*np.pi * np.linspace(0, 1-1./num_vars, num_vars)\n",
    "    # rotate theta such that the first axis is at the top\n",
    "    theta += np.pi/2\n",
    "    if not ax:\n",
    "        fig = plt.figure(figsize=(4, 4))\n",
    "\n",
    "        ax = fig.add_subplot(1,1,1, projection='polar')\n",
    "    else:\n",
    "        ax.clear()\n",
    "    for d, color in zip(df.itertuples(), sns.color_palette()):\n",
    "        ax.plot(theta, d[1:], color=color, alpha=0.7)\n",
    "        ax.fill(theta, d[1:], facecolor=color, alpha=0.5)\n",
    "    ax.set_xticklabels(df.columns)\n",
    "\n",
    "    legend = ax.legend(df.index, loc=(0.9, .95))\n",
    "    return ax"
   ]
  },
  {
   "cell_type": "code",
   "execution_count": null,
   "metadata": {
    "collapsed": true,
    "extensions": {
     "jupyter_dashboards": {
      "version": 1,
      "views": {
       "grid_default": {
        "hidden": true
       },
       "report_default": {}
      }
     }
    },
    "jupyter": {
     "outputs_hidden": true
    }
   },
   "outputs": [],
   "source": []
  },
  {
   "cell_type": "code",
   "execution_count": 9,
   "metadata": {
    "extensions": {
     "jupyter_dashboards": {
      "version": 1,
      "views": {
       "grid_default": {
        "hidden": true
       },
       "report_default": {
        "hidden": false
       }
      }
     }
    }
   },
   "outputs": [],
   "source": [
    "class RadarWidget(HasTraits):\n",
    "\n",
    "    factors_keys = List(['Aberfeldy'])\n",
    "    \n",
    "    def __init__(self, df, **kwargs):\n",
    "        self.df = df\n",
    "        super(RadarWidget, self).__init__(**kwargs)\n",
    "        self.ax = None\n",
    "        self.factors_keys_changed()\n",
    "         \n",
    "    \n",
    "    def factors_keys_changed(self):\n",
    "        new_value = self.factors_keys\n",
    "        if self.ax:\n",
    "            self.ax.clear()\n",
    "        self.ax = radar(self.df.loc[new_value], self.ax)"
   ]
  },
  {
   "cell_type": "markdown",
   "metadata": {
    "extensions": {
     "jupyter_dashboards": {
      "version": 1,
      "views": {
       "grid_default": {
        "hidden": true
       },
       "report_default": {
        "hidden": false
       }
      }
     }
    }
   },
   "source": [
    "We now define a *get_similar( )* function to return the data of the top n similar scotches to a given scotch."
   ]
  },
  {
   "cell_type": "code",
   "execution_count": 10,
   "metadata": {
    "extensions": {
     "jupyter_dashboards": {
      "version": 1,
      "views": {
       "grid_default": {
        "hidden": true
       },
       "report_default": {
        "hidden": false
       }
      }
     }
    }
   },
   "outputs": [],
   "source": [
    "def get_similar(name, n, top=True):\n",
    "    a = sim_df[name].sort_values(ascending=False)\n",
    "    a.name = 'Similarity'\n",
    "    df = pd.DataFrame(a) #.join(features_df).iloc[start:end]\n",
    "    return df.head(n) if top else df.tail(n)"
   ]
  },
  {
   "cell_type": "markdown",
   "metadata": {
    "extensions": {
     "jupyter_dashboards": {
      "version": 1,
      "views": {
       "grid_default": {
        "hidden": true
       },
       "report_default": {
        "hidden": false
       }
      }
     }
    }
   },
   "source": [
    "We also need a function *on_pick_scotch* that will display a table of the top 5 similar scotches that Radar View watches, based on a given selected Scotch."
   ]
  },
  {
   "cell_type": "code",
   "execution_count": 11,
   "metadata": {
    "extensions": {
     "jupyter_dashboards": {
      "version": 1,
      "views": {
       "grid_default": {
        "hidden": true
       },
       "report_default": {
        "hidden": false
       }
      }
     }
    }
   },
   "outputs": [],
   "source": [
    "def on_pick_scotch(Scotch):\n",
    "    name = Scotch\n",
    "    # Get top 6 similar whiskeys, and remove this one\n",
    "    top_df = get_similar(name, 6).iloc[1:]\n",
    "    # Get bottom 5 similar whiskeys\n",
    "    df = top_df\n",
    "    \n",
    "    # Make table index a set of links that the radar widget will watch\n",
    "    df.index = ['''<a class=\"scotch\" href=\"#\" data-factors_keys='[\"{}\",\"{}\"]'>{}</a>'''.format(name, i, i) for i in df.index]\n",
    "    \n",
    "    tmpl = f'''<p>If you like {name} you might want to try these five brands. Click one to see how its taste profile compares.</p>'''\n",
    "    prompt_w.value = tmpl\n",
    "    table.value = df.to_html(escape=False)\n",
    "    radar_w.factors_keys = [name]\n",
    "    plot = radar_w.factors_keys_changed()"
   ]
  },
  {
   "cell_type": "code",
   "execution_count": 12,
   "metadata": {
    "extensions": {
     "jupyter_dashboards": {
      "version": 1,
      "views": {
       "grid_default": {
        "col": 0,
        "height": 2,
        "hidden": false,
        "row": 2,
        "width": 12
       },
       "report_default": {
        "hidden": false
       }
      }
     }
    }
   },
   "outputs": [
    {
     "data": {
      "application/vnd.jupyter.widget-view+json": {
       "model_id": "d88cc57f5ce444bfb58a080cc9c12aa4",
       "version_major": 2,
       "version_minor": 0
      },
      "text/plain": [
       "HTML(value='Aberfeldy')"
      ]
     },
     "metadata": {},
     "output_type": "display_data"
    }
   ],
   "source": [
    "prompt_w = widgets.HTML(value='Aberfeldy')\n",
    "display(prompt_w)"
   ]
  },
  {
   "cell_type": "code",
   "execution_count": 13,
   "metadata": {
    "extensions": {
     "jupyter_dashboards": {
      "version": 1,
      "views": {
       "grid_default": {
        "col": 0,
        "height": 6,
        "hidden": false,
        "row": 6,
        "width": 7
       },
       "report_default": {}
      }
     }
    }
   },
   "outputs": [
    {
     "data": {
      "application/vnd.jupyter.widget-view+json": {
       "model_id": "ffa6b42a2fec42a0aed90f95f4a7cc32",
       "version_major": 2,
       "version_minor": 0
      },
      "text/plain": [
       "HTML(value='Hello <b>World</b>')"
      ]
     },
     "metadata": {},
     "output_type": "display_data"
    }
   ],
   "source": [
    "table = widgets.HTML(\n",
    "    value=\"Hello <b>World</b>\"\n",
    ")\n",
    "display(table)"
   ]
  },
  {
   "cell_type": "code",
   "execution_count": 14,
   "metadata": {
    "extensions": {
     "jupyter_dashboards": {
      "version": 1,
      "views": {
       "grid_default": {
        "col": 7,
        "height": 8,
        "hidden": false,
        "row": 4,
        "width": 5
       },
       "report_default": {
        "hidden": false
       }
      }
     }
    }
   },
   "outputs": [
    {
     "data": {
      "application/vnd.jupyter.widget-view+json": {
       "model_id": "93c9dc73eec6494db4a09769a5bf56e7",
       "version_major": 2,
       "version_minor": 0
      },
      "text/plain": [
       "Canvas(toolbar=Toolbar(toolitems=[('Home', 'Reset original view', 'home', 'home'), ('Back', 'Back to previous …"
      ]
     },
     "metadata": {},
     "output_type": "display_data"
    }
   ],
   "source": [
    "radar_w = RadarWidget(df=features_df)"
   ]
  },
  {
   "cell_type": "code",
   "execution_count": 15,
   "metadata": {
    "extensions": {
     "jupyter_dashboards": {
      "version": 1,
      "views": {
       "grid_default": {
        "col": 0,
        "height": 2,
        "hidden": false,
        "row": 4,
        "width": 7
       },
       "report_default": {
        "hidden": false
       }
      }
     }
    }
   },
   "outputs": [
    {
     "data": {
      "application/vnd.jupyter.widget-view+json": {
       "model_id": "0db0914efd8844ffbdeaea2f2f386776",
       "version_major": 2,
       "version_minor": 0
      },
      "text/plain": [
       "interactive(children=(Dropdown(description='Scotch', options=('Aberfeldy', 'Aberlour', 'AnCnoc', 'Ardbeg', 'Ar…"
      ]
     },
     "metadata": {},
     "output_type": "display_data"
    }
   ],
   "source": [
    "picker_w = widgets.interact(on_pick_scotch, Scotch=list(sim_df.index))"
   ]
  },
  {
   "cell_type": "code",
   "execution_count": 16,
   "metadata": {
    "extensions": {
     "jupyter_dashboards": {
      "version": 1,
      "views": {
       "grid_default": {
        "col": 8,
        "height": 4,
        "hidden": true,
        "row": 14,
        "width": 4
       },
       "report_default": {}
      }
     }
    }
   },
   "outputs": [
    {
     "data": {
      "text/plain": [
       "['Aberfeldy']"
      ]
     },
     "execution_count": 16,
     "metadata": {},
     "output_type": "execute_result"
    }
   ],
   "source": [
    "radar_w.factors_keys"
   ]
  },
  {
   "cell_type": "markdown",
   "metadata": {
    "extensions": {
     "jupyter_dashboards": {
      "version": 1,
      "views": {
       "grid_default": {
        "col": 0,
        "height": 2,
        "hidden": false,
        "row": 12,
        "width": 12
       },
       "report_default": {
        "hidden": false
       }
      }
     }
    }
   },
   "source": [
    "Powered by data from https://www.mathstat.strath.ac.uk/outreach/nessie/nessie_whisky.html and inspired by analysis from http://blog.revolutionanalytics.com/2013/12/k-means-clustering-86-single-malt-scotch-whiskies.html. This dashboard originated as a Jupyter Notebook."
   ]
  }
 ],
 "metadata": {
  "anaconda-cloud": {},
  "celltoolbar": "Edit Metadata",
  "extensions": {
   "jupyter_dashboards": {
    "activeView": "grid_default",
    "version": 1,
    "views": {
     "grid_default": {
      "cellMargin": 10,
      "defaultCellHeight": 50,
      "maxColumns": 12,
      "name": "grid",
      "type": "grid"
     },
     "report_default": {
      "name": "report",
      "type": "report"
     }
    }
   }
  },
  "kernelspec": {
   "display_name": "Python 3",
   "language": "python",
   "name": "python3"
  },
  "language_info": {
   "codemirror_mode": {
    "name": "ipython",
    "version": 3
   },
   "file_extension": ".py",
   "mimetype": "text/x-python",
   "name": "python",
   "nbconvert_exporter": "python",
   "pygments_lexer": "ipython3",
   "version": "3.6.8"
  }
 },
 "nbformat": 4,
 "nbformat_minor": 4
}

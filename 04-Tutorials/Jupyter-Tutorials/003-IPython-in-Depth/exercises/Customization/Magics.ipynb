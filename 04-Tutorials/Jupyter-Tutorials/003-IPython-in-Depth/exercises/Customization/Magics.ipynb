{
 "cells": [
  {
   "cell_type": "markdown",
   "metadata": {},
   "source": [
    "# Customizing IPython - Magics"
   ]
  },
  {
   "cell_type": "markdown",
   "metadata": {},
   "source": [
    "IPython extends Python by adding shell-like commands called **magics**."
   ]
  },
  {
   "cell_type": "code",
   "execution_count": null,
   "metadata": {
    "jupyter": {
     "outputs_hidden": false
    }
   },
   "outputs": [],
   "source": [
    "%lsmagic"
   ]
  },
  {
   "cell_type": "code",
   "execution_count": null,
   "metadata": {
    "jupyter": {
     "outputs_hidden": false
    }
   },
   "outputs": [],
   "source": [
    "import numpy"
   ]
  },
  {
   "cell_type": "code",
   "execution_count": null,
   "metadata": {
    "jupyter": {
     "outputs_hidden": false
    }
   },
   "outputs": [],
   "source": [
    "%timeit A=numpy.random.random((1000,1000))"
   ]
  },
  {
   "cell_type": "code",
   "execution_count": null,
   "metadata": {
    "jupyter": {
     "outputs_hidden": false
    }
   },
   "outputs": [],
   "source": [
    "%%timeit -n 1\n",
    "\n",
    "A=numpy.random.random((1000,1000))\n",
    "b = A.sum()\n"
   ]
  },
  {
   "cell_type": "markdown",
   "metadata": {},
   "source": [
    "## Defining your own magic"
   ]
  },
  {
   "cell_type": "markdown",
   "metadata": {},
   "source": [
    "As we have seen already, IPython has cell and line magics. You can define your own magics using any Python function and the `register_magic_function` method:"
   ]
  },
  {
   "cell_type": "code",
   "execution_count": null,
   "metadata": {
    "jupyter": {
     "outputs_hidden": false
    }
   },
   "outputs": [],
   "source": [
    "ip = get_ipython()"
   ]
  },
  {
   "cell_type": "code",
   "execution_count": null,
   "metadata": {
    "jupyter": {
     "outputs_hidden": false
    }
   },
   "outputs": [],
   "source": [
    "import time\n",
    "\n",
    "def sleep_magic(line):\n",
    "    \"\"\"A simple function for sleeping\"\"\"\n",
    "    t = float(line)\n",
    "    time.sleep(t)"
   ]
  },
  {
   "cell_type": "code",
   "execution_count": null,
   "metadata": {
    "jupyter": {
     "outputs_hidden": false
    }
   },
   "outputs": [],
   "source": [
    "ip.register_magic_function?"
   ]
  },
  {
   "cell_type": "code",
   "execution_count": null,
   "metadata": {
    "jupyter": {
     "outputs_hidden": false
    }
   },
   "outputs": [],
   "source": [
    "ip.register_magic_function(sleep_magic, \"line\", \"sleep\")"
   ]
  },
  {
   "cell_type": "code",
   "execution_count": null,
   "metadata": {
    "jupyter": {
     "outputs_hidden": false
    }
   },
   "outputs": [],
   "source": [
    "%sleep 2"
   ]
  },
  {
   "cell_type": "code",
   "execution_count": null,
   "metadata": {
    "jupyter": {
     "outputs_hidden": false
    }
   },
   "outputs": [],
   "source": [
    "%sleep?"
   ]
  },
  {
   "cell_type": "markdown",
   "metadata": {},
   "source": [
    "### Exercise"
   ]
  },
  {
   "cell_type": "markdown",
   "metadata": {},
   "source": [
    "Define `%tic` and `%toc` magics, which can be use for simple timings, e.g. where\n",
    "\n",
    "```python\n",
    "for p in range(1,4):\n",
    "    N = 10**p\n",
    "    print \"N=%i\" % N\n",
    "    %tic\n",
    "    A = np.random.random((N,N))\n",
    "    np.linalg.eigvals(A)\n",
    "    %toc\n",
    "```\n",
    "\n",
    "each `%toc` will print the time since the last `%tic`. Create separate `tic` and `toc` functions that read and write\n",
    "a global time variable."
   ]
  },
  {
   "cell_type": "code",
   "execution_count": null,
   "metadata": {
    "jupyter": {
     "outputs_hidden": false
    }
   },
   "outputs": [],
   "source": [
    "# %load soln/tictocf.py\n",
    "import time\n",
    "\n",
    "def format_time(dt):\n",
    "    if dt < 1e-6:\n",
    "        return u\"%.3g ns\" % (dt * 1e9)\n",
    "    elif dt < 1e-3:\n",
    "        return u\"%.3g µs\" % (dt * 1e6)\n",
    "    elif dt < 1:\n",
    "        return u\"%.3g ms\" % (dt * 1e3)\n",
    "    else:\n",
    "        return \"%.3g s\" % dt\n",
    "\n",
    "def tic(line):\n",
    "    global t0\n",
    "    t0 = time.time()\n",
    "\n",
    "def toc(line):\n",
    "    global t0\n",
    "    print (format_time(time.time() - t0))\n",
    "\n",
    "ip = get_ipython()\n",
    "ip.register_magic_function(tic)\n",
    "ip.register_magic_function(toc)\n"
   ]
  },
  {
   "cell_type": "code",
   "execution_count": null,
   "metadata": {
    "jupyter": {
     "outputs_hidden": false
    }
   },
   "outputs": [],
   "source": [
    "import numpy as np\n",
    "import sys\n",
    "for p in range(1,4):\n",
    "    N = 10**p\n",
    "    print(\"N=%i\" % N)\n",
    "    sys.stdout.flush()\n",
    "    %tic\n",
    "    A = np.random.random((N,N))\n",
    "    np.linalg.eigvals(A)\n",
    "    %toc"
   ]
  },
  {
   "cell_type": "markdown",
   "metadata": {},
   "source": [
    "### Cell Magic"
   ]
  },
  {
   "cell_type": "markdown",
   "metadata": {},
   "source": [
    "**Cell magics** take two args:\n",
    "\n",
    "1. the **line** on the same line of the magic \n",
    "2. the **cell** the multiline body of the cell after the first line"
   ]
  },
  {
   "cell_type": "code",
   "execution_count": null,
   "metadata": {
    "jupyter": {
     "outputs_hidden": false
    }
   },
   "outputs": [],
   "source": [
    "def dummy_cell_magic(line, cell):\n",
    "    \"\"\"dummy cell magic for displaying the line and cell it is passed\"\"\"\n",
    "    print(\"line: %r\" % line)\n",
    "    print(\"cell: %r\" % cell)\n",
    "\n",
    "ip.register_magic_function(dummy_cell_magic, \"cell\", \"dummy\")"
   ]
  },
  {
   "cell_type": "code",
   "execution_count": null,
   "metadata": {
    "jupyter": {
     "outputs_hidden": false
    }
   },
   "outputs": [],
   "source": [
    "%%dummy this is the line\n",
    "this\n",
    "is the\n",
    "cell"
   ]
  },
  {
   "cell_type": "code",
   "execution_count": null,
   "metadata": {
    "jupyter": {
     "outputs_hidden": false
    }
   },
   "outputs": [],
   "source": [
    "def parse_magic_line(line):\n",
    "    \"\"\"parse a magic line into a name and eval'd expression\"\"\"\n",
    "    name, values_s = line.split(None, 1)\n",
    "    values = eval(values_s, get_ipython().user_ns)\n",
    "    return name, values\n",
    "\n",
    "parse_magic_line(\"x range(5)\")"
   ]
  },
  {
   "cell_type": "markdown",
   "metadata": {},
   "source": [
    "#### Excercise"
   ]
  },
  {
   "cell_type": "markdown",
   "metadata": {},
   "source": [
    "Can you write and register a **cell magic** that automates the outer iteration,\n",
    "timing a block for various values of a particular variable:"
   ]
  },
  {
   "cell_type": "code",
   "execution_count": null,
   "metadata": {
    "jupyter": {
     "outputs_hidden": false
    }
   },
   "outputs": [],
   "source": [
    "# %load soln/scalemagic.py\n",
    "def scale_magic(line, cell):\n",
    "    \"\"\"run a cell block with a variety of input values\"\"\"\n",
    "    name, values = parse_magic_line(line)\n",
    "    ns = get_ipython().user_ns\n",
    "    for v in values:\n",
    "        assignment = \"%s=%r\" % (name, v)\n",
    "        print(assignment)\n",
    "        ns[name] = v\n",
    "        sys.stdout.flush()\n",
    "        %tic\n",
    "        exec(cell, ns)\n",
    "        %toc\n",
    "\n",
    "ip = get_ipython()\n",
    "ip.register_magic_function(scale_magic, \"cell\", \"scale\")\n"
   ]
  },
  {
   "cell_type": "code",
   "execution_count": null,
   "metadata": {
    "jupyter": {
     "outputs_hidden": false
    }
   },
   "outputs": [],
   "source": [
    "%%scale N [ int(10**p) for p in range(1,4) ]\n",
    "\n",
    "A = np.random.random((N,N))\n",
    "np.linalg.eigvals(A)\n"
   ]
  },
  {
   "cell_type": "code",
   "execution_count": null,
   "metadata": {
    "jupyter": {
     "outputs_hidden": false
    }
   },
   "outputs": [],
   "source": [
    "%%scale N [ int(2**p) for p in np.linspace(6, 11, 11) ]\n",
    "\n",
    "A = np.random.random((N,N))\n",
    "np.linalg.eigvals(A)\n"
   ]
  },
  {
   "cell_type": "markdown",
   "metadata": {},
   "source": [
    "## Executing Notebooks"
   ]
  },
  {
   "cell_type": "markdown",
   "metadata": {},
   "source": [
    "We can load a notebook into memory using `IPython.nbformat`."
   ]
  },
  {
   "cell_type": "code",
   "execution_count": null,
   "metadata": {
    "jupyter": {
     "outputs_hidden": false
    }
   },
   "outputs": [],
   "source": [
    "import io\n",
    "import os\n",
    "\n",
    "import nbformat as nbf"
   ]
  },
  {
   "cell_type": "code",
   "execution_count": null,
   "metadata": {
    "jupyter": {
     "outputs_hidden": false
    }
   },
   "outputs": [],
   "source": [
    "def load_notebook(filename):\n",
    "    \"\"\"load a notebook object from a filename\"\"\"\n",
    "    if not os.path.exists(filename) and not filename.endswith(\".ipynb\"):\n",
    "        filename = filename + \".ipynb\"\n",
    "    with io.open(filename) as f:\n",
    "        return nbf.read(f, as_version=4)\n"
   ]
  },
  {
   "cell_type": "code",
   "execution_count": null,
   "metadata": {
    "jupyter": {
     "outputs_hidden": false
    }
   },
   "outputs": [],
   "source": [
    "nb = load_notebook(\"_Sample\")"
   ]
  },
  {
   "cell_type": "markdown",
   "metadata": {},
   "source": [
    "**A notebook is just a dictionary** with attribute access for convenience."
   ]
  },
  {
   "cell_type": "code",
   "execution_count": null,
   "metadata": {
    "jupyter": {
     "outputs_hidden": false
    }
   },
   "outputs": [],
   "source": [
    "nb.keys()"
   ]
  },
  {
   "cell_type": "code",
   "execution_count": null,
   "metadata": {
    "jupyter": {
     "outputs_hidden": false
    }
   },
   "outputs": [],
   "source": [
    "cells = nb.cells\n",
    "cells"
   ]
  },
  {
   "cell_type": "markdown",
   "metadata": {},
   "source": [
    "We can see all the cells and their type"
   ]
  },
  {
   "cell_type": "code",
   "execution_count": null,
   "metadata": {
    "jupyter": {
     "outputs_hidden": false
    }
   },
   "outputs": [],
   "source": [
    "for cell in cells:\n",
    "    print()\n",
    "    print('----- %s -----' % cell.cell_type)\n",
    "    print(cell.source)"
   ]
  },
  {
   "cell_type": "markdown",
   "metadata": {},
   "source": [
    "Now I can run all of the **code cells** with `get_ipython().run_cell`"
   ]
  },
  {
   "cell_type": "code",
   "execution_count": null,
   "metadata": {
    "jupyter": {
     "outputs_hidden": false
    }
   },
   "outputs": [],
   "source": [
    "for cell in cells:\n",
    "    ip = get_ipython()\n",
    "    if cell.cell_type == 'code':\n",
    "        ip.run_cell(cell.source, silent=True)"
   ]
  },
  {
   "cell_type": "markdown",
   "metadata": {},
   "source": [
    "And we can now use the function that was defined in that notebook:"
   ]
  },
  {
   "cell_type": "code",
   "execution_count": null,
   "metadata": {
    "jupyter": {
     "outputs_hidden": false
    }
   },
   "outputs": [],
   "source": [
    "nb_info(nb)"
   ]
  },
  {
   "cell_type": "markdown",
   "metadata": {},
   "source": [
    "### Exercise"
   ]
  },
  {
   "cell_type": "markdown",
   "metadata": {},
   "source": [
    "Can you write and register an `%nbrun` line magic to run a notebook?\n",
    "\n",
    "```python\n",
    "%nbrun Sample\n",
    "```"
   ]
  },
  {
   "cell_type": "code",
   "execution_count": null,
   "metadata": {
    "jupyter": {
     "outputs_hidden": false
    }
   },
   "outputs": [],
   "source": [
    "# %load soln/nbrun.py\n",
    "def nbrun(line):\n",
    "    \"\"\"given a filename, execute the notebook in IPython\"\"\"\n",
    "    nb = load_notebook(line)\n",
    "    ip = get_ipython()\n",
    "    for cell in nb.cells:\n",
    "        if cell.cell_type == 'code':\n",
    "            ip.run_cell(cell.source, silent=True)\n",
    "    \n",
    "get_ipython().register_magic_function(nbrun)\n"
   ]
  },
  {
   "cell_type": "code",
   "execution_count": null,
   "metadata": {
    "jupyter": {
     "outputs_hidden": false
    }
   },
   "outputs": [],
   "source": [
    "%nbrun _Sample"
   ]
  },
  {
   "cell_type": "markdown",
   "metadata": {},
   "source": [
    "The common way to make your magics reusable is to [write an Extension](Customizing%20IPython%20-%20Extensions.ipynb), so let's give that a try."
   ]
  },
  {
   "cell_type": "code",
   "execution_count": null,
   "metadata": {},
   "outputs": [],
   "source": []
  }
 ],
 "metadata": {
  "kernelspec": {
   "display_name": "Python 3",
   "language": "python",
   "name": "python3"
  },
  "language_info": {
   "codemirror_mode": {
    "name": "ipython",
    "version": 3
   },
   "file_extension": ".py",
   "mimetype": "text/x-python",
   "name": "python",
   "nbconvert_exporter": "python",
   "pygments_lexer": "ipython3",
   "version": "3.6.8"
  }
 },
 "nbformat": 4,
 "nbformat_minor": 4
}

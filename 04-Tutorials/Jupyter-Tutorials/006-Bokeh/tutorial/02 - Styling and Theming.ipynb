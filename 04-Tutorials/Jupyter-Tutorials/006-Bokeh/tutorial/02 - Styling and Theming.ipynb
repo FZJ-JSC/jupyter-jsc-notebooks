{
 "cells": [
  {
   "cell_type": "markdown",
   "metadata": {},
   "source": [
    "<table style=\"float:left; border:none\">\n",
    "   <tr style=\"border:none; background-color: #ffffff\">\n",
    "       <td style=\"border:none\">\n",
    "           <a href=\"http://bokeh.pydata.org/\">     \n",
    "           <img \n",
    "               src=\"assets/bokeh-transparent.png\" \n",
    "               style=\"width:50px\"\n",
    "           >\n",
    "           </a>    \n",
    "       </td>\n",
    "       <td style=\"border:none\">\n",
    "           <h1>Bokeh Tutorial</h1>\n",
    "       </td>\n",
    "   </tr>\n",
    "</table>\n",
    "\n",
    "<div style=\"float:right;\"><h2>02. Styling and Theming</h2></div>"
   ]
  },
  {
   "cell_type": "code",
   "execution_count": null,
   "metadata": {},
   "outputs": [],
   "source": [
    "from bokeh.io import output_notebook, show\n",
    "from bokeh.plotting import figure"
   ]
  },
  {
   "cell_type": "code",
   "execution_count": null,
   "metadata": {},
   "outputs": [],
   "source": [
    "output_notebook()"
   ]
  },
  {
   "cell_type": "markdown",
   "metadata": {},
   "source": [
    "# Colors and Properties"
   ]
  },
  {
   "cell_type": "markdown",
   "metadata": {},
   "source": [
    "## Colors\n",
    "\n",
    "There are many places where you may need to specify colors. Bokeh can accept colors in a variety of different ways:\n",
    "\n",
    "* any of the [147 named CSS colors](http://www.w3schools.com/cssref/css_colornames.asp), e.g ``'green'``, ``'indigo'``\n",
    "* an RGB(A) hex value, e.g., ``'#FF0000'``, ``'#44444444'``\n",
    "* a 3-tuple of integers *(r,g,b)* between 0 and 255\n",
    "*  a 4-tuple of *(r,g,b,a)* where *r*, *g*, *b* are integers between 0 and 255 and *a* is a floating point value between 0 and 1\n",
    "\n"
   ]
  },
  {
   "cell_type": "markdown",
   "metadata": {},
   "source": [
    "## Properties\n",
    "\n",
    "Regardless of what API (``models``, ``plotting``, or ``charts``) is used to create a Bokeh plot, styling the visual aspects of the plot can always be accomplished by setting attributes on the Bokeh model objects that comprise the resulting plot. Visual properties come in three kinds: line, fill, and text properties. For full information with code and examples see the [Styling Visual Properties](http://bokeh.pydata.org/en/latest/docs/user_guide/styling.html) section of the user guide. \n",
    "\n",
    "----\n",
    "\n",
    "### Line Properties\n",
    "\n",
    "Set the visual appearance of lines. The most common are ``line_color``, ``line_alpha``, ``line_width`` and ``line_dash``.\n",
    "\n",
    "### Fill Properties\n",
    "\n",
    "Set the visual appearance of filled areas: ``fill_color`` and ``fill_alpha``.\n",
    "\n",
    "### Text Properties\n",
    "\n",
    "Set the visual appearance of lines of text. The most common are ``text_font``, ``text_font_size``, ``text_color``, and ``text_alpha``.\n",
    "\n",
    "----\n",
    "\n",
    "Sometimes a prefix is used with property names, e.g. to distinguish between different line properties on the same object, or to give a more meaningful name. For example, to set the line width of the plot outline, you would say ``myplot.outline_line_width = 2``. "
   ]
  },
  {
   "cell_type": "markdown",
   "metadata": {},
   "source": [
    "# Plots\n",
    "\n",
    "Many top-level attributes of plots (outline, border, etc.) can be configured. See the [Plots](http://bokeh.pydata.org/en/latest/docs/user_guide/styling.html#plots) section of the styling guide for full information. \n",
    "\n",
    "Here is an example that tweaks the plot outline:"
   ]
  },
  {
   "cell_type": "code",
   "execution_count": null,
   "metadata": {},
   "outputs": [],
   "source": [
    "# create a new plot with a title\n",
    "p = figure(plot_width=400, plot_height=400)\n",
    "p.outline_line_width = 7\n",
    "p.outline_line_alpha = 0.3\n",
    "p.outline_line_color = \"navy\"\n",
    "\n",
    "p.circle([1,2,3,4,5], [2,5,8,2,7], size=10)\n",
    "\n",
    "show(p)"
   ]
  },
  {
   "cell_type": "code",
   "execution_count": null,
   "metadata": {},
   "outputs": [],
   "source": [
    "# EXERCISE Create a plot of your own and customize several plot-level properties\n"
   ]
  },
  {
   "cell_type": "markdown",
   "metadata": {},
   "source": [
    "# Glyphs\n",
    "\n",
    "It's also possible to style the visual properties of glyphs. When using `bokeh.plotting` this is often done when calling the glyph methods:\n",
    "```python\n",
    "p.circle(line_color=\"red\", fill_alpha=0.2, ...)\n",
    "```\n",
    "But it is also possible to set these properties directly on glyph objects. Glyph objects are found on `GlyphRenderer` objects, which are returned by the `Plot.add_glyph` and `bokeh.plotting` glyph methods like `circle`, `rect`, etc. Let's look at an example:"
   ]
  },
  {
   "cell_type": "code",
   "execution_count": null,
   "metadata": {},
   "outputs": [],
   "source": [
    "p = figure(plot_width=400, plot_height=400)\n",
    "\n",
    "# keep a reference to the returned GlyphRenderer\n",
    "r = p.circle([1,2,3,4,5], [2,5,8,2,7])\n",
    "\n",
    "r.glyph.size = 50\n",
    "r.glyph.fill_alpha = 0.2\n",
    "r.glyph.line_color = \"firebrick\"\n",
    "r.glyph.line_dash = [5, 1]\n",
    "r.glyph.line_width = 2\n",
    "\n",
    "show(p)"
   ]
  },
  {
   "cell_type": "markdown",
   "metadata": {},
   "source": [
    "### Selection and non-selection visuals\n",
    "\n",
    "You can also control how glyphs look when there are selections involved. The set of \"selected\" points is displayed according to the optional `.selection_glyph` property of a `GlyphRenderer`:\n",
    "```python\n",
    "r.selection_glyph = Circle(fill_alpha=1, fill_color=\"firebrick\", line_color=None) \n",
    "```\n",
    "When there is a non-empty selection, the set of \"unselected: points is displayed according to the optional  `.nonselection_glyph` property of a `GlyphRenderer`:\n",
    "```python\n",
    "r.nonselection_glyph = Circle(fill_alpha=0.2, fill_color=\"grey\", line_color=None) \n",
    "```\n",
    "\n",
    "When using the `bokeh.plotting` interface, it is easier to pass these visual properties to the glyph methods as shown below. The glyph method will create the selection or nonselection glyphs and attach them to the renderer for you. "
   ]
  },
  {
   "cell_type": "code",
   "execution_count": null,
   "metadata": {},
   "outputs": [],
   "source": [
    "p = figure(plot_width=400, plot_height=400, tools=\"tap\", title=\"Select a circle\")\n",
    "renderer = p.circle([1, 2, 3, 4, 5], [2, 5, 8, 2, 7], size=50,\n",
    "\n",
    "                    # set visual properties for selected glyphs\n",
    "                    selection_color=\"firebrick\",\n",
    "\n",
    "                    # set visual properties for non-selected glyphs\n",
    "                    nonselection_fill_alpha=0.2,\n",
    "                    nonselection_fill_color=\"grey\",\n",
    "                    nonselection_line_color=\"firebrick\",\n",
    "                    nonselection_line_alpha=1.0)\n",
    "\n",
    "show(p)"
   ]
  },
  {
   "cell_type": "markdown",
   "metadata": {},
   "source": [
    "It is also possible to specify the visual appearance of glyphs when they are \"inspected\", e.g. by a hover tool. This is accomplished by setting an optional `hover_glyph` on the glyph renderer:\n",
    "```python\n",
    "r.hover_glyph = Circle(fill_alpha=1, fill_color=\"firebrick\", line_color=None) \n",
    "```\n",
    "Or if using `bokeh.plotting` glyph methods, by passing `hover_fill_alpha`, etc. to the glyph method. Lets look at an example that works together with a `HoverTool` configured for \"hline\" hit-testing."
   ]
  },
  {
   "cell_type": "code",
   "execution_count": null,
   "metadata": {},
   "outputs": [],
   "source": [
    "from bokeh.sampledata import download\n",
    "download()"
   ]
  },
  {
   "cell_type": "code",
   "execution_count": null,
   "metadata": {},
   "outputs": [],
   "source": [
    "from bokeh.models.tools import HoverTool\n",
    "from bokeh.sampledata.glucose import data\n",
    "\n",
    "subset = data.loc['2010-10-06']\n",
    "\n",
    "x, y = subset.index.to_series(), subset['glucose']\n",
    "\n",
    "# Basic plot setup\n",
    "p = figure(width=600, height=300, x_axis_type=\"datetime\", title='Hover over points')\n",
    "\n",
    "p.line(x, y, line_dash=\"4 4\", line_width=1, color='gray')\n",
    "\n",
    "cr = p.circle(x, y, size=20,\n",
    "              fill_color=\"grey\", hover_fill_color=\"firebrick\",\n",
    "              fill_alpha=0.05, hover_alpha=0.3,\n",
    "              line_color=None, hover_line_color=\"white\")\n",
    "\n",
    "p.add_tools(HoverTool(tooltips=None, renderers=[cr], mode='hline'))\n",
    "\n",
    "show(p)"
   ]
  },
  {
   "cell_type": "code",
   "execution_count": null,
   "metadata": {},
   "outputs": [],
   "source": [
    "# EXERCISE: experiment with standard, selected, hover glyph visual properties\n"
   ]
  },
  {
   "cell_type": "markdown",
   "metadata": {},
   "source": [
    "# Axes\n",
    "\n",
    "[Axes](http://bokeh.pydata.org/en/latest/docs/user_guide/styling.html#axes)\n",
    "\n",
    "To style axes, you first must get ahold of `Axis` objects. The simplest way is to use some convenience methods on `Plot`: [axis](http://bokeh.pydata.org/en/latest/docs/reference/plotting.html#bokeh.plotting.Figure.axis), [xaxis](http://bokeh.pydata.org/en/latest/docs/reference/plotting.html#bokeh.plotting.Figure.xaxis), and [yaxis](http://bokeh.pydata.org/en/latest/docs/reference/plotting.html#bokeh.plotting.Figure.yaxis). These methods return lists of axis objects:\n",
    "\n",
    "```\n",
    ">>> p.xaxis\n",
    "[<bokeh.models.axes.LinearAxis at 0x106fa2390>]\n",
    "```\n",
    "However, you can set properties on all the elements of the list as if it was a single object:\n",
    "```\n",
    "p.xaxis.axis_label = \"Temperature\"\n",
    "p.axis.major_label_text_color = \"orange\"\n",
    "```\n",
    "These are referred to as \"splattable\" lists, and tab completion works on them as well. \n"
   ]
  },
  {
   "cell_type": "code",
   "execution_count": null,
   "metadata": {},
   "outputs": [],
   "source": [
    "# EXERCISE Try out tab completion. Type p.xaxis.<press tab key> to see a list of attributes that can be set.\n",
    "\n"
   ]
  },
  {
   "cell_type": "markdown",
   "metadata": {},
   "source": [
    "* **axis** \n",
    " - [line properties](http://bokeh.pydata.org/en/latest/docs/user_guide/styling.html#line-properties)\n",
    "* **axis_label** \n",
    " - [text properties](http://bokeh.pydata.org/en/latest/docs/user_guide/styling.html#text-properties)\n",
    " - ``axis_label_standoff``\n",
    "* **major_label** \n",
    " - [text properties](http://bokeh.pydata.org/en/latest/docs/user_guide/styling.html#text-properties)\n",
    " - ``orientation``\n",
    "* **major_tick** \n",
    " - [line_properties](http://bokeh.pydata.org/en/latest/docs/user_guide/styling.html#line-properties)\n",
    " - ``major_tick_in`` \n",
    " - ``major_tick_out``\n",
    "* **minor_tick** \n",
    " - [line properties](http://bokeh.pydata.org/en/latest/docs/user_guide/styling.html#line-properties)\n",
    " - ``minor_tick_in``\n",
    " - ``minor_tick_out``\n",
    "\n",
    "As a simple first example, let's change the orientation of the major tick labels on both axes of a plot:"
   ]
  },
  {
   "cell_type": "code",
   "execution_count": null,
   "metadata": {},
   "outputs": [],
   "source": [
    "from math import pi\n",
    "\n",
    "p = figure(plot_width=400, plot_height=400)\n",
    "p.x([1,2,3,4,5], [2,5,8,2,7], size=10, line_width=2)\n",
    "\n",
    "p.xaxis.major_label_orientation = pi/4\n",
    "p.yaxis.major_label_orientation = \"vertical\"\n",
    "\n",
    "show(p)"
   ]
  },
  {
   "cell_type": "markdown",
   "metadata": {},
   "source": [
    "The next example shows customizations on several of the different Axis properties at once:"
   ]
  },
  {
   "cell_type": "code",
   "execution_count": null,
   "metadata": {},
   "outputs": [],
   "source": [
    "p = figure(plot_width=400, plot_height=400)\n",
    "p.asterisk([1,2,3,4,5], [2,5,8,2,7], size=12, color=\"olive\")\n",
    "\n",
    "# change just some things about the x-axes\n",
    "p.xaxis.axis_label = \"Temp\"\n",
    "p.xaxis.axis_line_width = 3\n",
    "p.xaxis.axis_line_color = \"red\"\n",
    "\n",
    "# change just some things about the y-axes\n",
    "p.yaxis.axis_label = \"Pressure\"\n",
    "p.yaxis.major_label_text_color = \"orange\"\n",
    "p.yaxis.major_label_orientation = \"vertical\"\n",
    "\n",
    "# change things on all axes\n",
    "p.axis.minor_tick_in = -3\n",
    "p.axis.minor_tick_out = 6\n",
    "\n",
    "show(p)"
   ]
  },
  {
   "cell_type": "code",
   "execution_count": null,
   "metadata": {},
   "outputs": [],
   "source": [
    "# EXERCISE Create a plot of your own and customize several axis properties\n"
   ]
  },
  {
   "cell_type": "markdown",
   "metadata": {},
   "source": [
    "There are further customizations possible. See the [User Guide](http://bokeh.pydata.org/en/latest/docs/user_guide.html) for more information on topics such as [tick label formatting](http://bokeh.pydata.org/en/latest/docs/user_guide/styling.html#tick-label-formats) or [limiting axis bounds](http://bokeh.pydata.org/en/latest/docs/user_guide/styling.html#bounds)."
   ]
  },
  {
   "cell_type": "markdown",
   "metadata": {},
   "source": [
    "# Grids\n",
    "\n",
    "[Grids](http://bokeh.pydata.org/en/latest/docs/user_guide/styling.html#grids)\n",
    "\n",
    "* **grid** [line properties](http://bokeh.pydata.org/en/latest/docs/user_guide/styling.html#line-properties)\n",
    "* **band** [fill properties]()"
   ]
  },
  {
   "cell_type": "code",
   "execution_count": null,
   "metadata": {},
   "outputs": [],
   "source": [
    "p = figure(plot_width=400, plot_height=400)\n",
    "p.circle([1,2,3,4,5], [2,5,8,2,7], size=10)\n",
    "\n",
    "# change just some things about the x-grid\n",
    "p.xgrid.grid_line_color = None\n",
    "\n",
    "# change just some things about the y-grid\n",
    "p.ygrid.grid_line_alpha = 0.5\n",
    "p.ygrid.grid_line_dash = [6, 4]\n",
    "\n",
    "show(p)"
   ]
  },
  {
   "cell_type": "code",
   "execution_count": null,
   "metadata": {},
   "outputs": [],
   "source": [
    "p = figure(plot_width=400, plot_height=400)\n",
    "p.circle([1,2,3,4,5], [2,5,8,2,7], size=10)\n",
    "\n",
    "# change just some things about the x-grid\n",
    "p.xgrid.grid_line_color = None\n",
    "\n",
    "# change just some things about the y-grid\n",
    "p.ygrid.band_fill_alpha = 0.1\n",
    "p.ygrid.band_fill_color = \"navy\"\n",
    "\n",
    "show(p)"
   ]
  },
  {
   "cell_type": "code",
   "execution_count": null,
   "metadata": {},
   "outputs": [],
   "source": [
    "# EXERCISE Create a plot of your own and customize several grid properties\n"
   ]
  },
  {
   "cell_type": "code",
   "execution_count": null,
   "metadata": {},
   "outputs": [],
   "source": []
  }
 ],
 "metadata": {
  "kernelspec": {
   "display_name": "Python 3",
   "language": "python",
   "name": "python3"
  },
  "language_info": {
   "codemirror_mode": {
    "name": "ipython",
    "version": 3
   },
   "file_extension": ".py",
   "mimetype": "text/x-python",
   "name": "python",
   "nbconvert_exporter": "python",
   "pygments_lexer": "ipython3",
   "version": "3.6.8"
  }
 },
 "nbformat": 4,
 "nbformat_minor": 4
}

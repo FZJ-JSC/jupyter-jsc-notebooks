{
 "cells": [
  {
   "cell_type": "markdown",
   "metadata": {},
   "source": [
    "# 6.2. Creating statistical plots easily with seaborn"
   ]
  },
  {
   "cell_type": "code",
   "execution_count": null,
   "metadata": {},
   "outputs": [],
   "source": [
    "import numpy as np\n",
    "from scipy import stats\n",
    "import matplotlib.pyplot as plt\n",
    "import seaborn as sns\n",
    "%matplotlib inline"
   ]
  },
  {
   "cell_type": "code",
   "execution_count": null,
   "metadata": {
    "podoc": {
     "output_text": "Tips dataset"
    }
   },
   "outputs": [],
   "source": [
    "tips = sns.load_dataset('tips')\n",
    "tips"
   ]
  },
  {
   "cell_type": "code",
   "execution_count": null,
   "metadata": {
    "podoc": {
     "output_text": "Kernel density estimation"
    }
   },
   "outputs": [],
   "source": [
    "# We create two subplots sharing the same y axis.\n",
    "f, (ax1, ax2) = plt.subplots(1, 2,\n",
    "                       figsize=(12, 5),\n",
    "                       sharey=True)\n",
    "\n",
    "# Left subplot.\n",
    "# Histogram and KDE (active by default).\n",
    "sns.distplot(tips.total_bill,\n",
    "             ax=ax1,\n",
    "             hist=True)\n",
    "\n",
    "# Right subplot.\n",
    "# \"Rugplot\", KDE, and gamma fit.\n",
    "sns.distplot(tips.total_bill,\n",
    "             ax=ax2,\n",
    "             hist=False,\n",
    "             kde=True,\n",
    "             rug=True,\n",
    "             fit=stats.gamma,\n",
    "             fit_kws=dict(label='gamma'),\n",
    "             kde_kws=dict(label='kde'))\n",
    "ax2.legend()"
   ]
  },
  {
   "cell_type": "code",
   "execution_count": null,
   "metadata": {
    "podoc": {
     "output_text": "A regression plot"
    }
   },
   "outputs": [],
   "source": [
    "sns.regplot(x=\"total_bill\", y=\"tip\", data=tips)"
   ]
  },
  {
   "cell_type": "code",
   "execution_count": null,
   "metadata": {
    "podoc": {
     "output_text": "Plotting distributions"
    }
   },
   "outputs": [],
   "source": [
    "f, (ax1, ax2, ax3) = plt.subplots(\n",
    "    1, 3, figsize=(12, 4), sharey=True)\n",
    "sns.barplot(x='sex', y='tip', data=tips, ax=ax1)\n",
    "sns.violinplot(x='sex', y='tip', data=tips, ax=ax2)\n",
    "sns.swarmplot(x='sex', y='tip', data=tips, ax=ax3)"
   ]
  },
  {
   "cell_type": "code",
   "execution_count": null,
   "metadata": {
    "podoc": {
     "output_text": "A FacetGrid"
    }
   },
   "outputs": [],
   "source": [
    "g = sns.FacetGrid(tips, col='smoker', row='sex')\n",
    "g.map(sns.regplot, 'total_bill', 'tip')"
   ]
  }
 ],
 "metadata": {
  "kernelspec": {
   "display_name": "Python 3",
   "language": "python",
   "name": "python3"
  },
  "language_info": {
   "codemirror_mode": {
    "name": "ipython",
    "version": 3
   },
   "file_extension": ".py",
   "mimetype": "text/x-python",
   "name": "python",
   "nbconvert_exporter": "python",
   "pygments_lexer": "ipython3",
   "version": "3.6.8"
  }
 },
 "nbformat": 4,
 "nbformat_minor": 4
}

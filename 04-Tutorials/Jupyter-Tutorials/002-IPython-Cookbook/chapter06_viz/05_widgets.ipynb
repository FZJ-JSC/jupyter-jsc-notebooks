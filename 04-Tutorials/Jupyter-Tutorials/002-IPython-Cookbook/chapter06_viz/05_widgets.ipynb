{
 "cells": [
  {
   "cell_type": "markdown",
   "metadata": {},
   "source": [
    "# 6.5. Discovering interactive visualization libraries in the Notebook"
   ]
  },
  {
   "cell_type": "code",
   "execution_count": null,
   "metadata": {},
   "outputs": [],
   "source": [
    "from ipyleaflet import Map, Marker"
   ]
  },
  {
   "cell_type": "code",
   "execution_count": null,
   "metadata": {},
   "outputs": [],
   "source": [
    "pos = [34.62, -77.34]\n",
    "m = Map(center=pos, zoom=10)"
   ]
  },
  {
   "cell_type": "code",
   "execution_count": null,
   "metadata": {},
   "outputs": [],
   "source": [
    "marker = Marker(location=pos,\n",
    "                rise_on_hover=True,\n",
    "                title=\"Here I am!\",\n",
    "                )"
   ]
  },
  {
   "cell_type": "code",
   "execution_count": null,
   "metadata": {},
   "outputs": [],
   "source": [
    "m += marker"
   ]
  },
  {
   "cell_type": "code",
   "execution_count": null,
   "metadata": {
    "podoc": {
     "output_text": "ipyleaflet"
    }
   },
   "outputs": [],
   "source": [
    "m"
   ]
  },
  {
   "cell_type": "code",
   "execution_count": null,
   "metadata": {},
   "outputs": [],
   "source": [
    "import numpy as np\n",
    "import bqplot.pyplot as plt"
   ]
  },
  {
   "cell_type": "code",
   "execution_count": null,
   "metadata": {
    "podoc": {
     "output_text": "bqplot"
    }
   },
   "outputs": [],
   "source": [
    "plt.figure(title='Scatter plot with colors')\n",
    "t = np.linspace(-3, 3, 100)\n",
    "x = np.sin(t)\n",
    "y = np.sin(t) + .1 * np.random.randn(100)\n",
    "plt.plot(t, x)\n",
    "plt.scatter(t, y,\n",
    "            size=np.random.uniform(15, 50, 100),\n",
    "            color=np.random.randn(100))\n",
    "plt.show()"
   ]
  },
  {
   "cell_type": "code",
   "execution_count": null,
   "metadata": {},
   "outputs": [],
   "source": [
    "from pythreejs import *"
   ]
  },
  {
   "cell_type": "code",
   "execution_count": null,
   "metadata": {},
   "outputs": [],
   "source": [
    "f = \"\"\"\n",
    "function f(x, y) {\n",
    "    x = 2 * (x - .5);\n",
    "    y = 2 * (y - .5);\n",
    "    r2 = x * x + y * y;\n",
    "    var z = Math.exp(-2 * r2) * (\n",
    "        Math.cos(12*x) * Math.sin(12*y));\n",
    "    return new THREE.Vector3(x, y, z)\n",
    "}\n",
    "\"\"\""
   ]
  },
  {
   "cell_type": "code",
   "execution_count": null,
   "metadata": {},
   "outputs": [],
   "source": [
    "texture = np.random.uniform(.5, .9, (20, 20))\n",
    "material = MeshLambertMaterial(\n",
    "    map=height_texture(texture))"
   ]
  },
  {
   "cell_type": "code",
   "execution_count": null,
   "metadata": {},
   "outputs": [],
   "source": [
    "alight = AmbientLight(color='#777777')\n",
    "dlight = DirectionalLight(color='white',\n",
    "                          position=[3, 5, 1],\n",
    "                          intensity=0.6)"
   ]
  },
  {
   "cell_type": "code",
   "execution_count": null,
   "metadata": {},
   "outputs": [],
   "source": [
    "surf_g = ParametricGeometry(func=f)\n",
    "surf = Mesh(geometry=surf_g,\n",
    "            material=material)"
   ]
  },
  {
   "cell_type": "code",
   "execution_count": null,
   "metadata": {
    "podoc": {
     "output_text": "pythreejs"
    }
   },
   "outputs": [],
   "source": [
    "scene = Scene(children=[surf, alight])\n",
    "c = PerspectiveCamera(position=[2.5, 2.5, 2.5],\n",
    "                      up=[0, 0, 1],\n",
    "                      children=[dlight])\n",
    "Renderer(camera=c, scene=scene,\n",
    "         controls=[OrbitControls(controlling=c)])"
   ]
  },
  {
   "cell_type": "code",
   "execution_count": null,
   "metadata": {},
   "outputs": [],
   "source": [
    "import ipyvolume"
   ]
  },
  {
   "cell_type": "code",
   "execution_count": null,
   "metadata": {
    "podoc": {
     "output_text": "ipyvolume"
    }
   },
   "outputs": [],
   "source": [
    "ds = ipyvolume.datasets.aquariusA2.fetch()\n",
    "ipyvolume.quickvolshow(ds.data, lighting=True)"
   ]
  },
  {
   "cell_type": "code",
   "execution_count": null,
   "metadata": {},
   "outputs": [],
   "source": []
  }
 ],
 "metadata": {
  "kernelspec": {
   "display_name": "Python 3",
   "language": "python",
   "name": "python3"
  },
  "language_info": {
   "codemirror_mode": {
    "name": "ipython",
    "version": 3
   },
   "file_extension": ".py",
   "mimetype": "text/x-python",
   "name": "python",
   "nbconvert_exporter": "python",
   "pygments_lexer": "ipython3",
   "version": "3.6.8"
  }
 },
 "nbformat": 4,
 "nbformat_minor": 4
}

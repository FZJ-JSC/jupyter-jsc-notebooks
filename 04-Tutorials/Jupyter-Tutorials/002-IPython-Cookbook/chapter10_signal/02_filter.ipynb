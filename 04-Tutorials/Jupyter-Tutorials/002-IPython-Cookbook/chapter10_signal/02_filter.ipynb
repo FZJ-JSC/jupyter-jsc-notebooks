{
 "cells": [
  {
   "cell_type": "markdown",
   "metadata": {},
   "source": [
    "# 10.2. Applying a linear filter to a digital signal"
   ]
  },
  {
   "cell_type": "code",
   "execution_count": null,
   "metadata": {},
   "outputs": [],
   "source": [
    "import numpy as np\n",
    "import scipy as sp\n",
    "import scipy.signal as sg\n",
    "import pandas as pd\n",
    "import matplotlib.pyplot as plt\n",
    "%matplotlib inline"
   ]
  },
  {
   "cell_type": "code",
   "execution_count": null,
   "metadata": {},
   "outputs": [],
   "source": [
    "nasdaq_df = pd.read_csv(\n",
    "    'https://github.com/ipython-books/'\n",
    "    'cookbook-2nd-data/blob/master/'\n",
    "    'nasdaq.csv?raw=true',\n",
    "    index_col='Date',\n",
    "    parse_dates=['Date'])"
   ]
  },
  {
   "cell_type": "code",
   "execution_count": null,
   "metadata": {
    "podoc": {
     "output_text": "Output"
    }
   },
   "outputs": [],
   "source": [
    "nasdaq_df.head()"
   ]
  },
  {
   "cell_type": "code",
   "execution_count": null,
   "metadata": {},
   "outputs": [],
   "source": [
    "date = nasdaq_df.index\n",
    "nasdaq = nasdaq_df['Close']"
   ]
  },
  {
   "cell_type": "code",
   "execution_count": null,
   "metadata": {
    "podoc": {
     "output_text": "<matplotlib.figure.Figure at 0x1204bcf8>"
    }
   },
   "outputs": [],
   "source": [
    "fig, ax = plt.subplots(1, 1, figsize=(6, 4))\n",
    "nasdaq.plot(ax=ax, lw=1)"
   ]
  },
  {
   "cell_type": "code",
   "execution_count": null,
   "metadata": {},
   "outputs": [],
   "source": [
    "# We get a triangular window with 60 samples.\n",
    "h = sg.get_window('triang', 60)\n",
    "# We convolve the signal with this window.\n",
    "fil = sg.convolve(nasdaq, h / h.sum())"
   ]
  },
  {
   "cell_type": "code",
   "execution_count": null,
   "metadata": {
    "podoc": {
     "output_text": "<matplotlib.figure.Figure at 0x1224fe10>"
    }
   },
   "outputs": [],
   "source": [
    "fig, ax = plt.subplots(1, 1, figsize=(6, 4))\n",
    "# We plot the original signal...\n",
    "nasdaq.plot(ax=ax, lw=3)\n",
    "# ... and the filtered signal.\n",
    "ax.plot_date(date, fil[:len(nasdaq)],\n",
    "             '-w', lw=2)"
   ]
  },
  {
   "cell_type": "code",
   "execution_count": null,
   "metadata": {
    "podoc": {
     "output_text": "<matplotlib.figure.Figure at 0x1223add8>"
    }
   },
   "outputs": [],
   "source": [
    "fig, ax = plt.subplots(1, 1, figsize=(6, 4))\n",
    "nasdaq.plot(ax=ax, lw=3)\n",
    "# We create a 4-th order Butterworth low-pass filter.\n",
    "b, a = sg.butter(4, 2. / 365)\n",
    "# We apply this filter to the signal.\n",
    "ax.plot_date(date, sg.filtfilt(b, a, nasdaq),\n",
    "             '-w', lw=2)"
   ]
  },
  {
   "cell_type": "code",
   "execution_count": null,
   "metadata": {
    "podoc": {
     "output_text": "<matplotlib.figure.Figure at 0x12230908>"
    }
   },
   "outputs": [],
   "source": [
    "fig, ax = plt.subplots(1, 1, figsize=(6, 4))\n",
    "nasdaq.plot(ax=ax, lw=1)\n",
    "b, a = sg.butter(4, 2 * 5. / 365, btype='high')\n",
    "ax.plot_date(date, sg.filtfilt(b, a, nasdaq),\n",
    "             '-', lw=1)"
   ]
  }
 ],
 "metadata": {
  "kernelspec": {
   "display_name": "Python 3",
   "language": "python",
   "name": "python3"
  },
  "language_info": {
   "codemirror_mode": {
    "name": "ipython",
    "version": 3
   },
   "file_extension": ".py",
   "mimetype": "text/x-python",
   "name": "python",
   "nbconvert_exporter": "python",
   "pygments_lexer": "ipython3",
   "version": "3.6.8"
  }
 },
 "nbformat": 4,
 "nbformat_minor": 4
}

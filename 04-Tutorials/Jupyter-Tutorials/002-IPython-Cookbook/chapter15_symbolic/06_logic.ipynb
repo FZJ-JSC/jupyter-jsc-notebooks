{
 "cells": [
  {
   "cell_type": "markdown",
   "metadata": {},
   "source": [
    "# 15.6. Finding a Boolean propositional formula from a truth table"
   ]
  },
  {
   "cell_type": "code",
   "execution_count": null,
   "metadata": {},
   "outputs": [],
   "source": [
    "from sympy import *\n",
    "init_printing()"
   ]
  },
  {
   "cell_type": "code",
   "execution_count": null,
   "metadata": {
    "podoc": {
     "output_text": "(x, y, z)"
    }
   },
   "outputs": [],
   "source": [
    "var('x y z')"
   ]
  },
  {
   "cell_type": "code",
   "execution_count": null,
   "metadata": {
    "podoc": {
     "output_text": "Formula"
    }
   },
   "outputs": [],
   "source": [
    "P = x & (y | ~z)\n",
    "P"
   ]
  },
  {
   "cell_type": "code",
   "execution_count": null,
   "metadata": {
    "podoc": {
     "output_text": "False"
    }
   },
   "outputs": [],
   "source": [
    "P.subs({x: True, y: False, z: True})"
   ]
  },
  {
   "cell_type": "code",
   "execution_count": null,
   "metadata": {},
   "outputs": [],
   "source": [
    "minterms = [[1, 0, 1], [1, 0, 0], [0, 0, 0]]\n",
    "dontcare = [[1, 1, 1], [1, 1, 0]]"
   ]
  },
  {
   "cell_type": "code",
   "execution_count": null,
   "metadata": {
    "podoc": {
     "output_text": "SOP form"
    }
   },
   "outputs": [],
   "source": [
    "Q = SOPform(['x', 'y', 'z'], minterms, dontcare)\n",
    "Q"
   ]
  },
  {
   "cell_type": "code",
   "execution_count": null,
   "metadata": {
    "podoc": {
     "output_text": "(True, False)"
    }
   },
   "outputs": [],
   "source": [
    "Q.subs({x: True, y: False, z: False}), Q.subs(\n",
    "    {x: False, y: True, z: True})"
   ]
  }
 ],
 "metadata": {
  "kernelspec": {
   "display_name": "Python 3",
   "language": "python",
   "name": "python3"
  },
  "language_info": {
   "codemirror_mode": {
    "name": "ipython",
    "version": 3
   },
   "file_extension": ".py",
   "mimetype": "text/x-python",
   "name": "python",
   "nbconvert_exporter": "python",
   "pygments_lexer": "ipython3",
   "version": "3.6.8"
  }
 },
 "nbformat": 4,
 "nbformat_minor": 4
}

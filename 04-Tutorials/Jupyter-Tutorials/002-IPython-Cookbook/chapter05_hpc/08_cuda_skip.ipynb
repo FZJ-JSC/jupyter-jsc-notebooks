{
 "cells": [
  {
   "cell_type": "markdown",
   "metadata": {},
   "source": [
    "# 5.8. Writing massively parallel code for NVIDIA graphics cards (GPUs) with CUDA"
   ]
  },
  {
   "cell_type": "code",
   "execution_count": null,
   "metadata": {},
   "outputs": [],
   "source": [
    "import math\n",
    "import numpy as np\n",
    "from numba import cuda\n",
    "import matplotlib.pyplot as plt\n",
    "%matplotlib inline"
   ]
  },
  {
   "cell_type": "code",
   "execution_count": null,
   "metadata": {},
   "outputs": [],
   "source": [
    "len(cuda.gpus)"
   ]
  },
  {
   "cell_type": "code",
   "execution_count": null,
   "metadata": {},
   "outputs": [],
   "source": [
    "cuda.gpus[0].name"
   ]
  },
  {
   "cell_type": "code",
   "execution_count": null,
   "metadata": {},
   "outputs": [],
   "source": [
    "@cuda.jit\n",
    "def mandelbrot_numba(m, iterations):\n",
    "    # Matrix index.\n",
    "    i, j = cuda.grid(2)\n",
    "    size = m.shape[0]\n",
    "    # Skip threads outside the matrix.\n",
    "    if i >= size or j >= size:\n",
    "        return\n",
    "    # Run the simulation.\n",
    "    c = (-2 + 3. / size * j +\n",
    "         1j * (1.5 - 3. / size * i))\n",
    "    z = 0\n",
    "    for n in range(iterations):\n",
    "        if abs(z) <= 10:\n",
    "            z = z * z + c\n",
    "            m[i, j] = n\n",
    "        else:\n",
    "            break"
   ]
  },
  {
   "cell_type": "code",
   "execution_count": null,
   "metadata": {},
   "outputs": [],
   "source": [
    "size = 400\n",
    "iterations = 100"
   ]
  },
  {
   "cell_type": "code",
   "execution_count": null,
   "metadata": {},
   "outputs": [],
   "source": [
    "m = np.zeros((size, size))"
   ]
  },
  {
   "cell_type": "code",
   "execution_count": null,
   "metadata": {},
   "outputs": [],
   "source": [
    "# 16x16 threads per block.\n",
    "bs = 16\n",
    "# Number of blocks in the grid.\n",
    "bpg = math.ceil(size / bs)\n",
    "# We prepare the GPU function.\n",
    "f = mandelbrot_numba[(bpg, bpg), (bs, bs)]"
   ]
  },
  {
   "cell_type": "code",
   "execution_count": null,
   "metadata": {},
   "outputs": [],
   "source": [
    "f(m, iterations)"
   ]
  },
  {
   "cell_type": "code",
   "execution_count": null,
   "metadata": {
    "podoc": {
     "output_text": "<matplotlib.figure.Figure at 0x7f1085fbd4a8>"
    }
   },
   "outputs": [],
   "source": [
    "fig, ax = plt.subplots(1, 1, figsize=(10, 10))\n",
    "ax.imshow(np.log(m), cmap=plt.cm.hot)\n",
    "ax.set_axis_off()"
   ]
  },
  {
   "cell_type": "code",
   "execution_count": null,
   "metadata": {},
   "outputs": [],
   "source": [
    "%timeit -n10 -r100 f(m, iterations)"
   ]
  },
  {
   "cell_type": "code",
   "execution_count": null,
   "metadata": {},
   "outputs": [],
   "source": [
    "%timeit -n10 -r100 cuda.to_device(m)"
   ]
  },
  {
   "cell_type": "code",
   "execution_count": null,
   "metadata": {},
   "outputs": [],
   "source": [
    "%%timeit -n10 -r100 m_gpu = cuda.to_device(m)\n",
    "f(m_gpu, iterations)"
   ]
  },
  {
   "cell_type": "code",
   "execution_count": null,
   "metadata": {},
   "outputs": [],
   "source": [
    "m_gpu = cuda.to_device(m)"
   ]
  },
  {
   "cell_type": "code",
   "execution_count": null,
   "metadata": {},
   "outputs": [],
   "source": [
    "%timeit -n10 -r100 m_gpu.copy_to_host()"
   ]
  },
  {
   "cell_type": "markdown",
   "metadata": {},
   "source": [
    "```\n",
    "# Thread id in a 1D block\n",
    "tx = cuda.threadIdx.x\n",
    "# Block id in a 1D grid\n",
    "ty = cuda.blockIdx.x\n",
    "# Block width, i.e. number of threads per block\n",
    "bw = cuda.blockDim.x\n",
    "# Compute flattened index inside the array\n",
    "pos = tx + ty * bw\n",
    "if pos < an_array.size:  # Check array boundaries\n",
    "    # One can access `an_array[pos]`\n",
    "```"
   ]
  }
 ],
 "metadata": {
  "kernelspec": {
   "display_name": "Python 3",
   "language": "python",
   "name": "python3"
  },
  "language_info": {
   "codemirror_mode": {
    "name": "ipython",
    "version": 3
   },
   "file_extension": ".py",
   "mimetype": "text/x-python",
   "name": "python",
   "nbconvert_exporter": "python",
   "pygments_lexer": "ipython3",
   "version": "3.6.8"
  }
 },
 "nbformat": 4,
 "nbformat_minor": 4
}

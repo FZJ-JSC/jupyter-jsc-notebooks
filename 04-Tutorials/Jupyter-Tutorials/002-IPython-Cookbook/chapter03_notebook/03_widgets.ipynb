{
 "cells": [
  {
   "cell_type": "markdown",
   "metadata": {},
   "source": [
    "# 3.3. Mastering widgets in the Jupyter Notebook"
   ]
  },
  {
   "cell_type": "markdown",
   "metadata": {},
   "source": [
    "```bash\n",
    "jupyter nbextension enable --py --sys-prefix widgetsnbextension\n",
    "```"
   ]
  },
  {
   "cell_type": "code",
   "execution_count": null,
   "metadata": {},
   "outputs": [],
   "source": [
    "import ipywidgets as widgets\n",
    "from ipywidgets import HBox, VBox\n",
    "import numpy as np\n",
    "import matplotlib.pyplot as plt\n",
    "from IPython.display import display\n",
    "%matplotlib inline"
   ]
  },
  {
   "cell_type": "code",
   "execution_count": null,
   "metadata": {
    "podoc": {
     "output_text": "Interact"
    }
   },
   "outputs": [],
   "source": [
    "@widgets.interact\n",
    "def f(x=5):\n",
    "    print(x)"
   ]
  },
  {
   "cell_type": "code",
   "execution_count": null,
   "metadata": {
    "podoc": {
     "output_text": "Interact"
    }
   },
   "outputs": [],
   "source": [
    "@widgets.interact(x=(0, 5))\n",
    "def f(x=5):\n",
    "    print(x)"
   ]
  },
  {
   "cell_type": "code",
   "execution_count": null,
   "metadata": {
    "podoc": {
     "output_text": "Interact manual"
    }
   },
   "outputs": [],
   "source": [
    "@widgets.interact_manual(\n",
    "    color=['blue', 'red', 'green'], lw=(1., 10.))\n",
    "def plot(freq=1., color='blue', lw=2, grid=True):\n",
    "    t = np.linspace(-1., +1., 1000)\n",
    "    fig, ax = plt.subplots(1, 1, figsize=(8, 6))\n",
    "    ax.plot(t, np.sin(2 * np.pi * freq * t),\n",
    "            lw=lw, color=color)\n",
    "    ax.grid(grid)"
   ]
  },
  {
   "cell_type": "code",
   "execution_count": null,
   "metadata": {
    "podoc": {
     "output_text": "Interact manual"
    }
   },
   "outputs": [],
   "source": [
    "freq_slider = widgets.FloatSlider(\n",
    "    value=2.,\n",
    "    min=1.,\n",
    "    max=10.0,\n",
    "    step=0.1,\n",
    "    description='Frequency:',\n",
    "    readout_format='.1f',\n",
    ")\n",
    "freq_slider"
   ]
  },
  {
   "cell_type": "code",
   "execution_count": null,
   "metadata": {
    "podoc": {
     "output_text": "Range slider"
    }
   },
   "outputs": [],
   "source": [
    "range_slider = widgets.FloatRangeSlider(\n",
    "    value=[-1., +1.],\n",
    "    min=-5., max=+5., step=0.1,\n",
    "    description='xlim:',\n",
    "    readout_format='.1f',\n",
    ")\n",
    "range_slider"
   ]
  },
  {
   "cell_type": "code",
   "execution_count": null,
   "metadata": {
    "podoc": {
     "output_text": "Toggle button widget"
    }
   },
   "outputs": [],
   "source": [
    "grid_button = widgets.ToggleButton(\n",
    "    value=False,\n",
    "    description='Grid',\n",
    "    icon='check'\n",
    ")\n",
    "grid_button"
   ]
  },
  {
   "cell_type": "code",
   "execution_count": null,
   "metadata": {
    "podoc": {
     "output_text": "Toggle buttons"
    }
   },
   "outputs": [],
   "source": [
    "color_buttons = widgets.ToggleButtons(\n",
    "    options=['blue', 'red', 'green'],\n",
    "    description='Color:',\n",
    ")\n",
    "color_buttons"
   ]
  },
  {
   "cell_type": "code",
   "execution_count": null,
   "metadata": {
    "podoc": {
     "output_text": "Text widget"
    }
   },
   "outputs": [],
   "source": [
    "title_textbox = widgets.Text(\n",
    "    value='Hello World',\n",
    "    description='Title:',\n",
    ")\n",
    "title_textbox"
   ]
  },
  {
   "cell_type": "code",
   "execution_count": null,
   "metadata": {
    "podoc": {
     "output_text": "Color picker"
    }
   },
   "outputs": [],
   "source": [
    "color_picker = widgets.ColorPicker(\n",
    "    concise=True,\n",
    "    description='Background color:',\n",
    "    value='#efefef',\n",
    ")\n",
    "color_picker"
   ]
  },
  {
   "cell_type": "code",
   "execution_count": null,
   "metadata": {
    "podoc": {
     "output_text": "Button widget"
    }
   },
   "outputs": [],
   "source": [
    "button = widgets.Button(\n",
    "    description='Plot',\n",
    ")\n",
    "button"
   ]
  },
  {
   "cell_type": "code",
   "execution_count": null,
   "metadata": {},
   "outputs": [],
   "source": [
    "def plot2(b=None):\n",
    "    xlim = range_slider.value\n",
    "    freq = freq_slider.value\n",
    "    grid = grid_button.value\n",
    "    color = color_buttons.value\n",
    "    title = title_textbox.value\n",
    "    bgcolor = color_picker.value\n",
    "\n",
    "    t = np.linspace(xlim[0], xlim[1], 1000)\n",
    "    f, ax = plt.subplots(1, 1, figsize=(8, 6))\n",
    "    ax.plot(t, np.sin(2 * np.pi * freq * t),\n",
    "            color=color)\n",
    "    ax.grid(grid)"
   ]
  },
  {
   "cell_type": "code",
   "execution_count": null,
   "metadata": {},
   "outputs": [],
   "source": [
    "@button.on_click\n",
    "def plot_on_click(b):\n",
    "    out.clear_output(wait=True)\n",
    "    with out:\n",
    "        plot2()\n",
    "        plt.show()"
   ]
  },
  {
   "cell_type": "code",
   "execution_count": null,
   "metadata": {},
   "outputs": [],
   "source": [
    "tab1 = VBox(children=[freq_slider,\n",
    "                      range_slider,\n",
    "                      ])\n",
    "tab2 = VBox(children=[color_buttons,\n",
    "                      HBox(children=[title_textbox,\n",
    "                                     color_picker,\n",
    "                                     grid_button]),\n",
    "                                     ])"
   ]
  },
  {
   "cell_type": "code",
   "execution_count": null,
   "metadata": {
    "podoc": {
     "output_text": "Complex widget"
    }
   },
   "outputs": [],
   "source": [
    "out = widgets.Output()\n",
    "tab = widgets.Tab(children=[tab1, tab2])\n",
    "tab.set_title(0, 'plot')\n",
    "tab.set_title(1, 'styling')\n",
    "VBox(children=[tab, button, out])"
   ]
  }
 ],
 "metadata": {
  "kernelspec": {
   "display_name": "Python 3",
   "language": "python",
   "name": "python3"
  },
  "language_info": {
   "codemirror_mode": {
    "name": "ipython",
    "version": 3
   },
   "file_extension": ".py",
   "mimetype": "text/x-python",
   "name": "python",
   "nbconvert_exporter": "python",
   "pygments_lexer": "ipython3",
   "version": "3.8.5"
  }
 },
 "nbformat": 4,
 "nbformat_minor": 4
}

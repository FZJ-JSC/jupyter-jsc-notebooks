{
 "cells": [
  {
   "cell_type": "markdown",
   "metadata": {},
   "source": [
    "# 14.5. Computing the Voronoi diagram of a set of points"
   ]
  },
  {
   "cell_type": "code",
   "execution_count": null,
   "metadata": {},
   "outputs": [],
   "source": [
    "import numpy as np\n",
    "import pandas as pd\n",
    "import scipy.spatial as spatial\n",
    "import matplotlib.pyplot as plt\n",
    "import matplotlib.path as path\n",
    "import matplotlib as mpl\n",
    "import smopy\n",
    "%matplotlib inline"
   ]
  },
  {
   "cell_type": "code",
   "execution_count": null,
   "metadata": {},
   "outputs": [],
   "source": [
    "df = pd.read_csv('https://github.com/ipython-books/'\n",
    "                 'cookbook-2nd-data/blob/master/'\n",
    "                 'ratp.csv?raw=true',\n",
    "                 sep='#', header=None)"
   ]
  },
  {
   "cell_type": "code",
   "execution_count": null,
   "metadata": {
    "podoc": {
     "output_text": "Output"
    }
   },
   "outputs": [],
   "source": [
    "df[df.columns[1:]].tail(3)"
   ]
  },
  {
   "cell_type": "code",
   "execution_count": null,
   "metadata": {},
   "outputs": [],
   "source": [
    "metro = df[(df[5] == 'metro')]"
   ]
  },
  {
   "cell_type": "code",
   "execution_count": null,
   "metadata": {
    "podoc": {
     "output_text": "Output"
    }
   },
   "outputs": [],
   "source": [
    "metro[metro.columns[1:]].tail(3)"
   ]
  },
  {
   "cell_type": "code",
   "execution_count": null,
   "metadata": {},
   "outputs": [],
   "source": [
    "# We only extract the district from stations in Paris.\n",
    "paris = metro[4].str.startswith('PARIS').values"
   ]
  },
  {
   "cell_type": "code",
   "execution_count": null,
   "metadata": {},
   "outputs": [],
   "source": [
    "# We create a vector of integers with the district\n",
    "# number of the corresponding station, or 0 if the\n",
    "# station is not in Paris.\n",
    "districts = np.zeros(len(paris), dtype=np.int32)\n",
    "districts[paris] = metro[4][paris].str.slice(6, 8) \\\n",
    "    .astype(np.int32)\n",
    "districts[~paris] = 0\n",
    "ndistricts = districts.max() + 1"
   ]
  },
  {
   "cell_type": "code",
   "execution_count": null,
   "metadata": {},
   "outputs": [],
   "source": [
    "lon = metro[1]\n",
    "lat = metro[2]"
   ]
  },
  {
   "cell_type": "code",
   "execution_count": null,
   "metadata": {
    "podoc": {
     "output_text": "Output"
    }
   },
   "outputs": [],
   "source": [
    "box = (lat[paris].min(), lon[paris].min(),\n",
    "       lat[paris].max(), lon[paris].max())\n",
    "m = smopy.Map(box, z=12)\n",
    "m.show_ipython()"
   ]
  },
  {
   "cell_type": "code",
   "execution_count": null,
   "metadata": {},
   "outputs": [],
   "source": [
    "vor = spatial.Voronoi(np.c_[lat, lon])"
   ]
  },
  {
   "cell_type": "code",
   "execution_count": null,
   "metadata": {},
   "outputs": [],
   "source": [
    "def voronoi_finite_polygons_2d(vor, radius=None):\n",
    "    \"\"\"Reconstruct infinite Voronoi regions in a\n",
    "    2D diagram to finite regions.\n",
    "    Source:\n",
    "    https://stackoverflow.com/a/20678647/1595060\n",
    "    \"\"\"\n",
    "    if vor.points.shape[1] != 2:\n",
    "        raise ValueError(\"Requires 2D input\")\n",
    "    new_regions = []\n",
    "    new_vertices = vor.vertices.tolist()\n",
    "    center = vor.points.mean(axis=0)\n",
    "    if radius is None:\n",
    "        radius = vor.points.ptp().max()\n",
    "    # Construct a map containing all ridges for a\n",
    "    # given point\n",
    "    all_ridges = {}\n",
    "    for (p1, p2), (v1, v2) in zip(vor.ridge_points,\n",
    "                                  vor.ridge_vertices):\n",
    "        all_ridges.setdefault(\n",
    "            p1, []).append((p2, v1, v2))\n",
    "        all_ridges.setdefault(\n",
    "            p2, []).append((p1, v1, v2))\n",
    "    # Reconstruct infinite regions\n",
    "    for p1, region in enumerate(vor.point_region):\n",
    "        vertices = vor.regions[region]\n",
    "        if all(v >= 0 for v in vertices):\n",
    "            # finite region\n",
    "            new_regions.append(vertices)\n",
    "            continue\n",
    "        # reconstruct a non-finite region\n",
    "        ridges = all_ridges[p1]\n",
    "        new_region = [v for v in vertices if v >= 0]\n",
    "        for p2, v1, v2 in ridges:\n",
    "            if v2 < 0:\n",
    "                v1, v2 = v2, v1\n",
    "            if v1 >= 0:\n",
    "                # finite ridge: already in the region\n",
    "                continue\n",
    "            # Compute the missing endpoint of an\n",
    "            # infinite ridge\n",
    "            t = vor.points[p2] - \\\n",
    "                vor.points[p1]  # tangent\n",
    "            t /= np.linalg.norm(t)\n",
    "            n = np.array([-t[1], t[0]])  # normal\n",
    "            midpoint = vor.points[[p1, p2]]. \\\n",
    "                mean(axis=0)\n",
    "            direction = np.sign(\n",
    "                np.dot(midpoint - center, n)) * n\n",
    "            far_point = vor.vertices[v2] + \\\n",
    "                direction * radius\n",
    "            new_region.append(len(new_vertices))\n",
    "            new_vertices.append(far_point.tolist())\n",
    "        # Sort region counterclockwise.\n",
    "        vs = np.asarray([new_vertices[v]\n",
    "                         for v in new_region])\n",
    "        c = vs.mean(axis=0)\n",
    "        angles = np.arctan2(\n",
    "            vs[:, 1] - c[1], vs[:, 0] - c[0])\n",
    "        new_region = np.array(new_region)[\n",
    "            np.argsort(angles)]\n",
    "        new_regions.append(new_region.tolist())\n",
    "    return new_regions, np.asarray(new_vertices)"
   ]
  },
  {
   "cell_type": "code",
   "execution_count": null,
   "metadata": {},
   "outputs": [],
   "source": [
    "regions, vertices = voronoi_finite_polygons_2d(vor)"
   ]
  },
  {
   "cell_type": "code",
   "execution_count": null,
   "metadata": {},
   "outputs": [],
   "source": [
    "cells = [m.to_pixels(vertices[region])\n",
    "         for region in regions]"
   ]
  },
  {
   "cell_type": "code",
   "execution_count": null,
   "metadata": {},
   "outputs": [],
   "source": [
    "cmap = plt.cm.Set3\n",
    "# We generate colors for districts using a color map.\n",
    "colors_districts = cmap(\n",
    "    np.linspace(0., 1., ndistricts))[:, :3]\n",
    "# The color of every polygon, grey by default.\n",
    "colors = .25 * np.ones((len(districts), 3))\n",
    "# We give each polygon in Paris the color of\n",
    "# its district.\n",
    "colors[paris] = colors_districts[districts[paris]]"
   ]
  },
  {
   "cell_type": "code",
   "execution_count": null,
   "metadata": {
    "podoc": {
     "output_text": "<matplotlib.figure.Figure at 0x8beea90>"
    }
   },
   "outputs": [],
   "source": [
    "ax = m.show_mpl(figsize=(12, 8))\n",
    "ax.add_collection(\n",
    "    mpl.collections.PolyCollection(\n",
    "        cells, facecolors=colors,\n",
    "        edgecolors='k', alpha=.35))"
   ]
  }
 ],
 "metadata": {
  "kernelspec": {
   "display_name": "Python 3",
   "language": "python",
   "name": "python3"
  },
  "language_info": {
   "codemirror_mode": {
    "name": "ipython",
    "version": 3
   },
   "file_extension": ".py",
   "mimetype": "text/x-python",
   "name": "python",
   "nbconvert_exporter": "python",
   "pygments_lexer": "ipython3",
   "version": "3.6.8"
  }
 },
 "nbformat": 4,
 "nbformat_minor": 4
}

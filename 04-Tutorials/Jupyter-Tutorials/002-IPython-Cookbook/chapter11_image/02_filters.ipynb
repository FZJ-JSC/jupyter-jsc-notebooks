{
 "cells": [
  {
   "cell_type": "markdown",
   "metadata": {},
   "source": [
    "# 11.2. Applying filters on an image"
   ]
  },
  {
   "cell_type": "code",
   "execution_count": null,
   "metadata": {},
   "outputs": [],
   "source": [
    "import numpy as np\n",
    "import matplotlib.pyplot as plt\n",
    "import skimage\n",
    "import skimage.color as skic\n",
    "import skimage.filters as skif\n",
    "import skimage.data as skid\n",
    "import skimage.util as sku\n",
    "%matplotlib inline"
   ]
  },
  {
   "cell_type": "code",
   "execution_count": null,
   "metadata": {},
   "outputs": [],
   "source": [
    "def show(img):\n",
    "    fig, ax = plt.subplots(1, 1, figsize=(8, 8))\n",
    "    ax.imshow(img, cmap=plt.cm.gray)\n",
    "    ax.set_axis_off()\n",
    "    plt.show()"
   ]
  },
  {
   "cell_type": "code",
   "execution_count": null,
   "metadata": {},
   "outputs": [],
   "source": [
    "img = skic.rgb2gray(skid.astronaut())"
   ]
  },
  {
   "cell_type": "code",
   "execution_count": null,
   "metadata": {
    "podoc": {
     "output_text": "<matplotlib.figure.Figure at 0x6f02f98>"
    }
   },
   "outputs": [],
   "source": [
    "show(img)"
   ]
  },
  {
   "cell_type": "code",
   "execution_count": null,
   "metadata": {
    "podoc": {
     "output_text": "<matplotlib.figure.Figure at 0x6f3bda0>"
    }
   },
   "outputs": [],
   "source": [
    "show(skif.gaussian(img, 5.))"
   ]
  },
  {
   "cell_type": "code",
   "execution_count": null,
   "metadata": {
    "podoc": {
     "output_text": "<matplotlib.figure.Figure at 0x6f18518>"
    }
   },
   "outputs": [],
   "source": [
    "sobimg = skif.sobel(img)\n",
    "show(sobimg)"
   ]
  },
  {
   "cell_type": "code",
   "execution_count": null,
   "metadata": {
    "podoc": {
     "output_text": "Interactive widget for a sketch effect"
    }
   },
   "outputs": [],
   "source": [
    "from ipywidgets import widgets\n",
    "\n",
    "@widgets.interact(x=(0.01, .2, .005))\n",
    "def edge(x):\n",
    "    show(sobimg < x)"
   ]
  },
  {
   "cell_type": "code",
   "execution_count": null,
   "metadata": {
    "podoc": {
     "output_text": "<matplotlib.figure.Figure at 0x7fc347573668>"
    }
   },
   "outputs": [],
   "source": [
    "img = skimage.img_as_float(skid.astronaut())\n",
    "\n",
    "# We take a portion of the image to show the details.\n",
    "img = img[50:200, 150:300]\n",
    "\n",
    "# We add Gaussian noise.\n",
    "img_n = sku.random_noise(img)\n",
    "show(img_n)"
   ]
  },
  {
   "cell_type": "code",
   "execution_count": null,
   "metadata": {
    "podoc": {
     "output_text": "<matplotlib.figure.Figure at 0x6e3a828>"
    }
   },
   "outputs": [],
   "source": [
    "img_r = skimage.restoration.denoise_tv_bregman(\n",
    "    img_n, 5.)\n",
    "\n",
    "fig, (ax1, ax2, ax3) = plt.subplots(\n",
    "    1, 3, figsize=(12, 8))\n",
    "\n",
    "ax1.imshow(img_n)\n",
    "ax1.set_title('With noise')\n",
    "ax1.set_axis_off()\n",
    "\n",
    "ax2.imshow(img_r)\n",
    "ax2.set_title('Denoised')\n",
    "ax2.set_axis_off()\n",
    "\n",
    "ax3.imshow(img)\n",
    "ax3.set_title('Original')\n",
    "ax3.set_axis_off()"
   ]
  }
 ],
 "metadata": {
  "kernelspec": {
   "display_name": "Python 3",
   "language": "python",
   "name": "python3"
  },
  "language_info": {
   "codemirror_mode": {
    "name": "ipython",
    "version": 3
   },
   "file_extension": ".py",
   "mimetype": "text/x-python",
   "name": "python",
   "nbconvert_exporter": "python",
   "pygments_lexer": "ipython3",
   "version": "3.6.8"
  }
 },
 "nbformat": 4,
 "nbformat_minor": 4
}

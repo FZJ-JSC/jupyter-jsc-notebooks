{
 "cells": [
  {
   "cell_type": "markdown",
   "metadata": {},
   "source": [
    "# 8.5. Using support vector machines for classification tasks"
   ]
  },
  {
   "cell_type": "code",
   "execution_count": null,
   "metadata": {},
   "outputs": [],
   "source": [
    "import numpy as np\n",
    "import pandas as pd\n",
    "import sklearn\n",
    "import sklearn.datasets as ds\n",
    "import sklearn.model_selection as ms\n",
    "import sklearn.svm as svm\n",
    "import matplotlib.pyplot as plt\n",
    "%matplotlib inline"
   ]
  },
  {
   "cell_type": "code",
   "execution_count": null,
   "metadata": {},
   "outputs": [],
   "source": [
    "X = np.random.randn(200, 2)\n",
    "y = X[:, 0] + X[:, 1] > 1"
   ]
  },
  {
   "cell_type": "code",
   "execution_count": null,
   "metadata": {},
   "outputs": [],
   "source": [
    "# We train the classifier.\n",
    "est = svm.LinearSVC()\n",
    "est.fit(X, y)"
   ]
  },
  {
   "cell_type": "code",
   "execution_count": null,
   "metadata": {},
   "outputs": [],
   "source": [
    "# We generate a grid in the square [-3,3 ]^2.\n",
    "xx, yy = np.meshgrid(np.linspace(-3, 3, 500),\n",
    "                     np.linspace(-3, 3, 500))\n",
    "\n",
    "# This function takes a SVM estimator as input.\n",
    "\n",
    "\n",
    "def plot_decision_function(est, title):\n",
    "    # We evaluate the decision function on the grid.\n",
    "    Z = est.decision_function(np.c_[xx.ravel(),\n",
    "                                    yy.ravel()])\n",
    "    Z = Z.reshape(xx.shape)\n",
    "    cmap = plt.cm.Blues\n",
    "\n",
    "    # We display the decision function on the grid.\n",
    "    fig, ax = plt.subplots(1, 1, figsize=(5, 5))\n",
    "    ax.imshow(Z,\n",
    "              extent=(xx.min(), xx.max(),\n",
    "                      yy.min(), yy.max()),\n",
    "              aspect='auto',\n",
    "              origin='lower',\n",
    "              cmap=cmap)\n",
    "\n",
    "    # We display the boundaries.\n",
    "    ax.contour(xx, yy, Z, levels=[0],\n",
    "               linewidths=2,\n",
    "               colors='k')\n",
    "\n",
    "    # We display the points with their true labels.\n",
    "    ax.scatter(X[:, 0], X[:, 1],\n",
    "               s=50, c=.5 + .5 * y,\n",
    "               edgecolors='k',\n",
    "               lw=1, cmap=cmap,\n",
    "               vmin=0, vmax=1)\n",
    "    ax.axhline(0, color='k', ls='--')\n",
    "    ax.axvline(0, color='k', ls='--')\n",
    "    ax.axis([-3, 3, -3, 3])\n",
    "    ax.set_axis_off()\n",
    "    ax.set_title(title)"
   ]
  },
  {
   "cell_type": "code",
   "execution_count": null,
   "metadata": {
    "podoc": {
     "output_text": "<matplotlib.figure.Figure at 0x93129e8>"
    }
   },
   "outputs": [],
   "source": [
    "ax = plot_decision_function(\n",
    "    est, \"Linearly separable, linear SVC\")"
   ]
  },
  {
   "cell_type": "code",
   "execution_count": null,
   "metadata": {
    "podoc": {
     "output_text": "<matplotlib.figure.Figure at 0x46a2ef0>"
    }
   },
   "outputs": [],
   "source": [
    "y = np.logical_xor(X[:, 0] > 0, X[:, 1] > 0)\n",
    "\n",
    "# We train the classifier.\n",
    "est = ms.GridSearchCV(svm.LinearSVC(),\n",
    "                      {'C': np.logspace(-3., 3., 10)})\n",
    "est.fit(X, y)\n",
    "print(\"Score: {0:.1f}\".format(\n",
    "      ms.cross_val_score(est, X, y).mean()))\n",
    "\n",
    "# We plot the decision function.\n",
    "ax = plot_decision_function(\n",
    "    est, \"XOR, linear SVC\")"
   ]
  },
  {
   "cell_type": "code",
   "execution_count": null,
   "metadata": {
    "podoc": {
     "output_text": "<matplotlib.figure.Figure at 0x5ad47f0>"
    }
   },
   "outputs": [],
   "source": [
    "y = np.logical_xor(X[:, 0] > 0, X[:, 1] > 0)\n",
    "\n",
    "est = ms.GridSearchCV(\n",
    "    svm.SVC(), {'C': np.logspace(-3., 3., 10),\n",
    "                'gamma': np.logspace(-3., 3., 10)})\n",
    "est.fit(X, y)\n",
    "print(\"Score: {0:.3f}\".format(\n",
    "      ms.cross_val_score(est, X, y).mean()))\n",
    "\n",
    "plot_decision_function(\n",
    "    est.best_estimator_, \"XOR, non-linear SVC\")"
   ]
  }
 ],
 "metadata": {
  "kernelspec": {
   "display_name": "Python 3",
   "language": "python",
   "name": "python3"
  },
  "language_info": {
   "codemirror_mode": {
    "name": "ipython",
    "version": 3
   },
   "file_extension": ".py",
   "mimetype": "text/x-python",
   "name": "python",
   "nbconvert_exporter": "python",
   "pygments_lexer": "ipython3",
   "version": "3.6.8"
  }
 },
 "nbformat": 4,
 "nbformat_minor": 4
}
